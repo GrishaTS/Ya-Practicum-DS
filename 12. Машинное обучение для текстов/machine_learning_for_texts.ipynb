{
 "cells": [
  {
   "cell_type": "markdown",
   "metadata": {},
   "source": [
    "# ПРОШУ ПРОВЕРИТЬ МОЙ ПРОЕКТ МАКСИМАЛЬНО СТРОГО"
   ]
  },
  {
   "cell_type": "markdown",
   "metadata": {},
   "source": [
    "_____\n",
    "_____\n",
    "## Описание проекта"
   ]
  },
  {
   "cell_type": "markdown",
   "metadata": {},
   "source": [
    "_____\n",
    "_____\n",
    "## Импорт и подготовка к работе"
   ]
  },
  {
   "cell_type": "code",
   "execution_count": 1,
   "metadata": {},
   "outputs": [],
   "source": [
    "# %%capture\n",
    "# %pip install pymystem3\n",
    "# %pip install spacy\n",
    "# %pip install --upgrade ipywidgets\n",
    "# %pip install transformers datasets scikit-learn torch"
   ]
  },
  {
   "cell_type": "code",
   "execution_count": 2,
   "metadata": {},
   "outputs": [],
   "source": [
    "import time\n",
    "import re\n",
    "import os\n",
    "import spacy\n",
    "import pandas as pd\n",
    "import spacy.cli\n",
    "from tqdm.notebook import tqdm\n",
    "from nltk.corpus import stopwords\n",
    "from sklearn.feature_extraction.text import TfidfVectorizer, CountVectorizer\n",
    "from sklearn.compose import ColumnTransformer\n",
    "from plotly import express as px, graph_objects as go\n",
    "import numpy as np\n",
    "from typing import Literal\n",
    "from sklearn.pipeline import Pipeline\n",
    "from pprint import pprint\n",
    "from optuna.visualization import plot_param_importances\n",
    "import plotly.graph_objects as go\n",
    "\n",
    "from sklearn.feature_selection import (\n",
    "    RFE,\n",
    "    SelectKBest,\n",
    "    mutual_info_regression\n",
    ")\n",
    "from sklearn.metrics import f1_score\n",
    "from lightgbm import LGBMClassifier\n",
    "from sklearn.ensemble import RandomForestClassifier\n",
    "from sklearn.linear_model import LogisticRegression, PassiveAggressiveClassifier\n",
    "from sklearn.base import clone\n",
    "from copy import deepcopy\n",
    "from sklearn.model_selection import cross_val_score, KFold\n",
    "import optuna\n",
    "from sklearn.dummy import DummyClassifier\n",
    "from sklearn.model_selection import train_test_split\n",
    "from itertools import cycle"
   ]
  },
  {
   "cell_type": "code",
   "execution_count": 3,
   "metadata": {},
   "outputs": [
    {
     "name": "stdout",
     "output_type": "stream",
     "text": [
      "\u001b[38;5;2m✔ Download and installation successful\u001b[0m\n",
      "You can now load the package via spacy.load('en_core_web_sm')\n",
      "\u001b[38;5;3m⚠ Restart to reload dependencies\u001b[0m\n",
      "If you are in a Jupyter or Colab notebook, you may need to restart Python in\n",
      "order to load all the package's dependencies. You can do this by selecting the\n",
      "'Restart kernel' or 'Restart runtime' option.\n"
     ]
    }
   ],
   "source": [
    "tqdm.pandas()\n",
    "spacy.cli.download('en_core_web_sm')\n",
    "RANDOM_STATE = 42\n",
    "optuna_sampler = optuna.samplers.TPESampler(seed=RANDOM_STATE)\n",
    "state = np.random.RandomState(RANDOM_STATE)\n",
    "cv = KFold(n_splits=5, shuffle=True, random_state=RANDOM_STATE)\n",
    "color_palette = cycle(px.colors.qualitative.Plotly)\n",
    "optuna_storage = 'sqlite:///optuna.db'\n",
    "stop_words = list(set(stopwords.words('english')))\n"
   ]
  },
  {
   "cell_type": "markdown",
   "metadata": {},
   "source": [
    "_____\n",
    "_____\n",
    "## Загрузка данных, общая информация и первичная обработка"
   ]
  },
  {
   "cell_type": "markdown",
   "metadata": {},
   "source": [
    "|Поле      |Описание                                       |\n",
    "|----------|-----------------------------------------------|\n",
    "|Unnamed: 0|Индекс                                         |\n",
    "|text      |Текст пользовательского комментария            |\n",
    "|toxic     |Метка токсичности комментария (0 — нет, 1 — да)|\n"
   ]
  },
  {
   "cell_type": "code",
   "execution_count": 4,
   "metadata": {},
   "outputs": [
    {
     "name": "stderr",
     "output_type": "stream",
     "text": [
      "C:\\Users\\bezgr\\AppData\\Local\\Temp\\ipykernel_6224\\579967484.py:4: UserWarning: Could not infer format, so each element will be parsed individually, falling back to `dateutil`. To ensure parsing is consistent and as-expected, please specify a format.\n",
      "  comments = pd.read_csv(path_1, delimiter=',', parse_dates=[0])\n"
     ]
    }
   ],
   "source": [
    "path_1 = 'toxic_comments.csv'\n",
    "path_2 = '/datasets/toxic_comments.csv'\n",
    "if os.path.exists(path_1):\n",
    "    comments = pd.read_csv(path_1, delimiter=',', parse_dates=[0])\n",
    "elif os.path.exists(path_2):\n",
    "    comments = pd.read_csv(path_2, delimiter=',', parse_dates=[0])\n",
    "else:\n",
    "    raise FileNotFoundError"
   ]
  },
  {
   "cell_type": "code",
   "execution_count": 5,
   "metadata": {},
   "outputs": [
    {
     "data": {
      "text/html": [
       "<div>\n",
       "<style scoped>\n",
       "    .dataframe tbody tr th:only-of-type {\n",
       "        vertical-align: middle;\n",
       "    }\n",
       "\n",
       "    .dataframe tbody tr th {\n",
       "        vertical-align: top;\n",
       "    }\n",
       "\n",
       "    .dataframe thead th {\n",
       "        text-align: right;\n",
       "    }\n",
       "</style>\n",
       "<table border=\"1\" class=\"dataframe\">\n",
       "  <thead>\n",
       "    <tr style=\"text-align: right;\">\n",
       "      <th></th>\n",
       "      <th>Unnamed: 0</th>\n",
       "      <th>text</th>\n",
       "      <th>toxic</th>\n",
       "    </tr>\n",
       "  </thead>\n",
       "  <tbody>\n",
       "    <tr>\n",
       "      <th>0</th>\n",
       "      <td>0</td>\n",
       "      <td>Explanation\\nWhy the edits made under my usern...</td>\n",
       "      <td>0</td>\n",
       "    </tr>\n",
       "    <tr>\n",
       "      <th>1</th>\n",
       "      <td>1</td>\n",
       "      <td>D'aww! He matches this background colour I'm s...</td>\n",
       "      <td>0</td>\n",
       "    </tr>\n",
       "    <tr>\n",
       "      <th>2</th>\n",
       "      <td>2</td>\n",
       "      <td>Hey man, I'm really not trying to edit war. It...</td>\n",
       "      <td>0</td>\n",
       "    </tr>\n",
       "    <tr>\n",
       "      <th>3</th>\n",
       "      <td>3</td>\n",
       "      <td>\"\\nMore\\nI can't make any real suggestions on ...</td>\n",
       "      <td>0</td>\n",
       "    </tr>\n",
       "    <tr>\n",
       "      <th>4</th>\n",
       "      <td>4</td>\n",
       "      <td>You, sir, are my hero. Any chance you remember...</td>\n",
       "      <td>0</td>\n",
       "    </tr>\n",
       "  </tbody>\n",
       "</table>\n",
       "</div>"
      ],
      "text/plain": [
       "  Unnamed: 0                                               text  toxic\n",
       "0          0  Explanation\\nWhy the edits made under my usern...      0\n",
       "1          1  D'aww! He matches this background colour I'm s...      0\n",
       "2          2  Hey man, I'm really not trying to edit war. It...      0\n",
       "3          3  \"\\nMore\\nI can't make any real suggestions on ...      0\n",
       "4          4  You, sir, are my hero. Any chance you remember...      0"
      ]
     },
     "metadata": {},
     "output_type": "display_data"
    },
    {
     "name": "stdout",
     "output_type": "stream",
     "text": [
      "<class 'pandas.core.frame.DataFrame'>\n",
      "RangeIndex: 159292 entries, 0 to 159291\n",
      "Data columns (total 3 columns):\n",
      " #   Column      Non-Null Count   Dtype \n",
      "---  ------      --------------   ----- \n",
      " 0   Unnamed: 0  159292 non-null  object\n",
      " 1   text        159292 non-null  object\n",
      " 2   toxic       159292 non-null  int64 \n",
      "dtypes: int64(1), object(2)\n",
      "memory usage: 3.6+ MB\n"
     ]
    }
   ],
   "source": [
    "display(comments.head())\n",
    "comments.info()"
   ]
  },
  {
   "cell_type": "markdown",
   "metadata": {},
   "source": [
    "_____\n",
    "### Вывод:"
   ]
  },
  {
   "cell_type": "markdown",
   "metadata": {},
   "source": [
    "- Таблица содержит тексты пользовательских комментариев и метки их токсичности.\n",
    "- Всего 159 292 строки.\n",
    "- Пропущенных значений нет.\n",
    "- 1 количественный признак: `toxic`.\n",
    "- 2 категориальных признака: `Unnamed: 0` и `text`.\n",
    "- Необходима предобработка текста"
   ]
  },
  {
   "cell_type": "markdown",
   "metadata": {},
   "source": [
    "_____\n",
    "_____\n",
    "## Предобработка данных"
   ]
  },
  {
   "cell_type": "markdown",
   "metadata": {},
   "source": [
    "_____\n",
    "### Переименовывание столбцов датафреймов"
   ]
  },
  {
   "cell_type": "markdown",
   "metadata": {},
   "source": [
    "*Удалим столбец `Unnamed: 0`, а также создадим словарь с переводом*"
   ]
  },
  {
   "cell_type": "code",
   "execution_count": 6,
   "metadata": {},
   "outputs": [],
   "source": [
    "comments = comments.drop('Unnamed: 0', axis=1)\n",
    "\n",
    "column_translation = {\n",
    "    'text': 'Текст комментария',\n",
    "    'toxic': 'Токсичность'\n",
    "}"
   ]
  },
  {
   "cell_type": "markdown",
   "metadata": {},
   "source": [
    "_____\n",
    "### Удаление дубликатов и опечаток"
   ]
  },
  {
   "cell_type": "code",
   "execution_count": 7,
   "metadata": {},
   "outputs": [
    {
     "name": "stdout",
     "output_type": "stream",
     "text": [
      "Кол-во дубликатов в comments: 0\n"
     ]
    }
   ],
   "source": [
    "print('Кол-во дубликатов в comments:',\n",
    "      comments.duplicated().sum() + comments.text.duplicated().sum())"
   ]
  },
  {
   "cell_type": "markdown",
   "metadata": {},
   "source": [
    "_____\n",
    "### Лемматизация текста"
   ]
  },
  {
   "cell_type": "code",
   "execution_count": 8,
   "metadata": {},
   "outputs": [],
   "source": [
    "RE_CLEAN = re.compile(r\"[^a-zA-Z ]\")\n",
    "nlp = spacy.load(\"en_core_web_sm\", disable=[\"parser\", \"ner\"])\n",
    "\n",
    "\n",
    "def clean_text(text: str) -> str:\n",
    "    \"\"\"Удаляет лишние символы, приводит к нижнему регистру и убирает лишние пробелы\"\"\"\n",
    "    return \" \".join(RE_CLEAN.sub(\" \", str(text).lower()).split())\n",
    "\n",
    "\n",
    "def lemmatize_corpus(texts: pd.Series) -> pd.Series:\n",
    "    \"\"\"Лемматизирует тексты с отображением прогресса\"\"\"\n",
    "    texts = texts.dropna().astype(str)\n",
    "    lemmatized = (\n",
    "        \" \".join(token.lemma_ for token in doc)\n",
    "        for doc in tqdm(\n",
    "            nlp.pipe(texts, batch_size=100, n_process=os.cpu_count()-1),\n",
    "            total=len(texts),\n",
    "            desc=\"Lemmatizing\"\n",
    "        )\n",
    "    )\n",
    "    return pd.Series(lemmatized, index=texts.index)"
   ]
  },
  {
   "cell_type": "code",
   "execution_count": 9,
   "metadata": {},
   "outputs": [],
   "source": [
    "path_csv = 'lemmatized_text.csv'\n",
    "if os.path.exists(path_csv):\n",
    "    comments = pd.read_csv(path_csv)\n",
    "else:\n",
    "    comments[\"cleared_text\"] = comments.text.apply(clean_text)\n",
    "    comments[\"lemmatized_text\"] = lemmatize_corpus(comments.cleared_text)\n",
    "    comments.drop('text', axis=1).to_csv(path_csv, index=False)"
   ]
  },
  {
   "cell_type": "code",
   "execution_count": 10,
   "metadata": {},
   "outputs": [
    {
     "data": {
      "text/html": [
       "<div>\n",
       "<style scoped>\n",
       "    .dataframe tbody tr th:only-of-type {\n",
       "        vertical-align: middle;\n",
       "    }\n",
       "\n",
       "    .dataframe tbody tr th {\n",
       "        vertical-align: top;\n",
       "    }\n",
       "\n",
       "    .dataframe thead th {\n",
       "        text-align: right;\n",
       "    }\n",
       "</style>\n",
       "<table border=\"1\" class=\"dataframe\">\n",
       "  <thead>\n",
       "    <tr style=\"text-align: right;\">\n",
       "      <th></th>\n",
       "      <th>toxic</th>\n",
       "      <th>cleared_text</th>\n",
       "      <th>lemmatized_text</th>\n",
       "    </tr>\n",
       "  </thead>\n",
       "  <tbody>\n",
       "    <tr>\n",
       "      <th>0</th>\n",
       "      <td>0</td>\n",
       "      <td>explanation why the edits made under my userna...</td>\n",
       "      <td>explanation why the edit make under my usernam...</td>\n",
       "    </tr>\n",
       "    <tr>\n",
       "      <th>1</th>\n",
       "      <td>0</td>\n",
       "      <td>d aww he matches this background colour i m se...</td>\n",
       "      <td>d aww he match this background colour I m seem...</td>\n",
       "    </tr>\n",
       "    <tr>\n",
       "      <th>2</th>\n",
       "      <td>0</td>\n",
       "      <td>hey man i m really not trying to edit war it s...</td>\n",
       "      <td>hey man I m really not try to edit war it s ju...</td>\n",
       "    </tr>\n",
       "    <tr>\n",
       "      <th>3</th>\n",
       "      <td>0</td>\n",
       "      <td>more i can t make any real suggestions on impr...</td>\n",
       "      <td>more I can t make any real suggestion on impro...</td>\n",
       "    </tr>\n",
       "    <tr>\n",
       "      <th>4</th>\n",
       "      <td>0</td>\n",
       "      <td>you sir are my hero any chance you remember wh...</td>\n",
       "      <td>you sir be my hero any chance you remember wha...</td>\n",
       "    </tr>\n",
       "    <tr>\n",
       "      <th>...</th>\n",
       "      <td>...</td>\n",
       "      <td>...</td>\n",
       "      <td>...</td>\n",
       "    </tr>\n",
       "    <tr>\n",
       "      <th>159287</th>\n",
       "      <td>0</td>\n",
       "      <td>and for the second time of asking when your vi...</td>\n",
       "      <td>and for the second time of ask when your view ...</td>\n",
       "    </tr>\n",
       "    <tr>\n",
       "      <th>159288</th>\n",
       "      <td>0</td>\n",
       "      <td>you should be ashamed of yourself that is a ho...</td>\n",
       "      <td>you should be ashamed of yourself that be a ho...</td>\n",
       "    </tr>\n",
       "    <tr>\n",
       "      <th>159289</th>\n",
       "      <td>0</td>\n",
       "      <td>spitzer umm theres no actual article for prost...</td>\n",
       "      <td>spitzer umm there s no actual article for pros...</td>\n",
       "    </tr>\n",
       "    <tr>\n",
       "      <th>159290</th>\n",
       "      <td>0</td>\n",
       "      <td>and it looks like it was actually you who put ...</td>\n",
       "      <td>and it look like it be actually you who put on...</td>\n",
       "    </tr>\n",
       "    <tr>\n",
       "      <th>159291</th>\n",
       "      <td>0</td>\n",
       "      <td>and i really don t think you understand i came...</td>\n",
       "      <td>and I really don t think you understand I come...</td>\n",
       "    </tr>\n",
       "  </tbody>\n",
       "</table>\n",
       "<p>159292 rows × 3 columns</p>\n",
       "</div>"
      ],
      "text/plain": [
       "        toxic                                       cleared_text  \\\n",
       "0           0  explanation why the edits made under my userna...   \n",
       "1           0  d aww he matches this background colour i m se...   \n",
       "2           0  hey man i m really not trying to edit war it s...   \n",
       "3           0  more i can t make any real suggestions on impr...   \n",
       "4           0  you sir are my hero any chance you remember wh...   \n",
       "...       ...                                                ...   \n",
       "159287      0  and for the second time of asking when your vi...   \n",
       "159288      0  you should be ashamed of yourself that is a ho...   \n",
       "159289      0  spitzer umm theres no actual article for prost...   \n",
       "159290      0  and it looks like it was actually you who put ...   \n",
       "159291      0  and i really don t think you understand i came...   \n",
       "\n",
       "                                          lemmatized_text  \n",
       "0       explanation why the edit make under my usernam...  \n",
       "1       d aww he match this background colour I m seem...  \n",
       "2       hey man I m really not try to edit war it s ju...  \n",
       "3       more I can t make any real suggestion on impro...  \n",
       "4       you sir be my hero any chance you remember wha...  \n",
       "...                                                   ...  \n",
       "159287  and for the second time of ask when your view ...  \n",
       "159288  you should be ashamed of yourself that be a ho...  \n",
       "159289  spitzer umm there s no actual article for pros...  \n",
       "159290  and it look like it be actually you who put on...  \n",
       "159291  and I really don t think you understand I come...  \n",
       "\n",
       "[159292 rows x 3 columns]"
      ]
     },
     "execution_count": 10,
     "metadata": {},
     "output_type": "execute_result"
    }
   ],
   "source": [
    "comments"
   ]
  },
  {
   "cell_type": "markdown",
   "metadata": {},
   "source": [
    "_____\n",
    "### Удаление пропущенных значений"
   ]
  },
  {
   "cell_type": "code",
   "execution_count": 11,
   "metadata": {},
   "outputs": [],
   "source": [
    "comments = comments[~comments.isna().any(axis=1)]"
   ]
  },
  {
   "cell_type": "code",
   "execution_count": 12,
   "metadata": {},
   "outputs": [
    {
     "data": {
      "text/html": [
       "<div>\n",
       "<style scoped>\n",
       "    .dataframe tbody tr th:only-of-type {\n",
       "        vertical-align: middle;\n",
       "    }\n",
       "\n",
       "    .dataframe tbody tr th {\n",
       "        vertical-align: top;\n",
       "    }\n",
       "\n",
       "    .dataframe thead th {\n",
       "        text-align: right;\n",
       "    }\n",
       "</style>\n",
       "<table border=\"1\" class=\"dataframe\">\n",
       "  <thead>\n",
       "    <tr style=\"text-align: right;\">\n",
       "      <th></th>\n",
       "      <th>toxic</th>\n",
       "      <th>cleared_text</th>\n",
       "      <th>lemmatized_text</th>\n",
       "    </tr>\n",
       "  </thead>\n",
       "  <tbody>\n",
       "    <tr>\n",
       "      <th>0</th>\n",
       "      <td>0</td>\n",
       "      <td>explanation why the edits made under my userna...</td>\n",
       "      <td>explanation why the edit make under my usernam...</td>\n",
       "    </tr>\n",
       "    <tr>\n",
       "      <th>1</th>\n",
       "      <td>0</td>\n",
       "      <td>d aww he matches this background colour i m se...</td>\n",
       "      <td>d aww he match this background colour I m seem...</td>\n",
       "    </tr>\n",
       "    <tr>\n",
       "      <th>2</th>\n",
       "      <td>0</td>\n",
       "      <td>hey man i m really not trying to edit war it s...</td>\n",
       "      <td>hey man I m really not try to edit war it s ju...</td>\n",
       "    </tr>\n",
       "    <tr>\n",
       "      <th>3</th>\n",
       "      <td>0</td>\n",
       "      <td>more i can t make any real suggestions on impr...</td>\n",
       "      <td>more I can t make any real suggestion on impro...</td>\n",
       "    </tr>\n",
       "    <tr>\n",
       "      <th>4</th>\n",
       "      <td>0</td>\n",
       "      <td>you sir are my hero any chance you remember wh...</td>\n",
       "      <td>you sir be my hero any chance you remember wha...</td>\n",
       "    </tr>\n",
       "    <tr>\n",
       "      <th>...</th>\n",
       "      <td>...</td>\n",
       "      <td>...</td>\n",
       "      <td>...</td>\n",
       "    </tr>\n",
       "    <tr>\n",
       "      <th>159287</th>\n",
       "      <td>0</td>\n",
       "      <td>and for the second time of asking when your vi...</td>\n",
       "      <td>and for the second time of ask when your view ...</td>\n",
       "    </tr>\n",
       "    <tr>\n",
       "      <th>159288</th>\n",
       "      <td>0</td>\n",
       "      <td>you should be ashamed of yourself that is a ho...</td>\n",
       "      <td>you should be ashamed of yourself that be a ho...</td>\n",
       "    </tr>\n",
       "    <tr>\n",
       "      <th>159289</th>\n",
       "      <td>0</td>\n",
       "      <td>spitzer umm theres no actual article for prost...</td>\n",
       "      <td>spitzer umm there s no actual article for pros...</td>\n",
       "    </tr>\n",
       "    <tr>\n",
       "      <th>159290</th>\n",
       "      <td>0</td>\n",
       "      <td>and it looks like it was actually you who put ...</td>\n",
       "      <td>and it look like it be actually you who put on...</td>\n",
       "    </tr>\n",
       "    <tr>\n",
       "      <th>159291</th>\n",
       "      <td>0</td>\n",
       "      <td>and i really don t think you understand i came...</td>\n",
       "      <td>and I really don t think you understand I come...</td>\n",
       "    </tr>\n",
       "  </tbody>\n",
       "</table>\n",
       "<p>159281 rows × 3 columns</p>\n",
       "</div>"
      ],
      "text/plain": [
       "        toxic                                       cleared_text  \\\n",
       "0           0  explanation why the edits made under my userna...   \n",
       "1           0  d aww he matches this background colour i m se...   \n",
       "2           0  hey man i m really not trying to edit war it s...   \n",
       "3           0  more i can t make any real suggestions on impr...   \n",
       "4           0  you sir are my hero any chance you remember wh...   \n",
       "...       ...                                                ...   \n",
       "159287      0  and for the second time of asking when your vi...   \n",
       "159288      0  you should be ashamed of yourself that is a ho...   \n",
       "159289      0  spitzer umm theres no actual article for prost...   \n",
       "159290      0  and it looks like it was actually you who put ...   \n",
       "159291      0  and i really don t think you understand i came...   \n",
       "\n",
       "                                          lemmatized_text  \n",
       "0       explanation why the edit make under my usernam...  \n",
       "1       d aww he match this background colour I m seem...  \n",
       "2       hey man I m really not try to edit war it s ju...  \n",
       "3       more I can t make any real suggestion on impro...  \n",
       "4       you sir be my hero any chance you remember wha...  \n",
       "...                                                   ...  \n",
       "159287  and for the second time of ask when your view ...  \n",
       "159288  you should be ashamed of yourself that be a ho...  \n",
       "159289  spitzer umm there s no actual article for pros...  \n",
       "159290  and it look like it be actually you who put on...  \n",
       "159291  and I really don t think you understand I come...  \n",
       "\n",
       "[159281 rows x 3 columns]"
      ]
     },
     "execution_count": 12,
     "metadata": {},
     "output_type": "execute_result"
    }
   ],
   "source": [
    "comments"
   ]
  },
  {
   "cell_type": "markdown",
   "metadata": {},
   "source": [
    "_____\n",
    "### Вывод:"
   ]
  },
  {
   "cell_type": "markdown",
   "metadata": {},
   "source": [
    "_____\n",
    "_____\n",
    "## Модели"
   ]
  },
  {
   "cell_type": "markdown",
   "metadata": {},
   "source": [
    "_____\n",
    "### Оценка моделей"
   ]
  },
  {
   "cell_type": "code",
   "execution_count": 13,
   "metadata": {},
   "outputs": [],
   "source": [
    "def trial_duration_performance(*studies: optuna.Study, model_names: list[str], score_name='F1', greater_is_better=True):\n",
    "    \"\"\"\n",
    "    Визуализация зависимости качества модели от времени выполнения трейла для нескольких optuna.Study.\n",
    "\n",
    "    Parameters\n",
    "    ----------\n",
    "    *studies : optuna.Study\n",
    "        Одно или несколько исследований Optuna.\n",
    "    \n",
    "    model_names : list of str\n",
    "        Имена моделей, соответствующие каждому исследованию.\n",
    "\n",
    "    score_name : str\n",
    "        Название метрики (для подписи оси Y).\n",
    "    \n",
    "    greater_is_better : bool\n",
    "        True — если максимизация метрики, False — если минимизация.\n",
    "    \"\"\"\n",
    "    fig = go.Figure()\n",
    "\n",
    "    for i, study in enumerate(studies):\n",
    "        color = color_palette.__next__()\n",
    "        df = study.trials_dataframe()\n",
    "        df = df[df.value.notnull()].copy()\n",
    "        df['duration_sec'] = df['duration'].dt.total_seconds()\n",
    "        df = df.sort_values(by=['duration_sec', 'value'], ascending=[True, False])\n",
    "\n",
    "        fig.add_trace(go.Scatter(\n",
    "            x=df['duration_sec'],\n",
    "            y=df['value'],\n",
    "            mode='markers',\n",
    "            marker=dict(color=color, opacity=0.5, size=10),\n",
    "            name=model_names[i],\n",
    "            legendgroup=str(i),\n",
    "            legendgrouptitle=dict(text=model_names[i])\n",
    "        ))\n",
    "\n",
    "        best_idx = df['value'].idxmax() if greater_is_better else df['value'].idxmin()\n",
    "        best_point = df.loc[best_idx]\n",
    "\n",
    "        fig.add_trace(go.Scatter(\n",
    "            x=[best_point['duration_sec']],\n",
    "            y=[best_point['value']],\n",
    "            mode='markers',\n",
    "            marker=dict(color=color, size=10, line=dict(color='black', width=2)),\n",
    "            showlegend=False,\n",
    "            name=f'Лучшее: {model_names[i]}',\n",
    "            legendgroup=str(i),\n",
    "        ))\n",
    "\n",
    "    fig.update_layout(\n",
    "        title_text=f'{score_name} в зависимости от времени трейла',\n",
    "        xaxis_title='Время выполнения трейла (сек)',\n",
    "        yaxis_title=score_name,\n",
    "        showlegend=True,\n",
    "        template='plotly_white'\n",
    "    )\n",
    "    fig.show()\n",
    "\n",
    "\n",
    "def trial_score_distribution(*studies: optuna.Study, model_names: list[str], score_name='F1'):\n",
    "    \"\"\"\n",
    "    Визуализация распределения значений метрик для нескольких optuna.Study.\n",
    "\n",
    "    Parameters\n",
    "    ----------\n",
    "    *studies : optuna.Study\n",
    "        Одно или несколько исследований Optuna.\n",
    "    \n",
    "    model_names : list of str\n",
    "        Имена моделей, соответствующие каждому исследованию.\n",
    "\n",
    "    score_name : str\n",
    "        Название метрики (для подписи оси Y).\n",
    "    \"\"\"\n",
    "    fig = go.Figure()\n",
    "\n",
    "    for i, study in enumerate(studies):\n",
    "        color = color_palette.__next__()\n",
    "        df = study.trials_dataframe()\n",
    "        df = df[df.value.notnull()].copy()\n",
    "\n",
    "        fig.add_trace(go.Histogram(\n",
    "            x=df['value'],\n",
    "            name=model_names[i],\n",
    "            marker_color=color,\n",
    "            opacity=0.6,\n",
    "            legendgroup=str(i),\n",
    "            legendgrouptitle=dict(text=model_names[i])\n",
    "        ))\n",
    "\n",
    "    fig.update_layout(\n",
    "        title_text=f'Распределение значений метрики {score_name}',\n",
    "        xaxis_title=score_name,\n",
    "        yaxis_title='Количество трейлов',\n",
    "        barmode='overlay',\n",
    "        template='plotly_white',\n",
    "        showlegend=True\n",
    "    )\n",
    "    fig.show()\n"
   ]
  },
  {
   "cell_type": "markdown",
   "metadata": {},
   "source": [
    "_____\n",
    "### Пайплайн"
   ]
  },
  {
   "cell_type": "code",
   "execution_count": 14,
   "metadata": {},
   "outputs": [],
   "source": [
    "def get_pipepline(lemm_column: str,\n",
    "                  feature_selection: Literal['RFE', 'SelectKBest', None] = None) -> Pipeline:\n",
    "    \"\"\"\n",
    "    Функция для создания пайплайна классификации с различными методами предварительной обработки данных и опциональными методами отбора признаков.\n",
    "    \n",
    "    В зависимости от выбранного метода отбора признаков (RFE или SelectKBest) и предоставленных данных, функция создает пайплайн,\n",
    "    который выполняет предварительную обработку числовых и категориальных данных, а также может включать этап отбора признаков.\n",
    "\n",
    "    Parameters\n",
    "    ----------\n",
    "    columns : list of str\n",
    "        Список названий признаков.\n",
    "\n",
    "    feature_selection : {'RFE', 'SelectKBest', None}, по умолчанию None\n",
    "        Метод отбора признаков, который будет использоваться в пайплайне:\n",
    "        - 'RFE' — применяет рекурсивный отбор признаков (RFE).\n",
    "        - 'SelectKBest' — применяет метод выбора K лучших признаков с использованием статистики mutual_info_regression или f_classif.\n",
    "        - None — без отбора признаков.\n",
    "\n",
    "    Returns\n",
    "    -------\n",
    "    Pipeline\n",
    "        Возвращает объект `Pipeline`, который включает в себя этапы предварительной обработки и, опционально, этап отбора признаков.\n",
    "    \"\"\"\n",
    "    preprocessor = ColumnTransformer(\n",
    "        [('vectorizer', 'passthrough', lemm_column)],\n",
    "        verbose_feature_names_out=True,\n",
    "    )\n",
    "    if feature_selection == 'RFE':\n",
    "        model = RFE(estimator=DummyClassifier(),\n",
    "                    step=1,\n",
    "                    verbose=0)\n",
    "        return Pipeline(\n",
    "            steps=[\n",
    "                ('preprocessor', preprocessor),\n",
    "                ('model', model)\n",
    "            ]\n",
    "        )\n",
    "    elif feature_selection == 'SelectKBest':\n",
    "        return Pipeline(\n",
    "            steps=[\n",
    "                ('preprocessor', preprocessor),\n",
    "                ('feature_selection', SelectKBest(\n",
    "                    score_func=mutual_info_regression\n",
    "                )),\n",
    "                ('model', DummyClassifier())\n",
    "            ]\n",
    "        )\n",
    "    else:\n",
    "        return Pipeline(\n",
    "            steps=[\n",
    "                ('preprocessor', preprocessor),\n",
    "                ('model', DummyClassifier())\n",
    "            ]\n",
    "        )"
   ]
  },
  {
   "cell_type": "markdown",
   "metadata": {},
   "source": [
    "_____\n",
    "### Датасеты"
   ]
  },
  {
   "cell_type": "code",
   "execution_count": 15,
   "metadata": {},
   "outputs": [],
   "source": [
    "X = comments[['lemmatized_text']]\n",
    "y = comments.toxic\n",
    "X_train, X_test, y_train, y_test = train_test_split(X, y, random_state=RANDOM_STATE, stratify=y)\n",
    "X_test, X_val, y_test, y_val = train_test_split(X_test, y_test, random_state=RANDOM_STATE, stratify=y_test)"
   ]
  },
  {
   "cell_type": "markdown",
   "metadata": {},
   "source": [
    "_____\n",
    "### Перебор гиперпараметров через optuna"
   ]
  },
  {
   "cell_type": "markdown",
   "metadata": {},
   "source": [
    "*Перебираемые параметры*"
   ]
  },
  {
   "cell_type": "code",
   "execution_count": 16,
   "metadata": {},
   "outputs": [],
   "source": [
    "preprocessor_params = {\n",
    "    'preprocessor__vectorizer':\n",
    "        [CountVectorizer(stop_words=list(stop_words), dtype=np.float32),\n",
    "         TfidfVectorizer(stop_words = list(stop_words), dtype=np.float32)]\n",
    "}\n",
    "model_params_cat = {}\n",
    "model_params_num = {}\n",
    "pipeline = None"
   ]
  },
  {
   "cell_type": "markdown",
   "metadata": {},
   "source": [
    "*Функция для умного перебора гиперпарметров через optuna*"
   ]
  },
  {
   "cell_type": "code",
   "execution_count": 17,
   "metadata": {},
   "outputs": [],
   "source": [
    "def get_named_params(best_params):\n",
    "    cat_params = {**preprocessor_params, **model_params_cat}\n",
    "    return {\n",
    "        param: cat_params[param][best_params[param]] if param in cat_params\n",
    "               else best_params[param]\n",
    "        for param in best_params\n",
    "    }\n",
    "\n",
    "\n",
    "def objective_reg(trial : optuna.trial.Trial) -> float:\n",
    "    \"\"\"\n",
    "    Целевая функция для оптимизации гиперпараметров с использованием библиотеки Optuna.\n",
    "    В этой функции выполняется настройка и обучение модели с использованием предложенных значений гиперпараметров,\n",
    "    а затем оценивается её точность на валидационной выборке.\n",
    "\n",
    "    Parameters\n",
    "    ----------\n",
    "    trial : optuna.trial.Trial\n",
    "        Экземпляр объекта `Trial` из библиотеки Optuna, который используется для выбора гиперпараметров.\n",
    "\n",
    "    Returns\n",
    "    -------\n",
    "    float\n",
    "        Оценка модели (например, точность) на валидационной выборке. Если возникает ошибка, пробный эксперимент прерывается.\n",
    "    \"\"\"\n",
    "    categorical_params = {**deepcopy(preprocessor_params), **deepcopy(model_params_cat)}\n",
    "    params_cat = {\n",
    "        param_name: categorical_params[param_name][trial.suggest_categorical(param_name, range(0, len(categorical_params[param_name])))]\n",
    "        for param_name in categorical_params\n",
    "    }\n",
    "    params_num = {param_name: model_params_num[param_name](trial) for param_name in model_params_num}\n",
    "    pipeline_temp:Pipeline = clone(pipeline)\n",
    "    pipeline_temp.set_params(**params_cat, **params_num)\n",
    "    score = cross_val_score(pipeline_temp, X_train, y_train, cv=cv, scoring='f1', n_jobs=5).mean()\n",
    "    trial.report(score, step=1)\n",
    "    if trial.should_prune():\n",
    "        raise optuna.exceptions.TrialPruned()\n",
    "    return score"
   ]
  },
  {
   "cell_type": "markdown",
   "metadata": {},
   "source": [
    "❗️Примечание - поиск гиперпараметров работает с [чекпоинтами](https://github.com/GrishaTS/Ya-Practicum-DS/blob/main/10.%20%D0%A7%D0%B8%D1%81%D0%BB%D0%B5%D0%BD%D0%BD%D1%8B%D0%B5%20%D0%BC%D0%B5%D1%82%D0%BE%D0%B4%D1%8B/optuna.db). Можно скачать и не тратить время на повторное обучение."
   ]
  },
  {
   "cell_type": "code",
   "execution_count": 18,
   "metadata": {},
   "outputs": [],
   "source": [
    "# response = requests.get(\n",
    "#     'https://github.com/GrishaTS/Ya-Practicum-DS/raw/main/10.%20Численные%20методы/optuna.db',\n",
    "#     stream=True\n",
    "# )\n",
    "# if response.status_code == 200:\n",
    "#     with open('optuna.db', 'wb') as f:\n",
    "#         for chunk in response.iter_content(1024):\n",
    "#             f.write(chunk)\n",
    "#     print('Файл успешно скачан: optuna.db')\n",
    "# else:\n",
    "#     print('Ошибка загрузки:', response.status_code)\n"
   ]
  },
  {
   "cell_type": "code",
   "execution_count": 19,
   "metadata": {},
   "outputs": [],
   "source": [
    "def get_trained_optuna_study(study_name, restudy=False, direction='minimize', n_trials=100):\n",
    "    \"\"\"\n",
    "    Создаёт или загружает существующее исследование Optuna для оптимизации гиперпараметров.\n",
    "\n",
    "    Функция загружает существующее исследование Optuna по заданному имени, если оно уже создано.\n",
    "    Если параметр `restudy=True`, удаляет предыдущее исследование и создаёт новое.\n",
    "    При создании нового исследования выполняется оптимизация заданной целевой функции.\n",
    "\n",
    "    Parameters\n",
    "    ----------\n",
    "    study_name : str\n",
    "        Имя исследования в Optuna.\n",
    "    restudy : bool, optional, default=False\n",
    "        Если `True`, удаляет существующее исследование с таким же именем перед созданием нового.\n",
    "    direction : {'minimize', 'maximize'}, optional, default='minimize'\n",
    "        Направление оптимизации: `minimize` для минимизации функции потерь, `maximize` для её максимизации.\n",
    "    n_trials : int, optional, default=100\n",
    "        Количество итераций (экспериментов) для оптимизации гиперпараметров.\n",
    "\n",
    "    Returns\n",
    "    -------\n",
    "    optuna.study.Study\n",
    "        Объект `Study`, содержащий результаты оптимизации гиперпараметров.\n",
    "    \"\"\"\n",
    "    study_names = optuna.study.get_all_study_names(storage=optuna_storage)\n",
    "    if study_name in study_names and not restudy:\n",
    "        study = optuna.load_study(storage=optuna_storage, study_name=study_name)\n",
    "    else:\n",
    "        if study_name in study_names:\n",
    "            optuna.delete_study(study_name=study_name, storage=optuna_storage)\n",
    "        study = optuna.create_study(study_name=study_name, direction=direction, sampler=optuna_sampler, storage=optuna_storage)\n",
    "        study.optimize(objective_reg, n_trials=n_trials, show_progress_bar=True)\n",
    "    return study"
   ]
  },
  {
   "cell_type": "markdown",
   "metadata": {},
   "source": [
    "_____\n",
    "### <a id='toc1_7_5_'></a>[LogisticRegression](#toc0_)"
   ]
  },
  {
   "cell_type": "code",
   "execution_count": 20,
   "metadata": {},
   "outputs": [],
   "source": [
    "pipeline = get_pipepline(\n",
    "    lemm_column=X.columns[0],\n",
    ")\n",
    "model_params_cat = {\n",
    "    'model': [LogisticRegression(n_jobs=2)],\n",
    "    'preprocessor__vectorizer__ngram_range': [(1, 1), (1, 2)],\n",
    "}\n",
    "model_params_num = {\n",
    "    'model__C': lambda trial: trial.suggest_float('model__C', 0.1, 10, log=True),\n",
    "    'model__max_iter': lambda trial: trial.suggest_int('model__max_iter', 100, 300, step=50),\n",
    "}"
   ]
  },
  {
   "cell_type": "code",
   "execution_count": 21,
   "metadata": {},
   "outputs": [],
   "source": [
    "study_logreg = get_trained_optuna_study('logreg', restudy=False, direction='maximize')"
   ]
  },
  {
   "cell_type": "code",
   "execution_count": 22,
   "metadata": {},
   "outputs": [
    {
     "name": "stdout",
     "output_type": "stream",
     "text": [
      "Best cross-val f1: 0.779\n",
      "\n",
      "Best parameters:\n",
      "{'model': LogisticRegression(n_jobs=2),\n",
      " 'model__C': 9.986424465040107,\n",
      " 'model__max_iter': 200,\n",
      " 'preprocessor__vectorizer': CountVectorizer(dtype=<class 'numpy.float32'>,\n",
      "                stop_words=['being', 'above', 'of', 'his', 'your', 'we',\n",
      "                            'these', \"she'll\", 'are', 'o', 'i', 'a', 'ma',\n",
      "                            'most', 'has', 'isn', 'yours', 'which', 'yourself',\n",
      "                            \"you're\", \"i'd\", 'from', 'aren', 'then', 'who',\n",
      "                            \"it'll\", 'ain', 'been', 'because', \"wasn't\", ...]),\n",
      " 'preprocessor__vectorizer__ngram_range': (1, 2)}\n"
     ]
    }
   ],
   "source": [
    "print(f'Best cross-val f1: {study_logreg.best_value:.3f}')\n",
    "best_params_logreg = get_named_params(study_logreg.best_params)\n",
    "print('\\nBest parameters:')\n",
    "pprint(best_params_logreg)"
   ]
  },
  {
   "cell_type": "code",
   "execution_count": 23,
   "metadata": {},
   "outputs": [
    {
     "data": {
      "application/vnd.plotly.v1+json": {
       "config": {
        "plotlyServerURL": "https://plot.ly"
       },
       "data": [
        {
         "legendgroup": "0",
         "legendgrouptitle": {
          "text": "LogisticRegression"
         },
         "marker": {
          "color": "#636EFA",
          "opacity": 0.5,
          "size": 10
         },
         "mode": "markers",
         "name": "LogisticRegression",
         "type": "scatter",
         "x": [
          9.222311,
          10.427591,
          11.496395,
          11.629463,
          13.481328,
          13.972964,
          13.98251,
          14.038337,
          14.53189,
          14.596514,
          15.82918,
          16.172671,
          19.660354,
          38.603102,
          41.587051,
          41.727084,
          50.716995,
          65.330639,
          72.678341,
          73.38344,
          92.811902,
          97.915112,
          100.699817,
          101.27816,
          101.899723,
          102.000888,
          102.656822,
          102.725456,
          103.597697,
          104.461099,
          109.593447,
          119.069301,
          122.026115,
          124.622235,
          126.351127,
          126.549447,
          126.904114,
          127.218933,
          127.645894,
          127.649928,
          127.664562,
          127.856305,
          127.88303,
          128.026641,
          128.172088,
          128.201326,
          128.257361,
          128.394323,
          128.660594,
          128.831098,
          129.000453,
          129.185219,
          129.19483,
          129.202431,
          129.208754,
          129.358519,
          129.397699,
          129.521835,
          130.042163,
          130.167744,
          130.176778,
          130.28451,
          130.302211,
          130.636824,
          130.739924,
          130.747074,
          131.084404,
          131.178926,
          132.28907,
          150.635156,
          150.663937,
          152.303243,
          152.686959,
          153.580273,
          153.855007,
          154.075779,
          154.229964,
          154.609094,
          154.625895,
          155.380701,
          155.816993,
          155.843363,
          156.066459,
          156.32223,
          156.428059,
          157.105459,
          157.241215,
          157.245896,
          158.048169,
          158.086689,
          160.232783,
          162.012176,
          168.204454,
          169.194915,
          177.238297,
          177.649045,
          179.147992,
          181.697897,
          181.97921,
          192.174731
         ],
         "y": [
          0.6034829717910583,
          0.7665700087235139,
          0.7467837453141403,
          0.7629571968178905,
          0.7278850429300396,
          0.7674929779700916,
          0.7699732501207917,
          0.770044843973493,
          0.7734076872800937,
          0.7696129345818982,
          0.7705920409248532,
          0.7710452300693527,
          0.7696715822699087,
          0.3700927411617613,
          0.36090041071601975,
          0.3933795489819531,
          0.6104695965081471,
          0.7254760088086394,
          0.773916745271886,
          0.7765087205706174,
          0.7708546610334325,
          0.7696832320292982,
          0.7758571230805011,
          0.7643639671560832,
          0.7773191056290493,
          0.7468163912704098,
          0.7770453253051988,
          0.7709293159789976,
          0.7761527290487988,
          0.72916215551417,
          0.7665353985999367,
          0.7501502555596101,
          0.7190484352255304,
          0.7528746893415292,
          0.7778620595705029,
          0.7662869487953246,
          0.776707786148013,
          0.7733872787998227,
          0.7782329637949068,
          0.7602453378835567,
          0.7772552113764766,
          0.7778461015102243,
          0.7762258998750712,
          0.7787252610739466,
          0.7781297847406148,
          0.7775104769357756,
          0.7790095313056877,
          0.7776099099492312,
          0.7771077425707112,
          0.7780557494631741,
          0.7764654294777198,
          0.7774440617079035,
          0.7789599076964129,
          0.7785449173785316,
          0.7772816288963655,
          0.7767297900523805,
          0.7782950701899082,
          0.7766066023221072,
          0.776850674720262,
          0.777450178334852,
          0.7764334935872996,
          0.7773815623993616,
          0.776488625117574,
          0.776952302575187,
          0.7749943956843695,
          0.7767813160830348,
          0.7768310810982492,
          0.7776511568135817,
          0.7751827541344772,
          0.7726098379099079,
          0.7764762946897317,
          0.77686512081473,
          0.744660133365645,
          0.7760554617911763,
          0.7780320991468062,
          0.7776750154945865,
          0.7772502936649478,
          0.7743501909939766,
          0.7750530897105821,
          0.7753338105418942,
          0.7760532425005751,
          0.7666383193653941,
          0.7779127246426727,
          0.7763409586885582,
          0.7732638475856833,
          0.7765972941806629,
          0.777871165474114,
          0.7776007228115532,
          0.776661777184267,
          0.7753938943592796,
          0.7759381832815869,
          0.7750045412903528,
          0.7759780482907516,
          0.7592948480300176,
          0.7700959325642783,
          0.7744178131470056,
          0.7740165874742556,
          0.7737002679559868,
          0.7760860435896227,
          0.7768942552543717
         ]
        },
        {
         "legendgroup": "0",
         "marker": {
          "color": "#636EFA",
          "line": {
           "color": "black",
           "width": 2
          },
          "size": 10
         },
         "mode": "markers",
         "name": "Лучшее: LogisticRegression",
         "showlegend": false,
         "type": "scatter",
         "x": [
          128.257361
         ],
         "y": [
          0.7790095313056877
         ]
        }
       ],
       "layout": {
        "showlegend": true,
        "template": {
         "data": {
          "bar": [
           {
            "error_x": {
             "color": "#2a3f5f"
            },
            "error_y": {
             "color": "#2a3f5f"
            },
            "marker": {
             "line": {
              "color": "white",
              "width": 0.5
             },
             "pattern": {
              "fillmode": "overlay",
              "size": 10,
              "solidity": 0.2
             }
            },
            "type": "bar"
           }
          ],
          "barpolar": [
           {
            "marker": {
             "line": {
              "color": "white",
              "width": 0.5
             },
             "pattern": {
              "fillmode": "overlay",
              "size": 10,
              "solidity": 0.2
             }
            },
            "type": "barpolar"
           }
          ],
          "carpet": [
           {
            "aaxis": {
             "endlinecolor": "#2a3f5f",
             "gridcolor": "#C8D4E3",
             "linecolor": "#C8D4E3",
             "minorgridcolor": "#C8D4E3",
             "startlinecolor": "#2a3f5f"
            },
            "baxis": {
             "endlinecolor": "#2a3f5f",
             "gridcolor": "#C8D4E3",
             "linecolor": "#C8D4E3",
             "minorgridcolor": "#C8D4E3",
             "startlinecolor": "#2a3f5f"
            },
            "type": "carpet"
           }
          ],
          "choropleth": [
           {
            "colorbar": {
             "outlinewidth": 0,
             "ticks": ""
            },
            "type": "choropleth"
           }
          ],
          "contour": [
           {
            "colorbar": {
             "outlinewidth": 0,
             "ticks": ""
            },
            "colorscale": [
             [
              0,
              "#0d0887"
             ],
             [
              0.1111111111111111,
              "#46039f"
             ],
             [
              0.2222222222222222,
              "#7201a8"
             ],
             [
              0.3333333333333333,
              "#9c179e"
             ],
             [
              0.4444444444444444,
              "#bd3786"
             ],
             [
              0.5555555555555556,
              "#d8576b"
             ],
             [
              0.6666666666666666,
              "#ed7953"
             ],
             [
              0.7777777777777778,
              "#fb9f3a"
             ],
             [
              0.8888888888888888,
              "#fdca26"
             ],
             [
              1,
              "#f0f921"
             ]
            ],
            "type": "contour"
           }
          ],
          "contourcarpet": [
           {
            "colorbar": {
             "outlinewidth": 0,
             "ticks": ""
            },
            "type": "contourcarpet"
           }
          ],
          "heatmap": [
           {
            "colorbar": {
             "outlinewidth": 0,
             "ticks": ""
            },
            "colorscale": [
             [
              0,
              "#0d0887"
             ],
             [
              0.1111111111111111,
              "#46039f"
             ],
             [
              0.2222222222222222,
              "#7201a8"
             ],
             [
              0.3333333333333333,
              "#9c179e"
             ],
             [
              0.4444444444444444,
              "#bd3786"
             ],
             [
              0.5555555555555556,
              "#d8576b"
             ],
             [
              0.6666666666666666,
              "#ed7953"
             ],
             [
              0.7777777777777778,
              "#fb9f3a"
             ],
             [
              0.8888888888888888,
              "#fdca26"
             ],
             [
              1,
              "#f0f921"
             ]
            ],
            "type": "heatmap"
           }
          ],
          "heatmapgl": [
           {
            "colorbar": {
             "outlinewidth": 0,
             "ticks": ""
            },
            "colorscale": [
             [
              0,
              "#0d0887"
             ],
             [
              0.1111111111111111,
              "#46039f"
             ],
             [
              0.2222222222222222,
              "#7201a8"
             ],
             [
              0.3333333333333333,
              "#9c179e"
             ],
             [
              0.4444444444444444,
              "#bd3786"
             ],
             [
              0.5555555555555556,
              "#d8576b"
             ],
             [
              0.6666666666666666,
              "#ed7953"
             ],
             [
              0.7777777777777778,
              "#fb9f3a"
             ],
             [
              0.8888888888888888,
              "#fdca26"
             ],
             [
              1,
              "#f0f921"
             ]
            ],
            "type": "heatmapgl"
           }
          ],
          "histogram": [
           {
            "marker": {
             "pattern": {
              "fillmode": "overlay",
              "size": 10,
              "solidity": 0.2
             }
            },
            "type": "histogram"
           }
          ],
          "histogram2d": [
           {
            "colorbar": {
             "outlinewidth": 0,
             "ticks": ""
            },
            "colorscale": [
             [
              0,
              "#0d0887"
             ],
             [
              0.1111111111111111,
              "#46039f"
             ],
             [
              0.2222222222222222,
              "#7201a8"
             ],
             [
              0.3333333333333333,
              "#9c179e"
             ],
             [
              0.4444444444444444,
              "#bd3786"
             ],
             [
              0.5555555555555556,
              "#d8576b"
             ],
             [
              0.6666666666666666,
              "#ed7953"
             ],
             [
              0.7777777777777778,
              "#fb9f3a"
             ],
             [
              0.8888888888888888,
              "#fdca26"
             ],
             [
              1,
              "#f0f921"
             ]
            ],
            "type": "histogram2d"
           }
          ],
          "histogram2dcontour": [
           {
            "colorbar": {
             "outlinewidth": 0,
             "ticks": ""
            },
            "colorscale": [
             [
              0,
              "#0d0887"
             ],
             [
              0.1111111111111111,
              "#46039f"
             ],
             [
              0.2222222222222222,
              "#7201a8"
             ],
             [
              0.3333333333333333,
              "#9c179e"
             ],
             [
              0.4444444444444444,
              "#bd3786"
             ],
             [
              0.5555555555555556,
              "#d8576b"
             ],
             [
              0.6666666666666666,
              "#ed7953"
             ],
             [
              0.7777777777777778,
              "#fb9f3a"
             ],
             [
              0.8888888888888888,
              "#fdca26"
             ],
             [
              1,
              "#f0f921"
             ]
            ],
            "type": "histogram2dcontour"
           }
          ],
          "mesh3d": [
           {
            "colorbar": {
             "outlinewidth": 0,
             "ticks": ""
            },
            "type": "mesh3d"
           }
          ],
          "parcoords": [
           {
            "line": {
             "colorbar": {
              "outlinewidth": 0,
              "ticks": ""
             }
            },
            "type": "parcoords"
           }
          ],
          "pie": [
           {
            "automargin": true,
            "type": "pie"
           }
          ],
          "scatter": [
           {
            "fillpattern": {
             "fillmode": "overlay",
             "size": 10,
             "solidity": 0.2
            },
            "type": "scatter"
           }
          ],
          "scatter3d": [
           {
            "line": {
             "colorbar": {
              "outlinewidth": 0,
              "ticks": ""
             }
            },
            "marker": {
             "colorbar": {
              "outlinewidth": 0,
              "ticks": ""
             }
            },
            "type": "scatter3d"
           }
          ],
          "scattercarpet": [
           {
            "marker": {
             "colorbar": {
              "outlinewidth": 0,
              "ticks": ""
             }
            },
            "type": "scattercarpet"
           }
          ],
          "scattergeo": [
           {
            "marker": {
             "colorbar": {
              "outlinewidth": 0,
              "ticks": ""
             }
            },
            "type": "scattergeo"
           }
          ],
          "scattergl": [
           {
            "marker": {
             "colorbar": {
              "outlinewidth": 0,
              "ticks": ""
             }
            },
            "type": "scattergl"
           }
          ],
          "scattermapbox": [
           {
            "marker": {
             "colorbar": {
              "outlinewidth": 0,
              "ticks": ""
             }
            },
            "type": "scattermapbox"
           }
          ],
          "scatterpolar": [
           {
            "marker": {
             "colorbar": {
              "outlinewidth": 0,
              "ticks": ""
             }
            },
            "type": "scatterpolar"
           }
          ],
          "scatterpolargl": [
           {
            "marker": {
             "colorbar": {
              "outlinewidth": 0,
              "ticks": ""
             }
            },
            "type": "scatterpolargl"
           }
          ],
          "scatterternary": [
           {
            "marker": {
             "colorbar": {
              "outlinewidth": 0,
              "ticks": ""
             }
            },
            "type": "scatterternary"
           }
          ],
          "surface": [
           {
            "colorbar": {
             "outlinewidth": 0,
             "ticks": ""
            },
            "colorscale": [
             [
              0,
              "#0d0887"
             ],
             [
              0.1111111111111111,
              "#46039f"
             ],
             [
              0.2222222222222222,
              "#7201a8"
             ],
             [
              0.3333333333333333,
              "#9c179e"
             ],
             [
              0.4444444444444444,
              "#bd3786"
             ],
             [
              0.5555555555555556,
              "#d8576b"
             ],
             [
              0.6666666666666666,
              "#ed7953"
             ],
             [
              0.7777777777777778,
              "#fb9f3a"
             ],
             [
              0.8888888888888888,
              "#fdca26"
             ],
             [
              1,
              "#f0f921"
             ]
            ],
            "type": "surface"
           }
          ],
          "table": [
           {
            "cells": {
             "fill": {
              "color": "#EBF0F8"
             },
             "line": {
              "color": "white"
             }
            },
            "header": {
             "fill": {
              "color": "#C8D4E3"
             },
             "line": {
              "color": "white"
             }
            },
            "type": "table"
           }
          ]
         },
         "layout": {
          "annotationdefaults": {
           "arrowcolor": "#2a3f5f",
           "arrowhead": 0,
           "arrowwidth": 1
          },
          "autotypenumbers": "strict",
          "coloraxis": {
           "colorbar": {
            "outlinewidth": 0,
            "ticks": ""
           }
          },
          "colorscale": {
           "diverging": [
            [
             0,
             "#8e0152"
            ],
            [
             0.1,
             "#c51b7d"
            ],
            [
             0.2,
             "#de77ae"
            ],
            [
             0.3,
             "#f1b6da"
            ],
            [
             0.4,
             "#fde0ef"
            ],
            [
             0.5,
             "#f7f7f7"
            ],
            [
             0.6,
             "#e6f5d0"
            ],
            [
             0.7,
             "#b8e186"
            ],
            [
             0.8,
             "#7fbc41"
            ],
            [
             0.9,
             "#4d9221"
            ],
            [
             1,
             "#276419"
            ]
           ],
           "sequential": [
            [
             0,
             "#0d0887"
            ],
            [
             0.1111111111111111,
             "#46039f"
            ],
            [
             0.2222222222222222,
             "#7201a8"
            ],
            [
             0.3333333333333333,
             "#9c179e"
            ],
            [
             0.4444444444444444,
             "#bd3786"
            ],
            [
             0.5555555555555556,
             "#d8576b"
            ],
            [
             0.6666666666666666,
             "#ed7953"
            ],
            [
             0.7777777777777778,
             "#fb9f3a"
            ],
            [
             0.8888888888888888,
             "#fdca26"
            ],
            [
             1,
             "#f0f921"
            ]
           ],
           "sequentialminus": [
            [
             0,
             "#0d0887"
            ],
            [
             0.1111111111111111,
             "#46039f"
            ],
            [
             0.2222222222222222,
             "#7201a8"
            ],
            [
             0.3333333333333333,
             "#9c179e"
            ],
            [
             0.4444444444444444,
             "#bd3786"
            ],
            [
             0.5555555555555556,
             "#d8576b"
            ],
            [
             0.6666666666666666,
             "#ed7953"
            ],
            [
             0.7777777777777778,
             "#fb9f3a"
            ],
            [
             0.8888888888888888,
             "#fdca26"
            ],
            [
             1,
             "#f0f921"
            ]
           ]
          },
          "colorway": [
           "#636efa",
           "#EF553B",
           "#00cc96",
           "#ab63fa",
           "#FFA15A",
           "#19d3f3",
           "#FF6692",
           "#B6E880",
           "#FF97FF",
           "#FECB52"
          ],
          "font": {
           "color": "#2a3f5f"
          },
          "geo": {
           "bgcolor": "white",
           "lakecolor": "white",
           "landcolor": "white",
           "showlakes": true,
           "showland": true,
           "subunitcolor": "#C8D4E3"
          },
          "hoverlabel": {
           "align": "left"
          },
          "hovermode": "closest",
          "mapbox": {
           "style": "light"
          },
          "paper_bgcolor": "white",
          "plot_bgcolor": "white",
          "polar": {
           "angularaxis": {
            "gridcolor": "#EBF0F8",
            "linecolor": "#EBF0F8",
            "ticks": ""
           },
           "bgcolor": "white",
           "radialaxis": {
            "gridcolor": "#EBF0F8",
            "linecolor": "#EBF0F8",
            "ticks": ""
           }
          },
          "scene": {
           "xaxis": {
            "backgroundcolor": "white",
            "gridcolor": "#DFE8F3",
            "gridwidth": 2,
            "linecolor": "#EBF0F8",
            "showbackground": true,
            "ticks": "",
            "zerolinecolor": "#EBF0F8"
           },
           "yaxis": {
            "backgroundcolor": "white",
            "gridcolor": "#DFE8F3",
            "gridwidth": 2,
            "linecolor": "#EBF0F8",
            "showbackground": true,
            "ticks": "",
            "zerolinecolor": "#EBF0F8"
           },
           "zaxis": {
            "backgroundcolor": "white",
            "gridcolor": "#DFE8F3",
            "gridwidth": 2,
            "linecolor": "#EBF0F8",
            "showbackground": true,
            "ticks": "",
            "zerolinecolor": "#EBF0F8"
           }
          },
          "shapedefaults": {
           "line": {
            "color": "#2a3f5f"
           }
          },
          "ternary": {
           "aaxis": {
            "gridcolor": "#DFE8F3",
            "linecolor": "#A2B1C6",
            "ticks": ""
           },
           "baxis": {
            "gridcolor": "#DFE8F3",
            "linecolor": "#A2B1C6",
            "ticks": ""
           },
           "bgcolor": "white",
           "caxis": {
            "gridcolor": "#DFE8F3",
            "linecolor": "#A2B1C6",
            "ticks": ""
           }
          },
          "title": {
           "x": 0.05
          },
          "xaxis": {
           "automargin": true,
           "gridcolor": "#EBF0F8",
           "linecolor": "#EBF0F8",
           "ticks": "",
           "title": {
            "standoff": 15
           },
           "zerolinecolor": "#EBF0F8",
           "zerolinewidth": 2
          },
          "yaxis": {
           "automargin": true,
           "gridcolor": "#EBF0F8",
           "linecolor": "#EBF0F8",
           "ticks": "",
           "title": {
            "standoff": 15
           },
           "zerolinecolor": "#EBF0F8",
           "zerolinewidth": 2
          }
         }
        },
        "title": {
         "text": "F1 в зависимости от времени трейла"
        },
        "xaxis": {
         "title": {
          "text": "Время выполнения трейла (сек)"
         }
        },
        "yaxis": {
         "title": {
          "text": "F1"
         }
        }
       }
      }
     },
     "metadata": {},
     "output_type": "display_data"
    },
    {
     "data": {
      "application/vnd.plotly.v1+json": {
       "config": {
        "plotlyServerURL": "https://plot.ly"
       },
       "data": [
        {
         "legendgroup": "0",
         "legendgrouptitle": {
          "text": "LogisticRegression"
         },
         "marker": {
          "color": "#EF553B"
         },
         "name": "LogisticRegression",
         "opacity": 0.6,
         "type": "histogram",
         "x": [
          0.6034829717910583,
          0.3700927411617613,
          0.7501502555596101,
          0.7467837453141403,
          0.7254760088086394,
          0.7760860435896227,
          0.7278850429300396,
          0.6104695965081471,
          0.7696715822699087,
          0.3933795489819531,
          0.7764762946897317,
          0.7776750154945865,
          0.7732638475856833,
          0.7726098379099079,
          0.7743501909939766,
          0.7666383193653941,
          0.7765972941806629,
          0.7758571230805011,
          0.7674929779700916,
          0.7592948480300176,
          0.7753338105418942,
          0.7776007228115532,
          0.77686512081473,
          0.7733872787998227,
          0.7700959325642783,
          0.7750530897105821,
          0.7629571968178905,
          0.7772502936649478,
          0.7744178131470056,
          0.7734076872800937,
          0.7602453378835567,
          0.777871165474114,
          0.7759780482907516,
          0.7768942552543717,
          0.7750045412903528,
          0.7709293159789976,
          0.7737002679559868,
          0.7710452300693527,
          0.7773815623993616,
          0.7696832320292982,
          0.7665700087235139,
          0.7764334935872996,
          0.7772816288963655,
          0.7773191056290493,
          0.7468163912704098,
          0.7765087205706174,
          0.7761527290487988,
          0.7708546610334325,
          0.773916745271886,
          0.7662869487953246,
          0.7770453253051988,
          0.776850674720262,
          0.7762258998750712,
          0.7782329637949068,
          0.7749943956843695,
          0.7760554617911763,
          0.744660133365645,
          0.7696129345818982,
          0.7759381832815869,
          0.72916215551417,
          0.7643639671560832,
          0.7782950701899082,
          0.7775104769357756,
          0.7776099099492312,
          0.7781297847406148,
          0.7785449173785316,
          0.776488625117574,
          0.7528746893415292,
          0.770044843973493,
          0.7767813160830348,
          0.7751827541344772,
          0.7780320991468062,
          0.7772552113764766,
          0.7779127246426727,
          0.776661777184267,
          0.7763409586885582,
          0.36090041071601975,
          0.7753938943592796,
          0.7740165874742556,
          0.7705920409248532,
          0.7760532425005751,
          0.7778461015102243,
          0.7790095313056877,
          0.7778620595705029,
          0.7776511568135817,
          0.776952302575187,
          0.7774440617079035,
          0.777450178334852,
          0.7771077425707112,
          0.7665353985999367,
          0.7767297900523805,
          0.7789599076964129,
          0.7780557494631741,
          0.7787252610739466,
          0.7190484352255304,
          0.7764654294777198,
          0.776707786148013,
          0.7768310810982492,
          0.7699732501207917,
          0.7766066023221072
         ]
        }
       ],
       "layout": {
        "barmode": "overlay",
        "showlegend": true,
        "template": {
         "data": {
          "bar": [
           {
            "error_x": {
             "color": "#2a3f5f"
            },
            "error_y": {
             "color": "#2a3f5f"
            },
            "marker": {
             "line": {
              "color": "white",
              "width": 0.5
             },
             "pattern": {
              "fillmode": "overlay",
              "size": 10,
              "solidity": 0.2
             }
            },
            "type": "bar"
           }
          ],
          "barpolar": [
           {
            "marker": {
             "line": {
              "color": "white",
              "width": 0.5
             },
             "pattern": {
              "fillmode": "overlay",
              "size": 10,
              "solidity": 0.2
             }
            },
            "type": "barpolar"
           }
          ],
          "carpet": [
           {
            "aaxis": {
             "endlinecolor": "#2a3f5f",
             "gridcolor": "#C8D4E3",
             "linecolor": "#C8D4E3",
             "minorgridcolor": "#C8D4E3",
             "startlinecolor": "#2a3f5f"
            },
            "baxis": {
             "endlinecolor": "#2a3f5f",
             "gridcolor": "#C8D4E3",
             "linecolor": "#C8D4E3",
             "minorgridcolor": "#C8D4E3",
             "startlinecolor": "#2a3f5f"
            },
            "type": "carpet"
           }
          ],
          "choropleth": [
           {
            "colorbar": {
             "outlinewidth": 0,
             "ticks": ""
            },
            "type": "choropleth"
           }
          ],
          "contour": [
           {
            "colorbar": {
             "outlinewidth": 0,
             "ticks": ""
            },
            "colorscale": [
             [
              0,
              "#0d0887"
             ],
             [
              0.1111111111111111,
              "#46039f"
             ],
             [
              0.2222222222222222,
              "#7201a8"
             ],
             [
              0.3333333333333333,
              "#9c179e"
             ],
             [
              0.4444444444444444,
              "#bd3786"
             ],
             [
              0.5555555555555556,
              "#d8576b"
             ],
             [
              0.6666666666666666,
              "#ed7953"
             ],
             [
              0.7777777777777778,
              "#fb9f3a"
             ],
             [
              0.8888888888888888,
              "#fdca26"
             ],
             [
              1,
              "#f0f921"
             ]
            ],
            "type": "contour"
           }
          ],
          "contourcarpet": [
           {
            "colorbar": {
             "outlinewidth": 0,
             "ticks": ""
            },
            "type": "contourcarpet"
           }
          ],
          "heatmap": [
           {
            "colorbar": {
             "outlinewidth": 0,
             "ticks": ""
            },
            "colorscale": [
             [
              0,
              "#0d0887"
             ],
             [
              0.1111111111111111,
              "#46039f"
             ],
             [
              0.2222222222222222,
              "#7201a8"
             ],
             [
              0.3333333333333333,
              "#9c179e"
             ],
             [
              0.4444444444444444,
              "#bd3786"
             ],
             [
              0.5555555555555556,
              "#d8576b"
             ],
             [
              0.6666666666666666,
              "#ed7953"
             ],
             [
              0.7777777777777778,
              "#fb9f3a"
             ],
             [
              0.8888888888888888,
              "#fdca26"
             ],
             [
              1,
              "#f0f921"
             ]
            ],
            "type": "heatmap"
           }
          ],
          "heatmapgl": [
           {
            "colorbar": {
             "outlinewidth": 0,
             "ticks": ""
            },
            "colorscale": [
             [
              0,
              "#0d0887"
             ],
             [
              0.1111111111111111,
              "#46039f"
             ],
             [
              0.2222222222222222,
              "#7201a8"
             ],
             [
              0.3333333333333333,
              "#9c179e"
             ],
             [
              0.4444444444444444,
              "#bd3786"
             ],
             [
              0.5555555555555556,
              "#d8576b"
             ],
             [
              0.6666666666666666,
              "#ed7953"
             ],
             [
              0.7777777777777778,
              "#fb9f3a"
             ],
             [
              0.8888888888888888,
              "#fdca26"
             ],
             [
              1,
              "#f0f921"
             ]
            ],
            "type": "heatmapgl"
           }
          ],
          "histogram": [
           {
            "marker": {
             "pattern": {
              "fillmode": "overlay",
              "size": 10,
              "solidity": 0.2
             }
            },
            "type": "histogram"
           }
          ],
          "histogram2d": [
           {
            "colorbar": {
             "outlinewidth": 0,
             "ticks": ""
            },
            "colorscale": [
             [
              0,
              "#0d0887"
             ],
             [
              0.1111111111111111,
              "#46039f"
             ],
             [
              0.2222222222222222,
              "#7201a8"
             ],
             [
              0.3333333333333333,
              "#9c179e"
             ],
             [
              0.4444444444444444,
              "#bd3786"
             ],
             [
              0.5555555555555556,
              "#d8576b"
             ],
             [
              0.6666666666666666,
              "#ed7953"
             ],
             [
              0.7777777777777778,
              "#fb9f3a"
             ],
             [
              0.8888888888888888,
              "#fdca26"
             ],
             [
              1,
              "#f0f921"
             ]
            ],
            "type": "histogram2d"
           }
          ],
          "histogram2dcontour": [
           {
            "colorbar": {
             "outlinewidth": 0,
             "ticks": ""
            },
            "colorscale": [
             [
              0,
              "#0d0887"
             ],
             [
              0.1111111111111111,
              "#46039f"
             ],
             [
              0.2222222222222222,
              "#7201a8"
             ],
             [
              0.3333333333333333,
              "#9c179e"
             ],
             [
              0.4444444444444444,
              "#bd3786"
             ],
             [
              0.5555555555555556,
              "#d8576b"
             ],
             [
              0.6666666666666666,
              "#ed7953"
             ],
             [
              0.7777777777777778,
              "#fb9f3a"
             ],
             [
              0.8888888888888888,
              "#fdca26"
             ],
             [
              1,
              "#f0f921"
             ]
            ],
            "type": "histogram2dcontour"
           }
          ],
          "mesh3d": [
           {
            "colorbar": {
             "outlinewidth": 0,
             "ticks": ""
            },
            "type": "mesh3d"
           }
          ],
          "parcoords": [
           {
            "line": {
             "colorbar": {
              "outlinewidth": 0,
              "ticks": ""
             }
            },
            "type": "parcoords"
           }
          ],
          "pie": [
           {
            "automargin": true,
            "type": "pie"
           }
          ],
          "scatter": [
           {
            "fillpattern": {
             "fillmode": "overlay",
             "size": 10,
             "solidity": 0.2
            },
            "type": "scatter"
           }
          ],
          "scatter3d": [
           {
            "line": {
             "colorbar": {
              "outlinewidth": 0,
              "ticks": ""
             }
            },
            "marker": {
             "colorbar": {
              "outlinewidth": 0,
              "ticks": ""
             }
            },
            "type": "scatter3d"
           }
          ],
          "scattercarpet": [
           {
            "marker": {
             "colorbar": {
              "outlinewidth": 0,
              "ticks": ""
             }
            },
            "type": "scattercarpet"
           }
          ],
          "scattergeo": [
           {
            "marker": {
             "colorbar": {
              "outlinewidth": 0,
              "ticks": ""
             }
            },
            "type": "scattergeo"
           }
          ],
          "scattergl": [
           {
            "marker": {
             "colorbar": {
              "outlinewidth": 0,
              "ticks": ""
             }
            },
            "type": "scattergl"
           }
          ],
          "scattermapbox": [
           {
            "marker": {
             "colorbar": {
              "outlinewidth": 0,
              "ticks": ""
             }
            },
            "type": "scattermapbox"
           }
          ],
          "scatterpolar": [
           {
            "marker": {
             "colorbar": {
              "outlinewidth": 0,
              "ticks": ""
             }
            },
            "type": "scatterpolar"
           }
          ],
          "scatterpolargl": [
           {
            "marker": {
             "colorbar": {
              "outlinewidth": 0,
              "ticks": ""
             }
            },
            "type": "scatterpolargl"
           }
          ],
          "scatterternary": [
           {
            "marker": {
             "colorbar": {
              "outlinewidth": 0,
              "ticks": ""
             }
            },
            "type": "scatterternary"
           }
          ],
          "surface": [
           {
            "colorbar": {
             "outlinewidth": 0,
             "ticks": ""
            },
            "colorscale": [
             [
              0,
              "#0d0887"
             ],
             [
              0.1111111111111111,
              "#46039f"
             ],
             [
              0.2222222222222222,
              "#7201a8"
             ],
             [
              0.3333333333333333,
              "#9c179e"
             ],
             [
              0.4444444444444444,
              "#bd3786"
             ],
             [
              0.5555555555555556,
              "#d8576b"
             ],
             [
              0.6666666666666666,
              "#ed7953"
             ],
             [
              0.7777777777777778,
              "#fb9f3a"
             ],
             [
              0.8888888888888888,
              "#fdca26"
             ],
             [
              1,
              "#f0f921"
             ]
            ],
            "type": "surface"
           }
          ],
          "table": [
           {
            "cells": {
             "fill": {
              "color": "#EBF0F8"
             },
             "line": {
              "color": "white"
             }
            },
            "header": {
             "fill": {
              "color": "#C8D4E3"
             },
             "line": {
              "color": "white"
             }
            },
            "type": "table"
           }
          ]
         },
         "layout": {
          "annotationdefaults": {
           "arrowcolor": "#2a3f5f",
           "arrowhead": 0,
           "arrowwidth": 1
          },
          "autotypenumbers": "strict",
          "coloraxis": {
           "colorbar": {
            "outlinewidth": 0,
            "ticks": ""
           }
          },
          "colorscale": {
           "diverging": [
            [
             0,
             "#8e0152"
            ],
            [
             0.1,
             "#c51b7d"
            ],
            [
             0.2,
             "#de77ae"
            ],
            [
             0.3,
             "#f1b6da"
            ],
            [
             0.4,
             "#fde0ef"
            ],
            [
             0.5,
             "#f7f7f7"
            ],
            [
             0.6,
             "#e6f5d0"
            ],
            [
             0.7,
             "#b8e186"
            ],
            [
             0.8,
             "#7fbc41"
            ],
            [
             0.9,
             "#4d9221"
            ],
            [
             1,
             "#276419"
            ]
           ],
           "sequential": [
            [
             0,
             "#0d0887"
            ],
            [
             0.1111111111111111,
             "#46039f"
            ],
            [
             0.2222222222222222,
             "#7201a8"
            ],
            [
             0.3333333333333333,
             "#9c179e"
            ],
            [
             0.4444444444444444,
             "#bd3786"
            ],
            [
             0.5555555555555556,
             "#d8576b"
            ],
            [
             0.6666666666666666,
             "#ed7953"
            ],
            [
             0.7777777777777778,
             "#fb9f3a"
            ],
            [
             0.8888888888888888,
             "#fdca26"
            ],
            [
             1,
             "#f0f921"
            ]
           ],
           "sequentialminus": [
            [
             0,
             "#0d0887"
            ],
            [
             0.1111111111111111,
             "#46039f"
            ],
            [
             0.2222222222222222,
             "#7201a8"
            ],
            [
             0.3333333333333333,
             "#9c179e"
            ],
            [
             0.4444444444444444,
             "#bd3786"
            ],
            [
             0.5555555555555556,
             "#d8576b"
            ],
            [
             0.6666666666666666,
             "#ed7953"
            ],
            [
             0.7777777777777778,
             "#fb9f3a"
            ],
            [
             0.8888888888888888,
             "#fdca26"
            ],
            [
             1,
             "#f0f921"
            ]
           ]
          },
          "colorway": [
           "#636efa",
           "#EF553B",
           "#00cc96",
           "#ab63fa",
           "#FFA15A",
           "#19d3f3",
           "#FF6692",
           "#B6E880",
           "#FF97FF",
           "#FECB52"
          ],
          "font": {
           "color": "#2a3f5f"
          },
          "geo": {
           "bgcolor": "white",
           "lakecolor": "white",
           "landcolor": "white",
           "showlakes": true,
           "showland": true,
           "subunitcolor": "#C8D4E3"
          },
          "hoverlabel": {
           "align": "left"
          },
          "hovermode": "closest",
          "mapbox": {
           "style": "light"
          },
          "paper_bgcolor": "white",
          "plot_bgcolor": "white",
          "polar": {
           "angularaxis": {
            "gridcolor": "#EBF0F8",
            "linecolor": "#EBF0F8",
            "ticks": ""
           },
           "bgcolor": "white",
           "radialaxis": {
            "gridcolor": "#EBF0F8",
            "linecolor": "#EBF0F8",
            "ticks": ""
           }
          },
          "scene": {
           "xaxis": {
            "backgroundcolor": "white",
            "gridcolor": "#DFE8F3",
            "gridwidth": 2,
            "linecolor": "#EBF0F8",
            "showbackground": true,
            "ticks": "",
            "zerolinecolor": "#EBF0F8"
           },
           "yaxis": {
            "backgroundcolor": "white",
            "gridcolor": "#DFE8F3",
            "gridwidth": 2,
            "linecolor": "#EBF0F8",
            "showbackground": true,
            "ticks": "",
            "zerolinecolor": "#EBF0F8"
           },
           "zaxis": {
            "backgroundcolor": "white",
            "gridcolor": "#DFE8F3",
            "gridwidth": 2,
            "linecolor": "#EBF0F8",
            "showbackground": true,
            "ticks": "",
            "zerolinecolor": "#EBF0F8"
           }
          },
          "shapedefaults": {
           "line": {
            "color": "#2a3f5f"
           }
          },
          "ternary": {
           "aaxis": {
            "gridcolor": "#DFE8F3",
            "linecolor": "#A2B1C6",
            "ticks": ""
           },
           "baxis": {
            "gridcolor": "#DFE8F3",
            "linecolor": "#A2B1C6",
            "ticks": ""
           },
           "bgcolor": "white",
           "caxis": {
            "gridcolor": "#DFE8F3",
            "linecolor": "#A2B1C6",
            "ticks": ""
           }
          },
          "title": {
           "x": 0.05
          },
          "xaxis": {
           "automargin": true,
           "gridcolor": "#EBF0F8",
           "linecolor": "#EBF0F8",
           "ticks": "",
           "title": {
            "standoff": 15
           },
           "zerolinecolor": "#EBF0F8",
           "zerolinewidth": 2
          },
          "yaxis": {
           "automargin": true,
           "gridcolor": "#EBF0F8",
           "linecolor": "#EBF0F8",
           "ticks": "",
           "title": {
            "standoff": 15
           },
           "zerolinecolor": "#EBF0F8",
           "zerolinewidth": 2
          }
         }
        },
        "title": {
         "text": "Распределение значений метрики F1"
        },
        "xaxis": {
         "title": {
          "text": "F1"
         }
        },
        "yaxis": {
         "title": {
          "text": "Количество трейлов"
         }
        }
       }
      }
     },
     "metadata": {},
     "output_type": "display_data"
    }
   ],
   "source": [
    "plot_param_importances(study_logreg)\n",
    "trial_duration_performance(study_logreg, model_names=['LogisticRegression'])\n",
    "trial_score_distribution(study_logreg, model_names=['LogisticRegression'])"
   ]
  },
  {
   "cell_type": "markdown",
   "metadata": {},
   "source": [
    "_____\n",
    "### <a id='toc1_7_5_'></a>[PassiveAggressiveClassifier](#toc0_)"
   ]
  },
  {
   "cell_type": "code",
   "execution_count": 24,
   "metadata": {},
   "outputs": [],
   "source": [
    "pipeline = get_pipepline(\n",
    "    lemm_column=X.columns[0],\n",
    ")\n",
    "model_params_cat = {\n",
    "    'model': [PassiveAggressiveClassifier(n_jobs=2)],\n",
    "    'model__loss': ['hinge', 'squared_hinge'],\n",
    "    'preprocessor__vectorizer__ngram_range': [(1, 1), (1, 2)],\n",
    "}\n",
    "model_params_num = {\n",
    "    'model__C': lambda trial: trial.suggest_float('model__C', 0.1, 10, log=True),\n",
    "    'model__max_iter': lambda trial: trial.suggest_int('model__max_iter', 100, 300, step=50),\n",
    "}"
   ]
  },
  {
   "cell_type": "code",
   "execution_count": 25,
   "metadata": {},
   "outputs": [],
   "source": [
    "study_palogreg = get_trained_optuna_study('palogreg', restudy=False, direction='maximize')"
   ]
  },
  {
   "cell_type": "code",
   "execution_count": 26,
   "metadata": {},
   "outputs": [
    {
     "name": "stdout",
     "output_type": "stream",
     "text": [
      "Best cross-val f1: 0.794\n",
      "\n",
      "Best parameters:\n",
      "{'model': PassiveAggressiveClassifier(n_jobs=2),\n",
      " 'model__C': 0.12050679650559393,\n",
      " 'model__loss': 'hinge',\n",
      " 'model__max_iter': 300,\n",
      " 'preprocessor__vectorizer': TfidfVectorizer(dtype=<class 'numpy.float32'>,\n",
      "                stop_words=['being', 'above', 'of', 'his', 'your', 'we',\n",
      "                            'these', \"she'll\", 'are', 'o', 'i', 'a', 'ma',\n",
      "                            'most', 'has', 'isn', 'yours', 'which', 'yourself',\n",
      "                            \"you're\", \"i'd\", 'from', 'aren', 'then', 'who',\n",
      "                            \"it'll\", 'ain', 'been', 'because', \"wasn't\", ...]),\n",
      " 'preprocessor__vectorizer__ngram_range': (1, 2)}\n"
     ]
    }
   ],
   "source": [
    "print(f'Best cross-val f1: {study_palogreg.best_value:.3f}')\n",
    "best_params_palogreg = get_named_params(study_palogreg.best_params)\n",
    "print('\\nBest parameters:')\n",
    "pprint(best_params_palogreg)"
   ]
  },
  {
   "cell_type": "code",
   "execution_count": 27,
   "metadata": {},
   "outputs": [
    {
     "data": {
      "application/vnd.plotly.v1+json": {
       "config": {
        "plotlyServerURL": "https://plot.ly"
       },
       "data": [
        {
         "legendgroup": "0",
         "legendgrouptitle": {
          "text": "PassiveAggressiveClassifier"
         },
         "marker": {
          "color": "#00CC96",
          "opacity": 0.5,
          "size": 10
         },
         "mode": "markers",
         "name": "PassiveAggressiveClassifier",
         "type": "scatter",
         "x": [
          6.897306,
          6.898953,
          6.935011,
          7.165723,
          7.180896,
          7.216998,
          7.239653,
          7.287388,
          7.3934,
          7.451728,
          7.522133,
          7.677918,
          7.764235,
          16.600304,
          16.613329,
          16.935487,
          16.99734,
          17.10788,
          17.141768,
          17.302121,
          17.375054,
          17.407636,
          17.414495,
          17.446093,
          17.513044,
          17.560634,
          17.569298,
          17.575798,
          17.577057,
          17.600827,
          17.623315,
          17.674917,
          17.702313,
          17.713801,
          17.768957,
          17.84544,
          17.864286,
          17.888347,
          17.924969,
          17.948139,
          17.961773,
          17.979956,
          18.043744,
          18.090911,
          18.103615,
          18.184816,
          18.199629,
          18.203827,
          18.285635,
          18.302795,
          18.33126,
          18.332951,
          18.341423,
          18.355648,
          18.363914,
          18.374941,
          18.376171,
          18.476713,
          18.505345,
          18.507028,
          18.507244,
          18.513877,
          18.532169,
          18.536996,
          18.552769,
          18.555342,
          18.564412,
          18.589543,
          18.593852,
          18.602048,
          18.615072,
          18.616141,
          18.636048,
          18.685814,
          18.699254,
          18.718138,
          18.740954,
          18.760387,
          18.760572,
          18.772211,
          18.776597,
          18.779702,
          18.78027,
          18.798861,
          18.825389,
          18.829498,
          18.843301,
          18.856192,
          18.867234,
          18.872593,
          18.92271,
          18.938023,
          18.94815,
          18.965,
          18.980899,
          19.023472,
          19.092586,
          19.095216,
          19.114261,
          19.203595
         ],
         "y": [
          0.7514512024044527,
          0.7624733380531931,
          0.745037306236691,
          0.7820576376498055,
          0.7542342129915033,
          0.7696196891583698,
          0.7570678731578525,
          0.7768410204502253,
          0.7343810632568173,
          0.7522725350636379,
          0.7734224205477153,
          0.7454489601315019,
          0.7401514803172493,
          0.7711739937430833,
          0.7766619944966111,
          0.775028358774925,
          0.775401476938745,
          0.7673969949818445,
          0.7736768488565735,
          0.7764229073014339,
          0.7858407151567148,
          0.7865288744173398,
          0.787923181318966,
          0.7868895939528191,
          0.7861087467608256,
          0.7875273256570544,
          0.7837163272965194,
          0.7747972732181948,
          0.7852366094953537,
          0.7741516954094907,
          0.7852281405332431,
          0.7861025368953586,
          0.7857122801337716,
          0.7895069894120692,
          0.78761332504247,
          0.7909328172297839,
          0.7870367007160654,
          0.7871767802223556,
          0.790737304440914,
          0.7879988777463892,
          0.7915006253922297,
          0.7912029987746219,
          0.7919122434946851,
          0.7914605390584346,
          0.7920610753131865,
          0.7920421870116106,
          0.7932031361617078,
          0.7918853282412942,
          0.7933096275012479,
          0.7917649394590826,
          0.7882794617514763,
          0.7932055971727345,
          0.7934546252723631,
          0.7922218177693152,
          0.7920278265227296,
          0.7927294893572757,
          0.7931171196831345,
          0.7929010558469347,
          0.793428616123813,
          0.7928918832530522,
          0.7937392898087821,
          0.792327544811966,
          0.7936664836484436,
          0.7940076994650431,
          0.7935676744994338,
          0.7927340435861061,
          0.7925049430844124,
          0.7941626998607563,
          0.7940384457749794,
          0.7934301264576106,
          0.7928462110216176,
          0.7924792111595037,
          0.7936346169264616,
          0.7932877211476433,
          0.7933479364235619,
          0.793476749188445,
          0.7934254330798886,
          0.7935708035912762,
          0.7931158387430113,
          0.7937054324865607,
          0.7937688212800483,
          0.7933154741087554,
          0.7933386151579276,
          0.7937684186556538,
          0.7938463348748735,
          0.7935790807763026,
          0.7937446710631242,
          0.7934467833993245,
          0.79349877742714,
          0.7936076640765909,
          0.7930035380002765,
          0.7936904257251731,
          0.7938965968469054,
          0.7939435840961115,
          0.794057625471595,
          0.7938252436748414,
          0.7935294405952418,
          0.7935828544287913,
          0.793346498630813,
          0.7936498828479968
         ]
        },
        {
         "legendgroup": "0",
         "marker": {
          "color": "#00CC96",
          "line": {
           "color": "black",
           "width": 2
          },
          "size": 10
         },
         "mode": "markers",
         "name": "Лучшее: PassiveAggressiveClassifier",
         "showlegend": false,
         "type": "scatter",
         "x": [
          18.589543
         ],
         "y": [
          0.7941626998607563
         ]
        }
       ],
       "layout": {
        "showlegend": true,
        "template": {
         "data": {
          "bar": [
           {
            "error_x": {
             "color": "#2a3f5f"
            },
            "error_y": {
             "color": "#2a3f5f"
            },
            "marker": {
             "line": {
              "color": "white",
              "width": 0.5
             },
             "pattern": {
              "fillmode": "overlay",
              "size": 10,
              "solidity": 0.2
             }
            },
            "type": "bar"
           }
          ],
          "barpolar": [
           {
            "marker": {
             "line": {
              "color": "white",
              "width": 0.5
             },
             "pattern": {
              "fillmode": "overlay",
              "size": 10,
              "solidity": 0.2
             }
            },
            "type": "barpolar"
           }
          ],
          "carpet": [
           {
            "aaxis": {
             "endlinecolor": "#2a3f5f",
             "gridcolor": "#C8D4E3",
             "linecolor": "#C8D4E3",
             "minorgridcolor": "#C8D4E3",
             "startlinecolor": "#2a3f5f"
            },
            "baxis": {
             "endlinecolor": "#2a3f5f",
             "gridcolor": "#C8D4E3",
             "linecolor": "#C8D4E3",
             "minorgridcolor": "#C8D4E3",
             "startlinecolor": "#2a3f5f"
            },
            "type": "carpet"
           }
          ],
          "choropleth": [
           {
            "colorbar": {
             "outlinewidth": 0,
             "ticks": ""
            },
            "type": "choropleth"
           }
          ],
          "contour": [
           {
            "colorbar": {
             "outlinewidth": 0,
             "ticks": ""
            },
            "colorscale": [
             [
              0,
              "#0d0887"
             ],
             [
              0.1111111111111111,
              "#46039f"
             ],
             [
              0.2222222222222222,
              "#7201a8"
             ],
             [
              0.3333333333333333,
              "#9c179e"
             ],
             [
              0.4444444444444444,
              "#bd3786"
             ],
             [
              0.5555555555555556,
              "#d8576b"
             ],
             [
              0.6666666666666666,
              "#ed7953"
             ],
             [
              0.7777777777777778,
              "#fb9f3a"
             ],
             [
              0.8888888888888888,
              "#fdca26"
             ],
             [
              1,
              "#f0f921"
             ]
            ],
            "type": "contour"
           }
          ],
          "contourcarpet": [
           {
            "colorbar": {
             "outlinewidth": 0,
             "ticks": ""
            },
            "type": "contourcarpet"
           }
          ],
          "heatmap": [
           {
            "colorbar": {
             "outlinewidth": 0,
             "ticks": ""
            },
            "colorscale": [
             [
              0,
              "#0d0887"
             ],
             [
              0.1111111111111111,
              "#46039f"
             ],
             [
              0.2222222222222222,
              "#7201a8"
             ],
             [
              0.3333333333333333,
              "#9c179e"
             ],
             [
              0.4444444444444444,
              "#bd3786"
             ],
             [
              0.5555555555555556,
              "#d8576b"
             ],
             [
              0.6666666666666666,
              "#ed7953"
             ],
             [
              0.7777777777777778,
              "#fb9f3a"
             ],
             [
              0.8888888888888888,
              "#fdca26"
             ],
             [
              1,
              "#f0f921"
             ]
            ],
            "type": "heatmap"
           }
          ],
          "heatmapgl": [
           {
            "colorbar": {
             "outlinewidth": 0,
             "ticks": ""
            },
            "colorscale": [
             [
              0,
              "#0d0887"
             ],
             [
              0.1111111111111111,
              "#46039f"
             ],
             [
              0.2222222222222222,
              "#7201a8"
             ],
             [
              0.3333333333333333,
              "#9c179e"
             ],
             [
              0.4444444444444444,
              "#bd3786"
             ],
             [
              0.5555555555555556,
              "#d8576b"
             ],
             [
              0.6666666666666666,
              "#ed7953"
             ],
             [
              0.7777777777777778,
              "#fb9f3a"
             ],
             [
              0.8888888888888888,
              "#fdca26"
             ],
             [
              1,
              "#f0f921"
             ]
            ],
            "type": "heatmapgl"
           }
          ],
          "histogram": [
           {
            "marker": {
             "pattern": {
              "fillmode": "overlay",
              "size": 10,
              "solidity": 0.2
             }
            },
            "type": "histogram"
           }
          ],
          "histogram2d": [
           {
            "colorbar": {
             "outlinewidth": 0,
             "ticks": ""
            },
            "colorscale": [
             [
              0,
              "#0d0887"
             ],
             [
              0.1111111111111111,
              "#46039f"
             ],
             [
              0.2222222222222222,
              "#7201a8"
             ],
             [
              0.3333333333333333,
              "#9c179e"
             ],
             [
              0.4444444444444444,
              "#bd3786"
             ],
             [
              0.5555555555555556,
              "#d8576b"
             ],
             [
              0.6666666666666666,
              "#ed7953"
             ],
             [
              0.7777777777777778,
              "#fb9f3a"
             ],
             [
              0.8888888888888888,
              "#fdca26"
             ],
             [
              1,
              "#f0f921"
             ]
            ],
            "type": "histogram2d"
           }
          ],
          "histogram2dcontour": [
           {
            "colorbar": {
             "outlinewidth": 0,
             "ticks": ""
            },
            "colorscale": [
             [
              0,
              "#0d0887"
             ],
             [
              0.1111111111111111,
              "#46039f"
             ],
             [
              0.2222222222222222,
              "#7201a8"
             ],
             [
              0.3333333333333333,
              "#9c179e"
             ],
             [
              0.4444444444444444,
              "#bd3786"
             ],
             [
              0.5555555555555556,
              "#d8576b"
             ],
             [
              0.6666666666666666,
              "#ed7953"
             ],
             [
              0.7777777777777778,
              "#fb9f3a"
             ],
             [
              0.8888888888888888,
              "#fdca26"
             ],
             [
              1,
              "#f0f921"
             ]
            ],
            "type": "histogram2dcontour"
           }
          ],
          "mesh3d": [
           {
            "colorbar": {
             "outlinewidth": 0,
             "ticks": ""
            },
            "type": "mesh3d"
           }
          ],
          "parcoords": [
           {
            "line": {
             "colorbar": {
              "outlinewidth": 0,
              "ticks": ""
             }
            },
            "type": "parcoords"
           }
          ],
          "pie": [
           {
            "automargin": true,
            "type": "pie"
           }
          ],
          "scatter": [
           {
            "fillpattern": {
             "fillmode": "overlay",
             "size": 10,
             "solidity": 0.2
            },
            "type": "scatter"
           }
          ],
          "scatter3d": [
           {
            "line": {
             "colorbar": {
              "outlinewidth": 0,
              "ticks": ""
             }
            },
            "marker": {
             "colorbar": {
              "outlinewidth": 0,
              "ticks": ""
             }
            },
            "type": "scatter3d"
           }
          ],
          "scattercarpet": [
           {
            "marker": {
             "colorbar": {
              "outlinewidth": 0,
              "ticks": ""
             }
            },
            "type": "scattercarpet"
           }
          ],
          "scattergeo": [
           {
            "marker": {
             "colorbar": {
              "outlinewidth": 0,
              "ticks": ""
             }
            },
            "type": "scattergeo"
           }
          ],
          "scattergl": [
           {
            "marker": {
             "colorbar": {
              "outlinewidth": 0,
              "ticks": ""
             }
            },
            "type": "scattergl"
           }
          ],
          "scattermapbox": [
           {
            "marker": {
             "colorbar": {
              "outlinewidth": 0,
              "ticks": ""
             }
            },
            "type": "scattermapbox"
           }
          ],
          "scatterpolar": [
           {
            "marker": {
             "colorbar": {
              "outlinewidth": 0,
              "ticks": ""
             }
            },
            "type": "scatterpolar"
           }
          ],
          "scatterpolargl": [
           {
            "marker": {
             "colorbar": {
              "outlinewidth": 0,
              "ticks": ""
             }
            },
            "type": "scatterpolargl"
           }
          ],
          "scatterternary": [
           {
            "marker": {
             "colorbar": {
              "outlinewidth": 0,
              "ticks": ""
             }
            },
            "type": "scatterternary"
           }
          ],
          "surface": [
           {
            "colorbar": {
             "outlinewidth": 0,
             "ticks": ""
            },
            "colorscale": [
             [
              0,
              "#0d0887"
             ],
             [
              0.1111111111111111,
              "#46039f"
             ],
             [
              0.2222222222222222,
              "#7201a8"
             ],
             [
              0.3333333333333333,
              "#9c179e"
             ],
             [
              0.4444444444444444,
              "#bd3786"
             ],
             [
              0.5555555555555556,
              "#d8576b"
             ],
             [
              0.6666666666666666,
              "#ed7953"
             ],
             [
              0.7777777777777778,
              "#fb9f3a"
             ],
             [
              0.8888888888888888,
              "#fdca26"
             ],
             [
              1,
              "#f0f921"
             ]
            ],
            "type": "surface"
           }
          ],
          "table": [
           {
            "cells": {
             "fill": {
              "color": "#EBF0F8"
             },
             "line": {
              "color": "white"
             }
            },
            "header": {
             "fill": {
              "color": "#C8D4E3"
             },
             "line": {
              "color": "white"
             }
            },
            "type": "table"
           }
          ]
         },
         "layout": {
          "annotationdefaults": {
           "arrowcolor": "#2a3f5f",
           "arrowhead": 0,
           "arrowwidth": 1
          },
          "autotypenumbers": "strict",
          "coloraxis": {
           "colorbar": {
            "outlinewidth": 0,
            "ticks": ""
           }
          },
          "colorscale": {
           "diverging": [
            [
             0,
             "#8e0152"
            ],
            [
             0.1,
             "#c51b7d"
            ],
            [
             0.2,
             "#de77ae"
            ],
            [
             0.3,
             "#f1b6da"
            ],
            [
             0.4,
             "#fde0ef"
            ],
            [
             0.5,
             "#f7f7f7"
            ],
            [
             0.6,
             "#e6f5d0"
            ],
            [
             0.7,
             "#b8e186"
            ],
            [
             0.8,
             "#7fbc41"
            ],
            [
             0.9,
             "#4d9221"
            ],
            [
             1,
             "#276419"
            ]
           ],
           "sequential": [
            [
             0,
             "#0d0887"
            ],
            [
             0.1111111111111111,
             "#46039f"
            ],
            [
             0.2222222222222222,
             "#7201a8"
            ],
            [
             0.3333333333333333,
             "#9c179e"
            ],
            [
             0.4444444444444444,
             "#bd3786"
            ],
            [
             0.5555555555555556,
             "#d8576b"
            ],
            [
             0.6666666666666666,
             "#ed7953"
            ],
            [
             0.7777777777777778,
             "#fb9f3a"
            ],
            [
             0.8888888888888888,
             "#fdca26"
            ],
            [
             1,
             "#f0f921"
            ]
           ],
           "sequentialminus": [
            [
             0,
             "#0d0887"
            ],
            [
             0.1111111111111111,
             "#46039f"
            ],
            [
             0.2222222222222222,
             "#7201a8"
            ],
            [
             0.3333333333333333,
             "#9c179e"
            ],
            [
             0.4444444444444444,
             "#bd3786"
            ],
            [
             0.5555555555555556,
             "#d8576b"
            ],
            [
             0.6666666666666666,
             "#ed7953"
            ],
            [
             0.7777777777777778,
             "#fb9f3a"
            ],
            [
             0.8888888888888888,
             "#fdca26"
            ],
            [
             1,
             "#f0f921"
            ]
           ]
          },
          "colorway": [
           "#636efa",
           "#EF553B",
           "#00cc96",
           "#ab63fa",
           "#FFA15A",
           "#19d3f3",
           "#FF6692",
           "#B6E880",
           "#FF97FF",
           "#FECB52"
          ],
          "font": {
           "color": "#2a3f5f"
          },
          "geo": {
           "bgcolor": "white",
           "lakecolor": "white",
           "landcolor": "white",
           "showlakes": true,
           "showland": true,
           "subunitcolor": "#C8D4E3"
          },
          "hoverlabel": {
           "align": "left"
          },
          "hovermode": "closest",
          "mapbox": {
           "style": "light"
          },
          "paper_bgcolor": "white",
          "plot_bgcolor": "white",
          "polar": {
           "angularaxis": {
            "gridcolor": "#EBF0F8",
            "linecolor": "#EBF0F8",
            "ticks": ""
           },
           "bgcolor": "white",
           "radialaxis": {
            "gridcolor": "#EBF0F8",
            "linecolor": "#EBF0F8",
            "ticks": ""
           }
          },
          "scene": {
           "xaxis": {
            "backgroundcolor": "white",
            "gridcolor": "#DFE8F3",
            "gridwidth": 2,
            "linecolor": "#EBF0F8",
            "showbackground": true,
            "ticks": "",
            "zerolinecolor": "#EBF0F8"
           },
           "yaxis": {
            "backgroundcolor": "white",
            "gridcolor": "#DFE8F3",
            "gridwidth": 2,
            "linecolor": "#EBF0F8",
            "showbackground": true,
            "ticks": "",
            "zerolinecolor": "#EBF0F8"
           },
           "zaxis": {
            "backgroundcolor": "white",
            "gridcolor": "#DFE8F3",
            "gridwidth": 2,
            "linecolor": "#EBF0F8",
            "showbackground": true,
            "ticks": "",
            "zerolinecolor": "#EBF0F8"
           }
          },
          "shapedefaults": {
           "line": {
            "color": "#2a3f5f"
           }
          },
          "ternary": {
           "aaxis": {
            "gridcolor": "#DFE8F3",
            "linecolor": "#A2B1C6",
            "ticks": ""
           },
           "baxis": {
            "gridcolor": "#DFE8F3",
            "linecolor": "#A2B1C6",
            "ticks": ""
           },
           "bgcolor": "white",
           "caxis": {
            "gridcolor": "#DFE8F3",
            "linecolor": "#A2B1C6",
            "ticks": ""
           }
          },
          "title": {
           "x": 0.05
          },
          "xaxis": {
           "automargin": true,
           "gridcolor": "#EBF0F8",
           "linecolor": "#EBF0F8",
           "ticks": "",
           "title": {
            "standoff": 15
           },
           "zerolinecolor": "#EBF0F8",
           "zerolinewidth": 2
          },
          "yaxis": {
           "automargin": true,
           "gridcolor": "#EBF0F8",
           "linecolor": "#EBF0F8",
           "ticks": "",
           "title": {
            "standoff": 15
           },
           "zerolinecolor": "#EBF0F8",
           "zerolinewidth": 2
          }
         }
        },
        "title": {
         "text": "F1 в зависимости от времени трейла"
        },
        "xaxis": {
         "title": {
          "text": "Время выполнения трейла (сек)"
         }
        },
        "yaxis": {
         "title": {
          "text": "F1"
         }
        }
       }
      }
     },
     "metadata": {},
     "output_type": "display_data"
    },
    {
     "data": {
      "application/vnd.plotly.v1+json": {
       "config": {
        "plotlyServerURL": "https://plot.ly"
       },
       "data": [
        {
         "legendgroup": "0",
         "legendgrouptitle": {
          "text": "PassiveAggressiveClassifier"
         },
         "marker": {
          "color": "#AB63FA"
         },
         "name": "PassiveAggressiveClassifier",
         "opacity": 0.6,
         "type": "histogram",
         "x": [
          0.7736768488565735,
          0.7852366094953537,
          0.7401514803172493,
          0.7768410204502253,
          0.7522725350636379,
          0.745037306236691,
          0.7343810632568173,
          0.7711739937430833,
          0.7870367007160654,
          0.7895069894120692,
          0.7837163272965194,
          0.787923181318966,
          0.78761332504247,
          0.7852281405332431,
          0.7861087467608256,
          0.7861025368953586,
          0.7865288744173398,
          0.7914605390584346,
          0.7912029987746219,
          0.7919122434946851,
          0.790737304440914,
          0.7917649394590826,
          0.7936498828479968,
          0.7932877211476433,
          0.7936904257251731,
          0.7933479364235619,
          0.7454489601315019,
          0.7932031361617078,
          0.7934467833993245,
          0.775401476938745,
          0.7920421870116106,
          0.7937684186556538,
          0.793346498630813,
          0.7931158387430113,
          0.7928918832530522,
          0.7734224205477153,
          0.7766619944966111,
          0.7624733380531931,
          0.7741516954094907,
          0.7514512024044527,
          0.7937054324865607,
          0.7935708035912762,
          0.7936346169264616,
          0.7922218177693152,
          0.7937446710631242,
          0.7918853282412942,
          0.7747972732181948,
          0.7820576376498055,
          0.7858407151567148,
          0.7909328172297839,
          0.7871767802223556,
          0.7935790807763026,
          0.792327544811966,
          0.7932055971727345,
          0.7936664836484436,
          0.7938965968469054,
          0.7879988777463892,
          0.7920278265227296,
          0.7924792111595037,
          0.7764229073014339,
          0.7696196891583698,
          0.793428616123813,
          0.7940384457749794,
          0.7927340435861061,
          0.7934254330798886,
          0.7857122801337716,
          0.7920610753131865,
          0.7933154741087554,
          0.7928462110216176,
          0.7933386151579276,
          0.7915006253922297,
          0.7934301264576106,
          0.7929010558469347,
          0.7935294405952418,
          0.7927294893572757,
          0.7938252436748414,
          0.775028358774925,
          0.7570678731578525,
          0.7940076994650431,
          0.7939435840961115,
          0.7935676744994338,
          0.7936076640765909,
          0.7930035380002765,
          0.7934546252723631,
          0.7937392898087821,
          0.7868895939528191,
          0.7931171196831345,
          0.7937688212800483,
          0.7673969949818445,
          0.7875273256570544,
          0.7542342129915033,
          0.794057625471595,
          0.7941626998607563,
          0.793476749188445,
          0.7933096275012479,
          0.7938463348748735,
          0.7882794617514763,
          0.79349877742714,
          0.7925049430844124,
          0.7935828544287913
         ]
        }
       ],
       "layout": {
        "barmode": "overlay",
        "showlegend": true,
        "template": {
         "data": {
          "bar": [
           {
            "error_x": {
             "color": "#2a3f5f"
            },
            "error_y": {
             "color": "#2a3f5f"
            },
            "marker": {
             "line": {
              "color": "white",
              "width": 0.5
             },
             "pattern": {
              "fillmode": "overlay",
              "size": 10,
              "solidity": 0.2
             }
            },
            "type": "bar"
           }
          ],
          "barpolar": [
           {
            "marker": {
             "line": {
              "color": "white",
              "width": 0.5
             },
             "pattern": {
              "fillmode": "overlay",
              "size": 10,
              "solidity": 0.2
             }
            },
            "type": "barpolar"
           }
          ],
          "carpet": [
           {
            "aaxis": {
             "endlinecolor": "#2a3f5f",
             "gridcolor": "#C8D4E3",
             "linecolor": "#C8D4E3",
             "minorgridcolor": "#C8D4E3",
             "startlinecolor": "#2a3f5f"
            },
            "baxis": {
             "endlinecolor": "#2a3f5f",
             "gridcolor": "#C8D4E3",
             "linecolor": "#C8D4E3",
             "minorgridcolor": "#C8D4E3",
             "startlinecolor": "#2a3f5f"
            },
            "type": "carpet"
           }
          ],
          "choropleth": [
           {
            "colorbar": {
             "outlinewidth": 0,
             "ticks": ""
            },
            "type": "choropleth"
           }
          ],
          "contour": [
           {
            "colorbar": {
             "outlinewidth": 0,
             "ticks": ""
            },
            "colorscale": [
             [
              0,
              "#0d0887"
             ],
             [
              0.1111111111111111,
              "#46039f"
             ],
             [
              0.2222222222222222,
              "#7201a8"
             ],
             [
              0.3333333333333333,
              "#9c179e"
             ],
             [
              0.4444444444444444,
              "#bd3786"
             ],
             [
              0.5555555555555556,
              "#d8576b"
             ],
             [
              0.6666666666666666,
              "#ed7953"
             ],
             [
              0.7777777777777778,
              "#fb9f3a"
             ],
             [
              0.8888888888888888,
              "#fdca26"
             ],
             [
              1,
              "#f0f921"
             ]
            ],
            "type": "contour"
           }
          ],
          "contourcarpet": [
           {
            "colorbar": {
             "outlinewidth": 0,
             "ticks": ""
            },
            "type": "contourcarpet"
           }
          ],
          "heatmap": [
           {
            "colorbar": {
             "outlinewidth": 0,
             "ticks": ""
            },
            "colorscale": [
             [
              0,
              "#0d0887"
             ],
             [
              0.1111111111111111,
              "#46039f"
             ],
             [
              0.2222222222222222,
              "#7201a8"
             ],
             [
              0.3333333333333333,
              "#9c179e"
             ],
             [
              0.4444444444444444,
              "#bd3786"
             ],
             [
              0.5555555555555556,
              "#d8576b"
             ],
             [
              0.6666666666666666,
              "#ed7953"
             ],
             [
              0.7777777777777778,
              "#fb9f3a"
             ],
             [
              0.8888888888888888,
              "#fdca26"
             ],
             [
              1,
              "#f0f921"
             ]
            ],
            "type": "heatmap"
           }
          ],
          "heatmapgl": [
           {
            "colorbar": {
             "outlinewidth": 0,
             "ticks": ""
            },
            "colorscale": [
             [
              0,
              "#0d0887"
             ],
             [
              0.1111111111111111,
              "#46039f"
             ],
             [
              0.2222222222222222,
              "#7201a8"
             ],
             [
              0.3333333333333333,
              "#9c179e"
             ],
             [
              0.4444444444444444,
              "#bd3786"
             ],
             [
              0.5555555555555556,
              "#d8576b"
             ],
             [
              0.6666666666666666,
              "#ed7953"
             ],
             [
              0.7777777777777778,
              "#fb9f3a"
             ],
             [
              0.8888888888888888,
              "#fdca26"
             ],
             [
              1,
              "#f0f921"
             ]
            ],
            "type": "heatmapgl"
           }
          ],
          "histogram": [
           {
            "marker": {
             "pattern": {
              "fillmode": "overlay",
              "size": 10,
              "solidity": 0.2
             }
            },
            "type": "histogram"
           }
          ],
          "histogram2d": [
           {
            "colorbar": {
             "outlinewidth": 0,
             "ticks": ""
            },
            "colorscale": [
             [
              0,
              "#0d0887"
             ],
             [
              0.1111111111111111,
              "#46039f"
             ],
             [
              0.2222222222222222,
              "#7201a8"
             ],
             [
              0.3333333333333333,
              "#9c179e"
             ],
             [
              0.4444444444444444,
              "#bd3786"
             ],
             [
              0.5555555555555556,
              "#d8576b"
             ],
             [
              0.6666666666666666,
              "#ed7953"
             ],
             [
              0.7777777777777778,
              "#fb9f3a"
             ],
             [
              0.8888888888888888,
              "#fdca26"
             ],
             [
              1,
              "#f0f921"
             ]
            ],
            "type": "histogram2d"
           }
          ],
          "histogram2dcontour": [
           {
            "colorbar": {
             "outlinewidth": 0,
             "ticks": ""
            },
            "colorscale": [
             [
              0,
              "#0d0887"
             ],
             [
              0.1111111111111111,
              "#46039f"
             ],
             [
              0.2222222222222222,
              "#7201a8"
             ],
             [
              0.3333333333333333,
              "#9c179e"
             ],
             [
              0.4444444444444444,
              "#bd3786"
             ],
             [
              0.5555555555555556,
              "#d8576b"
             ],
             [
              0.6666666666666666,
              "#ed7953"
             ],
             [
              0.7777777777777778,
              "#fb9f3a"
             ],
             [
              0.8888888888888888,
              "#fdca26"
             ],
             [
              1,
              "#f0f921"
             ]
            ],
            "type": "histogram2dcontour"
           }
          ],
          "mesh3d": [
           {
            "colorbar": {
             "outlinewidth": 0,
             "ticks": ""
            },
            "type": "mesh3d"
           }
          ],
          "parcoords": [
           {
            "line": {
             "colorbar": {
              "outlinewidth": 0,
              "ticks": ""
             }
            },
            "type": "parcoords"
           }
          ],
          "pie": [
           {
            "automargin": true,
            "type": "pie"
           }
          ],
          "scatter": [
           {
            "fillpattern": {
             "fillmode": "overlay",
             "size": 10,
             "solidity": 0.2
            },
            "type": "scatter"
           }
          ],
          "scatter3d": [
           {
            "line": {
             "colorbar": {
              "outlinewidth": 0,
              "ticks": ""
             }
            },
            "marker": {
             "colorbar": {
              "outlinewidth": 0,
              "ticks": ""
             }
            },
            "type": "scatter3d"
           }
          ],
          "scattercarpet": [
           {
            "marker": {
             "colorbar": {
              "outlinewidth": 0,
              "ticks": ""
             }
            },
            "type": "scattercarpet"
           }
          ],
          "scattergeo": [
           {
            "marker": {
             "colorbar": {
              "outlinewidth": 0,
              "ticks": ""
             }
            },
            "type": "scattergeo"
           }
          ],
          "scattergl": [
           {
            "marker": {
             "colorbar": {
              "outlinewidth": 0,
              "ticks": ""
             }
            },
            "type": "scattergl"
           }
          ],
          "scattermapbox": [
           {
            "marker": {
             "colorbar": {
              "outlinewidth": 0,
              "ticks": ""
             }
            },
            "type": "scattermapbox"
           }
          ],
          "scatterpolar": [
           {
            "marker": {
             "colorbar": {
              "outlinewidth": 0,
              "ticks": ""
             }
            },
            "type": "scatterpolar"
           }
          ],
          "scatterpolargl": [
           {
            "marker": {
             "colorbar": {
              "outlinewidth": 0,
              "ticks": ""
             }
            },
            "type": "scatterpolargl"
           }
          ],
          "scatterternary": [
           {
            "marker": {
             "colorbar": {
              "outlinewidth": 0,
              "ticks": ""
             }
            },
            "type": "scatterternary"
           }
          ],
          "surface": [
           {
            "colorbar": {
             "outlinewidth": 0,
             "ticks": ""
            },
            "colorscale": [
             [
              0,
              "#0d0887"
             ],
             [
              0.1111111111111111,
              "#46039f"
             ],
             [
              0.2222222222222222,
              "#7201a8"
             ],
             [
              0.3333333333333333,
              "#9c179e"
             ],
             [
              0.4444444444444444,
              "#bd3786"
             ],
             [
              0.5555555555555556,
              "#d8576b"
             ],
             [
              0.6666666666666666,
              "#ed7953"
             ],
             [
              0.7777777777777778,
              "#fb9f3a"
             ],
             [
              0.8888888888888888,
              "#fdca26"
             ],
             [
              1,
              "#f0f921"
             ]
            ],
            "type": "surface"
           }
          ],
          "table": [
           {
            "cells": {
             "fill": {
              "color": "#EBF0F8"
             },
             "line": {
              "color": "white"
             }
            },
            "header": {
             "fill": {
              "color": "#C8D4E3"
             },
             "line": {
              "color": "white"
             }
            },
            "type": "table"
           }
          ]
         },
         "layout": {
          "annotationdefaults": {
           "arrowcolor": "#2a3f5f",
           "arrowhead": 0,
           "arrowwidth": 1
          },
          "autotypenumbers": "strict",
          "coloraxis": {
           "colorbar": {
            "outlinewidth": 0,
            "ticks": ""
           }
          },
          "colorscale": {
           "diverging": [
            [
             0,
             "#8e0152"
            ],
            [
             0.1,
             "#c51b7d"
            ],
            [
             0.2,
             "#de77ae"
            ],
            [
             0.3,
             "#f1b6da"
            ],
            [
             0.4,
             "#fde0ef"
            ],
            [
             0.5,
             "#f7f7f7"
            ],
            [
             0.6,
             "#e6f5d0"
            ],
            [
             0.7,
             "#b8e186"
            ],
            [
             0.8,
             "#7fbc41"
            ],
            [
             0.9,
             "#4d9221"
            ],
            [
             1,
             "#276419"
            ]
           ],
           "sequential": [
            [
             0,
             "#0d0887"
            ],
            [
             0.1111111111111111,
             "#46039f"
            ],
            [
             0.2222222222222222,
             "#7201a8"
            ],
            [
             0.3333333333333333,
             "#9c179e"
            ],
            [
             0.4444444444444444,
             "#bd3786"
            ],
            [
             0.5555555555555556,
             "#d8576b"
            ],
            [
             0.6666666666666666,
             "#ed7953"
            ],
            [
             0.7777777777777778,
             "#fb9f3a"
            ],
            [
             0.8888888888888888,
             "#fdca26"
            ],
            [
             1,
             "#f0f921"
            ]
           ],
           "sequentialminus": [
            [
             0,
             "#0d0887"
            ],
            [
             0.1111111111111111,
             "#46039f"
            ],
            [
             0.2222222222222222,
             "#7201a8"
            ],
            [
             0.3333333333333333,
             "#9c179e"
            ],
            [
             0.4444444444444444,
             "#bd3786"
            ],
            [
             0.5555555555555556,
             "#d8576b"
            ],
            [
             0.6666666666666666,
             "#ed7953"
            ],
            [
             0.7777777777777778,
             "#fb9f3a"
            ],
            [
             0.8888888888888888,
             "#fdca26"
            ],
            [
             1,
             "#f0f921"
            ]
           ]
          },
          "colorway": [
           "#636efa",
           "#EF553B",
           "#00cc96",
           "#ab63fa",
           "#FFA15A",
           "#19d3f3",
           "#FF6692",
           "#B6E880",
           "#FF97FF",
           "#FECB52"
          ],
          "font": {
           "color": "#2a3f5f"
          },
          "geo": {
           "bgcolor": "white",
           "lakecolor": "white",
           "landcolor": "white",
           "showlakes": true,
           "showland": true,
           "subunitcolor": "#C8D4E3"
          },
          "hoverlabel": {
           "align": "left"
          },
          "hovermode": "closest",
          "mapbox": {
           "style": "light"
          },
          "paper_bgcolor": "white",
          "plot_bgcolor": "white",
          "polar": {
           "angularaxis": {
            "gridcolor": "#EBF0F8",
            "linecolor": "#EBF0F8",
            "ticks": ""
           },
           "bgcolor": "white",
           "radialaxis": {
            "gridcolor": "#EBF0F8",
            "linecolor": "#EBF0F8",
            "ticks": ""
           }
          },
          "scene": {
           "xaxis": {
            "backgroundcolor": "white",
            "gridcolor": "#DFE8F3",
            "gridwidth": 2,
            "linecolor": "#EBF0F8",
            "showbackground": true,
            "ticks": "",
            "zerolinecolor": "#EBF0F8"
           },
           "yaxis": {
            "backgroundcolor": "white",
            "gridcolor": "#DFE8F3",
            "gridwidth": 2,
            "linecolor": "#EBF0F8",
            "showbackground": true,
            "ticks": "",
            "zerolinecolor": "#EBF0F8"
           },
           "zaxis": {
            "backgroundcolor": "white",
            "gridcolor": "#DFE8F3",
            "gridwidth": 2,
            "linecolor": "#EBF0F8",
            "showbackground": true,
            "ticks": "",
            "zerolinecolor": "#EBF0F8"
           }
          },
          "shapedefaults": {
           "line": {
            "color": "#2a3f5f"
           }
          },
          "ternary": {
           "aaxis": {
            "gridcolor": "#DFE8F3",
            "linecolor": "#A2B1C6",
            "ticks": ""
           },
           "baxis": {
            "gridcolor": "#DFE8F3",
            "linecolor": "#A2B1C6",
            "ticks": ""
           },
           "bgcolor": "white",
           "caxis": {
            "gridcolor": "#DFE8F3",
            "linecolor": "#A2B1C6",
            "ticks": ""
           }
          },
          "title": {
           "x": 0.05
          },
          "xaxis": {
           "automargin": true,
           "gridcolor": "#EBF0F8",
           "linecolor": "#EBF0F8",
           "ticks": "",
           "title": {
            "standoff": 15
           },
           "zerolinecolor": "#EBF0F8",
           "zerolinewidth": 2
          },
          "yaxis": {
           "automargin": true,
           "gridcolor": "#EBF0F8",
           "linecolor": "#EBF0F8",
           "ticks": "",
           "title": {
            "standoff": 15
           },
           "zerolinecolor": "#EBF0F8",
           "zerolinewidth": 2
          }
         }
        },
        "title": {
         "text": "Распределение значений метрики F1"
        },
        "xaxis": {
         "title": {
          "text": "F1"
         }
        },
        "yaxis": {
         "title": {
          "text": "Количество трейлов"
         }
        }
       }
      }
     },
     "metadata": {},
     "output_type": "display_data"
    }
   ],
   "source": [
    "plot_param_importances(study_palogreg)\n",
    "trial_duration_performance(study_palogreg, model_names=['PassiveAggressiveClassifier'])\n",
    "trial_score_distribution(study_palogreg, model_names=['PassiveAggressiveClassifier'])\n"
   ]
  },
  {
   "cell_type": "markdown",
   "metadata": {},
   "source": [
    "_____\n",
    "### <a id='toc1_7_5_'></a>[RandomForestClassifier](#toc0_)"
   ]
  },
  {
   "cell_type": "code",
   "execution_count": 28,
   "metadata": {},
   "outputs": [],
   "source": [
    "pipeline = get_pipepline(\n",
    "    lemm_column=X.columns[0],\n",
    ")\n",
    "model_params_cat = {\n",
    "    'model': [RandomForestClassifier(n_jobs=2)],\n",
    "    'preprocessor__vectorizer__ngram_range': [(1, 1), (1, 2)],\n",
    "}\n",
    "model_params_num = {\n",
    "    'model__n_estimators': lambda trial: trial.suggest_int('model__n_estimators', 50, 100),\n",
    "    'model__max_samples': lambda trial: trial.suggest_float('model__max_samples', 0.5, 0.7),\n",
    "    'model__max_depth': lambda trial: trial.suggest_int('model__max_depth', 7, 15),\n",
    "    'model__min_samples_split': lambda trial: trial.suggest_int('model__min_samples_split', 3, 7),\n",
    "    'model__min_samples_leaf': lambda trial: trial.suggest_int('model__min_samples_leaf', 2, 4),\n",
    "}"
   ]
  },
  {
   "cell_type": "code",
   "execution_count": 29,
   "metadata": {},
   "outputs": [],
   "source": [
    "study_randomforest = get_trained_optuna_study('randomforest', restudy=False, direction='maximize')"
   ]
  },
  {
   "cell_type": "code",
   "execution_count": 30,
   "metadata": {},
   "outputs": [
    {
     "name": "stdout",
     "output_type": "stream",
     "text": [
      "Best cross-val f1: 0.001\n",
      "\n",
      "Best parameters:\n",
      "{'model': RandomForestClassifier(n_jobs=2),\n",
      " 'model__max_depth': 15,\n",
      " 'model__max_samples': 0.6365582818549287,\n",
      " 'model__min_samples_leaf': 2,\n",
      " 'model__min_samples_split': 3,\n",
      " 'model__n_estimators': 55,\n",
      " 'preprocessor__vectorizer': CountVectorizer(dtype=<class 'numpy.float32'>,\n",
      "                stop_words=['being', 'above', 'of', 'his', 'your', 'we',\n",
      "                            'these', \"she'll\", 'are', 'o', 'i', 'a', 'ma',\n",
      "                            'most', 'has', 'isn', 'yours', 'which', 'yourself',\n",
      "                            \"you're\", \"i'd\", 'from', 'aren', 'then', 'who',\n",
      "                            \"it'll\", 'ain', 'been', 'because', \"wasn't\", ...]),\n",
      " 'preprocessor__vectorizer__ngram_range': (1, 1)}\n"
     ]
    }
   ],
   "source": [
    "print(f'Best cross-val f1: {study_randomforest.best_value:.3f}')\n",
    "best_params_randomforest = get_named_params(study_randomforest.best_params)\n",
    "print('\\nBest parameters:')\n",
    "pprint(best_params_randomforest)"
   ]
  },
  {
   "cell_type": "markdown",
   "metadata": {},
   "source": [
    "_____\n",
    "### <a id='toc1_7_5_'></a>[LGBMClassifier](#toc0_)"
   ]
  },
  {
   "cell_type": "code",
   "execution_count": 31,
   "metadata": {},
   "outputs": [],
   "source": [
    "pipeline = get_pipepline(\n",
    "    lemm_column=X.columns[0],\n",
    ")\n",
    "\n",
    "model_params_cat = {\n",
    "    'model': [LGBMClassifier(random_state=RANDOM_STATE, n_jobs=2, objective='rmse')],\n",
    "    'model__boosting_type': ['gbdt', 'rf', 'goss'],\n",
    "    'model__max_depth': [-1, 5, 10, 15, 20],\n",
    "    'preprocessor__vectorizer__ngram_range': [(1, 1), (1, 2)],\n",
    "}\n",
    "model_params_num = {\n",
    "    'model__learning_rate': lambda trial: trial.suggest_float('model__learning_rate', 0.01, 0.99),\n",
    "    'model__n_estimators': lambda trial: trial.suggest_int('model__n_estimators', 80, 150),\n",
    "    'model__min_child_samples': lambda trial: trial.suggest_int('model__min_child_samples', 5, 20),\n",
    "    'model__subsample': lambda trial: trial.suggest_float('model__subsample', 0.5, 0.9),\n",
    "    'model__colsample_bytree': lambda trial: trial.suggest_float('model__colsample_bytree', 0.6, 1),\n",
    "    'model__reg_alpha': lambda trial: trial.suggest_float('model__reg_alpha', 0.00, 0.1),\n",
    "    'model__reg_lambda': lambda trial: trial.suggest_float('model__reg_lambda', 0.00, 0.1),\n",
    "}"
   ]
  },
  {
   "cell_type": "code",
   "execution_count": 32,
   "metadata": {},
   "outputs": [],
   "source": [
    "study_lgbm = get_trained_optuna_study('lgbm', restudy=False, direction='maximize')"
   ]
  },
  {
   "cell_type": "code",
   "execution_count": 33,
   "metadata": {},
   "outputs": [
    {
     "name": "stdout",
     "output_type": "stream",
     "text": [
      "Best cross-val f1: 0.771\n",
      "\n",
      "Best parameters:\n",
      "{'model': LGBMClassifier(n_jobs=2, objective='rmse', random_state=42),\n",
      " 'model__boosting_type': 'gbdt',\n",
      " 'model__colsample_bytree': 0.6396857600825309,\n",
      " 'model__learning_rate': 0.3886072432451956,\n",
      " 'model__max_depth': -1,\n",
      " 'model__min_child_samples': 16,\n",
      " 'model__n_estimators': 98,\n",
      " 'model__reg_alpha': 0.07713052207546063,\n",
      " 'model__reg_lambda': 0.07371242795466323,\n",
      " 'model__subsample': 0.7681788129204197,\n",
      " 'preprocessor__vectorizer': TfidfVectorizer(dtype=<class 'numpy.float32'>,\n",
      "                stop_words=['being', 'above', 'of', 'his', 'your', 'we',\n",
      "                            'these', \"she'll\", 'are', 'o', 'i', 'a', 'ma',\n",
      "                            'most', 'has', 'isn', 'yours', 'which', 'yourself',\n",
      "                            \"you're\", \"i'd\", 'from', 'aren', 'then', 'who',\n",
      "                            \"it'll\", 'ain', 'been', 'because', \"wasn't\", ...]),\n",
      " 'preprocessor__vectorizer__ngram_range': (1, 2)}\n"
     ]
    }
   ],
   "source": [
    "print(f'Best cross-val f1: {study_lgbm.best_value:.3f}')\n",
    "best_params_lgbm = get_named_params(study_lgbm.best_params)\n",
    "print('\\nBest parameters:')\n",
    "pprint(best_params_lgbm)"
   ]
  },
  {
   "cell_type": "code",
   "execution_count": 34,
   "metadata": {},
   "outputs": [
    {
     "data": {
      "application/vnd.plotly.v1+json": {
       "config": {
        "plotlyServerURL": "https://plot.ly"
       },
       "data": [
        {
         "legendgroup": "0",
         "legendgrouptitle": {
          "text": "LGBMClassifier"
         },
         "marker": {
          "color": "#FFA15A",
          "opacity": 0.5,
          "size": 10
         },
         "mode": "markers",
         "name": "LGBMClassifier",
         "type": "scatter",
         "x": [
          21.00816,
          40.383937,
          46.582258,
          50.382083,
          53.456214,
          72.242256,
          72.279589,
          72.334683,
          72.627627,
          72.728181,
          73.458811,
          73.899561,
          74.406501,
          74.960798,
          75.62114,
          75.657932,
          75.823614,
          77.289886,
          77.783397,
          78.253089,
          80.201033,
          81.078099,
          82.228805,
          82.742162,
          82.95903,
          83.280931,
          84.377906,
          84.793408,
          85.116036,
          85.38533,
          85.843963,
          87.007998,
          87.866133,
          87.94283,
          88.026536,
          92.150846,
          95.586244,
          96.770951,
          97.041993,
          97.165624,
          97.296608,
          97.856791,
          98.261494,
          100.723103,
          101.056265,
          101.732252,
          102.324299,
          102.578714,
          103.105212,
          103.277811,
          103.413292,
          106.752412,
          108.634005,
          108.833998,
          109.545342,
          110.329186,
          112.62593,
          112.708896,
          113.04408,
          113.551549,
          113.78674,
          114.689283,
          116.795142,
          116.824948,
          118.652494,
          120.261266,
          121.129318,
          121.191644,
          122.106414,
          122.758036,
          125.594955,
          125.648889,
          126.584155,
          126.684637,
          127.815238,
          128.889137,
          130.185601,
          136.994634,
          137.693358,
          143.607598,
          144.532247,
          144.917258,
          145.329753,
          147.53146,
          148.321679,
          150.722658,
          153.369888,
          153.823298,
          154.36009,
          155.387944,
          155.481446,
          157.350357,
          163.976283,
          167.79441,
          173.536971,
          181.092246,
          190.602592,
          198.00033,
          223.84175,
          229.728958
         ],
         "y": [
          0.6916476886002438,
          0.667163736140836,
          0.7529627605205039,
          0.6815158531326407,
          0.7460578518371065,
          0.7443389449750802,
          0.7156005408582732,
          0.6642208733817501,
          0.6818455548407695,
          0.6148685770189072,
          0.7483366231091365,
          0.7512696002367488,
          0.7517281022805364,
          0.7549908096627944,
          0.7545005463047403,
          0.750808832617304,
          0.7519572713937621,
          0.7562426905183308,
          0.741925979880406,
          0.7321848894843033,
          0.7345832891095424,
          0.7360682841698971,
          0.7526318959900927,
          0.7553717089318264,
          0.6915688361521064,
          0.7587308195933085,
          0.7344791014268489,
          0.7427023649215471,
          0.7591296392186437,
          0.752962068178381,
          0.7525271662097331,
          0.7616815501053751,
          0.7609718028703075,
          0.7259558172019867,
          0.752675751179001,
          0.6560494338118652,
          0.70731597948274,
          0.6770721575850369,
          0.760871710555686,
          0.7680587265198058,
          0.7689816018048184,
          0.7680760007032841,
          0.7313890394909569,
          0.7527735442901261,
          0.7601569127342738,
          0.6274080263361108,
          0.7589102914395661,
          0.7711850787476161,
          0.7602984988960847,
          0.7678553588612637,
          0.7546010690342376,
          0.7688987134671063,
          0.7674166189839908,
          0.7686095202912322,
          0.7693263026522861,
          0.7698956900927554,
          0.6642664442600029,
          0.7681661179814019,
          0.7711523671893381,
          0.768306018312777,
          0.7550981472530327,
          0.7680406999726876,
          0.7707725561069767,
          0.7656169708917915,
          0.769042654697682,
          0.7300515619910534,
          0.7665420532979128,
          0.6825709312069843,
          0.7709490640921416,
          0.7605284888475181,
          0.7682722630175162,
          0.7692916707267518,
          0.7645973223063354,
          0.7667047988920876,
          0.7697476390738947,
          0.7178951183318549,
          0.7687035123826693,
          0.6631782993969463,
          0.7542401958747368,
          0.7706886171982961,
          0.7579222151600958,
          0.6893842440569592,
          0.7529118650132866,
          0.7696596002288728,
          0.7586451188031511,
          0.7567855494739526,
          0.7575390346630549,
          0.7484078697849121,
          0.7588892166952881,
          0.7571634644901293,
          0.7682619492822369,
          0.7590311300757812,
          0.75719448151109,
          0.7553297600524068,
          0.7432382288178443,
          0.7260012700992665,
          0.7176532883305607,
          0.749396603784001,
          0.7255876471188161,
          0.7493610359858585
         ]
        },
        {
         "legendgroup": "0",
         "marker": {
          "color": "#FFA15A",
          "line": {
           "color": "black",
           "width": 2
          },
          "size": 10
         },
         "mode": "markers",
         "name": "Лучшее: LGBMClassifier",
         "showlegend": false,
         "type": "scatter",
         "x": [
          102.578714
         ],
         "y": [
          0.7711850787476161
         ]
        }
       ],
       "layout": {
        "showlegend": true,
        "template": {
         "data": {
          "bar": [
           {
            "error_x": {
             "color": "#2a3f5f"
            },
            "error_y": {
             "color": "#2a3f5f"
            },
            "marker": {
             "line": {
              "color": "white",
              "width": 0.5
             },
             "pattern": {
              "fillmode": "overlay",
              "size": 10,
              "solidity": 0.2
             }
            },
            "type": "bar"
           }
          ],
          "barpolar": [
           {
            "marker": {
             "line": {
              "color": "white",
              "width": 0.5
             },
             "pattern": {
              "fillmode": "overlay",
              "size": 10,
              "solidity": 0.2
             }
            },
            "type": "barpolar"
           }
          ],
          "carpet": [
           {
            "aaxis": {
             "endlinecolor": "#2a3f5f",
             "gridcolor": "#C8D4E3",
             "linecolor": "#C8D4E3",
             "minorgridcolor": "#C8D4E3",
             "startlinecolor": "#2a3f5f"
            },
            "baxis": {
             "endlinecolor": "#2a3f5f",
             "gridcolor": "#C8D4E3",
             "linecolor": "#C8D4E3",
             "minorgridcolor": "#C8D4E3",
             "startlinecolor": "#2a3f5f"
            },
            "type": "carpet"
           }
          ],
          "choropleth": [
           {
            "colorbar": {
             "outlinewidth": 0,
             "ticks": ""
            },
            "type": "choropleth"
           }
          ],
          "contour": [
           {
            "colorbar": {
             "outlinewidth": 0,
             "ticks": ""
            },
            "colorscale": [
             [
              0,
              "#0d0887"
             ],
             [
              0.1111111111111111,
              "#46039f"
             ],
             [
              0.2222222222222222,
              "#7201a8"
             ],
             [
              0.3333333333333333,
              "#9c179e"
             ],
             [
              0.4444444444444444,
              "#bd3786"
             ],
             [
              0.5555555555555556,
              "#d8576b"
             ],
             [
              0.6666666666666666,
              "#ed7953"
             ],
             [
              0.7777777777777778,
              "#fb9f3a"
             ],
             [
              0.8888888888888888,
              "#fdca26"
             ],
             [
              1,
              "#f0f921"
             ]
            ],
            "type": "contour"
           }
          ],
          "contourcarpet": [
           {
            "colorbar": {
             "outlinewidth": 0,
             "ticks": ""
            },
            "type": "contourcarpet"
           }
          ],
          "heatmap": [
           {
            "colorbar": {
             "outlinewidth": 0,
             "ticks": ""
            },
            "colorscale": [
             [
              0,
              "#0d0887"
             ],
             [
              0.1111111111111111,
              "#46039f"
             ],
             [
              0.2222222222222222,
              "#7201a8"
             ],
             [
              0.3333333333333333,
              "#9c179e"
             ],
             [
              0.4444444444444444,
              "#bd3786"
             ],
             [
              0.5555555555555556,
              "#d8576b"
             ],
             [
              0.6666666666666666,
              "#ed7953"
             ],
             [
              0.7777777777777778,
              "#fb9f3a"
             ],
             [
              0.8888888888888888,
              "#fdca26"
             ],
             [
              1,
              "#f0f921"
             ]
            ],
            "type": "heatmap"
           }
          ],
          "heatmapgl": [
           {
            "colorbar": {
             "outlinewidth": 0,
             "ticks": ""
            },
            "colorscale": [
             [
              0,
              "#0d0887"
             ],
             [
              0.1111111111111111,
              "#46039f"
             ],
             [
              0.2222222222222222,
              "#7201a8"
             ],
             [
              0.3333333333333333,
              "#9c179e"
             ],
             [
              0.4444444444444444,
              "#bd3786"
             ],
             [
              0.5555555555555556,
              "#d8576b"
             ],
             [
              0.6666666666666666,
              "#ed7953"
             ],
             [
              0.7777777777777778,
              "#fb9f3a"
             ],
             [
              0.8888888888888888,
              "#fdca26"
             ],
             [
              1,
              "#f0f921"
             ]
            ],
            "type": "heatmapgl"
           }
          ],
          "histogram": [
           {
            "marker": {
             "pattern": {
              "fillmode": "overlay",
              "size": 10,
              "solidity": 0.2
             }
            },
            "type": "histogram"
           }
          ],
          "histogram2d": [
           {
            "colorbar": {
             "outlinewidth": 0,
             "ticks": ""
            },
            "colorscale": [
             [
              0,
              "#0d0887"
             ],
             [
              0.1111111111111111,
              "#46039f"
             ],
             [
              0.2222222222222222,
              "#7201a8"
             ],
             [
              0.3333333333333333,
              "#9c179e"
             ],
             [
              0.4444444444444444,
              "#bd3786"
             ],
             [
              0.5555555555555556,
              "#d8576b"
             ],
             [
              0.6666666666666666,
              "#ed7953"
             ],
             [
              0.7777777777777778,
              "#fb9f3a"
             ],
             [
              0.8888888888888888,
              "#fdca26"
             ],
             [
              1,
              "#f0f921"
             ]
            ],
            "type": "histogram2d"
           }
          ],
          "histogram2dcontour": [
           {
            "colorbar": {
             "outlinewidth": 0,
             "ticks": ""
            },
            "colorscale": [
             [
              0,
              "#0d0887"
             ],
             [
              0.1111111111111111,
              "#46039f"
             ],
             [
              0.2222222222222222,
              "#7201a8"
             ],
             [
              0.3333333333333333,
              "#9c179e"
             ],
             [
              0.4444444444444444,
              "#bd3786"
             ],
             [
              0.5555555555555556,
              "#d8576b"
             ],
             [
              0.6666666666666666,
              "#ed7953"
             ],
             [
              0.7777777777777778,
              "#fb9f3a"
             ],
             [
              0.8888888888888888,
              "#fdca26"
             ],
             [
              1,
              "#f0f921"
             ]
            ],
            "type": "histogram2dcontour"
           }
          ],
          "mesh3d": [
           {
            "colorbar": {
             "outlinewidth": 0,
             "ticks": ""
            },
            "type": "mesh3d"
           }
          ],
          "parcoords": [
           {
            "line": {
             "colorbar": {
              "outlinewidth": 0,
              "ticks": ""
             }
            },
            "type": "parcoords"
           }
          ],
          "pie": [
           {
            "automargin": true,
            "type": "pie"
           }
          ],
          "scatter": [
           {
            "fillpattern": {
             "fillmode": "overlay",
             "size": 10,
             "solidity": 0.2
            },
            "type": "scatter"
           }
          ],
          "scatter3d": [
           {
            "line": {
             "colorbar": {
              "outlinewidth": 0,
              "ticks": ""
             }
            },
            "marker": {
             "colorbar": {
              "outlinewidth": 0,
              "ticks": ""
             }
            },
            "type": "scatter3d"
           }
          ],
          "scattercarpet": [
           {
            "marker": {
             "colorbar": {
              "outlinewidth": 0,
              "ticks": ""
             }
            },
            "type": "scattercarpet"
           }
          ],
          "scattergeo": [
           {
            "marker": {
             "colorbar": {
              "outlinewidth": 0,
              "ticks": ""
             }
            },
            "type": "scattergeo"
           }
          ],
          "scattergl": [
           {
            "marker": {
             "colorbar": {
              "outlinewidth": 0,
              "ticks": ""
             }
            },
            "type": "scattergl"
           }
          ],
          "scattermapbox": [
           {
            "marker": {
             "colorbar": {
              "outlinewidth": 0,
              "ticks": ""
             }
            },
            "type": "scattermapbox"
           }
          ],
          "scatterpolar": [
           {
            "marker": {
             "colorbar": {
              "outlinewidth": 0,
              "ticks": ""
             }
            },
            "type": "scatterpolar"
           }
          ],
          "scatterpolargl": [
           {
            "marker": {
             "colorbar": {
              "outlinewidth": 0,
              "ticks": ""
             }
            },
            "type": "scatterpolargl"
           }
          ],
          "scatterternary": [
           {
            "marker": {
             "colorbar": {
              "outlinewidth": 0,
              "ticks": ""
             }
            },
            "type": "scatterternary"
           }
          ],
          "surface": [
           {
            "colorbar": {
             "outlinewidth": 0,
             "ticks": ""
            },
            "colorscale": [
             [
              0,
              "#0d0887"
             ],
             [
              0.1111111111111111,
              "#46039f"
             ],
             [
              0.2222222222222222,
              "#7201a8"
             ],
             [
              0.3333333333333333,
              "#9c179e"
             ],
             [
              0.4444444444444444,
              "#bd3786"
             ],
             [
              0.5555555555555556,
              "#d8576b"
             ],
             [
              0.6666666666666666,
              "#ed7953"
             ],
             [
              0.7777777777777778,
              "#fb9f3a"
             ],
             [
              0.8888888888888888,
              "#fdca26"
             ],
             [
              1,
              "#f0f921"
             ]
            ],
            "type": "surface"
           }
          ],
          "table": [
           {
            "cells": {
             "fill": {
              "color": "#EBF0F8"
             },
             "line": {
              "color": "white"
             }
            },
            "header": {
             "fill": {
              "color": "#C8D4E3"
             },
             "line": {
              "color": "white"
             }
            },
            "type": "table"
           }
          ]
         },
         "layout": {
          "annotationdefaults": {
           "arrowcolor": "#2a3f5f",
           "arrowhead": 0,
           "arrowwidth": 1
          },
          "autotypenumbers": "strict",
          "coloraxis": {
           "colorbar": {
            "outlinewidth": 0,
            "ticks": ""
           }
          },
          "colorscale": {
           "diverging": [
            [
             0,
             "#8e0152"
            ],
            [
             0.1,
             "#c51b7d"
            ],
            [
             0.2,
             "#de77ae"
            ],
            [
             0.3,
             "#f1b6da"
            ],
            [
             0.4,
             "#fde0ef"
            ],
            [
             0.5,
             "#f7f7f7"
            ],
            [
             0.6,
             "#e6f5d0"
            ],
            [
             0.7,
             "#b8e186"
            ],
            [
             0.8,
             "#7fbc41"
            ],
            [
             0.9,
             "#4d9221"
            ],
            [
             1,
             "#276419"
            ]
           ],
           "sequential": [
            [
             0,
             "#0d0887"
            ],
            [
             0.1111111111111111,
             "#46039f"
            ],
            [
             0.2222222222222222,
             "#7201a8"
            ],
            [
             0.3333333333333333,
             "#9c179e"
            ],
            [
             0.4444444444444444,
             "#bd3786"
            ],
            [
             0.5555555555555556,
             "#d8576b"
            ],
            [
             0.6666666666666666,
             "#ed7953"
            ],
            [
             0.7777777777777778,
             "#fb9f3a"
            ],
            [
             0.8888888888888888,
             "#fdca26"
            ],
            [
             1,
             "#f0f921"
            ]
           ],
           "sequentialminus": [
            [
             0,
             "#0d0887"
            ],
            [
             0.1111111111111111,
             "#46039f"
            ],
            [
             0.2222222222222222,
             "#7201a8"
            ],
            [
             0.3333333333333333,
             "#9c179e"
            ],
            [
             0.4444444444444444,
             "#bd3786"
            ],
            [
             0.5555555555555556,
             "#d8576b"
            ],
            [
             0.6666666666666666,
             "#ed7953"
            ],
            [
             0.7777777777777778,
             "#fb9f3a"
            ],
            [
             0.8888888888888888,
             "#fdca26"
            ],
            [
             1,
             "#f0f921"
            ]
           ]
          },
          "colorway": [
           "#636efa",
           "#EF553B",
           "#00cc96",
           "#ab63fa",
           "#FFA15A",
           "#19d3f3",
           "#FF6692",
           "#B6E880",
           "#FF97FF",
           "#FECB52"
          ],
          "font": {
           "color": "#2a3f5f"
          },
          "geo": {
           "bgcolor": "white",
           "lakecolor": "white",
           "landcolor": "white",
           "showlakes": true,
           "showland": true,
           "subunitcolor": "#C8D4E3"
          },
          "hoverlabel": {
           "align": "left"
          },
          "hovermode": "closest",
          "mapbox": {
           "style": "light"
          },
          "paper_bgcolor": "white",
          "plot_bgcolor": "white",
          "polar": {
           "angularaxis": {
            "gridcolor": "#EBF0F8",
            "linecolor": "#EBF0F8",
            "ticks": ""
           },
           "bgcolor": "white",
           "radialaxis": {
            "gridcolor": "#EBF0F8",
            "linecolor": "#EBF0F8",
            "ticks": ""
           }
          },
          "scene": {
           "xaxis": {
            "backgroundcolor": "white",
            "gridcolor": "#DFE8F3",
            "gridwidth": 2,
            "linecolor": "#EBF0F8",
            "showbackground": true,
            "ticks": "",
            "zerolinecolor": "#EBF0F8"
           },
           "yaxis": {
            "backgroundcolor": "white",
            "gridcolor": "#DFE8F3",
            "gridwidth": 2,
            "linecolor": "#EBF0F8",
            "showbackground": true,
            "ticks": "",
            "zerolinecolor": "#EBF0F8"
           },
           "zaxis": {
            "backgroundcolor": "white",
            "gridcolor": "#DFE8F3",
            "gridwidth": 2,
            "linecolor": "#EBF0F8",
            "showbackground": true,
            "ticks": "",
            "zerolinecolor": "#EBF0F8"
           }
          },
          "shapedefaults": {
           "line": {
            "color": "#2a3f5f"
           }
          },
          "ternary": {
           "aaxis": {
            "gridcolor": "#DFE8F3",
            "linecolor": "#A2B1C6",
            "ticks": ""
           },
           "baxis": {
            "gridcolor": "#DFE8F3",
            "linecolor": "#A2B1C6",
            "ticks": ""
           },
           "bgcolor": "white",
           "caxis": {
            "gridcolor": "#DFE8F3",
            "linecolor": "#A2B1C6",
            "ticks": ""
           }
          },
          "title": {
           "x": 0.05
          },
          "xaxis": {
           "automargin": true,
           "gridcolor": "#EBF0F8",
           "linecolor": "#EBF0F8",
           "ticks": "",
           "title": {
            "standoff": 15
           },
           "zerolinecolor": "#EBF0F8",
           "zerolinewidth": 2
          },
          "yaxis": {
           "automargin": true,
           "gridcolor": "#EBF0F8",
           "linecolor": "#EBF0F8",
           "ticks": "",
           "title": {
            "standoff": 15
           },
           "zerolinecolor": "#EBF0F8",
           "zerolinewidth": 2
          }
         }
        },
        "title": {
         "text": "F1 в зависимости от времени трейла"
        },
        "xaxis": {
         "title": {
          "text": "Время выполнения трейла (сек)"
         }
        },
        "yaxis": {
         "title": {
          "text": "F1"
         }
        }
       }
      }
     },
     "metadata": {},
     "output_type": "display_data"
    },
    {
     "data": {
      "application/vnd.plotly.v1+json": {
       "config": {
        "plotlyServerURL": "https://plot.ly"
       },
       "data": [
        {
         "legendgroup": "0",
         "legendgrouptitle": {
          "text": "LGBMClassifier"
         },
         "marker": {
          "color": "#19D3F3"
         },
         "name": "LGBMClassifier",
         "opacity": 0.6,
         "type": "histogram",
         "x": [
          0.7255876471188161,
          0.6148685770189072,
          0.7260012700992665,
          0.7156005408582732,
          0.6916476886002438,
          0.6893842440569592,
          0.6642208733817501,
          0.6818455548407695,
          0.6560494338118652,
          0.7176532883305607,
          0.741925979880406,
          0.7427023649215471,
          0.7443389449750802,
          0.7483366231091365,
          0.7517281022805364,
          0.7549908096627944,
          0.7562426905183308,
          0.7460578518371065,
          0.6915688361521064,
          0.7519572713937621,
          0.667163736140836,
          0.7545005463047403,
          0.750808832617304,
          0.7546010690342376,
          0.7527735442901261,
          0.752962068178381,
          0.7259558172019867,
          0.7525271662097331,
          0.6815158531326407,
          0.7300515619910534,
          0.7529627605205039,
          0.7512696002367488,
          0.7526318959900927,
          0.752675751179001,
          0.7344791014268489,
          0.7321848894843033,
          0.7550981472530327,
          0.6825709312069843,
          0.749396603784001,
          0.7553297600524068,
          0.70731597948274,
          0.7493610359858585,
          0.7432382288178443,
          0.7590311300757812,
          0.7571634644901293,
          0.7588892166952881,
          0.7567855494739526,
          0.7529118650132866,
          0.7178951183318549,
          0.75719448151109,
          0.7553717089318264,
          0.7484078697849121,
          0.7575390346630549,
          0.7579222151600958,
          0.7586451188031511,
          0.7542401958747368,
          0.7601569127342738,
          0.7589102914395661,
          0.7602984988960847,
          0.6274080263361108,
          0.760871710555686,
          0.7591296392186437,
          0.7587308195933085,
          0.7605284888475181,
          0.7616815501053751,
          0.7674166189839908,
          0.7645973223063354,
          0.6642664442600029,
          0.7682722630175162,
          0.7697476390738947,
          0.7360682841698971,
          0.7656169708917915,
          0.7667047988920876,
          0.7665420532979128,
          0.7680406999726876,
          0.7686095202912322,
          0.7698956900927554,
          0.6631782993969463,
          0.7687035123826693,
          0.7706886171982961,
          0.7313890394909569,
          0.7682619492822369,
          0.7696596002288728,
          0.7692916707267518,
          0.769042654697682,
          0.768306018312777,
          0.7693263026522861,
          0.7688987134671063,
          0.7689816018048184,
          0.7609718028703075,
          0.6770721575850369,
          0.7678553588612637,
          0.7680760007032841,
          0.7711850787476161,
          0.7680587265198058,
          0.7711523671893381,
          0.7707725561069767,
          0.7709490640921416,
          0.7345832891095424,
          0.7681661179814019
         ]
        }
       ],
       "layout": {
        "barmode": "overlay",
        "showlegend": true,
        "template": {
         "data": {
          "bar": [
           {
            "error_x": {
             "color": "#2a3f5f"
            },
            "error_y": {
             "color": "#2a3f5f"
            },
            "marker": {
             "line": {
              "color": "white",
              "width": 0.5
             },
             "pattern": {
              "fillmode": "overlay",
              "size": 10,
              "solidity": 0.2
             }
            },
            "type": "bar"
           }
          ],
          "barpolar": [
           {
            "marker": {
             "line": {
              "color": "white",
              "width": 0.5
             },
             "pattern": {
              "fillmode": "overlay",
              "size": 10,
              "solidity": 0.2
             }
            },
            "type": "barpolar"
           }
          ],
          "carpet": [
           {
            "aaxis": {
             "endlinecolor": "#2a3f5f",
             "gridcolor": "#C8D4E3",
             "linecolor": "#C8D4E3",
             "minorgridcolor": "#C8D4E3",
             "startlinecolor": "#2a3f5f"
            },
            "baxis": {
             "endlinecolor": "#2a3f5f",
             "gridcolor": "#C8D4E3",
             "linecolor": "#C8D4E3",
             "minorgridcolor": "#C8D4E3",
             "startlinecolor": "#2a3f5f"
            },
            "type": "carpet"
           }
          ],
          "choropleth": [
           {
            "colorbar": {
             "outlinewidth": 0,
             "ticks": ""
            },
            "type": "choropleth"
           }
          ],
          "contour": [
           {
            "colorbar": {
             "outlinewidth": 0,
             "ticks": ""
            },
            "colorscale": [
             [
              0,
              "#0d0887"
             ],
             [
              0.1111111111111111,
              "#46039f"
             ],
             [
              0.2222222222222222,
              "#7201a8"
             ],
             [
              0.3333333333333333,
              "#9c179e"
             ],
             [
              0.4444444444444444,
              "#bd3786"
             ],
             [
              0.5555555555555556,
              "#d8576b"
             ],
             [
              0.6666666666666666,
              "#ed7953"
             ],
             [
              0.7777777777777778,
              "#fb9f3a"
             ],
             [
              0.8888888888888888,
              "#fdca26"
             ],
             [
              1,
              "#f0f921"
             ]
            ],
            "type": "contour"
           }
          ],
          "contourcarpet": [
           {
            "colorbar": {
             "outlinewidth": 0,
             "ticks": ""
            },
            "type": "contourcarpet"
           }
          ],
          "heatmap": [
           {
            "colorbar": {
             "outlinewidth": 0,
             "ticks": ""
            },
            "colorscale": [
             [
              0,
              "#0d0887"
             ],
             [
              0.1111111111111111,
              "#46039f"
             ],
             [
              0.2222222222222222,
              "#7201a8"
             ],
             [
              0.3333333333333333,
              "#9c179e"
             ],
             [
              0.4444444444444444,
              "#bd3786"
             ],
             [
              0.5555555555555556,
              "#d8576b"
             ],
             [
              0.6666666666666666,
              "#ed7953"
             ],
             [
              0.7777777777777778,
              "#fb9f3a"
             ],
             [
              0.8888888888888888,
              "#fdca26"
             ],
             [
              1,
              "#f0f921"
             ]
            ],
            "type": "heatmap"
           }
          ],
          "heatmapgl": [
           {
            "colorbar": {
             "outlinewidth": 0,
             "ticks": ""
            },
            "colorscale": [
             [
              0,
              "#0d0887"
             ],
             [
              0.1111111111111111,
              "#46039f"
             ],
             [
              0.2222222222222222,
              "#7201a8"
             ],
             [
              0.3333333333333333,
              "#9c179e"
             ],
             [
              0.4444444444444444,
              "#bd3786"
             ],
             [
              0.5555555555555556,
              "#d8576b"
             ],
             [
              0.6666666666666666,
              "#ed7953"
             ],
             [
              0.7777777777777778,
              "#fb9f3a"
             ],
             [
              0.8888888888888888,
              "#fdca26"
             ],
             [
              1,
              "#f0f921"
             ]
            ],
            "type": "heatmapgl"
           }
          ],
          "histogram": [
           {
            "marker": {
             "pattern": {
              "fillmode": "overlay",
              "size": 10,
              "solidity": 0.2
             }
            },
            "type": "histogram"
           }
          ],
          "histogram2d": [
           {
            "colorbar": {
             "outlinewidth": 0,
             "ticks": ""
            },
            "colorscale": [
             [
              0,
              "#0d0887"
             ],
             [
              0.1111111111111111,
              "#46039f"
             ],
             [
              0.2222222222222222,
              "#7201a8"
             ],
             [
              0.3333333333333333,
              "#9c179e"
             ],
             [
              0.4444444444444444,
              "#bd3786"
             ],
             [
              0.5555555555555556,
              "#d8576b"
             ],
             [
              0.6666666666666666,
              "#ed7953"
             ],
             [
              0.7777777777777778,
              "#fb9f3a"
             ],
             [
              0.8888888888888888,
              "#fdca26"
             ],
             [
              1,
              "#f0f921"
             ]
            ],
            "type": "histogram2d"
           }
          ],
          "histogram2dcontour": [
           {
            "colorbar": {
             "outlinewidth": 0,
             "ticks": ""
            },
            "colorscale": [
             [
              0,
              "#0d0887"
             ],
             [
              0.1111111111111111,
              "#46039f"
             ],
             [
              0.2222222222222222,
              "#7201a8"
             ],
             [
              0.3333333333333333,
              "#9c179e"
             ],
             [
              0.4444444444444444,
              "#bd3786"
             ],
             [
              0.5555555555555556,
              "#d8576b"
             ],
             [
              0.6666666666666666,
              "#ed7953"
             ],
             [
              0.7777777777777778,
              "#fb9f3a"
             ],
             [
              0.8888888888888888,
              "#fdca26"
             ],
             [
              1,
              "#f0f921"
             ]
            ],
            "type": "histogram2dcontour"
           }
          ],
          "mesh3d": [
           {
            "colorbar": {
             "outlinewidth": 0,
             "ticks": ""
            },
            "type": "mesh3d"
           }
          ],
          "parcoords": [
           {
            "line": {
             "colorbar": {
              "outlinewidth": 0,
              "ticks": ""
             }
            },
            "type": "parcoords"
           }
          ],
          "pie": [
           {
            "automargin": true,
            "type": "pie"
           }
          ],
          "scatter": [
           {
            "fillpattern": {
             "fillmode": "overlay",
             "size": 10,
             "solidity": 0.2
            },
            "type": "scatter"
           }
          ],
          "scatter3d": [
           {
            "line": {
             "colorbar": {
              "outlinewidth": 0,
              "ticks": ""
             }
            },
            "marker": {
             "colorbar": {
              "outlinewidth": 0,
              "ticks": ""
             }
            },
            "type": "scatter3d"
           }
          ],
          "scattercarpet": [
           {
            "marker": {
             "colorbar": {
              "outlinewidth": 0,
              "ticks": ""
             }
            },
            "type": "scattercarpet"
           }
          ],
          "scattergeo": [
           {
            "marker": {
             "colorbar": {
              "outlinewidth": 0,
              "ticks": ""
             }
            },
            "type": "scattergeo"
           }
          ],
          "scattergl": [
           {
            "marker": {
             "colorbar": {
              "outlinewidth": 0,
              "ticks": ""
             }
            },
            "type": "scattergl"
           }
          ],
          "scattermapbox": [
           {
            "marker": {
             "colorbar": {
              "outlinewidth": 0,
              "ticks": ""
             }
            },
            "type": "scattermapbox"
           }
          ],
          "scatterpolar": [
           {
            "marker": {
             "colorbar": {
              "outlinewidth": 0,
              "ticks": ""
             }
            },
            "type": "scatterpolar"
           }
          ],
          "scatterpolargl": [
           {
            "marker": {
             "colorbar": {
              "outlinewidth": 0,
              "ticks": ""
             }
            },
            "type": "scatterpolargl"
           }
          ],
          "scatterternary": [
           {
            "marker": {
             "colorbar": {
              "outlinewidth": 0,
              "ticks": ""
             }
            },
            "type": "scatterternary"
           }
          ],
          "surface": [
           {
            "colorbar": {
             "outlinewidth": 0,
             "ticks": ""
            },
            "colorscale": [
             [
              0,
              "#0d0887"
             ],
             [
              0.1111111111111111,
              "#46039f"
             ],
             [
              0.2222222222222222,
              "#7201a8"
             ],
             [
              0.3333333333333333,
              "#9c179e"
             ],
             [
              0.4444444444444444,
              "#bd3786"
             ],
             [
              0.5555555555555556,
              "#d8576b"
             ],
             [
              0.6666666666666666,
              "#ed7953"
             ],
             [
              0.7777777777777778,
              "#fb9f3a"
             ],
             [
              0.8888888888888888,
              "#fdca26"
             ],
             [
              1,
              "#f0f921"
             ]
            ],
            "type": "surface"
           }
          ],
          "table": [
           {
            "cells": {
             "fill": {
              "color": "#EBF0F8"
             },
             "line": {
              "color": "white"
             }
            },
            "header": {
             "fill": {
              "color": "#C8D4E3"
             },
             "line": {
              "color": "white"
             }
            },
            "type": "table"
           }
          ]
         },
         "layout": {
          "annotationdefaults": {
           "arrowcolor": "#2a3f5f",
           "arrowhead": 0,
           "arrowwidth": 1
          },
          "autotypenumbers": "strict",
          "coloraxis": {
           "colorbar": {
            "outlinewidth": 0,
            "ticks": ""
           }
          },
          "colorscale": {
           "diverging": [
            [
             0,
             "#8e0152"
            ],
            [
             0.1,
             "#c51b7d"
            ],
            [
             0.2,
             "#de77ae"
            ],
            [
             0.3,
             "#f1b6da"
            ],
            [
             0.4,
             "#fde0ef"
            ],
            [
             0.5,
             "#f7f7f7"
            ],
            [
             0.6,
             "#e6f5d0"
            ],
            [
             0.7,
             "#b8e186"
            ],
            [
             0.8,
             "#7fbc41"
            ],
            [
             0.9,
             "#4d9221"
            ],
            [
             1,
             "#276419"
            ]
           ],
           "sequential": [
            [
             0,
             "#0d0887"
            ],
            [
             0.1111111111111111,
             "#46039f"
            ],
            [
             0.2222222222222222,
             "#7201a8"
            ],
            [
             0.3333333333333333,
             "#9c179e"
            ],
            [
             0.4444444444444444,
             "#bd3786"
            ],
            [
             0.5555555555555556,
             "#d8576b"
            ],
            [
             0.6666666666666666,
             "#ed7953"
            ],
            [
             0.7777777777777778,
             "#fb9f3a"
            ],
            [
             0.8888888888888888,
             "#fdca26"
            ],
            [
             1,
             "#f0f921"
            ]
           ],
           "sequentialminus": [
            [
             0,
             "#0d0887"
            ],
            [
             0.1111111111111111,
             "#46039f"
            ],
            [
             0.2222222222222222,
             "#7201a8"
            ],
            [
             0.3333333333333333,
             "#9c179e"
            ],
            [
             0.4444444444444444,
             "#bd3786"
            ],
            [
             0.5555555555555556,
             "#d8576b"
            ],
            [
             0.6666666666666666,
             "#ed7953"
            ],
            [
             0.7777777777777778,
             "#fb9f3a"
            ],
            [
             0.8888888888888888,
             "#fdca26"
            ],
            [
             1,
             "#f0f921"
            ]
           ]
          },
          "colorway": [
           "#636efa",
           "#EF553B",
           "#00cc96",
           "#ab63fa",
           "#FFA15A",
           "#19d3f3",
           "#FF6692",
           "#B6E880",
           "#FF97FF",
           "#FECB52"
          ],
          "font": {
           "color": "#2a3f5f"
          },
          "geo": {
           "bgcolor": "white",
           "lakecolor": "white",
           "landcolor": "white",
           "showlakes": true,
           "showland": true,
           "subunitcolor": "#C8D4E3"
          },
          "hoverlabel": {
           "align": "left"
          },
          "hovermode": "closest",
          "mapbox": {
           "style": "light"
          },
          "paper_bgcolor": "white",
          "plot_bgcolor": "white",
          "polar": {
           "angularaxis": {
            "gridcolor": "#EBF0F8",
            "linecolor": "#EBF0F8",
            "ticks": ""
           },
           "bgcolor": "white",
           "radialaxis": {
            "gridcolor": "#EBF0F8",
            "linecolor": "#EBF0F8",
            "ticks": ""
           }
          },
          "scene": {
           "xaxis": {
            "backgroundcolor": "white",
            "gridcolor": "#DFE8F3",
            "gridwidth": 2,
            "linecolor": "#EBF0F8",
            "showbackground": true,
            "ticks": "",
            "zerolinecolor": "#EBF0F8"
           },
           "yaxis": {
            "backgroundcolor": "white",
            "gridcolor": "#DFE8F3",
            "gridwidth": 2,
            "linecolor": "#EBF0F8",
            "showbackground": true,
            "ticks": "",
            "zerolinecolor": "#EBF0F8"
           },
           "zaxis": {
            "backgroundcolor": "white",
            "gridcolor": "#DFE8F3",
            "gridwidth": 2,
            "linecolor": "#EBF0F8",
            "showbackground": true,
            "ticks": "",
            "zerolinecolor": "#EBF0F8"
           }
          },
          "shapedefaults": {
           "line": {
            "color": "#2a3f5f"
           }
          },
          "ternary": {
           "aaxis": {
            "gridcolor": "#DFE8F3",
            "linecolor": "#A2B1C6",
            "ticks": ""
           },
           "baxis": {
            "gridcolor": "#DFE8F3",
            "linecolor": "#A2B1C6",
            "ticks": ""
           },
           "bgcolor": "white",
           "caxis": {
            "gridcolor": "#DFE8F3",
            "linecolor": "#A2B1C6",
            "ticks": ""
           }
          },
          "title": {
           "x": 0.05
          },
          "xaxis": {
           "automargin": true,
           "gridcolor": "#EBF0F8",
           "linecolor": "#EBF0F8",
           "ticks": "",
           "title": {
            "standoff": 15
           },
           "zerolinecolor": "#EBF0F8",
           "zerolinewidth": 2
          },
          "yaxis": {
           "automargin": true,
           "gridcolor": "#EBF0F8",
           "linecolor": "#EBF0F8",
           "ticks": "",
           "title": {
            "standoff": 15
           },
           "zerolinecolor": "#EBF0F8",
           "zerolinewidth": 2
          }
         }
        },
        "title": {
         "text": "Распределение значений метрики F1"
        },
        "xaxis": {
         "title": {
          "text": "F1"
         }
        },
        "yaxis": {
         "title": {
          "text": "Количество трейлов"
         }
        }
       }
      }
     },
     "metadata": {},
     "output_type": "display_data"
    }
   ],
   "source": [
    "plot_param_importances(study_lgbm)\n",
    "trial_duration_performance(study_lgbm, model_names=['LGBMClassifier'])\n",
    "trial_score_distribution(study_lgbm, model_names=['LGBMClassifier'])"
   ]
  },
  {
   "cell_type": "markdown",
   "metadata": {},
   "source": [
    "_____\n",
    "### Анализ клиссческих моделей машинного обучения"
   ]
  },
  {
   "cell_type": "code",
   "execution_count": 35,
   "metadata": {},
   "outputs": [
    {
     "data": {
      "application/vnd.plotly.v1+json": {
       "config": {
        "plotlyServerURL": "https://plot.ly"
       },
       "data": [
        {
         "legendgroup": "0",
         "legendgrouptitle": {
          "text": "LogisticRegression"
         },
         "marker": {
          "color": "#FF6692",
          "opacity": 0.5,
          "size": 10
         },
         "mode": "markers",
         "name": "LogisticRegression",
         "type": "scatter",
         "x": [
          9.222311,
          10.427591,
          11.496395,
          11.629463,
          13.481328,
          13.972964,
          13.98251,
          14.038337,
          14.53189,
          14.596514,
          15.82918,
          16.172671,
          19.660354,
          38.603102,
          41.587051,
          41.727084,
          50.716995,
          65.330639,
          72.678341,
          73.38344,
          92.811902,
          97.915112,
          100.699817,
          101.27816,
          101.899723,
          102.000888,
          102.656822,
          102.725456,
          103.597697,
          104.461099,
          109.593447,
          119.069301,
          122.026115,
          124.622235,
          126.351127,
          126.549447,
          126.904114,
          127.218933,
          127.645894,
          127.649928,
          127.664562,
          127.856305,
          127.88303,
          128.026641,
          128.172088,
          128.201326,
          128.257361,
          128.394323,
          128.660594,
          128.831098,
          129.000453,
          129.185219,
          129.19483,
          129.202431,
          129.208754,
          129.358519,
          129.397699,
          129.521835,
          130.042163,
          130.167744,
          130.176778,
          130.28451,
          130.302211,
          130.636824,
          130.739924,
          130.747074,
          131.084404,
          131.178926,
          132.28907,
          150.635156,
          150.663937,
          152.303243,
          152.686959,
          153.580273,
          153.855007,
          154.075779,
          154.229964,
          154.609094,
          154.625895,
          155.380701,
          155.816993,
          155.843363,
          156.066459,
          156.32223,
          156.428059,
          157.105459,
          157.241215,
          157.245896,
          158.048169,
          158.086689,
          160.232783,
          162.012176,
          168.204454,
          169.194915,
          177.238297,
          177.649045,
          179.147992,
          181.697897,
          181.97921,
          192.174731
         ],
         "y": [
          0.6034829717910583,
          0.7665700087235139,
          0.7467837453141403,
          0.7629571968178905,
          0.7278850429300396,
          0.7674929779700916,
          0.7699732501207917,
          0.770044843973493,
          0.7734076872800937,
          0.7696129345818982,
          0.7705920409248532,
          0.7710452300693527,
          0.7696715822699087,
          0.3700927411617613,
          0.36090041071601975,
          0.3933795489819531,
          0.6104695965081471,
          0.7254760088086394,
          0.773916745271886,
          0.7765087205706174,
          0.7708546610334325,
          0.7696832320292982,
          0.7758571230805011,
          0.7643639671560832,
          0.7773191056290493,
          0.7468163912704098,
          0.7770453253051988,
          0.7709293159789976,
          0.7761527290487988,
          0.72916215551417,
          0.7665353985999367,
          0.7501502555596101,
          0.7190484352255304,
          0.7528746893415292,
          0.7778620595705029,
          0.7662869487953246,
          0.776707786148013,
          0.7733872787998227,
          0.7782329637949068,
          0.7602453378835567,
          0.7772552113764766,
          0.7778461015102243,
          0.7762258998750712,
          0.7787252610739466,
          0.7781297847406148,
          0.7775104769357756,
          0.7790095313056877,
          0.7776099099492312,
          0.7771077425707112,
          0.7780557494631741,
          0.7764654294777198,
          0.7774440617079035,
          0.7789599076964129,
          0.7785449173785316,
          0.7772816288963655,
          0.7767297900523805,
          0.7782950701899082,
          0.7766066023221072,
          0.776850674720262,
          0.777450178334852,
          0.7764334935872996,
          0.7773815623993616,
          0.776488625117574,
          0.776952302575187,
          0.7749943956843695,
          0.7767813160830348,
          0.7768310810982492,
          0.7776511568135817,
          0.7751827541344772,
          0.7726098379099079,
          0.7764762946897317,
          0.77686512081473,
          0.744660133365645,
          0.7760554617911763,
          0.7780320991468062,
          0.7776750154945865,
          0.7772502936649478,
          0.7743501909939766,
          0.7750530897105821,
          0.7753338105418942,
          0.7760532425005751,
          0.7666383193653941,
          0.7779127246426727,
          0.7763409586885582,
          0.7732638475856833,
          0.7765972941806629,
          0.777871165474114,
          0.7776007228115532,
          0.776661777184267,
          0.7753938943592796,
          0.7759381832815869,
          0.7750045412903528,
          0.7759780482907516,
          0.7592948480300176,
          0.7700959325642783,
          0.7744178131470056,
          0.7740165874742556,
          0.7737002679559868,
          0.7760860435896227,
          0.7768942552543717
         ]
        },
        {
         "legendgroup": "0",
         "marker": {
          "color": "#FF6692",
          "line": {
           "color": "black",
           "width": 2
          },
          "size": 10
         },
         "mode": "markers",
         "name": "Лучшее: LogisticRegression",
         "showlegend": false,
         "type": "scatter",
         "x": [
          128.257361
         ],
         "y": [
          0.7790095313056877
         ]
        },
        {
         "legendgroup": "1",
         "legendgrouptitle": {
          "text": "PassiveAggressiveClassifier"
         },
         "marker": {
          "color": "#B6E880",
          "opacity": 0.5,
          "size": 10
         },
         "mode": "markers",
         "name": "PassiveAggressiveClassifier",
         "type": "scatter",
         "x": [
          6.897306,
          6.898953,
          6.935011,
          7.165723,
          7.180896,
          7.216998,
          7.239653,
          7.287388,
          7.3934,
          7.451728,
          7.522133,
          7.677918,
          7.764235,
          16.600304,
          16.613329,
          16.935487,
          16.99734,
          17.10788,
          17.141768,
          17.302121,
          17.375054,
          17.407636,
          17.414495,
          17.446093,
          17.513044,
          17.560634,
          17.569298,
          17.575798,
          17.577057,
          17.600827,
          17.623315,
          17.674917,
          17.702313,
          17.713801,
          17.768957,
          17.84544,
          17.864286,
          17.888347,
          17.924969,
          17.948139,
          17.961773,
          17.979956,
          18.043744,
          18.090911,
          18.103615,
          18.184816,
          18.199629,
          18.203827,
          18.285635,
          18.302795,
          18.33126,
          18.332951,
          18.341423,
          18.355648,
          18.363914,
          18.374941,
          18.376171,
          18.476713,
          18.505345,
          18.507028,
          18.507244,
          18.513877,
          18.532169,
          18.536996,
          18.552769,
          18.555342,
          18.564412,
          18.589543,
          18.593852,
          18.602048,
          18.615072,
          18.616141,
          18.636048,
          18.685814,
          18.699254,
          18.718138,
          18.740954,
          18.760387,
          18.760572,
          18.772211,
          18.776597,
          18.779702,
          18.78027,
          18.798861,
          18.825389,
          18.829498,
          18.843301,
          18.856192,
          18.867234,
          18.872593,
          18.92271,
          18.938023,
          18.94815,
          18.965,
          18.980899,
          19.023472,
          19.092586,
          19.095216,
          19.114261,
          19.203595
         ],
         "y": [
          0.7514512024044527,
          0.7624733380531931,
          0.745037306236691,
          0.7820576376498055,
          0.7542342129915033,
          0.7696196891583698,
          0.7570678731578525,
          0.7768410204502253,
          0.7343810632568173,
          0.7522725350636379,
          0.7734224205477153,
          0.7454489601315019,
          0.7401514803172493,
          0.7711739937430833,
          0.7766619944966111,
          0.775028358774925,
          0.775401476938745,
          0.7673969949818445,
          0.7736768488565735,
          0.7764229073014339,
          0.7858407151567148,
          0.7865288744173398,
          0.787923181318966,
          0.7868895939528191,
          0.7861087467608256,
          0.7875273256570544,
          0.7837163272965194,
          0.7747972732181948,
          0.7852366094953537,
          0.7741516954094907,
          0.7852281405332431,
          0.7861025368953586,
          0.7857122801337716,
          0.7895069894120692,
          0.78761332504247,
          0.7909328172297839,
          0.7870367007160654,
          0.7871767802223556,
          0.790737304440914,
          0.7879988777463892,
          0.7915006253922297,
          0.7912029987746219,
          0.7919122434946851,
          0.7914605390584346,
          0.7920610753131865,
          0.7920421870116106,
          0.7932031361617078,
          0.7918853282412942,
          0.7933096275012479,
          0.7917649394590826,
          0.7882794617514763,
          0.7932055971727345,
          0.7934546252723631,
          0.7922218177693152,
          0.7920278265227296,
          0.7927294893572757,
          0.7931171196831345,
          0.7929010558469347,
          0.793428616123813,
          0.7928918832530522,
          0.7937392898087821,
          0.792327544811966,
          0.7936664836484436,
          0.7940076994650431,
          0.7935676744994338,
          0.7927340435861061,
          0.7925049430844124,
          0.7941626998607563,
          0.7940384457749794,
          0.7934301264576106,
          0.7928462110216176,
          0.7924792111595037,
          0.7936346169264616,
          0.7932877211476433,
          0.7933479364235619,
          0.793476749188445,
          0.7934254330798886,
          0.7935708035912762,
          0.7931158387430113,
          0.7937054324865607,
          0.7937688212800483,
          0.7933154741087554,
          0.7933386151579276,
          0.7937684186556538,
          0.7938463348748735,
          0.7935790807763026,
          0.7937446710631242,
          0.7934467833993245,
          0.79349877742714,
          0.7936076640765909,
          0.7930035380002765,
          0.7936904257251731,
          0.7938965968469054,
          0.7939435840961115,
          0.794057625471595,
          0.7938252436748414,
          0.7935294405952418,
          0.7935828544287913,
          0.793346498630813,
          0.7936498828479968
         ]
        },
        {
         "legendgroup": "1",
         "marker": {
          "color": "#B6E880",
          "line": {
           "color": "black",
           "width": 2
          },
          "size": 10
         },
         "mode": "markers",
         "name": "Лучшее: PassiveAggressiveClassifier",
         "showlegend": false,
         "type": "scatter",
         "x": [
          18.589543
         ],
         "y": [
          0.7941626998607563
         ]
        },
        {
         "legendgroup": "2",
         "legendgrouptitle": {
          "text": "LGBMClassifier"
         },
         "marker": {
          "color": "#FF97FF",
          "opacity": 0.5,
          "size": 10
         },
         "mode": "markers",
         "name": "LGBMClassifier",
         "type": "scatter",
         "x": [
          21.00816,
          40.383937,
          46.582258,
          50.382083,
          53.456214,
          72.242256,
          72.279589,
          72.334683,
          72.627627,
          72.728181,
          73.458811,
          73.899561,
          74.406501,
          74.960798,
          75.62114,
          75.657932,
          75.823614,
          77.289886,
          77.783397,
          78.253089,
          80.201033,
          81.078099,
          82.228805,
          82.742162,
          82.95903,
          83.280931,
          84.377906,
          84.793408,
          85.116036,
          85.38533,
          85.843963,
          87.007998,
          87.866133,
          87.94283,
          88.026536,
          92.150846,
          95.586244,
          96.770951,
          97.041993,
          97.165624,
          97.296608,
          97.856791,
          98.261494,
          100.723103,
          101.056265,
          101.732252,
          102.324299,
          102.578714,
          103.105212,
          103.277811,
          103.413292,
          106.752412,
          108.634005,
          108.833998,
          109.545342,
          110.329186,
          112.62593,
          112.708896,
          113.04408,
          113.551549,
          113.78674,
          114.689283,
          116.795142,
          116.824948,
          118.652494,
          120.261266,
          121.129318,
          121.191644,
          122.106414,
          122.758036,
          125.594955,
          125.648889,
          126.584155,
          126.684637,
          127.815238,
          128.889137,
          130.185601,
          136.994634,
          137.693358,
          143.607598,
          144.532247,
          144.917258,
          145.329753,
          147.53146,
          148.321679,
          150.722658,
          153.369888,
          153.823298,
          154.36009,
          155.387944,
          155.481446,
          157.350357,
          163.976283,
          167.79441,
          173.536971,
          181.092246,
          190.602592,
          198.00033,
          223.84175,
          229.728958
         ],
         "y": [
          0.6916476886002438,
          0.667163736140836,
          0.7529627605205039,
          0.6815158531326407,
          0.7460578518371065,
          0.7443389449750802,
          0.7156005408582732,
          0.6642208733817501,
          0.6818455548407695,
          0.6148685770189072,
          0.7483366231091365,
          0.7512696002367488,
          0.7517281022805364,
          0.7549908096627944,
          0.7545005463047403,
          0.750808832617304,
          0.7519572713937621,
          0.7562426905183308,
          0.741925979880406,
          0.7321848894843033,
          0.7345832891095424,
          0.7360682841698971,
          0.7526318959900927,
          0.7553717089318264,
          0.6915688361521064,
          0.7587308195933085,
          0.7344791014268489,
          0.7427023649215471,
          0.7591296392186437,
          0.752962068178381,
          0.7525271662097331,
          0.7616815501053751,
          0.7609718028703075,
          0.7259558172019867,
          0.752675751179001,
          0.6560494338118652,
          0.70731597948274,
          0.6770721575850369,
          0.760871710555686,
          0.7680587265198058,
          0.7689816018048184,
          0.7680760007032841,
          0.7313890394909569,
          0.7527735442901261,
          0.7601569127342738,
          0.6274080263361108,
          0.7589102914395661,
          0.7711850787476161,
          0.7602984988960847,
          0.7678553588612637,
          0.7546010690342376,
          0.7688987134671063,
          0.7674166189839908,
          0.7686095202912322,
          0.7693263026522861,
          0.7698956900927554,
          0.6642664442600029,
          0.7681661179814019,
          0.7711523671893381,
          0.768306018312777,
          0.7550981472530327,
          0.7680406999726876,
          0.7707725561069767,
          0.7656169708917915,
          0.769042654697682,
          0.7300515619910534,
          0.7665420532979128,
          0.6825709312069843,
          0.7709490640921416,
          0.7605284888475181,
          0.7682722630175162,
          0.7692916707267518,
          0.7645973223063354,
          0.7667047988920876,
          0.7697476390738947,
          0.7178951183318549,
          0.7687035123826693,
          0.6631782993969463,
          0.7542401958747368,
          0.7706886171982961,
          0.7579222151600958,
          0.6893842440569592,
          0.7529118650132866,
          0.7696596002288728,
          0.7586451188031511,
          0.7567855494739526,
          0.7575390346630549,
          0.7484078697849121,
          0.7588892166952881,
          0.7571634644901293,
          0.7682619492822369,
          0.7590311300757812,
          0.75719448151109,
          0.7553297600524068,
          0.7432382288178443,
          0.7260012700992665,
          0.7176532883305607,
          0.749396603784001,
          0.7255876471188161,
          0.7493610359858585
         ]
        },
        {
         "legendgroup": "2",
         "marker": {
          "color": "#FF97FF",
          "line": {
           "color": "black",
           "width": 2
          },
          "size": 10
         },
         "mode": "markers",
         "name": "Лучшее: LGBMClassifier",
         "showlegend": false,
         "type": "scatter",
         "x": [
          102.578714
         ],
         "y": [
          0.7711850787476161
         ]
        }
       ],
       "layout": {
        "showlegend": true,
        "template": {
         "data": {
          "bar": [
           {
            "error_x": {
             "color": "#2a3f5f"
            },
            "error_y": {
             "color": "#2a3f5f"
            },
            "marker": {
             "line": {
              "color": "white",
              "width": 0.5
             },
             "pattern": {
              "fillmode": "overlay",
              "size": 10,
              "solidity": 0.2
             }
            },
            "type": "bar"
           }
          ],
          "barpolar": [
           {
            "marker": {
             "line": {
              "color": "white",
              "width": 0.5
             },
             "pattern": {
              "fillmode": "overlay",
              "size": 10,
              "solidity": 0.2
             }
            },
            "type": "barpolar"
           }
          ],
          "carpet": [
           {
            "aaxis": {
             "endlinecolor": "#2a3f5f",
             "gridcolor": "#C8D4E3",
             "linecolor": "#C8D4E3",
             "minorgridcolor": "#C8D4E3",
             "startlinecolor": "#2a3f5f"
            },
            "baxis": {
             "endlinecolor": "#2a3f5f",
             "gridcolor": "#C8D4E3",
             "linecolor": "#C8D4E3",
             "minorgridcolor": "#C8D4E3",
             "startlinecolor": "#2a3f5f"
            },
            "type": "carpet"
           }
          ],
          "choropleth": [
           {
            "colorbar": {
             "outlinewidth": 0,
             "ticks": ""
            },
            "type": "choropleth"
           }
          ],
          "contour": [
           {
            "colorbar": {
             "outlinewidth": 0,
             "ticks": ""
            },
            "colorscale": [
             [
              0,
              "#0d0887"
             ],
             [
              0.1111111111111111,
              "#46039f"
             ],
             [
              0.2222222222222222,
              "#7201a8"
             ],
             [
              0.3333333333333333,
              "#9c179e"
             ],
             [
              0.4444444444444444,
              "#bd3786"
             ],
             [
              0.5555555555555556,
              "#d8576b"
             ],
             [
              0.6666666666666666,
              "#ed7953"
             ],
             [
              0.7777777777777778,
              "#fb9f3a"
             ],
             [
              0.8888888888888888,
              "#fdca26"
             ],
             [
              1,
              "#f0f921"
             ]
            ],
            "type": "contour"
           }
          ],
          "contourcarpet": [
           {
            "colorbar": {
             "outlinewidth": 0,
             "ticks": ""
            },
            "type": "contourcarpet"
           }
          ],
          "heatmap": [
           {
            "colorbar": {
             "outlinewidth": 0,
             "ticks": ""
            },
            "colorscale": [
             [
              0,
              "#0d0887"
             ],
             [
              0.1111111111111111,
              "#46039f"
             ],
             [
              0.2222222222222222,
              "#7201a8"
             ],
             [
              0.3333333333333333,
              "#9c179e"
             ],
             [
              0.4444444444444444,
              "#bd3786"
             ],
             [
              0.5555555555555556,
              "#d8576b"
             ],
             [
              0.6666666666666666,
              "#ed7953"
             ],
             [
              0.7777777777777778,
              "#fb9f3a"
             ],
             [
              0.8888888888888888,
              "#fdca26"
             ],
             [
              1,
              "#f0f921"
             ]
            ],
            "type": "heatmap"
           }
          ],
          "heatmapgl": [
           {
            "colorbar": {
             "outlinewidth": 0,
             "ticks": ""
            },
            "colorscale": [
             [
              0,
              "#0d0887"
             ],
             [
              0.1111111111111111,
              "#46039f"
             ],
             [
              0.2222222222222222,
              "#7201a8"
             ],
             [
              0.3333333333333333,
              "#9c179e"
             ],
             [
              0.4444444444444444,
              "#bd3786"
             ],
             [
              0.5555555555555556,
              "#d8576b"
             ],
             [
              0.6666666666666666,
              "#ed7953"
             ],
             [
              0.7777777777777778,
              "#fb9f3a"
             ],
             [
              0.8888888888888888,
              "#fdca26"
             ],
             [
              1,
              "#f0f921"
             ]
            ],
            "type": "heatmapgl"
           }
          ],
          "histogram": [
           {
            "marker": {
             "pattern": {
              "fillmode": "overlay",
              "size": 10,
              "solidity": 0.2
             }
            },
            "type": "histogram"
           }
          ],
          "histogram2d": [
           {
            "colorbar": {
             "outlinewidth": 0,
             "ticks": ""
            },
            "colorscale": [
             [
              0,
              "#0d0887"
             ],
             [
              0.1111111111111111,
              "#46039f"
             ],
             [
              0.2222222222222222,
              "#7201a8"
             ],
             [
              0.3333333333333333,
              "#9c179e"
             ],
             [
              0.4444444444444444,
              "#bd3786"
             ],
             [
              0.5555555555555556,
              "#d8576b"
             ],
             [
              0.6666666666666666,
              "#ed7953"
             ],
             [
              0.7777777777777778,
              "#fb9f3a"
             ],
             [
              0.8888888888888888,
              "#fdca26"
             ],
             [
              1,
              "#f0f921"
             ]
            ],
            "type": "histogram2d"
           }
          ],
          "histogram2dcontour": [
           {
            "colorbar": {
             "outlinewidth": 0,
             "ticks": ""
            },
            "colorscale": [
             [
              0,
              "#0d0887"
             ],
             [
              0.1111111111111111,
              "#46039f"
             ],
             [
              0.2222222222222222,
              "#7201a8"
             ],
             [
              0.3333333333333333,
              "#9c179e"
             ],
             [
              0.4444444444444444,
              "#bd3786"
             ],
             [
              0.5555555555555556,
              "#d8576b"
             ],
             [
              0.6666666666666666,
              "#ed7953"
             ],
             [
              0.7777777777777778,
              "#fb9f3a"
             ],
             [
              0.8888888888888888,
              "#fdca26"
             ],
             [
              1,
              "#f0f921"
             ]
            ],
            "type": "histogram2dcontour"
           }
          ],
          "mesh3d": [
           {
            "colorbar": {
             "outlinewidth": 0,
             "ticks": ""
            },
            "type": "mesh3d"
           }
          ],
          "parcoords": [
           {
            "line": {
             "colorbar": {
              "outlinewidth": 0,
              "ticks": ""
             }
            },
            "type": "parcoords"
           }
          ],
          "pie": [
           {
            "automargin": true,
            "type": "pie"
           }
          ],
          "scatter": [
           {
            "fillpattern": {
             "fillmode": "overlay",
             "size": 10,
             "solidity": 0.2
            },
            "type": "scatter"
           }
          ],
          "scatter3d": [
           {
            "line": {
             "colorbar": {
              "outlinewidth": 0,
              "ticks": ""
             }
            },
            "marker": {
             "colorbar": {
              "outlinewidth": 0,
              "ticks": ""
             }
            },
            "type": "scatter3d"
           }
          ],
          "scattercarpet": [
           {
            "marker": {
             "colorbar": {
              "outlinewidth": 0,
              "ticks": ""
             }
            },
            "type": "scattercarpet"
           }
          ],
          "scattergeo": [
           {
            "marker": {
             "colorbar": {
              "outlinewidth": 0,
              "ticks": ""
             }
            },
            "type": "scattergeo"
           }
          ],
          "scattergl": [
           {
            "marker": {
             "colorbar": {
              "outlinewidth": 0,
              "ticks": ""
             }
            },
            "type": "scattergl"
           }
          ],
          "scattermapbox": [
           {
            "marker": {
             "colorbar": {
              "outlinewidth": 0,
              "ticks": ""
             }
            },
            "type": "scattermapbox"
           }
          ],
          "scatterpolar": [
           {
            "marker": {
             "colorbar": {
              "outlinewidth": 0,
              "ticks": ""
             }
            },
            "type": "scatterpolar"
           }
          ],
          "scatterpolargl": [
           {
            "marker": {
             "colorbar": {
              "outlinewidth": 0,
              "ticks": ""
             }
            },
            "type": "scatterpolargl"
           }
          ],
          "scatterternary": [
           {
            "marker": {
             "colorbar": {
              "outlinewidth": 0,
              "ticks": ""
             }
            },
            "type": "scatterternary"
           }
          ],
          "surface": [
           {
            "colorbar": {
             "outlinewidth": 0,
             "ticks": ""
            },
            "colorscale": [
             [
              0,
              "#0d0887"
             ],
             [
              0.1111111111111111,
              "#46039f"
             ],
             [
              0.2222222222222222,
              "#7201a8"
             ],
             [
              0.3333333333333333,
              "#9c179e"
             ],
             [
              0.4444444444444444,
              "#bd3786"
             ],
             [
              0.5555555555555556,
              "#d8576b"
             ],
             [
              0.6666666666666666,
              "#ed7953"
             ],
             [
              0.7777777777777778,
              "#fb9f3a"
             ],
             [
              0.8888888888888888,
              "#fdca26"
             ],
             [
              1,
              "#f0f921"
             ]
            ],
            "type": "surface"
           }
          ],
          "table": [
           {
            "cells": {
             "fill": {
              "color": "#EBF0F8"
             },
             "line": {
              "color": "white"
             }
            },
            "header": {
             "fill": {
              "color": "#C8D4E3"
             },
             "line": {
              "color": "white"
             }
            },
            "type": "table"
           }
          ]
         },
         "layout": {
          "annotationdefaults": {
           "arrowcolor": "#2a3f5f",
           "arrowhead": 0,
           "arrowwidth": 1
          },
          "autotypenumbers": "strict",
          "coloraxis": {
           "colorbar": {
            "outlinewidth": 0,
            "ticks": ""
           }
          },
          "colorscale": {
           "diverging": [
            [
             0,
             "#8e0152"
            ],
            [
             0.1,
             "#c51b7d"
            ],
            [
             0.2,
             "#de77ae"
            ],
            [
             0.3,
             "#f1b6da"
            ],
            [
             0.4,
             "#fde0ef"
            ],
            [
             0.5,
             "#f7f7f7"
            ],
            [
             0.6,
             "#e6f5d0"
            ],
            [
             0.7,
             "#b8e186"
            ],
            [
             0.8,
             "#7fbc41"
            ],
            [
             0.9,
             "#4d9221"
            ],
            [
             1,
             "#276419"
            ]
           ],
           "sequential": [
            [
             0,
             "#0d0887"
            ],
            [
             0.1111111111111111,
             "#46039f"
            ],
            [
             0.2222222222222222,
             "#7201a8"
            ],
            [
             0.3333333333333333,
             "#9c179e"
            ],
            [
             0.4444444444444444,
             "#bd3786"
            ],
            [
             0.5555555555555556,
             "#d8576b"
            ],
            [
             0.6666666666666666,
             "#ed7953"
            ],
            [
             0.7777777777777778,
             "#fb9f3a"
            ],
            [
             0.8888888888888888,
             "#fdca26"
            ],
            [
             1,
             "#f0f921"
            ]
           ],
           "sequentialminus": [
            [
             0,
             "#0d0887"
            ],
            [
             0.1111111111111111,
             "#46039f"
            ],
            [
             0.2222222222222222,
             "#7201a8"
            ],
            [
             0.3333333333333333,
             "#9c179e"
            ],
            [
             0.4444444444444444,
             "#bd3786"
            ],
            [
             0.5555555555555556,
             "#d8576b"
            ],
            [
             0.6666666666666666,
             "#ed7953"
            ],
            [
             0.7777777777777778,
             "#fb9f3a"
            ],
            [
             0.8888888888888888,
             "#fdca26"
            ],
            [
             1,
             "#f0f921"
            ]
           ]
          },
          "colorway": [
           "#636efa",
           "#EF553B",
           "#00cc96",
           "#ab63fa",
           "#FFA15A",
           "#19d3f3",
           "#FF6692",
           "#B6E880",
           "#FF97FF",
           "#FECB52"
          ],
          "font": {
           "color": "#2a3f5f"
          },
          "geo": {
           "bgcolor": "white",
           "lakecolor": "white",
           "landcolor": "white",
           "showlakes": true,
           "showland": true,
           "subunitcolor": "#C8D4E3"
          },
          "hoverlabel": {
           "align": "left"
          },
          "hovermode": "closest",
          "mapbox": {
           "style": "light"
          },
          "paper_bgcolor": "white",
          "plot_bgcolor": "white",
          "polar": {
           "angularaxis": {
            "gridcolor": "#EBF0F8",
            "linecolor": "#EBF0F8",
            "ticks": ""
           },
           "bgcolor": "white",
           "radialaxis": {
            "gridcolor": "#EBF0F8",
            "linecolor": "#EBF0F8",
            "ticks": ""
           }
          },
          "scene": {
           "xaxis": {
            "backgroundcolor": "white",
            "gridcolor": "#DFE8F3",
            "gridwidth": 2,
            "linecolor": "#EBF0F8",
            "showbackground": true,
            "ticks": "",
            "zerolinecolor": "#EBF0F8"
           },
           "yaxis": {
            "backgroundcolor": "white",
            "gridcolor": "#DFE8F3",
            "gridwidth": 2,
            "linecolor": "#EBF0F8",
            "showbackground": true,
            "ticks": "",
            "zerolinecolor": "#EBF0F8"
           },
           "zaxis": {
            "backgroundcolor": "white",
            "gridcolor": "#DFE8F3",
            "gridwidth": 2,
            "linecolor": "#EBF0F8",
            "showbackground": true,
            "ticks": "",
            "zerolinecolor": "#EBF0F8"
           }
          },
          "shapedefaults": {
           "line": {
            "color": "#2a3f5f"
           }
          },
          "ternary": {
           "aaxis": {
            "gridcolor": "#DFE8F3",
            "linecolor": "#A2B1C6",
            "ticks": ""
           },
           "baxis": {
            "gridcolor": "#DFE8F3",
            "linecolor": "#A2B1C6",
            "ticks": ""
           },
           "bgcolor": "white",
           "caxis": {
            "gridcolor": "#DFE8F3",
            "linecolor": "#A2B1C6",
            "ticks": ""
           }
          },
          "title": {
           "x": 0.05
          },
          "xaxis": {
           "automargin": true,
           "gridcolor": "#EBF0F8",
           "linecolor": "#EBF0F8",
           "ticks": "",
           "title": {
            "standoff": 15
           },
           "zerolinecolor": "#EBF0F8",
           "zerolinewidth": 2
          },
          "yaxis": {
           "automargin": true,
           "gridcolor": "#EBF0F8",
           "linecolor": "#EBF0F8",
           "ticks": "",
           "title": {
            "standoff": 15
           },
           "zerolinecolor": "#EBF0F8",
           "zerolinewidth": 2
          }
         }
        },
        "title": {
         "text": "F1 в зависимости от времени трейла"
        },
        "xaxis": {
         "title": {
          "text": "Время выполнения трейла (сек)"
         }
        },
        "yaxis": {
         "title": {
          "text": "F1"
         }
        }
       }
      }
     },
     "metadata": {},
     "output_type": "display_data"
    },
    {
     "data": {
      "application/vnd.plotly.v1+json": {
       "config": {
        "plotlyServerURL": "https://plot.ly"
       },
       "data": [
        {
         "legendgroup": "0",
         "legendgrouptitle": {
          "text": "LogisticRegression"
         },
         "marker": {
          "color": "#FECB52"
         },
         "name": "LogisticRegression",
         "opacity": 0.6,
         "type": "histogram",
         "x": [
          0.6034829717910583,
          0.3700927411617613,
          0.7501502555596101,
          0.7467837453141403,
          0.7254760088086394,
          0.7760860435896227,
          0.7278850429300396,
          0.6104695965081471,
          0.7696715822699087,
          0.3933795489819531,
          0.7764762946897317,
          0.7776750154945865,
          0.7732638475856833,
          0.7726098379099079,
          0.7743501909939766,
          0.7666383193653941,
          0.7765972941806629,
          0.7758571230805011,
          0.7674929779700916,
          0.7592948480300176,
          0.7753338105418942,
          0.7776007228115532,
          0.77686512081473,
          0.7733872787998227,
          0.7700959325642783,
          0.7750530897105821,
          0.7629571968178905,
          0.7772502936649478,
          0.7744178131470056,
          0.7734076872800937,
          0.7602453378835567,
          0.777871165474114,
          0.7759780482907516,
          0.7768942552543717,
          0.7750045412903528,
          0.7709293159789976,
          0.7737002679559868,
          0.7710452300693527,
          0.7773815623993616,
          0.7696832320292982,
          0.7665700087235139,
          0.7764334935872996,
          0.7772816288963655,
          0.7773191056290493,
          0.7468163912704098,
          0.7765087205706174,
          0.7761527290487988,
          0.7708546610334325,
          0.773916745271886,
          0.7662869487953246,
          0.7770453253051988,
          0.776850674720262,
          0.7762258998750712,
          0.7782329637949068,
          0.7749943956843695,
          0.7760554617911763,
          0.744660133365645,
          0.7696129345818982,
          0.7759381832815869,
          0.72916215551417,
          0.7643639671560832,
          0.7782950701899082,
          0.7775104769357756,
          0.7776099099492312,
          0.7781297847406148,
          0.7785449173785316,
          0.776488625117574,
          0.7528746893415292,
          0.770044843973493,
          0.7767813160830348,
          0.7751827541344772,
          0.7780320991468062,
          0.7772552113764766,
          0.7779127246426727,
          0.776661777184267,
          0.7763409586885582,
          0.36090041071601975,
          0.7753938943592796,
          0.7740165874742556,
          0.7705920409248532,
          0.7760532425005751,
          0.7778461015102243,
          0.7790095313056877,
          0.7778620595705029,
          0.7776511568135817,
          0.776952302575187,
          0.7774440617079035,
          0.777450178334852,
          0.7771077425707112,
          0.7665353985999367,
          0.7767297900523805,
          0.7789599076964129,
          0.7780557494631741,
          0.7787252610739466,
          0.7190484352255304,
          0.7764654294777198,
          0.776707786148013,
          0.7768310810982492,
          0.7699732501207917,
          0.7766066023221072
         ]
        },
        {
         "legendgroup": "1",
         "legendgrouptitle": {
          "text": "PassiveAggressiveClassifier"
         },
         "marker": {
          "color": "#636EFA"
         },
         "name": "PassiveAggressiveClassifier",
         "opacity": 0.6,
         "type": "histogram",
         "x": [
          0.7736768488565735,
          0.7852366094953537,
          0.7401514803172493,
          0.7768410204502253,
          0.7522725350636379,
          0.745037306236691,
          0.7343810632568173,
          0.7711739937430833,
          0.7870367007160654,
          0.7895069894120692,
          0.7837163272965194,
          0.787923181318966,
          0.78761332504247,
          0.7852281405332431,
          0.7861087467608256,
          0.7861025368953586,
          0.7865288744173398,
          0.7914605390584346,
          0.7912029987746219,
          0.7919122434946851,
          0.790737304440914,
          0.7917649394590826,
          0.7936498828479968,
          0.7932877211476433,
          0.7936904257251731,
          0.7933479364235619,
          0.7454489601315019,
          0.7932031361617078,
          0.7934467833993245,
          0.775401476938745,
          0.7920421870116106,
          0.7937684186556538,
          0.793346498630813,
          0.7931158387430113,
          0.7928918832530522,
          0.7734224205477153,
          0.7766619944966111,
          0.7624733380531931,
          0.7741516954094907,
          0.7514512024044527,
          0.7937054324865607,
          0.7935708035912762,
          0.7936346169264616,
          0.7922218177693152,
          0.7937446710631242,
          0.7918853282412942,
          0.7747972732181948,
          0.7820576376498055,
          0.7858407151567148,
          0.7909328172297839,
          0.7871767802223556,
          0.7935790807763026,
          0.792327544811966,
          0.7932055971727345,
          0.7936664836484436,
          0.7938965968469054,
          0.7879988777463892,
          0.7920278265227296,
          0.7924792111595037,
          0.7764229073014339,
          0.7696196891583698,
          0.793428616123813,
          0.7940384457749794,
          0.7927340435861061,
          0.7934254330798886,
          0.7857122801337716,
          0.7920610753131865,
          0.7933154741087554,
          0.7928462110216176,
          0.7933386151579276,
          0.7915006253922297,
          0.7934301264576106,
          0.7929010558469347,
          0.7935294405952418,
          0.7927294893572757,
          0.7938252436748414,
          0.775028358774925,
          0.7570678731578525,
          0.7940076994650431,
          0.7939435840961115,
          0.7935676744994338,
          0.7936076640765909,
          0.7930035380002765,
          0.7934546252723631,
          0.7937392898087821,
          0.7868895939528191,
          0.7931171196831345,
          0.7937688212800483,
          0.7673969949818445,
          0.7875273256570544,
          0.7542342129915033,
          0.794057625471595,
          0.7941626998607563,
          0.793476749188445,
          0.7933096275012479,
          0.7938463348748735,
          0.7882794617514763,
          0.79349877742714,
          0.7925049430844124,
          0.7935828544287913
         ]
        },
        {
         "legendgroup": "2",
         "legendgrouptitle": {
          "text": "LGBMClassifier"
         },
         "marker": {
          "color": "#EF553B"
         },
         "name": "LGBMClassifier",
         "opacity": 0.6,
         "type": "histogram",
         "x": [
          0.7255876471188161,
          0.6148685770189072,
          0.7260012700992665,
          0.7156005408582732,
          0.6916476886002438,
          0.6893842440569592,
          0.6642208733817501,
          0.6818455548407695,
          0.6560494338118652,
          0.7176532883305607,
          0.741925979880406,
          0.7427023649215471,
          0.7443389449750802,
          0.7483366231091365,
          0.7517281022805364,
          0.7549908096627944,
          0.7562426905183308,
          0.7460578518371065,
          0.6915688361521064,
          0.7519572713937621,
          0.667163736140836,
          0.7545005463047403,
          0.750808832617304,
          0.7546010690342376,
          0.7527735442901261,
          0.752962068178381,
          0.7259558172019867,
          0.7525271662097331,
          0.6815158531326407,
          0.7300515619910534,
          0.7529627605205039,
          0.7512696002367488,
          0.7526318959900927,
          0.752675751179001,
          0.7344791014268489,
          0.7321848894843033,
          0.7550981472530327,
          0.6825709312069843,
          0.749396603784001,
          0.7553297600524068,
          0.70731597948274,
          0.7493610359858585,
          0.7432382288178443,
          0.7590311300757812,
          0.7571634644901293,
          0.7588892166952881,
          0.7567855494739526,
          0.7529118650132866,
          0.7178951183318549,
          0.75719448151109,
          0.7553717089318264,
          0.7484078697849121,
          0.7575390346630549,
          0.7579222151600958,
          0.7586451188031511,
          0.7542401958747368,
          0.7601569127342738,
          0.7589102914395661,
          0.7602984988960847,
          0.6274080263361108,
          0.760871710555686,
          0.7591296392186437,
          0.7587308195933085,
          0.7605284888475181,
          0.7616815501053751,
          0.7674166189839908,
          0.7645973223063354,
          0.6642664442600029,
          0.7682722630175162,
          0.7697476390738947,
          0.7360682841698971,
          0.7656169708917915,
          0.7667047988920876,
          0.7665420532979128,
          0.7680406999726876,
          0.7686095202912322,
          0.7698956900927554,
          0.6631782993969463,
          0.7687035123826693,
          0.7706886171982961,
          0.7313890394909569,
          0.7682619492822369,
          0.7696596002288728,
          0.7692916707267518,
          0.769042654697682,
          0.768306018312777,
          0.7693263026522861,
          0.7688987134671063,
          0.7689816018048184,
          0.7609718028703075,
          0.6770721575850369,
          0.7678553588612637,
          0.7680760007032841,
          0.7711850787476161,
          0.7680587265198058,
          0.7711523671893381,
          0.7707725561069767,
          0.7709490640921416,
          0.7345832891095424,
          0.7681661179814019
         ]
        }
       ],
       "layout": {
        "barmode": "overlay",
        "showlegend": true,
        "template": {
         "data": {
          "bar": [
           {
            "error_x": {
             "color": "#2a3f5f"
            },
            "error_y": {
             "color": "#2a3f5f"
            },
            "marker": {
             "line": {
              "color": "white",
              "width": 0.5
             },
             "pattern": {
              "fillmode": "overlay",
              "size": 10,
              "solidity": 0.2
             }
            },
            "type": "bar"
           }
          ],
          "barpolar": [
           {
            "marker": {
             "line": {
              "color": "white",
              "width": 0.5
             },
             "pattern": {
              "fillmode": "overlay",
              "size": 10,
              "solidity": 0.2
             }
            },
            "type": "barpolar"
           }
          ],
          "carpet": [
           {
            "aaxis": {
             "endlinecolor": "#2a3f5f",
             "gridcolor": "#C8D4E3",
             "linecolor": "#C8D4E3",
             "minorgridcolor": "#C8D4E3",
             "startlinecolor": "#2a3f5f"
            },
            "baxis": {
             "endlinecolor": "#2a3f5f",
             "gridcolor": "#C8D4E3",
             "linecolor": "#C8D4E3",
             "minorgridcolor": "#C8D4E3",
             "startlinecolor": "#2a3f5f"
            },
            "type": "carpet"
           }
          ],
          "choropleth": [
           {
            "colorbar": {
             "outlinewidth": 0,
             "ticks": ""
            },
            "type": "choropleth"
           }
          ],
          "contour": [
           {
            "colorbar": {
             "outlinewidth": 0,
             "ticks": ""
            },
            "colorscale": [
             [
              0,
              "#0d0887"
             ],
             [
              0.1111111111111111,
              "#46039f"
             ],
             [
              0.2222222222222222,
              "#7201a8"
             ],
             [
              0.3333333333333333,
              "#9c179e"
             ],
             [
              0.4444444444444444,
              "#bd3786"
             ],
             [
              0.5555555555555556,
              "#d8576b"
             ],
             [
              0.6666666666666666,
              "#ed7953"
             ],
             [
              0.7777777777777778,
              "#fb9f3a"
             ],
             [
              0.8888888888888888,
              "#fdca26"
             ],
             [
              1,
              "#f0f921"
             ]
            ],
            "type": "contour"
           }
          ],
          "contourcarpet": [
           {
            "colorbar": {
             "outlinewidth": 0,
             "ticks": ""
            },
            "type": "contourcarpet"
           }
          ],
          "heatmap": [
           {
            "colorbar": {
             "outlinewidth": 0,
             "ticks": ""
            },
            "colorscale": [
             [
              0,
              "#0d0887"
             ],
             [
              0.1111111111111111,
              "#46039f"
             ],
             [
              0.2222222222222222,
              "#7201a8"
             ],
             [
              0.3333333333333333,
              "#9c179e"
             ],
             [
              0.4444444444444444,
              "#bd3786"
             ],
             [
              0.5555555555555556,
              "#d8576b"
             ],
             [
              0.6666666666666666,
              "#ed7953"
             ],
             [
              0.7777777777777778,
              "#fb9f3a"
             ],
             [
              0.8888888888888888,
              "#fdca26"
             ],
             [
              1,
              "#f0f921"
             ]
            ],
            "type": "heatmap"
           }
          ],
          "heatmapgl": [
           {
            "colorbar": {
             "outlinewidth": 0,
             "ticks": ""
            },
            "colorscale": [
             [
              0,
              "#0d0887"
             ],
             [
              0.1111111111111111,
              "#46039f"
             ],
             [
              0.2222222222222222,
              "#7201a8"
             ],
             [
              0.3333333333333333,
              "#9c179e"
             ],
             [
              0.4444444444444444,
              "#bd3786"
             ],
             [
              0.5555555555555556,
              "#d8576b"
             ],
             [
              0.6666666666666666,
              "#ed7953"
             ],
             [
              0.7777777777777778,
              "#fb9f3a"
             ],
             [
              0.8888888888888888,
              "#fdca26"
             ],
             [
              1,
              "#f0f921"
             ]
            ],
            "type": "heatmapgl"
           }
          ],
          "histogram": [
           {
            "marker": {
             "pattern": {
              "fillmode": "overlay",
              "size": 10,
              "solidity": 0.2
             }
            },
            "type": "histogram"
           }
          ],
          "histogram2d": [
           {
            "colorbar": {
             "outlinewidth": 0,
             "ticks": ""
            },
            "colorscale": [
             [
              0,
              "#0d0887"
             ],
             [
              0.1111111111111111,
              "#46039f"
             ],
             [
              0.2222222222222222,
              "#7201a8"
             ],
             [
              0.3333333333333333,
              "#9c179e"
             ],
             [
              0.4444444444444444,
              "#bd3786"
             ],
             [
              0.5555555555555556,
              "#d8576b"
             ],
             [
              0.6666666666666666,
              "#ed7953"
             ],
             [
              0.7777777777777778,
              "#fb9f3a"
             ],
             [
              0.8888888888888888,
              "#fdca26"
             ],
             [
              1,
              "#f0f921"
             ]
            ],
            "type": "histogram2d"
           }
          ],
          "histogram2dcontour": [
           {
            "colorbar": {
             "outlinewidth": 0,
             "ticks": ""
            },
            "colorscale": [
             [
              0,
              "#0d0887"
             ],
             [
              0.1111111111111111,
              "#46039f"
             ],
             [
              0.2222222222222222,
              "#7201a8"
             ],
             [
              0.3333333333333333,
              "#9c179e"
             ],
             [
              0.4444444444444444,
              "#bd3786"
             ],
             [
              0.5555555555555556,
              "#d8576b"
             ],
             [
              0.6666666666666666,
              "#ed7953"
             ],
             [
              0.7777777777777778,
              "#fb9f3a"
             ],
             [
              0.8888888888888888,
              "#fdca26"
             ],
             [
              1,
              "#f0f921"
             ]
            ],
            "type": "histogram2dcontour"
           }
          ],
          "mesh3d": [
           {
            "colorbar": {
             "outlinewidth": 0,
             "ticks": ""
            },
            "type": "mesh3d"
           }
          ],
          "parcoords": [
           {
            "line": {
             "colorbar": {
              "outlinewidth": 0,
              "ticks": ""
             }
            },
            "type": "parcoords"
           }
          ],
          "pie": [
           {
            "automargin": true,
            "type": "pie"
           }
          ],
          "scatter": [
           {
            "fillpattern": {
             "fillmode": "overlay",
             "size": 10,
             "solidity": 0.2
            },
            "type": "scatter"
           }
          ],
          "scatter3d": [
           {
            "line": {
             "colorbar": {
              "outlinewidth": 0,
              "ticks": ""
             }
            },
            "marker": {
             "colorbar": {
              "outlinewidth": 0,
              "ticks": ""
             }
            },
            "type": "scatter3d"
           }
          ],
          "scattercarpet": [
           {
            "marker": {
             "colorbar": {
              "outlinewidth": 0,
              "ticks": ""
             }
            },
            "type": "scattercarpet"
           }
          ],
          "scattergeo": [
           {
            "marker": {
             "colorbar": {
              "outlinewidth": 0,
              "ticks": ""
             }
            },
            "type": "scattergeo"
           }
          ],
          "scattergl": [
           {
            "marker": {
             "colorbar": {
              "outlinewidth": 0,
              "ticks": ""
             }
            },
            "type": "scattergl"
           }
          ],
          "scattermapbox": [
           {
            "marker": {
             "colorbar": {
              "outlinewidth": 0,
              "ticks": ""
             }
            },
            "type": "scattermapbox"
           }
          ],
          "scatterpolar": [
           {
            "marker": {
             "colorbar": {
              "outlinewidth": 0,
              "ticks": ""
             }
            },
            "type": "scatterpolar"
           }
          ],
          "scatterpolargl": [
           {
            "marker": {
             "colorbar": {
              "outlinewidth": 0,
              "ticks": ""
             }
            },
            "type": "scatterpolargl"
           }
          ],
          "scatterternary": [
           {
            "marker": {
             "colorbar": {
              "outlinewidth": 0,
              "ticks": ""
             }
            },
            "type": "scatterternary"
           }
          ],
          "surface": [
           {
            "colorbar": {
             "outlinewidth": 0,
             "ticks": ""
            },
            "colorscale": [
             [
              0,
              "#0d0887"
             ],
             [
              0.1111111111111111,
              "#46039f"
             ],
             [
              0.2222222222222222,
              "#7201a8"
             ],
             [
              0.3333333333333333,
              "#9c179e"
             ],
             [
              0.4444444444444444,
              "#bd3786"
             ],
             [
              0.5555555555555556,
              "#d8576b"
             ],
             [
              0.6666666666666666,
              "#ed7953"
             ],
             [
              0.7777777777777778,
              "#fb9f3a"
             ],
             [
              0.8888888888888888,
              "#fdca26"
             ],
             [
              1,
              "#f0f921"
             ]
            ],
            "type": "surface"
           }
          ],
          "table": [
           {
            "cells": {
             "fill": {
              "color": "#EBF0F8"
             },
             "line": {
              "color": "white"
             }
            },
            "header": {
             "fill": {
              "color": "#C8D4E3"
             },
             "line": {
              "color": "white"
             }
            },
            "type": "table"
           }
          ]
         },
         "layout": {
          "annotationdefaults": {
           "arrowcolor": "#2a3f5f",
           "arrowhead": 0,
           "arrowwidth": 1
          },
          "autotypenumbers": "strict",
          "coloraxis": {
           "colorbar": {
            "outlinewidth": 0,
            "ticks": ""
           }
          },
          "colorscale": {
           "diverging": [
            [
             0,
             "#8e0152"
            ],
            [
             0.1,
             "#c51b7d"
            ],
            [
             0.2,
             "#de77ae"
            ],
            [
             0.3,
             "#f1b6da"
            ],
            [
             0.4,
             "#fde0ef"
            ],
            [
             0.5,
             "#f7f7f7"
            ],
            [
             0.6,
             "#e6f5d0"
            ],
            [
             0.7,
             "#b8e186"
            ],
            [
             0.8,
             "#7fbc41"
            ],
            [
             0.9,
             "#4d9221"
            ],
            [
             1,
             "#276419"
            ]
           ],
           "sequential": [
            [
             0,
             "#0d0887"
            ],
            [
             0.1111111111111111,
             "#46039f"
            ],
            [
             0.2222222222222222,
             "#7201a8"
            ],
            [
             0.3333333333333333,
             "#9c179e"
            ],
            [
             0.4444444444444444,
             "#bd3786"
            ],
            [
             0.5555555555555556,
             "#d8576b"
            ],
            [
             0.6666666666666666,
             "#ed7953"
            ],
            [
             0.7777777777777778,
             "#fb9f3a"
            ],
            [
             0.8888888888888888,
             "#fdca26"
            ],
            [
             1,
             "#f0f921"
            ]
           ],
           "sequentialminus": [
            [
             0,
             "#0d0887"
            ],
            [
             0.1111111111111111,
             "#46039f"
            ],
            [
             0.2222222222222222,
             "#7201a8"
            ],
            [
             0.3333333333333333,
             "#9c179e"
            ],
            [
             0.4444444444444444,
             "#bd3786"
            ],
            [
             0.5555555555555556,
             "#d8576b"
            ],
            [
             0.6666666666666666,
             "#ed7953"
            ],
            [
             0.7777777777777778,
             "#fb9f3a"
            ],
            [
             0.8888888888888888,
             "#fdca26"
            ],
            [
             1,
             "#f0f921"
            ]
           ]
          },
          "colorway": [
           "#636efa",
           "#EF553B",
           "#00cc96",
           "#ab63fa",
           "#FFA15A",
           "#19d3f3",
           "#FF6692",
           "#B6E880",
           "#FF97FF",
           "#FECB52"
          ],
          "font": {
           "color": "#2a3f5f"
          },
          "geo": {
           "bgcolor": "white",
           "lakecolor": "white",
           "landcolor": "white",
           "showlakes": true,
           "showland": true,
           "subunitcolor": "#C8D4E3"
          },
          "hoverlabel": {
           "align": "left"
          },
          "hovermode": "closest",
          "mapbox": {
           "style": "light"
          },
          "paper_bgcolor": "white",
          "plot_bgcolor": "white",
          "polar": {
           "angularaxis": {
            "gridcolor": "#EBF0F8",
            "linecolor": "#EBF0F8",
            "ticks": ""
           },
           "bgcolor": "white",
           "radialaxis": {
            "gridcolor": "#EBF0F8",
            "linecolor": "#EBF0F8",
            "ticks": ""
           }
          },
          "scene": {
           "xaxis": {
            "backgroundcolor": "white",
            "gridcolor": "#DFE8F3",
            "gridwidth": 2,
            "linecolor": "#EBF0F8",
            "showbackground": true,
            "ticks": "",
            "zerolinecolor": "#EBF0F8"
           },
           "yaxis": {
            "backgroundcolor": "white",
            "gridcolor": "#DFE8F3",
            "gridwidth": 2,
            "linecolor": "#EBF0F8",
            "showbackground": true,
            "ticks": "",
            "zerolinecolor": "#EBF0F8"
           },
           "zaxis": {
            "backgroundcolor": "white",
            "gridcolor": "#DFE8F3",
            "gridwidth": 2,
            "linecolor": "#EBF0F8",
            "showbackground": true,
            "ticks": "",
            "zerolinecolor": "#EBF0F8"
           }
          },
          "shapedefaults": {
           "line": {
            "color": "#2a3f5f"
           }
          },
          "ternary": {
           "aaxis": {
            "gridcolor": "#DFE8F3",
            "linecolor": "#A2B1C6",
            "ticks": ""
           },
           "baxis": {
            "gridcolor": "#DFE8F3",
            "linecolor": "#A2B1C6",
            "ticks": ""
           },
           "bgcolor": "white",
           "caxis": {
            "gridcolor": "#DFE8F3",
            "linecolor": "#A2B1C6",
            "ticks": ""
           }
          },
          "title": {
           "x": 0.05
          },
          "xaxis": {
           "automargin": true,
           "gridcolor": "#EBF0F8",
           "linecolor": "#EBF0F8",
           "ticks": "",
           "title": {
            "standoff": 15
           },
           "zerolinecolor": "#EBF0F8",
           "zerolinewidth": 2
          },
          "yaxis": {
           "automargin": true,
           "gridcolor": "#EBF0F8",
           "linecolor": "#EBF0F8",
           "ticks": "",
           "title": {
            "standoff": 15
           },
           "zerolinecolor": "#EBF0F8",
           "zerolinewidth": 2
          }
         }
        },
        "title": {
         "text": "Распределение значений метрики F1"
        },
        "xaxis": {
         "title": {
          "text": "F1"
         }
        },
        "yaxis": {
         "title": {
          "text": "Количество трейлов"
         }
        }
       }
      }
     },
     "metadata": {},
     "output_type": "display_data"
    }
   ],
   "source": [
    "trial_duration_performance(\n",
    "    study_logreg, study_palogreg, study_lgbm,\n",
    "    model_names=['LogisticRegression',\n",
    "                 'PassiveAggressiveClassifier',\n",
    "                 'LGBMClassifier']\n",
    ")\n",
    "trial_score_distribution(\n",
    "    study_logreg, study_palogreg, study_lgbm,\n",
    "    model_names=['LogisticRegression',\n",
    "                 'PassiveAggressiveClassifier',\n",
    "                 'LGBMClassifier']\n",
    ")"
   ]
  },
  {
   "cell_type": "code",
   "execution_count": 36,
   "metadata": {},
   "outputs": [
    {
     "name": "stdout",
     "output_type": "stream",
     "text": [
      "[LightGBM] [Info] Auto-choosing col-wise multi-threading, the overhead of testing was 6.575489 seconds.\n",
      "You can set `force_col_wise=true` to remove the overhead.\n",
      "[LightGBM] [Info] Total Bins 862219\n",
      "[LightGBM] [Info] Number of data points in the train set: 119460, number of used features: 30096\n",
      "[LightGBM] [Info] Start training from score 0.101616\n"
     ]
    },
    {
     "data": {
      "text/html": [
       "<style type=\"text/css\">\n",
       "#T_65cc7_row0_col0, #T_65cc7_row1_col2, #T_65cc7_row2_col1 {\n",
       "  background-color: #7f2704;\n",
       "  color: #f1f1f1;\n",
       "}\n",
       "#T_65cc7_row0_col1 {\n",
       "  background-color: #fee5cb;\n",
       "  color: #000000;\n",
       "}\n",
       "#T_65cc7_row0_col2 {\n",
       "  background-color: #f26d17;\n",
       "  color: #f1f1f1;\n",
       "}\n",
       "#T_65cc7_row1_col0 {\n",
       "  background-color: #852904;\n",
       "  color: #f1f1f1;\n",
       "}\n",
       "#T_65cc7_row1_col1 {\n",
       "  background-color: #b63c02;\n",
       "  color: #f1f1f1;\n",
       "}\n",
       "#T_65cc7_row2_col0 {\n",
       "  background-color: #862a04;\n",
       "  color: #f1f1f1;\n",
       "}\n",
       "#T_65cc7_row2_col2 {\n",
       "  background-color: #fd8c3b;\n",
       "  color: #f1f1f1;\n",
       "}\n",
       "#T_65cc7_row3_col0, #T_65cc7_row3_col1, #T_65cc7_row3_col2 {\n",
       "  background-color: #fff5eb;\n",
       "  color: #000000;\n",
       "}\n",
       "</style>\n",
       "<table id=\"T_65cc7\">\n",
       "  <thead>\n",
       "    <tr>\n",
       "      <th class=\"blank level0\" >&nbsp;</th>\n",
       "      <th id=\"T_65cc7_level0_col0\" class=\"col_heading level0 col0\" >F1-score</th>\n",
       "      <th id=\"T_65cc7_level0_col1\" class=\"col_heading level0 col1\" >Время обучения (с)</th>\n",
       "      <th id=\"T_65cc7_level0_col2\" class=\"col_heading level0 col2\" >Время предсказания (мс)</th>\n",
       "    </tr>\n",
       "    <tr>\n",
       "      <th class=\"index_name level0\" >Модель</th>\n",
       "      <th class=\"blank col0\" >&nbsp;</th>\n",
       "      <th class=\"blank col1\" >&nbsp;</th>\n",
       "      <th class=\"blank col2\" >&nbsp;</th>\n",
       "    </tr>\n",
       "  </thead>\n",
       "  <tbody>\n",
       "    <tr>\n",
       "      <th id=\"T_65cc7_level0_row0\" class=\"row_heading level0 row0\" >PassiveAggressiveClassifier</th>\n",
       "      <td id=\"T_65cc7_row0_col0\" class=\"data row0 col0\" >0.785</td>\n",
       "      <td id=\"T_65cc7_row0_col1\" class=\"data row0 col1\" >12.480</td>\n",
       "      <td id=\"T_65cc7_row0_col2\" class=\"data row0 col2\" >0.062</td>\n",
       "    </tr>\n",
       "    <tr>\n",
       "      <th id=\"T_65cc7_level0_row1\" class=\"row_heading level0 row1\" >LGBMClassifier</th>\n",
       "      <td id=\"T_65cc7_row1_col0\" class=\"data row1 col0\" >0.768</td>\n",
       "      <td id=\"T_65cc7_row1_col1\" class=\"data row1 col1\" >53.183</td>\n",
       "      <td id=\"T_65cc7_row1_col2\" class=\"data row1 col2\" >0.081</td>\n",
       "    </tr>\n",
       "    <tr>\n",
       "      <th id=\"T_65cc7_level0_row2\" class=\"row_heading level0 row2\" >LogisticRegression</th>\n",
       "      <td id=\"T_65cc7_row2_col0\" class=\"data row2 col0\" >0.765</td>\n",
       "      <td id=\"T_65cc7_row2_col1\" class=\"data row2 col1\" >62.729</td>\n",
       "      <td id=\"T_65cc7_row2_col2\" class=\"data row2 col2\" >0.057</td>\n",
       "    </tr>\n",
       "    <tr>\n",
       "      <th id=\"T_65cc7_level0_row3\" class=\"row_heading level0 row3\" >RandomForestClassifier</th>\n",
       "      <td id=\"T_65cc7_row3_col0\" class=\"data row3 col0\" >0.002</td>\n",
       "      <td id=\"T_65cc7_row3_col1\" class=\"data row3 col1\" >4.668</td>\n",
       "      <td id=\"T_65cc7_row3_col2\" class=\"data row3 col2\" >0.032</td>\n",
       "    </tr>\n",
       "  </tbody>\n",
       "</table>\n"
      ],
      "text/plain": [
       "<pandas.io.formats.style.Styler at 0x29ad09d0950>"
      ]
     },
     "execution_count": 36,
     "metadata": {},
     "output_type": "execute_result"
    }
   ],
   "source": [
    "analys = pd.DataFrame(columns=['Модель', 'F1-score', 'Время обучения (с)', 'Время предсказания (мс)']).set_index('Модель', drop=True)\n",
    "for model_name, params in [('LogisticRegression', best_params_logreg),\n",
    "                           ('PassiveAggressiveClassifier', best_params_palogreg),\n",
    "                           ('RandomForestClassifier', best_params_randomforest),\n",
    "                           ('LGBMClassifier', best_params_lgbm)]:\n",
    "    model = clone(pipeline).set_params(**params)\n",
    "    point_0 = time.time()\n",
    "    model.fit(X_train, y_train)\n",
    "    point_1 = time.time()\n",
    "    y_pred = model.predict(X_val)\n",
    "    point_2 = time.time()\n",
    "    analys.loc[model_name] = [f1_score(y_val, y_pred), point_1 - point_0, (point_2 - point_1) / X_val.shape[0] * 1000]\n",
    "analys.sort_values(by=['F1-score'], ascending=False).style.background_gradient(\n",
    "    'Oranges', subset=['F1-score', 'Время обучения (с)', 'Время предсказания (мс)']\n",
    ").format(precision=3)"
   ]
  },
  {
   "cell_type": "code",
   "execution_count": 37,
   "metadata": {},
   "outputs": [
    {
     "data": {
      "text/html": [
       "<style>#sk-container-id-1 {color: black;background-color: white;}#sk-container-id-1 pre{padding: 0;}#sk-container-id-1 div.sk-toggleable {background-color: white;}#sk-container-id-1 label.sk-toggleable__label {cursor: pointer;display: block;width: 100%;margin-bottom: 0;padding: 0.3em;box-sizing: border-box;text-align: center;}#sk-container-id-1 label.sk-toggleable__label-arrow:before {content: \"▸\";float: left;margin-right: 0.25em;color: #696969;}#sk-container-id-1 label.sk-toggleable__label-arrow:hover:before {color: black;}#sk-container-id-1 div.sk-estimator:hover label.sk-toggleable__label-arrow:before {color: black;}#sk-container-id-1 div.sk-toggleable__content {max-height: 0;max-width: 0;overflow: hidden;text-align: left;background-color: #f0f8ff;}#sk-container-id-1 div.sk-toggleable__content pre {margin: 0.2em;color: black;border-radius: 0.25em;background-color: #f0f8ff;}#sk-container-id-1 input.sk-toggleable__control:checked~div.sk-toggleable__content {max-height: 200px;max-width: 100%;overflow: auto;}#sk-container-id-1 input.sk-toggleable__control:checked~label.sk-toggleable__label-arrow:before {content: \"▾\";}#sk-container-id-1 div.sk-estimator input.sk-toggleable__control:checked~label.sk-toggleable__label {background-color: #d4ebff;}#sk-container-id-1 div.sk-label input.sk-toggleable__control:checked~label.sk-toggleable__label {background-color: #d4ebff;}#sk-container-id-1 input.sk-hidden--visually {border: 0;clip: rect(1px 1px 1px 1px);clip: rect(1px, 1px, 1px, 1px);height: 1px;margin: -1px;overflow: hidden;padding: 0;position: absolute;width: 1px;}#sk-container-id-1 div.sk-estimator {font-family: monospace;background-color: #f0f8ff;border: 1px dotted black;border-radius: 0.25em;box-sizing: border-box;margin-bottom: 0.5em;}#sk-container-id-1 div.sk-estimator:hover {background-color: #d4ebff;}#sk-container-id-1 div.sk-parallel-item::after {content: \"\";width: 100%;border-bottom: 1px solid gray;flex-grow: 1;}#sk-container-id-1 div.sk-label:hover label.sk-toggleable__label {background-color: #d4ebff;}#sk-container-id-1 div.sk-serial::before {content: \"\";position: absolute;border-left: 1px solid gray;box-sizing: border-box;top: 0;bottom: 0;left: 50%;z-index: 0;}#sk-container-id-1 div.sk-serial {display: flex;flex-direction: column;align-items: center;background-color: white;padding-right: 0.2em;padding-left: 0.2em;position: relative;}#sk-container-id-1 div.sk-item {position: relative;z-index: 1;}#sk-container-id-1 div.sk-parallel {display: flex;align-items: stretch;justify-content: center;background-color: white;position: relative;}#sk-container-id-1 div.sk-item::before, #sk-container-id-1 div.sk-parallel-item::before {content: \"\";position: absolute;border-left: 1px solid gray;box-sizing: border-box;top: 0;bottom: 0;left: 50%;z-index: -1;}#sk-container-id-1 div.sk-parallel-item {display: flex;flex-direction: column;z-index: 1;position: relative;background-color: white;}#sk-container-id-1 div.sk-parallel-item:first-child::after {align-self: flex-end;width: 50%;}#sk-container-id-1 div.sk-parallel-item:last-child::after {align-self: flex-start;width: 50%;}#sk-container-id-1 div.sk-parallel-item:only-child::after {width: 0;}#sk-container-id-1 div.sk-dashed-wrapped {border: 1px dashed gray;margin: 0 0.4em 0.5em 0.4em;box-sizing: border-box;padding-bottom: 0.4em;background-color: white;}#sk-container-id-1 div.sk-label label {font-family: monospace;font-weight: bold;display: inline-block;line-height: 1.2em;}#sk-container-id-1 div.sk-label-container {text-align: center;}#sk-container-id-1 div.sk-container {/* jupyter's `normalize.less` sets `[hidden] { display: none; }` but bootstrap.min.css set `[hidden] { display: none !important; }` so we also need the `!important` here to be able to override the default hidden behavior on the sphinx rendered scikit-learn.org. See: https://github.com/scikit-learn/scikit-learn/issues/21755 */display: inline-block !important;position: relative;}#sk-container-id-1 div.sk-text-repr-fallback {display: none;}</style><div id=\"sk-container-id-1\" class=\"sk-top-container\"><div class=\"sk-text-repr-fallback\"><pre>Pipeline(steps=[(&#x27;preprocessor&#x27;,\n",
       "                 ColumnTransformer(transformers=[(&#x27;vectorizer&#x27;,\n",
       "                                                  TfidfVectorizer(dtype=&lt;class &#x27;numpy.float32&#x27;&gt;,\n",
       "                                                                  ngram_range=(1,\n",
       "                                                                               2),\n",
       "                                                                  stop_words=[&#x27;being&#x27;,\n",
       "                                                                              &#x27;above&#x27;,\n",
       "                                                                              &#x27;of&#x27;,\n",
       "                                                                              &#x27;his&#x27;,\n",
       "                                                                              &#x27;your&#x27;,\n",
       "                                                                              &#x27;we&#x27;,\n",
       "                                                                              &#x27;these&#x27;,\n",
       "                                                                              &quot;she&#x27;ll&quot;,\n",
       "                                                                              &#x27;are&#x27;,\n",
       "                                                                              &#x27;o&#x27;,\n",
       "                                                                              &#x27;i&#x27;,\n",
       "                                                                              &#x27;a&#x27;,\n",
       "                                                                              &#x27;ma&#x27;,\n",
       "                                                                              &#x27;most&#x27;,\n",
       "                                                                              &#x27;has&#x27;,\n",
       "                                                                              &#x27;isn&#x27;,\n",
       "                                                                              &#x27;yours&#x27;,\n",
       "                                                                              &#x27;which&#x27;,\n",
       "                                                                              &#x27;yourself&#x27;,\n",
       "                                                                              &quot;you&#x27;re&quot;,\n",
       "                                                                              &quot;i&#x27;d&quot;,\n",
       "                                                                              &#x27;from&#x27;,\n",
       "                                                                              &#x27;aren&#x27;,\n",
       "                                                                              &#x27;then&#x27;,\n",
       "                                                                              &#x27;who&#x27;,\n",
       "                                                                              &quot;it&#x27;ll&quot;,\n",
       "                                                                              &#x27;ain&#x27;,\n",
       "                                                                              &#x27;been&#x27;,\n",
       "                                                                              &#x27;because&#x27;,\n",
       "                                                                              &quot;wasn&#x27;t&quot;, ...]),\n",
       "                                                  &#x27;lemmatized_text&#x27;)])),\n",
       "                (&#x27;model&#x27;,\n",
       "                 PassiveAggressiveClassifier(C=0.12050679650559393,\n",
       "                                             max_iter=300, n_jobs=2))])</pre><b>In a Jupyter environment, please rerun this cell to show the HTML representation or trust the notebook. <br />On GitHub, the HTML representation is unable to render, please try loading this page with nbviewer.org.</b></div><div class=\"sk-container\" hidden><div class=\"sk-item sk-dashed-wrapped\"><div class=\"sk-label-container\"><div class=\"sk-label sk-toggleable\"><input class=\"sk-toggleable__control sk-hidden--visually\" id=\"sk-estimator-id-1\" type=\"checkbox\" ><label for=\"sk-estimator-id-1\" class=\"sk-toggleable__label sk-toggleable__label-arrow\">Pipeline</label><div class=\"sk-toggleable__content\"><pre>Pipeline(steps=[(&#x27;preprocessor&#x27;,\n",
       "                 ColumnTransformer(transformers=[(&#x27;vectorizer&#x27;,\n",
       "                                                  TfidfVectorizer(dtype=&lt;class &#x27;numpy.float32&#x27;&gt;,\n",
       "                                                                  ngram_range=(1,\n",
       "                                                                               2),\n",
       "                                                                  stop_words=[&#x27;being&#x27;,\n",
       "                                                                              &#x27;above&#x27;,\n",
       "                                                                              &#x27;of&#x27;,\n",
       "                                                                              &#x27;his&#x27;,\n",
       "                                                                              &#x27;your&#x27;,\n",
       "                                                                              &#x27;we&#x27;,\n",
       "                                                                              &#x27;these&#x27;,\n",
       "                                                                              &quot;she&#x27;ll&quot;,\n",
       "                                                                              &#x27;are&#x27;,\n",
       "                                                                              &#x27;o&#x27;,\n",
       "                                                                              &#x27;i&#x27;,\n",
       "                                                                              &#x27;a&#x27;,\n",
       "                                                                              &#x27;ma&#x27;,\n",
       "                                                                              &#x27;most&#x27;,\n",
       "                                                                              &#x27;has&#x27;,\n",
       "                                                                              &#x27;isn&#x27;,\n",
       "                                                                              &#x27;yours&#x27;,\n",
       "                                                                              &#x27;which&#x27;,\n",
       "                                                                              &#x27;yourself&#x27;,\n",
       "                                                                              &quot;you&#x27;re&quot;,\n",
       "                                                                              &quot;i&#x27;d&quot;,\n",
       "                                                                              &#x27;from&#x27;,\n",
       "                                                                              &#x27;aren&#x27;,\n",
       "                                                                              &#x27;then&#x27;,\n",
       "                                                                              &#x27;who&#x27;,\n",
       "                                                                              &quot;it&#x27;ll&quot;,\n",
       "                                                                              &#x27;ain&#x27;,\n",
       "                                                                              &#x27;been&#x27;,\n",
       "                                                                              &#x27;because&#x27;,\n",
       "                                                                              &quot;wasn&#x27;t&quot;, ...]),\n",
       "                                                  &#x27;lemmatized_text&#x27;)])),\n",
       "                (&#x27;model&#x27;,\n",
       "                 PassiveAggressiveClassifier(C=0.12050679650559393,\n",
       "                                             max_iter=300, n_jobs=2))])</pre></div></div></div><div class=\"sk-serial\"><div class=\"sk-item sk-dashed-wrapped\"><div class=\"sk-label-container\"><div class=\"sk-label sk-toggleable\"><input class=\"sk-toggleable__control sk-hidden--visually\" id=\"sk-estimator-id-2\" type=\"checkbox\" ><label for=\"sk-estimator-id-2\" class=\"sk-toggleable__label sk-toggleable__label-arrow\">preprocessor: ColumnTransformer</label><div class=\"sk-toggleable__content\"><pre>ColumnTransformer(transformers=[(&#x27;vectorizer&#x27;,\n",
       "                                 TfidfVectorizer(dtype=&lt;class &#x27;numpy.float32&#x27;&gt;,\n",
       "                                                 ngram_range=(1, 2),\n",
       "                                                 stop_words=[&#x27;being&#x27;, &#x27;above&#x27;,\n",
       "                                                             &#x27;of&#x27;, &#x27;his&#x27;,\n",
       "                                                             &#x27;your&#x27;, &#x27;we&#x27;,\n",
       "                                                             &#x27;these&#x27;, &quot;she&#x27;ll&quot;,\n",
       "                                                             &#x27;are&#x27;, &#x27;o&#x27;, &#x27;i&#x27;,\n",
       "                                                             &#x27;a&#x27;, &#x27;ma&#x27;, &#x27;most&#x27;,\n",
       "                                                             &#x27;has&#x27;, &#x27;isn&#x27;,\n",
       "                                                             &#x27;yours&#x27;, &#x27;which&#x27;,\n",
       "                                                             &#x27;yourself&#x27;,\n",
       "                                                             &quot;you&#x27;re&quot;, &quot;i&#x27;d&quot;,\n",
       "                                                             &#x27;from&#x27;, &#x27;aren&#x27;,\n",
       "                                                             &#x27;then&#x27;, &#x27;who&#x27;,\n",
       "                                                             &quot;it&#x27;ll&quot;, &#x27;ain&#x27;,\n",
       "                                                             &#x27;been&#x27;, &#x27;because&#x27;,\n",
       "                                                             &quot;wasn&#x27;t&quot;, ...]),\n",
       "                                 &#x27;lemmatized_text&#x27;)])</pre></div></div></div><div class=\"sk-parallel\"><div class=\"sk-parallel-item\"><div class=\"sk-item\"><div class=\"sk-label-container\"><div class=\"sk-label sk-toggleable\"><input class=\"sk-toggleable__control sk-hidden--visually\" id=\"sk-estimator-id-3\" type=\"checkbox\" ><label for=\"sk-estimator-id-3\" class=\"sk-toggleable__label sk-toggleable__label-arrow\">vectorizer</label><div class=\"sk-toggleable__content\"><pre>lemmatized_text</pre></div></div></div><div class=\"sk-serial\"><div class=\"sk-item\"><div class=\"sk-estimator sk-toggleable\"><input class=\"sk-toggleable__control sk-hidden--visually\" id=\"sk-estimator-id-4\" type=\"checkbox\" ><label for=\"sk-estimator-id-4\" class=\"sk-toggleable__label sk-toggleable__label-arrow\">TfidfVectorizer</label><div class=\"sk-toggleable__content\"><pre>TfidfVectorizer(dtype=&lt;class &#x27;numpy.float32&#x27;&gt;, ngram_range=(1, 2),\n",
       "                stop_words=[&#x27;being&#x27;, &#x27;above&#x27;, &#x27;of&#x27;, &#x27;his&#x27;, &#x27;your&#x27;, &#x27;we&#x27;,\n",
       "                            &#x27;these&#x27;, &quot;she&#x27;ll&quot;, &#x27;are&#x27;, &#x27;o&#x27;, &#x27;i&#x27;, &#x27;a&#x27;, &#x27;ma&#x27;,\n",
       "                            &#x27;most&#x27;, &#x27;has&#x27;, &#x27;isn&#x27;, &#x27;yours&#x27;, &#x27;which&#x27;, &#x27;yourself&#x27;,\n",
       "                            &quot;you&#x27;re&quot;, &quot;i&#x27;d&quot;, &#x27;from&#x27;, &#x27;aren&#x27;, &#x27;then&#x27;, &#x27;who&#x27;,\n",
       "                            &quot;it&#x27;ll&quot;, &#x27;ain&#x27;, &#x27;been&#x27;, &#x27;because&#x27;, &quot;wasn&#x27;t&quot;, ...])</pre></div></div></div></div></div></div></div></div><div class=\"sk-item\"><div class=\"sk-estimator sk-toggleable\"><input class=\"sk-toggleable__control sk-hidden--visually\" id=\"sk-estimator-id-5\" type=\"checkbox\" ><label for=\"sk-estimator-id-5\" class=\"sk-toggleable__label sk-toggleable__label-arrow\">PassiveAggressiveClassifier</label><div class=\"sk-toggleable__content\"><pre>PassiveAggressiveClassifier(C=0.12050679650559393, max_iter=300, n_jobs=2)</pre></div></div></div></div></div></div></div>"
      ],
      "text/plain": [
       "Pipeline(steps=[('preprocessor',\n",
       "                 ColumnTransformer(transformers=[('vectorizer',\n",
       "                                                  TfidfVectorizer(dtype=<class 'numpy.float32'>,\n",
       "                                                                  ngram_range=(1,\n",
       "                                                                               2),\n",
       "                                                                  stop_words=['being',\n",
       "                                                                              'above',\n",
       "                                                                              'of',\n",
       "                                                                              'his',\n",
       "                                                                              'your',\n",
       "                                                                              'we',\n",
       "                                                                              'these',\n",
       "                                                                              \"she'll\",\n",
       "                                                                              'are',\n",
       "                                                                              'o',\n",
       "                                                                              'i',\n",
       "                                                                              'a',\n",
       "                                                                              'ma',\n",
       "                                                                              'most',\n",
       "                                                                              'has',\n",
       "                                                                              'isn',\n",
       "                                                                              'yours',\n",
       "                                                                              'which',\n",
       "                                                                              'yourself',\n",
       "                                                                              \"you're\",\n",
       "                                                                              \"i'd\",\n",
       "                                                                              'from',\n",
       "                                                                              'aren',\n",
       "                                                                              'then',\n",
       "                                                                              'who',\n",
       "                                                                              \"it'll\",\n",
       "                                                                              'ain',\n",
       "                                                                              'been',\n",
       "                                                                              'because',\n",
       "                                                                              \"wasn't\", ...]),\n",
       "                                                  'lemmatized_text')])),\n",
       "                ('model',\n",
       "                 PassiveAggressiveClassifier(C=0.12050679650559393,\n",
       "                                             max_iter=300, n_jobs=2))])"
      ]
     },
     "execution_count": 37,
     "metadata": {},
     "output_type": "execute_result"
    }
   ],
   "source": [
    "model = clone(pipeline).set_params(**best_params_palogreg)\n",
    "model.fit(pd.concat([X_train, X_val], axis=0), pd.concat([y_train, y_val], axis=0))"
   ]
  },
  {
   "cell_type": "code",
   "execution_count": 38,
   "metadata": {},
   "outputs": [
    {
     "data": {
      "application/vnd.plotly.v1+json": {
       "config": {
        "plotlyServerURL": "https://plot.ly"
       },
       "data": [
        {
         "orientation": "h",
         "textposition": "outside",
         "type": "bar",
         "x": [
          19.75071058269096,
          12.58412619126845,
          11.274038683608785,
          10.768877965775253,
          10.22921883618814,
          10.17445972331847,
          9.880332337538592,
          9.543036582612125,
          9.49392503927147,
          8.969360059200099,
          8.586982324516752,
          8.27246364736429,
          7.731892491870302,
          7.466097274659612,
          6.973818002331183,
          6.790997859771023,
          6.010731256538908,
          5.9324934658320005,
          5.908543267387971,
          5.848770785571519,
          5.784865989311383,
          5.735576491489672,
          5.672495327941919,
          5.624411801833354,
          5.507359626191812,
          5.500131052340861,
          5.376629738595619,
          5.319700454558597,
          5.191608634651553,
          5.166091473091746
         ],
         "y": [
          "fuck",
          "fucking",
          "shit",
          "idiot",
          "ass",
          "bitch",
          "asshole",
          "suck",
          "stupid",
          "faggot",
          "bullshit",
          "cunt",
          "bastard",
          "dick",
          "moron",
          "crap",
          "pathetic",
          "cock",
          "nigger",
          "fucker",
          "jerk",
          "penis",
          "pussy",
          "loser",
          "motherfucker",
          "dumbass",
          "fuckin",
          "fag",
          "dumb",
          "dickhead"
         ]
        }
       ],
       "layout": {
        "height": 900,
        "template": {
         "data": {
          "bar": [
           {
            "error_x": {
             "color": "#2a3f5f"
            },
            "error_y": {
             "color": "#2a3f5f"
            },
            "marker": {
             "line": {
              "color": "white",
              "width": 0.5
             },
             "pattern": {
              "fillmode": "overlay",
              "size": 10,
              "solidity": 0.2
             }
            },
            "type": "bar"
           }
          ],
          "barpolar": [
           {
            "marker": {
             "line": {
              "color": "white",
              "width": 0.5
             },
             "pattern": {
              "fillmode": "overlay",
              "size": 10,
              "solidity": 0.2
             }
            },
            "type": "barpolar"
           }
          ],
          "carpet": [
           {
            "aaxis": {
             "endlinecolor": "#2a3f5f",
             "gridcolor": "#C8D4E3",
             "linecolor": "#C8D4E3",
             "minorgridcolor": "#C8D4E3",
             "startlinecolor": "#2a3f5f"
            },
            "baxis": {
             "endlinecolor": "#2a3f5f",
             "gridcolor": "#C8D4E3",
             "linecolor": "#C8D4E3",
             "minorgridcolor": "#C8D4E3",
             "startlinecolor": "#2a3f5f"
            },
            "type": "carpet"
           }
          ],
          "choropleth": [
           {
            "colorbar": {
             "outlinewidth": 0,
             "ticks": ""
            },
            "type": "choropleth"
           }
          ],
          "contour": [
           {
            "colorbar": {
             "outlinewidth": 0,
             "ticks": ""
            },
            "colorscale": [
             [
              0,
              "#0d0887"
             ],
             [
              0.1111111111111111,
              "#46039f"
             ],
             [
              0.2222222222222222,
              "#7201a8"
             ],
             [
              0.3333333333333333,
              "#9c179e"
             ],
             [
              0.4444444444444444,
              "#bd3786"
             ],
             [
              0.5555555555555556,
              "#d8576b"
             ],
             [
              0.6666666666666666,
              "#ed7953"
             ],
             [
              0.7777777777777778,
              "#fb9f3a"
             ],
             [
              0.8888888888888888,
              "#fdca26"
             ],
             [
              1,
              "#f0f921"
             ]
            ],
            "type": "contour"
           }
          ],
          "contourcarpet": [
           {
            "colorbar": {
             "outlinewidth": 0,
             "ticks": ""
            },
            "type": "contourcarpet"
           }
          ],
          "heatmap": [
           {
            "colorbar": {
             "outlinewidth": 0,
             "ticks": ""
            },
            "colorscale": [
             [
              0,
              "#0d0887"
             ],
             [
              0.1111111111111111,
              "#46039f"
             ],
             [
              0.2222222222222222,
              "#7201a8"
             ],
             [
              0.3333333333333333,
              "#9c179e"
             ],
             [
              0.4444444444444444,
              "#bd3786"
             ],
             [
              0.5555555555555556,
              "#d8576b"
             ],
             [
              0.6666666666666666,
              "#ed7953"
             ],
             [
              0.7777777777777778,
              "#fb9f3a"
             ],
             [
              0.8888888888888888,
              "#fdca26"
             ],
             [
              1,
              "#f0f921"
             ]
            ],
            "type": "heatmap"
           }
          ],
          "heatmapgl": [
           {
            "colorbar": {
             "outlinewidth": 0,
             "ticks": ""
            },
            "colorscale": [
             [
              0,
              "#0d0887"
             ],
             [
              0.1111111111111111,
              "#46039f"
             ],
             [
              0.2222222222222222,
              "#7201a8"
             ],
             [
              0.3333333333333333,
              "#9c179e"
             ],
             [
              0.4444444444444444,
              "#bd3786"
             ],
             [
              0.5555555555555556,
              "#d8576b"
             ],
             [
              0.6666666666666666,
              "#ed7953"
             ],
             [
              0.7777777777777778,
              "#fb9f3a"
             ],
             [
              0.8888888888888888,
              "#fdca26"
             ],
             [
              1,
              "#f0f921"
             ]
            ],
            "type": "heatmapgl"
           }
          ],
          "histogram": [
           {
            "marker": {
             "pattern": {
              "fillmode": "overlay",
              "size": 10,
              "solidity": 0.2
             }
            },
            "type": "histogram"
           }
          ],
          "histogram2d": [
           {
            "colorbar": {
             "outlinewidth": 0,
             "ticks": ""
            },
            "colorscale": [
             [
              0,
              "#0d0887"
             ],
             [
              0.1111111111111111,
              "#46039f"
             ],
             [
              0.2222222222222222,
              "#7201a8"
             ],
             [
              0.3333333333333333,
              "#9c179e"
             ],
             [
              0.4444444444444444,
              "#bd3786"
             ],
             [
              0.5555555555555556,
              "#d8576b"
             ],
             [
              0.6666666666666666,
              "#ed7953"
             ],
             [
              0.7777777777777778,
              "#fb9f3a"
             ],
             [
              0.8888888888888888,
              "#fdca26"
             ],
             [
              1,
              "#f0f921"
             ]
            ],
            "type": "histogram2d"
           }
          ],
          "histogram2dcontour": [
           {
            "colorbar": {
             "outlinewidth": 0,
             "ticks": ""
            },
            "colorscale": [
             [
              0,
              "#0d0887"
             ],
             [
              0.1111111111111111,
              "#46039f"
             ],
             [
              0.2222222222222222,
              "#7201a8"
             ],
             [
              0.3333333333333333,
              "#9c179e"
             ],
             [
              0.4444444444444444,
              "#bd3786"
             ],
             [
              0.5555555555555556,
              "#d8576b"
             ],
             [
              0.6666666666666666,
              "#ed7953"
             ],
             [
              0.7777777777777778,
              "#fb9f3a"
             ],
             [
              0.8888888888888888,
              "#fdca26"
             ],
             [
              1,
              "#f0f921"
             ]
            ],
            "type": "histogram2dcontour"
           }
          ],
          "mesh3d": [
           {
            "colorbar": {
             "outlinewidth": 0,
             "ticks": ""
            },
            "type": "mesh3d"
           }
          ],
          "parcoords": [
           {
            "line": {
             "colorbar": {
              "outlinewidth": 0,
              "ticks": ""
             }
            },
            "type": "parcoords"
           }
          ],
          "pie": [
           {
            "automargin": true,
            "type": "pie"
           }
          ],
          "scatter": [
           {
            "fillpattern": {
             "fillmode": "overlay",
             "size": 10,
             "solidity": 0.2
            },
            "type": "scatter"
           }
          ],
          "scatter3d": [
           {
            "line": {
             "colorbar": {
              "outlinewidth": 0,
              "ticks": ""
             }
            },
            "marker": {
             "colorbar": {
              "outlinewidth": 0,
              "ticks": ""
             }
            },
            "type": "scatter3d"
           }
          ],
          "scattercarpet": [
           {
            "marker": {
             "colorbar": {
              "outlinewidth": 0,
              "ticks": ""
             }
            },
            "type": "scattercarpet"
           }
          ],
          "scattergeo": [
           {
            "marker": {
             "colorbar": {
              "outlinewidth": 0,
              "ticks": ""
             }
            },
            "type": "scattergeo"
           }
          ],
          "scattergl": [
           {
            "marker": {
             "colorbar": {
              "outlinewidth": 0,
              "ticks": ""
             }
            },
            "type": "scattergl"
           }
          ],
          "scattermapbox": [
           {
            "marker": {
             "colorbar": {
              "outlinewidth": 0,
              "ticks": ""
             }
            },
            "type": "scattermapbox"
           }
          ],
          "scatterpolar": [
           {
            "marker": {
             "colorbar": {
              "outlinewidth": 0,
              "ticks": ""
             }
            },
            "type": "scatterpolar"
           }
          ],
          "scatterpolargl": [
           {
            "marker": {
             "colorbar": {
              "outlinewidth": 0,
              "ticks": ""
             }
            },
            "type": "scatterpolargl"
           }
          ],
          "scatterternary": [
           {
            "marker": {
             "colorbar": {
              "outlinewidth": 0,
              "ticks": ""
             }
            },
            "type": "scatterternary"
           }
          ],
          "surface": [
           {
            "colorbar": {
             "outlinewidth": 0,
             "ticks": ""
            },
            "colorscale": [
             [
              0,
              "#0d0887"
             ],
             [
              0.1111111111111111,
              "#46039f"
             ],
             [
              0.2222222222222222,
              "#7201a8"
             ],
             [
              0.3333333333333333,
              "#9c179e"
             ],
             [
              0.4444444444444444,
              "#bd3786"
             ],
             [
              0.5555555555555556,
              "#d8576b"
             ],
             [
              0.6666666666666666,
              "#ed7953"
             ],
             [
              0.7777777777777778,
              "#fb9f3a"
             ],
             [
              0.8888888888888888,
              "#fdca26"
             ],
             [
              1,
              "#f0f921"
             ]
            ],
            "type": "surface"
           }
          ],
          "table": [
           {
            "cells": {
             "fill": {
              "color": "#EBF0F8"
             },
             "line": {
              "color": "white"
             }
            },
            "header": {
             "fill": {
              "color": "#C8D4E3"
             },
             "line": {
              "color": "white"
             }
            },
            "type": "table"
           }
          ]
         },
         "layout": {
          "annotationdefaults": {
           "arrowcolor": "#2a3f5f",
           "arrowhead": 0,
           "arrowwidth": 1
          },
          "autotypenumbers": "strict",
          "coloraxis": {
           "colorbar": {
            "outlinewidth": 0,
            "ticks": ""
           }
          },
          "colorscale": {
           "diverging": [
            [
             0,
             "#8e0152"
            ],
            [
             0.1,
             "#c51b7d"
            ],
            [
             0.2,
             "#de77ae"
            ],
            [
             0.3,
             "#f1b6da"
            ],
            [
             0.4,
             "#fde0ef"
            ],
            [
             0.5,
             "#f7f7f7"
            ],
            [
             0.6,
             "#e6f5d0"
            ],
            [
             0.7,
             "#b8e186"
            ],
            [
             0.8,
             "#7fbc41"
            ],
            [
             0.9,
             "#4d9221"
            ],
            [
             1,
             "#276419"
            ]
           ],
           "sequential": [
            [
             0,
             "#0d0887"
            ],
            [
             0.1111111111111111,
             "#46039f"
            ],
            [
             0.2222222222222222,
             "#7201a8"
            ],
            [
             0.3333333333333333,
             "#9c179e"
            ],
            [
             0.4444444444444444,
             "#bd3786"
            ],
            [
             0.5555555555555556,
             "#d8576b"
            ],
            [
             0.6666666666666666,
             "#ed7953"
            ],
            [
             0.7777777777777778,
             "#fb9f3a"
            ],
            [
             0.8888888888888888,
             "#fdca26"
            ],
            [
             1,
             "#f0f921"
            ]
           ],
           "sequentialminus": [
            [
             0,
             "#0d0887"
            ],
            [
             0.1111111111111111,
             "#46039f"
            ],
            [
             0.2222222222222222,
             "#7201a8"
            ],
            [
             0.3333333333333333,
             "#9c179e"
            ],
            [
             0.4444444444444444,
             "#bd3786"
            ],
            [
             0.5555555555555556,
             "#d8576b"
            ],
            [
             0.6666666666666666,
             "#ed7953"
            ],
            [
             0.7777777777777778,
             "#fb9f3a"
            ],
            [
             0.8888888888888888,
             "#fdca26"
            ],
            [
             1,
             "#f0f921"
            ]
           ]
          },
          "colorway": [
           "#636efa",
           "#EF553B",
           "#00cc96",
           "#ab63fa",
           "#FFA15A",
           "#19d3f3",
           "#FF6692",
           "#B6E880",
           "#FF97FF",
           "#FECB52"
          ],
          "font": {
           "color": "#2a3f5f"
          },
          "geo": {
           "bgcolor": "white",
           "lakecolor": "white",
           "landcolor": "white",
           "showlakes": true,
           "showland": true,
           "subunitcolor": "#C8D4E3"
          },
          "hoverlabel": {
           "align": "left"
          },
          "hovermode": "closest",
          "mapbox": {
           "style": "light"
          },
          "paper_bgcolor": "white",
          "plot_bgcolor": "white",
          "polar": {
           "angularaxis": {
            "gridcolor": "#EBF0F8",
            "linecolor": "#EBF0F8",
            "ticks": ""
           },
           "bgcolor": "white",
           "radialaxis": {
            "gridcolor": "#EBF0F8",
            "linecolor": "#EBF0F8",
            "ticks": ""
           }
          },
          "scene": {
           "xaxis": {
            "backgroundcolor": "white",
            "gridcolor": "#DFE8F3",
            "gridwidth": 2,
            "linecolor": "#EBF0F8",
            "showbackground": true,
            "ticks": "",
            "zerolinecolor": "#EBF0F8"
           },
           "yaxis": {
            "backgroundcolor": "white",
            "gridcolor": "#DFE8F3",
            "gridwidth": 2,
            "linecolor": "#EBF0F8",
            "showbackground": true,
            "ticks": "",
            "zerolinecolor": "#EBF0F8"
           },
           "zaxis": {
            "backgroundcolor": "white",
            "gridcolor": "#DFE8F3",
            "gridwidth": 2,
            "linecolor": "#EBF0F8",
            "showbackground": true,
            "ticks": "",
            "zerolinecolor": "#EBF0F8"
           }
          },
          "shapedefaults": {
           "line": {
            "color": "#2a3f5f"
           }
          },
          "ternary": {
           "aaxis": {
            "gridcolor": "#DFE8F3",
            "linecolor": "#A2B1C6",
            "ticks": ""
           },
           "baxis": {
            "gridcolor": "#DFE8F3",
            "linecolor": "#A2B1C6",
            "ticks": ""
           },
           "bgcolor": "white",
           "caxis": {
            "gridcolor": "#DFE8F3",
            "linecolor": "#A2B1C6",
            "ticks": ""
           }
          },
          "title": {
           "x": 0.05
          },
          "xaxis": {
           "automargin": true,
           "gridcolor": "#EBF0F8",
           "linecolor": "#EBF0F8",
           "ticks": "",
           "title": {
            "standoff": 15
           },
           "zerolinecolor": "#EBF0F8",
           "zerolinewidth": 2
          },
          "yaxis": {
           "automargin": true,
           "gridcolor": "#EBF0F8",
           "linecolor": "#EBF0F8",
           "ticks": "",
           "title": {
            "standoff": 15
           },
           "zerolinecolor": "#EBF0F8",
           "zerolinewidth": 2
          }
         }
        },
        "title": {
         "text": "Топ-30 слов по важности"
        },
        "width": 700,
        "xaxis": {
         "title": {
          "text": "Коэффициент важности"
         }
        },
        "yaxis": {
         "autorange": "reversed",
         "title": {
          "text": "Слово"
         }
        }
       }
      }
     },
     "metadata": {},
     "output_type": "display_data"
    }
   ],
   "source": [
    "importancies_words = pd.DataFrame({\n",
    "    'Слово': model.named_steps.preprocessor.get_feature_names_out(),\n",
    "    'Коэффициент важности': model.named_steps.model.coef_.tolist()[0]\n",
    "}).sort_values(by='Коэффициент важности', ascending=False).head(30)\n",
    "importancies_words['Слово'] = importancies_words['Слово'].str.split('__').str[-1]\n",
    "\n",
    "fig = go.Figure()\n",
    "fig.add_bar(\n",
    "    x=importancies_words['Коэффициент важности'],\n",
    "    y=importancies_words['Слово'],\n",
    "    orientation='h',\n",
    "    textposition='outside'\n",
    ")\n",
    "fig.update_layout(\n",
    "    width=700,\n",
    "    height=900,\n",
    "    title='Топ-30 слов по важности',\n",
    "    xaxis_title='Коэффициент важности',\n",
    "    yaxis_title='Слово',\n",
    "    template='plotly_white',\n",
    "    yaxis=dict(autorange=\"reversed\")\n",
    ")\n",
    "fig.show()\n"
   ]
  },
  {
   "cell_type": "markdown",
   "metadata": {},
   "source": [
    "_____\n",
    "### BERT"
   ]
  },
  {
   "cell_type": "code",
   "execution_count": null,
   "metadata": {},
   "outputs": [
    {
     "data": {
      "text/plain": [
       "toxic\n",
       "0    143096\n",
       "1     16185\n",
       "Name: count, dtype: int64"
      ]
     },
     "execution_count": 132,
     "metadata": {},
     "output_type": "execute_result"
    }
   ],
   "source": [
    "from transformers import BertTokenizer, BertForSequenceClassification, Trainer, TrainingArguments\n",
    "from datasets import load_dataset, Dataset\n",
    "import torch"
   ]
  },
  {
   "cell_type": "code",
   "execution_count": null,
   "metadata": {},
   "outputs": [],
   "source": [
    "model_name = \"bert-base-uncased\"\n",
    "tokenizer = BertTokenizer.from_pretrained(model_name)\n",
    "model = BertForSequenceClassification.from_pretrained(model_name, num_labels=2)  # Например, бинарная классификация"
   ]
  },
  {
   "cell_type": "code",
   "execution_count": null,
   "metadata": {},
   "outputs": [],
   "source": [
    "from datasets import Dataset\n",
    "import pandas as pd\n",
    "\n",
    "# Пример\n",
    "df = pd.DataFrame({\n",
    "    \"text\": [\"This is great!\", \"I hate this...\"],\n",
    "    \"label\": [1, 0]  # 1 — позитив, 0 — негатив\n",
    "})\n",
    "\n",
    "dataset = Dataset.from_pandas(df)\n",
    "\n",
    "# Токенизация\n",
    "def tokenize_function(example):\n",
    "    return tokenizer(example[\"text\"], padding=\"max_length\", truncation=True)\n",
    "\n",
    "tokenized_dataset = dataset.map(tokenize_function, batched=True)\n",
    "tokenized_dataset = tokenized_dataset.rename_column(\"label\", \"labels\")\n",
    "tokenized_dataset.set_format(\"torch\", columns=[\"input_ids\", \"attention_mask\", \"labels\"])\n"
   ]
  },
  {
   "cell_type": "code",
   "execution_count": null,
   "metadata": {},
   "outputs": [],
   "source": [
    "training_args = TrainingArguments(\n",
    "    output_dir=\"./results\",\n",
    "    num_train_epochs=3,\n",
    "    per_device_train_batch_size=8,\n",
    "    evaluation_strategy=\"no\",  # Или \"epoch\" для оценки на валидации\n",
    "    logging_dir=\"./logs\",\n",
    "    logging_steps=10,\n",
    "    save_strategy=\"epoch\"\n",
    ")\n"
   ]
  },
  {
   "cell_type": "code",
   "execution_count": null,
   "metadata": {},
   "outputs": [],
   "source": [
    "trainer = Trainer(\n",
    "    model=model,\n",
    "    args=training_args,\n",
    "    train_dataset=tokenized_dataset\n",
    ")\n",
    "\n",
    "trainer.train()\n"
   ]
  },
  {
   "cell_type": "markdown",
   "metadata": {},
   "source": [
    "_____\n",
    "### Вывод"
   ]
  },
  {
   "cell_type": "code",
   "execution_count": null,
   "metadata": {},
   "outputs": [],
   "source": []
  },
  {
   "cell_type": "markdown",
   "metadata": {},
   "source": [
    "_____\n",
    "_____\n",
    "## Общий вывод"
   ]
  }
 ],
 "metadata": {
  "kernelspec": {
   "display_name": ".venv",
   "language": "python",
   "name": "python3"
  },
  "language_info": {
   "codemirror_mode": {
    "name": "ipython",
    "version": 3
   },
   "file_extension": ".py",
   "mimetype": "text/x-python",
   "name": "python",
   "nbconvert_exporter": "python",
   "pygments_lexer": "ipython3",
   "version": "3.11.9"
  }
 },
 "nbformat": 4,
 "nbformat_minor": 2
}
