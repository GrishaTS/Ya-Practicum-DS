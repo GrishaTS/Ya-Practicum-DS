{
 "cells": [
  {
   "cell_type": "markdown",
   "metadata": {},
   "source": [
    "ПРОШУ ПРОВЕРИТЬ МОЙ ПРОЕКТ МАКСИМАЛЬНО СТРОГО"
   ]
  },
  {
   "cell_type": "markdown",
   "metadata": {},
   "source": [
    "# [Система определения токсичных комментариев для «Викишоп»](#toc1_)\n",
    "- [Описание проекта](#toc1_1_)    \n",
    "- [Импорт и подготовка к работе](#toc1_2_)    \n",
    "- [Загрузка данных, общая информация и первичная обработка](#toc1_3_)    \n",
    "  - [Вывод:](#toc1_3_1_)    \n",
    "- [Предобработка данных](#toc1_4_)    \n",
    "  - [Переименовывание столбцов датафреймов](#toc1_4_1_)    \n",
    "  - [Удаление дубликатов и опечаток](#toc1_4_2_)    \n",
    "  - [Очистка и лемматизация текста](#toc1_4_3_)    \n",
    "  - [Удаление пропущенных значений](#toc1_4_4_)    \n",
    "  - [Вывод:](#toc1_4_5_)    \n",
    "- [Анализ данных](#toc1_5_)    \n",
    "  - [Функции отрисовок данных](#toc1_5_1_)    \n",
    "  - [Таргет (`toxic`)](#toc1_5_2_)    \n",
    "  - [Длина комментариев (`cleared_text`)](#toc1_5_3_)    \n",
    "  - [Вывод:](#toc1_5_4_)    \n",
    "- [Модели](#toc1_6_)    \n",
    "  - [Оценка моделей](#toc1_6_1_)    \n",
    "  - [Пайплайн](#toc1_6_2_)    \n",
    "  - [Датасеты](#toc1_6_3_)    \n",
    "  - [Перебор гиперпараметров через optuna](#toc1_6_4_)    \n",
    "  - [LogisticRegression](#toc1_6_5_)    \n",
    "  - [PassiveAggressiveClassifier](#toc1_6_6_)    \n",
    "  - [RandomForestClassifier](#toc1_6_7_)    \n",
    "  - [LGBMClassifier](#toc1_6_8_)    \n",
    "  - [BERT + PassiveAggressiveClassifier](#toc1_6_9_)    \n",
    "  - [Результат](#toc1_6_10_)    \n",
    "  - [Вывод](#toc1_6_11_)    \n",
    "- [Общий вывод](#toc1_7_)    \n",
    "\n",
    "<!-- vscode-jupyter-toc-config\n",
    "\tnumbering=false\n",
    "\tanchor=true\n",
    "\tflat=false\n",
    "\tminLevel=1\n",
    "\tmaxLevel=6\n",
    "\t/vscode-jupyter-toc-config -->\n",
    "<!-- THIS CELL WILL BE REPLACED ON TOC UPDATE. DO NOT WRITE YOUR TEXT IN THIS CELL -->"
   ]
  },
  {
   "cell_type": "markdown",
   "metadata": {},
   "source": [
    "_____\n",
    "_____\n",
    "## <a id='toc1_1_'></a>[Описание проекта](#toc0_)"
   ]
  },
  {
   "cell_type": "markdown",
   "metadata": {},
   "source": [
    "Сервис **«Викишоп»** внедряет возможность редактирования и комментирования карточек товаров по принципу вики-сообществ. Для поддержания конструктивной атмосферы и защиты от вредоносного контента необходимо разработать систему автоматической модерации комментариев. Эта система должна в режиме реального времени определять токсичные сообщения и направлять их на ручную проверку.\n",
    "\n",
    "- **Цели и задачи проекта:**  \n",
    "    - **Определение токсичности комментариев**: Разработка модели машинного обучения, которая классифицирует комментарии как токсичные или нетоксичные на основе текстового содержания.\n",
    "    - **Сравнительный анализ моделей**: Изучение производительности разных алгоритмов, анализ их точности и скорости работы.  \n",
    "\n",
    "- **Ключевые требования к системе:**  \n",
    "    - **Высокая точность предсказаний**: F1 >= 0.75.  \n",
    "    - **Эффективность работы**: модель должна быстро обучаться и давать предсказания.    "
   ]
  },
  {
   "cell_type": "markdown",
   "metadata": {},
   "source": [
    "_____\n",
    "_____\n",
    "## <a id='toc1_2_'></a>[Импорт и подготовка к работе](#toc0_)"
   ]
  },
  {
   "cell_type": "code",
   "execution_count": 1,
   "metadata": {},
   "outputs": [],
   "source": [
    "# %%capture\n",
    "# %pip install numpy==1.23.5\n",
    "# %pip install numba==0.57.1\n",
    "# %pip install matplotlib==3.6.3\n",
    "# %pip install pandas==2.0.3\n",
    "# %pip install plotly==5.15.0\n",
    "# %pip install scikit-learn==1.2.2\n",
    "# %pip install scipy==1.9.3\n",
    "# %pip install optuna==4.1.0\n",
    "# %pip install nbformat>=4.2.0\n",
    "# %pip install lightgbm==4.5.0\n",
    "# %pip install Jinja2==3.1.2\n",
    "# %pip install requests==2.32.3\n",
    "# %pip install torch==2.6.0\n",
    "# %pip install transformers==4.50.0\n",
    "# %pip install spacy==3.8.4\n",
    "# %pip install nltk==3.9.1"
   ]
  },
  {
   "cell_type": "code",
   "execution_count": 2,
   "metadata": {},
   "outputs": [
    {
     "name": "stderr",
     "output_type": "stream",
     "text": [
      "c:\\Users\\bezgr\\STUDY\\DS\\Ya-Practicum\\.venv\\Lib\\site-packages\\tqdm\\auto.py:21: TqdmWarning: IProgress not found. Please update jupyter and ipywidgets. See https://ipywidgets.readthedocs.io/en/stable/user_install.html\n",
      "  from .autonotebook import tqdm as notebook_tqdm\n"
     ]
    }
   ],
   "source": [
    "import os\n",
    "import re\n",
    "import time\n",
    "from copy import deepcopy\n",
    "from itertools import cycle\n",
    "from typing import Literal\n",
    "\n",
    "import numpy as np\n",
    "import optuna\n",
    "import pandas as pd\n",
    "import plotly.express as px\n",
    "import plotly.graph_objects as go\n",
    "import requests\n",
    "import spacy\n",
    "import spacy.cli\n",
    "import torch\n",
    "from lightgbm import LGBMClassifier\n",
    "from nltk.corpus import stopwords\n",
    "from plotly.subplots import make_subplots\n",
    "from optuna.visualization import plot_param_importances\n",
    "from sklearn.base import clone\n",
    "from sklearn.compose import ColumnTransformer\n",
    "from sklearn.dummy import DummyClassifier\n",
    "from sklearn.ensemble import RandomForestClassifier\n",
    "from sklearn.feature_extraction.text import CountVectorizer, TfidfVectorizer\n",
    "from sklearn.feature_selection import RFE, SelectKBest, mutual_info_regression\n",
    "from sklearn.linear_model import LogisticRegression, PassiveAggressiveClassifier\n",
    "from sklearn.metrics import f1_score\n",
    "from sklearn.model_selection import StratifiedKFold, train_test_split\n",
    "from sklearn.pipeline import Pipeline\n",
    "from transformers import BertModel, BertTokenizer\n",
    "from tqdm.notebook import tqdm"
   ]
  },
  {
   "cell_type": "code",
   "execution_count": 3,
   "metadata": {},
   "outputs": [
    {
     "name": "stdout",
     "output_type": "stream",
     "text": [
      "\u001b[38;5;2m✔ Download and installation successful\u001b[0m\n",
      "You can now load the package via spacy.load('en_core_web_sm')\n",
      "\u001b[38;5;3m⚠ Restart to reload dependencies\u001b[0m\n",
      "If you are in a Jupyter or Colab notebook, you may need to restart Python in\n",
      "order to load all the package's dependencies. You can do this by selecting the\n",
      "'Restart kernel' or 'Restart runtime' option.\n"
     ]
    }
   ],
   "source": [
    "tqdm.pandas()\n",
    "spacy.cli.download('en_core_web_sm')\n",
    "RANDOM_STATE = 42\n",
    "optuna_sampler = optuna.samplers.TPESampler(seed=RANDOM_STATE)\n",
    "state = np.random.RandomState(RANDOM_STATE)\n",
    "skf = StratifiedKFold(n_splits=5, shuffle=True, random_state=RANDOM_STATE)\n",
    "color_palette = cycle(px.colors.qualitative.Plotly)\n",
    "optuna_storage = 'sqlite:///optuna.db'\n",
    "stop_words = list(set(stopwords.words('english')))\n"
   ]
  },
  {
   "cell_type": "markdown",
   "metadata": {},
   "source": [
    "_____\n",
    "_____\n",
    "## <a id='toc1_3_'></a>[Загрузка данных, общая информация и первичная обработка](#toc0_)"
   ]
  },
  {
   "cell_type": "markdown",
   "metadata": {},
   "source": [
    "|Поле      |Описание                                       |\n",
    "|----------|-----------------------------------------------|\n",
    "|Unnamed: 0|Индекс                                         |\n",
    "|text      |Текст пользовательского комментария            |\n",
    "|toxic     |Метка токсичности комментария (0 — нет, 1 — да)|\n"
   ]
  },
  {
   "cell_type": "code",
   "execution_count": 4,
   "metadata": {},
   "outputs": [
    {
     "name": "stderr",
     "output_type": "stream",
     "text": [
      "C:\\Users\\bezgr\\AppData\\Local\\Temp\\ipykernel_25468\\579967484.py:4: UserWarning: Could not infer format, so each element will be parsed individually, falling back to `dateutil`. To ensure parsing is consistent and as-expected, please specify a format.\n",
      "  comments = pd.read_csv(path_1, delimiter=',', parse_dates=[0])\n"
     ]
    }
   ],
   "source": [
    "path_1 = 'toxic_comments.csv'\n",
    "path_2 = '/datasets/toxic_comments.csv'\n",
    "if os.path.exists(path_1):\n",
    "    comments = pd.read_csv(path_1, delimiter=',', parse_dates=[0])\n",
    "elif os.path.exists(path_2):\n",
    "    comments = pd.read_csv(path_2, delimiter=',', parse_dates=[0])\n",
    "else:\n",
    "    raise FileNotFoundError"
   ]
  },
  {
   "cell_type": "code",
   "execution_count": 5,
   "metadata": {},
   "outputs": [
    {
     "data": {
      "text/html": [
       "<div>\n",
       "<style scoped>\n",
       "    .dataframe tbody tr th:only-of-type {\n",
       "        vertical-align: middle;\n",
       "    }\n",
       "\n",
       "    .dataframe tbody tr th {\n",
       "        vertical-align: top;\n",
       "    }\n",
       "\n",
       "    .dataframe thead th {\n",
       "        text-align: right;\n",
       "    }\n",
       "</style>\n",
       "<table border=\"1\" class=\"dataframe\">\n",
       "  <thead>\n",
       "    <tr style=\"text-align: right;\">\n",
       "      <th></th>\n",
       "      <th>Unnamed: 0</th>\n",
       "      <th>text</th>\n",
       "      <th>toxic</th>\n",
       "    </tr>\n",
       "  </thead>\n",
       "  <tbody>\n",
       "    <tr>\n",
       "      <th>0</th>\n",
       "      <td>0</td>\n",
       "      <td>Explanation\\nWhy the edits made under my usern...</td>\n",
       "      <td>0</td>\n",
       "    </tr>\n",
       "    <tr>\n",
       "      <th>1</th>\n",
       "      <td>1</td>\n",
       "      <td>D'aww! He matches this background colour I'm s...</td>\n",
       "      <td>0</td>\n",
       "    </tr>\n",
       "    <tr>\n",
       "      <th>2</th>\n",
       "      <td>2</td>\n",
       "      <td>Hey man, I'm really not trying to edit war. It...</td>\n",
       "      <td>0</td>\n",
       "    </tr>\n",
       "    <tr>\n",
       "      <th>3</th>\n",
       "      <td>3</td>\n",
       "      <td>\"\\nMore\\nI can't make any real suggestions on ...</td>\n",
       "      <td>0</td>\n",
       "    </tr>\n",
       "    <tr>\n",
       "      <th>4</th>\n",
       "      <td>4</td>\n",
       "      <td>You, sir, are my hero. Any chance you remember...</td>\n",
       "      <td>0</td>\n",
       "    </tr>\n",
       "  </tbody>\n",
       "</table>\n",
       "</div>"
      ],
      "text/plain": [
       "  Unnamed: 0                                               text  toxic\n",
       "0          0  Explanation\\nWhy the edits made under my usern...      0\n",
       "1          1  D'aww! He matches this background colour I'm s...      0\n",
       "2          2  Hey man, I'm really not trying to edit war. It...      0\n",
       "3          3  \"\\nMore\\nI can't make any real suggestions on ...      0\n",
       "4          4  You, sir, are my hero. Any chance you remember...      0"
      ]
     },
     "metadata": {},
     "output_type": "display_data"
    },
    {
     "name": "stdout",
     "output_type": "stream",
     "text": [
      "<class 'pandas.core.frame.DataFrame'>\n",
      "RangeIndex: 159292 entries, 0 to 159291\n",
      "Data columns (total 3 columns):\n",
      " #   Column      Non-Null Count   Dtype \n",
      "---  ------      --------------   ----- \n",
      " 0   Unnamed: 0  159292 non-null  object\n",
      " 1   text        159292 non-null  object\n",
      " 2   toxic       159292 non-null  int64 \n",
      "dtypes: int64(1), object(2)\n",
      "memory usage: 3.6+ MB\n"
     ]
    }
   ],
   "source": [
    "display(comments.head())\n",
    "comments.info()"
   ]
  },
  {
   "cell_type": "markdown",
   "metadata": {},
   "source": [
    "_____\n",
    "### <a id='toc1_3_1_'></a>[Вывод:](#toc0_)"
   ]
  },
  {
   "cell_type": "markdown",
   "metadata": {},
   "source": [
    "- Таблица содержит тексты пользовательских комментариев и метки их токсичности.\n",
    "- Всего 159 292 строки.\n",
    "- Пропущенных значений нет.\n",
    "- 1 количественный признак: `toxic`.\n",
    "- 2 категориальных признака: `Unnamed: 0` и `text`.\n",
    "- Необходима предобработка текста"
   ]
  },
  {
   "cell_type": "markdown",
   "metadata": {},
   "source": [
    "_____\n",
    "_____\n",
    "## <a id='toc1_4_'></a>[Предобработка данных](#toc0_)"
   ]
  },
  {
   "cell_type": "markdown",
   "metadata": {},
   "source": [
    "_____\n",
    "### <a id='toc1_4_1_'></a>[Переименовывание столбцов датафреймов](#toc0_)"
   ]
  },
  {
   "cell_type": "markdown",
   "metadata": {},
   "source": [
    "*Удалим столбец `Unnamed: 0`, а также создадим словарь с переводом*"
   ]
  },
  {
   "cell_type": "code",
   "execution_count": null,
   "metadata": {},
   "outputs": [],
   "source": [
    "comments = comments.drop('Unnamed: 0', axis=1)\n",
    "\n",
    "column_translation = {\n",
    "    'text': 'Текст комментария',\n",
    "    'toxic': 'Токсичность'\n",
    "}"
   ]
  },
  {
   "cell_type": "markdown",
   "metadata": {},
   "source": [
    "_____\n",
    "### <a id='toc1_4_2_'></a>[Удаление дубликатов и опечаток](#toc0_)"
   ]
  },
  {
   "cell_type": "code",
   "execution_count": null,
   "metadata": {},
   "outputs": [
    {
     "name": "stdout",
     "output_type": "stream",
     "text": [
      "Кол-во дубликатов в comments: 0\n"
     ]
    }
   ],
   "source": [
    "print('Кол-во дубликатов в comments:',\n",
    "      comments.duplicated().sum() + comments.text.duplicated().sum())"
   ]
  },
  {
   "cell_type": "markdown",
   "metadata": {},
   "source": [
    "_____\n",
    "### <a id='toc1_4_3_'></a>[Очистка и лемматизация текста](#toc0_)"
   ]
  },
  {
   "cell_type": "code",
   "execution_count": 8,
   "metadata": {},
   "outputs": [],
   "source": [
    "RE_CLEAN = re.compile(r'[^a-zA-Z ]')\n",
    "nlp = spacy.load('en_core_web_sm', disable=['parser', 'ner'])\n",
    "\n",
    "\n",
    "def clean_text(text: str) -> str:\n",
    "    '''Удаляет лишние символы, приводит к нижнему регистру и убирает лишние пробелы'''\n",
    "    return ' '.join(RE_CLEAN.sub(' ', str(text).lower()).split())\n",
    "\n",
    "\n",
    "def lemmatize_corpus(texts: pd.Series) -> pd.Series:\n",
    "    '''Лемматизирует тексты с отображением прогресса'''\n",
    "    texts = texts.dropna().astype(str)\n",
    "    lemmatized = (\n",
    "        ' '.join(token.lemma_ for token in doc)\n",
    "        for doc in tqdm(\n",
    "            nlp.pipe(texts, batch_size=100, n_process=os.cpu_count()-1),\n",
    "            total=len(texts),\n",
    "            desc='Lemmatizing'\n",
    "        )\n",
    "    )\n",
    "    return pd.Series(lemmatized, index=texts.index)"
   ]
  },
  {
   "cell_type": "markdown",
   "metadata": {},
   "source": [
    "*Подкачиваем чекпоинт*"
   ]
  },
  {
   "cell_type": "code",
   "execution_count": 9,
   "metadata": {},
   "outputs": [],
   "source": [
    "path_csv = 'prepared_data/lemmatized_text.csv'\n",
    "if os.path.exists(path_csv):\n",
    "    comments = pd.read_csv(path_csv)\n",
    "else:\n",
    "    comments['cleared_text'] = comments.text.apply(clean_text)\n",
    "    comments['lemmatized_text'] = lemmatize_corpus(comments.cleared_text)\n",
    "    comments.drop('text', axis=1).to_csv(path_csv, index=False)\n",
    "column_translation |= {\n",
    "    'cleared_text': 'очищенный текст',\n",
    "    'lemmatized_text': 'лемматизированный текст'\n",
    "}"
   ]
  },
  {
   "cell_type": "code",
   "execution_count": null,
   "metadata": {},
   "outputs": [
    {
     "data": {
      "text/html": [
       "<div>\n",
       "<style scoped>\n",
       "    .dataframe tbody tr th:only-of-type {\n",
       "        vertical-align: middle;\n",
       "    }\n",
       "\n",
       "    .dataframe tbody tr th {\n",
       "        vertical-align: top;\n",
       "    }\n",
       "\n",
       "    .dataframe thead th {\n",
       "        text-align: right;\n",
       "    }\n",
       "</style>\n",
       "<table border=\"1\" class=\"dataframe\">\n",
       "  <thead>\n",
       "    <tr style=\"text-align: right;\">\n",
       "      <th></th>\n",
       "      <th>toxic</th>\n",
       "      <th>cleared_text</th>\n",
       "      <th>lemmatized_text</th>\n",
       "    </tr>\n",
       "  </thead>\n",
       "  <tbody>\n",
       "    <tr>\n",
       "      <th>0</th>\n",
       "      <td>0</td>\n",
       "      <td>explanation why the edits made under my userna...</td>\n",
       "      <td>explanation why the edit make under my usernam...</td>\n",
       "    </tr>\n",
       "    <tr>\n",
       "      <th>1</th>\n",
       "      <td>0</td>\n",
       "      <td>d aww he matches this background colour i m se...</td>\n",
       "      <td>d aww he match this background colour I m seem...</td>\n",
       "    </tr>\n",
       "    <tr>\n",
       "      <th>2</th>\n",
       "      <td>0</td>\n",
       "      <td>hey man i m really not trying to edit war it s...</td>\n",
       "      <td>hey man I m really not try to edit war it s ju...</td>\n",
       "    </tr>\n",
       "    <tr>\n",
       "      <th>3</th>\n",
       "      <td>0</td>\n",
       "      <td>more i can t make any real suggestions on impr...</td>\n",
       "      <td>more I can t make any real suggestion on impro...</td>\n",
       "    </tr>\n",
       "    <tr>\n",
       "      <th>4</th>\n",
       "      <td>0</td>\n",
       "      <td>you sir are my hero any chance you remember wh...</td>\n",
       "      <td>you sir be my hero any chance you remember wha...</td>\n",
       "    </tr>\n",
       "    <tr>\n",
       "      <th>...</th>\n",
       "      <td>...</td>\n",
       "      <td>...</td>\n",
       "      <td>...</td>\n",
       "    </tr>\n",
       "    <tr>\n",
       "      <th>159287</th>\n",
       "      <td>0</td>\n",
       "      <td>and for the second time of asking when your vi...</td>\n",
       "      <td>and for the second time of ask when your view ...</td>\n",
       "    </tr>\n",
       "    <tr>\n",
       "      <th>159288</th>\n",
       "      <td>0</td>\n",
       "      <td>you should be ashamed of yourself that is a ho...</td>\n",
       "      <td>you should be ashamed of yourself that be a ho...</td>\n",
       "    </tr>\n",
       "    <tr>\n",
       "      <th>159289</th>\n",
       "      <td>0</td>\n",
       "      <td>spitzer umm theres no actual article for prost...</td>\n",
       "      <td>spitzer umm there s no actual article for pros...</td>\n",
       "    </tr>\n",
       "    <tr>\n",
       "      <th>159290</th>\n",
       "      <td>0</td>\n",
       "      <td>and it looks like it was actually you who put ...</td>\n",
       "      <td>and it look like it be actually you who put on...</td>\n",
       "    </tr>\n",
       "    <tr>\n",
       "      <th>159291</th>\n",
       "      <td>0</td>\n",
       "      <td>and i really don t think you understand i came...</td>\n",
       "      <td>and I really don t think you understand I come...</td>\n",
       "    </tr>\n",
       "  </tbody>\n",
       "</table>\n",
       "<p>159292 rows × 3 columns</p>\n",
       "</div>"
      ],
      "text/plain": [
       "        toxic                                       cleared_text  \\\n",
       "0           0  explanation why the edits made under my userna...   \n",
       "1           0  d aww he matches this background colour i m se...   \n",
       "2           0  hey man i m really not trying to edit war it s...   \n",
       "3           0  more i can t make any real suggestions on impr...   \n",
       "4           0  you sir are my hero any chance you remember wh...   \n",
       "...       ...                                                ...   \n",
       "159287      0  and for the second time of asking when your vi...   \n",
       "159288      0  you should be ashamed of yourself that is a ho...   \n",
       "159289      0  spitzer umm theres no actual article for prost...   \n",
       "159290      0  and it looks like it was actually you who put ...   \n",
       "159291      0  and i really don t think you understand i came...   \n",
       "\n",
       "                                          lemmatized_text  \n",
       "0       explanation why the edit make under my usernam...  \n",
       "1       d aww he match this background colour I m seem...  \n",
       "2       hey man I m really not try to edit war it s ju...  \n",
       "3       more I can t make any real suggestion on impro...  \n",
       "4       you sir be my hero any chance you remember wha...  \n",
       "...                                                   ...  \n",
       "159287  and for the second time of ask when your view ...  \n",
       "159288  you should be ashamed of yourself that be a ho...  \n",
       "159289  spitzer umm there s no actual article for pros...  \n",
       "159290  and it look like it be actually you who put on...  \n",
       "159291  and I really don t think you understand I come...  \n",
       "\n",
       "[159292 rows x 3 columns]"
      ]
     },
     "execution_count": 10,
     "metadata": {},
     "output_type": "execute_result"
    }
   ],
   "source": [
    "comments"
   ]
  },
  {
   "cell_type": "markdown",
   "metadata": {},
   "source": [
    "_____\n",
    "### <a id='toc1_4_4_'></a>[Удаление пропущенных значений](#toc0_)"
   ]
  },
  {
   "cell_type": "markdown",
   "metadata": {},
   "source": [
    "*после очистки появились пропуски*"
   ]
  },
  {
   "cell_type": "code",
   "execution_count": null,
   "metadata": {},
   "outputs": [],
   "source": [
    "comments = comments[~comments.isna().any(axis=1)]"
   ]
  },
  {
   "cell_type": "markdown",
   "metadata": {},
   "source": [
    "_____\n",
    "### <a id='toc1_4_5_'></a>[Вывод:](#toc0_)"
   ]
  },
  {
   "cell_type": "markdown",
   "metadata": {},
   "source": [
    "- Удалён неинформативный столбец Unnamed: 0.\n",
    "- Проведена очистка текста: удалены лишние символы, приведено к нижнему регистру, устранены лишние пробелы.\n",
    "- Выполнена лемматизация текстов с использованием модели spacy.\n",
    "- После предобработки удалены строки с пропущенными значениями."
   ]
  },
  {
   "cell_type": "markdown",
   "metadata": {},
   "source": [
    "_____\n",
    "_____\n",
    "## <a id='toc1_5_'></a>[Анализ данных](#toc0_)"
   ]
  },
  {
   "cell_type": "markdown",
   "metadata": {},
   "source": [
    "_____\n",
    "### <a id='toc1_5_1_'></a>[Функции отрисовок данных](#toc0_)"
   ]
  },
  {
   "cell_type": "code",
   "execution_count": null,
   "metadata": {},
   "outputs": [],
   "source": [
    "def statistical_graphis_for_categorical(data: pd.Series, agg: Literal['val_count', 'sum'] = 'val_count', top_n_in_bar=20, top_n_in_pie=5):\n",
    "    '''\n",
    "    Функция для построения графиков по категориальным данным: столбчатые диаграммы и круговой диаграммы.\n",
    "    \n",
    "    Parameters\n",
    "    ----------\n",
    "    data : pd.Series\n",
    "        Входные данные в виде столбца (серии) pandas, представляющие категориальную переменную.\n",
    "        \n",
    "    agg : {'val_count', 'sum'}, по умолчанию 'val_count'\n",
    "        Метод агрегации для категориальных данных:\n",
    "        - 'val_count' — подсчитывает количество наблюдений в каждой категории.\n",
    "        - 'sum' — суммирует значения в каждой категории (например, для числовых категорий).\n",
    "        \n",
    "    top_n_in_bar : int, по умолчанию 20\n",
    "        Количество топ-N категорий, которые будут отображены в столбчатой диаграмме.\n",
    "        Остальные категории будут объединены в одну категорию 'Остальные'.\n",
    "    \n",
    "    top_n_in_pie : int, по умолчанию 5\n",
    "        Количество топ-N категорий, которые будут отображены на круговой диаграмме.\n",
    "        Остальные категории будут объединены в одну категорию 'Остальные'.\n",
    "    '''\n",
    "    data = data.sample(3000, random_state=state)\n",
    "    fig = make_subplots(\n",
    "        rows=1, cols=2, specs=[[{'type': 'xy'}, {'type': 'domain'}]],\n",
    "        subplot_titles=('Гистограмма', 'Круговая диаграмма')\n",
    "    )\n",
    "    \n",
    "    if agg == 'val_count':\n",
    "        category_agg = data.value_counts()\n",
    "    elif agg == 'sum':\n",
    "        category_agg = data.groupby(data).sum()\n",
    "    else:\n",
    "        raise ValueError('agg=\"val_count\"|\"sum\"')\n",
    "    \n",
    "    # Обработка для top_n_in_bar\n",
    "    if len(category_agg) > top_n_in_bar:\n",
    "        other_value = category_agg[top_n_in_bar:].sum()\n",
    "        category_agg = pd.concat([category_agg.head(top_n_in_bar), pd.Series({'Остальные': other_value})])\n",
    "    \n",
    "    categories = category_agg.index\n",
    "    val_agg = category_agg.values\n",
    "    \n",
    "    fig.add_trace(\n",
    "        go.Bar(\n",
    "            x=val_agg, y=categories, \n",
    "            orientation='h',\n",
    "            marker_color='green', \n",
    "            showlegend=False, \n",
    "            name=data.name,\n",
    "            width=0.8\n",
    "        ),\n",
    "        row=1, col=1\n",
    "    )\n",
    "    fig.update_xaxes(title_text='Частота' if agg == 'val_count' else 'Сумма', row=1, col=1)\n",
    "    fig.update_yaxes(title_text=column_translation.get(data.name, data.name), tickvals=categories, row=1, col=1)\n",
    "    \n",
    "    # Обработка для top_n_in_pie\n",
    "    other_pie = [category_agg[top_n_in_pie:].sum()]\n",
    "    fig.add_trace(\n",
    "        go.Pie(labels=category_agg.head(top_n_in_pie).index.tolist() + (['Остальные'] if other_pie[0] else []),\n",
    "               values=category_agg.head(top_n_in_pie).values.tolist() + (other_pie if other_pie[0] else []),\n",
    "               name='',\n",
    "               textinfo='label+percent'),\n",
    "        row=1, col=2\n",
    "    )\n",
    "    \n",
    "    fig.update_layout(\n",
    "        title_text=f'Статистические графики по колонке <b>{column_translation.get(data.name, data.name)}</b><br>(<b>{data.name}</b>)',\n",
    "        title_x=0.5,\n",
    "        showlegend=True,\n",
    "        width=1200,\n",
    "        height=600,\n",
    "    )\n",
    "    \n",
    "    fig.show()\n",
    "\n",
    "def statistical_graphis_for_numeric(data: pd.Series, title_text=None, nbinsx=50):\n",
    "    '''\n",
    "    Функция для построения графиков для числовых данных: гистограммы и диаграммы размаха.\n",
    "    \n",
    "    Parameters\n",
    "    ----------\n",
    "    data : pd.Series\n",
    "        Входные данные в виде столбца (серии) pandas, представляющие числовую переменную.\n",
    "        \n",
    "    nbinsx : int, по умолчанию 50\n",
    "        Количество корзин (bins) для построения гистограммы. Управляет точностью распределения данных по оси x.\n",
    "    '''\n",
    "    data = data.sample(3000, random_state=state)\n",
    "    fig = make_subplots(rows=1, cols=2, subplot_titles=('Гистограмма', 'Диаграмма размаха'))\n",
    "    \n",
    "    fig.add_trace(\n",
    "        go.Histogram(x=data, nbinsx=nbinsx, marker_color='blue', name=data.name),\n",
    "        row=1, col=1\n",
    "    )\n",
    "    fig.update_xaxes(title_text=column_translation[data.name], row=1, col=1)\n",
    "    fig.update_yaxes(title_text='Частота', row=1, col=1)\n",
    "\n",
    "    fig.add_trace(\n",
    "        go.Box(y=data, marker_color='orange', name=''),\n",
    "        row=1, col=2\n",
    "    )\n",
    "    fig.update_yaxes(title_text=column_translation[data.name], row=1, col=2)\n",
    "    fig.update_layout(\n",
    "        title_text=(title_text if title_text\n",
    "                    else f'Статистические графики по значению <b>{column_translation[data.name]}</b><br>(<b>{data.name}</b>)'),\n",
    "        title_x=0.5,\n",
    "        showlegend=False,\n",
    "        width=1200,\n",
    "        height=500\n",
    "    )\n",
    "\n",
    "    fig.show()\n"
   ]
  },
  {
   "cell_type": "markdown",
   "metadata": {},
   "source": [
    "-----\n",
    "\n",
    "### <a id='toc1_5_2_'></a>[Таргет (`toxic`)](#toc0_)"
   ]
  },
  {
   "cell_type": "code",
   "execution_count": null,
   "metadata": {},
   "outputs": [
    {
     "data": {
      "application/vnd.plotly.v1+json": {
       "config": {
        "plotlyServerURL": "https://plot.ly"
       },
       "data": [
        {
         "marker": {
          "color": "green"
         },
         "name": "toxic",
         "orientation": "h",
         "showlegend": false,
         "type": "bar",
         "width": 0.8,
         "x": {
          "bdata": "gAo4AQ==",
          "dtype": "i2"
         },
         "xaxis": "x",
         "y": {
          "bdata": "AAE=",
          "dtype": "i1"
         },
         "yaxis": "y"
        },
        {
         "domain": {
          "x": [
           0.55,
           1
          ],
          "y": [
           0,
           1
          ]
         },
         "labels": [
          0,
          1
         ],
         "name": "",
         "textinfo": "label+percent",
         "type": "pie",
         "values": [
          2688,
          312
         ]
        }
       ],
       "layout": {
        "annotations": [
         {
          "font": {
           "size": 16
          },
          "showarrow": false,
          "text": "Гистограмма",
          "x": 0.225,
          "xanchor": "center",
          "xref": "paper",
          "y": 1,
          "yanchor": "bottom",
          "yref": "paper"
         },
         {
          "font": {
           "size": 16
          },
          "showarrow": false,
          "text": "Круговая диаграмма",
          "x": 0.775,
          "xanchor": "center",
          "xref": "paper",
          "y": 1,
          "yanchor": "bottom",
          "yref": "paper"
         }
        ],
        "height": 600,
        "showlegend": true,
        "template": {
         "data": {
          "bar": [
           {
            "error_x": {
             "color": "#2a3f5f"
            },
            "error_y": {
             "color": "#2a3f5f"
            },
            "marker": {
             "line": {
              "color": "#E5ECF6",
              "width": 0.5
             },
             "pattern": {
              "fillmode": "overlay",
              "size": 10,
              "solidity": 0.2
             }
            },
            "type": "bar"
           }
          ],
          "barpolar": [
           {
            "marker": {
             "line": {
              "color": "#E5ECF6",
              "width": 0.5
             },
             "pattern": {
              "fillmode": "overlay",
              "size": 10,
              "solidity": 0.2
             }
            },
            "type": "barpolar"
           }
          ],
          "carpet": [
           {
            "aaxis": {
             "endlinecolor": "#2a3f5f",
             "gridcolor": "white",
             "linecolor": "white",
             "minorgridcolor": "white",
             "startlinecolor": "#2a3f5f"
            },
            "baxis": {
             "endlinecolor": "#2a3f5f",
             "gridcolor": "white",
             "linecolor": "white",
             "minorgridcolor": "white",
             "startlinecolor": "#2a3f5f"
            },
            "type": "carpet"
           }
          ],
          "choropleth": [
           {
            "colorbar": {
             "outlinewidth": 0,
             "ticks": ""
            },
            "type": "choropleth"
           }
          ],
          "contour": [
           {
            "colorbar": {
             "outlinewidth": 0,
             "ticks": ""
            },
            "colorscale": [
             [
              0,
              "#0d0887"
             ],
             [
              0.1111111111111111,
              "#46039f"
             ],
             [
              0.2222222222222222,
              "#7201a8"
             ],
             [
              0.3333333333333333,
              "#9c179e"
             ],
             [
              0.4444444444444444,
              "#bd3786"
             ],
             [
              0.5555555555555556,
              "#d8576b"
             ],
             [
              0.6666666666666666,
              "#ed7953"
             ],
             [
              0.7777777777777778,
              "#fb9f3a"
             ],
             [
              0.8888888888888888,
              "#fdca26"
             ],
             [
              1,
              "#f0f921"
             ]
            ],
            "type": "contour"
           }
          ],
          "contourcarpet": [
           {
            "colorbar": {
             "outlinewidth": 0,
             "ticks": ""
            },
            "type": "contourcarpet"
           }
          ],
          "heatmap": [
           {
            "colorbar": {
             "outlinewidth": 0,
             "ticks": ""
            },
            "colorscale": [
             [
              0,
              "#0d0887"
             ],
             [
              0.1111111111111111,
              "#46039f"
             ],
             [
              0.2222222222222222,
              "#7201a8"
             ],
             [
              0.3333333333333333,
              "#9c179e"
             ],
             [
              0.4444444444444444,
              "#bd3786"
             ],
             [
              0.5555555555555556,
              "#d8576b"
             ],
             [
              0.6666666666666666,
              "#ed7953"
             ],
             [
              0.7777777777777778,
              "#fb9f3a"
             ],
             [
              0.8888888888888888,
              "#fdca26"
             ],
             [
              1,
              "#f0f921"
             ]
            ],
            "type": "heatmap"
           }
          ],
          "histogram": [
           {
            "marker": {
             "pattern": {
              "fillmode": "overlay",
              "size": 10,
              "solidity": 0.2
             }
            },
            "type": "histogram"
           }
          ],
          "histogram2d": [
           {
            "colorbar": {
             "outlinewidth": 0,
             "ticks": ""
            },
            "colorscale": [
             [
              0,
              "#0d0887"
             ],
             [
              0.1111111111111111,
              "#46039f"
             ],
             [
              0.2222222222222222,
              "#7201a8"
             ],
             [
              0.3333333333333333,
              "#9c179e"
             ],
             [
              0.4444444444444444,
              "#bd3786"
             ],
             [
              0.5555555555555556,
              "#d8576b"
             ],
             [
              0.6666666666666666,
              "#ed7953"
             ],
             [
              0.7777777777777778,
              "#fb9f3a"
             ],
             [
              0.8888888888888888,
              "#fdca26"
             ],
             [
              1,
              "#f0f921"
             ]
            ],
            "type": "histogram2d"
           }
          ],
          "histogram2dcontour": [
           {
            "colorbar": {
             "outlinewidth": 0,
             "ticks": ""
            },
            "colorscale": [
             [
              0,
              "#0d0887"
             ],
             [
              0.1111111111111111,
              "#46039f"
             ],
             [
              0.2222222222222222,
              "#7201a8"
             ],
             [
              0.3333333333333333,
              "#9c179e"
             ],
             [
              0.4444444444444444,
              "#bd3786"
             ],
             [
              0.5555555555555556,
              "#d8576b"
             ],
             [
              0.6666666666666666,
              "#ed7953"
             ],
             [
              0.7777777777777778,
              "#fb9f3a"
             ],
             [
              0.8888888888888888,
              "#fdca26"
             ],
             [
              1,
              "#f0f921"
             ]
            ],
            "type": "histogram2dcontour"
           }
          ],
          "mesh3d": [
           {
            "colorbar": {
             "outlinewidth": 0,
             "ticks": ""
            },
            "type": "mesh3d"
           }
          ],
          "parcoords": [
           {
            "line": {
             "colorbar": {
              "outlinewidth": 0,
              "ticks": ""
             }
            },
            "type": "parcoords"
           }
          ],
          "pie": [
           {
            "automargin": true,
            "type": "pie"
           }
          ],
          "scatter": [
           {
            "fillpattern": {
             "fillmode": "overlay",
             "size": 10,
             "solidity": 0.2
            },
            "type": "scatter"
           }
          ],
          "scatter3d": [
           {
            "line": {
             "colorbar": {
              "outlinewidth": 0,
              "ticks": ""
             }
            },
            "marker": {
             "colorbar": {
              "outlinewidth": 0,
              "ticks": ""
             }
            },
            "type": "scatter3d"
           }
          ],
          "scattercarpet": [
           {
            "marker": {
             "colorbar": {
              "outlinewidth": 0,
              "ticks": ""
             }
            },
            "type": "scattercarpet"
           }
          ],
          "scattergeo": [
           {
            "marker": {
             "colorbar": {
              "outlinewidth": 0,
              "ticks": ""
             }
            },
            "type": "scattergeo"
           }
          ],
          "scattergl": [
           {
            "marker": {
             "colorbar": {
              "outlinewidth": 0,
              "ticks": ""
             }
            },
            "type": "scattergl"
           }
          ],
          "scattermap": [
           {
            "marker": {
             "colorbar": {
              "outlinewidth": 0,
              "ticks": ""
             }
            },
            "type": "scattermap"
           }
          ],
          "scattermapbox": [
           {
            "marker": {
             "colorbar": {
              "outlinewidth": 0,
              "ticks": ""
             }
            },
            "type": "scattermapbox"
           }
          ],
          "scatterpolar": [
           {
            "marker": {
             "colorbar": {
              "outlinewidth": 0,
              "ticks": ""
             }
            },
            "type": "scatterpolar"
           }
          ],
          "scatterpolargl": [
           {
            "marker": {
             "colorbar": {
              "outlinewidth": 0,
              "ticks": ""
             }
            },
            "type": "scatterpolargl"
           }
          ],
          "scatterternary": [
           {
            "marker": {
             "colorbar": {
              "outlinewidth": 0,
              "ticks": ""
             }
            },
            "type": "scatterternary"
           }
          ],
          "surface": [
           {
            "colorbar": {
             "outlinewidth": 0,
             "ticks": ""
            },
            "colorscale": [
             [
              0,
              "#0d0887"
             ],
             [
              0.1111111111111111,
              "#46039f"
             ],
             [
              0.2222222222222222,
              "#7201a8"
             ],
             [
              0.3333333333333333,
              "#9c179e"
             ],
             [
              0.4444444444444444,
              "#bd3786"
             ],
             [
              0.5555555555555556,
              "#d8576b"
             ],
             [
              0.6666666666666666,
              "#ed7953"
             ],
             [
              0.7777777777777778,
              "#fb9f3a"
             ],
             [
              0.8888888888888888,
              "#fdca26"
             ],
             [
              1,
              "#f0f921"
             ]
            ],
            "type": "surface"
           }
          ],
          "table": [
           {
            "cells": {
             "fill": {
              "color": "#EBF0F8"
             },
             "line": {
              "color": "white"
             }
            },
            "header": {
             "fill": {
              "color": "#C8D4E3"
             },
             "line": {
              "color": "white"
             }
            },
            "type": "table"
           }
          ]
         },
         "layout": {
          "annotationdefaults": {
           "arrowcolor": "#2a3f5f",
           "arrowhead": 0,
           "arrowwidth": 1
          },
          "autotypenumbers": "strict",
          "coloraxis": {
           "colorbar": {
            "outlinewidth": 0,
            "ticks": ""
           }
          },
          "colorscale": {
           "diverging": [
            [
             0,
             "#8e0152"
            ],
            [
             0.1,
             "#c51b7d"
            ],
            [
             0.2,
             "#de77ae"
            ],
            [
             0.3,
             "#f1b6da"
            ],
            [
             0.4,
             "#fde0ef"
            ],
            [
             0.5,
             "#f7f7f7"
            ],
            [
             0.6,
             "#e6f5d0"
            ],
            [
             0.7,
             "#b8e186"
            ],
            [
             0.8,
             "#7fbc41"
            ],
            [
             0.9,
             "#4d9221"
            ],
            [
             1,
             "#276419"
            ]
           ],
           "sequential": [
            [
             0,
             "#0d0887"
            ],
            [
             0.1111111111111111,
             "#46039f"
            ],
            [
             0.2222222222222222,
             "#7201a8"
            ],
            [
             0.3333333333333333,
             "#9c179e"
            ],
            [
             0.4444444444444444,
             "#bd3786"
            ],
            [
             0.5555555555555556,
             "#d8576b"
            ],
            [
             0.6666666666666666,
             "#ed7953"
            ],
            [
             0.7777777777777778,
             "#fb9f3a"
            ],
            [
             0.8888888888888888,
             "#fdca26"
            ],
            [
             1,
             "#f0f921"
            ]
           ],
           "sequentialminus": [
            [
             0,
             "#0d0887"
            ],
            [
             0.1111111111111111,
             "#46039f"
            ],
            [
             0.2222222222222222,
             "#7201a8"
            ],
            [
             0.3333333333333333,
             "#9c179e"
            ],
            [
             0.4444444444444444,
             "#bd3786"
            ],
            [
             0.5555555555555556,
             "#d8576b"
            ],
            [
             0.6666666666666666,
             "#ed7953"
            ],
            [
             0.7777777777777778,
             "#fb9f3a"
            ],
            [
             0.8888888888888888,
             "#fdca26"
            ],
            [
             1,
             "#f0f921"
            ]
           ]
          },
          "colorway": [
           "#636efa",
           "#EF553B",
           "#00cc96",
           "#ab63fa",
           "#FFA15A",
           "#19d3f3",
           "#FF6692",
           "#B6E880",
           "#FF97FF",
           "#FECB52"
          ],
          "font": {
           "color": "#2a3f5f"
          },
          "geo": {
           "bgcolor": "white",
           "lakecolor": "white",
           "landcolor": "#E5ECF6",
           "showlakes": true,
           "showland": true,
           "subunitcolor": "white"
          },
          "hoverlabel": {
           "align": "left"
          },
          "hovermode": "closest",
          "mapbox": {
           "style": "light"
          },
          "paper_bgcolor": "white",
          "plot_bgcolor": "#E5ECF6",
          "polar": {
           "angularaxis": {
            "gridcolor": "white",
            "linecolor": "white",
            "ticks": ""
           },
           "bgcolor": "#E5ECF6",
           "radialaxis": {
            "gridcolor": "white",
            "linecolor": "white",
            "ticks": ""
           }
          },
          "scene": {
           "xaxis": {
            "backgroundcolor": "#E5ECF6",
            "gridcolor": "white",
            "gridwidth": 2,
            "linecolor": "white",
            "showbackground": true,
            "ticks": "",
            "zerolinecolor": "white"
           },
           "yaxis": {
            "backgroundcolor": "#E5ECF6",
            "gridcolor": "white",
            "gridwidth": 2,
            "linecolor": "white",
            "showbackground": true,
            "ticks": "",
            "zerolinecolor": "white"
           },
           "zaxis": {
            "backgroundcolor": "#E5ECF6",
            "gridcolor": "white",
            "gridwidth": 2,
            "linecolor": "white",
            "showbackground": true,
            "ticks": "",
            "zerolinecolor": "white"
           }
          },
          "shapedefaults": {
           "line": {
            "color": "#2a3f5f"
           }
          },
          "ternary": {
           "aaxis": {
            "gridcolor": "white",
            "linecolor": "white",
            "ticks": ""
           },
           "baxis": {
            "gridcolor": "white",
            "linecolor": "white",
            "ticks": ""
           },
           "bgcolor": "#E5ECF6",
           "caxis": {
            "gridcolor": "white",
            "linecolor": "white",
            "ticks": ""
           }
          },
          "title": {
           "x": 0.05
          },
          "xaxis": {
           "automargin": true,
           "gridcolor": "white",
           "linecolor": "white",
           "ticks": "",
           "title": {
            "standoff": 15
           },
           "zerolinecolor": "white",
           "zerolinewidth": 2
          },
          "yaxis": {
           "automargin": true,
           "gridcolor": "white",
           "linecolor": "white",
           "ticks": "",
           "title": {
            "standoff": 15
           },
           "zerolinecolor": "white",
           "zerolinewidth": 2
          }
         }
        },
        "title": {
         "text": "Статистические графики по колонке <b>Токсичность</b><br>(<b>toxic</b>)",
         "x": 0.5
        },
        "width": 1200,
        "xaxis": {
         "anchor": "y",
         "domain": [
          0,
          0.45
         ],
         "title": {
          "text": "Частота"
         }
        },
        "yaxis": {
         "anchor": "x",
         "domain": [
          0,
          1
         ],
         "tickvals": {
          "bdata": "AAE=",
          "dtype": "i1"
         },
         "title": {
          "text": "Токсичность"
         }
        }
       }
      }
     },
     "metadata": {},
     "output_type": "display_data"
    }
   ],
   "source": [
    "statistical_graphis_for_categorical(comments.toxic)"
   ]
  },
  {
   "cell_type": "markdown",
   "metadata": {},
   "source": [
    "### <a id='toc1_5_3_'></a>[Длина комментариев (`cleared_text`)](#toc0_)"
   ]
  },
  {
   "cell_type": "code",
   "execution_count": null,
   "metadata": {},
   "outputs": [
    {
     "data": {
      "application/vnd.plotly.v1+json": {
       "config": {
        "plotlyServerURL": "https://plot.ly"
       },
       "data": [
        {
         "marker": {
          "color": "blue"
         },
         "name": "cleared_text",
         "nbinsx": 70,
         "type": "histogram",
         "x": {
          "bdata": "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",
          "dtype": "i2"
         },
         "xaxis": "x",
         "yaxis": "y"
        },
        {
         "marker": {
          "color": "orange"
         },
         "name": "",
         "type": "box",
         "xaxis": "x2",
         "y": {
          "bdata": "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",
          "dtype": "i2"
         },
         "yaxis": "y2"
        }
       ],
       "layout": {
        "annotations": [
         {
          "font": {
           "size": 16
          },
          "showarrow": false,
          "text": "Гистограмма",
          "x": 0.225,
          "xanchor": "center",
          "xref": "paper",
          "y": 1,
          "yanchor": "bottom",
          "yref": "paper"
         },
         {
          "font": {
           "size": 16
          },
          "showarrow": false,
          "text": "Диаграмма размаха",
          "x": 0.775,
          "xanchor": "center",
          "xref": "paper",
          "y": 1,
          "yanchor": "bottom",
          "yref": "paper"
         }
        ],
        "height": 500,
        "showlegend": false,
        "template": {
         "data": {
          "bar": [
           {
            "error_x": {
             "color": "#2a3f5f"
            },
            "error_y": {
             "color": "#2a3f5f"
            },
            "marker": {
             "line": {
              "color": "#E5ECF6",
              "width": 0.5
             },
             "pattern": {
              "fillmode": "overlay",
              "size": 10,
              "solidity": 0.2
             }
            },
            "type": "bar"
           }
          ],
          "barpolar": [
           {
            "marker": {
             "line": {
              "color": "#E5ECF6",
              "width": 0.5
             },
             "pattern": {
              "fillmode": "overlay",
              "size": 10,
              "solidity": 0.2
             }
            },
            "type": "barpolar"
           }
          ],
          "carpet": [
           {
            "aaxis": {
             "endlinecolor": "#2a3f5f",
             "gridcolor": "white",
             "linecolor": "white",
             "minorgridcolor": "white",
             "startlinecolor": "#2a3f5f"
            },
            "baxis": {
             "endlinecolor": "#2a3f5f",
             "gridcolor": "white",
             "linecolor": "white",
             "minorgridcolor": "white",
             "startlinecolor": "#2a3f5f"
            },
            "type": "carpet"
           }
          ],
          "choropleth": [
           {
            "colorbar": {
             "outlinewidth": 0,
             "ticks": ""
            },
            "type": "choropleth"
           }
          ],
          "contour": [
           {
            "colorbar": {
             "outlinewidth": 0,
             "ticks": ""
            },
            "colorscale": [
             [
              0,
              "#0d0887"
             ],
             [
              0.1111111111111111,
              "#46039f"
             ],
             [
              0.2222222222222222,
              "#7201a8"
             ],
             [
              0.3333333333333333,
              "#9c179e"
             ],
             [
              0.4444444444444444,
              "#bd3786"
             ],
             [
              0.5555555555555556,
              "#d8576b"
             ],
             [
              0.6666666666666666,
              "#ed7953"
             ],
             [
              0.7777777777777778,
              "#fb9f3a"
             ],
             [
              0.8888888888888888,
              "#fdca26"
             ],
             [
              1,
              "#f0f921"
             ]
            ],
            "type": "contour"
           }
          ],
          "contourcarpet": [
           {
            "colorbar": {
             "outlinewidth": 0,
             "ticks": ""
            },
            "type": "contourcarpet"
           }
          ],
          "heatmap": [
           {
            "colorbar": {
             "outlinewidth": 0,
             "ticks": ""
            },
            "colorscale": [
             [
              0,
              "#0d0887"
             ],
             [
              0.1111111111111111,
              "#46039f"
             ],
             [
              0.2222222222222222,
              "#7201a8"
             ],
             [
              0.3333333333333333,
              "#9c179e"
             ],
             [
              0.4444444444444444,
              "#bd3786"
             ],
             [
              0.5555555555555556,
              "#d8576b"
             ],
             [
              0.6666666666666666,
              "#ed7953"
             ],
             [
              0.7777777777777778,
              "#fb9f3a"
             ],
             [
              0.8888888888888888,
              "#fdca26"
             ],
             [
              1,
              "#f0f921"
             ]
            ],
            "type": "heatmap"
           }
          ],
          "histogram": [
           {
            "marker": {
             "pattern": {
              "fillmode": "overlay",
              "size": 10,
              "solidity": 0.2
             }
            },
            "type": "histogram"
           }
          ],
          "histogram2d": [
           {
            "colorbar": {
             "outlinewidth": 0,
             "ticks": ""
            },
            "colorscale": [
             [
              0,
              "#0d0887"
             ],
             [
              0.1111111111111111,
              "#46039f"
             ],
             [
              0.2222222222222222,
              "#7201a8"
             ],
             [
              0.3333333333333333,
              "#9c179e"
             ],
             [
              0.4444444444444444,
              "#bd3786"
             ],
             [
              0.5555555555555556,
              "#d8576b"
             ],
             [
              0.6666666666666666,
              "#ed7953"
             ],
             [
              0.7777777777777778,
              "#fb9f3a"
             ],
             [
              0.8888888888888888,
              "#fdca26"
             ],
             [
              1,
              "#f0f921"
             ]
            ],
            "type": "histogram2d"
           }
          ],
          "histogram2dcontour": [
           {
            "colorbar": {
             "outlinewidth": 0,
             "ticks": ""
            },
            "colorscale": [
             [
              0,
              "#0d0887"
             ],
             [
              0.1111111111111111,
              "#46039f"
             ],
             [
              0.2222222222222222,
              "#7201a8"
             ],
             [
              0.3333333333333333,
              "#9c179e"
             ],
             [
              0.4444444444444444,
              "#bd3786"
             ],
             [
              0.5555555555555556,
              "#d8576b"
             ],
             [
              0.6666666666666666,
              "#ed7953"
             ],
             [
              0.7777777777777778,
              "#fb9f3a"
             ],
             [
              0.8888888888888888,
              "#fdca26"
             ],
             [
              1,
              "#f0f921"
             ]
            ],
            "type": "histogram2dcontour"
           }
          ],
          "mesh3d": [
           {
            "colorbar": {
             "outlinewidth": 0,
             "ticks": ""
            },
            "type": "mesh3d"
           }
          ],
          "parcoords": [
           {
            "line": {
             "colorbar": {
              "outlinewidth": 0,
              "ticks": ""
             }
            },
            "type": "parcoords"
           }
          ],
          "pie": [
           {
            "automargin": true,
            "type": "pie"
           }
          ],
          "scatter": [
           {
            "fillpattern": {
             "fillmode": "overlay",
             "size": 10,
             "solidity": 0.2
            },
            "type": "scatter"
           }
          ],
          "scatter3d": [
           {
            "line": {
             "colorbar": {
              "outlinewidth": 0,
              "ticks": ""
             }
            },
            "marker": {
             "colorbar": {
              "outlinewidth": 0,
              "ticks": ""
             }
            },
            "type": "scatter3d"
           }
          ],
          "scattercarpet": [
           {
            "marker": {
             "colorbar": {
              "outlinewidth": 0,
              "ticks": ""
             }
            },
            "type": "scattercarpet"
           }
          ],
          "scattergeo": [
           {
            "marker": {
             "colorbar": {
              "outlinewidth": 0,
              "ticks": ""
             }
            },
            "type": "scattergeo"
           }
          ],
          "scattergl": [
           {
            "marker": {
             "colorbar": {
              "outlinewidth": 0,
              "ticks": ""
             }
            },
            "type": "scattergl"
           }
          ],
          "scattermap": [
           {
            "marker": {
             "colorbar": {
              "outlinewidth": 0,
              "ticks": ""
             }
            },
            "type": "scattermap"
           }
          ],
          "scattermapbox": [
           {
            "marker": {
             "colorbar": {
              "outlinewidth": 0,
              "ticks": ""
             }
            },
            "type": "scattermapbox"
           }
          ],
          "scatterpolar": [
           {
            "marker": {
             "colorbar": {
              "outlinewidth": 0,
              "ticks": ""
             }
            },
            "type": "scatterpolar"
           }
          ],
          "scatterpolargl": [
           {
            "marker": {
             "colorbar": {
              "outlinewidth": 0,
              "ticks": ""
             }
            },
            "type": "scatterpolargl"
           }
          ],
          "scatterternary": [
           {
            "marker": {
             "colorbar": {
              "outlinewidth": 0,
              "ticks": ""
             }
            },
            "type": "scatterternary"
           }
          ],
          "surface": [
           {
            "colorbar": {
             "outlinewidth": 0,
             "ticks": ""
            },
            "colorscale": [
             [
              0,
              "#0d0887"
             ],
             [
              0.1111111111111111,
              "#46039f"
             ],
             [
              0.2222222222222222,
              "#7201a8"
             ],
             [
              0.3333333333333333,
              "#9c179e"
             ],
             [
              0.4444444444444444,
              "#bd3786"
             ],
             [
              0.5555555555555556,
              "#d8576b"
             ],
             [
              0.6666666666666666,
              "#ed7953"
             ],
             [
              0.7777777777777778,
              "#fb9f3a"
             ],
             [
              0.8888888888888888,
              "#fdca26"
             ],
             [
              1,
              "#f0f921"
             ]
            ],
            "type": "surface"
           }
          ],
          "table": [
           {
            "cells": {
             "fill": {
              "color": "#EBF0F8"
             },
             "line": {
              "color": "white"
             }
            },
            "header": {
             "fill": {
              "color": "#C8D4E3"
             },
             "line": {
              "color": "white"
             }
            },
            "type": "table"
           }
          ]
         },
         "layout": {
          "annotationdefaults": {
           "arrowcolor": "#2a3f5f",
           "arrowhead": 0,
           "arrowwidth": 1
          },
          "autotypenumbers": "strict",
          "coloraxis": {
           "colorbar": {
            "outlinewidth": 0,
            "ticks": ""
           }
          },
          "colorscale": {
           "diverging": [
            [
             0,
             "#8e0152"
            ],
            [
             0.1,
             "#c51b7d"
            ],
            [
             0.2,
             "#de77ae"
            ],
            [
             0.3,
             "#f1b6da"
            ],
            [
             0.4,
             "#fde0ef"
            ],
            [
             0.5,
             "#f7f7f7"
            ],
            [
             0.6,
             "#e6f5d0"
            ],
            [
             0.7,
             "#b8e186"
            ],
            [
             0.8,
             "#7fbc41"
            ],
            [
             0.9,
             "#4d9221"
            ],
            [
             1,
             "#276419"
            ]
           ],
           "sequential": [
            [
             0,
             "#0d0887"
            ],
            [
             0.1111111111111111,
             "#46039f"
            ],
            [
             0.2222222222222222,
             "#7201a8"
            ],
            [
             0.3333333333333333,
             "#9c179e"
            ],
            [
             0.4444444444444444,
             "#bd3786"
            ],
            [
             0.5555555555555556,
             "#d8576b"
            ],
            [
             0.6666666666666666,
             "#ed7953"
            ],
            [
             0.7777777777777778,
             "#fb9f3a"
            ],
            [
             0.8888888888888888,
             "#fdca26"
            ],
            [
             1,
             "#f0f921"
            ]
           ],
           "sequentialminus": [
            [
             0,
             "#0d0887"
            ],
            [
             0.1111111111111111,
             "#46039f"
            ],
            [
             0.2222222222222222,
             "#7201a8"
            ],
            [
             0.3333333333333333,
             "#9c179e"
            ],
            [
             0.4444444444444444,
             "#bd3786"
            ],
            [
             0.5555555555555556,
             "#d8576b"
            ],
            [
             0.6666666666666666,
             "#ed7953"
            ],
            [
             0.7777777777777778,
             "#fb9f3a"
            ],
            [
             0.8888888888888888,
             "#fdca26"
            ],
            [
             1,
             "#f0f921"
            ]
           ]
          },
          "colorway": [
           "#636efa",
           "#EF553B",
           "#00cc96",
           "#ab63fa",
           "#FFA15A",
           "#19d3f3",
           "#FF6692",
           "#B6E880",
           "#FF97FF",
           "#FECB52"
          ],
          "font": {
           "color": "#2a3f5f"
          },
          "geo": {
           "bgcolor": "white",
           "lakecolor": "white",
           "landcolor": "#E5ECF6",
           "showlakes": true,
           "showland": true,
           "subunitcolor": "white"
          },
          "hoverlabel": {
           "align": "left"
          },
          "hovermode": "closest",
          "mapbox": {
           "style": "light"
          },
          "paper_bgcolor": "white",
          "plot_bgcolor": "#E5ECF6",
          "polar": {
           "angularaxis": {
            "gridcolor": "white",
            "linecolor": "white",
            "ticks": ""
           },
           "bgcolor": "#E5ECF6",
           "radialaxis": {
            "gridcolor": "white",
            "linecolor": "white",
            "ticks": ""
           }
          },
          "scene": {
           "xaxis": {
            "backgroundcolor": "#E5ECF6",
            "gridcolor": "white",
            "gridwidth": 2,
            "linecolor": "white",
            "showbackground": true,
            "ticks": "",
            "zerolinecolor": "white"
           },
           "yaxis": {
            "backgroundcolor": "#E5ECF6",
            "gridcolor": "white",
            "gridwidth": 2,
            "linecolor": "white",
            "showbackground": true,
            "ticks": "",
            "zerolinecolor": "white"
           },
           "zaxis": {
            "backgroundcolor": "#E5ECF6",
            "gridcolor": "white",
            "gridwidth": 2,
            "linecolor": "white",
            "showbackground": true,
            "ticks": "",
            "zerolinecolor": "white"
           }
          },
          "shapedefaults": {
           "line": {
            "color": "#2a3f5f"
           }
          },
          "ternary": {
           "aaxis": {
            "gridcolor": "white",
            "linecolor": "white",
            "ticks": ""
           },
           "baxis": {
            "gridcolor": "white",
            "linecolor": "white",
            "ticks": ""
           },
           "bgcolor": "#E5ECF6",
           "caxis": {
            "gridcolor": "white",
            "linecolor": "white",
            "ticks": ""
           }
          },
          "title": {
           "x": 0.05
          },
          "xaxis": {
           "automargin": true,
           "gridcolor": "white",
           "linecolor": "white",
           "ticks": "",
           "title": {
            "standoff": 15
           },
           "zerolinecolor": "white",
           "zerolinewidth": 2
          },
          "yaxis": {
           "automargin": true,
           "gridcolor": "white",
           "linecolor": "white",
           "ticks": "",
           "title": {
            "standoff": 15
           },
           "zerolinecolor": "white",
           "zerolinewidth": 2
          }
         }
        },
        "title": {
         "text": "Распределение кол-ва слов в твитах",
         "x": 0.5
        },
        "width": 1200,
        "xaxis": {
         "anchor": "y",
         "domain": [
          0,
          0.45
         ],
         "title": {
          "text": "очищенный текст"
         }
        },
        "xaxis2": {
         "anchor": "y2",
         "domain": [
          0.55,
          1
         ]
        },
        "yaxis": {
         "anchor": "x",
         "domain": [
          0,
          1
         ],
         "title": {
          "text": "Частота"
         }
        },
        "yaxis2": {
         "anchor": "x2",
         "domain": [
          0,
          1
         ],
         "title": {
          "text": "очищенный текст"
         }
        }
       }
      }
     },
     "metadata": {},
     "output_type": "display_data"
    }
   ],
   "source": [
    "statistical_graphis_for_numeric(comments.cleared_text.str.split().str.len(),\n",
    "                                title_text='Распределение кол-ва слов в твитах',\n",
    "                                nbinsx=70)"
   ]
  },
  {
   "cell_type": "markdown",
   "metadata": {},
   "source": [
    "_____\n",
    "### <a id='toc1_5_4_'></a>[Вывод:](#toc0_)"
   ]
  },
  {
   "cell_type": "markdown",
   "metadata": {},
   "source": [
    "- Распределение целевой переменной toxic является дисбалансированным.\n",
    "- Распределение длины очищенных комментариев (cleared_text) имеет сильную асимметрию: большая часть текстов содержит до 50 слов, но встречаются выбросы — тексты длиной более 1000 слов.\n",
    "- Наличие выбросов подтверждается на диаграмме размаха, где видно значительное количество экстремально длинных комментариев.\n",
    "- Такие особенности данных могут повлиять на обучение моделей и требуют дополнительного внимания (например, можно ограничить максимальную длину текста при токенизации)."
   ]
  },
  {
   "cell_type": "markdown",
   "metadata": {},
   "source": [
    "_____\n",
    "_____\n",
    "## <a id='toc1_6_'></a>[Модели](#toc0_)"
   ]
  },
  {
   "cell_type": "markdown",
   "metadata": {},
   "source": [
    "_____\n",
    "### <a id='toc1_6_1_'></a>[Оценка моделей](#toc0_)"
   ]
  },
  {
   "cell_type": "code",
   "execution_count": null,
   "metadata": {},
   "outputs": [],
   "source": [
    "def feature_selection_perfomance(*results, model_names: list[str], score_name='ROC AUC', greater_is_better=False):\n",
    "    \"\"\"\n",
    "    Функция для визуализации результатов отбора признаков.\n",
    "    Создает график, показывающий зависимость качества модели от количества выбранных признаков.\n",
    "\n",
    "    Parameters\n",
    "    ----------\n",
    "    *results : tuple of pd.Series or dict\n",
    "        Результаты для каждой модели. Каждый элемент может быть:\n",
    "        - `pd.Series`, представляющий значения метрики для разных наборов признаков. (при SelectKBest)\n",
    "        \n",
    "    model_names : list of str\n",
    "        Список с именами моделей, которые соответствуют каждому из результатов.\n",
    "    \"\"\"\n",
    "    fig = go.Figure()\n",
    "    for i, result in enumerate(results, start=1):\n",
    "        fig.add_trace(go.Scatter(x=result.index,\n",
    "                                 y=result,\n",
    "                                 mode='lines+markers',\n",
    "                                 name=model_names[i-1],\n",
    "                                 legendgroup=str(i),\n",
    "                                 legendgrouptitle=dict(text=f'{model_names[i-1]}')))\n",
    "        index =  result.index[result.argmax()] if greater_is_better else result.index[result.argmin()]\n",
    "        fig.add_trace(go.Scatter(x=[index],\n",
    "                                 y=[result[index]],\n",
    "                                 mode='markers',\n",
    "                                 marker=dict(color='red', size=10),\n",
    "                                 showlegend=False,\n",
    "                                 name=model_names[i-1],\n",
    "                                 legendgroup=str(i),\n",
    "                                 legendgrouptitle=dict(text=f'{model_names[i-1]}')))\n",
    "    fig.update_layout(\n",
    "        title_text=f'{score_name} моделей в зависимости от числа признаков',\n",
    "        xaxis_title='Число признаков',\n",
    "        yaxis_title=score_name,\n",
    "        showlegend=True\n",
    "    )\n",
    "    fig.show()\n",
    "\n",
    "\n",
    "def trial_duration_performance(*studies: optuna.Study,\n",
    "                               model_names: list[str],\n",
    "                               score_name='F1',\n",
    "                               greater_is_better=True):\n",
    "    \"\"\"\n",
    "    Визуализация зависимости метрики качества от времени выполнения трейла для одного или нескольких исследований Optuna.\n",
    "\n",
    "    Parameters\n",
    "    ----------\n",
    "    studies : optuna.Study\n",
    "        Одно или несколько объектов Optuna Study, содержащих результаты гиперпараметрического поиска.\n",
    "\n",
    "    model_names : list of str\n",
    "        Список имён моделей, соответствующий каждому исследованию (в том же порядке).\n",
    "\n",
    "    score_name : str, default='F1'\n",
    "        Название метрики, используемой в исследовании (отображается на оси Y и в заголовках).\n",
    "\n",
    "    greater_is_better : bool, default=True\n",
    "        Флаг, указывающий, нужно ли максимизировать метрику (True) или минимизировать (False).\n",
    "    \"\"\"\n",
    "    fig = go.Figure()\n",
    "\n",
    "    for i, study in enumerate(studies):\n",
    "        color = color_palette.__next__()\n",
    "        df = study.trials_dataframe()\n",
    "        df = df[df.value.notnull()].copy()\n",
    "        df['duration_sec'] = df['duration'].dt.total_seconds()\n",
    "        df = df.sort_values(by=['duration_sec', 'value'], ascending=[True, False])\n",
    "\n",
    "        fig.add_trace(go.Scatter(\n",
    "            x=df['duration_sec'],\n",
    "            y=df['value'],\n",
    "            mode='markers',\n",
    "            marker=dict(color=color, opacity=0.5, size=10),\n",
    "            name=model_names[i],\n",
    "            legendgroup=str(i),\n",
    "            legendgrouptitle=dict(text=model_names[i])\n",
    "        ))\n",
    "\n",
    "        best_idx = df['value'].idxmax() if greater_is_better else df['value'].idxmin()\n",
    "        best_point = df.loc[best_idx]\n",
    "\n",
    "        fig.add_trace(go.Scatter(\n",
    "            x=[best_point['duration_sec']],\n",
    "            y=[best_point['value']],\n",
    "            mode='markers',\n",
    "            marker=dict(color=color, size=10, line=dict(color='black', width=2)),\n",
    "            showlegend=False,\n",
    "            name=f'Лучшее: {model_names[i]}',\n",
    "            legendgroup=str(i),\n",
    "        ))\n",
    "\n",
    "    fig.update_layout(\n",
    "        title_text=f'{score_name} в зависимости от времени трейла',\n",
    "        xaxis_title='Время выполнения трейла (сек)',\n",
    "        yaxis_title=score_name,\n",
    "        showlegend=True,\n",
    "        template='plotly_white',\n",
    "        width=800,\n",
    "        height=500\n",
    "    )\n",
    "    fig.show()\n",
    "\n",
    "\n",
    "def trial_score_distribution(*studies: optuna.Study,\n",
    "                             model_names: list[str],\n",
    "                             nbinsx: dict[str, int] = None,\n",
    "                             xrange: tuple[float, float] = None,\n",
    "                             score_name='F1'):\n",
    "    \"\"\"\n",
    "    Визуализация распределения значений метрики качества для одного или нескольких исследований Optuna.\n",
    "\n",
    "    Parameters\n",
    "    ----------\n",
    "    studies : optuna.Study\n",
    "        Одно или несколько объектов Optuna Study, содержащих трейлы с оценками моделей.\n",
    "\n",
    "    model_names : list of str\n",
    "        Список имён моделей, соответствующий каждому исследованию (в том же порядке).\n",
    "\n",
    "    nbinsx : dict[str, int], optional\n",
    "        Словарь, в котором ключ — имя модели, а значение — количество корзин (bins) для гистограммы.\n",
    "        Если не указан, будет использовано значение по умолчанию от Plotly.\n",
    "\n",
    "    xrange : tuple of float, optional\n",
    "        Кортеж вида (min, max), задающий диапазон оси X (метрики).\n",
    "        Полезно при сравнении моделей с разным масштабом значений.\n",
    "\n",
    "    score_name : str, default='F1'\n",
    "        Название метрики, отображаемое на графиках.\n",
    "    \"\"\"\n",
    "\n",
    "    fig = go.Figure()\n",
    "\n",
    "    for i, study in enumerate(studies):\n",
    "        color = color_palette.__next__()\n",
    "        df = study.trials_dataframe()\n",
    "        df = df[df.value.notnull()].copy()\n",
    "\n",
    "        fig.add_trace(go.Histogram(\n",
    "            x=df['value'],\n",
    "            nbinsx=nbinsx[model_names[i]] if nbinsx else None,\n",
    "            name=model_names[i],\n",
    "            marker_color=color,\n",
    "            opacity=0.6,\n",
    "            legendgroup=str(i),\n",
    "            legendgrouptitle=dict(text=model_names[i])\n",
    "        ))\n",
    "\n",
    "    fig.update_layout(\n",
    "        title_text=f'Распределение значений метрики {score_name}',\n",
    "        xaxis_title=score_name,\n",
    "        yaxis_title='Количество трейлов',\n",
    "        barmode='overlay',\n",
    "        template='plotly_white',\n",
    "        showlegend=True,\n",
    "        width=800,\n",
    "        height=500,\n",
    "        xaxis=dict(range=xrange)\n",
    "    )\n",
    "    fig.show()\n"
   ]
  },
  {
   "cell_type": "markdown",
   "metadata": {},
   "source": [
    "_____\n",
    "### <a id='toc1_6_2_'></a>[Пайплайн](#toc0_)"
   ]
  },
  {
   "cell_type": "code",
   "execution_count": null,
   "metadata": {},
   "outputs": [],
   "source": [
    "def get_pipepline(lemm_column: str,\n",
    "                  feature_selection: Literal['RFE', 'SelectKBest', None] = None) -> Pipeline:\n",
    "    \"\"\"\n",
    "    Функция для создания пайплайна классификации с различными методами предварительной обработки данных и опциональными методами отбора признаков.\n",
    "    \n",
    "    В зависимости от выбранного метода отбора признаков (RFE или SelectKBest) и предоставленных данных, функция создает пайплайн,\n",
    "    который выполняет предварительную обработку числовых и категориальных данных, а также может включать этап отбора признаков.\n",
    "\n",
    "    Parameters\n",
    "    ----------\n",
    "    columns : list of str\n",
    "        Список названий признаков.\n",
    "\n",
    "    feature_selection : {'RFE', 'SelectKBest', None}, по умолчанию None\n",
    "        Метод отбора признаков, который будет использоваться в пайплайне:\n",
    "        - 'RFE' — применяет рекурсивный отбор признаков (RFE).\n",
    "        - 'SelectKBest' — применяет метод выбора K лучших признаков с использованием статистики mutual_info_regression или f_classif.\n",
    "        - None — без отбора признаков.\n",
    "\n",
    "    Returns\n",
    "    -------\n",
    "    Pipeline\n",
    "        Возвращает объект `Pipeline`, который включает в себя этапы предварительной обработки и, опционально, этап отбора признаков.\n",
    "    \"\"\"\n",
    "    preprocessor = ColumnTransformer(\n",
    "        [('vectorizer', 'passthrough', lemm_column)],\n",
    "        verbose_feature_names_out=True,\n",
    "    )\n",
    "    if feature_selection == 'RFE':\n",
    "        model = RFE(estimator=DummyClassifier(),\n",
    "                    step=1,\n",
    "                    verbose=0)\n",
    "        return Pipeline(\n",
    "            steps=[\n",
    "                ('preprocessor', preprocessor),\n",
    "                ('model', model)\n",
    "            ]\n",
    "        )\n",
    "    elif feature_selection == 'SelectKBest':\n",
    "        return Pipeline(\n",
    "            steps=[\n",
    "                ('preprocessor', preprocessor),\n",
    "                ('feature_selection', SelectKBest(\n",
    "                    score_func=mutual_info_regression\n",
    "                )),\n",
    "                ('model', DummyClassifier())\n",
    "            ]\n",
    "        )\n",
    "    else:\n",
    "        return Pipeline(\n",
    "            steps=[\n",
    "                ('preprocessor', preprocessor),\n",
    "                ('model', DummyClassifier())\n",
    "            ]\n",
    "        )"
   ]
  },
  {
   "cell_type": "markdown",
   "metadata": {},
   "source": [
    "_____\n",
    "### <a id='toc1_6_3_'></a>[Датасеты](#toc0_)"
   ]
  },
  {
   "cell_type": "code",
   "execution_count": null,
   "metadata": {},
   "outputs": [],
   "source": [
    "X = comments[['lemmatized_text']]\n",
    "y = comments.toxic\n",
    "X_train, X_test_val, y_train, y_test_val = train_test_split(X, y, random_state=RANDOM_STATE, stratify=y)\n",
    "X_test, X_val, y_test, y_val = train_test_split(X_test_val, y_test_val, random_state=RANDOM_STATE, stratify=y_test_val)"
   ]
  },
  {
   "cell_type": "markdown",
   "metadata": {},
   "source": [
    "_____\n",
    "### <a id='toc1_6_4_'></a>[Перебор гиперпараметров через optuna](#toc0_)"
   ]
  },
  {
   "cell_type": "markdown",
   "metadata": {},
   "source": [
    "*Перебираемые параметры*"
   ]
  },
  {
   "cell_type": "code",
   "execution_count": 18,
   "metadata": {},
   "outputs": [],
   "source": [
    "preprocessor_params = {\n",
    "    'preprocessor__vectorizer':\n",
    "        [CountVectorizer(stop_words=list(stop_words), dtype=np.float32),\n",
    "         TfidfVectorizer(stop_words = list(stop_words), dtype=np.float32)]\n",
    "}\n",
    "model_params_cat = {}\n",
    "model_params_num = {}\n",
    "pipeline = None"
   ]
  },
  {
   "cell_type": "markdown",
   "metadata": {},
   "source": [
    "*Функция для умного перебора гиперпарметров через optuna*"
   ]
  },
  {
   "cell_type": "code",
   "execution_count": 19,
   "metadata": {},
   "outputs": [],
   "source": [
    "def get_named_params(best_params):\n",
    "    cat_params = {**preprocessor_params, **model_params_cat}\n",
    "    return {\n",
    "        param: cat_params[param][best_params[param]] if param in cat_params\n",
    "               else best_params[param]\n",
    "        for param in best_params\n",
    "    }\n",
    "\n",
    "\n",
    "def objective_optuna(trial : optuna.trial.Trial) -> float:\n",
    "    \"\"\"\n",
    "    Целевая функция для оптимизации гиперпараметров с использованием библиотеки Optuna.\n",
    "    В этой функции выполняется настройка и обучение модели с использованием предложенных значений гиперпараметров,\n",
    "    а затем оценивается её точность на валидационной выборке.\n",
    "\n",
    "    Parameters\n",
    "    ----------\n",
    "    trial : optuna.trial.Trial\n",
    "        Экземпляр объекта `Trial` из библиотеки Optuna, который используется для выбора гиперпараметров.\n",
    "\n",
    "    Returns\n",
    "    -------\n",
    "    float\n",
    "        Оценка модели (например, точность) на валидационной выборке. Если возникает ошибка, пробный эксперимент прерывается.\n",
    "    \"\"\"\n",
    "    categorical_params = {**deepcopy(preprocessor_params), **deepcopy(model_params_cat)}\n",
    "    params_cat = {\n",
    "        param_name: categorical_params[param_name][trial.suggest_categorical(param_name, range(0, len(categorical_params[param_name])))]\n",
    "        for param_name in categorical_params\n",
    "    }\n",
    "    params_num = {param_name: model_params_num[param_name](trial) for param_name in model_params_num}\n",
    "    pipeline_temp:Pipeline = clone(pipeline)\n",
    "    pipeline_temp.set_params(**params_cat, **params_num)\n",
    "\n",
    "    scores = []\n",
    "    for fold_idx, (train_idx, val_idx) in enumerate(skf.split(X_train, y_train)):\n",
    "        pipeline_temp.fit(X_train.iloc[train_idx], y_train.iloc[train_idx])\n",
    "        preds = pipeline_temp.predict(X_train.iloc[val_idx])\n",
    "        score = f1_score(y_train.iloc[val_idx], preds)\n",
    "        scores.append(score)\n",
    "        trial.report(score, step=fold_idx)\n",
    "\n",
    "        if trial.should_prune():\n",
    "            raise optuna.exceptions.TrialPruned()\n",
    "        return np.mean(scores)"
   ]
  },
  {
   "cell_type": "markdown",
   "metadata": {},
   "source": [
    "❗️Примечание - поиск гиперпараметров работает с [чекпоинтами](https://github.com/GrishaTS/Ya-Practicum-DS/blob/main/10.%20%D0%A7%D0%B8%D1%81%D0%BB%D0%B5%D0%BD%D0%BD%D1%8B%D0%B5%20%D0%BC%D0%B5%D1%82%D0%BE%D0%B4%D1%8B/optuna.db). Можно скачать и не тратить время на повторное обучение."
   ]
  },
  {
   "cell_type": "code",
   "execution_count": 20,
   "metadata": {},
   "outputs": [
    {
     "name": "stdout",
     "output_type": "stream",
     "text": [
      "Файл успешно скачан: optuna.db\n"
     ]
    }
   ],
   "source": [
    "response = requests.get(\n",
    "    'https://github.com/GrishaTS/Ya-Practicum-DS/raw/main/12.%20Машинное%20обучение%20для%20текстов/optuna.db',\n",
    "    stream=True\n",
    ")\n",
    "if response.status_code == 200:\n",
    "    with open('optuna.db', 'wb') as f:\n",
    "        for chunk in response.iter_content(1024):\n",
    "            f.write(chunk)\n",
    "    print('Файл успешно скачан: optuna.db')\n",
    "else:\n",
    "    print('Ошибка загрузки:', response.status_code)\n"
   ]
  },
  {
   "cell_type": "code",
   "execution_count": null,
   "metadata": {},
   "outputs": [],
   "source": [
    "def get_trained_optuna_study(study_name, restudy=False, direction='minimize', n_trials=100):\n",
    "    \"\"\"\n",
    "    Создаёт или загружает существующее исследование Optuna для оптимизации гиперпараметров.\n",
    "\n",
    "    Функция загружает существующее исследование Optuna по заданному имени, если оно уже создано.\n",
    "    Если параметр `restudy=True`, удаляет предыдущее исследование и создаёт новое.\n",
    "    При создании нового исследования выполняется оптимизация заданной целевой функции.\n",
    "\n",
    "    Parameters\n",
    "    ----------\n",
    "    study_name : str\n",
    "        Имя исследования в Optuna.\n",
    "    restudy : bool, optional, default=False\n",
    "        Если `True`, удаляет существующее исследование с таким же именем перед созданием нового.\n",
    "    direction : {'minimize', 'maximize'}, optional, default='minimize'\n",
    "        Направление оптимизации: `minimize` для минимизации функции потерь, `maximize` для её максимизации.\n",
    "    n_trials : int, optional, default=100\n",
    "        Количество итераций (экспериментов) для оптимизации гиперпараметров.\n",
    "\n",
    "    Returns\n",
    "    -------\n",
    "    optuna.study.Study\n",
    "        Объект `Study`, содержащий результаты оптимизации гиперпараметров.\n",
    "    \"\"\"\n",
    "    study_names = optuna.study.get_all_study_names(storage=optuna_storage)\n",
    "    if study_name in study_names and not restudy:\n",
    "        study = optuna.load_study(storage=optuna_storage, study_name=study_name)\n",
    "    else:\n",
    "        if study_name in study_names:\n",
    "            optuna.delete_study(study_name=study_name, storage=optuna_storage)\n",
    "        study = optuna.create_study(study_name=study_name,\n",
    "                                    direction=direction,\n",
    "                                    sampler=optuna_sampler,\n",
    "                                    storage=optuna_storage)\n",
    "        study.optimize(objective_optuna, n_trials=n_trials, show_progress_bar=True)\n",
    "    return study"
   ]
  },
  {
   "cell_type": "markdown",
   "metadata": {},
   "source": [
    "_____\n",
    "### <a id='toc1_6_5_'></a>[LogisticRegression](#toc0_)"
   ]
  },
  {
   "cell_type": "code",
   "execution_count": 22,
   "metadata": {},
   "outputs": [],
   "source": [
    "pipeline = get_pipepline(\n",
    "    lemm_column=X.columns[0],\n",
    ")\n",
    "model_params_cat = {\n",
    "    'model': [LogisticRegression(n_jobs=2)],\n",
    "    'preprocessor__vectorizer__ngram_range': [(1, 1), (1, 2)],\n",
    "}\n",
    "model_params_num = {\n",
    "    'model__C': lambda trial: trial.suggest_float('model__C', 0.1, 10, log=True),\n",
    "    'model__max_iter': lambda trial: trial.suggest_int('model__max_iter', 100, 300, step=50),\n",
    "}"
   ]
  },
  {
   "cell_type": "code",
   "execution_count": 23,
   "metadata": {},
   "outputs": [],
   "source": [
    "study_logreg = get_trained_optuna_study('logreg', restudy=False, direction='maximize')"
   ]
  },
  {
   "cell_type": "code",
   "execution_count": 24,
   "metadata": {},
   "outputs": [
    {
     "name": "stdout",
     "output_type": "stream",
     "text": [
      "Best cross-val f1: 0.779\n"
     ]
    },
    {
     "data": {
      "text/html": [
       "<style>#sk-container-id-1 {color: black;background-color: white;}#sk-container-id-1 pre{padding: 0;}#sk-container-id-1 div.sk-toggleable {background-color: white;}#sk-container-id-1 label.sk-toggleable__label {cursor: pointer;display: block;width: 100%;margin-bottom: 0;padding: 0.3em;box-sizing: border-box;text-align: center;}#sk-container-id-1 label.sk-toggleable__label-arrow:before {content: \"▸\";float: left;margin-right: 0.25em;color: #696969;}#sk-container-id-1 label.sk-toggleable__label-arrow:hover:before {color: black;}#sk-container-id-1 div.sk-estimator:hover label.sk-toggleable__label-arrow:before {color: black;}#sk-container-id-1 div.sk-toggleable__content {max-height: 0;max-width: 0;overflow: hidden;text-align: left;background-color: #f0f8ff;}#sk-container-id-1 div.sk-toggleable__content pre {margin: 0.2em;color: black;border-radius: 0.25em;background-color: #f0f8ff;}#sk-container-id-1 input.sk-toggleable__control:checked~div.sk-toggleable__content {max-height: 200px;max-width: 100%;overflow: auto;}#sk-container-id-1 input.sk-toggleable__control:checked~label.sk-toggleable__label-arrow:before {content: \"▾\";}#sk-container-id-1 div.sk-estimator input.sk-toggleable__control:checked~label.sk-toggleable__label {background-color: #d4ebff;}#sk-container-id-1 div.sk-label input.sk-toggleable__control:checked~label.sk-toggleable__label {background-color: #d4ebff;}#sk-container-id-1 input.sk-hidden--visually {border: 0;clip: rect(1px 1px 1px 1px);clip: rect(1px, 1px, 1px, 1px);height: 1px;margin: -1px;overflow: hidden;padding: 0;position: absolute;width: 1px;}#sk-container-id-1 div.sk-estimator {font-family: monospace;background-color: #f0f8ff;border: 1px dotted black;border-radius: 0.25em;box-sizing: border-box;margin-bottom: 0.5em;}#sk-container-id-1 div.sk-estimator:hover {background-color: #d4ebff;}#sk-container-id-1 div.sk-parallel-item::after {content: \"\";width: 100%;border-bottom: 1px solid gray;flex-grow: 1;}#sk-container-id-1 div.sk-label:hover label.sk-toggleable__label {background-color: #d4ebff;}#sk-container-id-1 div.sk-serial::before {content: \"\";position: absolute;border-left: 1px solid gray;box-sizing: border-box;top: 0;bottom: 0;left: 50%;z-index: 0;}#sk-container-id-1 div.sk-serial {display: flex;flex-direction: column;align-items: center;background-color: white;padding-right: 0.2em;padding-left: 0.2em;position: relative;}#sk-container-id-1 div.sk-item {position: relative;z-index: 1;}#sk-container-id-1 div.sk-parallel {display: flex;align-items: stretch;justify-content: center;background-color: white;position: relative;}#sk-container-id-1 div.sk-item::before, #sk-container-id-1 div.sk-parallel-item::before {content: \"\";position: absolute;border-left: 1px solid gray;box-sizing: border-box;top: 0;bottom: 0;left: 50%;z-index: -1;}#sk-container-id-1 div.sk-parallel-item {display: flex;flex-direction: column;z-index: 1;position: relative;background-color: white;}#sk-container-id-1 div.sk-parallel-item:first-child::after {align-self: flex-end;width: 50%;}#sk-container-id-1 div.sk-parallel-item:last-child::after {align-self: flex-start;width: 50%;}#sk-container-id-1 div.sk-parallel-item:only-child::after {width: 0;}#sk-container-id-1 div.sk-dashed-wrapped {border: 1px dashed gray;margin: 0 0.4em 0.5em 0.4em;box-sizing: border-box;padding-bottom: 0.4em;background-color: white;}#sk-container-id-1 div.sk-label label {font-family: monospace;font-weight: bold;display: inline-block;line-height: 1.2em;}#sk-container-id-1 div.sk-label-container {text-align: center;}#sk-container-id-1 div.sk-container {/* jupyter's `normalize.less` sets `[hidden] { display: none; }` but bootstrap.min.css set `[hidden] { display: none !important; }` so we also need the `!important` here to be able to override the default hidden behavior on the sphinx rendered scikit-learn.org. See: https://github.com/scikit-learn/scikit-learn/issues/21755 */display: inline-block !important;position: relative;}#sk-container-id-1 div.sk-text-repr-fallback {display: none;}</style><div id=\"sk-container-id-1\" class=\"sk-top-container\"><div class=\"sk-text-repr-fallback\"><pre>Pipeline(steps=[(&#x27;preprocessor&#x27;,\n",
       "                 ColumnTransformer(transformers=[(&#x27;vectorizer&#x27;,\n",
       "                                                  CountVectorizer(dtype=&lt;class &#x27;numpy.float32&#x27;&gt;,\n",
       "                                                                  ngram_range=(1,\n",
       "                                                                               2),\n",
       "                                                                  stop_words=[&#x27;your&#x27;,\n",
       "                                                                              &#x27;them&#x27;,\n",
       "                                                                              &#x27;before&#x27;,\n",
       "                                                                              &#x27;me&#x27;,\n",
       "                                                                              &#x27;won&#x27;,\n",
       "                                                                              &#x27;against&#x27;,\n",
       "                                                                              &#x27;there&#x27;,\n",
       "                                                                              &#x27;been&#x27;,\n",
       "                                                                              &quot;they&#x27;re&quot;,\n",
       "                                                                              &#x27;each&#x27;,\n",
       "                                                                              &#x27;himself&#x27;,\n",
       "                                                                              &#x27;itself&#x27;,\n",
       "                                                                              &#x27;o&#x27;,\n",
       "                                                                              &#x27;some&#x27;,\n",
       "                                                                              &#x27;about&#x27;,\n",
       "                                                                              &#x27;until&#x27;,\n",
       "                                                                              &#x27;after&#x27;,\n",
       "                                                                              &#x27;than&#x27;,\n",
       "                                                                              &#x27;who&#x27;,\n",
       "                                                                              &quot;you&#x27;d&quot;,\n",
       "                                                                              &#x27;under&#x27;,\n",
       "                                                                              &quot;needn&#x27;t&quot;,\n",
       "                                                                              &#x27;herself&#x27;,\n",
       "                                                                              &#x27;shouldn&#x27;,\n",
       "                                                                              &quot;isn&#x27;t&quot;,\n",
       "                                                                              &#x27;the&#x27;,\n",
       "                                                                              &#x27;yourself&#x27;,\n",
       "                                                                              &quot;i&#x27;m&quot;,\n",
       "                                                                              &#x27;other&#x27;,\n",
       "                                                                              &#x27;that&#x27;, ...]),\n",
       "                                                  &#x27;lemmatized_text&#x27;)])),\n",
       "                (&#x27;model&#x27;,\n",
       "                 LogisticRegression(C=9.986424465040107, max_iter=200,\n",
       "                                    n_jobs=2))])</pre><b>In a Jupyter environment, please rerun this cell to show the HTML representation or trust the notebook. <br />On GitHub, the HTML representation is unable to render, please try loading this page with nbviewer.org.</b></div><div class=\"sk-container\" hidden><div class=\"sk-item sk-dashed-wrapped\"><div class=\"sk-label-container\"><div class=\"sk-label sk-toggleable\"><input class=\"sk-toggleable__control sk-hidden--visually\" id=\"sk-estimator-id-1\" type=\"checkbox\" ><label for=\"sk-estimator-id-1\" class=\"sk-toggleable__label sk-toggleable__label-arrow\">Pipeline</label><div class=\"sk-toggleable__content\"><pre>Pipeline(steps=[(&#x27;preprocessor&#x27;,\n",
       "                 ColumnTransformer(transformers=[(&#x27;vectorizer&#x27;,\n",
       "                                                  CountVectorizer(dtype=&lt;class &#x27;numpy.float32&#x27;&gt;,\n",
       "                                                                  ngram_range=(1,\n",
       "                                                                               2),\n",
       "                                                                  stop_words=[&#x27;your&#x27;,\n",
       "                                                                              &#x27;them&#x27;,\n",
       "                                                                              &#x27;before&#x27;,\n",
       "                                                                              &#x27;me&#x27;,\n",
       "                                                                              &#x27;won&#x27;,\n",
       "                                                                              &#x27;against&#x27;,\n",
       "                                                                              &#x27;there&#x27;,\n",
       "                                                                              &#x27;been&#x27;,\n",
       "                                                                              &quot;they&#x27;re&quot;,\n",
       "                                                                              &#x27;each&#x27;,\n",
       "                                                                              &#x27;himself&#x27;,\n",
       "                                                                              &#x27;itself&#x27;,\n",
       "                                                                              &#x27;o&#x27;,\n",
       "                                                                              &#x27;some&#x27;,\n",
       "                                                                              &#x27;about&#x27;,\n",
       "                                                                              &#x27;until&#x27;,\n",
       "                                                                              &#x27;after&#x27;,\n",
       "                                                                              &#x27;than&#x27;,\n",
       "                                                                              &#x27;who&#x27;,\n",
       "                                                                              &quot;you&#x27;d&quot;,\n",
       "                                                                              &#x27;under&#x27;,\n",
       "                                                                              &quot;needn&#x27;t&quot;,\n",
       "                                                                              &#x27;herself&#x27;,\n",
       "                                                                              &#x27;shouldn&#x27;,\n",
       "                                                                              &quot;isn&#x27;t&quot;,\n",
       "                                                                              &#x27;the&#x27;,\n",
       "                                                                              &#x27;yourself&#x27;,\n",
       "                                                                              &quot;i&#x27;m&quot;,\n",
       "                                                                              &#x27;other&#x27;,\n",
       "                                                                              &#x27;that&#x27;, ...]),\n",
       "                                                  &#x27;lemmatized_text&#x27;)])),\n",
       "                (&#x27;model&#x27;,\n",
       "                 LogisticRegression(C=9.986424465040107, max_iter=200,\n",
       "                                    n_jobs=2))])</pre></div></div></div><div class=\"sk-serial\"><div class=\"sk-item sk-dashed-wrapped\"><div class=\"sk-label-container\"><div class=\"sk-label sk-toggleable\"><input class=\"sk-toggleable__control sk-hidden--visually\" id=\"sk-estimator-id-2\" type=\"checkbox\" ><label for=\"sk-estimator-id-2\" class=\"sk-toggleable__label sk-toggleable__label-arrow\">preprocessor: ColumnTransformer</label><div class=\"sk-toggleable__content\"><pre>ColumnTransformer(transformers=[(&#x27;vectorizer&#x27;,\n",
       "                                 CountVectorizer(dtype=&lt;class &#x27;numpy.float32&#x27;&gt;,\n",
       "                                                 ngram_range=(1, 2),\n",
       "                                                 stop_words=[&#x27;your&#x27;, &#x27;them&#x27;,\n",
       "                                                             &#x27;before&#x27;, &#x27;me&#x27;,\n",
       "                                                             &#x27;won&#x27;, &#x27;against&#x27;,\n",
       "                                                             &#x27;there&#x27;, &#x27;been&#x27;,\n",
       "                                                             &quot;they&#x27;re&quot;, &#x27;each&#x27;,\n",
       "                                                             &#x27;himself&#x27;,\n",
       "                                                             &#x27;itself&#x27;, &#x27;o&#x27;,\n",
       "                                                             &#x27;some&#x27;, &#x27;about&#x27;,\n",
       "                                                             &#x27;until&#x27;, &#x27;after&#x27;,\n",
       "                                                             &#x27;than&#x27;, &#x27;who&#x27;,\n",
       "                                                             &quot;you&#x27;d&quot;, &#x27;under&#x27;,\n",
       "                                                             &quot;needn&#x27;t&quot;,\n",
       "                                                             &#x27;herself&#x27;,\n",
       "                                                             &#x27;shouldn&#x27;, &quot;isn&#x27;t&quot;,\n",
       "                                                             &#x27;the&#x27;, &#x27;yourself&#x27;,\n",
       "                                                             &quot;i&#x27;m&quot;, &#x27;other&#x27;,\n",
       "                                                             &#x27;that&#x27;, ...]),\n",
       "                                 &#x27;lemmatized_text&#x27;)])</pre></div></div></div><div class=\"sk-parallel\"><div class=\"sk-parallel-item\"><div class=\"sk-item\"><div class=\"sk-label-container\"><div class=\"sk-label sk-toggleable\"><input class=\"sk-toggleable__control sk-hidden--visually\" id=\"sk-estimator-id-3\" type=\"checkbox\" ><label for=\"sk-estimator-id-3\" class=\"sk-toggleable__label sk-toggleable__label-arrow\">vectorizer</label><div class=\"sk-toggleable__content\"><pre>lemmatized_text</pre></div></div></div><div class=\"sk-serial\"><div class=\"sk-item\"><div class=\"sk-estimator sk-toggleable\"><input class=\"sk-toggleable__control sk-hidden--visually\" id=\"sk-estimator-id-4\" type=\"checkbox\" ><label for=\"sk-estimator-id-4\" class=\"sk-toggleable__label sk-toggleable__label-arrow\">CountVectorizer</label><div class=\"sk-toggleable__content\"><pre>CountVectorizer(dtype=&lt;class &#x27;numpy.float32&#x27;&gt;, ngram_range=(1, 2),\n",
       "                stop_words=[&#x27;your&#x27;, &#x27;them&#x27;, &#x27;before&#x27;, &#x27;me&#x27;, &#x27;won&#x27;, &#x27;against&#x27;,\n",
       "                            &#x27;there&#x27;, &#x27;been&#x27;, &quot;they&#x27;re&quot;, &#x27;each&#x27;, &#x27;himself&#x27;,\n",
       "                            &#x27;itself&#x27;, &#x27;o&#x27;, &#x27;some&#x27;, &#x27;about&#x27;, &#x27;until&#x27;, &#x27;after&#x27;,\n",
       "                            &#x27;than&#x27;, &#x27;who&#x27;, &quot;you&#x27;d&quot;, &#x27;under&#x27;, &quot;needn&#x27;t&quot;,\n",
       "                            &#x27;herself&#x27;, &#x27;shouldn&#x27;, &quot;isn&#x27;t&quot;, &#x27;the&#x27;, &#x27;yourself&#x27;,\n",
       "                            &quot;i&#x27;m&quot;, &#x27;other&#x27;, &#x27;that&#x27;, ...])</pre></div></div></div></div></div></div></div></div><div class=\"sk-item\"><div class=\"sk-estimator sk-toggleable\"><input class=\"sk-toggleable__control sk-hidden--visually\" id=\"sk-estimator-id-5\" type=\"checkbox\" ><label for=\"sk-estimator-id-5\" class=\"sk-toggleable__label sk-toggleable__label-arrow\">LogisticRegression</label><div class=\"sk-toggleable__content\"><pre>LogisticRegression(C=9.986424465040107, max_iter=200, n_jobs=2)</pre></div></div></div></div></div></div></div>"
      ],
      "text/plain": [
       "Pipeline(steps=[('preprocessor',\n",
       "                 ColumnTransformer(transformers=[('vectorizer',\n",
       "                                                  CountVectorizer(dtype=<class 'numpy.float32'>,\n",
       "                                                                  ngram_range=(1,\n",
       "                                                                               2),\n",
       "                                                                  stop_words=['your',\n",
       "                                                                              'them',\n",
       "                                                                              'before',\n",
       "                                                                              'me',\n",
       "                                                                              'won',\n",
       "                                                                              'against',\n",
       "                                                                              'there',\n",
       "                                                                              'been',\n",
       "                                                                              \"they're\",\n",
       "                                                                              'each',\n",
       "                                                                              'himself',\n",
       "                                                                              'itself',\n",
       "                                                                              'o',\n",
       "                                                                              'some',\n",
       "                                                                              'about',\n",
       "                                                                              'until',\n",
       "                                                                              'after',\n",
       "                                                                              'than',\n",
       "                                                                              'who',\n",
       "                                                                              \"you'd\",\n",
       "                                                                              'under',\n",
       "                                                                              \"needn't\",\n",
       "                                                                              'herself',\n",
       "                                                                              'shouldn',\n",
       "                                                                              \"isn't\",\n",
       "                                                                              'the',\n",
       "                                                                              'yourself',\n",
       "                                                                              \"i'm\",\n",
       "                                                                              'other',\n",
       "                                                                              'that', ...]),\n",
       "                                                  'lemmatized_text')])),\n",
       "                ('model',\n",
       "                 LogisticRegression(C=9.986424465040107, max_iter=200,\n",
       "                                    n_jobs=2))])"
      ]
     },
     "execution_count": 24,
     "metadata": {},
     "output_type": "execute_result"
    }
   ],
   "source": [
    "print(f'Best cross-val f1: {study_logreg.best_value:.3f}')\n",
    "best_params_logreg = get_named_params(study_logreg.best_params)\n",
    "dataset_logreg = X_train, y_train, X_val, y_val, X_test, y_test\n",
    "logreg = pipeline.set_params(**best_params_logreg)\n",
    "logreg"
   ]
  },
  {
   "cell_type": "code",
   "execution_count": 25,
   "metadata": {},
   "outputs": [
    {
     "data": {
      "application/vnd.plotly.v1+json": {
       "config": {
        "plotlyServerURL": "https://plot.ly"
       },
       "data": [
        {
         "cliponaxis": false,
         "hovertemplate": [
          "model (CategoricalDistribution): 0.0<extra></extra>",
          "model__max_iter (IntDistribution): 0.0027895794044216927<extra></extra>",
          "preprocessor__vectorizer__ngram_range (CategoricalDistribution): 0.02957282810841641<extra></extra>",
          "preprocessor__vectorizer (CategoricalDistribution): 0.22663411684491694<extra></extra>",
          "model__C (FloatDistribution): 0.7410034756422449<extra></extra>"
         ],
         "name": "Objective Value",
         "orientation": "h",
         "text": [
          "<0.01",
          "<0.01",
          "0.03",
          "0.23",
          "0.74"
         ],
         "textposition": "outside",
         "type": "bar",
         "x": [
          0,
          0.0027895794044216927,
          0.02957282810841641,
          0.22663411684491694,
          0.7410034756422449
         ],
         "y": [
          "model",
          "model__max_iter",
          "preprocessor__vectorizer__ngram_range",
          "preprocessor__vectorizer",
          "model__C"
         ]
        }
       ],
       "layout": {
        "height": 500,
        "template": {
         "data": {
          "bar": [
           {
            "error_x": {
             "color": "#2a3f5f"
            },
            "error_y": {
             "color": "#2a3f5f"
            },
            "marker": {
             "line": {
              "color": "#E5ECF6",
              "width": 0.5
             },
             "pattern": {
              "fillmode": "overlay",
              "size": 10,
              "solidity": 0.2
             }
            },
            "type": "bar"
           }
          ],
          "barpolar": [
           {
            "marker": {
             "line": {
              "color": "#E5ECF6",
              "width": 0.5
             },
             "pattern": {
              "fillmode": "overlay",
              "size": 10,
              "solidity": 0.2
             }
            },
            "type": "barpolar"
           }
          ],
          "carpet": [
           {
            "aaxis": {
             "endlinecolor": "#2a3f5f",
             "gridcolor": "white",
             "linecolor": "white",
             "minorgridcolor": "white",
             "startlinecolor": "#2a3f5f"
            },
            "baxis": {
             "endlinecolor": "#2a3f5f",
             "gridcolor": "white",
             "linecolor": "white",
             "minorgridcolor": "white",
             "startlinecolor": "#2a3f5f"
            },
            "type": "carpet"
           }
          ],
          "choropleth": [
           {
            "colorbar": {
             "outlinewidth": 0,
             "ticks": ""
            },
            "type": "choropleth"
           }
          ],
          "contour": [
           {
            "colorbar": {
             "outlinewidth": 0,
             "ticks": ""
            },
            "colorscale": [
             [
              0,
              "#0d0887"
             ],
             [
              0.1111111111111111,
              "#46039f"
             ],
             [
              0.2222222222222222,
              "#7201a8"
             ],
             [
              0.3333333333333333,
              "#9c179e"
             ],
             [
              0.4444444444444444,
              "#bd3786"
             ],
             [
              0.5555555555555556,
              "#d8576b"
             ],
             [
              0.6666666666666666,
              "#ed7953"
             ],
             [
              0.7777777777777778,
              "#fb9f3a"
             ],
             [
              0.8888888888888888,
              "#fdca26"
             ],
             [
              1,
              "#f0f921"
             ]
            ],
            "type": "contour"
           }
          ],
          "contourcarpet": [
           {
            "colorbar": {
             "outlinewidth": 0,
             "ticks": ""
            },
            "type": "contourcarpet"
           }
          ],
          "heatmap": [
           {
            "colorbar": {
             "outlinewidth": 0,
             "ticks": ""
            },
            "colorscale": [
             [
              0,
              "#0d0887"
             ],
             [
              0.1111111111111111,
              "#46039f"
             ],
             [
              0.2222222222222222,
              "#7201a8"
             ],
             [
              0.3333333333333333,
              "#9c179e"
             ],
             [
              0.4444444444444444,
              "#bd3786"
             ],
             [
              0.5555555555555556,
              "#d8576b"
             ],
             [
              0.6666666666666666,
              "#ed7953"
             ],
             [
              0.7777777777777778,
              "#fb9f3a"
             ],
             [
              0.8888888888888888,
              "#fdca26"
             ],
             [
              1,
              "#f0f921"
             ]
            ],
            "type": "heatmap"
           }
          ],
          "histogram": [
           {
            "marker": {
             "pattern": {
              "fillmode": "overlay",
              "size": 10,
              "solidity": 0.2
             }
            },
            "type": "histogram"
           }
          ],
          "histogram2d": [
           {
            "colorbar": {
             "outlinewidth": 0,
             "ticks": ""
            },
            "colorscale": [
             [
              0,
              "#0d0887"
             ],
             [
              0.1111111111111111,
              "#46039f"
             ],
             [
              0.2222222222222222,
              "#7201a8"
             ],
             [
              0.3333333333333333,
              "#9c179e"
             ],
             [
              0.4444444444444444,
              "#bd3786"
             ],
             [
              0.5555555555555556,
              "#d8576b"
             ],
             [
              0.6666666666666666,
              "#ed7953"
             ],
             [
              0.7777777777777778,
              "#fb9f3a"
             ],
             [
              0.8888888888888888,
              "#fdca26"
             ],
             [
              1,
              "#f0f921"
             ]
            ],
            "type": "histogram2d"
           }
          ],
          "histogram2dcontour": [
           {
            "colorbar": {
             "outlinewidth": 0,
             "ticks": ""
            },
            "colorscale": [
             [
              0,
              "#0d0887"
             ],
             [
              0.1111111111111111,
              "#46039f"
             ],
             [
              0.2222222222222222,
              "#7201a8"
             ],
             [
              0.3333333333333333,
              "#9c179e"
             ],
             [
              0.4444444444444444,
              "#bd3786"
             ],
             [
              0.5555555555555556,
              "#d8576b"
             ],
             [
              0.6666666666666666,
              "#ed7953"
             ],
             [
              0.7777777777777778,
              "#fb9f3a"
             ],
             [
              0.8888888888888888,
              "#fdca26"
             ],
             [
              1,
              "#f0f921"
             ]
            ],
            "type": "histogram2dcontour"
           }
          ],
          "mesh3d": [
           {
            "colorbar": {
             "outlinewidth": 0,
             "ticks": ""
            },
            "type": "mesh3d"
           }
          ],
          "parcoords": [
           {
            "line": {
             "colorbar": {
              "outlinewidth": 0,
              "ticks": ""
             }
            },
            "type": "parcoords"
           }
          ],
          "pie": [
           {
            "automargin": true,
            "type": "pie"
           }
          ],
          "scatter": [
           {
            "fillpattern": {
             "fillmode": "overlay",
             "size": 10,
             "solidity": 0.2
            },
            "type": "scatter"
           }
          ],
          "scatter3d": [
           {
            "line": {
             "colorbar": {
              "outlinewidth": 0,
              "ticks": ""
             }
            },
            "marker": {
             "colorbar": {
              "outlinewidth": 0,
              "ticks": ""
             }
            },
            "type": "scatter3d"
           }
          ],
          "scattercarpet": [
           {
            "marker": {
             "colorbar": {
              "outlinewidth": 0,
              "ticks": ""
             }
            },
            "type": "scattercarpet"
           }
          ],
          "scattergeo": [
           {
            "marker": {
             "colorbar": {
              "outlinewidth": 0,
              "ticks": ""
             }
            },
            "type": "scattergeo"
           }
          ],
          "scattergl": [
           {
            "marker": {
             "colorbar": {
              "outlinewidth": 0,
              "ticks": ""
             }
            },
            "type": "scattergl"
           }
          ],
          "scattermap": [
           {
            "marker": {
             "colorbar": {
              "outlinewidth": 0,
              "ticks": ""
             }
            },
            "type": "scattermap"
           }
          ],
          "scattermapbox": [
           {
            "marker": {
             "colorbar": {
              "outlinewidth": 0,
              "ticks": ""
             }
            },
            "type": "scattermapbox"
           }
          ],
          "scatterpolar": [
           {
            "marker": {
             "colorbar": {
              "outlinewidth": 0,
              "ticks": ""
             }
            },
            "type": "scatterpolar"
           }
          ],
          "scatterpolargl": [
           {
            "marker": {
             "colorbar": {
              "outlinewidth": 0,
              "ticks": ""
             }
            },
            "type": "scatterpolargl"
           }
          ],
          "scatterternary": [
           {
            "marker": {
             "colorbar": {
              "outlinewidth": 0,
              "ticks": ""
             }
            },
            "type": "scatterternary"
           }
          ],
          "surface": [
           {
            "colorbar": {
             "outlinewidth": 0,
             "ticks": ""
            },
            "colorscale": [
             [
              0,
              "#0d0887"
             ],
             [
              0.1111111111111111,
              "#46039f"
             ],
             [
              0.2222222222222222,
              "#7201a8"
             ],
             [
              0.3333333333333333,
              "#9c179e"
             ],
             [
              0.4444444444444444,
              "#bd3786"
             ],
             [
              0.5555555555555556,
              "#d8576b"
             ],
             [
              0.6666666666666666,
              "#ed7953"
             ],
             [
              0.7777777777777778,
              "#fb9f3a"
             ],
             [
              0.8888888888888888,
              "#fdca26"
             ],
             [
              1,
              "#f0f921"
             ]
            ],
            "type": "surface"
           }
          ],
          "table": [
           {
            "cells": {
             "fill": {
              "color": "#EBF0F8"
             },
             "line": {
              "color": "white"
             }
            },
            "header": {
             "fill": {
              "color": "#C8D4E3"
             },
             "line": {
              "color": "white"
             }
            },
            "type": "table"
           }
          ]
         },
         "layout": {
          "annotationdefaults": {
           "arrowcolor": "#2a3f5f",
           "arrowhead": 0,
           "arrowwidth": 1
          },
          "autotypenumbers": "strict",
          "coloraxis": {
           "colorbar": {
            "outlinewidth": 0,
            "ticks": ""
           }
          },
          "colorscale": {
           "diverging": [
            [
             0,
             "#8e0152"
            ],
            [
             0.1,
             "#c51b7d"
            ],
            [
             0.2,
             "#de77ae"
            ],
            [
             0.3,
             "#f1b6da"
            ],
            [
             0.4,
             "#fde0ef"
            ],
            [
             0.5,
             "#f7f7f7"
            ],
            [
             0.6,
             "#e6f5d0"
            ],
            [
             0.7,
             "#b8e186"
            ],
            [
             0.8,
             "#7fbc41"
            ],
            [
             0.9,
             "#4d9221"
            ],
            [
             1,
             "#276419"
            ]
           ],
           "sequential": [
            [
             0,
             "#0d0887"
            ],
            [
             0.1111111111111111,
             "#46039f"
            ],
            [
             0.2222222222222222,
             "#7201a8"
            ],
            [
             0.3333333333333333,
             "#9c179e"
            ],
            [
             0.4444444444444444,
             "#bd3786"
            ],
            [
             0.5555555555555556,
             "#d8576b"
            ],
            [
             0.6666666666666666,
             "#ed7953"
            ],
            [
             0.7777777777777778,
             "#fb9f3a"
            ],
            [
             0.8888888888888888,
             "#fdca26"
            ],
            [
             1,
             "#f0f921"
            ]
           ],
           "sequentialminus": [
            [
             0,
             "#0d0887"
            ],
            [
             0.1111111111111111,
             "#46039f"
            ],
            [
             0.2222222222222222,
             "#7201a8"
            ],
            [
             0.3333333333333333,
             "#9c179e"
            ],
            [
             0.4444444444444444,
             "#bd3786"
            ],
            [
             0.5555555555555556,
             "#d8576b"
            ],
            [
             0.6666666666666666,
             "#ed7953"
            ],
            [
             0.7777777777777778,
             "#fb9f3a"
            ],
            [
             0.8888888888888888,
             "#fdca26"
            ],
            [
             1,
             "#f0f921"
            ]
           ]
          },
          "colorway": [
           "#636efa",
           "#EF553B",
           "#00cc96",
           "#ab63fa",
           "#FFA15A",
           "#19d3f3",
           "#FF6692",
           "#B6E880",
           "#FF97FF",
           "#FECB52"
          ],
          "font": {
           "color": "#2a3f5f"
          },
          "geo": {
           "bgcolor": "white",
           "lakecolor": "white",
           "landcolor": "#E5ECF6",
           "showlakes": true,
           "showland": true,
           "subunitcolor": "white"
          },
          "hoverlabel": {
           "align": "left"
          },
          "hovermode": "closest",
          "mapbox": {
           "style": "light"
          },
          "paper_bgcolor": "white",
          "plot_bgcolor": "#E5ECF6",
          "polar": {
           "angularaxis": {
            "gridcolor": "white",
            "linecolor": "white",
            "ticks": ""
           },
           "bgcolor": "#E5ECF6",
           "radialaxis": {
            "gridcolor": "white",
            "linecolor": "white",
            "ticks": ""
           }
          },
          "scene": {
           "xaxis": {
            "backgroundcolor": "#E5ECF6",
            "gridcolor": "white",
            "gridwidth": 2,
            "linecolor": "white",
            "showbackground": true,
            "ticks": "",
            "zerolinecolor": "white"
           },
           "yaxis": {
            "backgroundcolor": "#E5ECF6",
            "gridcolor": "white",
            "gridwidth": 2,
            "linecolor": "white",
            "showbackground": true,
            "ticks": "",
            "zerolinecolor": "white"
           },
           "zaxis": {
            "backgroundcolor": "#E5ECF6",
            "gridcolor": "white",
            "gridwidth": 2,
            "linecolor": "white",
            "showbackground": true,
            "ticks": "",
            "zerolinecolor": "white"
           }
          },
          "shapedefaults": {
           "line": {
            "color": "#2a3f5f"
           }
          },
          "ternary": {
           "aaxis": {
            "gridcolor": "white",
            "linecolor": "white",
            "ticks": ""
           },
           "baxis": {
            "gridcolor": "white",
            "linecolor": "white",
            "ticks": ""
           },
           "bgcolor": "#E5ECF6",
           "caxis": {
            "gridcolor": "white",
            "linecolor": "white",
            "ticks": ""
           }
          },
          "title": {
           "x": 0.05
          },
          "xaxis": {
           "automargin": true,
           "gridcolor": "white",
           "linecolor": "white",
           "ticks": "",
           "title": {
            "standoff": 15
           },
           "zerolinecolor": "white",
           "zerolinewidth": 2
          },
          "yaxis": {
           "automargin": true,
           "gridcolor": "white",
           "linecolor": "white",
           "ticks": "",
           "title": {
            "standoff": 15
           },
           "zerolinecolor": "white",
           "zerolinewidth": 2
          }
         }
        },
        "title": {
         "text": "Hyperparameter Importances"
        },
        "width": 800,
        "xaxis": {
         "title": {
          "text": "Hyperparameter Importance"
         }
        },
        "yaxis": {
         "title": {
          "text": "Hyperparameter"
         }
        }
       }
      }
     },
     "metadata": {},
     "output_type": "display_data"
    },
    {
     "data": {
      "application/vnd.plotly.v1+json": {
       "config": {
        "plotlyServerURL": "https://plot.ly"
       },
       "data": [
        {
         "legendgroup": "0",
         "legendgrouptitle": {
          "text": "LogisticRegression"
         },
         "marker": {
          "color": "#636EFA",
          "opacity": 0.5,
          "size": 10
         },
         "mode": "markers",
         "name": "LogisticRegression",
         "type": "scatter",
         "x": {
          "bdata": "BRVVv9JxIkC8ICI17dokQLzLRXwn/iZAhxVu+UhCJ0BVTKWfcPYqQOVeYFYo8itAZfz7jAv3K0AZdELooBMsQI4j1uJTEC1AWTZzSGoxLUCb/uxHiqgvQLb3qSo0LDBAZcix9QypM0B7E0NyMk1DQMQKt3wky0RA8bioFhHdRECgMv59xltJQA/yejApVVBATaJe8GkrUkCb/uxHilhSQKZjzjP2M1dAVgvsMZF6WEDUCz7NySxZQIvDmV/NUVlAYB3HD5V5WUBevYqMDoBZQMZSJF8JqllA96sA322uWUC1+uqqQOZZQPlNYaWCHVpAMjogCftlW0AgJXZtb8RdQNi7P96rgV5ATdu/stInX0CHb2HdeJZfQKn4vyMqo19AxXb3AN25X0D5wI7/As5fQLCryVNW6V9ATTCca5jpX0CFCg4viOpfQK+ZfLPN9l9Aw9hCkIP4X0Bz9zk+2gBgQBeBsb6BBWBAtDo5Q3EGYECCyCJNPAhgQPGhREueDGBA4j0HliMVYECsONVamBpgQOyFArYDIGBAIXNlUO0lYEDzyB8MPCZgQEqWk1B6JmBAGF3eHK4mYEDUf9b8eCtgQNzUQPO5LGBAEF1Q37IwYEA9QzhmWUFgQDVDqiheRWBA4BRWKqhFYEBSLLe0GklgQLovZ7arSWBA2qm53GBUYEDRsBh1rVdgQCS2uwfoV2BA2nQEcLNiYEDuzATDuWVgQCeIug9AiWBAdvusMlPUYkBXs874PtViQLb3qSq0CWNALNZwkfsVY0APuK6YkTJjQDzbozdcO2NAKNcUyGxCY0A8aHbdW0djQBNGs7J9U2NAXHfzVAdUY0C+Ed2zLmxjQPMBgc4kemNAAvVm1Px6Y0DM8J9uIIJjQEj5SbVPimNARbjJqLKNY0A0go3rX6NjQMAJhQi4p2NA88ZJYd6nY0DL9baZisFjQIl9AijGwmNAE4JV9XIHZEB6Oey+Y0BkQCpxHeOKBmVA/89hvjwmZUCEtwchoCdmQDwUBfrENGZAOgK4WbxkZkBA3xYsVbZmQFG9NbBVv2ZAHlN3ZZcFaEA=",
          "dtype": "f8"
         },
         "y": {
          "bdata": "syJxhbtP4z9O+7HTvYfoP0PgaQan5ec/5JQSNiVq6D/4OdSS1UrnP3JRCW9Nj+g/PgkC8Z6j6D/2OaoVNaToP9b5anrBv+g/bXMTTqug6D9+kMqjsKjoPy5P3AtnrOg/ilBQTCah6D9mtvF2ma/XP3bZSAn+GNc/57tyaiEt2T/JjQaJ94jjP+6ze3YZN+c/2p/YDO3D6D96G/3QKNnoP8Fy42TXqug/pQ27uj6h6D8U+z9R0tPoP2WjJWyrdeg/k3InUczf6D/Y8BN96+XnP55BdiiO3eg/ygn19HOr6D9Y534/PtboP1dBbd9LVec/U9GGPnWH6D+93dYbOwHoP3oTMd1xAuc/KqgWqYwX6D/H8VT5PuToP3SuDTVsheg/pLyBScra6D83zrKtlr/oP4ZiBdFI5+g/3q7kB+5T6D+4PTBSRt/oPx7X6YEd5Og/9bDIstfW6D+UNhw9UevoP4okMG9w5ug/j5HXpl3h6D/wXYdlpe3oP+XgiC0u4ug/Leh5DhHe6D9eF80r1eXoP9aaQgfO2Og/vidwXtLg6D/ScA5UPe3oPzlz0wfX6eg/KIf8uH3f6D9RU8Nu+NroP1lRIxDL5+g/mpjaFvbZ6D/lkTny9dvoPzr2RjLf4Og/Tj/PDYvY6D+2mGBMT+DoP04SU6z+2Og/KphDE8vc6D9ahgEMwczoPx4Ol31k2+g/bar62szb6D+zv8athOLoPwXJLRBMzug/YYJMRDi56D8W+XnQ5NjoP+Os6T0U3Og/HRjufEHU5z8Yz4hDctXoP0JcopKj5eg/ueXOtrbi6D93HQMCPN/oPzMOPw16x+g/AhAfIzzN6D/7VfjZiM/oP87UD5xt1eg/2ByxFU2I6D/ocO85qeToP8mag/7I1+g/j+gR05O+6D+SYJWR4tnoP6LOBhJS5Og/Z0o66Rri6D/I6KHMadroP2NROdsG0Og/rS8dUHzU6D9W/uJS1szoP3NTeurP1Og/Se2JtSRM6D+lraQ5oKToP9L/nN0HyOg/MW44b77E6D924HgQJ8LoP8cuA2ay1eg/15FYV1Hc6D8=",
          "dtype": "f8"
         }
        },
        {
         "legendgroup": "0",
         "marker": {
          "color": "#636EFA",
          "line": {
           "color": "black",
           "width": 2
          },
          "size": 10
         },
         "mode": "markers",
         "name": "Лучшее: LogisticRegression",
         "showlegend": false,
         "type": "scatter",
         "x": [
          128.257361
         ],
         "y": [
          0.7790095313056877
         ]
        }
       ],
       "layout": {
        "height": 500,
        "showlegend": true,
        "template": {
         "data": {
          "bar": [
           {
            "error_x": {
             "color": "#2a3f5f"
            },
            "error_y": {
             "color": "#2a3f5f"
            },
            "marker": {
             "line": {
              "color": "white",
              "width": 0.5
             },
             "pattern": {
              "fillmode": "overlay",
              "size": 10,
              "solidity": 0.2
             }
            },
            "type": "bar"
           }
          ],
          "barpolar": [
           {
            "marker": {
             "line": {
              "color": "white",
              "width": 0.5
             },
             "pattern": {
              "fillmode": "overlay",
              "size": 10,
              "solidity": 0.2
             }
            },
            "type": "barpolar"
           }
          ],
          "carpet": [
           {
            "aaxis": {
             "endlinecolor": "#2a3f5f",
             "gridcolor": "#C8D4E3",
             "linecolor": "#C8D4E3",
             "minorgridcolor": "#C8D4E3",
             "startlinecolor": "#2a3f5f"
            },
            "baxis": {
             "endlinecolor": "#2a3f5f",
             "gridcolor": "#C8D4E3",
             "linecolor": "#C8D4E3",
             "minorgridcolor": "#C8D4E3",
             "startlinecolor": "#2a3f5f"
            },
            "type": "carpet"
           }
          ],
          "choropleth": [
           {
            "colorbar": {
             "outlinewidth": 0,
             "ticks": ""
            },
            "type": "choropleth"
           }
          ],
          "contour": [
           {
            "colorbar": {
             "outlinewidth": 0,
             "ticks": ""
            },
            "colorscale": [
             [
              0,
              "#0d0887"
             ],
             [
              0.1111111111111111,
              "#46039f"
             ],
             [
              0.2222222222222222,
              "#7201a8"
             ],
             [
              0.3333333333333333,
              "#9c179e"
             ],
             [
              0.4444444444444444,
              "#bd3786"
             ],
             [
              0.5555555555555556,
              "#d8576b"
             ],
             [
              0.6666666666666666,
              "#ed7953"
             ],
             [
              0.7777777777777778,
              "#fb9f3a"
             ],
             [
              0.8888888888888888,
              "#fdca26"
             ],
             [
              1,
              "#f0f921"
             ]
            ],
            "type": "contour"
           }
          ],
          "contourcarpet": [
           {
            "colorbar": {
             "outlinewidth": 0,
             "ticks": ""
            },
            "type": "contourcarpet"
           }
          ],
          "heatmap": [
           {
            "colorbar": {
             "outlinewidth": 0,
             "ticks": ""
            },
            "colorscale": [
             [
              0,
              "#0d0887"
             ],
             [
              0.1111111111111111,
              "#46039f"
             ],
             [
              0.2222222222222222,
              "#7201a8"
             ],
             [
              0.3333333333333333,
              "#9c179e"
             ],
             [
              0.4444444444444444,
              "#bd3786"
             ],
             [
              0.5555555555555556,
              "#d8576b"
             ],
             [
              0.6666666666666666,
              "#ed7953"
             ],
             [
              0.7777777777777778,
              "#fb9f3a"
             ],
             [
              0.8888888888888888,
              "#fdca26"
             ],
             [
              1,
              "#f0f921"
             ]
            ],
            "type": "heatmap"
           }
          ],
          "histogram": [
           {
            "marker": {
             "pattern": {
              "fillmode": "overlay",
              "size": 10,
              "solidity": 0.2
             }
            },
            "type": "histogram"
           }
          ],
          "histogram2d": [
           {
            "colorbar": {
             "outlinewidth": 0,
             "ticks": ""
            },
            "colorscale": [
             [
              0,
              "#0d0887"
             ],
             [
              0.1111111111111111,
              "#46039f"
             ],
             [
              0.2222222222222222,
              "#7201a8"
             ],
             [
              0.3333333333333333,
              "#9c179e"
             ],
             [
              0.4444444444444444,
              "#bd3786"
             ],
             [
              0.5555555555555556,
              "#d8576b"
             ],
             [
              0.6666666666666666,
              "#ed7953"
             ],
             [
              0.7777777777777778,
              "#fb9f3a"
             ],
             [
              0.8888888888888888,
              "#fdca26"
             ],
             [
              1,
              "#f0f921"
             ]
            ],
            "type": "histogram2d"
           }
          ],
          "histogram2dcontour": [
           {
            "colorbar": {
             "outlinewidth": 0,
             "ticks": ""
            },
            "colorscale": [
             [
              0,
              "#0d0887"
             ],
             [
              0.1111111111111111,
              "#46039f"
             ],
             [
              0.2222222222222222,
              "#7201a8"
             ],
             [
              0.3333333333333333,
              "#9c179e"
             ],
             [
              0.4444444444444444,
              "#bd3786"
             ],
             [
              0.5555555555555556,
              "#d8576b"
             ],
             [
              0.6666666666666666,
              "#ed7953"
             ],
             [
              0.7777777777777778,
              "#fb9f3a"
             ],
             [
              0.8888888888888888,
              "#fdca26"
             ],
             [
              1,
              "#f0f921"
             ]
            ],
            "type": "histogram2dcontour"
           }
          ],
          "mesh3d": [
           {
            "colorbar": {
             "outlinewidth": 0,
             "ticks": ""
            },
            "type": "mesh3d"
           }
          ],
          "parcoords": [
           {
            "line": {
             "colorbar": {
              "outlinewidth": 0,
              "ticks": ""
             }
            },
            "type": "parcoords"
           }
          ],
          "pie": [
           {
            "automargin": true,
            "type": "pie"
           }
          ],
          "scatter": [
           {
            "fillpattern": {
             "fillmode": "overlay",
             "size": 10,
             "solidity": 0.2
            },
            "type": "scatter"
           }
          ],
          "scatter3d": [
           {
            "line": {
             "colorbar": {
              "outlinewidth": 0,
              "ticks": ""
             }
            },
            "marker": {
             "colorbar": {
              "outlinewidth": 0,
              "ticks": ""
             }
            },
            "type": "scatter3d"
           }
          ],
          "scattercarpet": [
           {
            "marker": {
             "colorbar": {
              "outlinewidth": 0,
              "ticks": ""
             }
            },
            "type": "scattercarpet"
           }
          ],
          "scattergeo": [
           {
            "marker": {
             "colorbar": {
              "outlinewidth": 0,
              "ticks": ""
             }
            },
            "type": "scattergeo"
           }
          ],
          "scattergl": [
           {
            "marker": {
             "colorbar": {
              "outlinewidth": 0,
              "ticks": ""
             }
            },
            "type": "scattergl"
           }
          ],
          "scattermap": [
           {
            "marker": {
             "colorbar": {
              "outlinewidth": 0,
              "ticks": ""
             }
            },
            "type": "scattermap"
           }
          ],
          "scattermapbox": [
           {
            "marker": {
             "colorbar": {
              "outlinewidth": 0,
              "ticks": ""
             }
            },
            "type": "scattermapbox"
           }
          ],
          "scatterpolar": [
           {
            "marker": {
             "colorbar": {
              "outlinewidth": 0,
              "ticks": ""
             }
            },
            "type": "scatterpolar"
           }
          ],
          "scatterpolargl": [
           {
            "marker": {
             "colorbar": {
              "outlinewidth": 0,
              "ticks": ""
             }
            },
            "type": "scatterpolargl"
           }
          ],
          "scatterternary": [
           {
            "marker": {
             "colorbar": {
              "outlinewidth": 0,
              "ticks": ""
             }
            },
            "type": "scatterternary"
           }
          ],
          "surface": [
           {
            "colorbar": {
             "outlinewidth": 0,
             "ticks": ""
            },
            "colorscale": [
             [
              0,
              "#0d0887"
             ],
             [
              0.1111111111111111,
              "#46039f"
             ],
             [
              0.2222222222222222,
              "#7201a8"
             ],
             [
              0.3333333333333333,
              "#9c179e"
             ],
             [
              0.4444444444444444,
              "#bd3786"
             ],
             [
              0.5555555555555556,
              "#d8576b"
             ],
             [
              0.6666666666666666,
              "#ed7953"
             ],
             [
              0.7777777777777778,
              "#fb9f3a"
             ],
             [
              0.8888888888888888,
              "#fdca26"
             ],
             [
              1,
              "#f0f921"
             ]
            ],
            "type": "surface"
           }
          ],
          "table": [
           {
            "cells": {
             "fill": {
              "color": "#EBF0F8"
             },
             "line": {
              "color": "white"
             }
            },
            "header": {
             "fill": {
              "color": "#C8D4E3"
             },
             "line": {
              "color": "white"
             }
            },
            "type": "table"
           }
          ]
         },
         "layout": {
          "annotationdefaults": {
           "arrowcolor": "#2a3f5f",
           "arrowhead": 0,
           "arrowwidth": 1
          },
          "autotypenumbers": "strict",
          "coloraxis": {
           "colorbar": {
            "outlinewidth": 0,
            "ticks": ""
           }
          },
          "colorscale": {
           "diverging": [
            [
             0,
             "#8e0152"
            ],
            [
             0.1,
             "#c51b7d"
            ],
            [
             0.2,
             "#de77ae"
            ],
            [
             0.3,
             "#f1b6da"
            ],
            [
             0.4,
             "#fde0ef"
            ],
            [
             0.5,
             "#f7f7f7"
            ],
            [
             0.6,
             "#e6f5d0"
            ],
            [
             0.7,
             "#b8e186"
            ],
            [
             0.8,
             "#7fbc41"
            ],
            [
             0.9,
             "#4d9221"
            ],
            [
             1,
             "#276419"
            ]
           ],
           "sequential": [
            [
             0,
             "#0d0887"
            ],
            [
             0.1111111111111111,
             "#46039f"
            ],
            [
             0.2222222222222222,
             "#7201a8"
            ],
            [
             0.3333333333333333,
             "#9c179e"
            ],
            [
             0.4444444444444444,
             "#bd3786"
            ],
            [
             0.5555555555555556,
             "#d8576b"
            ],
            [
             0.6666666666666666,
             "#ed7953"
            ],
            [
             0.7777777777777778,
             "#fb9f3a"
            ],
            [
             0.8888888888888888,
             "#fdca26"
            ],
            [
             1,
             "#f0f921"
            ]
           ],
           "sequentialminus": [
            [
             0,
             "#0d0887"
            ],
            [
             0.1111111111111111,
             "#46039f"
            ],
            [
             0.2222222222222222,
             "#7201a8"
            ],
            [
             0.3333333333333333,
             "#9c179e"
            ],
            [
             0.4444444444444444,
             "#bd3786"
            ],
            [
             0.5555555555555556,
             "#d8576b"
            ],
            [
             0.6666666666666666,
             "#ed7953"
            ],
            [
             0.7777777777777778,
             "#fb9f3a"
            ],
            [
             0.8888888888888888,
             "#fdca26"
            ],
            [
             1,
             "#f0f921"
            ]
           ]
          },
          "colorway": [
           "#636efa",
           "#EF553B",
           "#00cc96",
           "#ab63fa",
           "#FFA15A",
           "#19d3f3",
           "#FF6692",
           "#B6E880",
           "#FF97FF",
           "#FECB52"
          ],
          "font": {
           "color": "#2a3f5f"
          },
          "geo": {
           "bgcolor": "white",
           "lakecolor": "white",
           "landcolor": "white",
           "showlakes": true,
           "showland": true,
           "subunitcolor": "#C8D4E3"
          },
          "hoverlabel": {
           "align": "left"
          },
          "hovermode": "closest",
          "mapbox": {
           "style": "light"
          },
          "paper_bgcolor": "white",
          "plot_bgcolor": "white",
          "polar": {
           "angularaxis": {
            "gridcolor": "#EBF0F8",
            "linecolor": "#EBF0F8",
            "ticks": ""
           },
           "bgcolor": "white",
           "radialaxis": {
            "gridcolor": "#EBF0F8",
            "linecolor": "#EBF0F8",
            "ticks": ""
           }
          },
          "scene": {
           "xaxis": {
            "backgroundcolor": "white",
            "gridcolor": "#DFE8F3",
            "gridwidth": 2,
            "linecolor": "#EBF0F8",
            "showbackground": true,
            "ticks": "",
            "zerolinecolor": "#EBF0F8"
           },
           "yaxis": {
            "backgroundcolor": "white",
            "gridcolor": "#DFE8F3",
            "gridwidth": 2,
            "linecolor": "#EBF0F8",
            "showbackground": true,
            "ticks": "",
            "zerolinecolor": "#EBF0F8"
           },
           "zaxis": {
            "backgroundcolor": "white",
            "gridcolor": "#DFE8F3",
            "gridwidth": 2,
            "linecolor": "#EBF0F8",
            "showbackground": true,
            "ticks": "",
            "zerolinecolor": "#EBF0F8"
           }
          },
          "shapedefaults": {
           "line": {
            "color": "#2a3f5f"
           }
          },
          "ternary": {
           "aaxis": {
            "gridcolor": "#DFE8F3",
            "linecolor": "#A2B1C6",
            "ticks": ""
           },
           "baxis": {
            "gridcolor": "#DFE8F3",
            "linecolor": "#A2B1C6",
            "ticks": ""
           },
           "bgcolor": "white",
           "caxis": {
            "gridcolor": "#DFE8F3",
            "linecolor": "#A2B1C6",
            "ticks": ""
           }
          },
          "title": {
           "x": 0.05
          },
          "xaxis": {
           "automargin": true,
           "gridcolor": "#EBF0F8",
           "linecolor": "#EBF0F8",
           "ticks": "",
           "title": {
            "standoff": 15
           },
           "zerolinecolor": "#EBF0F8",
           "zerolinewidth": 2
          },
          "yaxis": {
           "automargin": true,
           "gridcolor": "#EBF0F8",
           "linecolor": "#EBF0F8",
           "ticks": "",
           "title": {
            "standoff": 15
           },
           "zerolinecolor": "#EBF0F8",
           "zerolinewidth": 2
          }
         }
        },
        "title": {
         "text": "F1 в зависимости от времени трейла"
        },
        "width": 800,
        "xaxis": {
         "title": {
          "text": "Время выполнения трейла (сек)"
         }
        },
        "yaxis": {
         "title": {
          "text": "F1"
         }
        }
       }
      }
     },
     "metadata": {},
     "output_type": "display_data"
    },
    {
     "data": {
      "application/vnd.plotly.v1+json": {
       "config": {
        "plotlyServerURL": "https://plot.ly"
       },
       "data": [
        {
         "legendgroup": "0",
         "legendgrouptitle": {
          "text": "LogisticRegression"
         },
         "marker": {
          "color": "#EF553B"
         },
         "name": "LogisticRegression",
         "nbinsx": 300,
         "opacity": 0.6,
         "type": "histogram",
         "x": {
          "bdata": "syJxhbtP4z9mtvF2ma/XP73d1hs7Aeg/Q+BpBqfl5z/us3t2GTfnP8cuA2ay1eg/+DnUktVK5z/JjQaJ94jjP4pQUEwmoeg/57tyaiEt2T8W+XnQ5NjoP7nlzra24ug/j+gR05O+6D9hgkxEOLnoPzMOPw16x+g/2ByxFU2I6D+SYJWR4tnoPxT7P1HS0+g/clEJb02P6D9J7Ym1JEzoP/tV+NmIz+g/Z0o66Rri6D/jrOk9FNzoPzfOsq2Wv+g/pa2kOaCk6D8CEB8jPM3oP+SUEjYlaug/dx0DAjzf6D/S/5zdB8joP9b5anrBv+g/3q7kB+5T6D+izgYSUuToP3NTeurP1Og/15FYV1Hc6D9W/uJS1szoP8oJ9fRzq+g/duB4ECfC6D8uT9wLZ6zoP7aYYExP4Og/pQ27uj6h6D9O+7HTvYfoP04/zw2L2Og/KIf8uH3f6D+TcidRzN/oP9jwE33r5ec/ehv90CjZ6D9Y534/PtboP8Fy42TXqug/2p/YDO3D6D90rg01bIXoP55BdiiO3eg/5ZE58vXb6D/1sMiy19boP4ZiBdFI5+g/WoYBDMHM6D8Yz4hDctXoPx0Y7nxB1Oc/bXMTTqug6D+tLx1QfNToP1dBbd9LVec/ZaMlbKt16D9ZUSMQy+foP4+R16Zd4eg/5eCILS7i6D+KJDBvcOboPzlz0wfX6eg/ThJTrP7Y6D8qqBapjBfoP/Y5qhU1pOg/Hg6XfWTb6D8FyS0QTM7oP0JcopKj5eg/uD0wUkbf6D/ocO85qeToP8joocxp2ug/yZqD/sjX6D922UgJ/hjXP2NROdsG0Og/MW44b77E6D9+kMqjsKjoP87UD5xt1eg/HtfpgR3k6D/wXYdlpe3oP8fxVPk+5Og/s7/GrYTi6D8qmEMTy9zoP74ncF7S4Og/OvZGMt/g6D8t6HkOEd7oP1PRhj51h+g/UVPDbvja6D/ScA5UPe3oP14XzSvV5eg/lDYcPVHr6D96EzHdcQLnP9aaQgfO2Og/pLyBScra6D9tqvrazNvoPz4JAvGeo+g/mpjaFvbZ6D8=",
          "dtype": "f8"
         }
        }
       ],
       "layout": {
        "barmode": "overlay",
        "height": 500,
        "showlegend": true,
        "template": {
         "data": {
          "bar": [
           {
            "error_x": {
             "color": "#2a3f5f"
            },
            "error_y": {
             "color": "#2a3f5f"
            },
            "marker": {
             "line": {
              "color": "white",
              "width": 0.5
             },
             "pattern": {
              "fillmode": "overlay",
              "size": 10,
              "solidity": 0.2
             }
            },
            "type": "bar"
           }
          ],
          "barpolar": [
           {
            "marker": {
             "line": {
              "color": "white",
              "width": 0.5
             },
             "pattern": {
              "fillmode": "overlay",
              "size": 10,
              "solidity": 0.2
             }
            },
            "type": "barpolar"
           }
          ],
          "carpet": [
           {
            "aaxis": {
             "endlinecolor": "#2a3f5f",
             "gridcolor": "#C8D4E3",
             "linecolor": "#C8D4E3",
             "minorgridcolor": "#C8D4E3",
             "startlinecolor": "#2a3f5f"
            },
            "baxis": {
             "endlinecolor": "#2a3f5f",
             "gridcolor": "#C8D4E3",
             "linecolor": "#C8D4E3",
             "minorgridcolor": "#C8D4E3",
             "startlinecolor": "#2a3f5f"
            },
            "type": "carpet"
           }
          ],
          "choropleth": [
           {
            "colorbar": {
             "outlinewidth": 0,
             "ticks": ""
            },
            "type": "choropleth"
           }
          ],
          "contour": [
           {
            "colorbar": {
             "outlinewidth": 0,
             "ticks": ""
            },
            "colorscale": [
             [
              0,
              "#0d0887"
             ],
             [
              0.1111111111111111,
              "#46039f"
             ],
             [
              0.2222222222222222,
              "#7201a8"
             ],
             [
              0.3333333333333333,
              "#9c179e"
             ],
             [
              0.4444444444444444,
              "#bd3786"
             ],
             [
              0.5555555555555556,
              "#d8576b"
             ],
             [
              0.6666666666666666,
              "#ed7953"
             ],
             [
              0.7777777777777778,
              "#fb9f3a"
             ],
             [
              0.8888888888888888,
              "#fdca26"
             ],
             [
              1,
              "#f0f921"
             ]
            ],
            "type": "contour"
           }
          ],
          "contourcarpet": [
           {
            "colorbar": {
             "outlinewidth": 0,
             "ticks": ""
            },
            "type": "contourcarpet"
           }
          ],
          "heatmap": [
           {
            "colorbar": {
             "outlinewidth": 0,
             "ticks": ""
            },
            "colorscale": [
             [
              0,
              "#0d0887"
             ],
             [
              0.1111111111111111,
              "#46039f"
             ],
             [
              0.2222222222222222,
              "#7201a8"
             ],
             [
              0.3333333333333333,
              "#9c179e"
             ],
             [
              0.4444444444444444,
              "#bd3786"
             ],
             [
              0.5555555555555556,
              "#d8576b"
             ],
             [
              0.6666666666666666,
              "#ed7953"
             ],
             [
              0.7777777777777778,
              "#fb9f3a"
             ],
             [
              0.8888888888888888,
              "#fdca26"
             ],
             [
              1,
              "#f0f921"
             ]
            ],
            "type": "heatmap"
           }
          ],
          "histogram": [
           {
            "marker": {
             "pattern": {
              "fillmode": "overlay",
              "size": 10,
              "solidity": 0.2
             }
            },
            "type": "histogram"
           }
          ],
          "histogram2d": [
           {
            "colorbar": {
             "outlinewidth": 0,
             "ticks": ""
            },
            "colorscale": [
             [
              0,
              "#0d0887"
             ],
             [
              0.1111111111111111,
              "#46039f"
             ],
             [
              0.2222222222222222,
              "#7201a8"
             ],
             [
              0.3333333333333333,
              "#9c179e"
             ],
             [
              0.4444444444444444,
              "#bd3786"
             ],
             [
              0.5555555555555556,
              "#d8576b"
             ],
             [
              0.6666666666666666,
              "#ed7953"
             ],
             [
              0.7777777777777778,
              "#fb9f3a"
             ],
             [
              0.8888888888888888,
              "#fdca26"
             ],
             [
              1,
              "#f0f921"
             ]
            ],
            "type": "histogram2d"
           }
          ],
          "histogram2dcontour": [
           {
            "colorbar": {
             "outlinewidth": 0,
             "ticks": ""
            },
            "colorscale": [
             [
              0,
              "#0d0887"
             ],
             [
              0.1111111111111111,
              "#46039f"
             ],
             [
              0.2222222222222222,
              "#7201a8"
             ],
             [
              0.3333333333333333,
              "#9c179e"
             ],
             [
              0.4444444444444444,
              "#bd3786"
             ],
             [
              0.5555555555555556,
              "#d8576b"
             ],
             [
              0.6666666666666666,
              "#ed7953"
             ],
             [
              0.7777777777777778,
              "#fb9f3a"
             ],
             [
              0.8888888888888888,
              "#fdca26"
             ],
             [
              1,
              "#f0f921"
             ]
            ],
            "type": "histogram2dcontour"
           }
          ],
          "mesh3d": [
           {
            "colorbar": {
             "outlinewidth": 0,
             "ticks": ""
            },
            "type": "mesh3d"
           }
          ],
          "parcoords": [
           {
            "line": {
             "colorbar": {
              "outlinewidth": 0,
              "ticks": ""
             }
            },
            "type": "parcoords"
           }
          ],
          "pie": [
           {
            "automargin": true,
            "type": "pie"
           }
          ],
          "scatter": [
           {
            "fillpattern": {
             "fillmode": "overlay",
             "size": 10,
             "solidity": 0.2
            },
            "type": "scatter"
           }
          ],
          "scatter3d": [
           {
            "line": {
             "colorbar": {
              "outlinewidth": 0,
              "ticks": ""
             }
            },
            "marker": {
             "colorbar": {
              "outlinewidth": 0,
              "ticks": ""
             }
            },
            "type": "scatter3d"
           }
          ],
          "scattercarpet": [
           {
            "marker": {
             "colorbar": {
              "outlinewidth": 0,
              "ticks": ""
             }
            },
            "type": "scattercarpet"
           }
          ],
          "scattergeo": [
           {
            "marker": {
             "colorbar": {
              "outlinewidth": 0,
              "ticks": ""
             }
            },
            "type": "scattergeo"
           }
          ],
          "scattergl": [
           {
            "marker": {
             "colorbar": {
              "outlinewidth": 0,
              "ticks": ""
             }
            },
            "type": "scattergl"
           }
          ],
          "scattermap": [
           {
            "marker": {
             "colorbar": {
              "outlinewidth": 0,
              "ticks": ""
             }
            },
            "type": "scattermap"
           }
          ],
          "scattermapbox": [
           {
            "marker": {
             "colorbar": {
              "outlinewidth": 0,
              "ticks": ""
             }
            },
            "type": "scattermapbox"
           }
          ],
          "scatterpolar": [
           {
            "marker": {
             "colorbar": {
              "outlinewidth": 0,
              "ticks": ""
             }
            },
            "type": "scatterpolar"
           }
          ],
          "scatterpolargl": [
           {
            "marker": {
             "colorbar": {
              "outlinewidth": 0,
              "ticks": ""
             }
            },
            "type": "scatterpolargl"
           }
          ],
          "scatterternary": [
           {
            "marker": {
             "colorbar": {
              "outlinewidth": 0,
              "ticks": ""
             }
            },
            "type": "scatterternary"
           }
          ],
          "surface": [
           {
            "colorbar": {
             "outlinewidth": 0,
             "ticks": ""
            },
            "colorscale": [
             [
              0,
              "#0d0887"
             ],
             [
              0.1111111111111111,
              "#46039f"
             ],
             [
              0.2222222222222222,
              "#7201a8"
             ],
             [
              0.3333333333333333,
              "#9c179e"
             ],
             [
              0.4444444444444444,
              "#bd3786"
             ],
             [
              0.5555555555555556,
              "#d8576b"
             ],
             [
              0.6666666666666666,
              "#ed7953"
             ],
             [
              0.7777777777777778,
              "#fb9f3a"
             ],
             [
              0.8888888888888888,
              "#fdca26"
             ],
             [
              1,
              "#f0f921"
             ]
            ],
            "type": "surface"
           }
          ],
          "table": [
           {
            "cells": {
             "fill": {
              "color": "#EBF0F8"
             },
             "line": {
              "color": "white"
             }
            },
            "header": {
             "fill": {
              "color": "#C8D4E3"
             },
             "line": {
              "color": "white"
             }
            },
            "type": "table"
           }
          ]
         },
         "layout": {
          "annotationdefaults": {
           "arrowcolor": "#2a3f5f",
           "arrowhead": 0,
           "arrowwidth": 1
          },
          "autotypenumbers": "strict",
          "coloraxis": {
           "colorbar": {
            "outlinewidth": 0,
            "ticks": ""
           }
          },
          "colorscale": {
           "diverging": [
            [
             0,
             "#8e0152"
            ],
            [
             0.1,
             "#c51b7d"
            ],
            [
             0.2,
             "#de77ae"
            ],
            [
             0.3,
             "#f1b6da"
            ],
            [
             0.4,
             "#fde0ef"
            ],
            [
             0.5,
             "#f7f7f7"
            ],
            [
             0.6,
             "#e6f5d0"
            ],
            [
             0.7,
             "#b8e186"
            ],
            [
             0.8,
             "#7fbc41"
            ],
            [
             0.9,
             "#4d9221"
            ],
            [
             1,
             "#276419"
            ]
           ],
           "sequential": [
            [
             0,
             "#0d0887"
            ],
            [
             0.1111111111111111,
             "#46039f"
            ],
            [
             0.2222222222222222,
             "#7201a8"
            ],
            [
             0.3333333333333333,
             "#9c179e"
            ],
            [
             0.4444444444444444,
             "#bd3786"
            ],
            [
             0.5555555555555556,
             "#d8576b"
            ],
            [
             0.6666666666666666,
             "#ed7953"
            ],
            [
             0.7777777777777778,
             "#fb9f3a"
            ],
            [
             0.8888888888888888,
             "#fdca26"
            ],
            [
             1,
             "#f0f921"
            ]
           ],
           "sequentialminus": [
            [
             0,
             "#0d0887"
            ],
            [
             0.1111111111111111,
             "#46039f"
            ],
            [
             0.2222222222222222,
             "#7201a8"
            ],
            [
             0.3333333333333333,
             "#9c179e"
            ],
            [
             0.4444444444444444,
             "#bd3786"
            ],
            [
             0.5555555555555556,
             "#d8576b"
            ],
            [
             0.6666666666666666,
             "#ed7953"
            ],
            [
             0.7777777777777778,
             "#fb9f3a"
            ],
            [
             0.8888888888888888,
             "#fdca26"
            ],
            [
             1,
             "#f0f921"
            ]
           ]
          },
          "colorway": [
           "#636efa",
           "#EF553B",
           "#00cc96",
           "#ab63fa",
           "#FFA15A",
           "#19d3f3",
           "#FF6692",
           "#B6E880",
           "#FF97FF",
           "#FECB52"
          ],
          "font": {
           "color": "#2a3f5f"
          },
          "geo": {
           "bgcolor": "white",
           "lakecolor": "white",
           "landcolor": "white",
           "showlakes": true,
           "showland": true,
           "subunitcolor": "#C8D4E3"
          },
          "hoverlabel": {
           "align": "left"
          },
          "hovermode": "closest",
          "mapbox": {
           "style": "light"
          },
          "paper_bgcolor": "white",
          "plot_bgcolor": "white",
          "polar": {
           "angularaxis": {
            "gridcolor": "#EBF0F8",
            "linecolor": "#EBF0F8",
            "ticks": ""
           },
           "bgcolor": "white",
           "radialaxis": {
            "gridcolor": "#EBF0F8",
            "linecolor": "#EBF0F8",
            "ticks": ""
           }
          },
          "scene": {
           "xaxis": {
            "backgroundcolor": "white",
            "gridcolor": "#DFE8F3",
            "gridwidth": 2,
            "linecolor": "#EBF0F8",
            "showbackground": true,
            "ticks": "",
            "zerolinecolor": "#EBF0F8"
           },
           "yaxis": {
            "backgroundcolor": "white",
            "gridcolor": "#DFE8F3",
            "gridwidth": 2,
            "linecolor": "#EBF0F8",
            "showbackground": true,
            "ticks": "",
            "zerolinecolor": "#EBF0F8"
           },
           "zaxis": {
            "backgroundcolor": "white",
            "gridcolor": "#DFE8F3",
            "gridwidth": 2,
            "linecolor": "#EBF0F8",
            "showbackground": true,
            "ticks": "",
            "zerolinecolor": "#EBF0F8"
           }
          },
          "shapedefaults": {
           "line": {
            "color": "#2a3f5f"
           }
          },
          "ternary": {
           "aaxis": {
            "gridcolor": "#DFE8F3",
            "linecolor": "#A2B1C6",
            "ticks": ""
           },
           "baxis": {
            "gridcolor": "#DFE8F3",
            "linecolor": "#A2B1C6",
            "ticks": ""
           },
           "bgcolor": "white",
           "caxis": {
            "gridcolor": "#DFE8F3",
            "linecolor": "#A2B1C6",
            "ticks": ""
           }
          },
          "title": {
           "x": 0.05
          },
          "xaxis": {
           "automargin": true,
           "gridcolor": "#EBF0F8",
           "linecolor": "#EBF0F8",
           "ticks": "",
           "title": {
            "standoff": 15
           },
           "zerolinecolor": "#EBF0F8",
           "zerolinewidth": 2
          },
          "yaxis": {
           "automargin": true,
           "gridcolor": "#EBF0F8",
           "linecolor": "#EBF0F8",
           "ticks": "",
           "title": {
            "standoff": 15
           },
           "zerolinecolor": "#EBF0F8",
           "zerolinewidth": 2
          }
         }
        },
        "title": {
         "text": "Распределение значений метрики F1"
        },
        "width": 800,
        "xaxis": {
         "range": [
          0.725,
          0.78
         ],
         "title": {
          "text": "F1"
         }
        },
        "yaxis": {
         "title": {
          "text": "Количество трейлов"
         }
        }
       }
      }
     },
     "metadata": {},
     "output_type": "display_data"
    }
   ],
   "source": [
    "plot_param_importances(study_logreg).update_layout(width=800, height=500).show()\n",
    "trial_duration_performance(study_logreg, model_names=['LogisticRegression'])\n",
    "trial_score_distribution(study_logreg,\n",
    "                         model_names=['LogisticRegression'],\n",
    "                         nbinsx={'LogisticRegression': 300},\n",
    "                         xrange=(0.725, 0.78))"
   ]
  },
  {
   "cell_type": "markdown",
   "metadata": {},
   "source": [
    "- Важность гиперпараметров\n",
    "    - Наибольшее влияние на качество модели оказывает параметр model__C (вес регуляризации), его важность составляет 0.69.\n",
    "    - Далее по значимости — preprocessor__vectorizer (тип векторизации), с важностью 0.26.\n",
    "- Зависимость F1 от времени выполнения трейла\n",
    "    - На графике зависимости F1 от времени трейла видно, что модель достаточно стабильна: большинство трейлов дают результат выше 0.76, вне зависимости от времени выполнения.\n",
    "    - Лучшее значение F1 ≈ 0.78, при сравнительно небольшом времени работы (< 100 секунд).\n",
    "    - Это указывает на эффективность Logistic Regression — хорошее качество при малых затратах ресурсов.\n",
    "- Распределение значений метрики F1\n",
    "    - Распределение значений F1 метрики имеет сильный сдвиг вправо, большая часть значений находится в диапазоне 0.77–0.78.\n",
    "    - Это говорит о том, что большинство конфигураций гиперпараметров дают сходное, высокое качество, а значит модель устойчива к выбору гиперпараметров."
   ]
  },
  {
   "cell_type": "markdown",
   "metadata": {},
   "source": [
    "_____\n",
    "### <a id='toc1_6_6_'></a>[PassiveAggressiveClassifier](#toc0_)"
   ]
  },
  {
   "cell_type": "code",
   "execution_count": 26,
   "metadata": {},
   "outputs": [],
   "source": [
    "pipeline = get_pipepline(\n",
    "    lemm_column=X.columns[0],\n",
    ")\n",
    "model_params_cat = {\n",
    "    'model': [PassiveAggressiveClassifier(n_jobs=2, random_state=RANDOM_STATE)],\n",
    "    'model__loss': ['hinge', 'squared_hinge'],\n",
    "    'preprocessor__vectorizer__ngram_range': [(1, 1), (1, 2)],\n",
    "}\n",
    "model_params_num = {\n",
    "    'model__C': lambda trial: trial.suggest_float('model__C', 0.1, 10, log=True),\n",
    "    'model__max_iter': lambda trial: trial.suggest_int('model__max_iter', 100, 300, step=50),\n",
    "}"
   ]
  },
  {
   "cell_type": "code",
   "execution_count": 27,
   "metadata": {},
   "outputs": [],
   "source": [
    "study_palogreg = get_trained_optuna_study('palogreg', restudy=False, direction='maximize')"
   ]
  },
  {
   "cell_type": "code",
   "execution_count": 28,
   "metadata": {},
   "outputs": [
    {
     "name": "stdout",
     "output_type": "stream",
     "text": [
      "Best cross-val f1: 0.794\n"
     ]
    },
    {
     "data": {
      "text/html": [
       "<style>#sk-container-id-2 {color: black;background-color: white;}#sk-container-id-2 pre{padding: 0;}#sk-container-id-2 div.sk-toggleable {background-color: white;}#sk-container-id-2 label.sk-toggleable__label {cursor: pointer;display: block;width: 100%;margin-bottom: 0;padding: 0.3em;box-sizing: border-box;text-align: center;}#sk-container-id-2 label.sk-toggleable__label-arrow:before {content: \"▸\";float: left;margin-right: 0.25em;color: #696969;}#sk-container-id-2 label.sk-toggleable__label-arrow:hover:before {color: black;}#sk-container-id-2 div.sk-estimator:hover label.sk-toggleable__label-arrow:before {color: black;}#sk-container-id-2 div.sk-toggleable__content {max-height: 0;max-width: 0;overflow: hidden;text-align: left;background-color: #f0f8ff;}#sk-container-id-2 div.sk-toggleable__content pre {margin: 0.2em;color: black;border-radius: 0.25em;background-color: #f0f8ff;}#sk-container-id-2 input.sk-toggleable__control:checked~div.sk-toggleable__content {max-height: 200px;max-width: 100%;overflow: auto;}#sk-container-id-2 input.sk-toggleable__control:checked~label.sk-toggleable__label-arrow:before {content: \"▾\";}#sk-container-id-2 div.sk-estimator input.sk-toggleable__control:checked~label.sk-toggleable__label {background-color: #d4ebff;}#sk-container-id-2 div.sk-label input.sk-toggleable__control:checked~label.sk-toggleable__label {background-color: #d4ebff;}#sk-container-id-2 input.sk-hidden--visually {border: 0;clip: rect(1px 1px 1px 1px);clip: rect(1px, 1px, 1px, 1px);height: 1px;margin: -1px;overflow: hidden;padding: 0;position: absolute;width: 1px;}#sk-container-id-2 div.sk-estimator {font-family: monospace;background-color: #f0f8ff;border: 1px dotted black;border-radius: 0.25em;box-sizing: border-box;margin-bottom: 0.5em;}#sk-container-id-2 div.sk-estimator:hover {background-color: #d4ebff;}#sk-container-id-2 div.sk-parallel-item::after {content: \"\";width: 100%;border-bottom: 1px solid gray;flex-grow: 1;}#sk-container-id-2 div.sk-label:hover label.sk-toggleable__label {background-color: #d4ebff;}#sk-container-id-2 div.sk-serial::before {content: \"\";position: absolute;border-left: 1px solid gray;box-sizing: border-box;top: 0;bottom: 0;left: 50%;z-index: 0;}#sk-container-id-2 div.sk-serial {display: flex;flex-direction: column;align-items: center;background-color: white;padding-right: 0.2em;padding-left: 0.2em;position: relative;}#sk-container-id-2 div.sk-item {position: relative;z-index: 1;}#sk-container-id-2 div.sk-parallel {display: flex;align-items: stretch;justify-content: center;background-color: white;position: relative;}#sk-container-id-2 div.sk-item::before, #sk-container-id-2 div.sk-parallel-item::before {content: \"\";position: absolute;border-left: 1px solid gray;box-sizing: border-box;top: 0;bottom: 0;left: 50%;z-index: -1;}#sk-container-id-2 div.sk-parallel-item {display: flex;flex-direction: column;z-index: 1;position: relative;background-color: white;}#sk-container-id-2 div.sk-parallel-item:first-child::after {align-self: flex-end;width: 50%;}#sk-container-id-2 div.sk-parallel-item:last-child::after {align-self: flex-start;width: 50%;}#sk-container-id-2 div.sk-parallel-item:only-child::after {width: 0;}#sk-container-id-2 div.sk-dashed-wrapped {border: 1px dashed gray;margin: 0 0.4em 0.5em 0.4em;box-sizing: border-box;padding-bottom: 0.4em;background-color: white;}#sk-container-id-2 div.sk-label label {font-family: monospace;font-weight: bold;display: inline-block;line-height: 1.2em;}#sk-container-id-2 div.sk-label-container {text-align: center;}#sk-container-id-2 div.sk-container {/* jupyter's `normalize.less` sets `[hidden] { display: none; }` but bootstrap.min.css set `[hidden] { display: none !important; }` so we also need the `!important` here to be able to override the default hidden behavior on the sphinx rendered scikit-learn.org. See: https://github.com/scikit-learn/scikit-learn/issues/21755 */display: inline-block !important;position: relative;}#sk-container-id-2 div.sk-text-repr-fallback {display: none;}</style><div id=\"sk-container-id-2\" class=\"sk-top-container\"><div class=\"sk-text-repr-fallback\"><pre>Pipeline(steps=[(&#x27;preprocessor&#x27;,\n",
       "                 ColumnTransformer(transformers=[(&#x27;vectorizer&#x27;,\n",
       "                                                  TfidfVectorizer(dtype=&lt;class &#x27;numpy.float32&#x27;&gt;,\n",
       "                                                                  ngram_range=(1,\n",
       "                                                                               2),\n",
       "                                                                  stop_words=[&#x27;your&#x27;,\n",
       "                                                                              &#x27;them&#x27;,\n",
       "                                                                              &#x27;before&#x27;,\n",
       "                                                                              &#x27;me&#x27;,\n",
       "                                                                              &#x27;won&#x27;,\n",
       "                                                                              &#x27;against&#x27;,\n",
       "                                                                              &#x27;there&#x27;,\n",
       "                                                                              &#x27;been&#x27;,\n",
       "                                                                              &quot;they&#x27;re&quot;,\n",
       "                                                                              &#x27;each&#x27;,\n",
       "                                                                              &#x27;himself&#x27;,\n",
       "                                                                              &#x27;itself&#x27;,\n",
       "                                                                              &#x27;o&#x27;,\n",
       "                                                                              &#x27;some&#x27;,\n",
       "                                                                              &#x27;about&#x27;,\n",
       "                                                                              &#x27;until&#x27;,\n",
       "                                                                              &#x27;after&#x27;,\n",
       "                                                                              &#x27;than&#x27;,\n",
       "                                                                              &#x27;who&#x27;,\n",
       "                                                                              &quot;you&#x27;d&quot;,\n",
       "                                                                              &#x27;under&#x27;,\n",
       "                                                                              &quot;needn&#x27;t&quot;,\n",
       "                                                                              &#x27;herself&#x27;,\n",
       "                                                                              &#x27;shouldn&#x27;,\n",
       "                                                                              &quot;isn&#x27;t&quot;,\n",
       "                                                                              &#x27;the&#x27;,\n",
       "                                                                              &#x27;yourself&#x27;,\n",
       "                                                                              &quot;i&#x27;m&quot;,\n",
       "                                                                              &#x27;other&#x27;,\n",
       "                                                                              &#x27;that&#x27;, ...]),\n",
       "                                                  &#x27;lemmatized_text&#x27;)])),\n",
       "                (&#x27;model&#x27;,\n",
       "                 PassiveAggressiveClassifier(C=0.12050679650559393,\n",
       "                                             max_iter=300, n_jobs=2,\n",
       "                                             random_state=42))])</pre><b>In a Jupyter environment, please rerun this cell to show the HTML representation or trust the notebook. <br />On GitHub, the HTML representation is unable to render, please try loading this page with nbviewer.org.</b></div><div class=\"sk-container\" hidden><div class=\"sk-item sk-dashed-wrapped\"><div class=\"sk-label-container\"><div class=\"sk-label sk-toggleable\"><input class=\"sk-toggleable__control sk-hidden--visually\" id=\"sk-estimator-id-6\" type=\"checkbox\" ><label for=\"sk-estimator-id-6\" class=\"sk-toggleable__label sk-toggleable__label-arrow\">Pipeline</label><div class=\"sk-toggleable__content\"><pre>Pipeline(steps=[(&#x27;preprocessor&#x27;,\n",
       "                 ColumnTransformer(transformers=[(&#x27;vectorizer&#x27;,\n",
       "                                                  TfidfVectorizer(dtype=&lt;class &#x27;numpy.float32&#x27;&gt;,\n",
       "                                                                  ngram_range=(1,\n",
       "                                                                               2),\n",
       "                                                                  stop_words=[&#x27;your&#x27;,\n",
       "                                                                              &#x27;them&#x27;,\n",
       "                                                                              &#x27;before&#x27;,\n",
       "                                                                              &#x27;me&#x27;,\n",
       "                                                                              &#x27;won&#x27;,\n",
       "                                                                              &#x27;against&#x27;,\n",
       "                                                                              &#x27;there&#x27;,\n",
       "                                                                              &#x27;been&#x27;,\n",
       "                                                                              &quot;they&#x27;re&quot;,\n",
       "                                                                              &#x27;each&#x27;,\n",
       "                                                                              &#x27;himself&#x27;,\n",
       "                                                                              &#x27;itself&#x27;,\n",
       "                                                                              &#x27;o&#x27;,\n",
       "                                                                              &#x27;some&#x27;,\n",
       "                                                                              &#x27;about&#x27;,\n",
       "                                                                              &#x27;until&#x27;,\n",
       "                                                                              &#x27;after&#x27;,\n",
       "                                                                              &#x27;than&#x27;,\n",
       "                                                                              &#x27;who&#x27;,\n",
       "                                                                              &quot;you&#x27;d&quot;,\n",
       "                                                                              &#x27;under&#x27;,\n",
       "                                                                              &quot;needn&#x27;t&quot;,\n",
       "                                                                              &#x27;herself&#x27;,\n",
       "                                                                              &#x27;shouldn&#x27;,\n",
       "                                                                              &quot;isn&#x27;t&quot;,\n",
       "                                                                              &#x27;the&#x27;,\n",
       "                                                                              &#x27;yourself&#x27;,\n",
       "                                                                              &quot;i&#x27;m&quot;,\n",
       "                                                                              &#x27;other&#x27;,\n",
       "                                                                              &#x27;that&#x27;, ...]),\n",
       "                                                  &#x27;lemmatized_text&#x27;)])),\n",
       "                (&#x27;model&#x27;,\n",
       "                 PassiveAggressiveClassifier(C=0.12050679650559393,\n",
       "                                             max_iter=300, n_jobs=2,\n",
       "                                             random_state=42))])</pre></div></div></div><div class=\"sk-serial\"><div class=\"sk-item sk-dashed-wrapped\"><div class=\"sk-label-container\"><div class=\"sk-label sk-toggleable\"><input class=\"sk-toggleable__control sk-hidden--visually\" id=\"sk-estimator-id-7\" type=\"checkbox\" ><label for=\"sk-estimator-id-7\" class=\"sk-toggleable__label sk-toggleable__label-arrow\">preprocessor: ColumnTransformer</label><div class=\"sk-toggleable__content\"><pre>ColumnTransformer(transformers=[(&#x27;vectorizer&#x27;,\n",
       "                                 TfidfVectorizer(dtype=&lt;class &#x27;numpy.float32&#x27;&gt;,\n",
       "                                                 ngram_range=(1, 2),\n",
       "                                                 stop_words=[&#x27;your&#x27;, &#x27;them&#x27;,\n",
       "                                                             &#x27;before&#x27;, &#x27;me&#x27;,\n",
       "                                                             &#x27;won&#x27;, &#x27;against&#x27;,\n",
       "                                                             &#x27;there&#x27;, &#x27;been&#x27;,\n",
       "                                                             &quot;they&#x27;re&quot;, &#x27;each&#x27;,\n",
       "                                                             &#x27;himself&#x27;,\n",
       "                                                             &#x27;itself&#x27;, &#x27;o&#x27;,\n",
       "                                                             &#x27;some&#x27;, &#x27;about&#x27;,\n",
       "                                                             &#x27;until&#x27;, &#x27;after&#x27;,\n",
       "                                                             &#x27;than&#x27;, &#x27;who&#x27;,\n",
       "                                                             &quot;you&#x27;d&quot;, &#x27;under&#x27;,\n",
       "                                                             &quot;needn&#x27;t&quot;,\n",
       "                                                             &#x27;herself&#x27;,\n",
       "                                                             &#x27;shouldn&#x27;, &quot;isn&#x27;t&quot;,\n",
       "                                                             &#x27;the&#x27;, &#x27;yourself&#x27;,\n",
       "                                                             &quot;i&#x27;m&quot;, &#x27;other&#x27;,\n",
       "                                                             &#x27;that&#x27;, ...]),\n",
       "                                 &#x27;lemmatized_text&#x27;)])</pre></div></div></div><div class=\"sk-parallel\"><div class=\"sk-parallel-item\"><div class=\"sk-item\"><div class=\"sk-label-container\"><div class=\"sk-label sk-toggleable\"><input class=\"sk-toggleable__control sk-hidden--visually\" id=\"sk-estimator-id-8\" type=\"checkbox\" ><label for=\"sk-estimator-id-8\" class=\"sk-toggleable__label sk-toggleable__label-arrow\">vectorizer</label><div class=\"sk-toggleable__content\"><pre>lemmatized_text</pre></div></div></div><div class=\"sk-serial\"><div class=\"sk-item\"><div class=\"sk-estimator sk-toggleable\"><input class=\"sk-toggleable__control sk-hidden--visually\" id=\"sk-estimator-id-9\" type=\"checkbox\" ><label for=\"sk-estimator-id-9\" class=\"sk-toggleable__label sk-toggleable__label-arrow\">TfidfVectorizer</label><div class=\"sk-toggleable__content\"><pre>TfidfVectorizer(dtype=&lt;class &#x27;numpy.float32&#x27;&gt;, ngram_range=(1, 2),\n",
       "                stop_words=[&#x27;your&#x27;, &#x27;them&#x27;, &#x27;before&#x27;, &#x27;me&#x27;, &#x27;won&#x27;, &#x27;against&#x27;,\n",
       "                            &#x27;there&#x27;, &#x27;been&#x27;, &quot;they&#x27;re&quot;, &#x27;each&#x27;, &#x27;himself&#x27;,\n",
       "                            &#x27;itself&#x27;, &#x27;o&#x27;, &#x27;some&#x27;, &#x27;about&#x27;, &#x27;until&#x27;, &#x27;after&#x27;,\n",
       "                            &#x27;than&#x27;, &#x27;who&#x27;, &quot;you&#x27;d&quot;, &#x27;under&#x27;, &quot;needn&#x27;t&quot;,\n",
       "                            &#x27;herself&#x27;, &#x27;shouldn&#x27;, &quot;isn&#x27;t&quot;, &#x27;the&#x27;, &#x27;yourself&#x27;,\n",
       "                            &quot;i&#x27;m&quot;, &#x27;other&#x27;, &#x27;that&#x27;, ...])</pre></div></div></div></div></div></div></div></div><div class=\"sk-item\"><div class=\"sk-estimator sk-toggleable\"><input class=\"sk-toggleable__control sk-hidden--visually\" id=\"sk-estimator-id-10\" type=\"checkbox\" ><label for=\"sk-estimator-id-10\" class=\"sk-toggleable__label sk-toggleable__label-arrow\">PassiveAggressiveClassifier</label><div class=\"sk-toggleable__content\"><pre>PassiveAggressiveClassifier(C=0.12050679650559393, max_iter=300, n_jobs=2,\n",
       "                            random_state=42)</pre></div></div></div></div></div></div></div>"
      ],
      "text/plain": [
       "Pipeline(steps=[('preprocessor',\n",
       "                 ColumnTransformer(transformers=[('vectorizer',\n",
       "                                                  TfidfVectorizer(dtype=<class 'numpy.float32'>,\n",
       "                                                                  ngram_range=(1,\n",
       "                                                                               2),\n",
       "                                                                  stop_words=['your',\n",
       "                                                                              'them',\n",
       "                                                                              'before',\n",
       "                                                                              'me',\n",
       "                                                                              'won',\n",
       "                                                                              'against',\n",
       "                                                                              'there',\n",
       "                                                                              'been',\n",
       "                                                                              \"they're\",\n",
       "                                                                              'each',\n",
       "                                                                              'himself',\n",
       "                                                                              'itself',\n",
       "                                                                              'o',\n",
       "                                                                              'some',\n",
       "                                                                              'about',\n",
       "                                                                              'until',\n",
       "                                                                              'after',\n",
       "                                                                              'than',\n",
       "                                                                              'who',\n",
       "                                                                              \"you'd\",\n",
       "                                                                              'under',\n",
       "                                                                              \"needn't\",\n",
       "                                                                              'herself',\n",
       "                                                                              'shouldn',\n",
       "                                                                              \"isn't\",\n",
       "                                                                              'the',\n",
       "                                                                              'yourself',\n",
       "                                                                              \"i'm\",\n",
       "                                                                              'other',\n",
       "                                                                              'that', ...]),\n",
       "                                                  'lemmatized_text')])),\n",
       "                ('model',\n",
       "                 PassiveAggressiveClassifier(C=0.12050679650559393,\n",
       "                                             max_iter=300, n_jobs=2,\n",
       "                                             random_state=42))])"
      ]
     },
     "execution_count": 28,
     "metadata": {},
     "output_type": "execute_result"
    }
   ],
   "source": [
    "print(f'Best cross-val f1: {study_palogreg.best_value:.3f}')\n",
    "best_params_palogreg = get_named_params(study_palogreg.best_params)\n",
    "dataset_palogreg = X_train, y_train, X_val, y_val, X_test, y_test\n",
    "palogreg = pipeline.set_params(**best_params_palogreg)\n",
    "palogreg"
   ]
  },
  {
   "cell_type": "code",
   "execution_count": 29,
   "metadata": {},
   "outputs": [
    {
     "data": {
      "application/vnd.plotly.v1+json": {
       "config": {
        "plotlyServerURL": "https://plot.ly"
       },
       "data": [
        {
         "cliponaxis": false,
         "hovertemplate": [
          "model (CategoricalDistribution): 0.0<extra></extra>",
          "model__loss (CategoricalDistribution): 0.006822913970310818<extra></extra>",
          "model__C (FloatDistribution): 0.03462557065546911<extra></extra>",
          "model__max_iter (IntDistribution): 0.03571254982547236<extra></extra>",
          "preprocessor__vectorizer__ngram_range (CategoricalDistribution): 0.2900117041768326<extra></extra>",
          "preprocessor__vectorizer (CategoricalDistribution): 0.632827261371915<extra></extra>"
         ],
         "name": "Objective Value",
         "orientation": "h",
         "text": [
          "<0.01",
          "<0.01",
          "0.03",
          "0.04",
          "0.29",
          "0.63"
         ],
         "textposition": "outside",
         "type": "bar",
         "x": [
          0,
          0.006822913970310818,
          0.03462557065546911,
          0.03571254982547236,
          0.2900117041768326,
          0.632827261371915
         ],
         "y": [
          "model",
          "model__loss",
          "model__C",
          "model__max_iter",
          "preprocessor__vectorizer__ngram_range",
          "preprocessor__vectorizer"
         ]
        }
       ],
       "layout": {
        "height": 500,
        "template": {
         "data": {
          "bar": [
           {
            "error_x": {
             "color": "#2a3f5f"
            },
            "error_y": {
             "color": "#2a3f5f"
            },
            "marker": {
             "line": {
              "color": "#E5ECF6",
              "width": 0.5
             },
             "pattern": {
              "fillmode": "overlay",
              "size": 10,
              "solidity": 0.2
             }
            },
            "type": "bar"
           }
          ],
          "barpolar": [
           {
            "marker": {
             "line": {
              "color": "#E5ECF6",
              "width": 0.5
             },
             "pattern": {
              "fillmode": "overlay",
              "size": 10,
              "solidity": 0.2
             }
            },
            "type": "barpolar"
           }
          ],
          "carpet": [
           {
            "aaxis": {
             "endlinecolor": "#2a3f5f",
             "gridcolor": "white",
             "linecolor": "white",
             "minorgridcolor": "white",
             "startlinecolor": "#2a3f5f"
            },
            "baxis": {
             "endlinecolor": "#2a3f5f",
             "gridcolor": "white",
             "linecolor": "white",
             "minorgridcolor": "white",
             "startlinecolor": "#2a3f5f"
            },
            "type": "carpet"
           }
          ],
          "choropleth": [
           {
            "colorbar": {
             "outlinewidth": 0,
             "ticks": ""
            },
            "type": "choropleth"
           }
          ],
          "contour": [
           {
            "colorbar": {
             "outlinewidth": 0,
             "ticks": ""
            },
            "colorscale": [
             [
              0,
              "#0d0887"
             ],
             [
              0.1111111111111111,
              "#46039f"
             ],
             [
              0.2222222222222222,
              "#7201a8"
             ],
             [
              0.3333333333333333,
              "#9c179e"
             ],
             [
              0.4444444444444444,
              "#bd3786"
             ],
             [
              0.5555555555555556,
              "#d8576b"
             ],
             [
              0.6666666666666666,
              "#ed7953"
             ],
             [
              0.7777777777777778,
              "#fb9f3a"
             ],
             [
              0.8888888888888888,
              "#fdca26"
             ],
             [
              1,
              "#f0f921"
             ]
            ],
            "type": "contour"
           }
          ],
          "contourcarpet": [
           {
            "colorbar": {
             "outlinewidth": 0,
             "ticks": ""
            },
            "type": "contourcarpet"
           }
          ],
          "heatmap": [
           {
            "colorbar": {
             "outlinewidth": 0,
             "ticks": ""
            },
            "colorscale": [
             [
              0,
              "#0d0887"
             ],
             [
              0.1111111111111111,
              "#46039f"
             ],
             [
              0.2222222222222222,
              "#7201a8"
             ],
             [
              0.3333333333333333,
              "#9c179e"
             ],
             [
              0.4444444444444444,
              "#bd3786"
             ],
             [
              0.5555555555555556,
              "#d8576b"
             ],
             [
              0.6666666666666666,
              "#ed7953"
             ],
             [
              0.7777777777777778,
              "#fb9f3a"
             ],
             [
              0.8888888888888888,
              "#fdca26"
             ],
             [
              1,
              "#f0f921"
             ]
            ],
            "type": "heatmap"
           }
          ],
          "histogram": [
           {
            "marker": {
             "pattern": {
              "fillmode": "overlay",
              "size": 10,
              "solidity": 0.2
             }
            },
            "type": "histogram"
           }
          ],
          "histogram2d": [
           {
            "colorbar": {
             "outlinewidth": 0,
             "ticks": ""
            },
            "colorscale": [
             [
              0,
              "#0d0887"
             ],
             [
              0.1111111111111111,
              "#46039f"
             ],
             [
              0.2222222222222222,
              "#7201a8"
             ],
             [
              0.3333333333333333,
              "#9c179e"
             ],
             [
              0.4444444444444444,
              "#bd3786"
             ],
             [
              0.5555555555555556,
              "#d8576b"
             ],
             [
              0.6666666666666666,
              "#ed7953"
             ],
             [
              0.7777777777777778,
              "#fb9f3a"
             ],
             [
              0.8888888888888888,
              "#fdca26"
             ],
             [
              1,
              "#f0f921"
             ]
            ],
            "type": "histogram2d"
           }
          ],
          "histogram2dcontour": [
           {
            "colorbar": {
             "outlinewidth": 0,
             "ticks": ""
            },
            "colorscale": [
             [
              0,
              "#0d0887"
             ],
             [
              0.1111111111111111,
              "#46039f"
             ],
             [
              0.2222222222222222,
              "#7201a8"
             ],
             [
              0.3333333333333333,
              "#9c179e"
             ],
             [
              0.4444444444444444,
              "#bd3786"
             ],
             [
              0.5555555555555556,
              "#d8576b"
             ],
             [
              0.6666666666666666,
              "#ed7953"
             ],
             [
              0.7777777777777778,
              "#fb9f3a"
             ],
             [
              0.8888888888888888,
              "#fdca26"
             ],
             [
              1,
              "#f0f921"
             ]
            ],
            "type": "histogram2dcontour"
           }
          ],
          "mesh3d": [
           {
            "colorbar": {
             "outlinewidth": 0,
             "ticks": ""
            },
            "type": "mesh3d"
           }
          ],
          "parcoords": [
           {
            "line": {
             "colorbar": {
              "outlinewidth": 0,
              "ticks": ""
             }
            },
            "type": "parcoords"
           }
          ],
          "pie": [
           {
            "automargin": true,
            "type": "pie"
           }
          ],
          "scatter": [
           {
            "fillpattern": {
             "fillmode": "overlay",
             "size": 10,
             "solidity": 0.2
            },
            "type": "scatter"
           }
          ],
          "scatter3d": [
           {
            "line": {
             "colorbar": {
              "outlinewidth": 0,
              "ticks": ""
             }
            },
            "marker": {
             "colorbar": {
              "outlinewidth": 0,
              "ticks": ""
             }
            },
            "type": "scatter3d"
           }
          ],
          "scattercarpet": [
           {
            "marker": {
             "colorbar": {
              "outlinewidth": 0,
              "ticks": ""
             }
            },
            "type": "scattercarpet"
           }
          ],
          "scattergeo": [
           {
            "marker": {
             "colorbar": {
              "outlinewidth": 0,
              "ticks": ""
             }
            },
            "type": "scattergeo"
           }
          ],
          "scattergl": [
           {
            "marker": {
             "colorbar": {
              "outlinewidth": 0,
              "ticks": ""
             }
            },
            "type": "scattergl"
           }
          ],
          "scattermap": [
           {
            "marker": {
             "colorbar": {
              "outlinewidth": 0,
              "ticks": ""
             }
            },
            "type": "scattermap"
           }
          ],
          "scattermapbox": [
           {
            "marker": {
             "colorbar": {
              "outlinewidth": 0,
              "ticks": ""
             }
            },
            "type": "scattermapbox"
           }
          ],
          "scatterpolar": [
           {
            "marker": {
             "colorbar": {
              "outlinewidth": 0,
              "ticks": ""
             }
            },
            "type": "scatterpolar"
           }
          ],
          "scatterpolargl": [
           {
            "marker": {
             "colorbar": {
              "outlinewidth": 0,
              "ticks": ""
             }
            },
            "type": "scatterpolargl"
           }
          ],
          "scatterternary": [
           {
            "marker": {
             "colorbar": {
              "outlinewidth": 0,
              "ticks": ""
             }
            },
            "type": "scatterternary"
           }
          ],
          "surface": [
           {
            "colorbar": {
             "outlinewidth": 0,
             "ticks": ""
            },
            "colorscale": [
             [
              0,
              "#0d0887"
             ],
             [
              0.1111111111111111,
              "#46039f"
             ],
             [
              0.2222222222222222,
              "#7201a8"
             ],
             [
              0.3333333333333333,
              "#9c179e"
             ],
             [
              0.4444444444444444,
              "#bd3786"
             ],
             [
              0.5555555555555556,
              "#d8576b"
             ],
             [
              0.6666666666666666,
              "#ed7953"
             ],
             [
              0.7777777777777778,
              "#fb9f3a"
             ],
             [
              0.8888888888888888,
              "#fdca26"
             ],
             [
              1,
              "#f0f921"
             ]
            ],
            "type": "surface"
           }
          ],
          "table": [
           {
            "cells": {
             "fill": {
              "color": "#EBF0F8"
             },
             "line": {
              "color": "white"
             }
            },
            "header": {
             "fill": {
              "color": "#C8D4E3"
             },
             "line": {
              "color": "white"
             }
            },
            "type": "table"
           }
          ]
         },
         "layout": {
          "annotationdefaults": {
           "arrowcolor": "#2a3f5f",
           "arrowhead": 0,
           "arrowwidth": 1
          },
          "autotypenumbers": "strict",
          "coloraxis": {
           "colorbar": {
            "outlinewidth": 0,
            "ticks": ""
           }
          },
          "colorscale": {
           "diverging": [
            [
             0,
             "#8e0152"
            ],
            [
             0.1,
             "#c51b7d"
            ],
            [
             0.2,
             "#de77ae"
            ],
            [
             0.3,
             "#f1b6da"
            ],
            [
             0.4,
             "#fde0ef"
            ],
            [
             0.5,
             "#f7f7f7"
            ],
            [
             0.6,
             "#e6f5d0"
            ],
            [
             0.7,
             "#b8e186"
            ],
            [
             0.8,
             "#7fbc41"
            ],
            [
             0.9,
             "#4d9221"
            ],
            [
             1,
             "#276419"
            ]
           ],
           "sequential": [
            [
             0,
             "#0d0887"
            ],
            [
             0.1111111111111111,
             "#46039f"
            ],
            [
             0.2222222222222222,
             "#7201a8"
            ],
            [
             0.3333333333333333,
             "#9c179e"
            ],
            [
             0.4444444444444444,
             "#bd3786"
            ],
            [
             0.5555555555555556,
             "#d8576b"
            ],
            [
             0.6666666666666666,
             "#ed7953"
            ],
            [
             0.7777777777777778,
             "#fb9f3a"
            ],
            [
             0.8888888888888888,
             "#fdca26"
            ],
            [
             1,
             "#f0f921"
            ]
           ],
           "sequentialminus": [
            [
             0,
             "#0d0887"
            ],
            [
             0.1111111111111111,
             "#46039f"
            ],
            [
             0.2222222222222222,
             "#7201a8"
            ],
            [
             0.3333333333333333,
             "#9c179e"
            ],
            [
             0.4444444444444444,
             "#bd3786"
            ],
            [
             0.5555555555555556,
             "#d8576b"
            ],
            [
             0.6666666666666666,
             "#ed7953"
            ],
            [
             0.7777777777777778,
             "#fb9f3a"
            ],
            [
             0.8888888888888888,
             "#fdca26"
            ],
            [
             1,
             "#f0f921"
            ]
           ]
          },
          "colorway": [
           "#636efa",
           "#EF553B",
           "#00cc96",
           "#ab63fa",
           "#FFA15A",
           "#19d3f3",
           "#FF6692",
           "#B6E880",
           "#FF97FF",
           "#FECB52"
          ],
          "font": {
           "color": "#2a3f5f"
          },
          "geo": {
           "bgcolor": "white",
           "lakecolor": "white",
           "landcolor": "#E5ECF6",
           "showlakes": true,
           "showland": true,
           "subunitcolor": "white"
          },
          "hoverlabel": {
           "align": "left"
          },
          "hovermode": "closest",
          "mapbox": {
           "style": "light"
          },
          "paper_bgcolor": "white",
          "plot_bgcolor": "#E5ECF6",
          "polar": {
           "angularaxis": {
            "gridcolor": "white",
            "linecolor": "white",
            "ticks": ""
           },
           "bgcolor": "#E5ECF6",
           "radialaxis": {
            "gridcolor": "white",
            "linecolor": "white",
            "ticks": ""
           }
          },
          "scene": {
           "xaxis": {
            "backgroundcolor": "#E5ECF6",
            "gridcolor": "white",
            "gridwidth": 2,
            "linecolor": "white",
            "showbackground": true,
            "ticks": "",
            "zerolinecolor": "white"
           },
           "yaxis": {
            "backgroundcolor": "#E5ECF6",
            "gridcolor": "white",
            "gridwidth": 2,
            "linecolor": "white",
            "showbackground": true,
            "ticks": "",
            "zerolinecolor": "white"
           },
           "zaxis": {
            "backgroundcolor": "#E5ECF6",
            "gridcolor": "white",
            "gridwidth": 2,
            "linecolor": "white",
            "showbackground": true,
            "ticks": "",
            "zerolinecolor": "white"
           }
          },
          "shapedefaults": {
           "line": {
            "color": "#2a3f5f"
           }
          },
          "ternary": {
           "aaxis": {
            "gridcolor": "white",
            "linecolor": "white",
            "ticks": ""
           },
           "baxis": {
            "gridcolor": "white",
            "linecolor": "white",
            "ticks": ""
           },
           "bgcolor": "#E5ECF6",
           "caxis": {
            "gridcolor": "white",
            "linecolor": "white",
            "ticks": ""
           }
          },
          "title": {
           "x": 0.05
          },
          "xaxis": {
           "automargin": true,
           "gridcolor": "white",
           "linecolor": "white",
           "ticks": "",
           "title": {
            "standoff": 15
           },
           "zerolinecolor": "white",
           "zerolinewidth": 2
          },
          "yaxis": {
           "automargin": true,
           "gridcolor": "white",
           "linecolor": "white",
           "ticks": "",
           "title": {
            "standoff": 15
           },
           "zerolinecolor": "white",
           "zerolinewidth": 2
          }
         }
        },
        "title": {
         "text": "Hyperparameter Importances"
        },
        "width": 800,
        "xaxis": {
         "title": {
          "text": "Hyperparameter Importance"
         }
        },
        "yaxis": {
         "title": {
          "text": "Hyperparameter"
         }
        }
       }
      }
     },
     "metadata": {},
     "output_type": "display_data"
    },
    {
     "data": {
      "application/vnd.plotly.v1+json": {
       "config": {
        "plotlyServerURL": "https://plot.ly"
       },
       "data": [
        {
         "legendgroup": "0",
         "legendgrouptitle": {
          "text": "PassiveAggressiveClassifier"
         },
         "marker": {
          "color": "#00CC96",
          "opacity": 0.5,
          "size": 10
         },
         "mode": "markers",
         "name": "PassiveAggressiveClassifier",
         "type": "scatter",
         "x": {
          "bdata": "sARSYteWG0B5kJ4ih5gbQN2ZCYZzvRtAsMdESrOpHECr6A/NPLkcQIwwRbk03hxAm42VmGf1HEAoDTUKSSYdQFD8GHPXkh1A/b/qyJHOHUBEpnwIqhYeQJp63SIwth5AkdWtnpMOH0ByqN+FrZkwQDqwHCEDnTBASdV2E3zvMEAe/pqsUf8wQHrkDwaeGzFAjJ5b6EokMUBQb0bNV00xQOY7+IkDYDFAGaw41VpoMUADWyVYHGoxQHv5nSYzcjFAtmgB2laDMUCSBre1hY8xQJ+tg4O9kTFAKhprf2eTMUCJ7e4BupMxQMWNW8zPmTFAMxtkkpGfMUCyg0pcx6wxQD+O5sjKszFAI9qOqbu2MUDAB69d2sQxQPG6fsFu2DFAAmTo2EHdMUDtf4C1auMxQFfQtMTK7DFA6Q/NPLnyMUACLV3BNvYxQNyEe2Xe+jFAb2WJzjILMkC+2HvxRRcyQANgPIOGGjJADcfzGVAvMkBMVdriGjMyQLMKmwEuNDJAzJcXYB9JMkBvZB75g00yQBR5knTNVDJApivYRjxVMkAqGmt/Z1cyQEfjUL8LWzJAeo7IdyldMkD27SQi/F8yQCC0Hr5MYDJA+5P43Al6MkB2MjhKXoEyQAIoRpbMgTJAnBcnvtqBMkCmKm1xjYMyQO3xQjo8iDJAMxXikXiJMkAdPulEgo0yQGEYsOQqjjJAT3gJTn2QMkDylUBK7JYyQAiqRq8GmDJASZ9W0R+aMkBxr8xbdZ0yQIi5pGq7nTJAq6+uCtSiMkCSI52Bka8yQOGYZU8CszJAzQNY5Ne3MkAj100pr70yQLZN8biowjJA2UC62LTCMkCInL6er8UyQPUrnQ/PxjJANKDejJrHMkDIDFTGv8cyQMMMjSeCzDJAaHqJsUzTMkDwGB77WdQyQCGvB5Pi1zJAyhgfZi/bMkCx+iMMA94yQPG3PUFi3zJAMbH5uDbsMkBU5XtGIvAyQNCzWfW58jJA16NwPQr3MkDarWUyHPsyQClf0EICBjNARRFSt7MXM0BSDmYTYBgzQFA1ejVAHTNADqFKzR40M0A=",
          "dtype": "f8"
         },
         "y": {
          "bdata": "eb5bZOML6D9VVWB8LmboP8/EEnpY1+c/tV8pvZ0G6T9rVMrJryLoP05faXi5oOg/jRaCZ+Y56D+tzCCz4dvoP+6rL7cMgOc/9N/42Z0S6D/r20dg4L/oP6dDE8e32uc/6o1BKFKv5z8+31QVda3oPygXTUFq2ug/vyXNRQjN6D+wGhfCFtDoP8PcjySEjug/uFxw8/XB6D9eMlfadNjoP7LTbm2bJek/5m0fmj4r6T++zvCsqjbpP+rh8hUzLuk/TP7Nh80n6T+T6IyBbDPpP5WNYkM0FOk/ZRGwpiPL6D9l8ayGqCDpP6invcbZxeg/Sqfvw5Yg6T8VleiBwCfpPzmvZxSOJOk/yp9vKaRD6T9ycB7cIDTpP9+46lZST+k/wXhKl2cv6T8XOOdbjTDpPyWhyVG4Tek//5ImbEk36T9wV5oe+VPpP/x9h/OIUek/u5JjWFhX6T+Ek2oNpVPpP4rz3HeQWOk/xIxI22hY6T8AxhyL62HpP49QX+YfV+k/ngg338pi6T/nEyNtI1bpPyiYitmVOek/ro1btPBh6T+W80z0+mPpP3Lmz5HhWek/mvyNvUpY6T8tqOs7Cl7pPxv6XSc3Yek/UHL6CHJf6T9Jy75oxGPpPyG+esxeX+k/cu1o8E9m6T/s/pVLv1rpP71x5kC3Zek/ki+/1YJo6T8yaSQJ6GTpP+wZ9MgTXuk/mOiOUzNc6T9CXPPkx2npP7rYi1DDaOk/mX2Zk8dj6T81DWME/17pPwsU1lz9W+k/RoaVbHRl6T9JuFTunGLpP6M5KTYbY+k/E9P8WSlk6T95kdy7vWPpP+GED5nuZOk/MOiqdzRh6T96/mXvCGbpP89u/96NZuk/nqYWItdi6T84O9ipB2PpP00o1waNZuk/FcnKbTBn6T+yKtf0/2TpP4bkcjlbZuk/uSA6gupj6T/I5U6MV2TpP5ELYuY7Zek/9Fmq9Ehg6T/4abR26WXpP/ie+9WZZ+k/ePoRYPxn6T8AR5GJ62jpP1pTijIEZ+k/sqF42pdk6T/+A87eB2XpP5J+QDIYY+k/2M1pcJRl6T8=",
          "dtype": "f8"
         }
        },
        {
         "legendgroup": "0",
         "marker": {
          "color": "#00CC96",
          "line": {
           "color": "black",
           "width": 2
          },
          "size": 10
         },
         "mode": "markers",
         "name": "Лучшее: PassiveAggressiveClassifier",
         "showlegend": false,
         "type": "scatter",
         "x": [
          18.589543
         ],
         "y": [
          0.7941626998607563
         ]
        }
       ],
       "layout": {
        "height": 500,
        "showlegend": true,
        "template": {
         "data": {
          "bar": [
           {
            "error_x": {
             "color": "#2a3f5f"
            },
            "error_y": {
             "color": "#2a3f5f"
            },
            "marker": {
             "line": {
              "color": "white",
              "width": 0.5
             },
             "pattern": {
              "fillmode": "overlay",
              "size": 10,
              "solidity": 0.2
             }
            },
            "type": "bar"
           }
          ],
          "barpolar": [
           {
            "marker": {
             "line": {
              "color": "white",
              "width": 0.5
             },
             "pattern": {
              "fillmode": "overlay",
              "size": 10,
              "solidity": 0.2
             }
            },
            "type": "barpolar"
           }
          ],
          "carpet": [
           {
            "aaxis": {
             "endlinecolor": "#2a3f5f",
             "gridcolor": "#C8D4E3",
             "linecolor": "#C8D4E3",
             "minorgridcolor": "#C8D4E3",
             "startlinecolor": "#2a3f5f"
            },
            "baxis": {
             "endlinecolor": "#2a3f5f",
             "gridcolor": "#C8D4E3",
             "linecolor": "#C8D4E3",
             "minorgridcolor": "#C8D4E3",
             "startlinecolor": "#2a3f5f"
            },
            "type": "carpet"
           }
          ],
          "choropleth": [
           {
            "colorbar": {
             "outlinewidth": 0,
             "ticks": ""
            },
            "type": "choropleth"
           }
          ],
          "contour": [
           {
            "colorbar": {
             "outlinewidth": 0,
             "ticks": ""
            },
            "colorscale": [
             [
              0,
              "#0d0887"
             ],
             [
              0.1111111111111111,
              "#46039f"
             ],
             [
              0.2222222222222222,
              "#7201a8"
             ],
             [
              0.3333333333333333,
              "#9c179e"
             ],
             [
              0.4444444444444444,
              "#bd3786"
             ],
             [
              0.5555555555555556,
              "#d8576b"
             ],
             [
              0.6666666666666666,
              "#ed7953"
             ],
             [
              0.7777777777777778,
              "#fb9f3a"
             ],
             [
              0.8888888888888888,
              "#fdca26"
             ],
             [
              1,
              "#f0f921"
             ]
            ],
            "type": "contour"
           }
          ],
          "contourcarpet": [
           {
            "colorbar": {
             "outlinewidth": 0,
             "ticks": ""
            },
            "type": "contourcarpet"
           }
          ],
          "heatmap": [
           {
            "colorbar": {
             "outlinewidth": 0,
             "ticks": ""
            },
            "colorscale": [
             [
              0,
              "#0d0887"
             ],
             [
              0.1111111111111111,
              "#46039f"
             ],
             [
              0.2222222222222222,
              "#7201a8"
             ],
             [
              0.3333333333333333,
              "#9c179e"
             ],
             [
              0.4444444444444444,
              "#bd3786"
             ],
             [
              0.5555555555555556,
              "#d8576b"
             ],
             [
              0.6666666666666666,
              "#ed7953"
             ],
             [
              0.7777777777777778,
              "#fb9f3a"
             ],
             [
              0.8888888888888888,
              "#fdca26"
             ],
             [
              1,
              "#f0f921"
             ]
            ],
            "type": "heatmap"
           }
          ],
          "histogram": [
           {
            "marker": {
             "pattern": {
              "fillmode": "overlay",
              "size": 10,
              "solidity": 0.2
             }
            },
            "type": "histogram"
           }
          ],
          "histogram2d": [
           {
            "colorbar": {
             "outlinewidth": 0,
             "ticks": ""
            },
            "colorscale": [
             [
              0,
              "#0d0887"
             ],
             [
              0.1111111111111111,
              "#46039f"
             ],
             [
              0.2222222222222222,
              "#7201a8"
             ],
             [
              0.3333333333333333,
              "#9c179e"
             ],
             [
              0.4444444444444444,
              "#bd3786"
             ],
             [
              0.5555555555555556,
              "#d8576b"
             ],
             [
              0.6666666666666666,
              "#ed7953"
             ],
             [
              0.7777777777777778,
              "#fb9f3a"
             ],
             [
              0.8888888888888888,
              "#fdca26"
             ],
             [
              1,
              "#f0f921"
             ]
            ],
            "type": "histogram2d"
           }
          ],
          "histogram2dcontour": [
           {
            "colorbar": {
             "outlinewidth": 0,
             "ticks": ""
            },
            "colorscale": [
             [
              0,
              "#0d0887"
             ],
             [
              0.1111111111111111,
              "#46039f"
             ],
             [
              0.2222222222222222,
              "#7201a8"
             ],
             [
              0.3333333333333333,
              "#9c179e"
             ],
             [
              0.4444444444444444,
              "#bd3786"
             ],
             [
              0.5555555555555556,
              "#d8576b"
             ],
             [
              0.6666666666666666,
              "#ed7953"
             ],
             [
              0.7777777777777778,
              "#fb9f3a"
             ],
             [
              0.8888888888888888,
              "#fdca26"
             ],
             [
              1,
              "#f0f921"
             ]
            ],
            "type": "histogram2dcontour"
           }
          ],
          "mesh3d": [
           {
            "colorbar": {
             "outlinewidth": 0,
             "ticks": ""
            },
            "type": "mesh3d"
           }
          ],
          "parcoords": [
           {
            "line": {
             "colorbar": {
              "outlinewidth": 0,
              "ticks": ""
             }
            },
            "type": "parcoords"
           }
          ],
          "pie": [
           {
            "automargin": true,
            "type": "pie"
           }
          ],
          "scatter": [
           {
            "fillpattern": {
             "fillmode": "overlay",
             "size": 10,
             "solidity": 0.2
            },
            "type": "scatter"
           }
          ],
          "scatter3d": [
           {
            "line": {
             "colorbar": {
              "outlinewidth": 0,
              "ticks": ""
             }
            },
            "marker": {
             "colorbar": {
              "outlinewidth": 0,
              "ticks": ""
             }
            },
            "type": "scatter3d"
           }
          ],
          "scattercarpet": [
           {
            "marker": {
             "colorbar": {
              "outlinewidth": 0,
              "ticks": ""
             }
            },
            "type": "scattercarpet"
           }
          ],
          "scattergeo": [
           {
            "marker": {
             "colorbar": {
              "outlinewidth": 0,
              "ticks": ""
             }
            },
            "type": "scattergeo"
           }
          ],
          "scattergl": [
           {
            "marker": {
             "colorbar": {
              "outlinewidth": 0,
              "ticks": ""
             }
            },
            "type": "scattergl"
           }
          ],
          "scattermap": [
           {
            "marker": {
             "colorbar": {
              "outlinewidth": 0,
              "ticks": ""
             }
            },
            "type": "scattermap"
           }
          ],
          "scattermapbox": [
           {
            "marker": {
             "colorbar": {
              "outlinewidth": 0,
              "ticks": ""
             }
            },
            "type": "scattermapbox"
           }
          ],
          "scatterpolar": [
           {
            "marker": {
             "colorbar": {
              "outlinewidth": 0,
              "ticks": ""
             }
            },
            "type": "scatterpolar"
           }
          ],
          "scatterpolargl": [
           {
            "marker": {
             "colorbar": {
              "outlinewidth": 0,
              "ticks": ""
             }
            },
            "type": "scatterpolargl"
           }
          ],
          "scatterternary": [
           {
            "marker": {
             "colorbar": {
              "outlinewidth": 0,
              "ticks": ""
             }
            },
            "type": "scatterternary"
           }
          ],
          "surface": [
           {
            "colorbar": {
             "outlinewidth": 0,
             "ticks": ""
            },
            "colorscale": [
             [
              0,
              "#0d0887"
             ],
             [
              0.1111111111111111,
              "#46039f"
             ],
             [
              0.2222222222222222,
              "#7201a8"
             ],
             [
              0.3333333333333333,
              "#9c179e"
             ],
             [
              0.4444444444444444,
              "#bd3786"
             ],
             [
              0.5555555555555556,
              "#d8576b"
             ],
             [
              0.6666666666666666,
              "#ed7953"
             ],
             [
              0.7777777777777778,
              "#fb9f3a"
             ],
             [
              0.8888888888888888,
              "#fdca26"
             ],
             [
              1,
              "#f0f921"
             ]
            ],
            "type": "surface"
           }
          ],
          "table": [
           {
            "cells": {
             "fill": {
              "color": "#EBF0F8"
             },
             "line": {
              "color": "white"
             }
            },
            "header": {
             "fill": {
              "color": "#C8D4E3"
             },
             "line": {
              "color": "white"
             }
            },
            "type": "table"
           }
          ]
         },
         "layout": {
          "annotationdefaults": {
           "arrowcolor": "#2a3f5f",
           "arrowhead": 0,
           "arrowwidth": 1
          },
          "autotypenumbers": "strict",
          "coloraxis": {
           "colorbar": {
            "outlinewidth": 0,
            "ticks": ""
           }
          },
          "colorscale": {
           "diverging": [
            [
             0,
             "#8e0152"
            ],
            [
             0.1,
             "#c51b7d"
            ],
            [
             0.2,
             "#de77ae"
            ],
            [
             0.3,
             "#f1b6da"
            ],
            [
             0.4,
             "#fde0ef"
            ],
            [
             0.5,
             "#f7f7f7"
            ],
            [
             0.6,
             "#e6f5d0"
            ],
            [
             0.7,
             "#b8e186"
            ],
            [
             0.8,
             "#7fbc41"
            ],
            [
             0.9,
             "#4d9221"
            ],
            [
             1,
             "#276419"
            ]
           ],
           "sequential": [
            [
             0,
             "#0d0887"
            ],
            [
             0.1111111111111111,
             "#46039f"
            ],
            [
             0.2222222222222222,
             "#7201a8"
            ],
            [
             0.3333333333333333,
             "#9c179e"
            ],
            [
             0.4444444444444444,
             "#bd3786"
            ],
            [
             0.5555555555555556,
             "#d8576b"
            ],
            [
             0.6666666666666666,
             "#ed7953"
            ],
            [
             0.7777777777777778,
             "#fb9f3a"
            ],
            [
             0.8888888888888888,
             "#fdca26"
            ],
            [
             1,
             "#f0f921"
            ]
           ],
           "sequentialminus": [
            [
             0,
             "#0d0887"
            ],
            [
             0.1111111111111111,
             "#46039f"
            ],
            [
             0.2222222222222222,
             "#7201a8"
            ],
            [
             0.3333333333333333,
             "#9c179e"
            ],
            [
             0.4444444444444444,
             "#bd3786"
            ],
            [
             0.5555555555555556,
             "#d8576b"
            ],
            [
             0.6666666666666666,
             "#ed7953"
            ],
            [
             0.7777777777777778,
             "#fb9f3a"
            ],
            [
             0.8888888888888888,
             "#fdca26"
            ],
            [
             1,
             "#f0f921"
            ]
           ]
          },
          "colorway": [
           "#636efa",
           "#EF553B",
           "#00cc96",
           "#ab63fa",
           "#FFA15A",
           "#19d3f3",
           "#FF6692",
           "#B6E880",
           "#FF97FF",
           "#FECB52"
          ],
          "font": {
           "color": "#2a3f5f"
          },
          "geo": {
           "bgcolor": "white",
           "lakecolor": "white",
           "landcolor": "white",
           "showlakes": true,
           "showland": true,
           "subunitcolor": "#C8D4E3"
          },
          "hoverlabel": {
           "align": "left"
          },
          "hovermode": "closest",
          "mapbox": {
           "style": "light"
          },
          "paper_bgcolor": "white",
          "plot_bgcolor": "white",
          "polar": {
           "angularaxis": {
            "gridcolor": "#EBF0F8",
            "linecolor": "#EBF0F8",
            "ticks": ""
           },
           "bgcolor": "white",
           "radialaxis": {
            "gridcolor": "#EBF0F8",
            "linecolor": "#EBF0F8",
            "ticks": ""
           }
          },
          "scene": {
           "xaxis": {
            "backgroundcolor": "white",
            "gridcolor": "#DFE8F3",
            "gridwidth": 2,
            "linecolor": "#EBF0F8",
            "showbackground": true,
            "ticks": "",
            "zerolinecolor": "#EBF0F8"
           },
           "yaxis": {
            "backgroundcolor": "white",
            "gridcolor": "#DFE8F3",
            "gridwidth": 2,
            "linecolor": "#EBF0F8",
            "showbackground": true,
            "ticks": "",
            "zerolinecolor": "#EBF0F8"
           },
           "zaxis": {
            "backgroundcolor": "white",
            "gridcolor": "#DFE8F3",
            "gridwidth": 2,
            "linecolor": "#EBF0F8",
            "showbackground": true,
            "ticks": "",
            "zerolinecolor": "#EBF0F8"
           }
          },
          "shapedefaults": {
           "line": {
            "color": "#2a3f5f"
           }
          },
          "ternary": {
           "aaxis": {
            "gridcolor": "#DFE8F3",
            "linecolor": "#A2B1C6",
            "ticks": ""
           },
           "baxis": {
            "gridcolor": "#DFE8F3",
            "linecolor": "#A2B1C6",
            "ticks": ""
           },
           "bgcolor": "white",
           "caxis": {
            "gridcolor": "#DFE8F3",
            "linecolor": "#A2B1C6",
            "ticks": ""
           }
          },
          "title": {
           "x": 0.05
          },
          "xaxis": {
           "automargin": true,
           "gridcolor": "#EBF0F8",
           "linecolor": "#EBF0F8",
           "ticks": "",
           "title": {
            "standoff": 15
           },
           "zerolinecolor": "#EBF0F8",
           "zerolinewidth": 2
          },
          "yaxis": {
           "automargin": true,
           "gridcolor": "#EBF0F8",
           "linecolor": "#EBF0F8",
           "ticks": "",
           "title": {
            "standoff": 15
           },
           "zerolinecolor": "#EBF0F8",
           "zerolinewidth": 2
          }
         }
        },
        "title": {
         "text": "F1 в зависимости от времени трейла"
        },
        "width": 800,
        "xaxis": {
         "title": {
          "text": "Время выполнения трейла (сек)"
         }
        },
        "yaxis": {
         "title": {
          "text": "F1"
         }
        }
       }
      }
     },
     "metadata": {},
     "output_type": "display_data"
    },
    {
     "data": {
      "application/vnd.plotly.v1+json": {
       "config": {
        "plotlyServerURL": "https://plot.ly"
       },
       "data": [
        {
         "legendgroup": "0",
         "legendgrouptitle": {
          "text": "PassiveAggressiveClassifier"
         },
         "marker": {
          "color": "#AB63FA"
         },
         "name": "PassiveAggressiveClassifier",
         "nbinsx": 25,
         "opacity": 0.6,
         "type": "histogram",
         "x": {
          "bdata": "uFxw8/XB6D9l8ayGqCDpP+qNQShSr+c/rcwgs+Hb6D/03/jZnRLoP8/EEnpY1+c/7qsvtwyA5z8+31QVda3oP8F4SpdnL+k/yp9vKaRD6T+VjWJDNBTpP77O8KyqNuk/cnAe3CA06T9Kp+/DliDpP0z+zYfNJ+k/FZXogcAn6T/mbR+aPivpP4STag2lU+k//H2H84hR6T+7kmNYWFfpPyWhyVG4Tek/5xMjbSNW6T/YzWlwlGXpP0m4VO6cYuk/+Gm0dull6T+jOSk2G2PpP6dDE8e32uc/AMYci+th6T+5IDqC6mPpP7AaF8IW0Og/xIxI22hY6T9NKNcGjWbpP5J+QDIYY+k/MOiqdzRh6T8hvnrMXl/pP+vbR2Dgv+g/KBdNQWra6D9VVWB8LmboP6invcbZxeg/eb5bZOML6D96/mXvCGbpP+GED5nuZOk/RoaVbHRl6T9y5s+R4VnpP4bkcjlbZuk/j1Bf5h9X6T9lEbCmI8voP7VfKb2dBuk/stNubZsl6T/fuOpWUk/pPxc451uNMOk/sirX9P9k6T/s/pVLv1rpP66NW7TwYek/vXHmQLdl6T/4nvvVmWfpP/+SJmxJN+k/mvyNvUpY6T8LFNZc/VvpP14yV9p02Og/Tl9peLmg6D9Jy75oxGPpP7rYi1DDaOk/7Bn0yBNe6T95kdy7vWPpPzmvZxSOJOk/ivPcd5BY6T+ephYi12LpPzUNYwT/Xuk/ODvYqQdj6T9wV5oe+VPpP5l9mZPHY+k/UHL6CHJf6T+yoXjal2TpPy2o6zsKXuk/WlOKMgRn6T+/Jc1FCM3oP40WgmfmOeg/ki+/1YJo6T94+hFg/GfpPzJpJAnoZOk/kQti5jtl6T/0War0SGDpP5bzTPT6Y+k/cu1o8E9m6T/q4fIVMy7pPxv6XSc3Yek/z27/3o1m6T/D3I8khI7oP5PojIFsM+k/a1TKya8i6D8AR5GJ62jpP0Jc8+THaek/E9P8WSlk6T+eCDffymLpPxXJym0wZ+k/KJiK2ZU56T/I5U6MV2TpP5jojlMzXOk//gPO3gdl6T8=",
          "dtype": "f8"
         }
        }
       ],
       "layout": {
        "barmode": "overlay",
        "height": 500,
        "showlegend": true,
        "template": {
         "data": {
          "bar": [
           {
            "error_x": {
             "color": "#2a3f5f"
            },
            "error_y": {
             "color": "#2a3f5f"
            },
            "marker": {
             "line": {
              "color": "white",
              "width": 0.5
             },
             "pattern": {
              "fillmode": "overlay",
              "size": 10,
              "solidity": 0.2
             }
            },
            "type": "bar"
           }
          ],
          "barpolar": [
           {
            "marker": {
             "line": {
              "color": "white",
              "width": 0.5
             },
             "pattern": {
              "fillmode": "overlay",
              "size": 10,
              "solidity": 0.2
             }
            },
            "type": "barpolar"
           }
          ],
          "carpet": [
           {
            "aaxis": {
             "endlinecolor": "#2a3f5f",
             "gridcolor": "#C8D4E3",
             "linecolor": "#C8D4E3",
             "minorgridcolor": "#C8D4E3",
             "startlinecolor": "#2a3f5f"
            },
            "baxis": {
             "endlinecolor": "#2a3f5f",
             "gridcolor": "#C8D4E3",
             "linecolor": "#C8D4E3",
             "minorgridcolor": "#C8D4E3",
             "startlinecolor": "#2a3f5f"
            },
            "type": "carpet"
           }
          ],
          "choropleth": [
           {
            "colorbar": {
             "outlinewidth": 0,
             "ticks": ""
            },
            "type": "choropleth"
           }
          ],
          "contour": [
           {
            "colorbar": {
             "outlinewidth": 0,
             "ticks": ""
            },
            "colorscale": [
             [
              0,
              "#0d0887"
             ],
             [
              0.1111111111111111,
              "#46039f"
             ],
             [
              0.2222222222222222,
              "#7201a8"
             ],
             [
              0.3333333333333333,
              "#9c179e"
             ],
             [
              0.4444444444444444,
              "#bd3786"
             ],
             [
              0.5555555555555556,
              "#d8576b"
             ],
             [
              0.6666666666666666,
              "#ed7953"
             ],
             [
              0.7777777777777778,
              "#fb9f3a"
             ],
             [
              0.8888888888888888,
              "#fdca26"
             ],
             [
              1,
              "#f0f921"
             ]
            ],
            "type": "contour"
           }
          ],
          "contourcarpet": [
           {
            "colorbar": {
             "outlinewidth": 0,
             "ticks": ""
            },
            "type": "contourcarpet"
           }
          ],
          "heatmap": [
           {
            "colorbar": {
             "outlinewidth": 0,
             "ticks": ""
            },
            "colorscale": [
             [
              0,
              "#0d0887"
             ],
             [
              0.1111111111111111,
              "#46039f"
             ],
             [
              0.2222222222222222,
              "#7201a8"
             ],
             [
              0.3333333333333333,
              "#9c179e"
             ],
             [
              0.4444444444444444,
              "#bd3786"
             ],
             [
              0.5555555555555556,
              "#d8576b"
             ],
             [
              0.6666666666666666,
              "#ed7953"
             ],
             [
              0.7777777777777778,
              "#fb9f3a"
             ],
             [
              0.8888888888888888,
              "#fdca26"
             ],
             [
              1,
              "#f0f921"
             ]
            ],
            "type": "heatmap"
           }
          ],
          "histogram": [
           {
            "marker": {
             "pattern": {
              "fillmode": "overlay",
              "size": 10,
              "solidity": 0.2
             }
            },
            "type": "histogram"
           }
          ],
          "histogram2d": [
           {
            "colorbar": {
             "outlinewidth": 0,
             "ticks": ""
            },
            "colorscale": [
             [
              0,
              "#0d0887"
             ],
             [
              0.1111111111111111,
              "#46039f"
             ],
             [
              0.2222222222222222,
              "#7201a8"
             ],
             [
              0.3333333333333333,
              "#9c179e"
             ],
             [
              0.4444444444444444,
              "#bd3786"
             ],
             [
              0.5555555555555556,
              "#d8576b"
             ],
             [
              0.6666666666666666,
              "#ed7953"
             ],
             [
              0.7777777777777778,
              "#fb9f3a"
             ],
             [
              0.8888888888888888,
              "#fdca26"
             ],
             [
              1,
              "#f0f921"
             ]
            ],
            "type": "histogram2d"
           }
          ],
          "histogram2dcontour": [
           {
            "colorbar": {
             "outlinewidth": 0,
             "ticks": ""
            },
            "colorscale": [
             [
              0,
              "#0d0887"
             ],
             [
              0.1111111111111111,
              "#46039f"
             ],
             [
              0.2222222222222222,
              "#7201a8"
             ],
             [
              0.3333333333333333,
              "#9c179e"
             ],
             [
              0.4444444444444444,
              "#bd3786"
             ],
             [
              0.5555555555555556,
              "#d8576b"
             ],
             [
              0.6666666666666666,
              "#ed7953"
             ],
             [
              0.7777777777777778,
              "#fb9f3a"
             ],
             [
              0.8888888888888888,
              "#fdca26"
             ],
             [
              1,
              "#f0f921"
             ]
            ],
            "type": "histogram2dcontour"
           }
          ],
          "mesh3d": [
           {
            "colorbar": {
             "outlinewidth": 0,
             "ticks": ""
            },
            "type": "mesh3d"
           }
          ],
          "parcoords": [
           {
            "line": {
             "colorbar": {
              "outlinewidth": 0,
              "ticks": ""
             }
            },
            "type": "parcoords"
           }
          ],
          "pie": [
           {
            "automargin": true,
            "type": "pie"
           }
          ],
          "scatter": [
           {
            "fillpattern": {
             "fillmode": "overlay",
             "size": 10,
             "solidity": 0.2
            },
            "type": "scatter"
           }
          ],
          "scatter3d": [
           {
            "line": {
             "colorbar": {
              "outlinewidth": 0,
              "ticks": ""
             }
            },
            "marker": {
             "colorbar": {
              "outlinewidth": 0,
              "ticks": ""
             }
            },
            "type": "scatter3d"
           }
          ],
          "scattercarpet": [
           {
            "marker": {
             "colorbar": {
              "outlinewidth": 0,
              "ticks": ""
             }
            },
            "type": "scattercarpet"
           }
          ],
          "scattergeo": [
           {
            "marker": {
             "colorbar": {
              "outlinewidth": 0,
              "ticks": ""
             }
            },
            "type": "scattergeo"
           }
          ],
          "scattergl": [
           {
            "marker": {
             "colorbar": {
              "outlinewidth": 0,
              "ticks": ""
             }
            },
            "type": "scattergl"
           }
          ],
          "scattermap": [
           {
            "marker": {
             "colorbar": {
              "outlinewidth": 0,
              "ticks": ""
             }
            },
            "type": "scattermap"
           }
          ],
          "scattermapbox": [
           {
            "marker": {
             "colorbar": {
              "outlinewidth": 0,
              "ticks": ""
             }
            },
            "type": "scattermapbox"
           }
          ],
          "scatterpolar": [
           {
            "marker": {
             "colorbar": {
              "outlinewidth": 0,
              "ticks": ""
             }
            },
            "type": "scatterpolar"
           }
          ],
          "scatterpolargl": [
           {
            "marker": {
             "colorbar": {
              "outlinewidth": 0,
              "ticks": ""
             }
            },
            "type": "scatterpolargl"
           }
          ],
          "scatterternary": [
           {
            "marker": {
             "colorbar": {
              "outlinewidth": 0,
              "ticks": ""
             }
            },
            "type": "scatterternary"
           }
          ],
          "surface": [
           {
            "colorbar": {
             "outlinewidth": 0,
             "ticks": ""
            },
            "colorscale": [
             [
              0,
              "#0d0887"
             ],
             [
              0.1111111111111111,
              "#46039f"
             ],
             [
              0.2222222222222222,
              "#7201a8"
             ],
             [
              0.3333333333333333,
              "#9c179e"
             ],
             [
              0.4444444444444444,
              "#bd3786"
             ],
             [
              0.5555555555555556,
              "#d8576b"
             ],
             [
              0.6666666666666666,
              "#ed7953"
             ],
             [
              0.7777777777777778,
              "#fb9f3a"
             ],
             [
              0.8888888888888888,
              "#fdca26"
             ],
             [
              1,
              "#f0f921"
             ]
            ],
            "type": "surface"
           }
          ],
          "table": [
           {
            "cells": {
             "fill": {
              "color": "#EBF0F8"
             },
             "line": {
              "color": "white"
             }
            },
            "header": {
             "fill": {
              "color": "#C8D4E3"
             },
             "line": {
              "color": "white"
             }
            },
            "type": "table"
           }
          ]
         },
         "layout": {
          "annotationdefaults": {
           "arrowcolor": "#2a3f5f",
           "arrowhead": 0,
           "arrowwidth": 1
          },
          "autotypenumbers": "strict",
          "coloraxis": {
           "colorbar": {
            "outlinewidth": 0,
            "ticks": ""
           }
          },
          "colorscale": {
           "diverging": [
            [
             0,
             "#8e0152"
            ],
            [
             0.1,
             "#c51b7d"
            ],
            [
             0.2,
             "#de77ae"
            ],
            [
             0.3,
             "#f1b6da"
            ],
            [
             0.4,
             "#fde0ef"
            ],
            [
             0.5,
             "#f7f7f7"
            ],
            [
             0.6,
             "#e6f5d0"
            ],
            [
             0.7,
             "#b8e186"
            ],
            [
             0.8,
             "#7fbc41"
            ],
            [
             0.9,
             "#4d9221"
            ],
            [
             1,
             "#276419"
            ]
           ],
           "sequential": [
            [
             0,
             "#0d0887"
            ],
            [
             0.1111111111111111,
             "#46039f"
            ],
            [
             0.2222222222222222,
             "#7201a8"
            ],
            [
             0.3333333333333333,
             "#9c179e"
            ],
            [
             0.4444444444444444,
             "#bd3786"
            ],
            [
             0.5555555555555556,
             "#d8576b"
            ],
            [
             0.6666666666666666,
             "#ed7953"
            ],
            [
             0.7777777777777778,
             "#fb9f3a"
            ],
            [
             0.8888888888888888,
             "#fdca26"
            ],
            [
             1,
             "#f0f921"
            ]
           ],
           "sequentialminus": [
            [
             0,
             "#0d0887"
            ],
            [
             0.1111111111111111,
             "#46039f"
            ],
            [
             0.2222222222222222,
             "#7201a8"
            ],
            [
             0.3333333333333333,
             "#9c179e"
            ],
            [
             0.4444444444444444,
             "#bd3786"
            ],
            [
             0.5555555555555556,
             "#d8576b"
            ],
            [
             0.6666666666666666,
             "#ed7953"
            ],
            [
             0.7777777777777778,
             "#fb9f3a"
            ],
            [
             0.8888888888888888,
             "#fdca26"
            ],
            [
             1,
             "#f0f921"
            ]
           ]
          },
          "colorway": [
           "#636efa",
           "#EF553B",
           "#00cc96",
           "#ab63fa",
           "#FFA15A",
           "#19d3f3",
           "#FF6692",
           "#B6E880",
           "#FF97FF",
           "#FECB52"
          ],
          "font": {
           "color": "#2a3f5f"
          },
          "geo": {
           "bgcolor": "white",
           "lakecolor": "white",
           "landcolor": "white",
           "showlakes": true,
           "showland": true,
           "subunitcolor": "#C8D4E3"
          },
          "hoverlabel": {
           "align": "left"
          },
          "hovermode": "closest",
          "mapbox": {
           "style": "light"
          },
          "paper_bgcolor": "white",
          "plot_bgcolor": "white",
          "polar": {
           "angularaxis": {
            "gridcolor": "#EBF0F8",
            "linecolor": "#EBF0F8",
            "ticks": ""
           },
           "bgcolor": "white",
           "radialaxis": {
            "gridcolor": "#EBF0F8",
            "linecolor": "#EBF0F8",
            "ticks": ""
           }
          },
          "scene": {
           "xaxis": {
            "backgroundcolor": "white",
            "gridcolor": "#DFE8F3",
            "gridwidth": 2,
            "linecolor": "#EBF0F8",
            "showbackground": true,
            "ticks": "",
            "zerolinecolor": "#EBF0F8"
           },
           "yaxis": {
            "backgroundcolor": "white",
            "gridcolor": "#DFE8F3",
            "gridwidth": 2,
            "linecolor": "#EBF0F8",
            "showbackground": true,
            "ticks": "",
            "zerolinecolor": "#EBF0F8"
           },
           "zaxis": {
            "backgroundcolor": "white",
            "gridcolor": "#DFE8F3",
            "gridwidth": 2,
            "linecolor": "#EBF0F8",
            "showbackground": true,
            "ticks": "",
            "zerolinecolor": "#EBF0F8"
           }
          },
          "shapedefaults": {
           "line": {
            "color": "#2a3f5f"
           }
          },
          "ternary": {
           "aaxis": {
            "gridcolor": "#DFE8F3",
            "linecolor": "#A2B1C6",
            "ticks": ""
           },
           "baxis": {
            "gridcolor": "#DFE8F3",
            "linecolor": "#A2B1C6",
            "ticks": ""
           },
           "bgcolor": "white",
           "caxis": {
            "gridcolor": "#DFE8F3",
            "linecolor": "#A2B1C6",
            "ticks": ""
           }
          },
          "title": {
           "x": 0.05
          },
          "xaxis": {
           "automargin": true,
           "gridcolor": "#EBF0F8",
           "linecolor": "#EBF0F8",
           "ticks": "",
           "title": {
            "standoff": 15
           },
           "zerolinecolor": "#EBF0F8",
           "zerolinewidth": 2
          },
          "yaxis": {
           "automargin": true,
           "gridcolor": "#EBF0F8",
           "linecolor": "#EBF0F8",
           "ticks": "",
           "title": {
            "standoff": 15
           },
           "zerolinecolor": "#EBF0F8",
           "zerolinewidth": 2
          }
         }
        },
        "title": {
         "text": "Распределение значений метрики F1"
        },
        "width": 800,
        "xaxis": {
         "range": [
          0.73,
          0.795
         ],
         "title": {
          "text": "F1"
         }
        },
        "yaxis": {
         "title": {
          "text": "Количество трейлов"
         }
        }
       }
      }
     },
     "metadata": {},
     "output_type": "display_data"
    }
   ],
   "source": [
    "plot_param_importances(study_palogreg).update_layout(width=800, height=500).show()\n",
    "trial_duration_performance(study_palogreg, model_names=['PassiveAggressiveClassifier'])\n",
    "trial_score_distribution(study_palogreg,\n",
    "                         model_names=['PassiveAggressiveClassifier'],\n",
    "                         nbinsx={'PassiveAggressiveClassifier': 25},\n",
    "                         xrange=(0.73, 0.795))"
   ]
  },
  {
   "cell_type": "markdown",
   "metadata": {},
   "source": [
    "- Важность гиперпараметров\n",
    "    - Наибольшее влияние на качество модели оказывает параметр preprocessor__vectorizer, его важность составляет 0.61.\n",
    "    - Вторым по значимости идёт preprocessor__vectorizer__ngram_range с важностью 0.34.\n",
    "- Зависимость F1 от времени выполнения трейла\n",
    "    - Модель демонстрирует очень быструю скорость работы: почти все трейлы выполняются за 17–19 секунд.\n",
    "    - Значения F1 концентрируются в верхней части шкалы, большинство трейлов дают результат 0.78–0.795.\n",
    "    - Лучшее значение F1 достигает примерно 0.796, при этом затраты по времени остаются минимальными.\n",
    "    - Это делает PassiveAggressiveClassifier отличным выбором для быстрых итераций, особенно в задачах с ограниченным временем обучения.\n",
    "- Распределение значений метрики F1\n",
    "    - Распределение F1 метрики имеет выраженный пик около 0.79, что свидетельствует о высокой устойчивости качества модели.\n",
    "    - Основная масса трейлов показывает высокие значения метрики, выше 0.78, что говорит о стабильной и предсказуемой работе модели в пределах гиперпараметрического поиска."
   ]
  },
  {
   "cell_type": "markdown",
   "metadata": {},
   "source": [
    "_____\n",
    "### <a id='toc1_6_7_'></a>[RandomForestClassifier](#toc0_)"
   ]
  },
  {
   "cell_type": "code",
   "execution_count": 30,
   "metadata": {},
   "outputs": [],
   "source": [
    "pipeline = get_pipepline(\n",
    "    lemm_column=X.columns[0],\n",
    ")\n",
    "model_params_cat = {\n",
    "    'model': [RandomForestClassifier(n_jobs=2)],\n",
    "    'preprocessor__vectorizer__ngram_range': [(1, 1), (1, 2)],\n",
    "}\n",
    "model_params_num = {\n",
    "    'model__n_estimators': lambda trial: trial.suggest_int('model__n_estimators', 50, 100),\n",
    "    'model__max_samples': lambda trial: trial.suggest_float('model__max_samples', 0.5, 0.7),\n",
    "    'model__max_depth': lambda trial: trial.suggest_int('model__max_depth', 7, 15),\n",
    "    'model__min_samples_split': lambda trial: trial.suggest_int('model__min_samples_split', 3, 7),\n",
    "    'model__min_samples_leaf': lambda trial: trial.suggest_int('model__min_samples_leaf', 2, 4),\n",
    "}"
   ]
  },
  {
   "cell_type": "code",
   "execution_count": 31,
   "metadata": {},
   "outputs": [],
   "source": [
    "study_randomforest = get_trained_optuna_study('randomforest', restudy=False, direction='maximize')"
   ]
  },
  {
   "cell_type": "code",
   "execution_count": 32,
   "metadata": {},
   "outputs": [
    {
     "name": "stdout",
     "output_type": "stream",
     "text": [
      "Best cross-val f1: 0.001\n"
     ]
    }
   ],
   "source": [
    "print(f'Best cross-val f1: {study_randomforest.best_value:.3f}')"
   ]
  },
  {
   "cell_type": "markdown",
   "metadata": {},
   "source": [
    "- Модель не показала необходимого результата, поэтому далее не рассматривается."
   ]
  },
  {
   "cell_type": "markdown",
   "metadata": {},
   "source": [
    "_____\n",
    "### <a id='toc1_6_8_'></a>[LGBMClassifier](#toc0_)"
   ]
  },
  {
   "cell_type": "code",
   "execution_count": 33,
   "metadata": {},
   "outputs": [],
   "source": [
    "pipeline = get_pipepline(\n",
    "    lemm_column=X.columns[0],\n",
    ")\n",
    "\n",
    "model_params_cat = {\n",
    "    'model': [LGBMClassifier(random_state=RANDOM_STATE, n_jobs=2, objective='rmse')],\n",
    "    'model__boosting_type': ['gbdt', 'rf', 'goss'],\n",
    "    'model__max_depth': [-1, 5, 10, 15, 20],\n",
    "    'preprocessor__vectorizer__ngram_range': [(1, 1), (1, 2)],\n",
    "}\n",
    "model_params_num = {\n",
    "    'model__learning_rate': lambda trial: trial.suggest_float('model__learning_rate', 0.01, 0.99),\n",
    "    'model__n_estimators': lambda trial: trial.suggest_int('model__n_estimators', 80, 150),\n",
    "    'model__min_child_samples': lambda trial: trial.suggest_int('model__min_child_samples', 5, 20),\n",
    "    'model__subsample': lambda trial: trial.suggest_float('model__subsample', 0.5, 0.9),\n",
    "    'model__colsample_bytree': lambda trial: trial.suggest_float('model__colsample_bytree', 0.6, 1),\n",
    "    'model__reg_alpha': lambda trial: trial.suggest_float('model__reg_alpha', 0.00, 0.1),\n",
    "    'model__reg_lambda': lambda trial: trial.suggest_float('model__reg_lambda', 0.00, 0.1),\n",
    "}"
   ]
  },
  {
   "cell_type": "code",
   "execution_count": 34,
   "metadata": {},
   "outputs": [],
   "source": [
    "study_lgbm = get_trained_optuna_study('lgbm', restudy=False, direction='maximize')"
   ]
  },
  {
   "cell_type": "code",
   "execution_count": 35,
   "metadata": {},
   "outputs": [
    {
     "name": "stdout",
     "output_type": "stream",
     "text": [
      "Best cross-val f1: 0.771\n"
     ]
    },
    {
     "data": {
      "text/html": [
       "<style>#sk-container-id-3 {color: black;background-color: white;}#sk-container-id-3 pre{padding: 0;}#sk-container-id-3 div.sk-toggleable {background-color: white;}#sk-container-id-3 label.sk-toggleable__label {cursor: pointer;display: block;width: 100%;margin-bottom: 0;padding: 0.3em;box-sizing: border-box;text-align: center;}#sk-container-id-3 label.sk-toggleable__label-arrow:before {content: \"▸\";float: left;margin-right: 0.25em;color: #696969;}#sk-container-id-3 label.sk-toggleable__label-arrow:hover:before {color: black;}#sk-container-id-3 div.sk-estimator:hover label.sk-toggleable__label-arrow:before {color: black;}#sk-container-id-3 div.sk-toggleable__content {max-height: 0;max-width: 0;overflow: hidden;text-align: left;background-color: #f0f8ff;}#sk-container-id-3 div.sk-toggleable__content pre {margin: 0.2em;color: black;border-radius: 0.25em;background-color: #f0f8ff;}#sk-container-id-3 input.sk-toggleable__control:checked~div.sk-toggleable__content {max-height: 200px;max-width: 100%;overflow: auto;}#sk-container-id-3 input.sk-toggleable__control:checked~label.sk-toggleable__label-arrow:before {content: \"▾\";}#sk-container-id-3 div.sk-estimator input.sk-toggleable__control:checked~label.sk-toggleable__label {background-color: #d4ebff;}#sk-container-id-3 div.sk-label input.sk-toggleable__control:checked~label.sk-toggleable__label {background-color: #d4ebff;}#sk-container-id-3 input.sk-hidden--visually {border: 0;clip: rect(1px 1px 1px 1px);clip: rect(1px, 1px, 1px, 1px);height: 1px;margin: -1px;overflow: hidden;padding: 0;position: absolute;width: 1px;}#sk-container-id-3 div.sk-estimator {font-family: monospace;background-color: #f0f8ff;border: 1px dotted black;border-radius: 0.25em;box-sizing: border-box;margin-bottom: 0.5em;}#sk-container-id-3 div.sk-estimator:hover {background-color: #d4ebff;}#sk-container-id-3 div.sk-parallel-item::after {content: \"\";width: 100%;border-bottom: 1px solid gray;flex-grow: 1;}#sk-container-id-3 div.sk-label:hover label.sk-toggleable__label {background-color: #d4ebff;}#sk-container-id-3 div.sk-serial::before {content: \"\";position: absolute;border-left: 1px solid gray;box-sizing: border-box;top: 0;bottom: 0;left: 50%;z-index: 0;}#sk-container-id-3 div.sk-serial {display: flex;flex-direction: column;align-items: center;background-color: white;padding-right: 0.2em;padding-left: 0.2em;position: relative;}#sk-container-id-3 div.sk-item {position: relative;z-index: 1;}#sk-container-id-3 div.sk-parallel {display: flex;align-items: stretch;justify-content: center;background-color: white;position: relative;}#sk-container-id-3 div.sk-item::before, #sk-container-id-3 div.sk-parallel-item::before {content: \"\";position: absolute;border-left: 1px solid gray;box-sizing: border-box;top: 0;bottom: 0;left: 50%;z-index: -1;}#sk-container-id-3 div.sk-parallel-item {display: flex;flex-direction: column;z-index: 1;position: relative;background-color: white;}#sk-container-id-3 div.sk-parallel-item:first-child::after {align-self: flex-end;width: 50%;}#sk-container-id-3 div.sk-parallel-item:last-child::after {align-self: flex-start;width: 50%;}#sk-container-id-3 div.sk-parallel-item:only-child::after {width: 0;}#sk-container-id-3 div.sk-dashed-wrapped {border: 1px dashed gray;margin: 0 0.4em 0.5em 0.4em;box-sizing: border-box;padding-bottom: 0.4em;background-color: white;}#sk-container-id-3 div.sk-label label {font-family: monospace;font-weight: bold;display: inline-block;line-height: 1.2em;}#sk-container-id-3 div.sk-label-container {text-align: center;}#sk-container-id-3 div.sk-container {/* jupyter's `normalize.less` sets `[hidden] { display: none; }` but bootstrap.min.css set `[hidden] { display: none !important; }` so we also need the `!important` here to be able to override the default hidden behavior on the sphinx rendered scikit-learn.org. See: https://github.com/scikit-learn/scikit-learn/issues/21755 */display: inline-block !important;position: relative;}#sk-container-id-3 div.sk-text-repr-fallback {display: none;}</style><div id=\"sk-container-id-3\" class=\"sk-top-container\"><div class=\"sk-text-repr-fallback\"><pre>Pipeline(steps=[(&#x27;preprocessor&#x27;,\n",
       "                 ColumnTransformer(transformers=[(&#x27;vectorizer&#x27;,\n",
       "                                                  TfidfVectorizer(dtype=&lt;class &#x27;numpy.float32&#x27;&gt;,\n",
       "                                                                  ngram_range=(1,\n",
       "                                                                               2),\n",
       "                                                                  stop_words=[&#x27;your&#x27;,\n",
       "                                                                              &#x27;them&#x27;,\n",
       "                                                                              &#x27;before&#x27;,\n",
       "                                                                              &#x27;me&#x27;,\n",
       "                                                                              &#x27;won&#x27;,\n",
       "                                                                              &#x27;against&#x27;,\n",
       "                                                                              &#x27;there&#x27;,\n",
       "                                                                              &#x27;been&#x27;,\n",
       "                                                                              &quot;they&#x27;re&quot;,\n",
       "                                                                              &#x27;each&#x27;,\n",
       "                                                                              &#x27;himself&#x27;,\n",
       "                                                                              &#x27;itself&#x27;,\n",
       "                                                                              &#x27;o&#x27;,\n",
       "                                                                              &#x27;some&#x27;,\n",
       "                                                                              &#x27;about&#x27;,\n",
       "                                                                              &#x27;until&#x27;,\n",
       "                                                                              &#x27;after&#x27;,\n",
       "                                                                              &#x27;than&#x27;,\n",
       "                                                                              &#x27;who&#x27;,\n",
       "                                                                              &quot;you&#x27;d&quot;,\n",
       "                                                                              &#x27;under&#x27;,\n",
       "                                                                              &quot;needn&#x27;t&quot;,\n",
       "                                                                              &#x27;herself&#x27;,\n",
       "                                                                              &#x27;shouldn&#x27;,\n",
       "                                                                              &quot;isn&#x27;t&quot;,\n",
       "                                                                              &#x27;the&#x27;,\n",
       "                                                                              &#x27;yourself&#x27;,\n",
       "                                                                              &quot;i&#x27;m&quot;,\n",
       "                                                                              &#x27;other&#x27;,\n",
       "                                                                              &#x27;that&#x27;, ...]),\n",
       "                                                  &#x27;lemmatized_text&#x27;)])),\n",
       "                (&#x27;model&#x27;,\n",
       "                 LGBMClassifier(colsample_bytree=0.6396857600825309,\n",
       "                                learning_rate=0.3886072432451956,\n",
       "                                min_child_samples=16, n_estimators=98, n_jobs=2,\n",
       "                                objective=&#x27;rmse&#x27;, random_state=42,\n",
       "                                reg_alpha=0.07713052207546063,\n",
       "                                reg_lambda=0.07371242795466323,\n",
       "                                subsample=0.7681788129204197))])</pre><b>In a Jupyter environment, please rerun this cell to show the HTML representation or trust the notebook. <br />On GitHub, the HTML representation is unable to render, please try loading this page with nbviewer.org.</b></div><div class=\"sk-container\" hidden><div class=\"sk-item sk-dashed-wrapped\"><div class=\"sk-label-container\"><div class=\"sk-label sk-toggleable\"><input class=\"sk-toggleable__control sk-hidden--visually\" id=\"sk-estimator-id-11\" type=\"checkbox\" ><label for=\"sk-estimator-id-11\" class=\"sk-toggleable__label sk-toggleable__label-arrow\">Pipeline</label><div class=\"sk-toggleable__content\"><pre>Pipeline(steps=[(&#x27;preprocessor&#x27;,\n",
       "                 ColumnTransformer(transformers=[(&#x27;vectorizer&#x27;,\n",
       "                                                  TfidfVectorizer(dtype=&lt;class &#x27;numpy.float32&#x27;&gt;,\n",
       "                                                                  ngram_range=(1,\n",
       "                                                                               2),\n",
       "                                                                  stop_words=[&#x27;your&#x27;,\n",
       "                                                                              &#x27;them&#x27;,\n",
       "                                                                              &#x27;before&#x27;,\n",
       "                                                                              &#x27;me&#x27;,\n",
       "                                                                              &#x27;won&#x27;,\n",
       "                                                                              &#x27;against&#x27;,\n",
       "                                                                              &#x27;there&#x27;,\n",
       "                                                                              &#x27;been&#x27;,\n",
       "                                                                              &quot;they&#x27;re&quot;,\n",
       "                                                                              &#x27;each&#x27;,\n",
       "                                                                              &#x27;himself&#x27;,\n",
       "                                                                              &#x27;itself&#x27;,\n",
       "                                                                              &#x27;o&#x27;,\n",
       "                                                                              &#x27;some&#x27;,\n",
       "                                                                              &#x27;about&#x27;,\n",
       "                                                                              &#x27;until&#x27;,\n",
       "                                                                              &#x27;after&#x27;,\n",
       "                                                                              &#x27;than&#x27;,\n",
       "                                                                              &#x27;who&#x27;,\n",
       "                                                                              &quot;you&#x27;d&quot;,\n",
       "                                                                              &#x27;under&#x27;,\n",
       "                                                                              &quot;needn&#x27;t&quot;,\n",
       "                                                                              &#x27;herself&#x27;,\n",
       "                                                                              &#x27;shouldn&#x27;,\n",
       "                                                                              &quot;isn&#x27;t&quot;,\n",
       "                                                                              &#x27;the&#x27;,\n",
       "                                                                              &#x27;yourself&#x27;,\n",
       "                                                                              &quot;i&#x27;m&quot;,\n",
       "                                                                              &#x27;other&#x27;,\n",
       "                                                                              &#x27;that&#x27;, ...]),\n",
       "                                                  &#x27;lemmatized_text&#x27;)])),\n",
       "                (&#x27;model&#x27;,\n",
       "                 LGBMClassifier(colsample_bytree=0.6396857600825309,\n",
       "                                learning_rate=0.3886072432451956,\n",
       "                                min_child_samples=16, n_estimators=98, n_jobs=2,\n",
       "                                objective=&#x27;rmse&#x27;, random_state=42,\n",
       "                                reg_alpha=0.07713052207546063,\n",
       "                                reg_lambda=0.07371242795466323,\n",
       "                                subsample=0.7681788129204197))])</pre></div></div></div><div class=\"sk-serial\"><div class=\"sk-item sk-dashed-wrapped\"><div class=\"sk-label-container\"><div class=\"sk-label sk-toggleable\"><input class=\"sk-toggleable__control sk-hidden--visually\" id=\"sk-estimator-id-12\" type=\"checkbox\" ><label for=\"sk-estimator-id-12\" class=\"sk-toggleable__label sk-toggleable__label-arrow\">preprocessor: ColumnTransformer</label><div class=\"sk-toggleable__content\"><pre>ColumnTransformer(transformers=[(&#x27;vectorizer&#x27;,\n",
       "                                 TfidfVectorizer(dtype=&lt;class &#x27;numpy.float32&#x27;&gt;,\n",
       "                                                 ngram_range=(1, 2),\n",
       "                                                 stop_words=[&#x27;your&#x27;, &#x27;them&#x27;,\n",
       "                                                             &#x27;before&#x27;, &#x27;me&#x27;,\n",
       "                                                             &#x27;won&#x27;, &#x27;against&#x27;,\n",
       "                                                             &#x27;there&#x27;, &#x27;been&#x27;,\n",
       "                                                             &quot;they&#x27;re&quot;, &#x27;each&#x27;,\n",
       "                                                             &#x27;himself&#x27;,\n",
       "                                                             &#x27;itself&#x27;, &#x27;o&#x27;,\n",
       "                                                             &#x27;some&#x27;, &#x27;about&#x27;,\n",
       "                                                             &#x27;until&#x27;, &#x27;after&#x27;,\n",
       "                                                             &#x27;than&#x27;, &#x27;who&#x27;,\n",
       "                                                             &quot;you&#x27;d&quot;, &#x27;under&#x27;,\n",
       "                                                             &quot;needn&#x27;t&quot;,\n",
       "                                                             &#x27;herself&#x27;,\n",
       "                                                             &#x27;shouldn&#x27;, &quot;isn&#x27;t&quot;,\n",
       "                                                             &#x27;the&#x27;, &#x27;yourself&#x27;,\n",
       "                                                             &quot;i&#x27;m&quot;, &#x27;other&#x27;,\n",
       "                                                             &#x27;that&#x27;, ...]),\n",
       "                                 &#x27;lemmatized_text&#x27;)])</pre></div></div></div><div class=\"sk-parallel\"><div class=\"sk-parallel-item\"><div class=\"sk-item\"><div class=\"sk-label-container\"><div class=\"sk-label sk-toggleable\"><input class=\"sk-toggleable__control sk-hidden--visually\" id=\"sk-estimator-id-13\" type=\"checkbox\" ><label for=\"sk-estimator-id-13\" class=\"sk-toggleable__label sk-toggleable__label-arrow\">vectorizer</label><div class=\"sk-toggleable__content\"><pre>lemmatized_text</pre></div></div></div><div class=\"sk-serial\"><div class=\"sk-item\"><div class=\"sk-estimator sk-toggleable\"><input class=\"sk-toggleable__control sk-hidden--visually\" id=\"sk-estimator-id-14\" type=\"checkbox\" ><label for=\"sk-estimator-id-14\" class=\"sk-toggleable__label sk-toggleable__label-arrow\">TfidfVectorizer</label><div class=\"sk-toggleable__content\"><pre>TfidfVectorizer(dtype=&lt;class &#x27;numpy.float32&#x27;&gt;, ngram_range=(1, 2),\n",
       "                stop_words=[&#x27;your&#x27;, &#x27;them&#x27;, &#x27;before&#x27;, &#x27;me&#x27;, &#x27;won&#x27;, &#x27;against&#x27;,\n",
       "                            &#x27;there&#x27;, &#x27;been&#x27;, &quot;they&#x27;re&quot;, &#x27;each&#x27;, &#x27;himself&#x27;,\n",
       "                            &#x27;itself&#x27;, &#x27;o&#x27;, &#x27;some&#x27;, &#x27;about&#x27;, &#x27;until&#x27;, &#x27;after&#x27;,\n",
       "                            &#x27;than&#x27;, &#x27;who&#x27;, &quot;you&#x27;d&quot;, &#x27;under&#x27;, &quot;needn&#x27;t&quot;,\n",
       "                            &#x27;herself&#x27;, &#x27;shouldn&#x27;, &quot;isn&#x27;t&quot;, &#x27;the&#x27;, &#x27;yourself&#x27;,\n",
       "                            &quot;i&#x27;m&quot;, &#x27;other&#x27;, &#x27;that&#x27;, ...])</pre></div></div></div></div></div></div></div></div><div class=\"sk-item\"><div class=\"sk-estimator sk-toggleable\"><input class=\"sk-toggleable__control sk-hidden--visually\" id=\"sk-estimator-id-15\" type=\"checkbox\" ><label for=\"sk-estimator-id-15\" class=\"sk-toggleable__label sk-toggleable__label-arrow\">LGBMClassifier</label><div class=\"sk-toggleable__content\"><pre>LGBMClassifier(colsample_bytree=0.6396857600825309,\n",
       "               learning_rate=0.3886072432451956, min_child_samples=16,\n",
       "               n_estimators=98, n_jobs=2, objective=&#x27;rmse&#x27;, random_state=42,\n",
       "               reg_alpha=0.07713052207546063, reg_lambda=0.07371242795466323,\n",
       "               subsample=0.7681788129204197)</pre></div></div></div></div></div></div></div>"
      ],
      "text/plain": [
       "Pipeline(steps=[('preprocessor',\n",
       "                 ColumnTransformer(transformers=[('vectorizer',\n",
       "                                                  TfidfVectorizer(dtype=<class 'numpy.float32'>,\n",
       "                                                                  ngram_range=(1,\n",
       "                                                                               2),\n",
       "                                                                  stop_words=['your',\n",
       "                                                                              'them',\n",
       "                                                                              'before',\n",
       "                                                                              'me',\n",
       "                                                                              'won',\n",
       "                                                                              'against',\n",
       "                                                                              'there',\n",
       "                                                                              'been',\n",
       "                                                                              \"they're\",\n",
       "                                                                              'each',\n",
       "                                                                              'himself',\n",
       "                                                                              'itself',\n",
       "                                                                              'o',\n",
       "                                                                              'some',\n",
       "                                                                              'about',\n",
       "                                                                              'until',\n",
       "                                                                              'after',\n",
       "                                                                              'than',\n",
       "                                                                              'who',\n",
       "                                                                              \"you'd\",\n",
       "                                                                              'under',\n",
       "                                                                              \"needn't\",\n",
       "                                                                              'herself',\n",
       "                                                                              'shouldn',\n",
       "                                                                              \"isn't\",\n",
       "                                                                              'the',\n",
       "                                                                              'yourself',\n",
       "                                                                              \"i'm\",\n",
       "                                                                              'other',\n",
       "                                                                              'that', ...]),\n",
       "                                                  'lemmatized_text')])),\n",
       "                ('model',\n",
       "                 LGBMClassifier(colsample_bytree=0.6396857600825309,\n",
       "                                learning_rate=0.3886072432451956,\n",
       "                                min_child_samples=16, n_estimators=98, n_jobs=2,\n",
       "                                objective='rmse', random_state=42,\n",
       "                                reg_alpha=0.07713052207546063,\n",
       "                                reg_lambda=0.07371242795466323,\n",
       "                                subsample=0.7681788129204197))])"
      ]
     },
     "execution_count": 35,
     "metadata": {},
     "output_type": "execute_result"
    }
   ],
   "source": [
    "print(f'Best cross-val f1: {study_lgbm.best_value:.3f}')\n",
    "best_params_lgbm = get_named_params(study_lgbm.best_params)\n",
    "dataset_lgbm = X_train, y_train, X_val, y_val, X_test, y_test\n",
    "lgbm = pipeline.set_params(**best_params_lgbm)\n",
    "lgbm"
   ]
  },
  {
   "cell_type": "code",
   "execution_count": 36,
   "metadata": {},
   "outputs": [
    {
     "data": {
      "application/vnd.plotly.v1+json": {
       "config": {
        "plotlyServerURL": "https://plot.ly"
       },
       "data": [
        {
         "cliponaxis": false,
         "hovertemplate": [
          "model (CategoricalDistribution): 0.0<extra></extra>",
          "model__reg_alpha (FloatDistribution): 0.0026377667278807675<extra></extra>",
          "model__reg_lambda (FloatDistribution): 0.004134088277258602<extra></extra>",
          "model__subsample (FloatDistribution): 0.0044626774876917324<extra></extra>",
          "model__n_estimators (IntDistribution): 0.00572593517502197<extra></extra>",
          "model__min_child_samples (IntDistribution): 0.010210938214208714<extra></extra>",
          "preprocessor__vectorizer__ngram_range (CategoricalDistribution): 0.01094796583812647<extra></extra>",
          "model__max_depth (CategoricalDistribution): 0.014277678250765551<extra></extra>",
          "model__colsample_bytree (FloatDistribution): 0.014884848850626423<extra></extra>",
          "model__learning_rate (FloatDistribution): 0.15581553982450666<extra></extra>",
          "model__boosting_type (CategoricalDistribution): 0.18524211001944835<extra></extra>",
          "preprocessor__vectorizer (CategoricalDistribution): 0.5916604513344649<extra></extra>"
         ],
         "name": "Objective Value",
         "orientation": "h",
         "text": [
          "<0.01",
          "<0.01",
          "<0.01",
          "<0.01",
          "<0.01",
          "0.01",
          "0.01",
          "0.01",
          "0.01",
          "0.16",
          "0.19",
          "0.59"
         ],
         "textposition": "outside",
         "type": "bar",
         "x": [
          0,
          0.0026377667278807675,
          0.004134088277258602,
          0.0044626774876917324,
          0.00572593517502197,
          0.010210938214208714,
          0.01094796583812647,
          0.014277678250765551,
          0.014884848850626423,
          0.15581553982450666,
          0.18524211001944835,
          0.5916604513344649
         ],
         "y": [
          "model",
          "model__reg_alpha",
          "model__reg_lambda",
          "model__subsample",
          "model__n_estimators",
          "model__min_child_samples",
          "preprocessor__vectorizer__ngram_range",
          "model__max_depth",
          "model__colsample_bytree",
          "model__learning_rate",
          "model__boosting_type",
          "preprocessor__vectorizer"
         ]
        }
       ],
       "layout": {
        "height": 500,
        "template": {
         "data": {
          "bar": [
           {
            "error_x": {
             "color": "#2a3f5f"
            },
            "error_y": {
             "color": "#2a3f5f"
            },
            "marker": {
             "line": {
              "color": "#E5ECF6",
              "width": 0.5
             },
             "pattern": {
              "fillmode": "overlay",
              "size": 10,
              "solidity": 0.2
             }
            },
            "type": "bar"
           }
          ],
          "barpolar": [
           {
            "marker": {
             "line": {
              "color": "#E5ECF6",
              "width": 0.5
             },
             "pattern": {
              "fillmode": "overlay",
              "size": 10,
              "solidity": 0.2
             }
            },
            "type": "barpolar"
           }
          ],
          "carpet": [
           {
            "aaxis": {
             "endlinecolor": "#2a3f5f",
             "gridcolor": "white",
             "linecolor": "white",
             "minorgridcolor": "white",
             "startlinecolor": "#2a3f5f"
            },
            "baxis": {
             "endlinecolor": "#2a3f5f",
             "gridcolor": "white",
             "linecolor": "white",
             "minorgridcolor": "white",
             "startlinecolor": "#2a3f5f"
            },
            "type": "carpet"
           }
          ],
          "choropleth": [
           {
            "colorbar": {
             "outlinewidth": 0,
             "ticks": ""
            },
            "type": "choropleth"
           }
          ],
          "contour": [
           {
            "colorbar": {
             "outlinewidth": 0,
             "ticks": ""
            },
            "colorscale": [
             [
              0,
              "#0d0887"
             ],
             [
              0.1111111111111111,
              "#46039f"
             ],
             [
              0.2222222222222222,
              "#7201a8"
             ],
             [
              0.3333333333333333,
              "#9c179e"
             ],
             [
              0.4444444444444444,
              "#bd3786"
             ],
             [
              0.5555555555555556,
              "#d8576b"
             ],
             [
              0.6666666666666666,
              "#ed7953"
             ],
             [
              0.7777777777777778,
              "#fb9f3a"
             ],
             [
              0.8888888888888888,
              "#fdca26"
             ],
             [
              1,
              "#f0f921"
             ]
            ],
            "type": "contour"
           }
          ],
          "contourcarpet": [
           {
            "colorbar": {
             "outlinewidth": 0,
             "ticks": ""
            },
            "type": "contourcarpet"
           }
          ],
          "heatmap": [
           {
            "colorbar": {
             "outlinewidth": 0,
             "ticks": ""
            },
            "colorscale": [
             [
              0,
              "#0d0887"
             ],
             [
              0.1111111111111111,
              "#46039f"
             ],
             [
              0.2222222222222222,
              "#7201a8"
             ],
             [
              0.3333333333333333,
              "#9c179e"
             ],
             [
              0.4444444444444444,
              "#bd3786"
             ],
             [
              0.5555555555555556,
              "#d8576b"
             ],
             [
              0.6666666666666666,
              "#ed7953"
             ],
             [
              0.7777777777777778,
              "#fb9f3a"
             ],
             [
              0.8888888888888888,
              "#fdca26"
             ],
             [
              1,
              "#f0f921"
             ]
            ],
            "type": "heatmap"
           }
          ],
          "histogram": [
           {
            "marker": {
             "pattern": {
              "fillmode": "overlay",
              "size": 10,
              "solidity": 0.2
             }
            },
            "type": "histogram"
           }
          ],
          "histogram2d": [
           {
            "colorbar": {
             "outlinewidth": 0,
             "ticks": ""
            },
            "colorscale": [
             [
              0,
              "#0d0887"
             ],
             [
              0.1111111111111111,
              "#46039f"
             ],
             [
              0.2222222222222222,
              "#7201a8"
             ],
             [
              0.3333333333333333,
              "#9c179e"
             ],
             [
              0.4444444444444444,
              "#bd3786"
             ],
             [
              0.5555555555555556,
              "#d8576b"
             ],
             [
              0.6666666666666666,
              "#ed7953"
             ],
             [
              0.7777777777777778,
              "#fb9f3a"
             ],
             [
              0.8888888888888888,
              "#fdca26"
             ],
             [
              1,
              "#f0f921"
             ]
            ],
            "type": "histogram2d"
           }
          ],
          "histogram2dcontour": [
           {
            "colorbar": {
             "outlinewidth": 0,
             "ticks": ""
            },
            "colorscale": [
             [
              0,
              "#0d0887"
             ],
             [
              0.1111111111111111,
              "#46039f"
             ],
             [
              0.2222222222222222,
              "#7201a8"
             ],
             [
              0.3333333333333333,
              "#9c179e"
             ],
             [
              0.4444444444444444,
              "#bd3786"
             ],
             [
              0.5555555555555556,
              "#d8576b"
             ],
             [
              0.6666666666666666,
              "#ed7953"
             ],
             [
              0.7777777777777778,
              "#fb9f3a"
             ],
             [
              0.8888888888888888,
              "#fdca26"
             ],
             [
              1,
              "#f0f921"
             ]
            ],
            "type": "histogram2dcontour"
           }
          ],
          "mesh3d": [
           {
            "colorbar": {
             "outlinewidth": 0,
             "ticks": ""
            },
            "type": "mesh3d"
           }
          ],
          "parcoords": [
           {
            "line": {
             "colorbar": {
              "outlinewidth": 0,
              "ticks": ""
             }
            },
            "type": "parcoords"
           }
          ],
          "pie": [
           {
            "automargin": true,
            "type": "pie"
           }
          ],
          "scatter": [
           {
            "fillpattern": {
             "fillmode": "overlay",
             "size": 10,
             "solidity": 0.2
            },
            "type": "scatter"
           }
          ],
          "scatter3d": [
           {
            "line": {
             "colorbar": {
              "outlinewidth": 0,
              "ticks": ""
             }
            },
            "marker": {
             "colorbar": {
              "outlinewidth": 0,
              "ticks": ""
             }
            },
            "type": "scatter3d"
           }
          ],
          "scattercarpet": [
           {
            "marker": {
             "colorbar": {
              "outlinewidth": 0,
              "ticks": ""
             }
            },
            "type": "scattercarpet"
           }
          ],
          "scattergeo": [
           {
            "marker": {
             "colorbar": {
              "outlinewidth": 0,
              "ticks": ""
             }
            },
            "type": "scattergeo"
           }
          ],
          "scattergl": [
           {
            "marker": {
             "colorbar": {
              "outlinewidth": 0,
              "ticks": ""
             }
            },
            "type": "scattergl"
           }
          ],
          "scattermap": [
           {
            "marker": {
             "colorbar": {
              "outlinewidth": 0,
              "ticks": ""
             }
            },
            "type": "scattermap"
           }
          ],
          "scattermapbox": [
           {
            "marker": {
             "colorbar": {
              "outlinewidth": 0,
              "ticks": ""
             }
            },
            "type": "scattermapbox"
           }
          ],
          "scatterpolar": [
           {
            "marker": {
             "colorbar": {
              "outlinewidth": 0,
              "ticks": ""
             }
            },
            "type": "scatterpolar"
           }
          ],
          "scatterpolargl": [
           {
            "marker": {
             "colorbar": {
              "outlinewidth": 0,
              "ticks": ""
             }
            },
            "type": "scatterpolargl"
           }
          ],
          "scatterternary": [
           {
            "marker": {
             "colorbar": {
              "outlinewidth": 0,
              "ticks": ""
             }
            },
            "type": "scatterternary"
           }
          ],
          "surface": [
           {
            "colorbar": {
             "outlinewidth": 0,
             "ticks": ""
            },
            "colorscale": [
             [
              0,
              "#0d0887"
             ],
             [
              0.1111111111111111,
              "#46039f"
             ],
             [
              0.2222222222222222,
              "#7201a8"
             ],
             [
              0.3333333333333333,
              "#9c179e"
             ],
             [
              0.4444444444444444,
              "#bd3786"
             ],
             [
              0.5555555555555556,
              "#d8576b"
             ],
             [
              0.6666666666666666,
              "#ed7953"
             ],
             [
              0.7777777777777778,
              "#fb9f3a"
             ],
             [
              0.8888888888888888,
              "#fdca26"
             ],
             [
              1,
              "#f0f921"
             ]
            ],
            "type": "surface"
           }
          ],
          "table": [
           {
            "cells": {
             "fill": {
              "color": "#EBF0F8"
             },
             "line": {
              "color": "white"
             }
            },
            "header": {
             "fill": {
              "color": "#C8D4E3"
             },
             "line": {
              "color": "white"
             }
            },
            "type": "table"
           }
          ]
         },
         "layout": {
          "annotationdefaults": {
           "arrowcolor": "#2a3f5f",
           "arrowhead": 0,
           "arrowwidth": 1
          },
          "autotypenumbers": "strict",
          "coloraxis": {
           "colorbar": {
            "outlinewidth": 0,
            "ticks": ""
           }
          },
          "colorscale": {
           "diverging": [
            [
             0,
             "#8e0152"
            ],
            [
             0.1,
             "#c51b7d"
            ],
            [
             0.2,
             "#de77ae"
            ],
            [
             0.3,
             "#f1b6da"
            ],
            [
             0.4,
             "#fde0ef"
            ],
            [
             0.5,
             "#f7f7f7"
            ],
            [
             0.6,
             "#e6f5d0"
            ],
            [
             0.7,
             "#b8e186"
            ],
            [
             0.8,
             "#7fbc41"
            ],
            [
             0.9,
             "#4d9221"
            ],
            [
             1,
             "#276419"
            ]
           ],
           "sequential": [
            [
             0,
             "#0d0887"
            ],
            [
             0.1111111111111111,
             "#46039f"
            ],
            [
             0.2222222222222222,
             "#7201a8"
            ],
            [
             0.3333333333333333,
             "#9c179e"
            ],
            [
             0.4444444444444444,
             "#bd3786"
            ],
            [
             0.5555555555555556,
             "#d8576b"
            ],
            [
             0.6666666666666666,
             "#ed7953"
            ],
            [
             0.7777777777777778,
             "#fb9f3a"
            ],
            [
             0.8888888888888888,
             "#fdca26"
            ],
            [
             1,
             "#f0f921"
            ]
           ],
           "sequentialminus": [
            [
             0,
             "#0d0887"
            ],
            [
             0.1111111111111111,
             "#46039f"
            ],
            [
             0.2222222222222222,
             "#7201a8"
            ],
            [
             0.3333333333333333,
             "#9c179e"
            ],
            [
             0.4444444444444444,
             "#bd3786"
            ],
            [
             0.5555555555555556,
             "#d8576b"
            ],
            [
             0.6666666666666666,
             "#ed7953"
            ],
            [
             0.7777777777777778,
             "#fb9f3a"
            ],
            [
             0.8888888888888888,
             "#fdca26"
            ],
            [
             1,
             "#f0f921"
            ]
           ]
          },
          "colorway": [
           "#636efa",
           "#EF553B",
           "#00cc96",
           "#ab63fa",
           "#FFA15A",
           "#19d3f3",
           "#FF6692",
           "#B6E880",
           "#FF97FF",
           "#FECB52"
          ],
          "font": {
           "color": "#2a3f5f"
          },
          "geo": {
           "bgcolor": "white",
           "lakecolor": "white",
           "landcolor": "#E5ECF6",
           "showlakes": true,
           "showland": true,
           "subunitcolor": "white"
          },
          "hoverlabel": {
           "align": "left"
          },
          "hovermode": "closest",
          "mapbox": {
           "style": "light"
          },
          "paper_bgcolor": "white",
          "plot_bgcolor": "#E5ECF6",
          "polar": {
           "angularaxis": {
            "gridcolor": "white",
            "linecolor": "white",
            "ticks": ""
           },
           "bgcolor": "#E5ECF6",
           "radialaxis": {
            "gridcolor": "white",
            "linecolor": "white",
            "ticks": ""
           }
          },
          "scene": {
           "xaxis": {
            "backgroundcolor": "#E5ECF6",
            "gridcolor": "white",
            "gridwidth": 2,
            "linecolor": "white",
            "showbackground": true,
            "ticks": "",
            "zerolinecolor": "white"
           },
           "yaxis": {
            "backgroundcolor": "#E5ECF6",
            "gridcolor": "white",
            "gridwidth": 2,
            "linecolor": "white",
            "showbackground": true,
            "ticks": "",
            "zerolinecolor": "white"
           },
           "zaxis": {
            "backgroundcolor": "#E5ECF6",
            "gridcolor": "white",
            "gridwidth": 2,
            "linecolor": "white",
            "showbackground": true,
            "ticks": "",
            "zerolinecolor": "white"
           }
          },
          "shapedefaults": {
           "line": {
            "color": "#2a3f5f"
           }
          },
          "ternary": {
           "aaxis": {
            "gridcolor": "white",
            "linecolor": "white",
            "ticks": ""
           },
           "baxis": {
            "gridcolor": "white",
            "linecolor": "white",
            "ticks": ""
           },
           "bgcolor": "#E5ECF6",
           "caxis": {
            "gridcolor": "white",
            "linecolor": "white",
            "ticks": ""
           }
          },
          "title": {
           "x": 0.05
          },
          "xaxis": {
           "automargin": true,
           "gridcolor": "white",
           "linecolor": "white",
           "ticks": "",
           "title": {
            "standoff": 15
           },
           "zerolinecolor": "white",
           "zerolinewidth": 2
          },
          "yaxis": {
           "automargin": true,
           "gridcolor": "white",
           "linecolor": "white",
           "ticks": "",
           "title": {
            "standoff": 15
           },
           "zerolinecolor": "white",
           "zerolinewidth": 2
          }
         }
        },
        "title": {
         "text": "Hyperparameter Importances"
        },
        "width": 800,
        "xaxis": {
         "title": {
          "text": "Hyperparameter Importance"
         }
        },
        "yaxis": {
         "title": {
          "text": "Hyperparameter"
         }
        }
       }
      }
     },
     "metadata": {},
     "output_type": "display_data"
    },
    {
     "data": {
      "application/vnd.plotly.v1+json": {
       "config": {
        "plotlyServerURL": "https://plot.ly"
       },
       "data": [
        {
         "legendgroup": "0",
         "legendgrouptitle": {
          "text": "LGBMClassifier"
         },
         "marker": {
          "color": "#FFA15A",
          "opacity": 0.5,
          "size": 10
         },
         "mode": "markers",
         "name": "LGBMClassifier",
         "type": "scatter",
         "x": {
          "bdata": "pyIVxhYCNUC4XP3YJDFEQM3qHW6HSkdAxa2CGOgwSUAa/Wg4ZbpKQKBQTx+BD1JAkdRCyeQRUkC94T5yaxVSQIvFbworKFJAZCR7hJouUkDiAtAoXV1SQHTwTGiSeVJApTLFHASaUkD7A+W2fb1SQDKP/MHA51JAe7/RjhvqUkDHoX4XtvRSQF5kAn6NUlNANbIrLSNyU0CNfjScMpBTQKwahLndDFRAa7bykv9EVEBSCrq9pI5UQF+VC5V/r1RAgXhdv2C9VECvWwTG+tFUQJS9pZwvGFVAoBhZMscyVUAnSkIibUdVQLsKKT+pWFVALgJjfQN2VUC9GwsKg8BVQCE/G7lu91VAA+yjU1f8VUCqCg3EsgFWQOAu+3WnCVdAet6NBYXlV0Bi9NxCVzFYQE1qaAOwQlhAsdtnlZlKWEDZ7h6g+1JYQHUg66nVdlhAaoZUUbyQWEDtKM5RRy5ZQDS6g9iZQ1lAjxt+N91uWUAIyJdQwZRZQDHvcaYJpVlAZMkcy7vGWUAF3smnx9FZQLPsSWBz2llAjUephCewWkAIILWJkyhbQHu7JTlgNVtAqMgh4uZiW0BFEyhiEZVbQHXlszwPKFxA+RBUjV4tXEAXmus00kJcQA5JLZRMY1xAH5268llyXEAVrHE2HaxcQERrRZvjMl1ApDmy8ss0XUCFtTF2wqldQKJjB5W4EF5ALzIBv0ZIXkBgHjLlQ0xeQIp1qnzPhl5ANExtqYOwXkDe5SK+E2ZfQPxuumWHaV9A3zKny2KlX0BrKLUX0atfQDYdAdws9F9APBVwz3McYEBbI4Jx8EVgQKuvrgrUH2FAcM0d/S82YUCuY1xxcfNhQJ1M3CoIEWJA0v9yLVodYkBB2ClWjSpiQDvkZrgBcWJA6xnCMUuKYkArhqsDINdiQNrlWx/WK2NAlxsMdVg6Y0C8s3bbhUtjQL4ViQlqbGNASBlxAWhvY0CXHeIfNqtjQIGU2LU9f2RAsTOFzmv5ZEDQfM7dLrFlQPol4q3zomZAmZoEb0jTZ0ClZg+0AsBoQA4tsp3v+mtAC0W6n1O3bEA=",
          "dtype": "f8"
         },
         "y": {
          "bdata": "lotcVfoh5j+CqnnDZ1nlP4NT8VtFGOg/nSCdVfrO5T9zD1K3tN/nP9/TOeif0ec/6Y7/GjPm5j922A8iTEHlP73Z3sSt0eU/40u03QCt4z/l41SlX/LnP9fdb4tmCug/9O3YFygO6D9MCIl84ijoPwAtZlTeJOg/z3S0PqAG6D/0BBSyCBDoP2Cw894jM+g/fXN0jdu95z8QvF4BD27nPzE8XdC0gec/yj0EE9+N5z+HhmZ8jxXoP0jyRUoBLOg/NJjG91Qh5j9u2xPbhUfoPzspB1HagOc/M///vzfE5z+Oybs9ykroP6WMPuhDGOg/kx0H2rMU6D/aaXX8sV/oPzcy0InhWeg/ziansQc75z8ay/l06xXoPzoA2WFb/uQ/YyH6HlWi5j88hLs6k6rlP1c5KaEPWeg/Tuv55O+T6D/HRt9Nf5voP1ae+x4UlOg/RYeo/Iln5z+npECLuBboP3y0AJc0U+g/bpFL/7kT5D+hlUo8/kjoP1VLjFSMreg/RZx+hF1U6D9TwstmRZLoPwXrICSxJeg/4+KIedGa6D8mLh5MrY7oP2JxIf5ymOg/agO7MVKe6D+Y80hJ/KLoP1OpvbOrQeU/RANUHNGU6D9G9am6R63oP7glv4D2leg/XBr3lsMp6D8GJgwXypPoPwJIJDUrqug/QMVnKe9/6D9j+mRX/5voPzmm5BeVXOc/Dos9M4OH6D8Wf1f+ntflP7MKJV+dq+g/Mtho1z9W6D9LsYK2r5XoP0Np25AJnug/tka9zZR36D9SsJ2A2IjoP97b/8zFoeg/EDDmLv/45j/qH8AbOJnoP/10arLBOOU/RYrTVbwi6D9ChMgse6noP5nI4BbmQOg/OUbTi28P5j/tE6Cf2hfoP1kigSsNoeg/OvLQINJG6D+6biJUljfoP4dHaoDCPeg/enKZD/Xy5z9Gyd8J0kjoP9jBtt+uOug/mrVdFZqV6D/tSAqn+0noP2qo2evvOug/E9wjUakr6D9+G72Jm8jnPzfJ/QNnO+c/SeRnBwT35j9Mix+WDvvnP4442JUDOOc/EpfO/sP65z8=",
          "dtype": "f8"
         }
        },
        {
         "legendgroup": "0",
         "marker": {
          "color": "#FFA15A",
          "line": {
           "color": "black",
           "width": 2
          },
          "size": 10
         },
         "mode": "markers",
         "name": "Лучшее: LGBMClassifier",
         "showlegend": false,
         "type": "scatter",
         "x": [
          102.578714
         ],
         "y": [
          0.7711850787476161
         ]
        }
       ],
       "layout": {
        "height": 500,
        "showlegend": true,
        "template": {
         "data": {
          "bar": [
           {
            "error_x": {
             "color": "#2a3f5f"
            },
            "error_y": {
             "color": "#2a3f5f"
            },
            "marker": {
             "line": {
              "color": "white",
              "width": 0.5
             },
             "pattern": {
              "fillmode": "overlay",
              "size": 10,
              "solidity": 0.2
             }
            },
            "type": "bar"
           }
          ],
          "barpolar": [
           {
            "marker": {
             "line": {
              "color": "white",
              "width": 0.5
             },
             "pattern": {
              "fillmode": "overlay",
              "size": 10,
              "solidity": 0.2
             }
            },
            "type": "barpolar"
           }
          ],
          "carpet": [
           {
            "aaxis": {
             "endlinecolor": "#2a3f5f",
             "gridcolor": "#C8D4E3",
             "linecolor": "#C8D4E3",
             "minorgridcolor": "#C8D4E3",
             "startlinecolor": "#2a3f5f"
            },
            "baxis": {
             "endlinecolor": "#2a3f5f",
             "gridcolor": "#C8D4E3",
             "linecolor": "#C8D4E3",
             "minorgridcolor": "#C8D4E3",
             "startlinecolor": "#2a3f5f"
            },
            "type": "carpet"
           }
          ],
          "choropleth": [
           {
            "colorbar": {
             "outlinewidth": 0,
             "ticks": ""
            },
            "type": "choropleth"
           }
          ],
          "contour": [
           {
            "colorbar": {
             "outlinewidth": 0,
             "ticks": ""
            },
            "colorscale": [
             [
              0,
              "#0d0887"
             ],
             [
              0.1111111111111111,
              "#46039f"
             ],
             [
              0.2222222222222222,
              "#7201a8"
             ],
             [
              0.3333333333333333,
              "#9c179e"
             ],
             [
              0.4444444444444444,
              "#bd3786"
             ],
             [
              0.5555555555555556,
              "#d8576b"
             ],
             [
              0.6666666666666666,
              "#ed7953"
             ],
             [
              0.7777777777777778,
              "#fb9f3a"
             ],
             [
              0.8888888888888888,
              "#fdca26"
             ],
             [
              1,
              "#f0f921"
             ]
            ],
            "type": "contour"
           }
          ],
          "contourcarpet": [
           {
            "colorbar": {
             "outlinewidth": 0,
             "ticks": ""
            },
            "type": "contourcarpet"
           }
          ],
          "heatmap": [
           {
            "colorbar": {
             "outlinewidth": 0,
             "ticks": ""
            },
            "colorscale": [
             [
              0,
              "#0d0887"
             ],
             [
              0.1111111111111111,
              "#46039f"
             ],
             [
              0.2222222222222222,
              "#7201a8"
             ],
             [
              0.3333333333333333,
              "#9c179e"
             ],
             [
              0.4444444444444444,
              "#bd3786"
             ],
             [
              0.5555555555555556,
              "#d8576b"
             ],
             [
              0.6666666666666666,
              "#ed7953"
             ],
             [
              0.7777777777777778,
              "#fb9f3a"
             ],
             [
              0.8888888888888888,
              "#fdca26"
             ],
             [
              1,
              "#f0f921"
             ]
            ],
            "type": "heatmap"
           }
          ],
          "histogram": [
           {
            "marker": {
             "pattern": {
              "fillmode": "overlay",
              "size": 10,
              "solidity": 0.2
             }
            },
            "type": "histogram"
           }
          ],
          "histogram2d": [
           {
            "colorbar": {
             "outlinewidth": 0,
             "ticks": ""
            },
            "colorscale": [
             [
              0,
              "#0d0887"
             ],
             [
              0.1111111111111111,
              "#46039f"
             ],
             [
              0.2222222222222222,
              "#7201a8"
             ],
             [
              0.3333333333333333,
              "#9c179e"
             ],
             [
              0.4444444444444444,
              "#bd3786"
             ],
             [
              0.5555555555555556,
              "#d8576b"
             ],
             [
              0.6666666666666666,
              "#ed7953"
             ],
             [
              0.7777777777777778,
              "#fb9f3a"
             ],
             [
              0.8888888888888888,
              "#fdca26"
             ],
             [
              1,
              "#f0f921"
             ]
            ],
            "type": "histogram2d"
           }
          ],
          "histogram2dcontour": [
           {
            "colorbar": {
             "outlinewidth": 0,
             "ticks": ""
            },
            "colorscale": [
             [
              0,
              "#0d0887"
             ],
             [
              0.1111111111111111,
              "#46039f"
             ],
             [
              0.2222222222222222,
              "#7201a8"
             ],
             [
              0.3333333333333333,
              "#9c179e"
             ],
             [
              0.4444444444444444,
              "#bd3786"
             ],
             [
              0.5555555555555556,
              "#d8576b"
             ],
             [
              0.6666666666666666,
              "#ed7953"
             ],
             [
              0.7777777777777778,
              "#fb9f3a"
             ],
             [
              0.8888888888888888,
              "#fdca26"
             ],
             [
              1,
              "#f0f921"
             ]
            ],
            "type": "histogram2dcontour"
           }
          ],
          "mesh3d": [
           {
            "colorbar": {
             "outlinewidth": 0,
             "ticks": ""
            },
            "type": "mesh3d"
           }
          ],
          "parcoords": [
           {
            "line": {
             "colorbar": {
              "outlinewidth": 0,
              "ticks": ""
             }
            },
            "type": "parcoords"
           }
          ],
          "pie": [
           {
            "automargin": true,
            "type": "pie"
           }
          ],
          "scatter": [
           {
            "fillpattern": {
             "fillmode": "overlay",
             "size": 10,
             "solidity": 0.2
            },
            "type": "scatter"
           }
          ],
          "scatter3d": [
           {
            "line": {
             "colorbar": {
              "outlinewidth": 0,
              "ticks": ""
             }
            },
            "marker": {
             "colorbar": {
              "outlinewidth": 0,
              "ticks": ""
             }
            },
            "type": "scatter3d"
           }
          ],
          "scattercarpet": [
           {
            "marker": {
             "colorbar": {
              "outlinewidth": 0,
              "ticks": ""
             }
            },
            "type": "scattercarpet"
           }
          ],
          "scattergeo": [
           {
            "marker": {
             "colorbar": {
              "outlinewidth": 0,
              "ticks": ""
             }
            },
            "type": "scattergeo"
           }
          ],
          "scattergl": [
           {
            "marker": {
             "colorbar": {
              "outlinewidth": 0,
              "ticks": ""
             }
            },
            "type": "scattergl"
           }
          ],
          "scattermap": [
           {
            "marker": {
             "colorbar": {
              "outlinewidth": 0,
              "ticks": ""
             }
            },
            "type": "scattermap"
           }
          ],
          "scattermapbox": [
           {
            "marker": {
             "colorbar": {
              "outlinewidth": 0,
              "ticks": ""
             }
            },
            "type": "scattermapbox"
           }
          ],
          "scatterpolar": [
           {
            "marker": {
             "colorbar": {
              "outlinewidth": 0,
              "ticks": ""
             }
            },
            "type": "scatterpolar"
           }
          ],
          "scatterpolargl": [
           {
            "marker": {
             "colorbar": {
              "outlinewidth": 0,
              "ticks": ""
             }
            },
            "type": "scatterpolargl"
           }
          ],
          "scatterternary": [
           {
            "marker": {
             "colorbar": {
              "outlinewidth": 0,
              "ticks": ""
             }
            },
            "type": "scatterternary"
           }
          ],
          "surface": [
           {
            "colorbar": {
             "outlinewidth": 0,
             "ticks": ""
            },
            "colorscale": [
             [
              0,
              "#0d0887"
             ],
             [
              0.1111111111111111,
              "#46039f"
             ],
             [
              0.2222222222222222,
              "#7201a8"
             ],
             [
              0.3333333333333333,
              "#9c179e"
             ],
             [
              0.4444444444444444,
              "#bd3786"
             ],
             [
              0.5555555555555556,
              "#d8576b"
             ],
             [
              0.6666666666666666,
              "#ed7953"
             ],
             [
              0.7777777777777778,
              "#fb9f3a"
             ],
             [
              0.8888888888888888,
              "#fdca26"
             ],
             [
              1,
              "#f0f921"
             ]
            ],
            "type": "surface"
           }
          ],
          "table": [
           {
            "cells": {
             "fill": {
              "color": "#EBF0F8"
             },
             "line": {
              "color": "white"
             }
            },
            "header": {
             "fill": {
              "color": "#C8D4E3"
             },
             "line": {
              "color": "white"
             }
            },
            "type": "table"
           }
          ]
         },
         "layout": {
          "annotationdefaults": {
           "arrowcolor": "#2a3f5f",
           "arrowhead": 0,
           "arrowwidth": 1
          },
          "autotypenumbers": "strict",
          "coloraxis": {
           "colorbar": {
            "outlinewidth": 0,
            "ticks": ""
           }
          },
          "colorscale": {
           "diverging": [
            [
             0,
             "#8e0152"
            ],
            [
             0.1,
             "#c51b7d"
            ],
            [
             0.2,
             "#de77ae"
            ],
            [
             0.3,
             "#f1b6da"
            ],
            [
             0.4,
             "#fde0ef"
            ],
            [
             0.5,
             "#f7f7f7"
            ],
            [
             0.6,
             "#e6f5d0"
            ],
            [
             0.7,
             "#b8e186"
            ],
            [
             0.8,
             "#7fbc41"
            ],
            [
             0.9,
             "#4d9221"
            ],
            [
             1,
             "#276419"
            ]
           ],
           "sequential": [
            [
             0,
             "#0d0887"
            ],
            [
             0.1111111111111111,
             "#46039f"
            ],
            [
             0.2222222222222222,
             "#7201a8"
            ],
            [
             0.3333333333333333,
             "#9c179e"
            ],
            [
             0.4444444444444444,
             "#bd3786"
            ],
            [
             0.5555555555555556,
             "#d8576b"
            ],
            [
             0.6666666666666666,
             "#ed7953"
            ],
            [
             0.7777777777777778,
             "#fb9f3a"
            ],
            [
             0.8888888888888888,
             "#fdca26"
            ],
            [
             1,
             "#f0f921"
            ]
           ],
           "sequentialminus": [
            [
             0,
             "#0d0887"
            ],
            [
             0.1111111111111111,
             "#46039f"
            ],
            [
             0.2222222222222222,
             "#7201a8"
            ],
            [
             0.3333333333333333,
             "#9c179e"
            ],
            [
             0.4444444444444444,
             "#bd3786"
            ],
            [
             0.5555555555555556,
             "#d8576b"
            ],
            [
             0.6666666666666666,
             "#ed7953"
            ],
            [
             0.7777777777777778,
             "#fb9f3a"
            ],
            [
             0.8888888888888888,
             "#fdca26"
            ],
            [
             1,
             "#f0f921"
            ]
           ]
          },
          "colorway": [
           "#636efa",
           "#EF553B",
           "#00cc96",
           "#ab63fa",
           "#FFA15A",
           "#19d3f3",
           "#FF6692",
           "#B6E880",
           "#FF97FF",
           "#FECB52"
          ],
          "font": {
           "color": "#2a3f5f"
          },
          "geo": {
           "bgcolor": "white",
           "lakecolor": "white",
           "landcolor": "white",
           "showlakes": true,
           "showland": true,
           "subunitcolor": "#C8D4E3"
          },
          "hoverlabel": {
           "align": "left"
          },
          "hovermode": "closest",
          "mapbox": {
           "style": "light"
          },
          "paper_bgcolor": "white",
          "plot_bgcolor": "white",
          "polar": {
           "angularaxis": {
            "gridcolor": "#EBF0F8",
            "linecolor": "#EBF0F8",
            "ticks": ""
           },
           "bgcolor": "white",
           "radialaxis": {
            "gridcolor": "#EBF0F8",
            "linecolor": "#EBF0F8",
            "ticks": ""
           }
          },
          "scene": {
           "xaxis": {
            "backgroundcolor": "white",
            "gridcolor": "#DFE8F3",
            "gridwidth": 2,
            "linecolor": "#EBF0F8",
            "showbackground": true,
            "ticks": "",
            "zerolinecolor": "#EBF0F8"
           },
           "yaxis": {
            "backgroundcolor": "white",
            "gridcolor": "#DFE8F3",
            "gridwidth": 2,
            "linecolor": "#EBF0F8",
            "showbackground": true,
            "ticks": "",
            "zerolinecolor": "#EBF0F8"
           },
           "zaxis": {
            "backgroundcolor": "white",
            "gridcolor": "#DFE8F3",
            "gridwidth": 2,
            "linecolor": "#EBF0F8",
            "showbackground": true,
            "ticks": "",
            "zerolinecolor": "#EBF0F8"
           }
          },
          "shapedefaults": {
           "line": {
            "color": "#2a3f5f"
           }
          },
          "ternary": {
           "aaxis": {
            "gridcolor": "#DFE8F3",
            "linecolor": "#A2B1C6",
            "ticks": ""
           },
           "baxis": {
            "gridcolor": "#DFE8F3",
            "linecolor": "#A2B1C6",
            "ticks": ""
           },
           "bgcolor": "white",
           "caxis": {
            "gridcolor": "#DFE8F3",
            "linecolor": "#A2B1C6",
            "ticks": ""
           }
          },
          "title": {
           "x": 0.05
          },
          "xaxis": {
           "automargin": true,
           "gridcolor": "#EBF0F8",
           "linecolor": "#EBF0F8",
           "ticks": "",
           "title": {
            "standoff": 15
           },
           "zerolinecolor": "#EBF0F8",
           "zerolinewidth": 2
          },
          "yaxis": {
           "automargin": true,
           "gridcolor": "#EBF0F8",
           "linecolor": "#EBF0F8",
           "ticks": "",
           "title": {
            "standoff": 15
           },
           "zerolinecolor": "#EBF0F8",
           "zerolinewidth": 2
          }
         }
        },
        "title": {
         "text": "F1 в зависимости от времени трейла"
        },
        "width": 800,
        "xaxis": {
         "title": {
          "text": "Время выполнения трейла (сек)"
         }
        },
        "yaxis": {
         "title": {
          "text": "F1"
         }
        }
       }
      }
     },
     "metadata": {},
     "output_type": "display_data"
    },
    {
     "data": {
      "application/vnd.plotly.v1+json": {
       "config": {
        "plotlyServerURL": "https://plot.ly"
       },
       "data": [
        {
         "legendgroup": "0",
         "legendgrouptitle": {
          "text": "LGBMClassifier"
         },
         "marker": {
          "color": "#19D3F3"
         },
         "name": "LGBMClassifier",
         "nbinsx": 30,
         "opacity": 0.6,
         "type": "histogram",
         "x": {
          "bdata": "jjjYlQM45z/jS7TdAK3jPzfJ/QNnO+c/6Y7/GjPm5j+Wi1xV+iHmPzlG04tvD+Y/dtgPIkxB5T+92d7ErdHlPzoA2WFb/uQ/SeRnBwT35j99c3SN273nPzP//783xOc/39M56J/R5z/l41SlX/LnP/Tt2BcoDug/TAiJfOIo6D9gsPPeIzPoP3MPUre03+c/NJjG91Qh5j/0BBSyCBDoP4KqecNnWeU/AC1mVN4k6D/PdLQ+oAboPwXrICSxJeg/p6RAi7gW6D+ljD7oQxjoP84mp7EHO+c/kx0H2rMU6D+dIJ1V+s7lPzmm5BeVXOc/g1PxW0UY6D/X3W+LZgroP4eGZnyPFeg/Gsv5dOsV6D87KQdR2oDnPxC8XgEPbuc/XBr3lsMp6D8Wf1f+ntflP0yLH5YO++c/E9wjUakr6D9jIfoeVaLmPxKXzv7D+uc/fhu9iZvI5z/tSAqn+0noP9jBtt+uOug/RsnfCdJI6D+6biJUljfoP+0ToJ/aF+g/EDDmLv/45j9qqNnr7zroP0jyRUoBLOg/enKZD/Xy5z+HR2qAwj3oP5nI4BbmQOg/OvLQINJG6D9FitNVvCLoP3y0AJc0U+g/oZVKPP5I6D9FnH6EXVToP26RS/+5E+Q/VzkpoQ9Z6D+Oybs9ykroP27bE9uFR+g/Mtho1z9W6D/aaXX8sV/oPyYuHkytjug/tka9zZR36D9Tqb2zq0HlP0uxgravleg/3tv/zMWh6D/KPQQT343nP0DFZynvf+g/UrCdgNiI6D8Oiz0zg4foPwYmDBfKk+g/YnEh/nKY6D+Y80hJ/KLoP/10arLBOOU/6h/AGziZ6D9ChMgse6noP0WHqPyJZ+c/mrVdFZqV6D9ZIoErDaHoP0Np25AJnug/Y/pkV/+b6D+4Jb+A9pXoP2oDuzFSnug/4+KIedGa6D/HRt9Nf5voPzcy0InhWeg/PIS7OpOq5T9TwstmRZLoP1ae+x4UlOg/VUuMVIyt6D9O6/nk75PoP0b1qbpHreg/AkgkNSuq6D+zCiVfnavoPzE8XdC0gec/RANUHNGU6D8=",
          "dtype": "f8"
         }
        }
       ],
       "layout": {
        "barmode": "overlay",
        "height": 500,
        "showlegend": true,
        "template": {
         "data": {
          "bar": [
           {
            "error_x": {
             "color": "#2a3f5f"
            },
            "error_y": {
             "color": "#2a3f5f"
            },
            "marker": {
             "line": {
              "color": "white",
              "width": 0.5
             },
             "pattern": {
              "fillmode": "overlay",
              "size": 10,
              "solidity": 0.2
             }
            },
            "type": "bar"
           }
          ],
          "barpolar": [
           {
            "marker": {
             "line": {
              "color": "white",
              "width": 0.5
             },
             "pattern": {
              "fillmode": "overlay",
              "size": 10,
              "solidity": 0.2
             }
            },
            "type": "barpolar"
           }
          ],
          "carpet": [
           {
            "aaxis": {
             "endlinecolor": "#2a3f5f",
             "gridcolor": "#C8D4E3",
             "linecolor": "#C8D4E3",
             "minorgridcolor": "#C8D4E3",
             "startlinecolor": "#2a3f5f"
            },
            "baxis": {
             "endlinecolor": "#2a3f5f",
             "gridcolor": "#C8D4E3",
             "linecolor": "#C8D4E3",
             "minorgridcolor": "#C8D4E3",
             "startlinecolor": "#2a3f5f"
            },
            "type": "carpet"
           }
          ],
          "choropleth": [
           {
            "colorbar": {
             "outlinewidth": 0,
             "ticks": ""
            },
            "type": "choropleth"
           }
          ],
          "contour": [
           {
            "colorbar": {
             "outlinewidth": 0,
             "ticks": ""
            },
            "colorscale": [
             [
              0,
              "#0d0887"
             ],
             [
              0.1111111111111111,
              "#46039f"
             ],
             [
              0.2222222222222222,
              "#7201a8"
             ],
             [
              0.3333333333333333,
              "#9c179e"
             ],
             [
              0.4444444444444444,
              "#bd3786"
             ],
             [
              0.5555555555555556,
              "#d8576b"
             ],
             [
              0.6666666666666666,
              "#ed7953"
             ],
             [
              0.7777777777777778,
              "#fb9f3a"
             ],
             [
              0.8888888888888888,
              "#fdca26"
             ],
             [
              1,
              "#f0f921"
             ]
            ],
            "type": "contour"
           }
          ],
          "contourcarpet": [
           {
            "colorbar": {
             "outlinewidth": 0,
             "ticks": ""
            },
            "type": "contourcarpet"
           }
          ],
          "heatmap": [
           {
            "colorbar": {
             "outlinewidth": 0,
             "ticks": ""
            },
            "colorscale": [
             [
              0,
              "#0d0887"
             ],
             [
              0.1111111111111111,
              "#46039f"
             ],
             [
              0.2222222222222222,
              "#7201a8"
             ],
             [
              0.3333333333333333,
              "#9c179e"
             ],
             [
              0.4444444444444444,
              "#bd3786"
             ],
             [
              0.5555555555555556,
              "#d8576b"
             ],
             [
              0.6666666666666666,
              "#ed7953"
             ],
             [
              0.7777777777777778,
              "#fb9f3a"
             ],
             [
              0.8888888888888888,
              "#fdca26"
             ],
             [
              1,
              "#f0f921"
             ]
            ],
            "type": "heatmap"
           }
          ],
          "histogram": [
           {
            "marker": {
             "pattern": {
              "fillmode": "overlay",
              "size": 10,
              "solidity": 0.2
             }
            },
            "type": "histogram"
           }
          ],
          "histogram2d": [
           {
            "colorbar": {
             "outlinewidth": 0,
             "ticks": ""
            },
            "colorscale": [
             [
              0,
              "#0d0887"
             ],
             [
              0.1111111111111111,
              "#46039f"
             ],
             [
              0.2222222222222222,
              "#7201a8"
             ],
             [
              0.3333333333333333,
              "#9c179e"
             ],
             [
              0.4444444444444444,
              "#bd3786"
             ],
             [
              0.5555555555555556,
              "#d8576b"
             ],
             [
              0.6666666666666666,
              "#ed7953"
             ],
             [
              0.7777777777777778,
              "#fb9f3a"
             ],
             [
              0.8888888888888888,
              "#fdca26"
             ],
             [
              1,
              "#f0f921"
             ]
            ],
            "type": "histogram2d"
           }
          ],
          "histogram2dcontour": [
           {
            "colorbar": {
             "outlinewidth": 0,
             "ticks": ""
            },
            "colorscale": [
             [
              0,
              "#0d0887"
             ],
             [
              0.1111111111111111,
              "#46039f"
             ],
             [
              0.2222222222222222,
              "#7201a8"
             ],
             [
              0.3333333333333333,
              "#9c179e"
             ],
             [
              0.4444444444444444,
              "#bd3786"
             ],
             [
              0.5555555555555556,
              "#d8576b"
             ],
             [
              0.6666666666666666,
              "#ed7953"
             ],
             [
              0.7777777777777778,
              "#fb9f3a"
             ],
             [
              0.8888888888888888,
              "#fdca26"
             ],
             [
              1,
              "#f0f921"
             ]
            ],
            "type": "histogram2dcontour"
           }
          ],
          "mesh3d": [
           {
            "colorbar": {
             "outlinewidth": 0,
             "ticks": ""
            },
            "type": "mesh3d"
           }
          ],
          "parcoords": [
           {
            "line": {
             "colorbar": {
              "outlinewidth": 0,
              "ticks": ""
             }
            },
            "type": "parcoords"
           }
          ],
          "pie": [
           {
            "automargin": true,
            "type": "pie"
           }
          ],
          "scatter": [
           {
            "fillpattern": {
             "fillmode": "overlay",
             "size": 10,
             "solidity": 0.2
            },
            "type": "scatter"
           }
          ],
          "scatter3d": [
           {
            "line": {
             "colorbar": {
              "outlinewidth": 0,
              "ticks": ""
             }
            },
            "marker": {
             "colorbar": {
              "outlinewidth": 0,
              "ticks": ""
             }
            },
            "type": "scatter3d"
           }
          ],
          "scattercarpet": [
           {
            "marker": {
             "colorbar": {
              "outlinewidth": 0,
              "ticks": ""
             }
            },
            "type": "scattercarpet"
           }
          ],
          "scattergeo": [
           {
            "marker": {
             "colorbar": {
              "outlinewidth": 0,
              "ticks": ""
             }
            },
            "type": "scattergeo"
           }
          ],
          "scattergl": [
           {
            "marker": {
             "colorbar": {
              "outlinewidth": 0,
              "ticks": ""
             }
            },
            "type": "scattergl"
           }
          ],
          "scattermap": [
           {
            "marker": {
             "colorbar": {
              "outlinewidth": 0,
              "ticks": ""
             }
            },
            "type": "scattermap"
           }
          ],
          "scattermapbox": [
           {
            "marker": {
             "colorbar": {
              "outlinewidth": 0,
              "ticks": ""
             }
            },
            "type": "scattermapbox"
           }
          ],
          "scatterpolar": [
           {
            "marker": {
             "colorbar": {
              "outlinewidth": 0,
              "ticks": ""
             }
            },
            "type": "scatterpolar"
           }
          ],
          "scatterpolargl": [
           {
            "marker": {
             "colorbar": {
              "outlinewidth": 0,
              "ticks": ""
             }
            },
            "type": "scatterpolargl"
           }
          ],
          "scatterternary": [
           {
            "marker": {
             "colorbar": {
              "outlinewidth": 0,
              "ticks": ""
             }
            },
            "type": "scatterternary"
           }
          ],
          "surface": [
           {
            "colorbar": {
             "outlinewidth": 0,
             "ticks": ""
            },
            "colorscale": [
             [
              0,
              "#0d0887"
             ],
             [
              0.1111111111111111,
              "#46039f"
             ],
             [
              0.2222222222222222,
              "#7201a8"
             ],
             [
              0.3333333333333333,
              "#9c179e"
             ],
             [
              0.4444444444444444,
              "#bd3786"
             ],
             [
              0.5555555555555556,
              "#d8576b"
             ],
             [
              0.6666666666666666,
              "#ed7953"
             ],
             [
              0.7777777777777778,
              "#fb9f3a"
             ],
             [
              0.8888888888888888,
              "#fdca26"
             ],
             [
              1,
              "#f0f921"
             ]
            ],
            "type": "surface"
           }
          ],
          "table": [
           {
            "cells": {
             "fill": {
              "color": "#EBF0F8"
             },
             "line": {
              "color": "white"
             }
            },
            "header": {
             "fill": {
              "color": "#C8D4E3"
             },
             "line": {
              "color": "white"
             }
            },
            "type": "table"
           }
          ]
         },
         "layout": {
          "annotationdefaults": {
           "arrowcolor": "#2a3f5f",
           "arrowhead": 0,
           "arrowwidth": 1
          },
          "autotypenumbers": "strict",
          "coloraxis": {
           "colorbar": {
            "outlinewidth": 0,
            "ticks": ""
           }
          },
          "colorscale": {
           "diverging": [
            [
             0,
             "#8e0152"
            ],
            [
             0.1,
             "#c51b7d"
            ],
            [
             0.2,
             "#de77ae"
            ],
            [
             0.3,
             "#f1b6da"
            ],
            [
             0.4,
             "#fde0ef"
            ],
            [
             0.5,
             "#f7f7f7"
            ],
            [
             0.6,
             "#e6f5d0"
            ],
            [
             0.7,
             "#b8e186"
            ],
            [
             0.8,
             "#7fbc41"
            ],
            [
             0.9,
             "#4d9221"
            ],
            [
             1,
             "#276419"
            ]
           ],
           "sequential": [
            [
             0,
             "#0d0887"
            ],
            [
             0.1111111111111111,
             "#46039f"
            ],
            [
             0.2222222222222222,
             "#7201a8"
            ],
            [
             0.3333333333333333,
             "#9c179e"
            ],
            [
             0.4444444444444444,
             "#bd3786"
            ],
            [
             0.5555555555555556,
             "#d8576b"
            ],
            [
             0.6666666666666666,
             "#ed7953"
            ],
            [
             0.7777777777777778,
             "#fb9f3a"
            ],
            [
             0.8888888888888888,
             "#fdca26"
            ],
            [
             1,
             "#f0f921"
            ]
           ],
           "sequentialminus": [
            [
             0,
             "#0d0887"
            ],
            [
             0.1111111111111111,
             "#46039f"
            ],
            [
             0.2222222222222222,
             "#7201a8"
            ],
            [
             0.3333333333333333,
             "#9c179e"
            ],
            [
             0.4444444444444444,
             "#bd3786"
            ],
            [
             0.5555555555555556,
             "#d8576b"
            ],
            [
             0.6666666666666666,
             "#ed7953"
            ],
            [
             0.7777777777777778,
             "#fb9f3a"
            ],
            [
             0.8888888888888888,
             "#fdca26"
            ],
            [
             1,
             "#f0f921"
            ]
           ]
          },
          "colorway": [
           "#636efa",
           "#EF553B",
           "#00cc96",
           "#ab63fa",
           "#FFA15A",
           "#19d3f3",
           "#FF6692",
           "#B6E880",
           "#FF97FF",
           "#FECB52"
          ],
          "font": {
           "color": "#2a3f5f"
          },
          "geo": {
           "bgcolor": "white",
           "lakecolor": "white",
           "landcolor": "white",
           "showlakes": true,
           "showland": true,
           "subunitcolor": "#C8D4E3"
          },
          "hoverlabel": {
           "align": "left"
          },
          "hovermode": "closest",
          "mapbox": {
           "style": "light"
          },
          "paper_bgcolor": "white",
          "plot_bgcolor": "white",
          "polar": {
           "angularaxis": {
            "gridcolor": "#EBF0F8",
            "linecolor": "#EBF0F8",
            "ticks": ""
           },
           "bgcolor": "white",
           "radialaxis": {
            "gridcolor": "#EBF0F8",
            "linecolor": "#EBF0F8",
            "ticks": ""
           }
          },
          "scene": {
           "xaxis": {
            "backgroundcolor": "white",
            "gridcolor": "#DFE8F3",
            "gridwidth": 2,
            "linecolor": "#EBF0F8",
            "showbackground": true,
            "ticks": "",
            "zerolinecolor": "#EBF0F8"
           },
           "yaxis": {
            "backgroundcolor": "white",
            "gridcolor": "#DFE8F3",
            "gridwidth": 2,
            "linecolor": "#EBF0F8",
            "showbackground": true,
            "ticks": "",
            "zerolinecolor": "#EBF0F8"
           },
           "zaxis": {
            "backgroundcolor": "white",
            "gridcolor": "#DFE8F3",
            "gridwidth": 2,
            "linecolor": "#EBF0F8",
            "showbackground": true,
            "ticks": "",
            "zerolinecolor": "#EBF0F8"
           }
          },
          "shapedefaults": {
           "line": {
            "color": "#2a3f5f"
           }
          },
          "ternary": {
           "aaxis": {
            "gridcolor": "#DFE8F3",
            "linecolor": "#A2B1C6",
            "ticks": ""
           },
           "baxis": {
            "gridcolor": "#DFE8F3",
            "linecolor": "#A2B1C6",
            "ticks": ""
           },
           "bgcolor": "white",
           "caxis": {
            "gridcolor": "#DFE8F3",
            "linecolor": "#A2B1C6",
            "ticks": ""
           }
          },
          "title": {
           "x": 0.05
          },
          "xaxis": {
           "automargin": true,
           "gridcolor": "#EBF0F8",
           "linecolor": "#EBF0F8",
           "ticks": "",
           "title": {
            "standoff": 15
           },
           "zerolinecolor": "#EBF0F8",
           "zerolinewidth": 2
          },
          "yaxis": {
           "automargin": true,
           "gridcolor": "#EBF0F8",
           "linecolor": "#EBF0F8",
           "ticks": "",
           "title": {
            "standoff": 15
           },
           "zerolinecolor": "#EBF0F8",
           "zerolinewidth": 2
          }
         }
        },
        "title": {
         "text": "Распределение значений метрики F1"
        },
        "width": 800,
        "xaxis": {
         "range": [
          0.61,
          0.78
         ],
         "title": {
          "text": "F1"
         }
        },
        "yaxis": {
         "title": {
          "text": "Количество трейлов"
         }
        }
       }
      }
     },
     "metadata": {},
     "output_type": "display_data"
    }
   ],
   "source": [
    "plot_param_importances(study_lgbm).update_layout(width=800, height=500).show()\n",
    "trial_duration_performance(study_lgbm, model_names=['LGBMClassifier'])\n",
    "trial_score_distribution(study_lgbm,\n",
    "                         model_names=['LGBMClassifier'],\n",
    "                         nbinsx={'LGBMClassifier': 30},\n",
    "                         xrange=(0.61, 0.78))"
   ]
  },
  {
   "cell_type": "markdown",
   "metadata": {},
   "source": [
    "- Важность гиперпараметров\n",
    "    - Наибольшее влияние на метрику оказывает параметр preprocessor__vectorizer с важностью 0.64.\n",
    "    - Далее идут model__learning_rate (0.16) и model__boosting_type (0.13), что говорит о чувствительности модели к типу бустинга и скорости обучения.\n",
    "- Зависимость F1 от времени выполнения трейла\n",
    "    - Время выполнения трейлов заметно выше по сравнению с линейными моделями — от 50 до 200 секунд.\n",
    "    - Наблюдается разброс F1-метрики — от 0.64 до 0.76, что говорит о нестабильности при разных гиперпараметрах.\n",
    "    - Наилучшие результаты (F1 ≈ 0.76) достигаются при времени работы около 100–120 секунд.\n",
    "- Распределение значений метрики F1\n",
    "    - Распределение имеет широкий разброс, что говорит о чувствительности модели к настройке гиперпараметров.\n",
    "    - Большинство значений сосредоточены в диапазоне 0.72–0.76, с пиком около 0.75.\n",
    "    - Несмотря на наличие слабых результатов (ниже 0.70), значительная доля трейлов показывает высокое качество, если параметры подобраны удачно."
   ]
  },
  {
   "cell_type": "markdown",
   "metadata": {},
   "source": [
    "_____\n",
    "### <a id='toc1_6_9_'></a>[BERT + PassiveAggressiveClassifier](#toc0_)"
   ]
  },
  {
   "cell_type": "markdown",
   "metadata": {},
   "source": [
    "*Уменьшаем датасет*"
   ]
  },
  {
   "cell_type": "code",
   "execution_count": 37,
   "metadata": {},
   "outputs": [],
   "source": [
    "Xy = comments[['cleared_text', 'toxic']].sample(n=25000, random_state=RANDOM_STATE).reset_index(drop=True)\n",
    "X = Xy.cleared_text\n",
    "y = Xy.toxic"
   ]
  },
  {
   "cell_type": "markdown",
   "metadata": {},
   "source": [
    "*Подкачиваем токенизатор*"
   ]
  },
  {
   "cell_type": "code",
   "execution_count": 38,
   "metadata": {},
   "outputs": [],
   "source": [
    "pretrained_weights = 'unitary/toxic-bert'\n",
    "tokenizer = BertTokenizer.from_pretrained(pretrained_weights)\n",
    "model = BertModel.from_pretrained(pretrained_weights)\n",
    "device = torch.device('cuda:0' if torch.cuda.is_available() else 'cpu')\n",
    "model.to(device);"
   ]
  },
  {
   "cell_type": "markdown",
   "metadata": {},
   "source": [
    "*Распределение длины токенов*"
   ]
  },
  {
   "cell_type": "code",
   "execution_count": 39,
   "metadata": {},
   "outputs": [
    {
     "data": {
      "application/vnd.plotly.v1+json": {
       "config": {
        "plotlyServerURL": "https://plot.ly"
       },
       "data": [
        {
         "marker": {
          "color": "blue"
         },
         "nbinsx": 50,
         "opacity": 0.75,
         "type": "histogram",
         "x": [
          22,
          100,
          20,
          39,
          4,
          18,
          84,
          46,
          6,
          21,
          35,
          22,
          37,
          50,
          20,
          192,
          110,
          14,
          331,
          23,
          15,
          187,
          35,
          12,
          107,
          23,
          11,
          67,
          18,
          103,
          512,
          29,
          15,
          67,
          11,
          121,
          21,
          44,
          136,
          27,
          45,
          18,
          78,
          22,
          36,
          13,
          478,
          26,
          128,
          51,
          142,
          20,
          65,
          82,
          15,
          151,
          196,
          46,
          27,
          7,
          22,
          146,
          35,
          37,
          103,
          24,
          36,
          24,
          371,
          195,
          12,
          81,
          119,
          46,
          12,
          12,
          61,
          16,
          51,
          287,
          58,
          102,
          87,
          56,
          29,
          89,
          38,
          130,
          71,
          10,
          62,
          14,
          54,
          31,
          57,
          39,
          264,
          195,
          79,
          62,
          59,
          117,
          328,
          81,
          512,
          338,
          177,
          79,
          64,
          21,
          17,
          36,
          24,
          76,
          36,
          43,
          23,
          39,
          234,
          55,
          7,
          38,
          72,
          60,
          81,
          252,
          59,
          20,
          14,
          201,
          63,
          89,
          41,
          33,
          24,
          42,
          6,
          16,
          14,
          51,
          23,
          17,
          31,
          13,
          10,
          313,
          75,
          58,
          13,
          339,
          39,
          19,
          410,
          48,
          50,
          51,
          7,
          20,
          54,
          58,
          22,
          24,
          39,
          24,
          100,
          335,
          48,
          16,
          11,
          16,
          14,
          33,
          36,
          39,
          45,
          239,
          94,
          5,
          17,
          52,
          56,
          19,
          27,
          53,
          50,
          13,
          78,
          56,
          74,
          102,
          136,
          34,
          23,
          18,
          28,
          153,
          27,
          48,
          12,
          142,
          32,
          159,
          21,
          73,
          96,
          303,
          19,
          133,
          10,
          98,
          12,
          51,
          28,
          29,
          105,
          31,
          26,
          18,
          26,
          44,
          53,
          130,
          115,
          18,
          9,
          25,
          9,
          51,
          135,
          25,
          120,
          33,
          49,
          25,
          19,
          4,
          38,
          145,
          120,
          239,
          7,
          39,
          31,
          133,
          141,
          105,
          28,
          6,
          35,
          127,
          38,
          122,
          37,
          53,
          43,
          49,
          89,
          12,
          66,
          181,
          221,
          109,
          31,
          52,
          39,
          79,
          229,
          37,
          16,
          21,
          45,
          28,
          20,
          115,
          75,
          55,
          11,
          40,
          178,
          12,
          41,
          18,
          146,
          182,
          49,
          14,
          27,
          50,
          25,
          21,
          39,
          34,
          81,
          27,
          101,
          109,
          292,
          36,
          58,
          20,
          47,
          22,
          8,
          40,
          95,
          120,
          36,
          95,
          10,
          6,
          22,
          10,
          40,
          134,
          39,
          10,
          87,
          25,
          374,
          17,
          14,
          17,
          483,
          44,
          244,
          15,
          61,
          14,
          6,
          90,
          46,
          17,
          49,
          25,
          17,
          107,
          158,
          66,
          13,
          25,
          363,
          47,
          58,
          7,
          32,
          68,
          74,
          51,
          19,
          150,
          75,
          40,
          174,
          32,
          6,
          58,
          109,
          7,
          58,
          6,
          253,
          33,
          19,
          7,
          16,
          109,
          55,
          14,
          95,
          54,
          7,
          19,
          13,
          60,
          154,
          27,
          4,
          64,
          144,
          9,
          39,
          12,
          103,
          13,
          37,
          93,
          41,
          110,
          32,
          84,
          47,
          239,
          261,
          41,
          12,
          21,
          82,
          10,
          23,
          12,
          10,
          30,
          41,
          146,
          61,
          16,
          30,
          49,
          15,
          203,
          7,
          29,
          133,
          63,
          152,
          17,
          14,
          37,
          58,
          12,
          43,
          24,
          7,
          83,
          129,
          41,
          53,
          84,
          67,
          210,
          20,
          23,
          26,
          25,
          67,
          45,
          114,
          21,
          51,
          18,
          42,
          44,
          33,
          66,
          146,
          63,
          13,
          14,
          65,
          62,
          30,
          18,
          43,
          14,
          67,
          18,
          84,
          15,
          25,
          11,
          84,
          24,
          21,
          5,
          20,
          512,
          71,
          51,
          303,
          72,
          22,
          24,
          173,
          93,
          93,
          41,
          29,
          44,
          18,
          7,
          91,
          26,
          467,
          30,
          18,
          65,
          153,
          10,
          33,
          43,
          91,
          68,
          19,
          61,
          454,
          55,
          35,
          512,
          129,
          17,
          7,
          78,
          27,
          93,
          9,
          27,
          17,
          484,
          36,
          36,
          81,
          25,
          16,
          52,
          36,
          27,
          42,
          29,
          8,
          130,
          25,
          289,
          284,
          334,
          24,
          71,
          78,
          87,
          32,
          40,
          61,
          37,
          79,
          9,
          17,
          192,
          92,
          171,
          5,
          235,
          41,
          34,
          91,
          22,
          27,
          11,
          9,
          43,
          17,
          31,
          117,
          158,
          9,
          36,
          34,
          225,
          36,
          47,
          9,
          86,
          173,
          32,
          109,
          79,
          19,
          71,
          18,
          152,
          89,
          49,
          22,
          43,
          101,
          6,
          15,
          44,
          23,
          36,
          30,
          167,
          90,
          51,
          512,
          59,
          190,
          51,
          69,
          6,
          87,
          10,
          7,
          38,
          14,
          512,
          60,
          512,
          83,
          8,
          112,
          150,
          12,
          78,
          22,
          16,
          44,
          6,
          36,
          17,
          118,
          64,
          31,
          39,
          51,
          74,
          53,
          264,
          54,
          44,
          35,
          22,
          117,
          18,
          39,
          5,
          512,
          362,
          202,
          18,
          41,
          112,
          60,
          12,
          53,
          205,
          104,
          116,
          6,
          52,
          19,
          16,
          55,
          51,
          34,
          55,
          35,
          72,
          20,
          65,
          7,
          181,
          66,
          172,
          51,
          44,
          31,
          34,
          186,
          38,
          16,
          32,
          43,
          200,
          29,
          24,
          188,
          32,
          25,
          61,
          85,
          46,
          11,
          269,
          101,
          57,
          12,
          46,
          34,
          72,
          133,
          22,
          114,
          69,
          36,
          30,
          146,
          185,
          142,
          76,
          91,
          37,
          85,
          40,
          47,
          138,
          71,
          16,
          9,
          42,
          12,
          69,
          15,
          113,
          22,
          30,
          11,
          17,
          7,
          8,
          75,
          43,
          177,
          80,
          6,
          58,
          228,
          11,
          26,
          30,
          13,
          156,
          10,
          47,
          61,
          19,
          8,
          8,
          194,
          28,
          62,
          67,
          60,
          50,
          25,
          14,
          32,
          154,
          169,
          36,
          61,
          7,
          39,
          108,
          92,
          44,
          103,
          61,
          42,
          138,
          44,
          99,
          62,
          27,
          29,
          26,
          108,
          19,
          15,
          512,
          61,
          512,
          32,
          74,
          44,
          60,
          34,
          239,
          27,
          187,
          68,
          59,
          77,
          37,
          79,
          103,
          65,
          6,
          6,
          49,
          42,
          18,
          63,
          41,
          26,
          111,
          40,
          98,
          20,
          37,
          56,
          39,
          25,
          32,
          18,
          36,
          44,
          68,
          33,
          120,
          58,
          47,
          48,
          34,
          14,
          34,
          512,
          63,
          34,
          75,
          51,
          83,
          47,
          197,
          11,
          291,
          67,
          43,
          29,
          76,
          30,
          107,
          12,
          61,
          12,
          23,
          44,
          15,
          30,
          12,
          383,
          8,
          220,
          183,
          36,
          55,
          30,
          28,
          18,
          8,
          70,
          234,
          59,
          184,
          37,
          39,
          88,
          61,
          89,
          94,
          13,
          21,
          103,
          81,
          6,
          72,
          512,
          19,
          15,
          78,
          53,
          18,
          65,
          27,
          32,
          32,
          46,
          505,
          7,
          10,
          49,
          182,
          22,
          238,
          84,
          318,
          53,
          33,
          30,
          13,
          10,
          126,
          205,
          12,
          461,
          68,
          37,
          27,
          5,
          35,
          99,
          18,
          18,
          10,
          73,
          74,
          327,
          48,
          7,
          11,
          9,
          15,
          54,
          71,
          32,
          23,
          32,
          70,
          50,
          52,
          62,
          34,
          94,
          70,
          261,
          91,
          12,
          31,
          13,
          42,
          127,
          59,
          6,
          38,
          17,
          79,
          118,
          216,
          192,
          101,
          53,
          96,
          33,
          53,
          84,
          7,
          250,
          48,
          12,
          104,
          66,
          137,
          14,
          86,
          67,
          21,
          9,
          52,
          59,
          86,
          37,
          32,
          14,
          9,
          7,
          39,
          20,
          153,
          60,
          20,
          21,
          17,
          7,
          196,
          67,
          29,
          80,
          34,
          15,
          44,
          56,
          23,
          116,
          98,
          120,
          35,
          9,
          43,
          15,
          58,
          17,
          301,
          512,
          73,
          512,
          63,
          55,
          90,
          24,
          59,
          20,
          168,
          62,
          58,
          54,
          37,
          82,
          15,
          55,
          106,
          23,
          32,
          72,
          10,
          12,
          23,
          6,
          9,
          36,
          16,
          77,
          21,
          50,
          38,
          6,
          52,
          56,
          24,
          28,
          388,
          34,
          19,
          99,
          11,
          59,
          7,
          26,
          62,
          17,
          44,
          247,
          13,
          31,
          9,
          17,
          72,
          27,
          108,
          10,
          15,
          176,
          62,
          14,
          36,
          12,
          29,
          36,
          18,
          5,
          260,
          34,
          86,
          103,
          99,
          36,
          11,
          34,
          226,
          19,
          63,
          8,
          17,
          81,
          9,
          33,
          11,
          13,
          17,
          19,
          33,
          27,
          34,
          223,
          123,
          47,
          7,
          57,
          185,
          12,
          146,
          7,
          82,
          16,
          34,
          21,
          12,
          10,
          12,
          72,
          503,
          21,
          18,
          79,
          14,
          17,
          38,
          185,
          64,
          49,
          72,
          16,
          118,
          26,
          16,
          13,
          46,
          50,
          34,
          103,
          30,
          53,
          90,
          35,
          17,
          29,
          262,
          18,
          77,
          84,
          51,
          185,
          19,
          5,
          12,
          25,
          53,
          24,
          38,
          216,
          26,
          23,
          444,
          37,
          11,
          161,
          45,
          59,
          19,
          23,
          68,
          270,
          202,
          53,
          193,
          24,
          73,
          67,
          34,
          245,
          89,
          29,
          62,
          72,
          126,
          26,
          170,
          8,
          9,
          15,
          273,
          19,
          10,
          54,
          4,
          41,
          9,
          13,
          20,
          51,
          83,
          192,
          15,
          129,
          91,
          53,
          10,
          8,
          65,
          17,
          61,
          37,
          36,
          96,
          40,
          32,
          16,
          62,
          7,
          276,
          19,
          27,
          26,
          248,
          11,
          73,
          15,
          157,
          19,
          62,
          31,
          116,
          39,
          62,
          28,
          96,
          40,
          7,
          101,
          26,
          176,
          19,
          18,
          9,
          10,
          44,
          43,
          109,
          28,
          48,
          14,
          26,
          512,
          55,
          49,
          74,
          69,
          83,
          79,
          45,
          87,
          20,
          97,
          122,
          35,
          25,
          18,
          19,
          33,
          43,
          11,
          11,
          17,
          19,
          81,
          93,
          23,
          41,
          53,
          7,
          10,
          59,
          16,
          115,
          393,
          13,
          392,
          30,
          59,
          40,
          90,
          19,
          136,
          49,
          96,
          31,
          117,
          64,
          60,
          11,
          61,
          49,
          162,
          301,
          159,
          295,
          94,
          512,
          29,
          21,
          73,
          49,
          12,
          10,
          117,
          35,
          57,
          19,
          42,
          56,
          17,
          15,
          350,
          47,
          75,
          29,
          248,
          35,
          102,
          197,
          327,
          28,
          18,
          5,
          208,
          54,
          8,
          17,
          114,
          117,
          279,
          124,
          35,
          15,
          61,
          28,
          22,
          91,
          512,
          11,
          119,
          10,
          23,
          19,
          130,
          199,
          63,
          104,
          32,
          52,
          28,
          44,
          138,
          159,
          9,
          93,
          103,
          35,
          79,
          32,
          113,
          131,
          37,
          17,
          25,
          398,
          160,
          13,
          77,
          242,
          512,
          13,
          19,
          24,
          28,
          46,
          28,
          164,
          43,
          113,
          130,
          21,
          20,
          133,
          62,
          12,
          115,
          8,
          37,
          94,
          19,
          57,
          131,
          107,
          23,
          55,
          9,
          31,
          55,
          130,
          79,
          33,
          16,
          20,
          211,
          11,
          28,
          35,
          31,
          46,
          208,
          128,
          23,
          443,
          15,
          18,
          49,
          27,
          98,
          37,
          39,
          19,
          178,
          36,
          188,
          45,
          56,
          44,
          10,
          162,
          148,
          45,
          23,
          12,
          20,
          20,
          24,
          34,
          98,
          16,
          43,
          49,
          73,
          27,
          196,
          11,
          106,
          23,
          279,
          129,
          49,
          14,
          33,
          74,
          152,
          15,
          337,
          14,
          147,
          63,
          45,
          91,
          437,
          46,
          29,
          53,
          15,
          11,
          48,
          137,
          11,
          28,
          37,
          56,
          87,
          26,
          189,
          13,
          62,
          60,
          23,
          126,
          28,
          31,
          42,
          265,
          150,
          305,
          20,
          86,
          48,
          9,
          61,
          8,
          108,
          22,
          14,
          45,
          68,
          4,
          21,
          209,
          34,
          59,
          109,
          19,
          9,
          44,
          32,
          15,
          327,
          33,
          42,
          314,
          129,
          12,
          62,
          30,
          13,
          9,
          103,
          9,
          58,
          29,
          6,
          118,
          109,
          9,
          56,
          9,
          37,
          32,
          174,
          7,
          24,
          10,
          11,
          32,
          22,
          211,
          31,
          18,
          38,
          6,
          59,
          108,
          50,
          101,
          20,
          30,
          20,
          58,
          27,
          36,
          38,
          21,
          95,
          46,
          12,
          64,
          54,
          7,
          82,
          239,
          20,
          21,
          343,
          512,
          11,
          45,
          196,
          69,
          80,
          143,
          51,
          11,
          102,
          26,
          90,
          11,
          44,
          104,
          13,
          181,
          140,
          134,
          27,
          48,
          6,
          24,
          9,
          15,
          9,
          68,
          45,
          110,
          512,
          13,
          54,
          22,
          34,
          11,
          64,
          33,
          210,
          19,
          41,
          9,
          89,
          43,
          31,
          97,
          53,
          104,
          50,
          43,
          23,
          58,
          74,
          52,
          221,
          135,
          57,
          6,
          34,
          66,
          27,
          110,
          20,
          16,
          19,
          30,
          77,
          17,
          47,
          8,
          48,
          64,
          159,
          26,
          8,
          56,
          302,
          19,
          63,
          71,
          18,
          7,
          96,
          50,
          376,
          8,
          23,
          10,
          20,
          53,
          12,
          64,
          34,
          44,
          26,
          30,
          9,
          44,
          129,
          47,
          233,
          90,
          23,
          50,
          117,
          7,
          39,
          43,
          10,
          34,
          7,
          20,
          15,
          152,
          17,
          121,
          59,
          25,
          92,
          66,
          32,
          9,
          34,
          31,
          13,
          15,
          102,
          38,
          136,
          220,
          298,
          29,
          63,
          183,
          15,
          72,
          8,
          64,
          101,
          212,
          18,
          149,
          6,
          101,
          50,
          11,
          29,
          76,
          42,
          170,
          512,
          209,
          76,
          14,
          36,
          34,
          103,
          5,
          7,
          96,
          64,
          5,
          313,
          131,
          10,
          45,
          86,
          58,
          62,
          120,
          60,
          14,
          57,
          13,
          13,
          135,
          75,
          10,
          17,
          210,
          26,
          65,
          14,
          70,
          31,
          23,
          60,
          90,
          31,
          88,
          19,
          25,
          13,
          24,
          25,
          199,
          28,
          43,
          79,
          158,
          428,
          27,
          71,
          33,
          50,
          21,
          203,
          20,
          13,
          63,
          50,
          141,
          27,
          6,
          512,
          48,
          48,
          52,
          23,
          18,
          175,
          63,
          348,
          7,
          30,
          121,
          16,
          48,
          57,
          39,
          11,
          55,
          102,
          46,
          75,
          11,
          19,
          135,
          93,
          60,
          22,
          25,
          45,
          7,
          78,
          20,
          6,
          127,
          12,
          42,
          25,
          24,
          35,
          19,
          36,
          33,
          47,
          15,
          114,
          17,
          5,
          13,
          131,
          17,
          28,
          201,
          512,
          193,
          131,
          35,
          23,
          32,
          11,
          51,
          45,
          138,
          13,
          31,
          168,
          45,
          36,
          135,
          117,
          22,
          76,
          10,
          18,
          62,
          12,
          24,
          9,
          31,
          71,
          39,
          149,
          60,
          33,
          48,
          31,
          12,
          98,
          14,
          65,
          6,
          80,
          139,
          7,
          144,
          116,
          27,
          5,
          187,
          32,
          16,
          64,
          39,
          42,
          51,
          254,
          33,
          31,
          20,
          68,
          11,
          19,
          75,
          13,
          69,
          164,
          94,
          68,
          18,
          7,
          12,
          26,
          30,
          115,
          19,
          54,
          45,
          124,
          346,
          512,
          31,
          10,
          80,
          55,
          100,
          23,
          23,
          4,
          22,
          512,
          31,
          12,
          57,
          22,
          28,
          31,
          39,
          38,
          26,
          49,
          319,
          18,
          33,
          10,
          293,
          50,
          97,
          72,
          512,
          22,
          24,
          42,
          152,
          84,
          57,
          13,
          51,
          69,
          12,
          5,
          35,
          47,
          42,
          18,
          46,
          108,
          43,
          195,
          42,
          18,
          56,
          51,
          90,
          28,
          302,
          25,
          59,
          101,
          78,
          372,
          134,
          21,
          18,
          23,
          12,
          26,
          17,
          106,
          74,
          13,
          76,
          5,
          99,
          72,
          34,
          60,
          46,
          48,
          13,
          21,
          52,
          170,
          51,
          17,
          26,
          109,
          31,
          6,
          5,
          87,
          29,
          304,
          34,
          7,
          154,
          118,
          54,
          12,
          31,
          56,
          35,
          51,
          87,
          10,
          73,
          14,
          30,
          218,
          14,
          36,
          49,
          28,
          33,
          39,
          21,
          8,
          82,
          44,
          60,
          4,
          72,
          12,
          34,
          19,
          17,
          6,
          26,
          25,
          18,
          11,
          34,
          71,
          43,
          50,
          95,
          11,
          24,
          391,
          14,
          54,
          31,
          13,
          94,
          183,
          38,
          40,
          8,
          32,
          70,
          24,
          9,
          52,
          61,
          30,
          6,
          13,
          92,
          8,
          13,
          115,
          17,
          25,
          56,
          116,
          19,
          76,
          288,
          10,
          45,
          37,
          81,
          73,
          8,
          29,
          17,
          70,
          28,
          73,
          35,
          28,
          22,
          64,
          512,
          11,
          30,
          72,
          68,
          62,
          43,
          54,
          30,
          94,
          32,
          22,
          22,
          402,
          77,
          31,
          22,
          9,
          68,
          10,
          28,
          190,
          9,
          21,
          101,
          40,
          69,
          20,
          183,
          21,
          25,
          38,
          30,
          165,
          5,
          109,
          90,
          125,
          17,
          11,
          15,
          84,
          8,
          158,
          126,
          74,
          12,
          17,
          117,
          24,
          55,
          29,
          336,
          3,
          51,
          31,
          272,
          55,
          15,
          26,
          9,
          37,
          34,
          25,
          18,
          24,
          14,
          27,
          28,
          66,
          42,
          28,
          268,
          15,
          114,
          49,
          7,
          18,
          32,
          88,
          12,
          44,
          24,
          34,
          19,
          10,
          38,
          61,
          26,
          23,
          103,
          312,
          32,
          10,
          44,
          151,
          125,
          28,
          11,
          86,
          99,
          85,
          33,
          13,
          13,
          127,
          31,
          19,
          15,
          43,
          132,
          59,
          26,
          11,
          98,
          188,
          14,
          13,
          10,
          512,
          15,
          306,
          39,
          19,
          439,
          5,
          16,
          29,
          57,
          138,
          106,
          28,
          21,
          39,
          53,
          150,
          78,
          16,
          50,
          20,
          79,
          27,
          172,
          116,
          87,
          131,
          100,
          62,
          45,
          13,
          40,
          8,
          84,
          18,
          68,
          31,
          75,
          54,
          31,
          19,
          17,
          40,
          80,
          22,
          183,
          53,
          151,
          96,
          14,
          30,
          47,
          14,
          139,
          101,
          8,
          49,
          10,
          57,
          19,
          107,
          11,
          52,
          62,
          54,
          31,
          17,
          12,
          10,
          9,
          45,
          11,
          53,
          115,
          66,
          32,
          12,
          16,
          11,
          17,
          36,
          116,
          9,
          216,
          119,
          12,
          75,
          38,
          42,
          19,
          73,
          20,
          8,
          76,
          110,
          34,
          60,
          55,
          305,
          21,
          263,
          36,
          71,
          52,
          34,
          52,
          12,
          14,
          72,
          15,
          43,
          88,
          30,
          7,
          22,
          65,
          15,
          53,
          37,
          34,
          8,
          20,
          193,
          10,
          27,
          323,
          24,
          46,
          15,
          25,
          269,
          49,
          6,
          27,
          39,
          199,
          109,
          35,
          96,
          512,
          9,
          28,
          11,
          62,
          20,
          48,
          9,
          52,
          16,
          72,
          23,
          53,
          192,
          116,
          8,
          65,
          24,
          173,
          189,
          18,
          36,
          49,
          37,
          106,
          94,
          58,
          25,
          70,
          13,
          41,
          72,
          222,
          62,
          35,
          12,
          7,
          114,
          8,
          135,
          113,
          65,
          101,
          512,
          72,
          58,
          300,
          20,
          13,
          87,
          51,
          34,
          9,
          29,
          4,
          9,
          78,
          30,
          34,
          32,
          91,
          74,
          22,
          109,
          41,
          94,
          48,
          36,
          293,
          8,
          146,
          57,
          22,
          23,
          168,
          30,
          70,
          116,
          56,
          8,
          153,
          67,
          191,
          104,
          17,
          21,
          281,
          512,
          71,
          4,
          10,
          38,
          26,
          47,
          83,
          22,
          37,
          166,
          222,
          42,
          66,
          12,
          15,
          38,
          39,
          34,
          6,
          52,
          12,
          27,
          10,
          43,
          56,
          208,
          48,
          18,
          47,
          86,
          47,
          6,
          53,
          48,
          82,
          140,
          57,
          53,
          264,
          46,
          51,
          36,
          34,
          66,
          49,
          10,
          23,
          26,
          21,
          31,
          71,
          147,
          56,
          40,
          36,
          11,
          8,
          45,
          29,
          91,
          271,
          512,
          350,
          64,
          12,
          512,
          14,
          67,
          32,
          41,
          17,
          140,
          46,
          49,
          278,
          51,
          46,
          72,
          84,
          7,
          14,
          53,
          23,
          17,
          15,
          45,
          98,
          43,
          24,
          14,
          36,
          508,
          21,
          130,
          11,
          113,
          93,
          34,
          20,
          141,
          20,
          27,
          74,
          29,
          14,
          68,
          8,
          31,
          39,
          139,
          16,
          80,
          25,
          127,
          134,
          44,
          7,
          62,
          19,
          512,
          17,
          61,
          14,
          63,
          14,
          91,
          88,
          39,
          6,
          29,
          10,
          283,
          25,
          48,
          36,
          79,
          47,
          20,
          256,
          137,
          7,
          135,
          36,
          55,
          33,
          93,
          117,
          28,
          36,
          81,
          213,
          27,
          64,
          104,
          325,
          46,
          43,
          77,
          233,
          45,
          62,
          40,
          174,
          9,
          29,
          26,
          32,
          33,
          14,
          54,
          29,
          56,
          22,
          17,
          36,
          35,
          31,
          46,
          74,
          11,
          34,
          173,
          11,
          95,
          49,
          76,
          27,
          52,
          54,
          55,
          20,
          39,
          16,
          77,
          25,
          132,
          41,
          36,
          512,
          22,
          44,
          27,
          22,
          92,
          56,
          65,
          57,
          9,
          111,
          10,
          12,
          92,
          42,
          15,
          15,
          208,
          60,
          26,
          26,
          78,
          15,
          59,
          62,
          28,
          47,
          9,
          74,
          286,
          22,
          13,
          62,
          331,
          14,
          78,
          108,
          15,
          44,
          18,
          50,
          189,
          85,
          18,
          14,
          73,
          28,
          23,
          17,
          26,
          56,
          68,
          61,
          13,
          63,
          512,
          48,
          64,
          9,
          14,
          45,
          34,
          66,
          41,
          55,
          317,
          16,
          40,
          11,
          112,
          29,
          38,
          54,
          156,
          83,
          89,
          7,
          69,
          35,
          109,
          8,
          21,
          30,
          222,
          12,
          12,
          99,
          47,
          11,
          33,
          51,
          409,
          249,
          38,
          68,
          6,
          13,
          184,
          21,
          68,
          34,
          11,
          30,
          71,
          82,
          17,
          309,
          15,
          39,
          176,
          35,
          49,
          13,
          42,
          18,
          512,
          30,
          512,
          49,
          14,
          41,
          307,
          41,
          247,
          7,
          107,
          42,
          113,
          307,
          309,
          52,
          39,
          130,
          76,
          126,
          150,
          24,
          233,
          13,
          29,
          90,
          103,
          32,
          19,
          181,
          28,
          86,
          9,
          9,
          80,
          72,
          36,
          75,
          6,
          44,
          122,
          78,
          6,
          74,
          23,
          42,
          55,
          141,
          5,
          7,
          72,
          107,
          17,
          512,
          21,
          41,
          9,
          144,
          30,
          17,
          410,
          23,
          506,
          41,
          76,
          108,
          90,
          24,
          77,
          71,
          26,
          512,
          12,
          17,
          66,
          44,
          36,
          127,
          58,
          25,
          5,
          88,
          51,
          11,
          7,
          11,
          40,
          10,
          19,
          35,
          82,
          14,
          66,
          20,
          22,
          12,
          139,
          29,
          172,
          8,
          16,
          43,
          20,
          15,
          312,
          13,
          22,
          67,
          6,
          40,
          50,
          19,
          8,
          34,
          92,
          30,
          54,
          81,
          44,
          34,
          184,
          225,
          31,
          80,
          26,
          31,
          50,
          32,
          81,
          14,
          39,
          11,
          100,
          79,
          17,
          87,
          39,
          53,
          15,
          37,
          13,
          33,
          99,
          62,
          78,
          28,
          27,
          26,
          57,
          22,
          11,
          18,
          174,
          38,
          66,
          40,
          29,
          93,
          19,
          42,
          173,
          12,
          132,
          37,
          34,
          21,
          105,
          512,
          78,
          18,
          15,
          18,
          121,
          22,
          92,
          337,
          474,
          178,
          55,
          55,
          169,
          195,
          12,
          252,
          67,
          47,
          30,
          15,
          24,
          175,
          30,
          22,
          60,
          28,
          18,
          40,
          27,
          306,
          23,
          82,
          90,
          47,
          31,
          57,
          64,
          7,
          51,
          19,
          268,
          19,
          13,
          14,
          113,
          38,
          84,
          8,
          18,
          210,
          48,
          44,
          56,
          65,
          72,
          19,
          54,
          14,
          34,
          375,
          9,
          82,
          97,
          62,
          84,
          59,
          59,
          28,
          30,
          17,
          23,
          116,
          38,
          29,
          30,
          27,
          19,
          210,
          76,
          36,
          37,
          7,
          43,
          4,
          13,
          106,
          13,
          29,
          25,
          34,
          88,
          56,
          33,
          58,
          7,
          20,
          51,
          60,
          8,
          29,
          69,
          109,
          204,
          12,
          22,
          44,
          21,
          258,
          273,
          382,
          61,
          44,
          50,
          5,
          9,
          34,
          38,
          15,
          26,
          148,
          58,
          318,
          69,
          6,
          30,
          131,
          107,
          386,
          104,
          13,
          10,
          18,
          48,
          65,
          13,
          53,
          5,
          40,
          32,
          367,
          68,
          235,
          30,
          153,
          55,
          45,
          20,
          9,
          146,
          24,
          294,
          15,
          15,
          120,
          32,
          55,
          202,
          46,
          24,
          258,
          87,
          30,
          41,
          27,
          77,
          202,
          110,
          17,
          34,
          172,
          30,
          15,
          37,
          115,
          6,
          24,
          50,
          42,
          21,
          52,
          315,
          86,
          512,
          196,
          46,
          108,
          46,
          129,
          279,
          249,
          12,
          263,
          26,
          24,
          32,
          42,
          24,
          70,
          146,
          36,
          147,
          67,
          35,
          300,
          512,
          44,
          28,
          179,
          10,
          4,
          199,
          44,
          34,
          24,
          60,
          9,
          23,
          25,
          91,
          84,
          13,
          9,
          231,
          33,
          13,
          239,
          13,
          42,
          103,
          65,
          14,
          6,
          155,
          47,
          12,
          138,
          41,
          19,
          32,
          307,
          52,
          26,
          80,
          18,
          15,
          16,
          181,
          52,
          11,
          23,
          74,
          29,
          32,
          22,
          20,
          6,
          19,
          32,
          121,
          19,
          7,
          7,
          81,
          74,
          17,
          147,
          142,
          80,
          128,
          35,
          12,
          24,
          44,
          110,
          16,
          58,
          83,
          14,
          16,
          14,
          29,
          25,
          11,
          159,
          33,
          354,
          19,
          72,
          137,
          38,
          84,
          15,
          57,
          66,
          58,
          76,
          35,
          16,
          20,
          247,
          31,
          11,
          65,
          10,
          103,
          15,
          37,
          69,
          114,
          106,
          113,
          8,
          109,
          58,
          14,
          335,
          34,
          55,
          26,
          237,
          69,
          29,
          101,
          107,
          70,
          22,
          45,
          84,
          75,
          39,
          60,
          92,
          12,
          14,
          27,
          54,
          97,
          10,
          7,
          13,
          60,
          15,
          135,
          91,
          33,
          239,
          11,
          49,
          9,
          9,
          9,
          64,
          11,
          15,
          116,
          243,
          21,
          8,
          52,
          23,
          57,
          41,
          7,
          93,
          120,
          29,
          59,
          40,
          23,
          10,
          9,
          134,
          43,
          14,
          13,
          111,
          193,
          70,
          36,
          499,
          23,
          160,
          41,
          113,
          223,
          35,
          48,
          18,
          41,
          25,
          82,
          27,
          24,
          31,
          53,
          14,
          43,
          104,
          23,
          7,
          49,
          57,
          66,
          19,
          14,
          512,
          33,
          30,
          73,
          29,
          20,
          131,
          54,
          26,
          8,
          113,
          152,
          155,
          323,
          52,
          14,
          49,
          28,
          8,
          85,
          142,
          54,
          58,
          59,
          28,
          32,
          14,
          33,
          484,
          39,
          13,
          23,
          9,
          37,
          68,
          207,
          9,
          158,
          389,
          37,
          215,
          16,
          136,
          48,
          61,
          210,
          37,
          13,
          12,
          155,
          152,
          82,
          75,
          67,
          10,
          69,
          6,
          40,
          14,
          119,
          254,
          37,
          105,
          43,
          45,
          20,
          27,
          57,
          56,
          344,
          46,
          12,
          35,
          20,
          15,
          27,
          25,
          15,
          33,
          51,
          248,
          65,
          73,
          84,
          13,
          61,
          32,
          27,
          63,
          38,
          51,
          40,
          101,
          83,
          167,
          53,
          75,
          64,
          124,
          52,
          28,
          123,
          75,
          512,
          36,
          18,
          91,
          7,
          44,
          32,
          62,
          57,
          47,
          14,
          6,
          77,
          39,
          111,
          11,
          47,
          58,
          32,
          75,
          208,
          265,
          94,
          449,
          75,
          67,
          36,
          7,
          59,
          55,
          33,
          98,
          8,
          114,
          47,
          7,
          166,
          13,
          23,
          9,
          81,
          126,
          58,
          46,
          68,
          179,
          70,
          26,
          30,
          39,
          13,
          115,
          75,
          11,
          74,
          37,
          33,
          62,
          8,
          19,
          29,
          17,
          68,
          40,
          124,
          48,
          62,
          114,
          24,
          101,
          62,
          12,
          86,
          5,
          23,
          141,
          55,
          376,
          37,
          7,
          16,
          64,
          90,
          11,
          307,
          168,
          19,
          249,
          78,
          25,
          7,
          11,
          42,
          326,
          18,
          18,
          61,
          21,
          67,
          13,
          49,
          60,
          32,
          126,
          37,
          113,
          166,
          141,
          8,
          231,
          10,
          44,
          64,
          10,
          66,
          68,
          87,
          10,
          103,
          64,
          11,
          12,
          26,
          63,
          109,
          73,
          14,
          293,
          39,
          21,
          52,
          10,
          76,
          209,
          488,
          11,
          99,
          9,
          19,
          21,
          19,
          8,
          243,
          62,
          9,
          30,
          17,
          64,
          41,
          20,
          26,
          27,
          21,
          116,
          50,
          63,
          48,
          35,
          25,
          464,
          269,
          59,
          68,
          82,
          36,
          166,
          42,
          133,
          122,
          39,
          18,
          22,
          7,
          122,
          227,
          204,
          82,
          71,
          105,
          82,
          100,
          14,
          152,
          14,
          34,
          87,
          24,
          26,
          42,
          109,
          4,
          51,
          6,
          29,
          62,
          18,
          33,
          495,
          512,
          25,
          19,
          24,
          107,
          24,
          46,
          43,
          129,
          86,
          29,
          18,
          19,
          21,
          125,
          102,
          17,
          51,
          498,
          7,
          9,
          10,
          6,
          30,
          40,
          97,
          20,
          9,
          50,
          57,
          135,
          93,
          15,
          512,
          104,
          6,
          33,
          7,
          20,
          76,
          133,
          52,
          35,
          143,
          88,
          15,
          22,
          7,
          32,
          43,
          16,
          286,
          159,
          57,
          169,
          30,
          40,
          55,
          28,
          121,
          11,
          133,
          38,
          16,
          34,
          430,
          38,
          86,
          23,
          28,
          45,
          29,
          10,
          25,
          52,
          64,
          28,
          46,
          67,
          170,
          63,
          68,
          44,
          7,
          106,
          252,
          51,
          31,
          27,
          149,
          37,
          167,
          37,
          12,
          27,
          44,
          188,
          22,
          247,
          20,
          355,
          16,
          33,
          77,
          20,
          30,
          52,
          78,
          107,
          41,
          67,
          74,
          9,
          8,
          13,
          215,
          14,
          12,
          23,
          61,
          18,
          27,
          24,
          109,
          7,
          164,
          361,
          19,
          18,
          63,
          15,
          49,
          100,
          23,
          29,
          96,
          96,
          19,
          24,
          6,
          9,
          110,
          9,
          7,
          36,
          11,
          28,
          23,
          185,
          75,
          12,
          5,
          44,
          56,
          11,
          16,
          145,
          98,
          64,
          52,
          59,
          26,
          25,
          62,
          7,
          42,
          7,
          35,
          35,
          185,
          71,
          40,
          41,
          39,
          205,
          512,
          24,
          67,
          7,
          22,
          16,
          9,
          58,
          12,
          31,
          35,
          236,
          59,
          31,
          99,
          50,
          36,
          161,
          6,
          46,
          51,
          41,
          84,
          39,
          26,
          10,
          9,
          78,
          16,
          56,
          51,
          162,
          67,
          48,
          110,
          93,
          139,
          56,
          180,
          176,
          512,
          24,
          34,
          101,
          47,
          51,
          19,
          227,
          142,
          12,
          129,
          25,
          9,
          119,
          21,
          14,
          63,
          112,
          32,
          54,
          71,
          22,
          47,
          32,
          122,
          7,
          8,
          32,
          53,
          73,
          36,
          14,
          8,
          23,
          47,
          14,
          43,
          393,
          13,
          29,
          512,
          32,
          24,
          122,
          36,
          39,
          37,
          16,
          45,
          13,
          56,
          38,
          48,
          17,
          16,
          64,
          225,
          10,
          37,
          17,
          24,
          20,
          10,
          18,
          58,
          157,
          69,
          12,
          83,
          23,
          19,
          16,
          141,
          23,
          55,
          51,
          16,
          52,
          87,
          141,
          20,
          43,
          51,
          87,
          49,
          18,
          42,
          26,
          371,
          7,
          98,
          52,
          11,
          7,
          9,
          84,
          50,
          37,
          443,
          15,
          62,
          87,
          24,
          39,
          8,
          128,
          132,
          441,
          24,
          29,
          18,
          33,
          24,
          121,
          75,
          25,
          94,
          71,
          29,
          52,
          22,
          27,
          88,
          61,
          16,
          46,
          143,
          21,
          14,
          102,
          23,
          74,
          33,
          77,
          34,
          7,
          59,
          14,
          61,
          17,
          24,
          16,
          16,
          167,
          21,
          236,
          86,
          39,
          11,
          148,
          65,
          29,
          29,
          36,
          181,
          152,
          57,
          121,
          9,
          211,
          30,
          37,
          16,
          61,
          26,
          51,
          31,
          25,
          209,
          56,
          11,
          66,
          8,
          6,
          30,
          41,
          512,
          12,
          33,
          18,
          11,
          56,
          11,
          23,
          114,
          10,
          65,
          71,
          68,
          46,
          32,
          34,
          32,
          16,
          82,
          9,
          108,
          37,
          19,
          17,
          44,
          65,
          39,
          16,
          13,
          151,
          49,
          36,
          63,
          12,
          7,
          20,
          30,
          13,
          24,
          88,
          161,
          13,
          73,
          79,
          29,
          6,
          41,
          34,
          32,
          61,
          6,
          65,
          237,
          94,
          55,
          28,
          36,
          11,
          44,
          27,
          3,
          55,
          43,
          27,
          25,
          9,
          46,
          43,
          8,
          19,
          275,
          23,
          48,
          113,
          13,
          69,
          220,
          30,
          21,
          13,
          28,
          169,
          210,
          64,
          29,
          31,
          10,
          245,
          14,
          46,
          15,
          14,
          13,
          62,
          19,
          18,
          20,
          184,
          9,
          16,
          12,
          51,
          10,
          15,
          44,
          83,
          71,
          18,
          23,
          15,
          35,
          11,
          14,
          35,
          30,
          15,
          41,
          76,
          255,
          255,
          17,
          81,
          43,
          92,
          56,
          23,
          65,
          61,
          81,
          10,
          25,
          115,
          22,
          298,
          171,
          43,
          29,
          49,
          43,
          179,
          12,
          123,
          46,
          97,
          10,
          28,
          39,
          130,
          98,
          20,
          8,
          103,
          12,
          15,
          218,
          35,
          43,
          25,
          20,
          28,
          114,
          29,
          60,
          21,
          67,
          20,
          12,
          29,
          95,
          9,
          259,
          240,
          112,
          12,
          11,
          44,
          101,
          7,
          123,
          85,
          45,
          18,
          9,
          138,
          49,
          40,
          158,
          55,
          10,
          22,
          10,
          14,
          88,
          81,
          43,
          44,
          45,
          94,
          103,
          63,
          22,
          101,
          17,
          138,
          11,
          505,
          42,
          37,
          47,
          15,
          47,
          35,
          400,
          54,
          9,
          31,
          37,
          13,
          69,
          35,
          58,
          8,
          7,
          25,
          16,
          22,
          198,
          30,
          47,
          10,
          21,
          74,
          33,
          22,
          358,
          11,
          512,
          53,
          88,
          19,
          42,
          54,
          512,
          8,
          26,
          34,
          119,
          512,
          66,
          23,
          46,
          96,
          32,
          21,
          17,
          146,
          6,
          20,
          192,
          17,
          42,
          32,
          9,
          22,
          32,
          15,
          76,
          18,
          12,
          36,
          131,
          10,
          18,
          3,
          68,
          31,
          53,
          24,
          97,
          21,
          90,
          55,
          80,
          10,
          71,
          82,
          49,
          20,
          55,
          32,
          22,
          341,
          60,
          18,
          115,
          182,
          60,
          39,
          112,
          11,
          38,
          65,
          27,
          13,
          11,
          36,
          40,
          26,
          51,
          7,
          65,
          124,
          61,
          40,
          34,
          6,
          84,
          49,
          76,
          254,
          16,
          210,
          15,
          26,
          202,
          35,
          217,
          123,
          194,
          32,
          9,
          52,
          40,
          57,
          169,
          43,
          47,
          54,
          153,
          65,
          47,
          10,
          12,
          16,
          73,
          7,
          31,
          13,
          118,
          51,
          163,
          145,
          46,
          23,
          24,
          16,
          160,
          63,
          40,
          66,
          130,
          55,
          119,
          24,
          14,
          54,
          33,
          194,
          42,
          13,
          54,
          48,
          16,
          265,
          54,
          324,
          39,
          99,
          91,
          25,
          140,
          26,
          47,
          314,
          512,
          14,
          206,
          15,
          37,
          21,
          41,
          28,
          97,
          10,
          18,
          171,
          63,
          11,
          280,
          21,
          28,
          37,
          45,
          20,
          29,
          10,
          79,
          31,
          318,
          12,
          23,
          7,
          40,
          38,
          19,
          7,
          131,
          44,
          9,
          233,
          127,
          20,
          10,
          41,
          252,
          89,
          127,
          76,
          11,
          152,
          43,
          9,
          57,
          18,
          68,
          22,
          202,
          35,
          17,
          74,
          148,
          512,
          28,
          28,
          27,
          512,
          25,
          13,
          31,
          12,
          6,
          110,
          26,
          30,
          32,
          24,
          16,
          28,
          20,
          24,
          33,
          12,
          180,
          23,
          512,
          57,
          22,
          41,
          153,
          20,
          261,
          52,
          147,
          16,
          101,
          165,
          80,
          37,
          17,
          19,
          135,
          249,
          321,
          264,
          53,
          12,
          117,
          48,
          118,
          32,
          119,
          65,
          38,
          120,
          123,
          34,
          8,
          16,
          49,
          7,
          37,
          122,
          31,
          22,
          11,
          33,
          60,
          108,
          103,
          15,
          123,
          67,
          11,
          82,
          22,
          91,
          16,
          89,
          11,
          20,
          174,
          52,
          57,
          88,
          20,
          51,
          12,
          34,
          252,
          63,
          491,
          19,
          83,
          7,
          4,
          88,
          45,
          41,
          46,
          45,
          259,
          47,
          59,
          235,
          22,
          72,
          11,
          188,
          62,
          94,
          8,
          29,
          51,
          27,
          21,
          63,
          26,
          55,
          38,
          41,
          86,
          27,
          38,
          17,
          43,
          54,
          35,
          37,
          229,
          24,
          97,
          64,
          88,
          34,
          34,
          46,
          86,
          41,
          25,
          132,
          13,
          87,
          11,
          7,
          51,
          195,
          215,
          75,
          35,
          141,
          27,
          32,
          9,
          67,
          19,
          18,
          167,
          20,
          236,
          18,
          53,
          36,
          106,
          13,
          5,
          35,
          8,
          53,
          79,
          23,
          21,
          28,
          52,
          186,
          76,
          276,
          36,
          138,
          10,
          58,
          33,
          44,
          37,
          13,
          8,
          33,
          10,
          30,
          259,
          43,
          78,
          12,
          260,
          29,
          91,
          91,
          24,
          7,
          146,
          13,
          40,
          11,
          151,
          86,
          9,
          128,
          63,
          56,
          22,
          20,
          7,
          79,
          21,
          166,
          57,
          79,
          42,
          22,
          9,
          27,
          47,
          22,
          68,
          63,
          10,
          59,
          51,
          15,
          19,
          385,
          28,
          75,
          86,
          15,
          26,
          83,
          79,
          16,
          17,
          116,
          16,
          38,
          62,
          37,
          8,
          60,
          33,
          118,
          5,
          63,
          17,
          16,
          24,
          105,
          41,
          230,
          16,
          23,
          21,
          9,
          21,
          189,
          24,
          13,
          140,
          163,
          25,
          55,
          14,
          8,
          36,
          33,
          31,
          40,
          19,
          144,
          243,
          65,
          98,
          70,
          39,
          22,
          76,
          135,
          59,
          121,
          13,
          17,
          33,
          11,
          7,
          219,
          54,
          77,
          52,
          48,
          43,
          11,
          8,
          8,
          35,
          10,
          35,
          12,
          58,
          25,
          22,
          24,
          91,
          160,
          27,
          27,
          54,
          104,
          90,
          26,
          154,
          31,
          40,
          125,
          11,
          7,
          52,
          45,
          39,
          23,
          18,
          19,
          17,
          9,
          35,
          64,
          37,
          35,
          90,
          22,
          27,
          9,
          27,
          71,
          12,
          303,
          512,
          21,
          25,
          30,
          13,
          47,
          42,
          41,
          48,
          52,
          90,
          59,
          78,
          74,
          211,
          57,
          22,
          24,
          79,
          512,
          42,
          225,
          27,
          58,
          4,
          48,
          71,
          45,
          81,
          19,
          54,
          27,
          29,
          56,
          8,
          121,
          29,
          38,
          69,
          149,
          76,
          52,
          39,
          179,
          27,
          5,
          59,
          512,
          8,
          19,
          257,
          77,
          48,
          68,
          112,
          13,
          47,
          14,
          65,
          10,
          26,
          23,
          62,
          168,
          19,
          17,
          10,
          427,
          10,
          24,
          33,
          16,
          9,
          7,
          61,
          30,
          27,
          47,
          512,
          153,
          50,
          86,
          66,
          27,
          69,
          19,
          7,
          66,
          53,
          18,
          77,
          80,
          70,
          370,
          8,
          41,
          38,
          43,
          20,
          278,
          35,
          284,
          368,
          6,
          94,
          12,
          6,
          57,
          50,
          21,
          65,
          14,
          63,
          19,
          26,
          54,
          23,
          110,
          106,
          33,
          56,
          119,
          33,
          73,
          22,
          27,
          88,
          17,
          72,
          512,
          50,
          8,
          15,
          7,
          8,
          28,
          88,
          77,
          87,
          28,
          127,
          44,
          16,
          79,
          22,
          264,
          59,
          16,
          228,
          59,
          141,
          59,
          24,
          512,
          7,
          7,
          16,
          15,
          28,
          25,
          29,
          12,
          52,
          199,
          65,
          80,
          16,
          311,
          35,
          143,
          152,
          65,
          44,
          94,
          35,
          14,
          14,
          20,
          147,
          62,
          122,
          10,
          31,
          116,
          132,
          148,
          58,
          22,
          9,
          112,
          79,
          43,
          24,
          74,
          145,
          102,
          139,
          35,
          86,
          14,
          32,
          38,
          73,
          128,
          7,
          32,
          201,
          83,
          43,
          115,
          34,
          54,
          89,
          9,
          33,
          20,
          32,
          7,
          27,
          34,
          8,
          12,
          21,
          29,
          24,
          7,
          28,
          49,
          36,
          55,
          39,
          6,
          61,
          377,
          47,
          19,
          80,
          58,
          27,
          146,
          27,
          13,
          209,
          67,
          35,
          43,
          10,
          84,
          24,
          44,
          55,
          13,
          17,
          24,
          162,
          67,
          26,
          37,
          76,
          5,
          11,
          16,
          201,
          125,
          60,
          13,
          25,
          92,
          22,
          99,
          41,
          68,
          94,
          80,
          512,
          18,
          7,
          27,
          44,
          51,
          7,
          58,
          14,
          385,
          87,
          117,
          16,
          42,
          11,
          73,
          12,
          33,
          118,
          10,
          64,
          293,
          117,
          8,
          217,
          18,
          112,
          54,
          55,
          300,
          145,
          45,
          25,
          70,
          141,
          59,
          7,
          39,
          36,
          130,
          130,
          39,
          56,
          17,
          58,
          18,
          19,
          113,
          43,
          134,
          33,
          169,
          164,
          187,
          7,
          94,
          9,
          54,
          8,
          75,
          17,
          8,
          54,
          25,
          512,
          71,
          16,
          88,
          51,
          120,
          39,
          44,
          74,
          32,
          33,
          512,
          154,
          56,
          436,
          23,
          116,
          26,
          231,
          30,
          11,
          52,
          11,
          39,
          85,
          177,
          21,
          12,
          14,
          42,
          11,
          31,
          60,
          11,
          73,
          125,
          24,
          25,
          29,
          17,
          6,
          26,
          44,
          512,
          48,
          5,
          32,
          181,
          48,
          7,
          90,
          240,
          72,
          35,
          95,
          8,
          100,
          51,
          71,
          60,
          18,
          21,
          18,
          13,
          21,
          48,
          16,
          20,
          52,
          61,
          34,
          99,
          24,
          169,
          245,
          34,
          11,
          115,
          23,
          20,
          7,
          53,
          23,
          512,
          17,
          73,
          148,
          30,
          30,
          47,
          11,
          21,
          53,
          23,
          53,
          79,
          29,
          19,
          512,
          257,
          357,
          70,
          9,
          22,
          60,
          258,
          52,
          179,
          9,
          33,
          7,
          55,
          173,
          156,
          12,
          177,
          55,
          123,
          67,
          5,
          10,
          87,
          143,
          84,
          75,
          124,
          9,
          7,
          14,
          119,
          60,
          13,
          76,
          48,
          18,
          53,
          104,
          10,
          151,
          142,
          25,
          46,
          8,
          11,
          40,
          48,
          70,
          78,
          87,
          78,
          22,
          43,
          113,
          8,
          34,
          106,
          32,
          21,
          19,
          24,
          95,
          118,
          194,
          12,
          70,
          38,
          17,
          32,
          137,
          9,
          16,
          75,
          58,
          93,
          79,
          20,
          88,
          39,
          23,
          80,
          46,
          25,
          33,
          51,
          125,
          26,
          67,
          14,
          91,
          9,
          64,
          28,
          27,
          154,
          52,
          14,
          16,
          512,
          76,
          67,
          365,
          29,
          12,
          7,
          10,
          35,
          21,
          25,
          41,
          138,
          43,
          206,
          8,
          174,
          28,
          33,
          110,
          122,
          57,
          39,
          123,
          37,
          20,
          135,
          117,
          16,
          38,
          92,
          192,
          29,
          36,
          44,
          27,
          160,
          378,
          108,
          10,
          77,
          512,
          86,
          24,
          124,
          115,
          139,
          492,
          104,
          158,
          134,
          27,
          47,
          74,
          227,
          13,
          126,
          20,
          19,
          24,
          313,
          512,
          13,
          40,
          190,
          10,
          50,
          39,
          80,
          66,
          28,
          17,
          52,
          42,
          15,
          54,
          74,
          11,
          32,
          156,
          128,
          22,
          49,
          19,
          6,
          27,
          80,
          8,
          36,
          14,
          125,
          84,
          31,
          32,
          78,
          50,
          29,
          383,
          258,
          54,
          10,
          36,
          22,
          16,
          66,
          31,
          34,
          25,
          95,
          9,
          151,
          51,
          34,
          8,
          80,
          89,
          20,
          23,
          35,
          43,
          64,
          23,
          6,
          222,
          24,
          15,
          22,
          60,
          85,
          512,
          44,
          132,
          13,
          36,
          63,
          81,
          121,
          10,
          125,
          118,
          27,
          22,
          34,
          70,
          62,
          16,
          93,
          12,
          52,
          22,
          45,
          28,
          26,
          100,
          36,
          89,
          14,
          14,
          48,
          200,
          120,
          88,
          55,
          17,
          78,
          20,
          221,
          16,
          22,
          137,
          85,
          310,
          29,
          95,
          22,
          147,
          10,
          21,
          41,
          16,
          29,
          68,
          57,
          46,
          127,
          512,
          20,
          188,
          152,
          127,
          51,
          32,
          123,
          36,
          49,
          31,
          41,
          21,
          30,
          18,
          56,
          53,
          184,
          14,
          24,
          176,
          65,
          54,
          50,
          94,
          47,
          11,
          107,
          44,
          32,
          14,
          512,
          34,
          33,
          102,
          20,
          81,
          115,
          64,
          80,
          10,
          17,
          24,
          21,
          29,
          112,
          54,
          75,
          53,
          28,
          54,
          22,
          25,
          31,
          60,
          140,
          37,
          47,
          261,
          44,
          50,
          24,
          31,
          105,
          52,
          27,
          21,
          107,
          71,
          296,
          299,
          35,
          45,
          20,
          42,
          399,
          15,
          30,
          29,
          66,
          49,
          77,
          89,
          11,
          98,
          89,
          10,
          18,
          25,
          7,
          28,
          29,
          84,
          32,
          42,
          55,
          50,
          12,
          94,
          60,
          41,
          67,
          17,
          20,
          130,
          4,
          6,
          34,
          44,
          62,
          265,
          34,
          37,
          32,
          123,
          20,
          38,
          12,
          6,
          215,
          95,
          428,
          122,
          34,
          54,
          13,
          32,
          437,
          17,
          342,
          239,
          25,
          100,
          48,
          102,
          512,
          42,
          106,
          10,
          50,
          50,
          67,
          61,
          80,
          104,
          251,
          34,
          16,
          20,
          110,
          24,
          11,
          17,
          36,
          36,
          125,
          72,
          33,
          305,
          184,
          72,
          512,
          52,
          56,
          28,
          41,
          5,
          11,
          311,
          14,
          102,
          137,
          50,
          87,
          43,
          9,
          15,
          46,
          104,
          74,
          8,
          512,
          9,
          46,
          13,
          15,
          38,
          9,
          72,
          59,
          6,
          23,
          17,
          61,
          252,
          36,
          71,
          147,
          123,
          96,
          19,
          18,
          102,
          16,
          156,
          85,
          87,
          9,
          24,
          91,
          11,
          8,
          103,
          22,
          14,
          28,
          71,
          89,
          19,
          73,
          107,
          65,
          27,
          36,
          10,
          27,
          53,
          24,
          32,
          117,
          21,
          41,
          96,
          379,
          126,
          42,
          14,
          52,
          19,
          50,
          41,
          13,
          8,
          24,
          10,
          13,
          35,
          41,
          9,
          11,
          5,
          73,
          11,
          25,
          512,
          10,
          70,
          76,
          64,
          46,
          314,
          47,
          34,
          212,
          226,
          29,
          134,
          104,
          22,
          8,
          61,
          37,
          27,
          46,
          17,
          19,
          37,
          206,
          44,
          48,
          22,
          11,
          50,
          42,
          30,
          56,
          111,
          76,
          6,
          24,
          9,
          67,
          95,
          18,
          10,
          13,
          8,
          87,
          7,
          74,
          43,
          9,
          203,
          10,
          42,
          47,
          23,
          5,
          62,
          110,
          32,
          96,
          152,
          15,
          85,
          109,
          23,
          123,
          171,
          60,
          43,
          13,
          16,
          64,
          23,
          28,
          61,
          190,
          13,
          91,
          47,
          17,
          19,
          79,
          64,
          23,
          401,
          61,
          12,
          22,
          62,
          54,
          21,
          28,
          53,
          15,
          75,
          49,
          29,
          23,
          261,
          9,
          171,
          24,
          12,
          14,
          131,
          40,
          18,
          36,
          74,
          31,
          29,
          151,
          29,
          35,
          73,
          16,
          31,
          512,
          26,
          244,
          10,
          55,
          84,
          34,
          157,
          136,
          25,
          33,
          36,
          8,
          17,
          22,
          6,
          493,
          13,
          40,
          19,
          33,
          97,
          17,
          185,
          14,
          10,
          43,
          26,
          68,
          8,
          36,
          13,
          16,
          8,
          58,
          89,
          63,
          36,
          23,
          37,
          154,
          121,
          85,
          35,
          16,
          80,
          216,
          14,
          35,
          480,
          12,
          53,
          34,
          14,
          90,
          43,
          18,
          44,
          37,
          251,
          41,
          20,
          79,
          72,
          75,
          135,
          6,
          127,
          56,
          14,
          73,
          49,
          48,
          132,
          323,
          33,
          47,
          107,
          278,
          82,
          63,
          79,
          37,
          84,
          110,
          66,
          219,
          24,
          34,
          41,
          108,
          52,
          21,
          99,
          71,
          67,
          72,
          25,
          53,
          18,
          26,
          182,
          9,
          10,
          39,
          23,
          32,
          152,
          48,
          40,
          62,
          14,
          133,
          212,
          17,
          27,
          219,
          19,
          50,
          106,
          57,
          20,
          15,
          42,
          16,
          84,
          47,
          79,
          512,
          22,
          26,
          23,
          21,
          90,
          14,
          38,
          36,
          137,
          37,
          37,
          79,
          52,
          10,
          222,
          14,
          6,
          53,
          7,
          38,
          20,
          71,
          40,
          63,
          20,
          74,
          11,
          12,
          97,
          50,
          76,
          24,
          37,
          42,
          60,
          21,
          28,
          88,
          28,
          13,
          20,
          210,
          7,
          14,
          16,
          11,
          17,
          96,
          205,
          125,
          15,
          31,
          47,
          40,
          17,
          33,
          16,
          24,
          6,
          28,
          23,
          26,
          90,
          131,
          17,
          9,
          62,
          15,
          51,
          36,
          19,
          11,
          392,
          52,
          31,
          14,
          51,
          118,
          29,
          84,
          23,
          512,
          67,
          18,
          59,
          38,
          77,
          22,
          10,
          15,
          13,
          12,
          27,
          8,
          79,
          7,
          22,
          12,
          110,
          58,
          23,
          25,
          86,
          114,
          76,
          107,
          101,
          13,
          51,
          12,
          57,
          39,
          32,
          12,
          17,
          134,
          53,
          68,
          15,
          35,
          51,
          12,
          27,
          113,
          32,
          116,
          28,
          123,
          141,
          326,
          91,
          40,
          25,
          18,
          25,
          155,
          28,
          17,
          7,
          21,
          17,
          46,
          163,
          46,
          78,
          20,
          100,
          24,
          123,
          51,
          128,
          6,
          36,
          35,
          21,
          8,
          48,
          4,
          88,
          25,
          49,
          31,
          35,
          10,
          51,
          123,
          34,
          152,
          38,
          25,
          57,
          8,
          37,
          9,
          61,
          8,
          13,
          19,
          42,
          21,
          87,
          22,
          24,
          288,
          6,
          25,
          141,
          25,
          9,
          139,
          148,
          9,
          5,
          37,
          36,
          9,
          132,
          180,
          7,
          65,
          89,
          62,
          77,
          15,
          17,
          12,
          52,
          22,
          70,
          19,
          8,
          512,
          49,
          24,
          15,
          65,
          5,
          55,
          98,
          27,
          78,
          22,
          17,
          115,
          195,
          96,
          9,
          9,
          28,
          148,
          99,
          31,
          42,
          512,
          49,
          54,
          512,
          42,
          29,
          61,
          11,
          19,
          13,
          64,
          34,
          7,
          12,
          152,
          72,
          157,
          7,
          78,
          101,
          22,
          45,
          407,
          15,
          21,
          35,
          68,
          11,
          138,
          8,
          26,
          27,
          10,
          36,
          24,
          87,
          42,
          72,
          7,
          16,
          143,
          11,
          25,
          21,
          19,
          12,
          58,
          30,
          79,
          48,
          10,
          28,
          132,
          31,
          67,
          87,
          23,
          115,
          63,
          26,
          9,
          15,
          232,
          18,
          204,
          24,
          15,
          75,
          88,
          16,
          44,
          30,
          18,
          60,
          38,
          44,
          52,
          33,
          166,
          7,
          197,
          31,
          7,
          29,
          26,
          335,
          72,
          13,
          51,
          87,
          22,
          63,
          57,
          48,
          40,
          31,
          17,
          16,
          56,
          142,
          52,
          70,
          26,
          50,
          50,
          11,
          44,
          16,
          31,
          39,
          11,
          143,
          404,
          194,
          58,
          39,
          6,
          69,
          172,
          141,
          259,
          79,
          46,
          22,
          19,
          334,
          13,
          28,
          78,
          217,
          14,
          74,
          73,
          10,
          12,
          86,
          37,
          60,
          52,
          29,
          185,
          59,
          46,
          337,
          20,
          49,
          40,
          16,
          30,
          28,
          206,
          16,
          206,
          54,
          290,
          16,
          35,
          68,
          20,
          47,
          29,
          7,
          15,
          40,
          36,
          62,
          18,
          75,
          20,
          45,
          7,
          30,
          74,
          213,
          13,
          55,
          19,
          38,
          17,
          17,
          16,
          21,
          95,
          32,
          38,
          22,
          16,
          51,
          15,
          15,
          512,
          107,
          21,
          19,
          121,
          15,
          54,
          102,
          212,
          17,
          6,
          120,
          55,
          22,
          512,
          27,
          150,
          18,
          52,
          25,
          23,
          290,
          57,
          12,
          166,
          14,
          23,
          20,
          13,
          19,
          18,
          88,
          48,
          39,
          52,
          44,
          155,
          3,
          18,
          56,
          39,
          21,
          47,
          154,
          105,
          12,
          30,
          44,
          9,
          40,
          154,
          188,
          36,
          345,
          209,
          258,
          92,
          490,
          3,
          236,
          254,
          46,
          38,
          44,
          36,
          105,
          39,
          39,
          22,
          25,
          25,
          39,
          38,
          210,
          6,
          152,
          39,
          97,
          5,
          11,
          34,
          37,
          22,
          15,
          133,
          15,
          114,
          50,
          26,
          123,
          21,
          122,
          72,
          81,
          6,
          512,
          15,
          512,
          60,
          18,
          7,
          40,
          38,
          50,
          132,
          104,
          10,
          26,
          25,
          14,
          31,
          55,
          43,
          84,
          9,
          126,
          6,
          122,
          14,
          36,
          60,
          121,
          67,
          28,
          50,
          14,
          57,
          26,
          30,
          13,
          5,
          43,
          73,
          15,
          282,
          66,
          67,
          48,
          20,
          7,
          38,
          30,
          113,
          14,
          30,
          40,
          8,
          183,
          9,
          46,
          72,
          69,
          127,
          512,
          295,
          199,
          61,
          13,
          21,
          317,
          111,
          9,
          43,
          68,
          15,
          5,
          80,
          33,
          68,
          10,
          7,
          102,
          12,
          4,
          28,
          33,
          32,
          11,
          11,
          95,
          190,
          81,
          7,
          212,
          43,
          512,
          30,
          133,
          24,
          82,
          512,
          19,
          21,
          62,
          34,
          53,
          26,
          163,
          198,
          47,
          23,
          151,
          25,
          147,
          47,
          57,
          449,
          107,
          12,
          23,
          15,
          16,
          16,
          13,
          38,
          60,
          47,
          26,
          275,
          88,
          11,
          310,
          20,
          56,
          512,
          23,
          27,
          48,
          21,
          39,
          50,
          53,
          5,
          9,
          16,
          85,
          54,
          40,
          17,
          22,
          94,
          8,
          10,
          22,
          142,
          17,
          243,
          89,
          16,
          37,
          93,
          53,
          42,
          156,
          31,
          160,
          19,
          18,
          127,
          59,
          75,
          133,
          13,
          104,
          102,
          36,
          39,
          50,
          193,
          395,
          216,
          10,
          29,
          18,
          11,
          202,
          54,
          140,
          15,
          25,
          11,
          47,
          96,
          40,
          54,
          28,
          41,
          17,
          14,
          132,
          90,
          12,
          60,
          15,
          28,
          20,
          57,
          33,
          230,
          113,
          29,
          104,
          28,
          260,
          20,
          133,
          75,
          158,
          50,
          34,
          98,
          39,
          119,
          26,
          17,
          8,
          67,
          3,
          53,
          65,
          105,
          8,
          89,
          30,
          50,
          72,
          91,
          196,
          62,
          164,
          93,
          10,
          144,
          15,
          22,
          7,
          151,
          33,
          31,
          37,
          19,
          16,
          33,
          8,
          248,
          84,
          75,
          51,
          14,
          11,
          17,
          51,
          487,
          45,
          10,
          62,
          186,
          54,
          512,
          71,
          245,
          109,
          60,
          9,
          26,
          182,
          9,
          70,
          21,
          259,
          16,
          14,
          11,
          16,
          9,
          12,
          60,
          60,
          35,
          103,
          39,
          11,
          30,
          96,
          90,
          97,
          21,
          56,
          70,
          13,
          67,
          42,
          122,
          47,
          9,
          17,
          167,
          65,
          118,
          34,
          167,
          45,
          9,
          365,
          8,
          14,
          114,
          40,
          13,
          27,
          26,
          8,
          18,
          64,
          141,
          10,
          63,
          71,
          66,
          8,
          142,
          27,
          28,
          24,
          99,
          32,
          40,
          6,
          7,
          233,
          67,
          83,
          90,
          47,
          36,
          62,
          28,
          512,
          55,
          147,
          174,
          28,
          184,
          73,
          77,
          15,
          110,
          9,
          76,
          512,
          23,
          24,
          7,
          131,
          27,
          22,
          33,
          29,
          12,
          26,
          116,
          39,
          50,
          36,
          219,
          35,
          69,
          81,
          4,
          8,
          139,
          41,
          47,
          109,
          60,
          210,
          266,
          47,
          25,
          42,
          20,
          55,
          5,
          61,
          29,
          119,
          9,
          15,
          18,
          30,
          14,
          102,
          19,
          241,
          88,
          6,
          124,
          186,
          91,
          10,
          27,
          33,
          82,
          426,
          86,
          108,
          13,
          109,
          10,
          13,
          49,
          146,
          8,
          121,
          48,
          47,
          42,
          60,
          9,
          23,
          13,
          59,
          9,
          49,
          84,
          101,
          32,
          109,
          30,
          28,
          81,
          18,
          23,
          25,
          96,
          332,
          10,
          25,
          69,
          76,
          10,
          149,
          120,
          31,
          48,
          5,
          101,
          93,
          143,
          53,
          26,
          13,
          204,
          244,
          363,
          41,
          76,
          20,
          23,
          441,
          68,
          75,
          17,
          46,
          237,
          15,
          36,
          43,
          67,
          55,
          27,
          22,
          8,
          100,
          41,
          106,
          60,
          40,
          33,
          126,
          43,
          24,
          34,
          111,
          511,
          46,
          79,
          12,
          75,
          93,
          138,
          79,
          15,
          20,
          19,
          11,
          5,
          64,
          33,
          145,
          54,
          28,
          39,
          10,
          22,
          41,
          26,
          10,
          50,
          46,
          53,
          82,
          13,
          214,
          9,
          7,
          22,
          46,
          31,
          512,
          35,
          30,
          53,
          11,
          28,
          100,
          512,
          101,
          38,
          148,
          59,
          25,
          11,
          16,
          12,
          10,
          18,
          12,
          26,
          91,
          40,
          44,
          52,
          28,
          53,
          47,
          103,
          24,
          92,
          23,
          14,
          65,
          172,
          71,
          14,
          13,
          25,
          22,
          34,
          13,
          67,
          512,
          20,
          12,
          59,
          7,
          48,
          40,
          67,
          186,
          7,
          20,
          100,
          7,
          61,
          13,
          60,
          69,
          29,
          17,
          76,
          32,
          117,
          144,
          21,
          6,
          23,
          16,
          138,
          46,
          51,
          72,
          51,
          504,
          31,
          14,
          229,
          15,
          179,
          25,
          14,
          18,
          13,
          83,
          69,
          37,
          512,
          512,
          52,
          15,
          44,
          12,
          51,
          60,
          44,
          105,
          22,
          14,
          18,
          48,
          61,
          25,
          279,
          91,
          9,
          46,
          52,
          62,
          170,
          83,
          66,
          162,
          14,
          57,
          24,
          151,
          59,
          138,
          104,
          63,
          122,
          68,
          47,
          266,
          16,
          83,
          30,
          48,
          66,
          130,
          488,
          6,
          11,
          76,
          41,
          33,
          172,
          35,
          140,
          22,
          25,
          11,
          17,
          11,
          9,
          40,
          22,
          43,
          58,
          20,
          15,
          35,
          15,
          512,
          53,
          6,
          16,
          4,
          23,
          33,
          66,
          10,
          57,
          18,
          107,
          20,
          13,
          28,
          9,
          119,
          13,
          47,
          51,
          24,
          30,
          31,
          6,
          6,
          108,
          99,
          297,
          6,
          27,
          15,
          28,
          29,
          27,
          68,
          89,
          19,
          42,
          165,
          37,
          39,
          52,
          43,
          50,
          150,
          5,
          186,
          195,
          58,
          72,
          23,
          52,
          20,
          68,
          48,
          17,
          67,
          45,
          92,
          111,
          30,
          34,
          20,
          240,
          32,
          19,
          8,
          30,
          45,
          35,
          11,
          62,
          160,
          169,
          47,
          21,
          53,
          26,
          26,
          11,
          18,
          47,
          28,
          88,
          17,
          301,
          37,
          36,
          54,
          49,
          68,
          107,
          57,
          19,
          91,
          51,
          17,
          36,
          60,
          94,
          54,
          53,
          477,
          18,
          222,
          6,
          98,
          224,
          17,
          31,
          32,
          61,
          20,
          8,
          11,
          38,
          27,
          7,
          7,
          64,
          13,
          29,
          74,
          23,
          24,
          132,
          117,
          10,
          83,
          23,
          46,
          105,
          20,
          512,
          85,
          81,
          9,
          28,
          75,
          19,
          120,
          236,
          26,
          62,
          50,
          11,
          27,
          49,
          6,
          13,
          22,
          164,
          22,
          135,
          85,
          194,
          51,
          12,
          24,
          87,
          52,
          34,
          23,
          76,
          43,
          53,
          14,
          21,
          33,
          17,
          79,
          13,
          27,
          127,
          512,
          72,
          21,
          340,
          23,
          31,
          38,
          27,
          44,
          288,
          13,
          23,
          71,
          12,
          11,
          29,
          26,
          6,
          128,
          5,
          7,
          60,
          102,
          12,
          27,
          146,
          11,
          64,
          8,
          11,
          81,
          25,
          45,
          106,
          52,
          31,
          59,
          104,
          6,
          60,
          129,
          35,
          99,
          17,
          95,
          173,
          7,
          248,
          14,
          25,
          124,
          57,
          105,
          11,
          15,
          19,
          27,
          57,
          53,
          212,
          39,
          47,
          29,
          83,
          22,
          47,
          427,
          203,
          334,
          322,
          8,
          36,
          80,
          21,
          67,
          42,
          169,
          91,
          69,
          9,
          189,
          15,
          15,
          29,
          205,
          16,
          71,
          39,
          33,
          63,
          13,
          56,
          18,
          43,
          80,
          7,
          50,
          28,
          16,
          22,
          77,
          14,
          100,
          21,
          53,
          11,
          21,
          44,
          21,
          176,
          288,
          163,
          65,
          3,
          13,
          28,
          76,
          35,
          87,
          23,
          57,
          512,
          41,
          83,
          43,
          12,
          35,
          42,
          29,
          14,
          323,
          51,
          11,
          16,
          8,
          3,
          7,
          55,
          53,
          12,
          17,
          20,
          247,
          35,
          95,
          117,
          55,
          9,
          112,
          19,
          28,
          226,
          62,
          61,
          44,
          51,
          59,
          140,
          24,
          29,
          36,
          18,
          210,
          64,
          7,
          89,
          8,
          17,
          156,
          9,
          25,
          19,
          77,
          38,
          28,
          59,
          64,
          52,
          91,
          27,
          150,
          36,
          172,
          53,
          89,
          17,
          69,
          116,
          70,
          66,
          155,
          56,
          101,
          280,
          10,
          30,
          512,
          56,
          24,
          11,
          285,
          28,
          48,
          118,
          134,
          9,
          244,
          27,
          46,
          72,
          26,
          9,
          136,
          92,
          54,
          68,
          36,
          46,
          49,
          69,
          56,
          24,
          239,
          27,
          14,
          26,
          117,
          360,
          10,
          160,
          13,
          211,
          53,
          25,
          37,
          11,
          105,
          13,
          34,
          38,
          71,
          69,
          47,
          39,
          17,
          140,
          62,
          117,
          39,
          34,
          34,
          19,
          59,
          18,
          67,
          38,
          48,
          48,
          70,
          23,
          19,
          14,
          22,
          36,
          19,
          31,
          8,
          22,
          65,
          21,
          279,
          21,
          30,
          66,
          64,
          30,
          90,
          50,
          232,
          174,
          28,
          18,
          34,
          218,
          47,
          7,
          48,
          42,
          52,
          269,
          50,
          23,
          22,
          141,
          20,
          13,
          47,
          58,
          95,
          47,
          14,
          68,
          47,
          221,
          115,
          16,
          46,
          45,
          67,
          21,
          42,
          81,
          11,
          72,
          129,
          93,
          28,
          67,
          75,
          55,
          367,
          30,
          14,
          20,
          11,
          35,
          31,
          19,
          16,
          9,
          10,
          178,
          31,
          5,
          16,
          152,
          15,
          8,
          29,
          44,
          80,
          56,
          46,
          38,
          48,
          132,
          105,
          55,
          33,
          32,
          131,
          66,
          8,
          52,
          82,
          14,
          71,
          78,
          35,
          41,
          10,
          296,
          22,
          25,
          24,
          47,
          231,
          11,
          54,
          8,
          54,
          72,
          26,
          91,
          69,
          23,
          116,
          51,
          42,
          7,
          56,
          62,
          22,
          307,
          44,
          107,
          44,
          30,
          29,
          14,
          25,
          41,
          56,
          70,
          26,
          24,
          62,
          54,
          14,
          23,
          10,
          113,
          95,
          153,
          86,
          29,
          35,
          39,
          74,
          21,
          20,
          32,
          38,
          50,
          25,
          48,
          56,
          67,
          17,
          28,
          96,
          82,
          129,
          110,
          17,
          35,
          7,
          147,
          95,
          320,
          91,
          48,
          79,
          234,
          39,
          101,
          112,
          14,
          51,
          76,
          33,
          31,
          10,
          72,
          175,
          66,
          5,
          126,
          61,
          10,
          20,
          41,
          13,
          59,
          102,
          75,
          7,
          114,
          20,
          36,
          19,
          512,
          284,
          7,
          30,
          100,
          69,
          68,
          30,
          50,
          272,
          11,
          9,
          34,
          21,
          23,
          20,
          54,
          35,
          75,
          62,
          30,
          22,
          7,
          7,
          72,
          36,
          9,
          12,
          30,
          62,
          50,
          72,
          10,
          65,
          42,
          16,
          103,
          12,
          41,
          24,
          120,
          40,
          26,
          63,
          22,
          17,
          512,
          48,
          106,
          20,
          77,
          30,
          36,
          21,
          20,
          122,
          32,
          81,
          56,
          46,
          38,
          50,
          6,
          26,
          57,
          361,
          383,
          82,
          48,
          13,
          42,
          175,
          36,
          195,
          35,
          57,
          37,
          27,
          37,
          472,
          86,
          373,
          17,
          124,
          35,
          36,
          153,
          40,
          49,
          57,
          39,
          16,
          12,
          14,
          117,
          24,
          69,
          5,
          63,
          20,
          71,
          54,
          63,
          55,
          92,
          48,
          12,
          43,
          106,
          291,
          38,
          257,
          90,
          18,
          14,
          39,
          90,
          62,
          129,
          86,
          71,
          51,
          24,
          225,
          17,
          24,
          49,
          80,
          22,
          167,
          31,
          15,
          206,
          205,
          189,
          294,
          43,
          70,
          167,
          91,
          183,
          27,
          72,
          49,
          48,
          7,
          34,
          157,
          31,
          86,
          61,
          81,
          12,
          37,
          40,
          118,
          17,
          94,
          22,
          19,
          9,
          86,
          54,
          161,
          27,
          89,
          94,
          60,
          40,
          17,
          29,
          13,
          64,
          28,
          6,
          22,
          56,
          30,
          11,
          76,
          80,
          38,
          75,
          93,
          80,
          185,
          50,
          28,
          69,
          68,
          19,
          63,
          512,
          20,
          9,
          72,
          9,
          37,
          50,
          23,
          6,
          23,
          84,
          10,
          6,
          38,
          8,
          30,
          117,
          60,
          12,
          27,
          208,
          13,
          66,
          29,
          57,
          71,
          37,
          111,
          512,
          17,
          88,
          105,
          117,
          488,
          32,
          56,
          36,
          65,
          38,
          54,
          6,
          111,
          117,
          51,
          14,
          55,
          12,
          141,
          18,
          6,
          47,
          43,
          24,
          114,
          30,
          42,
          31,
          16,
          146,
          16,
          61,
          90,
          17,
          78,
          64,
          20,
          78,
          49,
          218,
          272,
          9,
          27,
          33,
          11,
          418,
          8,
          29,
          20,
          33,
          57,
          266,
          41,
          99,
          23,
          42,
          33,
          35,
          54,
          20,
          19,
          117,
          23,
          170,
          244,
          23,
          305,
          72,
          23,
          86,
          19,
          74,
          74,
          136,
          107,
          50,
          64,
          354,
          44,
          173,
          244,
          41,
          130,
          110,
          16,
          16,
          30,
          82,
          225,
          291,
          67,
          101,
          92,
          66,
          141,
          186,
          11,
          208,
          16,
          136,
          40,
          16,
          59,
          21,
          16,
          12,
          37,
          25,
          66,
          5,
          20,
          48,
          64,
          171,
          30,
          15,
          8,
          124,
          29,
          5,
          39,
          9,
          220,
          10,
          55,
          26,
          46,
          138,
          36,
          32,
          48,
          23,
          11,
          26,
          50,
          512,
          156,
          15,
          48,
          24,
          53,
          12,
          5,
          134,
          52,
          18,
          42,
          87,
          133,
          31,
          72,
          8,
          17,
          51,
          87,
          512,
          39,
          27,
          27,
          87,
          10,
          34,
          118,
          52,
          56,
          512,
          36,
          7,
          52,
          67,
          68,
          16,
          211,
          190,
          13,
          16,
          377,
          87,
          34,
          40,
          33,
          40,
          34,
          51,
          35,
          105,
          28,
          11,
          19,
          20,
          135,
          111,
          49,
          20,
          15,
          37,
          63,
          488,
          52,
          61,
          38,
          68,
          20,
          28,
          17,
          13,
          96,
          22,
          21,
          105,
          7,
          64,
          62,
          45,
          39,
          12,
          512,
          100,
          47,
          79,
          57,
          113,
          17,
          59,
          28,
          94,
          94,
          26,
          136,
          113,
          44,
          53,
          127,
          47,
          111,
          110,
          11,
          32,
          95,
          115,
          28,
          58,
          37,
          15,
          13,
          46,
          126,
          15,
          120,
          296,
          512,
          286,
          35,
          14,
          7,
          82,
          28,
          301,
          19,
          6,
          19,
          66,
          512,
          30,
          98,
          51,
          36,
          22,
          12,
          63,
          136,
          7,
          6,
          22,
          12,
          55,
          45,
          173,
          59,
          41,
          123,
          11,
          24,
          28,
          30,
          77,
          54,
          30,
          52,
          102,
          13,
          34,
          13,
          24,
          21,
          16,
          33,
          11,
          41,
          142,
          229,
          512,
          34,
          38,
          29,
          90,
          37,
          294,
          12,
          125,
          50,
          134,
          282,
          61,
          36,
          51,
          13,
          16,
          181,
          30,
          159,
          153,
          72,
          45,
          21,
          88,
          33,
          184,
          7,
          285,
          34,
          29,
          39,
          31,
          47,
          41,
          16,
          43,
          16,
          187,
          14,
          19,
          209,
          93,
          55,
          26,
          91,
          33,
          140,
          99,
          49,
          13,
          14,
          6,
          20,
          15,
          512,
          76,
          96,
          60,
          30,
          22,
          55,
          24,
          7,
          36,
          100,
          14,
          61,
          40,
          90,
          113,
          11,
          224,
          30,
          11,
          64,
          73,
          52,
          11,
          214,
          31,
          81,
          29,
          61,
          46,
          40,
          42,
          161,
          24,
          10,
          14,
          33,
          13,
          42,
          55,
          101,
          44,
          512,
          20,
          22,
          33,
          15,
          9,
          29,
          65,
          18,
          57,
          52,
          22,
          9,
          84,
          138,
          10,
          95,
          7,
          221,
          40,
          162,
          85,
          433,
          26,
          91,
          244,
          183,
          75,
          181,
          30,
          8,
          27,
          14,
          40,
          15,
          20,
          36,
          100,
          56,
          10,
          32,
          44,
          101,
          14,
          43,
          45,
          49,
          79,
          71,
          14,
          7,
          25,
          40,
          56,
          14,
          175,
          11,
          81,
          107,
          84,
          16,
          20,
          39,
          7,
          65,
          52,
          29,
          8,
          42,
          69,
          66,
          7,
          16,
          6,
          12,
          63,
          11,
          125,
          17,
          134,
          39,
          24,
          18,
          32,
          84,
          23,
          136,
          55,
          72,
          9,
          48,
          56,
          5,
          18,
          137,
          512,
          60,
          19,
          46,
          35,
          77,
          14,
          62,
          235,
          8,
          24,
          53,
          117,
          55,
          17,
          33,
          68,
          34,
          8,
          61,
          8,
          44,
          57,
          7,
          9,
          512,
          30,
          32,
          68,
          15,
          66,
          33,
          33,
          23,
          389,
          29,
          170,
          49,
          72,
          512,
          10,
          17,
          58,
          185,
          72,
          31,
          29,
          19,
          49,
          31,
          19,
          19,
          18,
          9,
          13,
          14,
          28,
          61,
          24,
          29,
          53,
          77,
          7,
          512,
          64,
          16,
          22,
          80,
          67,
          512,
          21,
          78,
          13,
          512,
          21,
          145,
          41,
          30,
          41,
          21,
          54,
          29,
          207,
          512,
          35,
          74,
          80,
          4,
          8,
          98,
          45,
          24,
          54,
          8,
          61,
          32,
          48,
          41,
          7,
          28,
          54,
          19,
          10,
          14,
          159,
          104,
          13,
          23,
          22,
          76,
          27,
          10,
          96,
          11,
          170,
          14,
          121,
          16,
          26,
          57,
          512,
          37,
          112,
          27,
          30,
          412,
          41,
          75,
          89,
          22,
          45,
          180,
          85,
          41,
          20,
          40,
          93,
          31,
          247,
          10,
          7,
          24,
          56,
          67,
          25,
          34,
          23,
          94,
          100,
          15,
          8,
          68,
          44,
          10,
          105,
          35,
          14,
          16,
          15,
          30,
          10,
          67,
          23,
          166,
          251,
          32,
          15,
          188,
          44,
          41,
          86,
          385,
          35,
          47,
          42,
          94,
          79,
          7,
          23,
          20,
          85,
          33,
          25,
          47,
          14,
          31,
          25,
          96,
          12,
          150,
          15,
          78,
          50,
          42,
          30,
          15,
          96,
          18,
          46,
          14,
          32,
          73,
          9,
          26,
          53,
          112,
          17,
          61,
          512,
          8,
          146,
          12,
          89,
          12,
          70,
          8,
          20,
          51,
          8,
          38,
          13,
          113,
          69,
          161,
          9,
          17,
          29,
          69,
          22,
          77,
          6,
          164,
          34,
          23,
          62,
          96,
          38,
          24,
          48,
          294,
          25,
          99,
          17,
          32,
          76,
          11,
          8,
          56,
          33,
          19,
          10,
          30,
          28,
          21,
          51,
          38,
          233,
          21,
          57,
          25,
          43,
          33,
          512,
          26,
          12,
          29,
          12,
          6,
          11,
          17,
          8,
          69,
          45,
          121,
          171,
          42,
          28,
          32,
          31,
          12,
          6,
          25,
          48,
          16,
          43,
          135,
          16,
          35,
          26,
          26,
          187,
          56,
          32,
          31,
          50,
          18,
          14,
          44,
          22,
          63,
          50,
          46,
          125,
          44,
          33,
          104,
          20,
          365,
          137,
          43,
          54,
          40,
          512,
          30,
          196,
          31,
          10,
          26,
          78,
          80,
          59,
          68,
          169,
          11,
          84,
          14,
          65,
          27,
          297,
          25,
          90,
          28,
          28,
          8,
          70,
          27,
          27,
          32,
          12,
          96,
          13,
          45,
          49,
          45,
          66,
          16,
          53,
          24,
          59,
          120,
          7,
          23,
          32,
          27,
          69,
          87,
          28,
          62,
          77,
          106,
          94,
          225,
          63,
          23,
          36,
          115,
          26,
          68,
          38,
          131,
          17,
          16,
          35,
          128,
          73,
          13,
          155,
          37,
          25,
          19,
          208,
          56,
          56,
          59,
          60,
          12,
          208,
          9,
          78,
          119,
          38,
          51,
          74,
          66,
          58,
          17,
          48,
          232,
          77,
          129,
          144,
          74,
          24,
          316,
          30,
          182,
          24,
          33,
          42,
          44,
          50,
          79,
          49,
          69,
          296,
          60,
          28,
          20,
          37,
          65,
          18,
          67,
          38,
          388,
          39,
          13,
          11,
          44,
          37,
          105,
          91,
          4,
          107,
          58,
          19,
          152,
          34,
          7,
          48,
          49,
          94,
          54,
          49,
          17,
          75,
          63,
          36,
          75,
          13,
          12,
          12,
          133,
          11,
          10,
          98,
          19,
          35,
          13,
          512,
          59,
          69,
          66,
          8,
          98,
          22,
          16,
          15,
          35,
          188,
          11,
          42,
          27,
          98,
          33,
          5,
          115,
          16,
          40,
          237,
          46,
          19,
          34,
          10,
          149,
          13,
          28,
          168,
          44,
          39,
          178,
          59,
          36,
          41,
          105,
          57,
          195,
          75,
          117,
          133,
          42,
          141,
          40,
          40,
          50,
          86,
          67,
          85,
          9,
          22,
          81,
          22,
          34,
          55,
          28,
          213,
          12,
          7,
          22,
          34,
          89,
          85,
          214,
          238,
          25,
          105,
          123,
          15,
          83,
          13,
          111,
          65,
          66,
          208,
          110,
          56,
          6,
          12,
          20,
          37,
          9,
          114,
          73,
          14,
          30,
          43,
          70,
          40,
          43,
          202,
          67,
          10,
          19,
          88,
          32,
          140,
          135,
          366,
          125,
          70,
          20,
          86,
          133,
          7,
          22,
          32,
          90,
          152,
          35,
          35,
          65,
          15,
          8,
          72,
          102,
          34,
          9,
          40,
          30,
          52,
          189,
          18,
          52,
          37,
          15,
          15,
          6,
          14,
          54,
          13,
          189,
          41,
          20,
          20,
          124,
          9,
          18,
          9,
          15,
          101,
          19,
          30,
          20,
          13,
          17,
          6,
          79,
          6,
          275,
          20,
          14,
          13,
          55,
          48,
          48,
          279,
          47,
          12,
          128,
          16,
          115,
          148,
          57,
          512,
          34,
          272,
          17,
          151,
          136,
          14,
          62,
          152,
          227,
          10,
          57,
          10,
          130,
          207,
          16,
          200,
          15,
          21,
          23,
          36,
          25,
          14,
          68,
          45,
          83,
          39,
          10,
          19,
          238,
          21,
          7,
          178,
          6,
          24,
          127,
          19,
          33,
          52,
          165,
          13,
          71,
          71,
          4,
          18,
          12,
          12,
          14,
          269,
          52,
          248,
          39,
          11,
          21,
          109,
          11,
          319,
          41,
          67,
          9,
          101,
          17,
          81,
          197,
          28,
          79,
          13,
          24,
          132,
          26,
          15,
          61,
          66,
          6,
          99,
          43,
          57,
          17,
          16,
          35,
          63,
          159,
          499,
          64,
          55,
          18,
          70,
          43,
          248,
          11,
          81,
          264,
          133,
          100,
          77,
          24,
          56,
          22,
          35,
          74,
          77,
          9,
          31,
          30,
          234,
          13,
          39,
          11,
          31,
          37,
          183,
          7,
          125,
          53,
          68,
          13,
          27,
          27,
          16,
          48,
          48,
          116,
          160,
          285,
          47,
          7,
          88,
          27,
          72,
          22,
          52,
          111,
          13,
          9,
          121,
          512,
          25,
          294,
          112,
          12,
          131,
          53,
          10,
          59,
          23,
          45,
          66,
          10,
          7,
          361,
          82,
          57,
          19,
          17,
          58,
          16,
          143,
          28,
          44,
          55,
          25,
          11,
          11,
          27,
          68,
          31,
          30,
          17,
          48,
          81,
          149,
          28,
          33,
          24,
          25,
          75,
          54,
          27,
          7,
          30,
          18,
          22,
          29,
          26,
          154,
          38,
          148,
          41,
          32,
          423,
          73,
          21,
          94,
          18,
          28,
          25,
          119,
          512,
          46,
          30,
          26,
          22,
          63,
          32,
          52,
          278,
          62,
          99,
          13,
          16,
          14,
          32,
          64,
          49,
          121,
          49,
          114,
          8,
          47,
          70,
          47,
          60,
          91,
          47,
          26,
          276,
          16,
          24,
          71,
          42,
          21,
          23,
          29,
          31,
          79,
          512,
          22,
          48,
          53,
          37,
          73,
          76,
          42,
          78,
          24,
          28,
          128,
          20,
          58,
          73,
          35,
          45,
          93,
          17,
          181,
          9,
          147,
          54,
          38,
          12,
          229,
          60,
          512,
          119,
          255,
          512,
          59,
          512,
          13,
          24,
          53,
          41,
          189,
          24,
          219,
          15,
          65,
          25,
          75,
          126,
          103,
          45,
          7,
          42,
          139,
          8,
          8,
          291,
          8,
          29,
          38,
          6,
          12,
          64,
          45,
          132,
          38,
          18,
          5,
          73,
          40,
          14,
          46,
          72,
          12,
          19,
          62,
          311,
          92,
          26,
          33,
          21,
          10,
          7,
          39,
          8,
          48,
          20,
          76,
          22,
          35,
          38,
          26,
          16,
          8,
          17,
          68,
          21,
          13,
          35,
          27,
          79,
          65,
          255,
          9,
          17,
          37,
          53,
          59,
          14,
          43,
          37,
          23,
          34,
          38,
          58,
          46,
          137,
          216,
          64,
          80,
          61,
          34,
          32,
          20,
          134,
          19,
          23,
          264,
          168,
          14,
          14,
          62,
          25,
          51,
          17,
          444,
          11,
          42,
          34,
          27,
          144,
          24,
          56,
          45,
          12,
          512,
          103,
          18,
          100,
          50,
          29,
          27,
          24,
          45,
          200,
          59,
          24,
          124,
          83,
          36,
          25,
          31,
          25,
          11,
          27,
          25,
          215,
          24,
          28,
          26,
          17,
          31,
          47,
          17,
          248,
          51,
          512,
          108,
          31,
          160,
          19,
          16,
          101,
          31,
          34,
          15,
          7,
          25,
          113,
          35,
          109,
          94,
          7,
          55,
          325,
          118,
          47,
          13,
          17,
          16,
          120,
          46,
          18,
          64,
          167,
          58,
          20,
          44,
          178,
          85,
          52,
          307,
          94,
          52,
          35,
          12,
          211,
          27,
          31,
          17,
          153,
          21,
          84,
          87,
          9,
          269,
          46,
          326,
          42,
          65,
          14,
          80,
          42,
          24,
          248,
          10,
          149,
          102,
          38,
          16,
          29,
          49,
          39,
          32,
          79,
          76,
          100,
          18,
          48,
          61,
          512,
          11,
          35,
          9,
          10,
          49,
          159,
          48,
          21,
          66,
          31,
          13,
          131,
          13,
          11,
          10,
          119,
          24,
          100,
          229,
          22,
          33,
          120,
          32,
          76,
          126,
          305,
          28,
          54,
          152,
          42,
          5,
          27,
          39,
          39,
          9,
          169,
          71,
          92,
          48,
          37,
          28,
          43,
          68,
          24,
          9,
          512,
          50,
          73,
          10,
          126,
          15,
          58,
          73,
          27,
          69,
          30,
          74,
          512,
          43,
          123,
          35,
          112,
          31,
          56,
          30,
          199,
          24,
          30,
          80,
          79,
          94,
          512,
          115,
          68,
          18,
          13,
          21,
          31,
          499,
          22,
          86,
          59,
          22,
          69,
          57,
          55,
          13,
          38,
          10,
          247,
          258,
          11,
          13,
          112,
          147,
          21,
          29,
          68,
          63,
          82,
          112,
          31,
          34,
          59,
          23,
          33,
          8,
          12,
          17,
          29,
          42,
          42,
          63,
          72,
          15,
          20,
          59,
          30,
          49,
          23,
          27,
          90,
          43,
          74,
          20,
          26,
          143,
          260,
          68,
          55,
          121,
          52,
          20,
          80,
          8,
          512,
          110,
          45,
          16,
          83,
          10,
          101,
          26,
          86,
          50,
          20,
          31,
          35,
          277,
          78,
          86,
          40,
          130,
          21,
          202,
          35,
          23,
          26,
          20,
          6,
          20,
          17,
          23,
          17,
          14,
          55,
          56,
          30,
          165,
          375,
          18,
          12,
          22,
          512,
          156,
          20,
          88,
          23,
          37,
          20,
          146,
          177,
          65,
          8,
          19,
          141,
          18,
          129,
          21,
          27,
          21,
          13,
          39,
          512,
          86,
          89,
          63,
          205,
          147,
          12,
          26,
          28,
          17,
          8,
          28,
          12,
          81,
          39,
          93,
          107,
          12,
          142,
          63,
          94,
          77,
          20,
          63,
          18,
          29,
          10,
          45,
          33,
          53,
          136,
          104,
          27,
          71,
          40,
          60,
          55,
          119,
          80,
          104,
          23,
          7,
          247,
          19,
          24,
          60,
          24,
          34,
          112,
          11,
          43,
          48,
          236,
          46,
          39,
          33,
          99,
          347,
          7,
          119,
          51,
          76,
          13,
          23,
          9,
          24,
          82,
          30,
          33,
          10,
          22,
          80,
          32,
          30,
          46,
          57,
          189,
          286,
          21,
          9,
          27,
          18,
          15,
          21,
          512,
          433,
          135,
          88,
          128,
          13,
          65,
          25,
          49,
          13,
          17,
          38,
          146,
          30,
          13,
          95,
          28,
          21,
          13,
          21,
          136,
          48,
          87,
          22,
          55,
          14,
          130,
          14,
          132,
          123,
          27,
          11,
          120,
          33,
          93,
          10,
          274,
          80,
          98,
          47,
          12,
          63,
          8,
          47,
          60,
          36,
          38,
          28,
          140,
          202,
          32,
          16,
          29,
          152,
          93,
          43,
          8,
          27,
          59,
          21,
          90,
          270,
          15,
          250,
          97,
          18,
          78,
          56,
          19,
          22,
          206,
          8,
          61,
          512,
          17,
          41,
          117,
          57,
          42,
          24,
          57,
          36,
          136,
          14,
          59,
          52,
          8,
          73,
          10,
          64,
          203,
          12,
          28,
          13,
          6,
          57,
          8,
          26,
          15,
          65,
          7,
          70,
          16,
          10,
          452,
          48,
          55,
          62,
          188,
          13,
          38,
          68,
          21,
          65,
          138,
          43,
          91,
          17,
          18,
          9,
          17,
          62,
          69,
          35,
          17,
          177,
          78,
          183,
          24,
          24,
          24,
          257,
          114,
          447,
          12,
          10,
          45,
          28,
          72,
          114,
          122,
          107,
          10,
          50,
          68,
          63,
          15,
          208,
          14,
          12,
          18,
          38,
          11,
          108,
          193,
          11,
          54,
          102,
          15,
          8,
          36,
          24,
          54,
          51,
          5,
          36,
          52,
          173,
          136,
          19,
          14,
          52,
          15,
          102,
          73,
          45,
          117,
          66,
          115,
          15,
          10,
          25,
          61,
          37,
          126,
          22,
          17,
          9,
          25,
          512,
          46,
          18,
          260,
          16,
          32,
          103,
          16,
          86,
          9,
          22,
          65,
          272,
          42,
          23,
          64,
          64,
          31,
          140,
          48,
          18,
          59,
          93,
          50,
          47,
          11,
          37,
          21,
          337,
          57,
          40,
          118,
          59,
          37,
          15,
          250,
          74,
          9,
          70,
          13,
          31,
          83,
          11,
          45,
          35,
          14,
          30,
          20,
          35,
          22,
          74,
          11,
          22,
          9,
          5,
          57,
          248,
          47,
          7,
          8,
          260,
          11,
          156,
          512,
          39,
          12,
          93,
          53,
          12,
          17,
          195,
          6,
          11,
          124,
          174,
          12,
          206,
          29,
          8,
          158,
          59,
          18,
          23,
          97,
          9,
          46,
          87,
          113,
          71,
          18,
          44,
          43,
          16,
          59,
          28,
          60,
          240,
          55,
          43,
          6,
          12,
          20,
          242,
          54,
          49,
          15,
          39,
          49,
          35,
          42,
          66,
          10,
          32,
          110,
          15,
          56,
          9,
          7,
          28,
          13,
          66,
          8,
          38,
          40,
          41,
          236,
          512,
          88,
          15,
          17,
          8,
          32,
          35,
          26,
          44,
          184,
          46,
          18,
          68,
          93,
          34,
          13,
          23,
          10,
          8,
          6,
          209,
          28,
          24,
          508,
          14,
          343,
          52,
          15,
          161,
          33,
          11,
          14,
          17,
          10,
          144,
          23,
          6,
          29,
          225,
          41,
          41,
          60,
          23,
          110,
          83,
          57,
          18,
          23,
          134,
          155,
          433,
          30,
          18,
          200,
          6,
          4,
          11,
          12,
          8,
          12,
          174,
          38,
          26,
          153,
          105,
          44,
          7,
          500,
          16,
          17,
          139,
          11,
          110,
          18,
          64,
          27,
          22,
          12,
          44,
          32,
          255,
          50,
          56,
          22,
          12,
          20,
          81,
          31,
          20,
          43,
          17,
          181,
          69,
          39,
          264,
          10,
          10,
          33,
          102,
          18,
          79,
          193,
          21,
          7,
          16,
          65,
          28,
          42,
          22,
          180,
          88,
          54,
          50,
          87,
          25,
          32,
          512,
          21,
          18,
          14,
          223,
          22,
          63,
          145,
          36,
          42,
          62,
          21,
          217,
          17,
          11,
          36,
          34,
          119,
          9,
          11,
          29,
          45,
          37,
          36,
          79,
          84,
          94,
          277,
          111,
          26,
          111,
          59,
          84,
          14,
          35,
          75,
          16,
          41,
          25,
          104,
          41,
          16,
          18,
          8,
          62,
          151,
          385,
          183,
          33,
          7,
          258,
          134,
          29,
          33,
          38,
          15,
          23,
          326,
          56,
          103,
          17,
          271,
          84,
          12,
          8,
          42,
          168,
          117,
          146,
          22,
          25,
          315,
          7,
          38,
          98,
          8,
          324,
          71,
          7,
          228,
          66,
          49,
          17,
          22,
          18,
          71,
          55,
          120,
          93,
          33,
          97,
          91,
          158,
          49,
          12,
          34,
          21,
          16,
          25,
          174,
          17,
          6,
          31,
          5,
          52,
          63,
          244,
          15,
          145,
          50,
          211,
          51,
          161,
          49,
          15,
          153,
          13,
          9,
          19,
          29,
          33,
          29,
          34,
          32,
          42,
          50,
          13,
          10,
          36,
          95,
          52,
          31,
          111,
          76,
          48,
          16,
          32,
          44,
          31,
          26,
          31,
          31,
          180,
          512,
          66,
          10,
          30,
          103,
          57,
          21,
          32,
          11,
          11,
          323,
          15,
          16,
          207,
          31,
          41,
          10,
          67,
          34,
          20,
          57,
          91,
          11,
          512,
          95,
          11,
          58,
          31,
          48,
          11,
          34,
          232,
          8,
          39,
          17,
          57,
          222,
          71,
          27,
          118,
          6,
          35,
          40,
          101,
          12,
          35,
          123,
          73,
          44,
          24,
          99,
          62,
          14,
          75,
          53,
          87,
          10,
          60,
          116,
          60,
          91,
          24,
          23,
          65,
          33,
          47,
          17,
          5,
          155,
          128,
          8,
          142,
          114,
          188,
          39,
          8,
          98,
          461,
          8,
          18,
          97,
          74,
          20,
          20,
          144,
          21,
          118,
          29,
          218,
          8,
          40,
          69,
          15,
          217,
          17,
          49,
          22,
          25,
          21,
          291,
          61,
          22,
          512,
          62,
          26,
          65,
          35,
          28,
          23,
          55,
          9,
          10,
          44,
          17,
          19,
          12,
          512,
          145,
          19,
          126,
          132,
          39,
          44,
          10,
          62,
          372,
          34,
          14,
          137,
          123,
          9,
          45,
          13,
          97,
          6,
          6,
          143,
          93,
          8,
          15,
          369,
          125,
          33,
          232,
          83,
          27,
          33,
          12,
          98,
          9,
          125,
          25,
          7,
          89,
          47,
          95,
          51,
          96,
          14,
          162,
          59,
          18,
          58,
          25,
          512,
          19,
          20,
          9,
          21,
          24,
          53,
          100,
          6,
          19,
          61,
          26,
          178,
          54,
          339,
          13,
          10,
          70,
          33,
          28,
          102,
          220,
          31,
          66,
          79,
          21,
          60,
          52,
          87,
          65,
          59,
          99,
          29,
          55,
          42,
          21,
          27,
          54,
          46,
          145,
          9,
          61,
          11,
          32,
          6,
          91,
          92,
          107,
          6,
          39,
          12,
          8,
          60,
          24,
          45,
          23,
          72,
          148,
          149,
          40,
          31,
          27,
          69,
          88,
          256,
          22,
          69,
          51,
          86,
          19,
          118,
          18,
          8,
          13,
          130,
          17,
          512,
          45,
          57,
          9,
          37,
          132,
          32,
          213,
          26,
          512,
          512,
          22,
          59,
          16,
          11,
          47,
          6,
          39,
          65,
          44,
          99,
          25,
          142,
          14,
          133,
          23,
          6,
          21,
          50,
          57,
          56,
          112,
          58,
          25,
          20,
          58,
          227,
          32,
          26,
          76,
          13,
          11,
          241,
          47,
          26,
          227,
          40,
          33,
          30,
          27,
          59,
          8,
          122,
          13,
          68,
          31,
          20,
          92,
          72,
          44,
          182,
          43,
          92,
          22,
          84,
          39,
          10,
          395,
          56,
          141,
          26,
          41,
          6,
          23,
          137,
          17,
          38,
          51,
          72,
          19,
          20,
          43,
          61,
          15,
          44,
          108,
          110,
          16,
          77,
          90,
          24,
          113,
          60,
          82,
          209,
          13,
          112,
          187,
          49,
          27,
          14,
          9,
          67,
          403,
          165,
          9,
          19,
          34,
          104,
          22,
          13,
          8,
          105,
          208,
          265,
          75,
          60,
          7,
          41,
          67,
          9,
          28,
          180,
          58,
          46,
          11,
          277,
          39,
          11,
          33,
          126,
          198,
          31,
          62,
          50,
          93,
          29,
          10,
          224,
          14,
          51,
          76,
          267,
          28,
          57,
          14,
          512,
          206,
          43,
          512,
          29,
          512,
          169,
          22,
          117,
          36,
          30,
          183,
          9,
          25,
          20,
          44,
          221,
          23,
          28,
          26,
          15,
          43,
          22,
          216,
          24,
          166,
          18,
          7,
          9,
          183,
          18,
          52,
          45,
          26,
          11,
          46,
          72,
          175,
          32,
          12,
          179,
          42,
          19,
          74,
          140,
          94,
          53,
          32,
          80,
          113,
          68,
          49,
          58,
          184,
          114,
          35,
          84,
          49,
          101,
          21,
          8,
          56,
          23,
          11,
          126,
          20,
          21,
          18,
          45,
          11,
          22,
          76,
          50,
          27,
          39,
          11,
          6,
          23,
          75,
          9,
          25,
          93,
          48,
          13,
          41,
          29,
          512,
          94,
          38,
          30,
          21,
          92,
          88,
          512,
          18,
          161,
          133,
          12,
          85,
          9,
          41,
          15,
          72,
          19,
          114,
          29,
          31,
          6,
          117,
          55,
          272,
          92,
          9,
          80,
          105,
          42,
          90,
          49,
          10,
          231,
          68,
          51,
          52,
          12,
          58,
          95,
          14,
          57,
          107,
          10,
          68,
          39,
          128,
          512,
          29,
          19,
          42,
          163,
          12,
          20,
          248,
          27,
          512,
          123,
          135,
          7,
          88,
          284,
          23,
          32,
          10,
          72,
          60,
          86,
          35,
          340,
          32,
          37,
          49,
          33,
          6,
          29,
          26,
          62,
          26,
          48,
          30,
          16,
          62,
          234,
          260,
          41,
          22,
          28,
          7,
          20,
          29,
          15,
          89,
          133,
          103,
          8,
          27,
          94,
          13,
          85,
          477,
          407,
          63,
          92,
          95,
          50,
          18,
          10,
          7,
          275,
          11,
          50,
          76,
          13,
          12,
          24,
          104,
          85,
          34,
          32,
          9,
          108,
          27,
          14,
          16,
          50,
          49,
          10,
          33,
          90,
          27,
          81,
          22,
          44,
          59,
          12,
          48,
          90,
          101,
          10,
          252,
          29,
          167,
          8,
          12,
          22,
          23,
          13,
          22,
          111,
          74,
          26,
          172,
          10,
          6,
          18,
          44,
          30,
          245,
          150,
          11,
          19,
          61,
          71,
          19,
          31,
          31,
          56,
          21,
          91,
          41,
          75,
          73,
          32,
          40,
          9,
          37,
          80,
          14,
          88,
          282,
          7,
          39,
          88,
          41,
          53,
          8,
          263,
          10,
          52,
          164,
          105,
          11,
          21,
          512,
          28,
          4,
          82,
          60,
          21,
          104,
          29,
          60,
          57,
          181,
          150,
          41,
          37,
          117,
          28,
          9,
          69,
          5,
          13,
          32,
          38,
          13,
          54,
          155,
          72,
          29,
          44,
          216,
          11,
          12,
          512,
          164,
          14,
          41,
          21,
          89,
          11,
          9,
          6,
          65,
          98,
          86,
          29,
          80,
          201,
          109,
          28,
          30,
          130,
          40,
          26,
          51,
          41,
          36,
          21,
          39,
          47,
          97,
          22,
          125,
          5,
          22,
          193,
          33,
          30,
          97,
          39,
          129,
          55,
          12,
          41,
          191,
          53,
          94,
          124,
          37,
          87,
          12,
          9,
          24,
          14,
          28,
          49,
          45,
          205,
          31,
          49,
          52,
          32,
          43,
          130,
          27,
          27,
          50,
          207,
          9,
          198,
          29,
          54,
          7,
          11,
          98,
          9,
          7,
          84,
          64,
          117,
          29,
          26,
          60,
          85,
          12,
          30,
          127,
          107,
          28,
          60,
          66,
          7,
          35,
          8,
          44,
          23,
          28,
          30,
          153,
          36,
          59,
          62,
          14,
          43,
          9,
          512,
          26,
          11,
          20,
          241,
          32,
          62,
          37,
          22,
          29,
          57,
          23,
          5,
          97,
          58,
          16,
          103,
          27,
          57,
          20,
          6,
          9,
          9,
          73,
          119,
          50,
          24,
          36,
          8,
          30,
          12,
          28,
          58,
          30,
          12,
          31,
          152,
          66,
          120,
          37,
          83,
          51,
          206,
          110,
          30,
          220,
          34,
          19,
          44,
          49,
          95,
          42,
          24,
          114,
          122,
          25,
          35,
          34,
          57,
          70,
          12,
          28,
          202,
          67,
          72,
          29,
          436,
          23,
          133,
          49,
          39,
          36,
          26,
          118,
          16,
          10,
          25,
          214,
          37,
          11,
          9,
          14,
          115,
          36,
          38,
          47,
          350,
          25,
          34,
          29,
          33,
          157,
          99,
          77,
          17,
          155,
          19,
          117,
          42,
          137,
          21,
          151,
          45,
          23,
          81,
          191,
          13,
          21,
          18,
          63,
          71,
          103,
          16,
          7,
          16,
          17,
          10,
          223,
          68,
          29,
          34,
          75,
          39,
          10,
          89,
          41,
          50,
          31,
          44,
          225,
          74,
          67,
          85,
          19,
          152,
          85,
          41,
          37,
          155,
          18,
          101,
          45,
          45,
          6,
          33,
          30,
          32,
          8,
          72,
          15,
          512,
          77,
          72,
          252,
          11,
          79,
          115,
          90,
          32,
          28,
          90,
          63,
          87,
          53,
          29,
          13,
          11,
          35,
          71,
          11,
          29,
          51,
          44,
          45,
          26,
          23,
          16,
          53,
          134,
          95,
          23,
          99,
          52,
          8,
          33,
          57,
          42,
          75,
          94,
          8,
          42,
          105,
          17,
          26,
          18,
          249,
          105,
          9,
          17,
          125,
          121,
          512,
          69,
          122,
          132,
          27,
          18,
          50,
          11,
          512,
          33,
          28,
          34,
          39,
          229,
          13,
          10,
          40,
          182,
          17,
          92,
          42,
          422,
          87,
          30,
          479,
          199,
          16,
          86,
          126,
          65,
          18,
          34,
          51,
          13,
          413,
          41,
          7,
          34,
          17,
          50,
          41,
          43,
          62,
          44,
          20,
          125,
          14,
          17,
          15,
          65,
          31,
          35,
          17,
          66,
          88,
          230,
          34,
          16,
          17,
          34,
          18,
          156,
          16,
          34,
          11,
          13,
          113,
          39,
          32,
          97,
          187,
          43,
          9,
          56,
          32,
          78,
          40,
          160,
          11,
          69,
          14,
          77,
          7,
          53,
          111,
          388,
          11,
          14,
          275,
          371,
          51,
          45,
          9,
          13,
          409,
          17,
          35,
          113,
          29,
          37,
          8,
          7,
          12,
          10,
          72,
          52,
          32,
          17,
          138,
          129,
          88,
          17,
          116,
          38,
          75,
          11,
          26,
          87,
          21,
          13,
          11,
          53,
          70,
          27,
          46,
          10,
          8,
          64,
          232,
          189,
          28,
          15,
          235,
          14,
          88,
          6,
          65,
          53,
          141,
          8,
          46,
          69,
          20,
          41,
          50,
          30,
          121,
          28,
          15,
          90,
          69,
          23,
          58,
          137,
          33,
          84,
          8,
          43,
          16,
          39,
          41,
          52,
          18,
          62,
          55,
          15,
          105,
          9,
          179,
          38,
          17,
          7,
          124,
          103,
          45,
          350,
          79,
          43,
          12,
          59,
          47,
          18,
          12,
          44,
          146,
          46,
          211,
          15,
          35,
          39,
          43,
          14,
          39,
          52,
          235,
          5,
          84,
          70,
          106,
          72,
          7,
          9,
          72,
          512,
          77,
          61,
          9,
          68,
          210,
          29,
          15,
          13,
          16,
          187,
          31,
          17,
          15,
          303,
          51,
          79,
          15,
          30,
          52,
          35,
          15,
          36,
          28,
          161,
          75,
          37,
          165,
          57,
          181,
          11,
          261,
          16,
          10,
          12,
          124,
          18,
          9,
          30,
          46,
          87,
          120,
          158,
          7,
          8,
          19,
          216,
          15,
          78,
          56,
          27,
          9,
          50,
          37,
          21,
          95,
          146,
          29,
          22,
          89,
          512,
          19,
          30,
          27,
          247,
          23,
          407,
          159,
          52,
          64,
          512,
          7,
          30,
          52,
          73,
          340,
          82,
          20,
          512,
          138,
          512,
          61,
          67,
          90,
          26,
          114,
          282,
          15,
          47,
          72,
          10,
          45,
          42,
          193,
          370,
          104,
          9,
          10,
          36,
          22,
          41,
          21,
          93,
          70,
          107,
          64,
          7,
          30,
          70,
          32,
          39,
          96,
          94,
          205,
          35,
          183,
          23,
          20,
          20,
          35,
          16,
          104,
          5,
          7,
          36,
          213,
          26,
          19,
          30,
          104,
          80,
          10,
          32,
          16,
          185,
          54,
          47,
          16,
          33,
          121,
          70,
          13,
          41,
          31,
          15,
          211,
          75,
          18,
          63,
          39,
          21,
          86,
          20,
          6,
          27,
          55,
          95,
          218,
          126,
          194,
          41,
          12,
          101,
          108,
          94,
          33,
          9,
          198,
          34,
          7,
          38,
          30,
          23,
          6,
          23,
          16,
          50,
          34,
          85,
          30,
          355,
          11,
          329,
          22,
          9,
          7,
          104,
          132,
          82,
          28,
          42,
          174,
          101,
          16,
          44,
          30,
          251,
          13,
          95,
          38,
          83,
          26,
          11,
          54,
          104,
          90,
          230,
          18,
          75,
          195,
          19,
          11,
          69,
          21,
          17,
          106,
          105,
          33,
          30,
          32,
          46,
          10,
          166,
          187,
          107,
          30,
          19,
          75,
          21,
          49,
          101,
          26,
          53,
          18,
          14,
          18,
          141,
          154,
          33,
          43,
          19,
          50,
          95,
          32,
          176,
          20,
          60,
          34,
          84,
          6,
          30,
          15,
          16,
          16,
          10,
          7,
          42,
          15,
          19,
          205,
          120,
          81,
          14,
          498,
          48,
          125,
          28,
          7,
          68,
          36,
          132,
          39,
          31,
          9,
          66,
          15,
          81,
          50,
          170,
          30,
          17,
          158,
          71,
          37,
          239,
          113,
          19,
          191,
          27,
          6,
          4,
          47,
          23,
          129,
          60,
          9,
          10,
          15,
          46,
          79,
          56,
          46,
          57,
          275,
          82,
          300,
          248,
          149,
          14,
          59,
          42,
          47,
          16,
          49,
          11,
          7,
          287,
          40,
          35,
          464,
          17,
          10,
          68,
          12,
          48,
          45,
          8,
          19,
          18,
          165,
          158,
          268,
          70,
          20,
          39,
          28,
          275,
          219,
          53,
          266,
          39,
          12,
          45,
          63,
          16,
          20,
          122,
          55,
          17,
          44,
          66,
          59,
          41,
          259,
          9,
          24,
          57,
          16,
          101,
          12,
          40,
          13,
          24,
          21,
          114,
          11,
          26,
          34,
          59,
          28,
          26,
          28,
          67,
          69,
          25,
          10,
          8,
          38,
          65,
          69,
          143,
          23,
          20,
          14,
          35,
          57,
          17,
          23,
          75,
          16,
          59,
          80,
          35,
          37,
          21,
          112,
          33,
          93,
          47,
          118,
          42,
          20,
          106,
          32,
          110,
          63,
          28,
          22,
          163,
          22,
          20,
          57,
          11,
          92,
          122,
          91,
          24,
          51,
          44,
          47,
          124,
          83,
          37,
          18,
          9,
          34,
          20,
          16,
          11,
          100,
          16,
          38,
          171,
          20,
          7,
          222,
          65,
          28,
          35,
          25,
          193,
          19,
          148,
          12,
          49,
          81,
          24,
          37,
          60,
          43,
          36,
          166,
          15,
          95,
          13,
          115,
          16,
          18,
          103,
          12,
          82,
          32,
          147,
          429,
          102,
          14,
          71,
          25,
          42,
          44,
          116,
          18,
          19,
          160,
          28,
          12,
          60,
          31,
          73,
          22,
          13,
          47,
          40,
          11,
          51,
          12,
          512,
          144,
          43,
          239,
          17,
          17,
          252,
          10,
          32,
          10,
          33,
          22,
          170,
          52,
          308,
          25,
          62,
          53,
          69,
          74,
          22,
          44,
          64,
          33,
          20,
          297,
          11,
          46,
          41,
          25,
          65,
          27,
          180,
          41,
          45,
          46,
          63,
          332,
          32,
          21,
          7,
          36,
          87,
          20,
          14,
          49,
          51,
          157,
          31,
          24,
          132,
          53,
          4,
          77,
          161,
          7,
          15,
          60,
          31,
          40,
          57,
          23,
          15,
          75,
          27,
          209,
          17,
          64,
          17,
          115,
          35,
          73,
          102,
          30,
          20,
          44,
          37,
          62,
          26,
          418,
          64,
          23,
          192,
          53,
          31,
          45,
          102,
          12,
          19,
          125,
          42,
          15,
          10,
          7,
          23,
          20,
          156,
          102,
          25,
          18,
          204,
          11,
          77,
          126,
          5,
          33,
          22,
          32,
          26,
          65,
          48,
          21,
          35,
          19,
          63,
          29,
          76,
          239,
          189,
          32,
          115,
          46,
          13,
          30,
          29,
          15,
          36,
          10,
          41,
          8,
          23,
          10,
          60,
          44,
          167,
          76,
          9,
          296,
          86,
          370,
          34,
          123,
          28,
          78,
          39,
          43,
          72,
          7,
          55,
          26,
          37,
          87,
          126,
          196,
          72,
          34,
          217,
          44,
          130,
          82,
          8,
          26,
          52,
          287,
          23,
          102,
          87,
          54,
          161,
          52,
          19,
          27,
          38,
          40,
          18,
          10,
          32,
          36,
          66,
          29,
          17,
          32,
          207,
          45,
          57,
          28,
          33,
          20,
          14,
          321,
          132,
          80,
          72,
          124,
          14,
          80,
          15,
          38,
          61,
          512,
          22,
          46,
          481,
          41,
          12,
          17,
          33,
          182,
          42,
          107,
          33,
          12,
          14,
          59,
          8,
          28,
          19,
          11,
          16,
          53,
          26,
          76,
          8,
          49,
          337,
          21,
          216,
          12,
          69,
          45,
          60,
          7,
          4,
          180,
          113,
          36,
          14,
          129,
          13,
          6,
          37,
          134,
          19,
          343,
          22,
          26,
          32,
          25,
          31,
          16,
          19,
          77,
          43,
          10,
          26,
          352,
          17,
          8,
          197,
          181,
          54,
          12,
          105,
          11,
          108,
          38,
          18,
          35,
          131,
          31,
          14,
          29,
          70,
          29,
          109,
          77,
          71,
          61,
          140,
          39,
          30,
          21,
          8,
          17,
          22,
          29,
          41,
          136,
          94,
          38,
          50,
          113,
          18,
          109,
          73,
          181,
          25,
          179,
          35,
          21,
          55,
          9,
          11,
          95,
          10,
          18,
          512,
          133,
          156,
          17,
          98,
          32,
          33,
          61,
          199,
          235,
          56,
          10,
          30,
          82,
          14,
          11,
          155,
          7,
          11,
          31,
          37,
          8,
          14,
          20,
          37,
          104,
          22,
          29,
          28,
          23,
          62,
          64,
          150,
          25,
          25,
          84,
          41,
          65,
          11,
          119,
          36,
          512,
          4,
          100,
          17,
          26,
          157,
          145,
          130,
          10,
          67,
          55,
          127,
          87,
          30,
          7,
          30,
          29,
          28,
          24,
          46,
          29,
          37,
          69,
          29,
          20,
          15,
          137,
          24,
          31,
          9,
          512,
          64,
          8,
          47,
          37,
          345,
          11,
          95,
          512,
          16,
          221,
          118,
          142,
          8,
          44,
          15,
          55,
          84,
          42,
          31,
          158,
          56,
          81,
          18,
          46,
          89,
          18,
          25,
          15,
          14,
          34,
          61,
          235,
          18,
          111,
          50,
          154,
          13,
          186,
          158,
          26,
          22,
          53,
          47,
          102,
          11,
          318,
          15,
          38,
          37,
          72,
          27,
          48,
          33,
          12,
          78,
          9,
          79,
          15,
          6,
          24,
          6,
          115,
          27,
          19,
          174,
          32,
          92,
          118,
          19,
          149,
          89,
          222,
          378,
          106,
          17,
          190,
          23,
          11,
          5,
          67,
          55,
          100,
          134,
          8,
          177,
          110,
          21,
          17,
          50,
          61,
          19,
          19,
          43,
          82,
          75,
          7,
          125,
          62,
          169,
          211,
          69,
          82,
          115,
          63,
          15,
          512,
          74,
          19,
          512,
          50,
          76,
          116,
          36,
          16,
          204,
          25,
          512,
          13,
          130,
          126,
          51,
          93,
          26,
          95,
          36,
          92,
          120,
          102,
          29,
          55,
          50,
          37,
          193,
          8,
          14,
          462,
          37,
          58,
          84,
          11,
          76,
          10,
          66,
          47,
          46,
          111,
          46,
          21,
          22,
          120,
          25,
          18,
          8,
          51,
          89,
          9,
          17,
          27,
          59,
          33,
          39,
          214,
          21,
          14,
          375,
          105,
          9,
          10,
          103,
          27,
          99,
          17,
          11,
          7,
          16,
          58,
          20,
          28,
          41,
          30,
          96,
          37,
          7,
          18,
          21,
          21,
          35,
          109,
          44,
          243,
          25,
          168,
          52,
          5,
          182,
          33,
          8,
          36,
          75,
          25,
          512,
          97,
          50,
          37,
          11,
          153,
          71,
          6,
          129,
          133,
          5,
          8,
          73,
          61,
          16,
          12,
          9,
          10,
          51,
          24,
          60,
          95,
          23,
          65,
          16,
          108,
          24,
          343,
          43,
          88,
          63,
          25,
          66,
          19,
          152,
          84,
          45,
          33,
          181,
          37,
          56,
          20,
          40,
          7,
          194,
          33,
          40,
          49,
          87,
          65,
          9,
          17,
          147,
          57,
          19,
          132,
          72,
          10,
          283,
          154,
          102,
          121,
          57,
          129,
          6,
          10,
          62,
          5,
          24,
          22,
          38,
          34,
          117,
          87,
          20,
          180,
          49,
          71,
          10,
          178,
          51,
          80,
          80,
          99,
          512,
          21,
          33,
          10,
          10,
          139,
          25,
          10,
          73,
          512,
          24,
          309,
          71,
          20,
          123,
          7,
          38,
          12,
          12,
          20,
          6,
          10,
          113,
          189,
          35,
          123,
          25,
          187,
          18,
          112,
          53,
          24,
          27,
          97,
          122,
          53,
          64,
          25,
          87,
          17,
          114,
          79,
          27,
          21,
          169,
          17,
          78,
          24,
          48,
          113,
          61,
          87,
          7,
          247,
          51,
          24,
          141,
          13,
          16,
          9,
          512,
          84,
          22,
          60,
          233,
          219,
          39,
          95,
          45,
          202,
          59,
          416,
          207,
          24,
          38,
          6,
          31,
          24,
          179,
          22,
          29,
          38,
          61,
          12,
          34,
          21,
          113,
          17,
          44,
          38,
          72,
          110,
          28,
          24,
          7,
          90,
          10,
          130,
          41,
          174,
          11,
          511,
          512,
          199,
          52,
          111,
          117,
          47,
          24,
          96,
          21,
          62,
          40,
          56,
          97,
          35,
          10,
          7,
          30,
          4,
          159,
          278,
          18,
          11,
          220,
          20,
          71,
          14,
          143,
          153,
          21,
          33,
          10,
          59,
          32,
          91,
          66,
          24,
          300,
          173,
          35,
          39,
          84,
          512,
          19,
          19,
          64,
          54,
          23,
          24,
          78,
          32,
          92,
          75,
          15,
          20,
          9,
          9,
          135,
          101,
          376,
          102,
          37,
          44,
          7,
          29,
          86,
          20,
          36,
          49,
          16,
          26,
          38,
          42,
          119,
          39,
          221,
          9,
          100,
          17,
          35,
          38,
          189,
          52,
          43,
          64,
          70,
          14,
          71,
          63,
          29,
          63,
          159,
          82,
          19,
          47,
          163,
          124,
          15,
          20,
          151,
          39,
          15,
          35,
          16,
          220,
          43,
          13,
          7,
          56,
          48,
          27,
          14,
          89,
          34,
          6,
          15,
          78,
          369,
          54,
          12,
          13,
          26,
          20,
          494,
          43,
          14,
          72,
          70,
          40,
          43,
          24,
          29,
          182,
          66,
          37,
          32,
          18,
          74,
          259,
          154,
          51,
          8,
          22,
          107,
          31,
          26,
          103,
          181,
          40,
          46,
          10,
          141,
          28,
          18,
          49,
          512,
          9,
          86,
          71,
          48,
          39,
          12,
          81,
          27,
          101,
          23,
          23,
          29,
          35,
          59,
          15,
          29,
          81,
          9,
          74,
          171,
          75,
          186,
          26,
          15,
          63,
          12,
          93,
          24,
          23,
          15,
          58,
          10,
          259,
          123,
          27,
          53,
          16,
          73,
          102,
          167,
          14,
          28,
          75,
          22,
          109,
          10,
          13,
          14,
          13,
          12,
          37,
          59,
          48,
          60,
          7,
          280,
          340,
          78,
          22,
          72,
          7,
          31,
          97,
          64,
          24,
          50,
          13,
          69,
          59,
          33,
          7,
          16,
          9,
          12,
          27,
          109,
          95,
          8,
          197,
          33,
          25,
          52,
          89,
          131,
          104,
          32,
          126,
          40,
          11,
          57,
          102,
          50,
          102,
          36,
          20,
          243,
          30,
          19,
          102,
          29,
          12,
          10,
          141,
          109,
          46,
          160,
          81,
          31,
          27,
          63,
          58,
          184,
          226,
          103,
          24,
          512,
          142,
          88,
          36,
          19,
          41,
          14,
          42,
          14,
          12,
          98,
          57,
          77,
          73,
          146,
          173,
          13,
          100,
          16,
          18,
          35,
          41,
          21,
          125,
          82,
          28,
          29,
          66,
          41,
          131,
          10,
          77,
          34,
          267,
          51,
          512,
          117,
          7,
          54,
          177,
          25,
          114,
          77,
          54,
          68,
          116,
          85,
          31,
          161,
          162,
          146,
          21,
          27,
          24,
          66,
          19,
          46,
          11,
          13,
          55,
          97,
          53,
          154,
          48,
          64,
          95,
          16,
          512,
          46,
          59,
          24,
          54,
          14,
          33,
          14,
          22,
          22,
          184,
          46,
          383,
          36,
          37,
          37,
          23,
          22,
          74,
          46,
          59,
          47,
          97,
          72,
          64,
          92,
          58,
          27,
          7,
          15,
          7,
          247,
          42,
          47,
          38,
          9,
          44,
          25,
          10,
          68,
          241,
          17,
          34,
          46,
          30,
          116,
          60,
          25,
          22,
          128,
          28,
          134,
          148,
          101,
          38,
          52,
          47,
          18,
          291,
          89,
          56,
          40,
          39,
          10,
          47,
          32,
          90,
          92,
          97,
          19,
          247,
          18,
          7,
          26,
          71,
          12,
          267,
          45,
          107,
          205,
          38,
          69,
          83,
          29,
          98,
          90,
          94,
          83,
          126,
          10,
          110,
          21,
          60,
          26,
          86,
          25,
          28,
          11,
          157,
          25,
          124,
          52,
          373,
          91,
          35,
          161,
          25,
          156,
          148,
          58,
          121,
          144,
          18,
          7,
          18,
          147,
          54,
          69,
          17,
          11,
          48,
          127,
          34,
          7,
          42,
          35,
          5,
          29,
          81,
          13,
          22,
          46,
          9,
          48,
          406,
          209,
          30,
          29,
          72,
          241,
          31,
          32,
          512,
          62,
          57,
          22,
          137,
          17,
          164,
          330,
          23,
          372,
          31,
          59,
          62,
          21,
          111,
          60,
          116,
          46,
          10,
          98,
          26,
          72,
          19,
          13,
          62,
          122,
          78,
          40,
          37,
          107,
          37,
          12,
          102,
          16,
          27,
          139,
          82,
          106,
          15,
          107,
          106,
          138,
          103,
          62,
          59,
          250,
          81,
          172,
          31,
          39,
          25,
          287,
          185,
          91,
          35,
          40,
          52,
          28,
          26,
          92,
          16,
          24,
          10,
          14,
          8,
          9,
          38,
          51,
          512,
          240,
          126,
          9,
          273,
          116,
          51,
          22,
          258,
          36,
          36,
          18,
          101,
          191,
          82,
          17,
          93,
          17,
          6,
          51,
          21,
          54,
          17,
          7,
          48,
          88,
          18,
          220,
          23,
          50,
          9,
          123,
          35,
          8,
          70,
          103,
          17,
          74,
          28,
          198,
          26,
          54,
          56,
          176,
          70,
          30,
          23,
          89,
          10,
          27,
          113,
          22,
          57,
          19,
          29,
          22,
          24,
          28,
          38,
          10,
          68,
          288,
          92,
          24,
          13,
          24,
          82,
          73,
          181,
          155,
          23,
          54,
          11,
          84,
          24,
          29,
          6,
          20,
          30,
          98,
          23,
          12,
          269,
          7,
          133,
          55,
          27,
          34,
          54,
          53,
          14,
          278,
          24,
          512,
          274,
          38,
          91,
          136,
          151,
          27,
          75,
          38,
          46,
          84,
          58,
          79,
          39,
          86,
          20,
          62,
          46,
          51,
          20,
          39,
          39,
          67,
          82,
          14,
          53,
          51,
          93,
          54,
          51,
          27,
          29,
          10,
          37,
          22,
          11,
          31,
          53,
          349,
          162,
          436,
          36,
          18,
          55,
          31,
          113,
          220,
          108,
          13,
          11,
          25,
          9,
          42,
          60,
          101,
          213,
          15,
          12,
          100,
          54,
          20,
          51,
          512,
          16,
          400,
          81,
          9,
          5,
          46,
          67,
          85,
          7,
          40,
          47,
          8,
          134,
          24,
          46,
          19,
          36,
          240,
          26,
          86,
          30,
          31,
          13,
          4,
          26,
          34,
          68,
          19,
          318,
          84,
          16,
          12,
          15,
          36,
          317,
          12,
          9,
          33,
          12,
          28,
          30,
          29,
          14,
          512,
          73,
          35,
          27,
          48,
          7,
          60,
          66,
          49,
          36,
          83,
          87,
          86,
          41,
          82,
          35,
          11,
          38,
          8,
          512,
          323,
          67,
          39,
          142,
          50,
          40,
          86,
          172,
          10,
          20,
          62,
          22,
          62,
          114,
          155,
          167,
          13,
          8,
          9,
          130,
          23,
          31,
          61,
          60,
          24,
          65,
          30,
          20,
          105,
          109,
          4,
          33,
          99,
          8,
          20,
          82,
          37,
          358,
          47,
          30,
          82,
          117,
          28,
          23,
          147,
          219,
          69,
          148,
          60,
          68,
          87,
          76,
          33,
          177,
          26,
          162,
          14,
          54,
          34,
          67,
          26,
          31,
          61,
          7,
          16,
          96,
          76,
          41,
          41,
          16,
          182,
          138,
          512,
          27,
          159,
          14,
          23,
          48,
          76,
          19,
          61,
          7,
          35,
          34,
          33,
          458,
          64,
          27,
          72,
          512,
          13,
          14,
          13,
          10,
          69,
          55,
          135,
          107,
          25,
          167,
          29,
          99,
          37,
          45,
          38,
          160,
          25,
          158,
          13,
          9,
          69,
          26,
          69,
          49,
          18,
          61,
          35,
          179,
          10,
          19,
          50,
          25,
          87,
          10,
          20,
          50,
          20,
          193,
          230,
          91,
          29,
          85,
          19,
          54,
          15,
          15,
          29,
          42,
          141,
          244,
          30,
          44,
          24,
          24,
          28,
          116,
          92,
          107,
          250,
          96,
          34,
          104,
          28,
          100,
          7,
          32,
          290,
          57,
          8,
          10,
          15,
          155,
          10,
          26,
          18,
          19,
          12,
          18,
          34,
          40,
          17,
          84,
          17,
          280,
          51,
          34,
          35,
          27,
          71,
          19,
          102,
          71,
          7,
          127,
          512,
          22,
          27,
          344,
          35,
          28,
          140,
          24,
          50,
          46,
          171,
          47,
          32,
          49,
          105,
          63,
          17,
          459,
          65,
          40,
          97,
          49,
          12,
          123,
          82,
          9,
          80,
          12,
          6,
          16,
          5,
          106,
          22,
          25,
          114,
          110,
          101,
          88,
          89,
          55,
          28,
          11,
          21,
          512,
          362,
          215,
          46,
          349,
          32,
          20,
          30,
          8,
          34,
          512,
          20,
          38,
          25,
          142,
          20,
          9,
          512,
          30,
          74,
          120,
          17,
          13,
          29,
          285,
          55,
          59,
          39,
          250,
          24,
          37,
          9,
          72,
          37,
          142,
          8,
          512,
          26,
          21,
          28,
          15,
          41,
          19,
          68,
          17,
          56,
          58,
          19,
          21,
          91,
          60,
          19,
          71,
          5,
          25,
          106,
          98,
          150,
          22,
          98,
          38,
          75,
          47,
          86,
          8,
          71,
          91,
          164,
          7,
          28,
          53,
          99,
          100,
          69,
          109,
          20,
          8,
          15,
          30,
          27,
          62,
          113,
          57,
          17,
          206,
          80,
          8,
          14,
          233,
          297,
          38,
          152,
          17,
          33,
          50,
          58,
          38,
          131,
          31,
          28,
          195,
          79,
          23,
          37,
          109,
          47,
          43,
          64,
          12,
          190,
          35,
          24,
          57,
          70,
          103,
          34,
          87,
          26,
          11,
          22,
          151,
          21,
          55,
          26,
          372,
          38,
          71,
          30,
          78,
          145,
          63,
          17,
          96,
          49,
          30,
          22,
          31,
          35,
          31,
          8,
          39,
          24,
          149,
          16,
          86,
          8,
          63,
          22,
          47,
          54,
          74,
          512,
          31,
          6,
          6,
          138,
          25,
          16,
          56,
          161,
          144,
          44,
          92,
          30,
          58,
          39,
          62,
          31,
          132,
          49,
          119,
          63,
          33,
          83,
          79,
          105,
          26,
          18,
          59,
          200,
          14,
          150,
          28,
          72,
          14,
          15,
          49,
          30,
          9,
          44,
          32,
          238,
          51,
          11,
          512,
          78,
          70,
          76,
          34,
          34,
          225,
          30,
          104,
          20,
          21,
          47,
          93,
          57,
          161,
          52,
          17,
          30,
          14,
          207,
          21,
          143,
          60,
          24,
          29,
          85,
          26,
          78,
          59,
          46,
          9,
          10,
          7,
          26,
          11,
          11,
          166,
          242,
          81,
          34,
          31,
          115,
          8,
          29,
          17,
          19,
          20,
          183,
          130,
          62,
          132,
          12,
          85,
          83,
          7,
          71,
          149,
          25,
          26,
          11,
          91,
          12,
          23,
          31,
          10,
          23,
          129,
          30,
          9,
          27,
          6,
          61,
          27,
          82,
          25,
          29,
          96,
          53,
          69,
          152,
          87,
          206,
          44,
          53,
          46,
          21,
          11,
          249,
          44,
          9,
          108,
          82,
          334,
          9,
          29,
          14,
          69,
          9,
          124,
          50,
          17,
          22,
          37,
          22,
          54,
          9,
          9,
          13,
          31,
          12,
          30,
          115,
          45,
          153,
          26,
          84,
          42,
          47,
          53,
          5,
          77,
          36,
          10,
          188,
          42,
          23,
          87,
          206,
          105,
          134,
          143,
          30,
          66,
          10,
          6,
          8,
          332,
          74,
          39,
          103,
          17,
          59,
          20,
          17,
          72,
          59,
          28,
          24,
          26,
          37,
          133,
          37,
          66,
          36,
          24,
          70,
          9,
          122,
          15,
          18,
          259,
          109,
          105,
          32,
          9,
          22,
          512,
          26,
          61,
          46,
          166,
          118,
          31,
          117,
          79,
          106,
          50,
          60,
          10,
          75,
          254,
          122,
          34,
          54,
          23,
          27,
          65,
          62,
          23,
          42,
          10,
          27,
          21,
          26,
          48,
          38,
          316,
          62,
          23,
          22,
          98,
          56,
          79,
          26,
          31,
          169,
          72,
          52,
          412,
          24,
          322,
          26,
          39,
          55,
          8,
          66,
          19,
          98,
          125,
          17,
          31,
          47,
          5,
          114,
          23,
          85,
          512,
          52,
          127,
          43,
          134,
          126,
          68,
          66,
          23,
          47,
          111,
          52,
          92,
          101,
          83,
          232,
          512,
          151,
          41,
          91,
          20,
          327,
          37,
          15,
          77,
          37,
          58,
          27,
          43,
          126,
          12,
          38,
          99,
          35,
          55,
          45,
          28,
          22,
          53,
          512,
          37,
          132,
          29,
          44,
          51,
          57,
          8,
          36,
          99,
          143,
          12,
          27,
          52,
          8,
          24,
          61,
          14,
          56,
          84,
          56,
          230,
          109,
          38,
          21,
          23,
          42,
          20,
          18,
          108,
          12,
          124,
          11,
          45,
          129,
          20,
          11,
          304,
          396,
          13,
          112,
          29,
          14,
          40,
          179,
          43,
          164,
          39,
          29,
          11,
          35,
          198,
          21,
          20,
          65,
          6,
          56,
          66,
          90,
          101,
          77,
          31,
          152,
          30,
          18,
          44,
          10,
          44,
          6,
          41,
          15,
          68,
          80,
          56,
          38,
          17,
          17,
          8,
          43,
          42,
          13,
          70,
          20,
          170,
          77,
          31,
          130,
          19,
          54,
          82,
          109,
          47,
          56,
          337,
          21,
          14,
          59,
          13,
          141,
          27,
          25,
          53,
          26,
          11,
          12,
          31,
          31,
          19,
          133,
          265,
          72,
          52,
          52,
          7,
          343,
          60,
          89,
          115,
          27,
          58,
          28,
          82,
          63,
          108,
          36,
          9,
          496,
          20,
          15,
          57,
          21,
          7,
          7,
          41,
          194,
          31,
          93,
          96,
          289,
          10,
          58,
          15,
          10,
          18,
          213,
          148,
          23,
          431,
          63,
          7,
          101,
          29,
          33,
          90,
          53,
          35,
          10,
          17,
          130,
          17,
          37,
          78,
          10,
          116,
          17,
          24,
          43,
          94,
          74,
          8,
          71,
          35,
          51,
          46,
          10,
          65,
          39,
          10,
          56,
          7,
          10,
          27,
          375,
          486,
          27,
          46,
          43,
          139,
          182,
          6,
          16,
          9,
          55,
          166,
          19,
          89,
          51,
          16,
          246,
          26,
          99,
          76,
          21,
          512,
          45,
          47,
          38,
          7,
          27,
          38,
          24,
          71,
          20,
          94,
          81,
          55,
          53,
          17,
          55,
          46,
          512,
          59,
          5,
          58,
          107,
          38,
          46,
          512,
          21,
          214,
          36,
          73,
          86,
          46,
          17,
          38,
          163,
          73,
          51,
          55,
          114,
          78,
          151,
          63,
          65,
          126,
          13,
          36,
          15,
          80,
          110,
          18,
          48,
          15,
          58,
          128,
          10,
          8,
          9,
          44,
          22,
          23,
          36,
          24,
          11,
          26,
          231,
          144,
          40,
          76,
          8,
          100,
          17,
          38,
          32,
          21,
          12,
          40,
          84,
          26,
          25,
          173,
          21,
          72,
          37,
          158,
          262,
          138,
          38,
          14,
          359,
          95,
          117,
          87,
          34,
          56,
          17,
          40,
          14,
          17,
          477,
          17,
          98,
          6,
          40,
          50,
          32,
          68,
          96,
          56,
          364,
          243,
          53,
          11,
          37,
          60,
          98,
          171,
          14,
          70,
          71,
          353,
          60,
          20,
          182,
          140,
          131,
          11,
          41,
          22,
          58,
          14,
          313,
          61,
          7,
          56,
          33,
          48,
          279,
          201,
          28,
          197,
          38,
          17,
          186,
          65,
          45,
          158,
          6,
          69,
          45,
          18,
          35,
          48,
          45,
          95,
          7,
          160,
          19,
          61,
          151,
          56,
          82,
          81,
          24,
          10,
          91,
          65,
          143,
          64,
          79,
          79,
          14,
          179,
          26,
          7,
          134,
          46,
          28,
          20,
          19,
          11,
          11,
          27,
          161,
          95,
          512,
          37,
          77,
          88,
          43,
          162,
          45,
          19,
          96,
          42,
          12,
          53,
          24,
          57,
          13,
          84,
          33,
          64,
          16,
          26,
          29,
          123,
          58,
          96,
          17,
          512,
          94,
          73,
          71,
          140,
          14,
          88,
          80,
          29,
          11,
          18,
          18,
          53,
          109,
          16,
          21,
          24,
          58,
          47,
          33,
          200,
          5,
          84,
          36,
          347,
          35,
          8,
          12,
          37,
          26,
          107,
          12,
          324,
          46,
          120,
          24,
          36,
          32,
          44,
          74,
          13,
          81,
          75,
          20,
          28,
          21,
          90,
          11,
          31,
          31,
          31,
          68,
          35,
          34,
          16,
          18,
          23,
          57,
          63,
          55,
          28,
          95,
          33,
          15,
          97,
          416,
          508,
          22,
          20,
          280,
          85,
          30,
          42,
          32,
          315,
          81,
          130,
          60,
          177,
          45,
          8,
          17,
          25,
          30,
          23,
          17,
          131,
          21,
          55,
          196,
          137,
          258,
          15,
          139,
          52,
          64,
          86,
          77,
          27,
          55,
          33,
          201,
          40,
          56,
          26,
          35,
          59,
          73,
          131,
          101,
          25,
          16,
          138,
          6,
          85,
          91,
          380,
          35,
          75,
          20,
          13,
          173,
          32,
          24,
          107,
          31,
          107,
          46,
          69,
          58,
          8,
          67,
          87,
          5,
          85,
          59,
          37,
          153,
          35,
          6,
          8,
          27,
          21,
          213,
          26,
          62,
          167,
          9,
          121,
          54,
          92,
          78,
          16,
          113,
          11,
          26,
          76,
          35,
          74,
          38,
          36,
          85,
          43,
          63,
          91,
          28,
          512,
          20,
          43,
          53,
          92,
          25,
          9,
          11,
          270,
          120,
          18,
          61,
          7,
          25,
          17,
          151,
          18,
          110,
          27,
          108,
          371,
          65,
          41,
          34,
          225,
          110,
          17,
          27,
          14,
          203,
          28,
          113,
          219,
          86,
          47,
          99,
          270,
          30,
          42,
          85,
          208,
          92,
          18,
          40,
          38,
          13,
          36,
          44,
          21,
          30,
          98,
          8,
          83,
          242,
          76,
          133,
          52,
          108,
          18,
          21,
          44,
          25,
          40,
          30,
          36,
          11,
          78,
          12,
          126,
          16,
          23,
          30,
          210,
          205,
          57,
          139,
          22,
          36,
          8,
          39,
          151,
          55,
          49,
          46,
          23,
          280,
          24,
          13,
          103,
          8,
          44,
          11,
          14,
          13,
          108,
          19,
          157,
          65,
          95,
          10,
          44,
          50,
          20,
          110,
          288,
          73,
          10,
          44,
          5,
          160,
          34,
          15,
          31,
          29,
          4,
          31,
          20,
          15,
          16,
          7,
          47,
          61,
          71,
          55,
          255,
          356,
          39,
          13,
          17,
          23,
          53,
          20,
          36,
          14,
          37,
          7,
          15,
          29,
          26,
          63,
          19,
          22,
          252,
          23,
          158,
          13,
          13,
          10,
          17,
          100,
          14,
          132,
          70,
          28,
          21,
          151,
          67,
          19,
          14,
          77,
          168,
          33,
          9,
          49,
          133,
          14,
          44,
          32,
          180,
          26,
          341,
          26,
          34,
          14,
          204,
          195,
          11,
          9,
          35,
          88,
          58,
          25,
          473,
          72,
          24,
          18,
          119,
          26,
          42,
          22,
          23,
          153,
          25,
          32,
          32,
          51,
          80,
          15,
          26,
          86,
          22,
          29,
          44,
          14,
          10,
          227,
          26,
          21,
          164,
          9,
          118,
          93,
          25,
          31,
          100,
          30,
          35,
          36,
          32,
          5,
          15,
          35,
          13,
          33,
          34,
          226,
          80,
          100,
          54,
          90,
          312,
          87,
          54,
          77,
          153,
          53,
          33,
          17,
          54,
          26,
          9,
          22,
          26,
          23,
          14,
          8,
          57,
          95,
          67,
          182,
          33,
          36,
          86,
          387,
          33,
          14,
          61,
          141,
          7,
          135,
          83,
          12,
          35,
          25,
          31,
          46,
          43,
          40,
          23,
          70,
          251,
          200,
          15,
          32,
          23,
          18,
          7,
          8,
          28,
          8,
          8,
          35,
          89,
          7,
          10,
          28,
          57,
          121,
          11,
          15,
          19,
          42,
          61,
          20,
          33,
          13,
          35,
          16,
          512,
          15,
          99,
          121,
          36,
          21,
          29,
          61,
          9,
          18,
          41,
          16,
          9,
          76,
          42,
          44,
          25,
          41,
          19,
          21,
          14,
          42,
          53,
          245,
          17,
          24,
          26,
          19,
          21,
          12,
          12,
          22,
          126,
          279,
          12,
          134,
          7,
          61,
          94,
          88,
          29,
          70,
          196,
          21,
          84,
          63,
          27,
          87,
          21,
          33,
          51,
          12,
          512,
          31,
          28,
          21,
          34,
          24,
          25,
          32,
          7,
          52,
          137,
          146,
          147,
          8,
          57,
          83,
          49,
          46,
          298,
          69,
          75,
          29,
          19,
          78,
          25,
          65,
          52,
          40,
          104,
          27,
          88,
          131,
          12,
          31,
          238,
          154,
          41,
          19,
          321,
          25,
          40,
          512,
          17,
          65,
          78,
          39,
          75,
          175,
          234,
          17,
          117,
          222,
          60,
          59,
          17,
          8,
          9,
          72,
          46,
          36,
          10,
          19,
          36,
          116,
          54,
          64,
          40,
          8,
          9,
          28,
          28,
          146,
          91,
          71,
          49,
          28,
          17,
          76,
          48,
          43,
          61,
          24,
          27,
          121,
          15,
          32,
          23,
          303,
          15,
          87,
          41,
          50,
          9,
          187,
          178,
          32,
          211,
          33,
          53,
          7,
          32,
          135,
          67,
          116,
          70,
          45,
          134,
          512,
          8,
          11,
          34,
          55,
          10,
          35,
          76,
          21,
          24,
          16,
          165,
          83,
          8,
          512,
          133,
          112,
          8,
          55,
          403,
          125,
          61,
          19,
          16,
          16,
          44,
          38,
          22,
          14,
          88,
          12,
          15,
          42,
          122,
          22,
          19,
          42,
          29,
          19,
          20,
          38,
          86,
          96,
          155,
          32,
          48,
          29,
          97,
          19,
          14,
          23,
          48,
          9,
          66,
          89,
          49,
          127,
          177,
          141,
          58,
          28,
          68,
          20,
          39,
          444,
          16,
          102,
          21,
          63,
          49,
          64,
          157,
          512,
          20,
          9,
          58,
          131,
          110,
          66,
          188,
          16,
          30,
          24,
          29,
          43,
          145,
          99,
          31,
          61,
          20,
          10,
          9,
          180,
          72,
          297,
          41,
          24,
          43,
          244,
          70,
          46,
          12,
          104,
          209,
          24,
          8,
          10,
          31,
          26,
          44,
          10,
          18,
          7,
          86,
          27,
          16,
          61,
          58,
          10,
          426,
          106,
          94,
          167,
          50,
          47,
          89,
          18,
          8,
          39,
          21,
          31,
          9,
          42,
          131,
          19,
          53,
          61,
          30,
          62,
          28,
          145,
          58,
          21,
          27,
          122,
          116,
          56,
          31,
          48,
          32,
          34,
          19,
          24,
          26,
          29,
          20,
          103,
          137,
          25,
          166,
          17,
          220,
          79,
          177,
          50,
          66,
          14,
          88,
          40,
          130,
          29,
          23,
          206,
          121,
          434,
          23,
          9,
          23,
          382,
          24,
          57,
          69,
          20,
          22,
          93,
          7,
          46,
          37,
          16,
          148,
          51,
          31,
          120,
          20,
          95,
          112,
          89,
          116,
          91,
          23,
          450,
          124,
          9,
          22,
          16,
          95,
          120,
          59,
          12,
          182,
          4,
          75,
          199,
          16,
          10,
          34,
          68,
          27,
          61,
          512,
          48,
          265,
          52,
          13,
          62,
          84,
          78,
          59,
          71,
          8,
          30,
          65,
          61,
          179,
          63,
          34,
          18,
          25,
          97,
          13,
          57,
          173,
          52,
          10,
          9,
          35,
          24,
          29,
          69,
          25,
          37,
          27,
          17,
          22,
          24,
          248,
          97,
          131,
          81,
          49,
          134,
          19,
          132,
          43,
          72,
          60,
          110,
          24,
          179,
          13,
          88,
          95,
          83,
          303,
          73,
          136,
          252,
          11,
          22,
          60,
          15,
          99,
          15,
          52,
          48,
          268,
          91,
          40,
          89,
          44,
          76,
          26,
          8,
          126,
          89,
          12,
          119,
          7,
          452,
          37,
          105,
          57,
          120,
          15,
          10,
          219,
          29,
          512,
          96,
          26,
          26,
          29,
          32,
          17,
          128,
          25,
          20,
          8,
          72,
          18,
          39,
          56,
          19,
          75,
          35,
          294,
          90,
          46,
          47,
          68,
          218,
          31,
          18,
          26,
          77,
          23,
          131,
          12,
          55,
          41,
          512,
          6,
          11,
          65,
          83,
          12,
          58,
          135,
          29,
          36,
          19,
          44,
          101,
          14,
          26,
          28,
          62,
          346,
          66,
          48,
          23,
          115,
          141,
          35,
          20,
          186,
          512,
          34,
          22,
          168,
          8,
          36,
          61,
          38,
          40,
          105,
          15,
          100,
          180,
          32,
          157,
          37,
          76,
          53,
          130,
          66,
          77,
          46,
          96,
          24,
          23,
          54,
          88,
          305,
          123,
          145,
          7,
          36,
          32,
          27,
          45,
          14,
          25,
          16,
          25,
          74,
          36,
          114,
          61,
          151,
          28,
          20,
          24,
          31,
          41,
          15,
          35,
          81,
          55,
          23,
          89,
          88,
          46,
          46,
          6,
          36,
          60,
          14,
          23,
          74,
          17,
          26,
          111,
          30,
          43,
          35,
          96,
          61,
          425,
          10,
          282,
          13,
          117,
          77,
          8,
          60,
          21,
          116,
          10,
          10,
          58,
          82,
          10,
          21,
          26,
          118,
          52,
          131,
          19,
          26,
          117,
          12,
          14,
          17,
          105,
          68,
          13,
          13,
          59,
          56,
          229,
          52,
          512,
          72,
          47,
          13,
          34,
          8,
          20,
          57,
          58,
          20,
          53,
          110,
          31,
          21,
          69,
          46,
          24,
          64,
          28,
          201,
          24,
          114,
          243,
          35,
          14,
          24,
          17,
          512,
          42,
          28,
          40,
          24,
          228,
          44,
          13,
          32,
          111,
          25,
          60,
          79,
          25,
          30,
          31,
          39,
          137,
          18,
          77,
          34,
          271,
          54,
          184,
          55,
          30,
          66,
          66,
          321,
          8,
          13,
          100,
          129,
          19,
          28,
          6,
          39,
          211,
          19,
          7,
          22,
          74,
          46,
          30,
          88,
          85,
          44,
          33,
          15,
          25,
          35,
          464,
          173,
          31,
          74,
          13,
          17,
          35,
          97,
          61,
          56,
          489,
          46,
          38,
          48,
          4,
          10,
          117,
          236,
          118,
          115,
          36,
          24,
          19,
          40,
          96,
          44,
          25,
          48,
          8,
          22,
          62,
          91,
          11,
          58,
          56,
          19,
          33,
          15,
          66,
          11,
          8,
          81,
          31,
          63,
          47,
          61,
          15,
          16,
          28,
          22,
          82,
          17,
          48,
          54,
          85,
          142,
          31,
          73,
          140,
          49,
          512,
          47,
          120,
          10,
          39,
          106,
          12,
          7,
          13,
          33,
          128,
          30,
          38,
          173,
          54,
          10,
          39,
          39,
          16,
          29,
          102,
          10,
          11,
          239,
          53,
          11,
          24,
          74,
          98,
          38,
          138,
          18,
          14,
          116,
          39,
          41,
          10,
          33,
          51,
          16,
          327,
          6,
          42,
          43,
          118,
          7,
          11,
          18,
          18,
          78,
          7,
          23,
          4,
          69,
          35,
          314,
          150,
          49,
          39,
          133,
          50,
          84,
          70,
          11,
          21,
          20,
          127,
          87,
          65,
          44,
          42,
          21,
          62,
          112,
          22,
          36,
          10,
          13,
          29,
          61,
          61,
          44,
          14,
          104,
          52,
          9,
          40,
          55,
          90,
          111,
          70,
          7,
          12,
          14,
          39,
          26,
          148,
          81,
          90,
          25,
          26,
          36,
          50,
          55,
          19,
          202,
          323,
          14,
          41,
          56,
          30,
          26,
          214,
          84,
          184,
          6,
          149,
          24,
          15,
          45,
          27,
          512,
          42,
          13,
          244,
          19,
          461,
          104,
          257,
          16,
          47,
          318,
          68,
          205,
          89,
          96,
          190,
          13,
          38,
          33,
          25,
          16,
          209,
          38,
          70,
          474,
          85,
          84,
          28,
          78,
          70,
          62,
          379,
          34,
          12,
          41,
          29,
          66,
          54,
          19,
          26,
          161,
          10,
          29,
          144,
          7,
          13,
          60,
          8,
          7,
          63,
          36,
          35,
          12,
          64,
          21,
          131,
          8,
          263,
          263,
          8,
          4,
          190,
          118,
          54,
          32,
          7,
          20,
          113,
          59,
          52,
          83,
          107,
          9,
          372,
          9,
          85,
          10,
          512,
          87,
          20,
          38,
          69,
          19,
          10,
          30,
          25,
          13,
          37,
          9,
          277,
          34,
          11,
          33,
          19,
          154,
          25,
          39,
          58,
          8,
          54,
          512,
          17,
          137,
          111,
          512,
          137,
          126,
          37,
          61,
          30,
          49,
          121,
          512,
          88,
          229,
          3,
          18,
          166,
          76,
          10,
          16,
          54,
          17,
          172,
          87,
          40,
          54,
          46,
          109,
          79,
          57,
          185,
          67,
          32,
          52,
          24,
          39,
          8,
          176,
          7,
          115,
          23,
          53,
          4,
          69,
          13,
          76,
          43,
          13,
          395,
          21,
          44,
          91,
          294,
          112,
          87,
          9,
          71,
          138,
          45,
          47,
          51,
          231,
          19,
          9,
          71,
          17,
          45,
          23,
          37,
          219,
          106,
          30,
          45,
          15,
          6,
          72,
          143,
          128,
          35,
          21,
          6,
          93,
          70,
          39,
          28,
          8,
          57,
          34,
          10,
          11,
          66,
          6,
          82,
          82,
          32,
          23,
          12,
          11,
          10,
          16,
          121,
          13,
          32,
          288,
          108,
          26,
          115,
          41,
          15,
          77,
          431,
          7,
          23,
          13,
          41,
          25,
          143,
          36,
          19,
          157,
          56,
          11,
          52,
          102,
          12,
          24,
          37,
          22,
          198,
          173,
          16,
          75,
          12,
          6,
          34,
          9,
          26,
          42,
          120,
          13,
          33,
          128,
          23,
          27,
          17,
          5,
          16,
          512,
          106,
          11,
          69,
          28,
          39,
          9,
          157,
          246,
          101,
          51,
          18,
          96,
          173,
          10,
          31,
          12,
          16,
          20,
          41,
          18,
          15,
          63,
          38,
          18,
          68,
          57,
          22,
          55,
          63,
          199,
          14,
          5,
          334,
          10,
          190,
          11,
          48,
          43,
          68,
          17,
          9,
          437,
          32,
          125,
          39,
          17,
          63,
          110,
          161,
          233,
          75,
          48,
          95,
          7,
          93,
          22,
          69,
          37,
          25,
          26,
          80,
          116,
          230,
          38,
          19,
          54,
          138,
          14,
          24,
          41,
          107,
          53,
          8,
          10,
          25,
          18,
          75,
          470,
          65,
          37,
          75,
          240,
          41,
          76,
          144,
          39,
          62,
          10,
          113,
          52,
          15,
          21,
          46,
          71,
          58,
          7,
          10,
          24,
          84,
          10,
          25,
          40,
          7,
          199,
          30,
          93,
          512,
          8,
          19,
          42,
          11,
          33,
          11,
          87,
          40,
          65,
          80,
          32,
          34,
          14,
          193,
          20,
          272,
          14,
          19,
          23,
          31,
          42,
          76,
          162,
          134,
          91,
          38,
          66,
          10,
          8,
          45,
          35,
          8,
          18,
          142,
          248,
          9,
          36,
          31,
          108,
          61,
          19,
          79,
          32,
          70,
          274,
          8,
          33,
          74,
          116,
          112,
          115,
          7,
          7,
          60,
          25,
          42,
          32,
          124,
          16,
          84,
          337,
          57,
          303,
          43,
          371,
          21,
          10,
          18,
          18,
          55,
          25,
          192,
          44,
          70,
          15,
          25,
          26,
          25,
          43,
          36,
          27,
          128,
          99,
          57,
          85,
          13,
          63,
          32,
          503,
          124,
          11,
          134,
          192,
          163,
          141,
          67,
          42,
          125,
          89,
          58,
          28,
          188,
          55,
          76,
          23,
          32,
          74,
          42,
          56,
          18,
          23,
          37,
          30,
          33,
          29,
          13,
          113,
          14,
          35,
          71,
          37,
          366,
          65,
          50,
          161,
          75,
          262,
          79,
          7,
          59,
          158,
          9,
          252,
          111,
          16,
          46,
          26,
          62,
          67,
          31,
          20,
          14,
          159,
          85,
          29,
          14,
          61,
          178,
          152,
          65,
          22,
          27,
          410,
          51,
          97,
          55,
          41,
          260,
          21,
          28,
          75,
          102,
          33,
          93,
          39,
          46,
          41,
          67,
          274,
          82,
          10,
          19,
          283,
          40,
          86,
          14,
          27,
          23,
          10,
          25,
          20,
          9,
          512,
          12,
          279,
          5,
          33,
          53,
          139,
          19,
          96,
          131,
          25,
          10,
          34,
          88,
          12,
          68,
          324,
          57,
          13,
          109,
          27,
          56,
          61,
          63,
          23,
          47,
          8,
          35,
          106,
          169,
          115,
          21,
          226,
          30,
          20,
          10,
          6,
          66,
          75,
          20,
          9,
          11,
          40,
          81,
          37,
          21,
          23,
          86,
          17,
          36,
          387,
          65,
          512,
          203,
          18,
          54,
          59,
          74,
          15,
          12,
          257,
          21,
          17,
          71,
          76,
          118,
          150,
          5,
          47,
          74,
          17,
          13,
          31,
          12,
          17,
          59,
          259,
          96,
          19,
          111,
          29,
          62,
          78,
          22,
          45,
          100,
          512,
          91,
          120,
          101,
          49,
          81,
          84,
          5,
          75,
          143,
          159,
          18,
          34,
          49,
          110,
          354,
          30,
          80,
          7,
          59,
          49,
          36,
          28,
          53,
          24,
          20,
          24,
          120,
          192,
          33,
          71,
          53,
          63,
          290,
          367,
          126,
          19,
          7,
          31,
          50,
          28,
          114,
          160,
          76,
          60,
          21,
          154,
          35,
          48,
          23,
          113,
          347,
          76,
          71,
          115,
          12,
          15,
          29,
          29,
          26,
          10,
          134,
          112,
          74,
          8,
          5,
          15,
          182,
          79,
          19,
          9,
          71,
          192,
          75,
          6,
          81,
          248,
          66,
          107,
          70,
          15,
          51,
          12,
          173,
          10,
          103,
          28,
          13,
          44,
          10,
          77,
          222,
          53,
          23,
          35,
          35,
          25,
          7,
          20,
          421,
          31,
          102,
          17,
          50,
          172,
          26,
          104,
          8,
          53,
          341,
          8,
          20,
          63,
          11,
          9,
          36,
          139,
          9,
          48,
          38,
          51,
          61,
          74,
          11,
          101,
          98,
          21,
          512,
          47,
          12,
          15,
          512,
          57,
          39,
          23,
          58,
          17,
          13,
          83,
          194,
          135,
          54,
          38,
          19,
          137,
          55,
          9,
          27,
          10,
          91,
          20,
          6,
          29,
          65,
          26,
          36,
          191,
          40,
          64,
          8,
          61,
          24,
          33,
          35,
          9,
          45,
          26,
          33,
          130,
          127,
          11,
          43,
          110,
          17,
          157,
          10,
          7,
          110,
          32,
          14,
          111,
          26,
          21,
          7,
          10,
          386,
          25,
          10,
          74,
          160,
          48,
          19,
          70,
          34,
          293,
          44,
          19,
          6,
          13,
          37,
          24,
          53,
          9,
          17,
          337,
          207,
          151,
          10,
          34,
          64,
          13,
          101,
          20,
          512,
          10,
          244,
          70,
          25,
          63,
          9,
          33,
          42,
          131,
          35,
          82,
          48,
          14,
          50,
          52,
          43,
          31,
          11,
          15,
          11,
          43,
          22,
          42,
          18,
          32,
          512,
          37,
          20,
          138,
          20,
          126,
          52,
          21,
          21,
          194,
          12,
          56,
          46,
          86,
          67,
          41,
          74,
          153,
          51,
          18,
          17,
          55,
          76,
          19,
          37,
          75,
          26,
          50,
          91,
          20,
          20,
          33,
          70,
          512,
          16,
          44,
          44,
          39,
          40,
          33,
          110,
          63,
          7,
          88,
          8,
          12,
          27,
          63,
          8,
          76,
          22,
          69,
          111,
          20,
          72,
          20,
          41,
          138,
          32,
          32,
          23,
          8,
          22,
          96,
          41,
          120,
          49,
          27,
          52,
          11,
          20,
          12,
          13,
          6,
          17,
          14,
          46,
          10,
          155,
          11,
          211,
          65,
          78,
          89,
          26,
          34,
          37,
          62,
          6,
          28,
          51,
          26,
          81,
          33,
          78,
          170,
          126,
          33,
          23,
          14,
          234,
          49,
          177,
          59,
          12,
          111,
          24,
          20,
          42,
          164,
          125,
          35,
          13,
          10,
          73,
          32,
          42,
          9,
          60,
          174,
          67,
          53,
          73,
          30,
          426,
          31,
          137,
          6,
          41,
          25,
          25,
          310,
          29,
          9,
          14,
          101,
          48,
          106,
          484,
          509,
          9,
          65,
          142,
          28,
          30,
          11,
          10,
          83,
          41,
          76,
          38,
          123,
          49,
          68,
          19,
          40,
          59,
          21,
          28,
          367,
          99,
          9,
          19,
          47,
          94,
          6,
          66,
          9,
          73,
          102,
          55,
          76,
          114,
          82,
          49,
          17,
          54,
          53,
          47,
          95,
          80,
          39,
          45,
          11,
          20,
          28,
          6,
          73,
          36,
          13,
          75,
          78,
          124,
          36,
          57,
          12,
          48,
          12,
          17,
          512,
          75,
          49,
          39,
          38,
          26,
          12,
          105,
          12,
          85,
          59,
          68,
          15,
          53,
          224,
          54,
          25,
          53,
          512,
          8,
          85,
          79,
          28,
          58,
          30,
          49,
          29,
          17,
          17,
          36,
          74,
          206,
          19,
          30,
          57,
          385,
          37,
          9,
          31,
          299,
          13,
          79,
          51,
          207,
          6,
          288,
          39,
          52,
          19,
          5,
          35,
          8,
          133,
          20,
          94,
          41,
          59,
          72,
          35,
          37,
          17,
          238,
          16,
          29,
          107,
          49,
          22,
          119,
          24,
          105,
          39,
          12,
          27,
          46,
          12,
          278,
          173,
          74,
          18,
          31,
          13,
          23,
          7,
          53,
          30,
          21,
          25,
          317,
          20,
          54,
          49,
          81,
          196,
          30,
          36,
          87,
          102,
          28,
          90,
          28,
          59,
          11,
          62,
          81,
          5,
          17,
          21,
          61,
          35,
          41,
          24,
          28,
          11,
          54,
          118,
          512,
          67,
          57,
          48,
          52,
          118,
          13,
          11,
          126,
          18,
          139,
          27,
          11,
          49,
          17,
          104,
          129,
          36,
          140,
          70,
          26,
          98,
          47,
          22,
          24,
          7,
          104,
          7,
          13,
          215,
          69,
          91,
          15,
          7,
          49,
          35,
          44,
          58,
          92,
          40,
          50,
          58,
          21,
          71,
          14,
          5,
          35,
          264,
          58,
          58,
          44,
          63,
          190,
          8,
          46,
          152,
          80,
          218,
          60,
          88,
          20,
          138,
          42,
          63,
          77,
          12,
          363,
          47,
          10,
          69,
          55,
          23,
          13,
          44,
          63,
          24,
          40,
          31,
          127,
          30,
          34,
          24,
          26,
          12,
          13,
          182,
          43,
          61,
          77,
          90,
          47,
          56,
          320,
          11,
          41,
          9,
          111,
          12,
          11,
          43,
          134,
          157,
          6,
          6,
          20,
          35,
          8,
          20,
          12,
          84,
          30,
          77,
          81,
          325,
          33,
          10,
          8,
          141,
          20,
          59,
          33,
          11,
          27,
          13,
          28,
          40,
          49,
          40,
          14,
          23,
          512,
          65,
          37,
          52,
          53,
          36,
          27,
          11,
          21,
          22,
          13,
          15,
          33,
          21,
          23,
          33,
          13,
          87,
          13,
          13,
          14,
          512,
          35,
          30,
          23,
          5,
          32,
          73,
          77,
          8,
          24,
          265,
          9,
          13,
          20,
          256,
          15,
          24,
          36,
          15,
          134,
          152,
          42,
          168,
          21,
          138,
          22,
          11,
          24,
          34,
          127,
          45,
          34,
          20,
          45,
          70,
          53,
          69,
          8,
          110,
          7,
          41,
          8,
          21,
          12,
          194,
          65,
          303,
          52,
          8,
          37,
          134,
          15,
          358,
          29,
          16,
          101,
          69,
          29,
          11,
          8,
          52,
          7,
          14,
          29,
          24,
          23,
          29,
          21,
          20,
          512,
          82,
          35,
          46,
          92,
          29,
          36,
          47,
          32,
          21,
          26,
          23,
          31,
          30,
          512,
          65,
          29,
          16,
          12,
          8,
          101,
          82,
          13,
          76,
          52,
          119,
          512,
          115,
          31,
          40,
          48,
          310,
          217,
          67,
          39,
          18,
          107,
          7,
          74,
          88,
          53,
          44,
          101,
          67,
          36,
          69,
          95,
          14,
          144,
          105,
          156,
          173,
          37,
          74,
          20,
          45,
          62,
          286,
          65,
          30,
          20,
          432,
          71,
          54,
          94,
          91,
          72,
          244,
          49,
          194,
          177,
          28,
          197,
          10,
          95,
          16,
          29,
          52,
          48,
          36,
          140,
          32,
          119,
          32,
          8,
          10,
          100,
          12,
          32,
          83,
          5,
          16,
          11,
          169,
          49,
          72,
          15,
          39,
          40,
          58,
          69,
          91,
          52,
          512,
          202,
          120,
          21,
          41,
          72,
          87,
          6,
          54,
          188,
          116,
          64,
          39,
          19,
          38,
          39,
          512,
          7,
          207,
          7,
          122,
          11,
          49,
          44,
          68,
          37,
          76,
          56,
          16,
          20,
          23,
          29,
          97,
          6,
          151,
          14,
          27,
          8,
          10,
          54,
          15,
          75,
          97,
          85,
          9,
          16,
          13,
          52,
          61,
          25,
          28,
          28,
          42,
          35,
          83,
          7,
          24,
          187,
          63,
          121,
          33,
          13,
          35,
          8,
          339,
          85,
          38,
          15,
          74,
          10,
          22,
          11,
          10,
          186,
          94,
          8,
          13,
          17,
          154,
          40,
          7,
          480,
          21,
          57,
          25,
          110,
          40,
          20,
          26,
          208,
          31,
          79,
          69,
          39,
          91,
          131,
          56,
          16,
          87,
          45,
          24,
          31,
          17,
          24,
          16,
          6,
          4,
          189,
          15,
          19,
          20,
          22,
          10,
          28,
          73,
          20,
          32,
          4,
          142,
          26,
          67,
          57,
          309,
          85,
          402,
          34,
          57,
          54,
          35,
          88,
          7,
          36,
          91,
          31,
          23,
          134,
          42,
          114,
          11,
          129,
          101,
          28,
          65,
          216,
          19,
          208,
          37,
          105,
          12,
          26,
          8,
          270,
          23,
          37,
          7,
          34,
          11,
          171,
          49,
          235,
          89,
          26,
          28,
          28,
          452,
          101,
          116,
          21,
          203,
          152,
          83,
          76,
          48,
          35,
          12,
          99,
          58,
          204,
          19,
          72,
          15,
          115,
          139,
          31,
          35,
          271,
          20,
          16,
          232,
          10,
          38,
          16,
          110,
          10,
          118,
          88,
          6,
          81,
          17,
          107,
          38,
          99,
          13,
          16,
          90,
          36,
          50,
          126,
          89,
          67,
          23,
          8,
          17,
          78,
          288,
          12,
          25,
          18,
          25,
          109,
          207,
          16,
          8,
          28,
          112,
          147,
          69,
          10,
          10,
          389,
          91,
          108,
          85,
          27,
          202,
          48,
          43,
          6,
          165,
          18,
          22,
          25,
          13,
          27,
          47,
          106,
          23,
          94,
          33,
          139,
          18,
          20,
          284,
          75,
          51,
          117,
          63,
          48,
          29,
          31,
          47,
          32,
          71,
          8,
          25,
          10,
          9,
          35,
          15,
          40,
          11,
          20,
          81,
          114,
          8,
          16,
          213,
          14,
          246,
          16,
          34,
          87,
          71,
          17,
          29,
          62,
          63,
          52,
          8,
          151,
          22,
          11,
          46,
          20,
          10,
          316,
          6,
          65,
          67,
          10,
          55,
          68,
          98,
          25,
          43,
          16,
          104,
          210,
          7,
          17,
          9,
          18,
          26,
          33,
          57,
          37,
          16,
          149,
          17,
          45,
          512,
          51,
          46,
          16,
          85,
          7,
          17,
          76,
          102,
          59,
          34,
          32,
          16,
          69,
          20,
          36,
          147,
          48,
          13,
          168,
          17,
          56,
          44,
          22,
          47,
          32,
          112,
          22,
          32,
          48,
          58,
          30,
          37,
          33,
          11,
          51,
          24,
          512,
          24,
          36,
          30,
          55,
          78,
          51,
          61,
          13,
          8,
          41,
          25,
          60,
          39,
          11,
          11,
          75,
          35,
          8,
          62,
          19,
          416,
          116,
          32,
          84,
          27,
          73,
          31,
          64,
          14,
          435,
          34,
          141,
          174,
          54,
          9,
          38,
          46,
          52,
          23,
          76,
          77,
          12,
          20,
          37,
          10,
          38,
          48,
          11,
          11,
          80,
          63,
          38,
          40,
          93,
          17,
          327,
          65,
          57,
          29,
          105,
          17,
          24,
          20,
          90,
          34,
          78,
          14,
          46,
          79,
          88,
          41,
          170,
          84,
          70,
          21,
          27,
          26,
          9,
          53,
          38,
          8,
          23,
          37,
          42,
          9,
          242,
          46,
          47,
          129,
          66,
          12,
          71,
          20,
          75,
          76,
          132,
          135,
          10,
          21,
          18,
          61,
          37,
          16,
          6,
          67,
          66,
          25,
          26,
          43,
          33,
          463,
          78,
          74,
          147,
          56,
          101,
          242,
          21,
          35,
          8,
          30,
          80,
          10,
          17,
          75,
          222,
          52,
          91,
          232,
          38,
          104,
          64,
          68,
          147,
          38,
          32,
          11,
          11,
          116,
          18,
          181,
          397,
          33,
          42,
          57,
          59,
          10,
          65,
          42,
          19,
          33,
          76,
          34,
          10,
          80,
          282,
          121,
          8,
          134,
          34,
          15,
          40,
          16,
          135,
          22,
          60,
          10,
          80,
          52,
          19,
          512,
          69,
          59,
          23,
          21,
          30,
          6,
          22,
          34,
          33,
          47,
          46,
          17,
          74,
          367,
          448,
          17,
          23,
          21,
          11,
          31,
          12,
          33,
          53,
          33,
          100,
          162,
          13,
          101,
          51,
          430,
          46,
          96,
          143,
          14,
          76,
          14,
          32,
          70,
          109,
          23,
          208,
          15,
          37,
          53,
          31,
          16,
          44,
          34,
          47,
          3,
          23,
          36,
          73,
          10,
          70,
          53,
          23,
          6,
          13,
          32,
          22,
          130,
          133,
          188,
          149,
          22,
          63,
          11,
          12,
          164,
          100,
          49,
          24,
          16,
          12,
          46,
          38,
          68,
          141,
          19,
          272,
          22,
          32,
          330,
          27,
          26,
          27,
          62,
          78,
          94,
          74,
          100,
          42,
          87,
          54,
          11,
          127,
          25,
          36,
          11,
          168,
          6,
          21,
          12,
          35,
          12,
          53,
          67,
          12,
          86,
          8,
          27,
          18,
          73,
          512,
          36,
          52,
          31,
          243,
          57,
          39,
          43,
          40,
          128,
          47,
          45,
          512,
          11,
          251,
          381,
          164,
          106,
          43,
          71,
          23,
          20,
          71,
          17,
          17,
          43,
          88,
          32,
          106,
          97,
          20,
          19,
          4,
          51,
          167,
          41,
          150,
          512,
          512,
          62,
          100,
          55,
          145,
          64,
          52,
          19,
          53,
          11,
          23,
          36,
          10,
          89,
          95,
          37,
          58,
          25,
          304,
          88,
          283,
          114,
          22,
          71,
          93,
          200,
          28,
          71,
          11,
          453,
          16,
          277,
          212,
          27,
          42,
          7,
          222,
          174,
          10,
          153,
          26,
          6,
          69,
          173,
          80,
          13,
          67,
          35,
          62,
          19,
          45,
          147,
          180,
          14,
          271,
          83,
          25,
          15,
          117,
          33,
          16,
          11,
          10,
          21,
          44,
          73,
          5,
          18,
          71,
          50,
          11,
          44,
          512,
          39,
          8,
          78,
          62,
          195,
          92,
          66,
          71,
          66,
          47,
          16,
          176,
          26,
          27,
          67,
          16,
          258,
          77,
          5,
          82,
          54,
          229,
          24,
          65,
          70,
          42,
          39,
          59,
          14,
          72,
          12,
          512,
          75,
          26,
          38,
          23,
          15,
          124,
          14,
          81,
          512,
          41,
          8,
          11,
          31,
          28,
          47,
          161,
          6,
          27,
          17,
          75,
          164,
          20,
          129,
          52,
          5,
          19,
          38,
          115,
          16,
          34,
          187,
          58,
          50,
          10,
          24,
          97,
          13,
          36,
          32,
          60,
          94,
          13,
          45,
          42,
          70,
          32,
          16,
          45,
          101,
          27,
          27,
          9,
          111,
          25,
          36,
          33,
          4,
          53,
          23,
          63,
          233,
          70,
          58,
          14,
          179,
          15,
          84,
          22,
          20,
          97,
          10,
          12,
          261,
          10,
          252,
          11,
          46,
          8,
          12,
          9,
          39,
          173,
          203,
          28,
          69,
          9,
          222,
          50,
          124,
          243,
          49,
          8,
          107,
          31,
          41,
          345,
          121,
          406,
          50,
          47,
          20,
          67,
          6,
          13,
          50,
          13,
          15,
          12,
          14,
          57,
          64,
          10,
          113,
          42,
          41,
          30,
          34,
          93,
          138,
          34,
          68,
          25,
          11,
          63,
          4,
          55,
          111,
          41,
          40,
          126,
          16,
          68,
          73,
          100,
          23,
          16,
          44,
          44,
          226,
          417,
          28,
          209,
          121,
          10,
          55,
          87,
          22,
          22,
          24,
          188,
          188,
          25,
          173,
          52,
          75,
          229,
          64,
          26,
          79,
          32,
          110,
          5,
          22,
          168,
          123,
          56,
          66,
          10,
          73,
          52,
          31,
          10,
          49,
          134,
          70,
          86,
          48,
          15,
          512,
          15,
          75,
          31,
          27,
          31,
          16,
          87,
          18,
          212,
          42,
          34,
          9,
          42,
          512,
          240,
          25,
          38,
          92,
          90,
          55,
          66,
          147,
          9,
          84,
          26,
          18,
          293,
          17,
          188,
          30,
          512,
          456,
          37,
          105,
          47,
          243,
          48,
          141,
          17,
          11,
          39,
          20,
          20,
          14,
          30,
          36,
          7,
          23,
          29,
          77,
          103,
          47,
          18,
          79,
          134,
          258,
          20,
          119,
          16,
          27,
          43,
          66,
          81,
          22,
          54,
          118,
          14,
          81,
          17,
          80,
          45,
          16,
          29,
          16,
          19,
          104,
          50,
          13,
          31,
          7,
          87,
          37,
          22,
          130,
          14,
          272,
          11,
          27,
          11,
          62,
          64,
          119,
          140,
          39,
          20,
          82,
          33,
          49,
          15,
          61,
          48,
          65,
          17,
          30,
          15,
          10,
          12,
          29,
          36,
          15,
          29,
          10,
          9,
          22,
          14,
          63,
          22,
          60,
          7,
          17,
          29,
          21,
          91,
          20,
          83,
          12,
          76,
          14,
          25,
          79,
          281,
          46,
          14,
          16,
          49,
          36,
          52,
          198,
          72,
          15,
          42,
          13,
          51,
          27,
          154,
          29,
          24,
          7,
          23,
          223,
          93,
          24,
          358,
          47,
          49,
          36,
          82,
          10,
          45,
          191,
          16,
          14,
          36,
          33,
          7,
          109,
          88,
          31,
          27,
          23,
          75,
          43,
          213,
          51,
          38,
          23,
          62,
          42,
          58,
          21,
          117,
          28,
          39,
          95,
          38,
          28,
          24,
          11,
          29,
          29,
          74,
          18,
          62,
          11,
          7,
          29,
          111,
          60,
          127,
          9,
          15,
          280,
          41,
          121,
          91,
          12,
          26,
          92,
          253,
          14,
          59,
          57,
          66,
          22,
          20,
          37,
          355,
          62,
          15,
          24,
          43,
          39,
          58,
          8,
          160,
          11,
          11,
          28,
          68,
          15,
          46,
          11,
          108,
          20,
          32,
          67,
          47,
          21,
          149,
          119,
          58,
          12,
          165,
          26,
          31,
          34,
          70,
          9,
          18,
          183,
          14,
          48,
          14,
          37,
          90,
          62,
          19,
          32,
          49,
          71,
          78,
          199,
          15,
          13,
          6,
          329,
          5,
          52,
          68,
          76,
          66,
          17,
          154,
          23,
          108,
          94,
          54,
          5,
          17,
          46,
          8,
          38,
          24,
          63,
          145,
          197,
          82,
          58,
          63,
          14,
          27,
          46,
          23,
          151,
          40,
          48,
          53,
          38,
          9,
          47,
          86,
          185,
          512,
          16,
          98,
          129,
          32,
          68,
          137,
          28,
          52,
          10,
          118,
          31,
          78,
          43,
          56,
          81,
          175,
          174,
          66,
          52,
          29,
          67,
          33,
          16,
          38,
          65,
          338,
          11,
          12,
          101,
          105,
          168,
          77,
          27,
          39,
          36,
          512,
          21,
          35,
          17,
          12,
          32,
          21,
          125,
          14,
          247,
          25,
          60,
          14,
          33,
          23,
          16,
          10,
          28,
          13,
          8,
          304,
          21,
          177,
          71,
          222,
          32,
          14,
          368,
          22,
          9,
          4,
          29,
          60,
          15,
          6,
          28,
          153,
          16,
          52,
          22,
          7,
          35,
          12,
          294,
          10,
          9,
          25,
          146,
          78,
          28,
          35,
          81,
          152,
          33,
          27,
          151,
          35,
          172,
          70,
          22,
          31,
          106,
          30,
          31,
          312,
          135,
          143,
          179,
          512,
          48,
          55,
          65,
          9,
          193,
          40,
          178,
          25,
          65,
          23,
          92,
          20,
          14,
          77,
          78,
          132,
          26,
          512,
          26,
          170,
          68,
          18,
          48,
          30,
          156,
          26,
          3,
          24,
          15,
          142,
          115,
          25,
          54,
          97,
          60,
          44,
          261,
          73,
          154,
          18,
          56,
          20,
          98,
          18,
          512,
          13,
          305,
          332,
          42,
          37,
          56,
          30,
          44,
          9,
          23,
          309,
          93,
          40,
          66,
          12,
          29,
          49,
          21,
          12,
          42,
          39,
          52,
          50,
          166,
          209,
          40,
          17,
          125,
          253,
          9,
          169,
          59,
          63,
          19,
          92,
          36,
          4,
          23,
          59,
          17,
          20,
          23,
          34,
          99,
          105,
          27,
          41,
          138,
          17,
          17,
          77,
          10,
          3,
          33,
          109,
          106,
          45,
          34,
          32,
          245,
          198,
          15,
          84,
          46,
          53,
          290,
          45,
          84,
          42,
          63,
          28,
          13,
          9,
          20,
          6,
          184,
          37,
          23,
          53,
          17,
          143,
          14,
          142,
          62,
          23,
          35,
          105,
          60,
          32,
          127,
          57,
          68,
          37,
          42,
          30,
          12,
          32,
          47,
          75,
          9,
          41,
          49,
          37,
          106,
          42,
          13,
          44,
          100,
          98,
          25,
          42,
          161,
          17,
          91,
          24,
          5,
          37,
          19,
          82,
          16,
          73,
          64,
          60,
          12,
          15,
          83,
          261,
          34,
          25,
          50,
          25,
          42,
          120,
          53,
          217,
          7,
          31,
          512,
          105,
          24,
          10,
          100,
          44,
          107,
          11,
          4,
          87,
          22,
          89,
          336,
          42,
          8,
          90,
          63,
          124,
          34,
          118,
          248,
          62,
          17,
          17,
          68,
          118,
          29,
          47,
          40,
          111,
          34,
          43,
          7,
          9,
          44,
          76,
          8,
          84,
          412,
          152,
          216,
          63,
          52,
          54,
          389,
          67,
          22,
          43,
          35,
          88,
          106,
          16,
          56,
          15,
          49,
          11,
          63,
          25,
          121,
          97,
          9,
          12,
          9,
          72,
          140,
          6,
          13,
          69,
          43,
          6,
          82,
          292,
          46,
          32,
          9,
          15,
          29,
          25,
          62,
          25,
          9,
          82,
          168,
          101,
          35,
          15,
          151,
          31,
          65,
          43,
          37,
          10,
          31,
          79,
          36,
          8,
          111,
          403,
          22,
          30,
          176,
          27,
          110,
          22,
          26,
          270,
          57,
          89,
          143,
          114,
          10,
          8,
          124,
          180,
          74,
          86,
          46,
          42,
          24,
          35,
          58,
          30,
          37,
          18,
          6,
          92,
          24,
          25,
          14,
          46,
          38,
          67,
          33,
          17,
          28,
          43,
          181,
          7,
          20,
          153,
          19,
          102,
          439,
          26,
          10,
          43,
          18,
          16,
          89,
          35,
          9,
          18,
          52,
          54,
          6,
          11,
          210,
          38,
          148,
          33,
          69,
          25,
          94,
          212,
          17,
          19,
          48,
          27,
          72,
          9,
          131,
          39,
          45,
          108,
          15,
          47,
          143,
          6,
          19,
          6,
          86,
          14,
          8,
          6,
          8,
          45,
          10,
          29,
          57,
          29,
          89,
          19,
          96,
          11,
          9,
          58,
          82,
          91,
          74,
          64,
          26,
          37,
          7,
          18,
          39,
          53,
          46,
          33,
          159,
          47,
          41,
          21,
          60,
          21,
          42,
          170,
          20,
          34,
          16,
          25,
          147,
          126,
          9,
          20,
          13,
          512,
          14,
          37,
          23,
          100,
          21,
          124,
          36,
          104,
          14,
          27,
          16,
          83,
          138,
          13,
          73,
          49,
          21,
          72,
          16,
          111,
          399,
          11,
          8,
          62,
          62,
          52,
          117,
          37,
          60,
          8,
          170,
          10,
          8,
          114,
          166,
          43,
          9,
          90,
          9,
          52,
          9,
          17,
          5,
          185,
          45,
          7,
          9,
          111,
          9,
          27,
          19,
          31,
          10,
          58,
          387,
          31,
          6,
          15,
          11,
          108,
          151,
          304,
          45,
          69,
          269,
          35,
          52,
          121,
          457,
          12,
          79,
          32,
          24,
          26,
          92,
          13,
          5,
          9,
          42,
          23,
          48,
          9,
          28,
          77,
          79,
          11,
          34,
          141,
          19,
          31,
          58,
          110,
          11,
          59,
          46,
          121,
          11,
          41,
          51,
          225,
          61,
          38,
          512,
          138,
          37,
          41,
          93,
          22,
          44,
          27,
          103,
          49,
          8,
          139,
          152,
          51,
          59,
          27,
          321,
          58,
          63,
          29,
          67,
          71,
          43,
          225,
          34,
          39,
          33,
          55,
          71,
          82,
          22,
          8,
          19,
          18,
          31,
          32,
          17,
          19,
          27,
          56,
          13,
          30,
          130,
          41,
          22,
          25,
          76,
          78,
          46,
          32,
          45,
          185,
          20,
          355,
          488,
          12,
          65,
          32,
          89,
          100,
          158,
          37,
          41,
          106,
          32,
          9,
          55,
          61,
          78,
          35,
          23,
          111,
          31,
          35,
          9,
          10,
          9,
          30,
          26,
          12,
          50,
          46,
          56,
          35,
          53,
          53,
          137,
          94,
          21,
          15,
          116,
          130,
          34,
          47,
          8,
          107,
          38,
          37,
          77,
          53,
          50,
          26,
          13,
          115,
          25,
          14,
          24,
          17,
          67,
          44,
          40,
          123,
          8,
          52,
          83,
          26,
          60,
          57,
          36,
          29,
          26,
          33,
          36,
          74,
          198,
          18,
          12,
          133,
          198,
          152,
          21,
          18,
          31,
          34,
          50,
          71,
          248,
          52,
          22,
          10,
          93,
          190,
          19,
          98,
          13,
          58,
          32,
          340,
          11,
          36,
          46,
          487,
          24,
          17,
          56,
          31,
          17,
          155,
          12,
          14,
          77,
          8,
          39,
          42,
          33,
          5,
          20,
          322,
          7,
          56,
          40,
          44,
          52,
          44,
          45,
          45,
          210,
          25,
          19,
          21,
          67,
          57,
          41,
          102,
          27,
          27,
          99,
          12,
          34,
          42,
          11,
          26,
          48,
          204,
          512,
          63,
          70,
          85,
          187,
          31,
          136,
          121,
          346,
          5,
          95,
          26,
          56,
          24,
          93,
          16,
          70,
          18,
          25,
          15,
          200,
          22,
          202,
          74,
          56,
          439,
          35,
          48,
          60,
          134,
          36,
          30,
          36,
          27,
          17,
          13,
          12,
          58,
          28,
          36,
          25,
          15,
          6,
          47,
          18,
          37,
          105,
          63,
          6,
          11,
          40,
          39,
          37,
          214,
          138,
          213,
          35,
          253,
          512,
          126,
          17,
          31,
          19,
          80,
          323,
          13,
          72,
          29,
          105,
          61,
          95,
          84,
          16,
          19,
          36,
          312,
          110,
          152,
          113,
          512,
          100,
          31,
          32,
          129,
          56,
          80,
          466,
          38,
          209,
          65,
          61,
          27,
          6,
          26,
          349,
          73,
          23,
          22,
          16,
          10,
          56,
          46,
          87,
          40,
          447,
          22,
          133,
          7,
          22,
          58,
          52,
          36,
          90,
          43,
          69,
          52,
          21,
          62,
          51,
          20,
          80,
          37,
          49,
          7,
          64,
          24,
          137,
          158,
          108,
          512,
          288,
          20,
          77,
          106,
          21,
          26,
          91,
          58,
          105,
          55,
          43,
          20,
          355,
          198,
          134,
          230,
          77,
          30,
          34,
          58,
          46,
          11,
          48,
          52,
          119,
          23,
          19,
          11,
          9,
          31,
          6,
          31,
          71,
          131,
          77,
          16,
          12,
          60,
          66,
          122,
          74,
          29,
          19,
          106,
          52,
          27,
          34,
          128,
          45,
          8,
          31,
          227,
          13,
          55,
          29,
          10,
          90,
          10,
          43,
          66,
          267,
          63,
          13,
          79,
          24,
          445,
          7,
          47,
          291,
          31,
          29,
          99,
          35,
          13,
          13,
          10,
          68,
          10,
          87,
          42,
          13,
          53,
          50,
          512,
          35,
          44,
          42,
          47,
          8,
          512,
          21,
          19,
          22,
          202,
          15,
          50,
          44,
          23,
          151,
          208,
          146,
          512,
          50,
          26,
          5,
          65,
          134,
          55,
          135,
          37,
          27,
          10,
          32,
          11,
          18,
          46,
          89,
          55,
          325,
          114,
          24,
          26,
          22,
          26,
          63,
          76,
          56,
          45,
          499,
          55,
          14,
          285,
          11,
          32,
          17,
          34,
          12,
          9,
          181,
          190,
          113,
          16,
          23,
          28,
          13,
          37,
          65,
          11,
          17,
          22,
          131,
          49,
          6,
          109,
          189,
          79,
          35,
          32,
          298,
          101,
          128,
          135,
          216,
          88,
          34,
          11,
          50,
          61,
          14,
          46,
          63,
          512,
          212,
          75,
          96,
          110,
          64,
          27,
          11,
          44,
          53,
          62,
          47,
          15,
          106,
          33,
          28,
          12,
          24,
          8,
          110,
          85,
          38,
          161,
          363,
          63,
          512,
          8,
          22,
          30,
          19,
          148,
          30,
          52,
          7,
          20,
          81,
          8,
          35,
          207,
          49,
          15,
          42,
          74,
          194,
          201,
          8,
          12,
          187,
          10,
          42,
          69,
          8,
          19,
          47,
          8,
          69,
          28,
          88,
          29,
          124,
          83,
          35,
          512,
          13,
          121,
          75,
          16,
          46,
          51,
          15,
          70,
          12,
          113,
          179,
          38,
          23,
          314,
          55,
          14,
          19,
          8,
          28,
          15,
          12,
          7,
          27,
          46,
          8,
          62,
          160,
          21,
          60,
          14,
          190,
          73,
          108,
          58,
          36,
          171,
          31,
          13,
          12,
          74,
          27,
          512,
          112,
          13,
          10,
          171,
          42,
          50,
          42,
          40,
          70,
          16,
          17,
          512,
          110,
          40,
          239,
          46,
          53,
          69,
          22,
          27,
          16,
          16,
          14,
          55,
          136,
          4,
          11,
          83,
          65,
          19,
          228,
          59,
          26,
          92,
          17,
          23,
          26,
          27,
          38,
          18,
          14,
          21,
          10,
          40,
          15,
          24,
          253,
          80,
          41,
          20,
          41,
          512,
          9,
          12,
          24,
          96,
          56,
          59,
          80,
          478,
          48,
          58,
          38,
          21,
          64,
          45,
          44,
          10,
          105,
          13,
          7,
          240,
          161,
          37,
          84,
          10,
          36,
          61,
          187,
          16,
          14,
          55,
          133,
          143,
          92,
          135,
          45,
          364,
          512,
          16,
          242,
          44,
          69,
          10,
          90,
          11,
          12,
          22,
          19,
          131,
          512,
          46,
          10,
          29,
          300,
          32,
          14,
          7,
          39,
          102,
          8,
          26,
          14,
          70,
          5,
          24,
          30,
          42,
          31,
          75,
          92,
          56,
          456,
          10,
          19,
          113,
          52,
          30,
          21,
          43,
          46,
          40,
          512,
          91,
          46,
          51,
          130,
          22,
          175,
          271,
          49,
          9,
          30,
          10,
          35,
          23,
          71,
          36,
          72,
          347,
          27,
          35,
          299,
          95,
          324,
          16,
          49,
          7,
          24,
          12,
          9,
          85,
          75,
          48,
          14,
          28,
          299,
          15,
          12,
          49,
          38,
          173,
          52,
          25,
          5,
          36,
          8,
          17,
          19,
          24,
          20,
          96,
          29,
          57,
          81,
          25,
          345,
          15,
          27,
          40,
          43,
          37,
          22,
          92,
          128,
          40,
          16,
          82,
          56,
          154,
          81,
          42,
          31,
          67,
          17,
          54,
          39,
          18,
          42,
          46,
          12,
          8,
          24,
          42,
          55,
          20,
          11,
          300,
          512,
          425,
          99,
          36,
          44,
          13,
          52,
          35,
          15,
          97,
          94,
          111,
          23,
          18,
          9,
          39,
          29,
          202,
          62,
          25,
          27,
          206,
          31,
          34,
          17,
          37,
          47,
          26,
          22,
          59,
          10,
          50,
          76,
          32,
          31,
          41,
          51,
          28,
          33,
          512,
          56,
          57,
          192,
          66,
          15,
          59,
          20,
          79,
          86,
          146,
          136,
          79,
          40,
          6,
          512,
          43,
          41,
          17,
          47,
          57,
          14,
          198,
          65,
          9,
          36,
          274,
          108,
          30,
          15,
          63,
          14,
          23,
          60,
          512,
          18,
          8,
          78,
          29,
          53,
          72,
          26,
          27,
          29,
          30,
          413,
          43,
          72,
          8,
          512,
          25,
          10,
          8,
          12,
          10,
          51,
          30,
          38,
          10,
          25,
          245,
          109,
          54,
          27,
          60,
          51,
          14,
          12,
          216,
          25,
          32,
          33,
          55,
          117,
          60,
          17,
          24,
          13,
          39,
          46,
          17,
          64,
          512,
          31,
          27,
          108,
          7,
          223,
          16,
          38,
          7,
          15,
          62,
          20,
          12,
          14,
          68,
          77,
          25,
          157,
          100,
          12,
          59,
          5,
          162,
          512,
          265,
          17,
          15,
          26,
          225,
          101,
          51,
          36,
          29,
          55,
          10,
          58,
          61,
          55,
          50,
          19,
          39,
          199,
          6,
          74,
          86,
          95,
          60,
          58,
          21,
          7,
          30,
          30,
          87,
          18,
          88,
          512,
          198,
          224,
          8,
          16,
          23,
          45,
          62,
          27,
          35,
          66,
          73,
          156,
          17,
          30,
          33,
          36,
          15,
          41,
          43,
          44,
          84,
          58,
          14,
          226,
          22,
          94,
          68,
          32,
          29,
          239,
          71,
          65,
          213,
          38,
          213,
          39,
          14,
          17,
          28,
          333,
          76,
          28,
          40,
          66,
          68,
          6,
          62,
          32,
          26,
          31,
          101,
          123,
          17,
          13,
          512,
          63,
          62,
          65,
          39,
          42,
          28,
          43,
          87,
          67,
          163,
          8,
          18,
          50,
          155,
          4,
          30,
          35,
          35,
          100,
          53,
          130,
          15,
          191,
          36,
          14,
          7,
          66,
          20,
          48,
          52,
          17,
          13,
          42,
          44,
          63,
          67,
          104,
          14,
          114,
          8,
          31,
          56,
          42,
          49,
          60,
          35,
          16,
          11,
          55,
          11,
          40,
          146,
          22,
          21,
          14,
          60,
          108,
          78,
          59,
          139,
          125,
          58,
          9,
          13,
          46,
          18,
          25,
          150,
          61,
          9,
          11,
          99,
          218,
          13,
          512,
          209,
          39,
          11,
          88,
          10,
          18,
          23,
          7,
          28,
          7,
          7,
          512,
          54,
          37,
          57,
          8,
          69,
          54,
          36,
          11,
          24,
          55,
          31,
          35,
          317,
          30,
          54,
          33,
          312,
          83,
          89,
          179,
          110,
          68,
          32,
          39,
          39,
          12,
          512,
          109,
          14,
          67,
          14,
          69,
          35,
          34,
          21,
          15,
          51,
          51,
          512,
          31,
          62,
          26,
          63,
          281,
          45,
          78,
          18,
          44,
          18,
          37,
          28,
          512,
          299,
          50,
          7,
          97,
          76,
          79,
          21,
          104,
          5,
          7,
          29,
          25,
          136,
          113,
          51,
          10,
          61,
          137,
          132,
          8,
          37,
          10,
          33,
          149,
          37,
          55,
          27,
          93,
          7,
          17,
          119,
          21,
          10,
          28,
          58,
          40,
          145,
          381,
          24,
          512,
          112,
          213,
          72,
          8,
          12,
          8,
          12,
          29,
          36,
          35,
          7,
          96,
          34,
          145,
          74,
          18,
          7,
          31,
          27,
          70,
          38,
          21,
          50,
          36,
          23,
          44,
          42,
          24,
          24,
          48,
          364,
          10,
          38,
          35,
          27,
          55,
          15,
          190,
          23,
          125,
          12,
          71,
          14,
          195,
          47,
          69,
          20,
          51,
          203,
          21,
          55,
          90,
          79,
          110,
          90,
          16,
          37,
          21,
          20,
          17,
          12,
          22,
          44,
          58,
          36,
          59,
          14,
          163,
          24,
          60,
          8,
          19,
          8,
          35,
          26,
          21,
          23,
          42,
          32,
          62,
          30,
          64,
          105,
          25,
          53,
          25,
          39,
          60,
          29,
          109,
          40,
          19,
          26,
          8,
          69,
          38,
          28,
          69,
          47,
          20,
          50,
          40,
          50,
          26,
          3,
          13,
          37,
          8,
          32,
          56,
          7,
          16,
          37,
          15,
          9,
          7,
          81,
          63,
          118,
          24,
          16,
          64,
          162,
          42,
          111,
          48,
          27,
          31,
          4,
          19,
          38,
          20,
          11,
          67,
          28,
          185,
          48,
          150,
          28,
          126,
          72,
          68,
          43,
          38,
          26,
          15,
          50,
          296,
          53,
          9,
          151,
          36,
          30,
          43,
          13,
          15,
          12,
          9,
          14,
          73,
          53,
          209,
          49,
          45,
          82,
          50,
          11,
          31,
          24,
          101,
          69,
          20,
          310,
          6,
          68,
          18,
          10,
          129,
          70,
          108,
          40,
          27,
          37,
          26,
          64,
          152,
          9,
          67,
          48,
          8,
          75,
          183,
          37,
          47,
          55,
          16,
          91,
          62,
          51,
          72,
          43,
          26,
          33,
          8,
          154,
          10,
          54,
          10,
          28,
          79,
          128,
          12,
          22,
          144,
          34,
          10,
          45,
          42,
          71,
          512,
          30,
          67,
          82,
          16,
          16,
          6,
          12,
          134,
          145,
          351,
          24,
          44,
          14,
          22,
          95,
          6,
          273,
          85,
          117,
          26,
          16,
          64,
          58,
          512,
          11,
          56,
          9,
          346,
          13,
          71,
          10,
          20,
          19,
          6,
          209,
          26,
          12,
          44,
          16,
          85,
          223,
          56,
          147,
          42,
          40,
          50,
          47,
          93,
          10,
          25,
          48,
          30,
          11,
          25,
          51,
          137,
          63,
          149,
          92,
          39,
          75,
          150,
          69,
          43,
          79,
          23,
          87,
          15,
          512,
          51,
          297,
          19,
          512,
          8,
          267,
          36,
          25,
          31,
          16,
          22,
          512,
          294,
          9,
          26,
          10,
          338,
          198,
          40,
          16,
          56,
          62,
          68,
          30,
          19,
          41,
          311,
          232,
          52,
          66,
          181,
          31,
          54,
          9,
          87,
          163,
          10,
          54,
          14,
          65,
          66,
          36,
          17,
          68,
          44,
          8,
          14,
          7,
          29,
          51,
          58,
          20,
          19,
          42,
          34,
          18,
          6,
          15,
          30,
          12,
          30,
          25,
          42,
          110,
          21,
          74,
          22,
          47,
          82,
          70,
          40,
          93,
          31,
          99,
          30,
          13,
          24,
          80,
          29,
          16,
          87,
          10,
          28,
          5,
          10,
          234,
          7,
          18,
          33,
          82,
          38,
          18,
          11,
          118,
          17,
          65,
          90,
          13,
          13,
          32,
          215,
          59,
          179,
          45,
          106,
          9,
          50,
          79,
          31,
          95,
          22,
          9,
          8,
          195,
          72,
          7,
          54,
          11,
          12,
          156,
          46,
          126,
          190,
          22,
          29,
          11,
          9,
          128,
          74,
          53,
          13,
          42,
          114,
          48,
          150,
          38,
          7,
          101,
          25,
          14,
          33,
          21,
          8,
          17,
          23,
          28,
          47,
          97,
          34,
          21,
          22,
          47,
          102,
          13,
          17,
          119,
          27,
          33,
          66,
          19,
          25,
          6,
          21,
          11,
          59,
          67,
          142,
          34,
          17,
          39,
          88,
          41,
          58,
          14,
          13,
          32,
          35,
          50,
          36,
          220,
          19,
          21,
          224,
          25,
          73,
          52,
          60,
          9,
          79,
          52,
          18,
          62,
          176,
          18,
          23,
          85,
          67,
          4,
          79,
          22,
          512,
          49,
          28,
          11,
          38,
          73,
          257,
          77,
          89,
          47,
          76,
          12,
          17,
          42,
          15,
          104,
          10,
          41,
          11,
          26,
          72,
          13,
          24,
          51,
          59,
          448,
          14,
          21,
          130,
          9,
          191,
          52,
          25,
          33,
          44,
          50,
          39,
          31,
          76,
          49,
          46,
          66,
          40,
          75,
          30,
          7,
          15,
          4,
          128,
          85,
          512,
          183,
          79,
          82,
          7,
          18,
          48,
          19,
          16,
          53,
          32,
          77,
          71,
          38,
          38,
          50,
          14,
          11,
          60,
          71,
          13,
          116,
          9,
          75,
          52,
          35,
          75,
          49,
          12,
          20,
          35,
          68,
          64,
          5,
          39,
          10,
          29,
          83,
          43,
          98,
          58,
          9,
          18,
          18,
          14,
          73,
          9,
          236,
          46,
          162,
          36,
          61,
          10,
          25,
          36,
          52,
          15,
          84,
          512,
          19,
          48,
          436,
          88,
          26,
          17,
          13,
          150,
          105,
          7,
          123,
          9,
          71,
          12,
          20,
          32,
          34,
          292,
          190,
          21,
          38,
          190,
          9,
          47,
          68,
          13,
          61,
          19,
          46,
          8,
          46,
          65,
          300,
          14,
          42,
          70,
          78,
          20,
          61,
          54,
          32,
          86,
          86,
          10,
          26,
          69,
          90,
          65,
          34,
          149,
          20,
          82,
          143,
          48,
          123,
          15,
          86,
          8,
          34,
          47,
          21,
          13,
          9,
          24,
          26,
          95,
          126,
          77,
          41,
          24,
          10,
          16,
          139,
          57,
          16,
          18,
          29,
          66,
          13,
          88,
          19,
          133,
          14,
          87,
          5,
          150,
          154,
          96,
          12,
          84,
          22,
          39,
          51,
          62,
          6,
          46,
          91,
          27,
          18,
          47,
          162,
          123,
          20,
          8,
          35,
          307,
          16,
          47,
          102,
          44,
          14,
          31,
          150,
          43,
          32,
          26,
          38,
          34,
          7,
          112,
          24,
          156,
          512,
          50,
          78,
          39,
          28,
          8,
          86,
          14,
          27,
          49,
          447,
          7,
          512,
          129,
          92,
          124,
          6,
          44,
          7,
          32,
          11,
          14,
          512,
          120,
          26,
          102,
          13,
          29,
          28,
          9,
          30,
          19,
          19,
          96,
          89,
          11,
          71,
          10,
          28,
          9,
          7,
          10,
          31,
          15,
          13,
          62,
          169,
          93,
          107,
          77,
          8,
          42,
          10,
          143,
          12,
          224,
          28,
          13,
          28,
          15,
          54,
          107,
          7,
          26,
          21,
          7,
          470,
          35,
          14,
          57,
          12,
          26,
          15,
          57,
          7,
          66,
          145,
          64,
          284,
          19,
          15,
          19,
          300,
          16,
          512,
          6,
          106,
          17,
          31,
          132,
          8,
          33,
          116,
          421,
          5,
          77,
          124,
          57,
          49,
          6,
          52,
          40,
          41,
          15,
          55,
          161,
          32,
          75,
          37,
          10,
          49,
          40,
          26,
          177,
          33,
          9,
          143,
          23,
          56,
          40,
          127,
          28,
          45,
          46,
          71,
          35,
          12,
          65,
          57,
          27,
          30,
          64,
          32,
          9,
          62,
          17,
          9,
          13,
          8,
          75,
          13,
          56,
          229,
          35,
          241,
          10,
          58,
          30,
          366,
          32,
          21,
          46,
          19,
          81,
          7,
          67,
          99,
          76,
          17,
          261,
          5,
          30,
          44,
          48,
          57,
          54,
          280,
          10,
          297,
          83,
          74,
          10,
          27,
          41,
          36,
          61,
          22,
          31,
          21,
          40,
          10,
          51,
          17,
          8,
          26,
          209,
          49,
          36,
          22,
          48,
          30,
          58,
          35,
          30,
          23,
          42,
          39,
          103,
          9,
          54,
          50,
          135,
          27,
          50,
          55,
          142,
          19,
          48,
          15,
          91,
          182,
          116,
          52,
          10,
          30,
          37,
          131,
          512,
          77,
          143,
          104,
          96,
          79,
          69,
          79,
          5,
          26,
          19,
          265,
          17,
          367,
          11,
          106,
          14,
          23,
          91,
          11,
          209,
          30,
          73,
          13,
          37,
          20,
          82,
          47,
          49,
          11,
          49,
          19,
          63,
          512,
          168,
          121,
          94,
          31,
          19,
          34,
          43,
          260,
          219,
          137,
          40,
          222,
          8,
          8,
          296,
          25,
          104,
          121,
          27,
          23,
          35,
          15,
          37,
          69,
          394,
          32,
          47,
          130,
          33,
          6,
          26,
          10,
          17,
          34,
          28,
          7,
          75,
          64,
          124,
          45,
          107,
          96,
          285,
          8,
          222,
          14,
          180,
          17,
          62,
          15,
          159,
          7,
          89,
          131,
          30,
          47,
          85,
          13,
          44,
          23,
          11,
          5,
          17,
          30,
          84,
          318,
          95,
          8,
          49,
          9,
          35,
          14,
          81,
          57,
          27,
          21,
          32,
          26,
          37,
          141,
          8,
          18,
          91,
          5,
          20,
          9,
          97,
          113,
          16,
          34,
          29,
          32,
          24,
          37,
          66,
          73,
          71,
          154,
          5,
          43,
          9,
          31,
          21,
          19,
          13,
          210,
          62,
          11,
          410,
          79,
          148,
          163,
          13,
          10,
          294,
          8,
          294,
          153,
          13,
          64,
          13,
          44,
          53,
          100,
          35,
          27,
          23,
          94,
          24,
          309,
          28,
          11,
          67,
          30,
          173,
          18,
          56,
          248,
          16,
          201,
          15,
          71,
          28,
          20,
          25,
          186,
          9,
          36,
          22,
          48,
          42,
          24,
          92,
          37,
          46,
          79,
          115,
          37,
          115,
          237,
          79,
          134,
          12,
          57,
          41,
          258,
          45,
          53,
          9,
          19,
          11,
          119,
          62,
          7,
          60,
          27,
          38,
          336,
          47,
          97,
          67,
          29,
          19,
          240,
          47,
          25,
          12,
          16,
          58,
          48,
          68,
          10,
          64,
          11,
          34,
          22,
          61,
          64,
          20,
          54,
          17,
          60,
          39,
          71,
          8,
          70,
          12,
          14,
          105,
          64,
          10,
          11,
          26,
          105,
          36,
          86,
          96,
          36,
          21,
          512,
          33,
          49,
          42,
          512,
          60,
          34,
          512,
          15,
          6,
          61,
          148,
          54,
          55,
          62,
          153,
          26,
          17,
          62,
          31,
          37,
          63,
          46,
          7,
          13,
          73,
          15,
          47,
          40,
          75,
          18,
          6,
          404,
          95,
          42,
          160,
          23,
          54,
          11,
          203,
          9,
          12,
          257,
          24,
          204,
          157,
          25,
          16,
          152,
          91,
          34,
          23,
          4,
          73,
          11,
          104,
          7,
          10,
          32,
          40,
          20,
          36,
          20,
          58,
          28,
          51,
          40,
          512,
          102,
          100,
          30,
          29,
          172,
          268,
          177,
          11,
          40,
          32,
          36,
          141,
          85,
          101,
          22,
          49,
          79,
          19,
          29,
          7,
          100,
          64,
          269,
          130,
          97,
          80,
          15,
          7,
          117,
          62,
          36,
          28,
          13,
          16,
          22,
          56,
          45,
          10,
          41,
          14,
          19,
          256,
          22,
          129,
          35,
          57,
          149,
          98,
          44,
          195,
          23,
          26,
          3,
          33,
          5,
          14,
          15,
          73,
          77,
          227,
          38,
          98,
          197,
          53,
          14,
          66,
          5,
          209,
          100,
          24,
          190,
          156,
          7,
          88,
          14,
          146,
          57,
          85,
          100,
          38,
          97,
          76,
          43,
          452,
          10,
          108,
          122,
          34,
          117,
          17,
          75,
          16,
          57,
          46,
          40,
          7,
          13,
          30,
          21,
          35,
          512,
          15,
          71,
          13,
          16,
          10,
          34,
          22,
          51,
          158,
          24,
          72,
          69,
          14,
          30,
          108,
          17,
          42,
          129,
          34,
          164,
          287,
          49,
          26,
          43,
          18,
          18,
          73,
          35,
          13,
          128,
          106,
          15,
          40,
          12,
          512,
          18,
          37,
          37,
          512,
          23,
          142,
          28,
          310,
          205,
          11,
          16,
          162,
          53,
          27,
          40,
          8,
          42,
          512,
          9,
          173,
          20,
          31,
          62,
          34,
          437,
          34,
          54,
          15,
          60,
          329,
          242,
          144,
          77,
          65,
          32,
          45,
          60,
          50,
          10,
          8,
          133,
          512,
          26,
          34,
          16,
          33,
          69,
          8,
          53,
          35,
          79,
          45,
          78,
          41,
          41,
          22,
          49,
          126,
          50,
          390,
          40,
          28,
          35,
          80,
          293,
          512,
          226,
          39,
          76,
          52,
          81,
          119,
          54,
          13,
          45,
          37,
          24,
          13,
          221,
          87,
          45,
          15,
          98,
          40,
          42,
          33,
          62,
          74,
          267,
          512,
          22,
          143,
          30,
          29,
          40,
          73,
          45,
          28,
          33,
          30,
          41,
          512,
          58,
          7,
          29,
          230,
          29,
          12,
          21,
          88,
          8,
          27,
          35,
          40,
          36,
          46,
          44,
          7,
          49,
          22,
          118,
          27,
          303,
          87,
          15,
          128,
          512,
          25,
          17,
          135,
          21,
          8,
          11,
          100,
          23,
          20,
          93,
          91,
          54,
          97,
          428,
          37,
          77,
          161,
          32,
          202,
          139,
          26,
          30,
          91,
          32,
          25,
          132,
          12,
          37,
          9,
          18,
          19,
          47,
          22,
          10,
          191,
          52,
          21,
          39,
          13,
          88,
          131,
          12,
          13,
          31,
          9,
          12,
          62,
          34,
          144,
          31,
          18,
          134,
          143,
          16,
          50,
          32,
          126,
          130,
          54,
          42,
          99,
          14,
          57,
          66,
          22,
          49,
          28,
          6,
          104,
          195,
          7,
          29,
          14,
          12,
          38,
          18,
          21,
          24,
          22,
          235,
          23,
          11,
          8,
          66,
          17,
          72,
          42,
          5,
          20,
          51,
          40,
          52,
          44,
          82,
          16,
          13,
          45,
          65,
          106,
          72,
          23,
          484,
          233,
          68,
          10,
          48,
          169,
          23,
          154,
          62,
          32,
          23,
          146,
          218,
          95,
          21,
          12,
          34,
          9,
          39,
          55,
          33,
          24,
          85,
          9,
          48,
          263,
          23,
          144,
          24,
          109,
          53,
          98,
          12,
          28,
          66,
          15,
          19,
          105,
          34,
          34,
          62,
          88,
          122,
          27,
          56,
          40,
          13,
          139,
          126,
          39,
          18,
          126,
          15,
          163,
          82,
          32,
          512,
          56,
          48,
          58,
          22,
          436,
          54,
          9,
          38,
          15,
          47,
          36,
          37,
          18,
          104,
          416,
          81,
          50,
          143,
          64,
          31,
          18,
          12,
          27,
          68,
          23,
          75,
          141,
          168,
          15,
          36,
          28,
          58,
          63,
          27,
          101,
          70,
          48,
          17,
          15,
          334,
          49,
          68,
          18,
          26,
          52,
          43,
          18,
          41,
          127,
          11,
          28,
          58,
          13,
          44,
          34,
          30,
          180,
          82,
          15,
          13,
          275,
          164,
          54,
          417,
          51,
          44,
          12,
          41,
          313,
          72,
          12,
          191,
          50,
          54,
          27,
          42,
          39,
          70,
          14,
          57,
          8,
          32,
          48,
          25,
          48,
          42,
          99,
          57,
          13,
          26,
          28,
          41,
          80,
          29,
          23,
          38,
          64,
          7,
          12,
          20,
          29,
          25,
          25,
          176,
          25,
          10,
          29,
          35,
          38,
          204,
          9,
          19,
          106,
          11,
          34,
          52,
          21,
          36,
          39,
          23,
          9,
          20,
          49,
          56,
          45,
          59,
          7,
          54,
          244,
          23,
          21,
          88,
          24,
          143,
          88,
          263,
          47,
          47,
          19,
          274,
          57,
          25,
          21,
          22,
          22,
          344,
          204,
          512,
          282,
          18,
          90,
          20,
          55,
          23,
          65,
          20,
          8,
          12,
          66,
          34,
          68,
          16,
          91,
          15,
          54,
          34,
          80,
          70,
          53,
          283,
          57,
          8,
          71,
          92,
          5,
          292,
          26,
          13,
          11,
          11,
          18,
          48,
          215,
          8,
          50,
          24,
          41,
          11,
          75,
          362,
          10,
          147,
          42,
          81,
          24,
          91,
          25,
          50,
          190,
          12,
          75,
          171,
          23,
          117,
          39,
          512,
          80,
          313,
          20,
          26,
          108,
          52,
          47,
          67,
          29,
          14,
          54,
          18,
          12,
          16,
          38,
          73,
          17,
          48,
          20,
          58,
          13,
          12,
          12,
          25,
          51,
          21,
          37,
          65,
          8,
          48,
          19,
          120,
          15,
          193,
          11,
          77,
          23,
          41,
          89,
          512,
          297,
          57,
          62,
          125,
          85,
          126,
          45,
          39,
          180,
          52,
          10,
          48,
          21,
          41,
          130,
          42,
          512,
          36,
          29,
          22,
          17,
          76,
          211,
          11,
          192,
          50,
          17,
          65,
          109,
          104,
          16,
          22,
          30,
          10,
          198,
          30,
          45,
          104,
          12,
          12,
          123,
          55,
          34,
          74,
          120,
          10,
          11,
          8,
          11,
          10,
          8,
          13,
          118,
          106,
          334,
          45,
          33,
          136,
          9,
          512,
          44,
          108,
          28,
          12,
          7,
          20,
          54,
          64,
          22,
          83,
          77,
          37,
          51,
          191,
          19,
          59,
          34,
          18,
          51,
          25,
          43,
          11,
          12,
          158,
          50,
          52,
          63,
          8,
          133,
          87,
          16,
          229,
          28,
          58,
          304,
          109,
          20,
          9,
          30,
          26,
          163,
          25,
          59,
          14,
          105,
          129,
          85,
          26,
          55,
          10,
          12,
          28,
          47,
          26,
          12,
          15,
          97,
          64,
          139,
          31,
          41,
          148,
          54,
          168,
          36,
          512,
          6,
          17,
          48,
          59,
          55,
          19,
          14,
          54,
          30,
          12,
          15,
          30,
          27,
          31,
          12,
          14,
          59,
          30,
          7,
          62,
          242,
          33,
          35,
          11,
          34,
          18,
          21,
          201,
          23,
          19,
          47,
          78,
          23,
          25,
          100,
          320,
          46,
          20,
          13,
          9,
          63,
          17,
          28,
          29,
          20,
          6,
          146,
          42,
          30,
          131,
          11,
          32,
          77,
          75,
          104,
          117,
          22,
          182,
          43,
          44,
          137,
          73,
          148,
          118,
          126,
          20,
          211,
          512,
          42,
          109,
          115,
          195,
          69,
          107,
          56,
          15,
          239,
          7,
          37,
          52,
          223,
          168,
          37,
          80,
          17,
          86,
          117,
          84,
          18,
          50,
          21,
          93,
          97,
          57,
          38,
          71,
          12,
          340,
          16,
          16,
          39,
          108,
          248,
          22,
          150,
          8,
          96,
          127,
          188,
          512,
          61,
          87,
          28,
          44,
          81,
          48,
          9,
          371,
          14,
          55,
          40,
          368,
          36,
          47,
          38,
          74,
          8,
          172,
          111,
          91,
          43,
          7,
          121,
          21,
          13,
          173,
          46,
          227,
          25,
          32,
          19,
          86,
          32,
          62,
          24,
          68,
          30,
          62,
          30,
          74,
          46,
          319,
          126,
          21,
          78,
          149,
          23,
          11,
          20,
          31,
          90,
          63,
          37,
          15,
          71,
          105,
          21,
          41,
          19,
          107,
          30,
          11,
          29,
          15,
          176,
          512,
          103,
          195,
          22,
          37,
          47,
          15,
          37,
          107,
          23,
          18,
          37,
          161,
          47,
          19,
          10,
          94,
          4,
          34,
          39,
          512,
          72,
          119,
          34,
          37,
          11,
          196,
          111,
          16,
          76,
          10,
          26,
          51,
          101,
          52,
          9,
          36,
          20,
          20,
          108,
          512,
          11,
          66,
          13,
          13,
          66,
          94,
          20,
          31,
          80,
          194,
          94,
          27,
          30,
          38,
          121,
          21,
          61,
          9,
          123,
          57,
          19,
          249,
          10,
          109,
          57,
          11,
          20,
          233,
          46,
          18,
          12,
          7,
          18,
          268,
          209,
          56,
          36,
          35,
          28,
          11,
          106,
          39,
          226,
          51,
          26,
          36,
          77,
          97,
          7,
          72,
          47,
          11,
          12,
          43,
          102,
          18,
          62,
          153,
          251,
          126,
          105,
          17,
          66,
          16,
          30,
          30,
          123,
          41,
          88,
          25,
          69,
          301,
          92,
          15,
          24,
          27,
          43,
          95,
          31,
          18,
          118,
          134,
          14,
          147,
          41,
          8,
          29,
          42,
          26,
          14,
          7,
          20,
          62,
          11,
          52,
          512,
          161,
          32,
          56,
          28,
          22,
          43,
          319,
          30,
          11,
          13,
          51,
          83,
          43,
          125,
          36,
          34,
          6,
          148,
          115,
          21,
          12,
          28,
          6,
          48,
          30,
          49,
          11,
          12,
          25,
          101,
          85,
          7,
          16,
          49,
          107,
          112,
          13,
          41,
          170,
          162,
          38,
          34,
          137,
          10,
          189,
          76,
          23,
          18,
          61,
          7,
          121,
          37,
          11,
          7,
          42,
          71,
          56,
          148,
          15,
          30,
          13,
          72,
          15,
          61,
          17,
          59,
          96,
          36,
          15,
          54,
          30,
          125,
          159,
          30,
          39,
          54,
          16,
          18,
          11,
          41,
          55,
          55,
          40,
          32,
          62,
          28,
          283,
          41,
          7,
          89,
          195,
          24,
          27,
          108,
          7,
          31,
          29,
          34,
          12,
          31,
          39,
          33,
          29,
          65,
          55,
          243,
          16,
          23,
          20,
          40,
          15,
          25,
          23,
          253,
          24,
          35,
          31,
          136,
          31,
          45,
          3,
          38,
          17,
          28,
          133,
          36,
          50,
          95,
          18,
          54,
          152,
          12,
          44,
          258,
          42,
          33,
          101,
          25,
          23,
          46,
          50,
          342,
          47,
          226,
          69,
          136,
          20,
          7,
          119,
          26,
          24,
          101,
          72,
          22,
          95,
          71,
          14,
          20,
          58,
          100,
          89,
          21,
          59,
          382,
          48,
          134,
          31,
          13,
          22,
          50,
          52,
          152,
          5,
          101,
          40,
          19,
          48,
          88,
          19,
          263,
          36,
          80,
          47,
          59,
          512,
          109,
          65,
          17,
          162,
          257,
          74,
          33,
          115,
          34,
          107,
          19,
          14,
          38,
          9,
          44,
          10,
          46,
          512,
          13,
          147,
          18,
          53,
          281,
          89,
          29,
          40,
          20,
          12,
          19,
          53,
          12,
          50,
          114,
          7,
          14,
          172,
          220,
          10,
          108,
          68,
          55,
          12,
          29,
          7,
          34,
          23,
          24,
          62,
          31,
          14,
          21,
          10,
          123,
          9,
          204,
          25,
          29,
          87,
          32,
          104,
          74,
          11,
          48,
          22,
          19,
          217,
          67,
          7,
          19,
          16,
          134,
          33,
          46,
          190,
          173,
          7,
          42,
          424,
          26,
          512,
          33,
          30,
          63,
          34,
          97,
          107,
          39,
          37,
          26,
          16,
          19,
          14,
          78,
          7,
          171,
          32,
          155,
          65,
          13,
          129,
          44,
          57,
          25,
          42,
          59,
          19,
          176,
          97,
          12,
          59,
          14,
          43,
          56,
          76,
          259,
          25,
          38,
          208,
          117,
          76,
          20,
          77,
          48,
          37,
          31,
          14,
          16,
          142,
          22,
          22,
          74,
          19,
          10,
          31,
          32,
          36,
          29,
          60,
          56,
          25,
          97,
          60,
          11,
          53,
          20,
          32,
          22,
          15,
          512,
          137,
          42,
          106,
          16,
          75,
          12,
          39,
          14,
          7,
          13,
          35,
          36,
          148,
          512,
          18,
          43,
          36,
          11,
          176,
          99,
          25,
          20,
          95,
          28,
          10,
          34,
          21,
          26,
          165,
          38,
          44,
          8,
          104,
          76,
          118,
          14,
          71,
          108,
          31,
          68,
          41,
          19,
          91,
          32,
          23,
          114,
          80,
          53,
          40,
          40,
          59,
          106,
          34,
          192,
          207,
          10,
          36,
          9,
          28,
          71,
          8,
          25,
          23,
          16,
          43,
          160,
          11,
          26,
          46,
          47,
          30,
          28,
          44,
          19,
          152,
          242,
          12,
          8,
          357,
          7,
          134,
          188,
          218,
          19,
          10,
          512,
          37,
          8,
          22,
          40,
          41,
          37,
          78,
          97,
          42,
          284,
          83,
          19,
          127,
          70,
          10,
          77,
          9,
          37,
          33,
          83,
          27,
          32,
          27,
          47,
          62,
          50,
          27,
          9,
          29,
          11,
          56,
          187,
          57,
          40,
          59,
          170,
          5,
          123,
          160,
          5,
          112,
          48,
          5,
          20,
          6,
          22,
          6,
          46,
          12,
          9,
          28,
          83,
          38,
          9,
          11,
          9,
          42,
          58,
          19,
          21,
          95,
          22,
          67,
          45,
          41,
          137,
          35,
          16,
          12,
          27,
          39,
          20,
          20,
          172,
          25,
          23,
          104,
          28,
          18,
          108,
          145,
          29,
          8,
          42,
          111,
          17,
          23,
          12,
          21,
          47,
          51,
          194,
          117,
          161,
          75,
          32,
          49,
          28,
          13,
          85,
          28,
          10,
          54,
          52,
          42,
          74,
          48,
          35,
          64,
          31,
          36,
          55,
          23,
          178,
          21,
          186,
          33,
          14,
          31,
          104,
          109,
          247,
          27,
          308,
          203,
          70,
          50,
          12,
          512,
          16,
          113,
          194,
          15,
          8,
          25,
          101,
          119,
          19,
          55,
          19,
          75,
          33,
          9,
          166,
          14,
          31,
          512,
          54,
          27,
          34,
          28,
          8,
          18,
          29,
          38,
          66,
          60,
          30,
          76,
          18,
          266,
          34,
          17,
          117,
          48,
          68,
          9,
          46,
          21,
          5,
          19,
          35,
          15,
          62,
          26,
          36,
          61,
          214,
          25,
          20,
          39,
          163,
          78,
          13,
          72,
          80,
          43,
          16,
          145,
          99,
          330,
          30,
          77,
          67,
          30,
          39,
          89,
          203,
          48,
          192,
          31,
          48,
          22,
          8,
          12,
          57,
          7,
          34,
          240,
          16,
          39,
          42,
          44,
          120,
          15,
          30,
          17,
          49,
          11,
          364,
          25,
          23,
          118,
          40,
          299,
          16,
          6,
          60,
          72,
          59,
          192,
          9,
          73,
          25,
          46,
          28,
          75,
          27,
          37,
          8,
          34,
          125,
          43,
          144,
          10,
          184,
          11,
          139,
          28,
          63,
          74,
          58,
          59,
          16,
          60,
          113,
          11,
          13,
          47,
          512,
          46,
          87,
          47,
          20,
          19,
          56,
          52,
          5,
          20,
          90,
          55,
          52,
          156,
          52,
          197,
          19,
          40,
          22,
          62,
          101,
          37,
          8,
          44,
          41,
          45,
          19,
          30,
          26,
          13,
          69,
          321,
          33,
          29,
          57,
          74,
          139,
          93,
          144,
          10,
          29,
          58,
          147,
          92,
          31,
          20,
          142,
          33,
          40,
          49,
          194,
          236,
          324,
          205,
          8,
          17,
          12,
          512,
          87,
          34,
          13,
          12,
          43,
          40,
          31,
          13,
          216,
          137,
          47,
          99,
          58,
          129,
          81,
          71,
          21,
          242,
          11,
          39,
          130,
          29,
          24,
          9,
          9,
          83,
          43,
          55,
          41,
          56,
          43,
          52,
          45,
          44,
          138,
          100,
          43,
          28,
          42,
          45,
          36,
          75,
          71,
          147,
          165,
          64,
          39,
          33,
          12,
          75,
          155,
          102,
          288,
          10,
          273,
          15,
          137,
          306,
          11,
          62,
          9,
          26,
          41,
          79,
          346,
          18,
          68,
          507,
          84,
          6,
          45,
          30,
          22,
          52,
          48,
          21,
          72,
          50,
          39,
          49,
          92,
          8,
          47,
          48,
          63,
          54,
          4,
          7,
          25,
          158,
          125,
          423,
          125,
          46,
          32,
          76,
          110,
          45,
          11,
          172,
          389,
          93,
          21,
          9,
          61,
          15,
          116,
          91,
          65,
          186,
          13,
          113,
          6,
          24,
          7,
          7,
          42,
          23,
          27,
          13,
          41,
          69,
          34,
          27,
          512,
          179,
          70,
          209,
          10,
          33,
          77,
          30,
          13,
          74,
          171,
          40,
          157,
          81,
          59,
          207,
          331,
          21,
          67,
          56,
          7,
          119,
          39,
          149,
          93,
          28,
          48,
          115,
          31,
          52,
          130,
          512,
          82,
          67,
          67,
          50,
          34,
          10,
          6,
          220,
          26,
          82,
          6,
          57,
          164,
          63,
          29,
          10,
          50,
          26,
          95,
          38,
          382,
          22,
          61,
          22,
          169,
          47,
          48,
          214,
          147,
          169,
          19,
          66,
          121,
          26,
          444,
          400,
          32,
          13,
          13,
          107,
          50,
          68,
          22,
          16,
          17,
          42,
          313,
          30,
          57,
          39,
          242,
          64,
          47,
          45,
          59,
          83,
          85,
          32,
          49,
          32,
          64,
          186,
          169,
          25,
          201,
          24,
          47,
          76,
          132,
          102,
          64,
          137,
          9,
          5,
          13,
          323,
          41,
          120,
          105,
          30,
          14,
          15,
          123,
          136,
          8,
          104,
          221,
          24,
          6,
          102,
          7,
          22,
          23,
          80,
          95,
          171,
          10,
          43,
          28,
          92,
          20,
          114,
          31,
          40,
          84,
          82,
          65,
          18,
          18,
          12,
          7,
          33,
          29,
          18,
          20,
          24,
          34,
          33,
          38,
          31,
          6,
          116,
          27,
          15,
          10,
          29,
          6,
          180,
          30,
          158,
          66,
          18,
          28,
          36,
          20,
          111,
          16,
          12,
          27,
          59,
          17,
          6,
          69,
          30,
          29,
          22,
          58,
          62,
          44,
          17,
          23,
          15,
          13,
          170,
          116,
          116,
          18,
          78,
          56,
          30,
          11,
          28,
          24,
          24,
          9,
          269,
          10,
          47,
          8,
          9,
          128,
          22,
          92,
          22,
          7,
          11,
          30,
          18,
          73,
          38,
          87,
          16,
          7,
          8,
          103,
          83,
          126,
          36,
          512,
          13,
          14,
          78,
          67,
          53,
          11,
          50,
          60,
          74,
          5,
          18,
          10,
          64,
          185,
          73,
          68,
          121,
          25,
          36,
          48,
          40,
          43,
          9,
          313,
          43,
          8,
          49,
          19,
          45,
          141,
          222,
          147,
          78,
          228,
          35,
          28,
          89,
          240,
          41,
          70,
          10,
          136,
          135,
          28,
          295,
          153,
          112,
          24,
          149,
          33,
          12,
          108,
          235,
          26,
          30,
          49,
          35,
          185,
          47,
          10,
          245,
          53,
          14,
          22,
          24,
          121,
          35,
          44,
          16,
          13,
          24,
          37,
          120,
          115,
          332,
          104,
          71,
          59,
          68,
          12,
          31,
          18,
          62,
          54,
          58,
          18,
          29,
          9,
          32,
          16,
          22,
          3,
          69,
          43,
          26,
          93,
          133,
          217,
          19,
          18,
          42,
          205,
          15,
          393,
          59,
          7,
          18,
          44,
          512,
          18,
          7,
          160,
          38,
          119,
          9,
          61,
          121,
          76,
          223,
          14,
          52,
          45,
          238,
          32,
          6,
          14,
          55,
          83,
          10,
          23,
          512,
          116,
          56,
          47,
          70,
          26,
          70,
          268,
          224,
          296,
          14,
          92,
          174,
          16,
          31,
          33,
          52,
          193,
          19,
          30,
          82,
          20,
          13,
          49,
          10,
          512,
          82,
          10,
          38,
          7,
          10,
          8,
          15,
          21,
          47,
          124,
          47,
          124,
          45,
          65,
          69,
          176,
          263,
          47,
          51,
          39,
          30,
          84,
          27,
          24,
          166,
          38,
          32,
          76,
          72,
          24,
          134,
          68,
          23,
          26,
          404,
          51,
          26,
          18,
          23,
          74,
          31,
          398,
          66,
          13,
          28,
          161,
          7,
          15,
          19,
          64,
          34,
          169,
          24,
          25,
          15,
          10,
          160,
          22,
          172,
          34,
          27,
          53,
          37,
          31,
          12,
          95,
          20,
          15,
          106,
          226,
          32,
          512,
          24,
          9,
          107,
          160,
          20,
          100,
          24,
          30,
          36,
          19,
          36,
          14,
          19,
          8,
          48,
          171,
          12,
          31,
          91,
          82,
          123,
          17,
          64,
          87,
          43,
          512,
          440,
          37,
          21,
          12,
          53,
          24,
          14,
          66,
          18,
          103,
          5,
          15,
          60,
          195,
          12,
          11,
          101,
          35,
          65,
          30,
          35,
          34,
          50,
          78,
          51,
          36,
          18,
          17,
          165,
          8,
          8,
          61,
          103,
          48,
          52,
          127,
          31,
          10,
          22,
          72,
          27,
          70,
          28,
          196,
          167,
          142,
          12,
          165,
          235,
          12,
          19,
          64,
          99,
          73,
          260,
          49,
          20,
          8,
          17,
          98,
          498,
          33,
          46,
          93,
          118,
          106,
          40,
          107,
          246,
          7,
          158,
          244,
          49,
          57,
          50,
          30,
          37,
          105,
          111,
          34,
          402,
          10,
          207,
          79,
          38,
          47,
          29,
          12,
          55,
          229,
          19,
          89,
          10,
          41,
          14,
          153,
          8,
          31,
          59,
          64,
          111,
          58,
          28,
          401,
          311,
          11,
          109,
          3,
          49,
          254,
          78,
          92,
          11,
          18,
          58,
          254,
          26,
          11,
          61,
          39,
          9,
          19,
          512,
          76,
          58,
          19,
          74,
          185,
          7,
          19,
          42,
          52,
          114,
          34,
          94,
          70,
          144,
          171,
          51,
          39,
          412,
          35,
          23,
          27,
          224,
          53,
          51,
          261,
          20,
          137,
          110,
          9,
          8,
          100,
          25,
          28,
          41,
          19,
          289,
          42,
          56,
          23,
          102,
          326,
          32,
          32,
          32,
          167,
          18,
          51,
          67,
          34,
          59,
          68,
          41,
          31,
          90,
          20,
          18,
          299,
          132,
          41,
          47,
          67,
          38,
          57,
          11,
          50,
          16,
          129,
          30,
          43,
          26,
          85,
          4,
          50,
          53,
          179,
          41,
          117,
          76,
          16,
          331,
          127,
          233,
          209,
          13,
          30,
          264,
          64,
          96,
          25,
          353,
          44,
          25,
          52,
          4,
          69,
          20,
          117,
          37,
          23,
          164,
          31,
          250,
          11,
          52,
          8,
          62,
          31,
          30,
          129,
          12,
          3,
          92,
          16,
          36,
          9,
          220,
          22,
          333,
          42,
          191,
          8,
          23,
          22,
          12,
          54,
          30,
          12,
          20,
          102,
          32,
          274,
          12,
          114,
          27,
          47,
          74,
          116,
          38,
          93,
          39,
          91,
          16,
          20,
          26,
          133,
          35,
          20,
          16,
          82,
          60,
          11,
          12,
          50,
          10,
          40,
          51,
          58,
          25,
          55,
          67,
          23,
          11,
          50,
          99,
          24,
          105,
          49,
          24,
          40,
          10,
          129,
          31,
          10,
          49,
          25,
          232,
          512,
          45,
          27,
          161,
          71,
          64,
          32,
          38,
          10,
          164,
          28,
          83,
          29,
          18,
          87,
          51,
          6,
          121,
          14,
          7,
          12,
          512,
          9,
          47,
          47,
          9,
          43,
          93,
          26,
          140,
          16,
          219,
          115,
          8,
          71,
          61,
          120,
          21,
          23,
          246,
          33,
          53,
          31,
          31,
          32,
          141,
          57,
          59,
          11,
          46,
          35,
          63,
          83,
          512,
          512,
          121,
          31,
          27,
          84,
          9,
          127,
          304,
          19,
          49,
          31,
          185,
          33,
          110,
          512,
          11,
          28,
          279,
          53,
          17,
          20,
          23,
          29,
          252,
          36,
          79,
          59,
          54,
          24,
          89,
          35,
          36,
          21,
          233,
          46,
          21,
          202,
          14,
          9,
          42,
          203,
          45,
          105,
          18,
          202,
          37,
          10,
          39,
          18,
          228,
          48,
          294,
          114,
          120,
          70,
          75,
          135,
          129,
          11,
          21,
          65,
          58,
          139,
          64,
          4,
          35,
          20,
          411,
          127,
          174,
          16,
          45,
          259,
          7,
          8,
          38,
          103,
          49,
          59,
          24,
          28,
          229,
          29,
          36,
          22,
          66,
          39,
          30,
          38,
          108,
          20,
          139,
          51,
          87,
          512,
          33,
          19,
          3,
          5,
          27,
          29,
          20,
          19,
          29,
          23,
          41,
          232,
          92,
          160,
          93,
          42,
          302,
          8,
          21,
          36,
          9,
          30,
          69,
          11,
          8,
          7,
          196,
          37,
          96,
          31,
          57,
          51,
          14,
          55,
          508,
          235,
          185,
          61,
          139,
          23,
          23,
          47,
          158,
          106,
          30,
          49,
          36,
          9,
          61,
          25,
          116,
          49,
          10,
          24,
          25,
          238,
          19,
          31,
          22,
          24,
          23,
          16,
          88,
          7,
          34,
          33,
          58,
          51,
          311,
          104,
          80,
          3,
          35,
          30,
          49,
          36,
          173,
          26,
          6,
          38
         ]
        }
       ],
       "layout": {
        "height": 500,
        "template": {
         "data": {
          "bar": [
           {
            "error_x": {
             "color": "#2a3f5f"
            },
            "error_y": {
             "color": "#2a3f5f"
            },
            "marker": {
             "line": {
              "color": "white",
              "width": 0.5
             },
             "pattern": {
              "fillmode": "overlay",
              "size": 10,
              "solidity": 0.2
             }
            },
            "type": "bar"
           }
          ],
          "barpolar": [
           {
            "marker": {
             "line": {
              "color": "white",
              "width": 0.5
             },
             "pattern": {
              "fillmode": "overlay",
              "size": 10,
              "solidity": 0.2
             }
            },
            "type": "barpolar"
           }
          ],
          "carpet": [
           {
            "aaxis": {
             "endlinecolor": "#2a3f5f",
             "gridcolor": "#C8D4E3",
             "linecolor": "#C8D4E3",
             "minorgridcolor": "#C8D4E3",
             "startlinecolor": "#2a3f5f"
            },
            "baxis": {
             "endlinecolor": "#2a3f5f",
             "gridcolor": "#C8D4E3",
             "linecolor": "#C8D4E3",
             "minorgridcolor": "#C8D4E3",
             "startlinecolor": "#2a3f5f"
            },
            "type": "carpet"
           }
          ],
          "choropleth": [
           {
            "colorbar": {
             "outlinewidth": 0,
             "ticks": ""
            },
            "type": "choropleth"
           }
          ],
          "contour": [
           {
            "colorbar": {
             "outlinewidth": 0,
             "ticks": ""
            },
            "colorscale": [
             [
              0,
              "#0d0887"
             ],
             [
              0.1111111111111111,
              "#46039f"
             ],
             [
              0.2222222222222222,
              "#7201a8"
             ],
             [
              0.3333333333333333,
              "#9c179e"
             ],
             [
              0.4444444444444444,
              "#bd3786"
             ],
             [
              0.5555555555555556,
              "#d8576b"
             ],
             [
              0.6666666666666666,
              "#ed7953"
             ],
             [
              0.7777777777777778,
              "#fb9f3a"
             ],
             [
              0.8888888888888888,
              "#fdca26"
             ],
             [
              1,
              "#f0f921"
             ]
            ],
            "type": "contour"
           }
          ],
          "contourcarpet": [
           {
            "colorbar": {
             "outlinewidth": 0,
             "ticks": ""
            },
            "type": "contourcarpet"
           }
          ],
          "heatmap": [
           {
            "colorbar": {
             "outlinewidth": 0,
             "ticks": ""
            },
            "colorscale": [
             [
              0,
              "#0d0887"
             ],
             [
              0.1111111111111111,
              "#46039f"
             ],
             [
              0.2222222222222222,
              "#7201a8"
             ],
             [
              0.3333333333333333,
              "#9c179e"
             ],
             [
              0.4444444444444444,
              "#bd3786"
             ],
             [
              0.5555555555555556,
              "#d8576b"
             ],
             [
              0.6666666666666666,
              "#ed7953"
             ],
             [
              0.7777777777777778,
              "#fb9f3a"
             ],
             [
              0.8888888888888888,
              "#fdca26"
             ],
             [
              1,
              "#f0f921"
             ]
            ],
            "type": "heatmap"
           }
          ],
          "histogram": [
           {
            "marker": {
             "pattern": {
              "fillmode": "overlay",
              "size": 10,
              "solidity": 0.2
             }
            },
            "type": "histogram"
           }
          ],
          "histogram2d": [
           {
            "colorbar": {
             "outlinewidth": 0,
             "ticks": ""
            },
            "colorscale": [
             [
              0,
              "#0d0887"
             ],
             [
              0.1111111111111111,
              "#46039f"
             ],
             [
              0.2222222222222222,
              "#7201a8"
             ],
             [
              0.3333333333333333,
              "#9c179e"
             ],
             [
              0.4444444444444444,
              "#bd3786"
             ],
             [
              0.5555555555555556,
              "#d8576b"
             ],
             [
              0.6666666666666666,
              "#ed7953"
             ],
             [
              0.7777777777777778,
              "#fb9f3a"
             ],
             [
              0.8888888888888888,
              "#fdca26"
             ],
             [
              1,
              "#f0f921"
             ]
            ],
            "type": "histogram2d"
           }
          ],
          "histogram2dcontour": [
           {
            "colorbar": {
             "outlinewidth": 0,
             "ticks": ""
            },
            "colorscale": [
             [
              0,
              "#0d0887"
             ],
             [
              0.1111111111111111,
              "#46039f"
             ],
             [
              0.2222222222222222,
              "#7201a8"
             ],
             [
              0.3333333333333333,
              "#9c179e"
             ],
             [
              0.4444444444444444,
              "#bd3786"
             ],
             [
              0.5555555555555556,
              "#d8576b"
             ],
             [
              0.6666666666666666,
              "#ed7953"
             ],
             [
              0.7777777777777778,
              "#fb9f3a"
             ],
             [
              0.8888888888888888,
              "#fdca26"
             ],
             [
              1,
              "#f0f921"
             ]
            ],
            "type": "histogram2dcontour"
           }
          ],
          "mesh3d": [
           {
            "colorbar": {
             "outlinewidth": 0,
             "ticks": ""
            },
            "type": "mesh3d"
           }
          ],
          "parcoords": [
           {
            "line": {
             "colorbar": {
              "outlinewidth": 0,
              "ticks": ""
             }
            },
            "type": "parcoords"
           }
          ],
          "pie": [
           {
            "automargin": true,
            "type": "pie"
           }
          ],
          "scatter": [
           {
            "fillpattern": {
             "fillmode": "overlay",
             "size": 10,
             "solidity": 0.2
            },
            "type": "scatter"
           }
          ],
          "scatter3d": [
           {
            "line": {
             "colorbar": {
              "outlinewidth": 0,
              "ticks": ""
             }
            },
            "marker": {
             "colorbar": {
              "outlinewidth": 0,
              "ticks": ""
             }
            },
            "type": "scatter3d"
           }
          ],
          "scattercarpet": [
           {
            "marker": {
             "colorbar": {
              "outlinewidth": 0,
              "ticks": ""
             }
            },
            "type": "scattercarpet"
           }
          ],
          "scattergeo": [
           {
            "marker": {
             "colorbar": {
              "outlinewidth": 0,
              "ticks": ""
             }
            },
            "type": "scattergeo"
           }
          ],
          "scattergl": [
           {
            "marker": {
             "colorbar": {
              "outlinewidth": 0,
              "ticks": ""
             }
            },
            "type": "scattergl"
           }
          ],
          "scattermap": [
           {
            "marker": {
             "colorbar": {
              "outlinewidth": 0,
              "ticks": ""
             }
            },
            "type": "scattermap"
           }
          ],
          "scattermapbox": [
           {
            "marker": {
             "colorbar": {
              "outlinewidth": 0,
              "ticks": ""
             }
            },
            "type": "scattermapbox"
           }
          ],
          "scatterpolar": [
           {
            "marker": {
             "colorbar": {
              "outlinewidth": 0,
              "ticks": ""
             }
            },
            "type": "scatterpolar"
           }
          ],
          "scatterpolargl": [
           {
            "marker": {
             "colorbar": {
              "outlinewidth": 0,
              "ticks": ""
             }
            },
            "type": "scatterpolargl"
           }
          ],
          "scatterternary": [
           {
            "marker": {
             "colorbar": {
              "outlinewidth": 0,
              "ticks": ""
             }
            },
            "type": "scatterternary"
           }
          ],
          "surface": [
           {
            "colorbar": {
             "outlinewidth": 0,
             "ticks": ""
            },
            "colorscale": [
             [
              0,
              "#0d0887"
             ],
             [
              0.1111111111111111,
              "#46039f"
             ],
             [
              0.2222222222222222,
              "#7201a8"
             ],
             [
              0.3333333333333333,
              "#9c179e"
             ],
             [
              0.4444444444444444,
              "#bd3786"
             ],
             [
              0.5555555555555556,
              "#d8576b"
             ],
             [
              0.6666666666666666,
              "#ed7953"
             ],
             [
              0.7777777777777778,
              "#fb9f3a"
             ],
             [
              0.8888888888888888,
              "#fdca26"
             ],
             [
              1,
              "#f0f921"
             ]
            ],
            "type": "surface"
           }
          ],
          "table": [
           {
            "cells": {
             "fill": {
              "color": "#EBF0F8"
             },
             "line": {
              "color": "white"
             }
            },
            "header": {
             "fill": {
              "color": "#C8D4E3"
             },
             "line": {
              "color": "white"
             }
            },
            "type": "table"
           }
          ]
         },
         "layout": {
          "annotationdefaults": {
           "arrowcolor": "#2a3f5f",
           "arrowhead": 0,
           "arrowwidth": 1
          },
          "autotypenumbers": "strict",
          "coloraxis": {
           "colorbar": {
            "outlinewidth": 0,
            "ticks": ""
           }
          },
          "colorscale": {
           "diverging": [
            [
             0,
             "#8e0152"
            ],
            [
             0.1,
             "#c51b7d"
            ],
            [
             0.2,
             "#de77ae"
            ],
            [
             0.3,
             "#f1b6da"
            ],
            [
             0.4,
             "#fde0ef"
            ],
            [
             0.5,
             "#f7f7f7"
            ],
            [
             0.6,
             "#e6f5d0"
            ],
            [
             0.7,
             "#b8e186"
            ],
            [
             0.8,
             "#7fbc41"
            ],
            [
             0.9,
             "#4d9221"
            ],
            [
             1,
             "#276419"
            ]
           ],
           "sequential": [
            [
             0,
             "#0d0887"
            ],
            [
             0.1111111111111111,
             "#46039f"
            ],
            [
             0.2222222222222222,
             "#7201a8"
            ],
            [
             0.3333333333333333,
             "#9c179e"
            ],
            [
             0.4444444444444444,
             "#bd3786"
            ],
            [
             0.5555555555555556,
             "#d8576b"
            ],
            [
             0.6666666666666666,
             "#ed7953"
            ],
            [
             0.7777777777777778,
             "#fb9f3a"
            ],
            [
             0.8888888888888888,
             "#fdca26"
            ],
            [
             1,
             "#f0f921"
            ]
           ],
           "sequentialminus": [
            [
             0,
             "#0d0887"
            ],
            [
             0.1111111111111111,
             "#46039f"
            ],
            [
             0.2222222222222222,
             "#7201a8"
            ],
            [
             0.3333333333333333,
             "#9c179e"
            ],
            [
             0.4444444444444444,
             "#bd3786"
            ],
            [
             0.5555555555555556,
             "#d8576b"
            ],
            [
             0.6666666666666666,
             "#ed7953"
            ],
            [
             0.7777777777777778,
             "#fb9f3a"
            ],
            [
             0.8888888888888888,
             "#fdca26"
            ],
            [
             1,
             "#f0f921"
            ]
           ]
          },
          "colorway": [
           "#636efa",
           "#EF553B",
           "#00cc96",
           "#ab63fa",
           "#FFA15A",
           "#19d3f3",
           "#FF6692",
           "#B6E880",
           "#FF97FF",
           "#FECB52"
          ],
          "font": {
           "color": "#2a3f5f"
          },
          "geo": {
           "bgcolor": "white",
           "lakecolor": "white",
           "landcolor": "white",
           "showlakes": true,
           "showland": true,
           "subunitcolor": "#C8D4E3"
          },
          "hoverlabel": {
           "align": "left"
          },
          "hovermode": "closest",
          "mapbox": {
           "style": "light"
          },
          "paper_bgcolor": "white",
          "plot_bgcolor": "white",
          "polar": {
           "angularaxis": {
            "gridcolor": "#EBF0F8",
            "linecolor": "#EBF0F8",
            "ticks": ""
           },
           "bgcolor": "white",
           "radialaxis": {
            "gridcolor": "#EBF0F8",
            "linecolor": "#EBF0F8",
            "ticks": ""
           }
          },
          "scene": {
           "xaxis": {
            "backgroundcolor": "white",
            "gridcolor": "#DFE8F3",
            "gridwidth": 2,
            "linecolor": "#EBF0F8",
            "showbackground": true,
            "ticks": "",
            "zerolinecolor": "#EBF0F8"
           },
           "yaxis": {
            "backgroundcolor": "white",
            "gridcolor": "#DFE8F3",
            "gridwidth": 2,
            "linecolor": "#EBF0F8",
            "showbackground": true,
            "ticks": "",
            "zerolinecolor": "#EBF0F8"
           },
           "zaxis": {
            "backgroundcolor": "white",
            "gridcolor": "#DFE8F3",
            "gridwidth": 2,
            "linecolor": "#EBF0F8",
            "showbackground": true,
            "ticks": "",
            "zerolinecolor": "#EBF0F8"
           }
          },
          "shapedefaults": {
           "line": {
            "color": "#2a3f5f"
           }
          },
          "ternary": {
           "aaxis": {
            "gridcolor": "#DFE8F3",
            "linecolor": "#A2B1C6",
            "ticks": ""
           },
           "baxis": {
            "gridcolor": "#DFE8F3",
            "linecolor": "#A2B1C6",
            "ticks": ""
           },
           "bgcolor": "white",
           "caxis": {
            "gridcolor": "#DFE8F3",
            "linecolor": "#A2B1C6",
            "ticks": ""
           }
          },
          "title": {
           "x": 0.05
          },
          "xaxis": {
           "automargin": true,
           "gridcolor": "#EBF0F8",
           "linecolor": "#EBF0F8",
           "ticks": "",
           "title": {
            "standoff": 15
           },
           "zerolinecolor": "#EBF0F8",
           "zerolinewidth": 2
          },
          "yaxis": {
           "automargin": true,
           "gridcolor": "#EBF0F8",
           "linecolor": "#EBF0F8",
           "ticks": "",
           "title": {
            "standoff": 15
           },
           "zerolinecolor": "#EBF0F8",
           "zerolinewidth": 2
          }
         }
        },
        "title": {
         "text": "Распределение длины токенов"
        },
        "width": 800,
        "xaxis": {
         "range": [
          0,
          515
         ],
         "title": {
          "text": "Token count"
         }
        },
        "yaxis": {
         "title": {
          "text": "Частота"
         }
        }
       }
      }
     },
     "metadata": {},
     "output_type": "display_data"
    }
   ],
   "source": [
    "token_lengths = [len(tokenizer.encode(txt, max_length=512, truncation=True)) for txt in X]\n",
    "fig = go.Figure()\n",
    "fig.add_trace(go.Histogram(\n",
    "    x=token_lengths,\n",
    "    nbinsx=50,\n",
    "    marker_color='blue',\n",
    "    opacity=0.75\n",
    "))\n",
    "fig.update_layout(\n",
    "    title='Распределение длины токенов',\n",
    "    xaxis_title='Token count',\n",
    "    yaxis_title='Частота',\n",
    "    xaxis=dict(range=[0, 515]),\n",
    "    template='plotly_white',\n",
    "    width=800,\n",
    "    height=500\n",
    ")\n",
    "fig.show()"
   ]
  },
  {
   "cell_type": "markdown",
   "metadata": {},
   "source": [
    "- Так как мы ограничили размерность векторного пространства эмбеддингов до 512, то виден всплеск на этой отметке, говорящий о том, что есть немалое кол-во твитов, вошедших в сэмпл, длиной более 512 слов."
   ]
  },
  {
   "cell_type": "markdown",
   "metadata": {},
   "source": [
    "*Токенизация и паддинг*"
   ]
  },
  {
   "cell_type": "code",
   "execution_count": 40,
   "metadata": {},
   "outputs": [],
   "source": [
    "tokenized_texts = X.apply(\n",
    "    lambda x: tokenizer.encode(x, truncation=True, add_special_tokens=True)\n",
    ")\n",
    "max_len = max(len(tokens) for tokens in tokenized_texts)\n",
    "padded_inputs = np.array([tokens + [0]*(max_len - len(tokens)) for tokens in tokenized_texts])\n",
    "attention_masks = np.where(padded_inputs != 0, 1, 0)"
   ]
  },
  {
   "cell_type": "markdown",
   "metadata": {},
   "source": [
    "*Получение эмбеддингов с помощью BERT на сэмпле*"
   ]
  },
  {
   "cell_type": "code",
   "execution_count": 41,
   "metadata": {},
   "outputs": [],
   "source": [
    "features_path = 'prepared_data/bert_features.npy'\n",
    "labels_path = 'prepared_data/bert_labels.npy'\n",
    "if os.path.exists(features_path):\n",
    "    features = np.load(features_path)\n",
    "    labels = np.load(labels_path)\n",
    "else:\n",
    "    batch_size = 10\n",
    "    embeddings = []\n",
    "    for i in tqdm(range((padded_inputs.shape[0] + batch_size - 1) // batch_size), desc='Вычисление эмбеддингов'):\n",
    "        batch_input = torch.LongTensor(padded_inputs[batch_size*i:batch_size*(i+1)]).to(device)\n",
    "        batch_mask = torch.LongTensor(attention_masks[batch_size*i:batch_size*(i+1)]).to(device)\n",
    "        with torch.no_grad():\n",
    "            outputs = model(batch_input, attention_mask=batch_mask)\n",
    "        cls_embeddings = outputs.last_hidden_state[:, 0, :].cpu().numpy()\n",
    "        embeddings.append(cls_embeddings)\n",
    "    features = np.concatenate(embeddings)\n",
    "    labels = y.values\n",
    "    np.save(features_path, features)\n",
    "    np.save(labels_path, labels)"
   ]
  },
  {
   "cell_type": "markdown",
   "metadata": {},
   "source": [
    "*Разбиваем датасет на выборки*"
   ]
  },
  {
   "cell_type": "code",
   "execution_count": 42,
   "metadata": {},
   "outputs": [],
   "source": [
    "X = pd.DataFrame(features)\n",
    "y = pd.Series(labels)\n",
    "X_train, X_test_val, y_train, y_test_val = train_test_split(X, y, random_state=RANDOM_STATE, stratify=labels)\n",
    "X_test, X_val, y_test, y_val = train_test_split(X_test_val, y_test_val, random_state=RANDOM_STATE, stratify=y_test_val)"
   ]
  },
  {
   "cell_type": "markdown",
   "metadata": {},
   "source": [
    "*Обучаем модель*"
   ]
  },
  {
   "cell_type": "code",
   "execution_count": 43,
   "metadata": {},
   "outputs": [],
   "source": [
    "pipeline = Pipeline(\n",
    "    [('model', RFE(estimator=PassiveAggressiveClassifier(n_jobs=os.cpu_count(), random_state=RANDOM_STATE), verbose=0))]\n",
    ")\n",
    "preprocessor_params = {}\n",
    "model_params_cat = {\n",
    "    'model__estimator__loss': ['hinge', 'squared_hinge'],\n",
    "    'model__estimator__average': [False, True],\n",
    "    'model__estimator__fit_intercept': [True, False],\n",
    "    'model__estimator__shuffle': [True, False],\n",
    "    'model__estimator__class_weight': [None, 'balanced'],\n",
    "}\n",
    "model_params_num = {\n",
    "    'model__estimator__C': lambda trial: trial.suggest_float('model__estimator__C', 0.01, 100.0, log=True),\n",
    "    'model__estimator__max_iter': lambda trial: trial.suggest_int('model__estimator__max_iter', 800, 2000, step=100),\n",
    "    'model__estimator__tol': lambda trial: trial.suggest_float('model__estimator__tol', 1e-5, 1e-1, log=True),\n",
    "    'model__estimator__early_stopping': lambda trial: trial.suggest_categorical('model__estimator__early_stopping', [True, False]),\n",
    "    'model__estimator__validation_fraction': lambda trial: trial.suggest_float('model__estimator__validation_fraction', 0.05, 0.5),\n",
    "    'model__n_features_to_select': lambda trial: trial.suggest_int('model__n_features_to_select', 250, 512),\n",
    "    'model__step': lambda trial: trial.suggest_int('model__step', 1, 5),\n",
    "}"
   ]
  },
  {
   "cell_type": "code",
   "execution_count": 44,
   "metadata": {},
   "outputs": [],
   "source": [
    "study_palogreg_bert = get_trained_optuna_study('palogreg_bert', restudy=False, direction='maximize')"
   ]
  },
  {
   "cell_type": "code",
   "execution_count": 45,
   "metadata": {},
   "outputs": [
    {
     "name": "stdout",
     "output_type": "stream",
     "text": [
      "Best cross-val f1: 0.927\n"
     ]
    },
    {
     "data": {
      "text/html": [
       "<style>#sk-container-id-4 {color: black;background-color: white;}#sk-container-id-4 pre{padding: 0;}#sk-container-id-4 div.sk-toggleable {background-color: white;}#sk-container-id-4 label.sk-toggleable__label {cursor: pointer;display: block;width: 100%;margin-bottom: 0;padding: 0.3em;box-sizing: border-box;text-align: center;}#sk-container-id-4 label.sk-toggleable__label-arrow:before {content: \"▸\";float: left;margin-right: 0.25em;color: #696969;}#sk-container-id-4 label.sk-toggleable__label-arrow:hover:before {color: black;}#sk-container-id-4 div.sk-estimator:hover label.sk-toggleable__label-arrow:before {color: black;}#sk-container-id-4 div.sk-toggleable__content {max-height: 0;max-width: 0;overflow: hidden;text-align: left;background-color: #f0f8ff;}#sk-container-id-4 div.sk-toggleable__content pre {margin: 0.2em;color: black;border-radius: 0.25em;background-color: #f0f8ff;}#sk-container-id-4 input.sk-toggleable__control:checked~div.sk-toggleable__content {max-height: 200px;max-width: 100%;overflow: auto;}#sk-container-id-4 input.sk-toggleable__control:checked~label.sk-toggleable__label-arrow:before {content: \"▾\";}#sk-container-id-4 div.sk-estimator input.sk-toggleable__control:checked~label.sk-toggleable__label {background-color: #d4ebff;}#sk-container-id-4 div.sk-label input.sk-toggleable__control:checked~label.sk-toggleable__label {background-color: #d4ebff;}#sk-container-id-4 input.sk-hidden--visually {border: 0;clip: rect(1px 1px 1px 1px);clip: rect(1px, 1px, 1px, 1px);height: 1px;margin: -1px;overflow: hidden;padding: 0;position: absolute;width: 1px;}#sk-container-id-4 div.sk-estimator {font-family: monospace;background-color: #f0f8ff;border: 1px dotted black;border-radius: 0.25em;box-sizing: border-box;margin-bottom: 0.5em;}#sk-container-id-4 div.sk-estimator:hover {background-color: #d4ebff;}#sk-container-id-4 div.sk-parallel-item::after {content: \"\";width: 100%;border-bottom: 1px solid gray;flex-grow: 1;}#sk-container-id-4 div.sk-label:hover label.sk-toggleable__label {background-color: #d4ebff;}#sk-container-id-4 div.sk-serial::before {content: \"\";position: absolute;border-left: 1px solid gray;box-sizing: border-box;top: 0;bottom: 0;left: 50%;z-index: 0;}#sk-container-id-4 div.sk-serial {display: flex;flex-direction: column;align-items: center;background-color: white;padding-right: 0.2em;padding-left: 0.2em;position: relative;}#sk-container-id-4 div.sk-item {position: relative;z-index: 1;}#sk-container-id-4 div.sk-parallel {display: flex;align-items: stretch;justify-content: center;background-color: white;position: relative;}#sk-container-id-4 div.sk-item::before, #sk-container-id-4 div.sk-parallel-item::before {content: \"\";position: absolute;border-left: 1px solid gray;box-sizing: border-box;top: 0;bottom: 0;left: 50%;z-index: -1;}#sk-container-id-4 div.sk-parallel-item {display: flex;flex-direction: column;z-index: 1;position: relative;background-color: white;}#sk-container-id-4 div.sk-parallel-item:first-child::after {align-self: flex-end;width: 50%;}#sk-container-id-4 div.sk-parallel-item:last-child::after {align-self: flex-start;width: 50%;}#sk-container-id-4 div.sk-parallel-item:only-child::after {width: 0;}#sk-container-id-4 div.sk-dashed-wrapped {border: 1px dashed gray;margin: 0 0.4em 0.5em 0.4em;box-sizing: border-box;padding-bottom: 0.4em;background-color: white;}#sk-container-id-4 div.sk-label label {font-family: monospace;font-weight: bold;display: inline-block;line-height: 1.2em;}#sk-container-id-4 div.sk-label-container {text-align: center;}#sk-container-id-4 div.sk-container {/* jupyter's `normalize.less` sets `[hidden] { display: none; }` but bootstrap.min.css set `[hidden] { display: none !important; }` so we also need the `!important` here to be able to override the default hidden behavior on the sphinx rendered scikit-learn.org. See: https://github.com/scikit-learn/scikit-learn/issues/21755 */display: inline-block !important;position: relative;}#sk-container-id-4 div.sk-text-repr-fallback {display: none;}</style><div id=\"sk-container-id-4\" class=\"sk-top-container\"><div class=\"sk-text-repr-fallback\"><pre>Pipeline(steps=[(&#x27;model&#x27;,\n",
       "                 RFE(estimator=PassiveAggressiveClassifier(C=1.117820920069873,\n",
       "                                                           average=True,\n",
       "                                                           n_jobs=12,\n",
       "                                                           random_state=42,\n",
       "                                                           shuffle=False,\n",
       "                                                           tol=0.0038079493367685594,\n",
       "                                                           validation_fraction=0.22403090583524182),\n",
       "                     n_features_to_select=496))])</pre><b>In a Jupyter environment, please rerun this cell to show the HTML representation or trust the notebook. <br />On GitHub, the HTML representation is unable to render, please try loading this page with nbviewer.org.</b></div><div class=\"sk-container\" hidden><div class=\"sk-item sk-dashed-wrapped\"><div class=\"sk-label-container\"><div class=\"sk-label sk-toggleable\"><input class=\"sk-toggleable__control sk-hidden--visually\" id=\"sk-estimator-id-16\" type=\"checkbox\" ><label for=\"sk-estimator-id-16\" class=\"sk-toggleable__label sk-toggleable__label-arrow\">Pipeline</label><div class=\"sk-toggleable__content\"><pre>Pipeline(steps=[(&#x27;model&#x27;,\n",
       "                 RFE(estimator=PassiveAggressiveClassifier(C=1.117820920069873,\n",
       "                                                           average=True,\n",
       "                                                           n_jobs=12,\n",
       "                                                           random_state=42,\n",
       "                                                           shuffle=False,\n",
       "                                                           tol=0.0038079493367685594,\n",
       "                                                           validation_fraction=0.22403090583524182),\n",
       "                     n_features_to_select=496))])</pre></div></div></div><div class=\"sk-serial\"><div class=\"sk-item sk-dashed-wrapped\"><div class=\"sk-label-container\"><div class=\"sk-label sk-toggleable\"><input class=\"sk-toggleable__control sk-hidden--visually\" id=\"sk-estimator-id-17\" type=\"checkbox\" ><label for=\"sk-estimator-id-17\" class=\"sk-toggleable__label sk-toggleable__label-arrow\">model: RFE</label><div class=\"sk-toggleable__content\"><pre>RFE(estimator=PassiveAggressiveClassifier(C=1.117820920069873, average=True,\n",
       "                                          n_jobs=12, random_state=42,\n",
       "                                          shuffle=False,\n",
       "                                          tol=0.0038079493367685594,\n",
       "                                          validation_fraction=0.22403090583524182),\n",
       "    n_features_to_select=496)</pre></div></div></div><div class=\"sk-parallel\"><div class=\"sk-parallel-item\"><div class=\"sk-item\"><div class=\"sk-label-container\"><div class=\"sk-label sk-toggleable\"><input class=\"sk-toggleable__control sk-hidden--visually\" id=\"sk-estimator-id-18\" type=\"checkbox\" ><label for=\"sk-estimator-id-18\" class=\"sk-toggleable__label sk-toggleable__label-arrow\">estimator: PassiveAggressiveClassifier</label><div class=\"sk-toggleable__content\"><pre>PassiveAggressiveClassifier(C=1.117820920069873, average=True, n_jobs=12,\n",
       "                            random_state=42, shuffle=False,\n",
       "                            tol=0.0038079493367685594,\n",
       "                            validation_fraction=0.22403090583524182)</pre></div></div></div><div class=\"sk-serial\"><div class=\"sk-item\"><div class=\"sk-estimator sk-toggleable\"><input class=\"sk-toggleable__control sk-hidden--visually\" id=\"sk-estimator-id-19\" type=\"checkbox\" ><label for=\"sk-estimator-id-19\" class=\"sk-toggleable__label sk-toggleable__label-arrow\">PassiveAggressiveClassifier</label><div class=\"sk-toggleable__content\"><pre>PassiveAggressiveClassifier(C=1.117820920069873, average=True, n_jobs=12,\n",
       "                            random_state=42, shuffle=False,\n",
       "                            tol=0.0038079493367685594,\n",
       "                            validation_fraction=0.22403090583524182)</pre></div></div></div></div></div></div></div></div></div></div></div></div>"
      ],
      "text/plain": [
       "Pipeline(steps=[('model',\n",
       "                 RFE(estimator=PassiveAggressiveClassifier(C=1.117820920069873,\n",
       "                                                           average=True,\n",
       "                                                           n_jobs=12,\n",
       "                                                           random_state=42,\n",
       "                                                           shuffle=False,\n",
       "                                                           tol=0.0038079493367685594,\n",
       "                                                           validation_fraction=0.22403090583524182),\n",
       "                     n_features_to_select=496))])"
      ]
     },
     "execution_count": 45,
     "metadata": {},
     "output_type": "execute_result"
    }
   ],
   "source": [
    "print(f'Best cross-val f1: {study_palogreg_bert.best_value:.3f}')\n",
    "best_params_palogreg_bert = get_named_params(study_palogreg_bert.best_params)\n",
    "dataset_palogreg_bert = X_train, y_train, X_val, y_val, X_test, y_test\n",
    "palogreg_bert = pipeline.set_params(**best_params_palogreg_bert)\n",
    "palogreg_bert"
   ]
  },
  {
   "cell_type": "code",
   "execution_count": 46,
   "metadata": {},
   "outputs": [
    {
     "data": {
      "application/vnd.plotly.v1+json": {
       "config": {
        "plotlyServerURL": "https://plot.ly"
       },
       "data": [
        {
         "cliponaxis": false,
         "hovertemplate": [
          "model__estimator__tol (FloatDistribution): 0.0009721472713364206<extra></extra>",
          "model__step (IntDistribution): 0.0017290461121393563<extra></extra>",
          "model__estimator__fit_intercept (CategoricalDistribution): 0.0026532499632825417<extra></extra>",
          "model__estimator__loss (CategoricalDistribution): 0.0039002674384148676<extra></extra>",
          "model__estimator__validation_fraction (FloatDistribution): 0.0041801098884411666<extra></extra>",
          "model__estimator__shuffle (CategoricalDistribution): 0.004218828680126861<extra></extra>",
          "model__n_features_to_select (IntDistribution): 0.004436315547112865<extra></extra>",
          "model__estimator__max_iter (IntDistribution): 0.00742383011704771<extra></extra>",
          "model__estimator__C (FloatDistribution): 0.009948537206813247<extra></extra>",
          "model__estimator__early_stopping (CategoricalDistribution): 0.05069517855834488<extra></extra>",
          "model__estimator__average (CategoricalDistribution): 0.14150097728428251<extra></extra>",
          "model__estimator__class_weight (CategoricalDistribution): 0.7683415119326574<extra></extra>"
         ],
         "name": "Objective Value",
         "orientation": "h",
         "text": [
          "<0.01",
          "<0.01",
          "<0.01",
          "<0.01",
          "<0.01",
          "<0.01",
          "<0.01",
          "<0.01",
          "<0.01",
          "0.05",
          "0.14",
          "0.77"
         ],
         "textposition": "outside",
         "type": "bar",
         "x": [
          0.0009721472713364206,
          0.0017290461121393563,
          0.0026532499632825417,
          0.0039002674384148676,
          0.0041801098884411666,
          0.004218828680126861,
          0.004436315547112865,
          0.00742383011704771,
          0.009948537206813247,
          0.05069517855834488,
          0.14150097728428251,
          0.7683415119326574
         ],
         "y": [
          "model__estimator__tol",
          "model__step",
          "model__estimator__fit_intercept",
          "model__estimator__loss",
          "model__estimator__validation_fraction",
          "model__estimator__shuffle",
          "model__n_features_to_select",
          "model__estimator__max_iter",
          "model__estimator__C",
          "model__estimator__early_stopping",
          "model__estimator__average",
          "model__estimator__class_weight"
         ]
        }
       ],
       "layout": {
        "height": 500,
        "template": {
         "data": {
          "bar": [
           {
            "error_x": {
             "color": "#2a3f5f"
            },
            "error_y": {
             "color": "#2a3f5f"
            },
            "marker": {
             "line": {
              "color": "#E5ECF6",
              "width": 0.5
             },
             "pattern": {
              "fillmode": "overlay",
              "size": 10,
              "solidity": 0.2
             }
            },
            "type": "bar"
           }
          ],
          "barpolar": [
           {
            "marker": {
             "line": {
              "color": "#E5ECF6",
              "width": 0.5
             },
             "pattern": {
              "fillmode": "overlay",
              "size": 10,
              "solidity": 0.2
             }
            },
            "type": "barpolar"
           }
          ],
          "carpet": [
           {
            "aaxis": {
             "endlinecolor": "#2a3f5f",
             "gridcolor": "white",
             "linecolor": "white",
             "minorgridcolor": "white",
             "startlinecolor": "#2a3f5f"
            },
            "baxis": {
             "endlinecolor": "#2a3f5f",
             "gridcolor": "white",
             "linecolor": "white",
             "minorgridcolor": "white",
             "startlinecolor": "#2a3f5f"
            },
            "type": "carpet"
           }
          ],
          "choropleth": [
           {
            "colorbar": {
             "outlinewidth": 0,
             "ticks": ""
            },
            "type": "choropleth"
           }
          ],
          "contour": [
           {
            "colorbar": {
             "outlinewidth": 0,
             "ticks": ""
            },
            "colorscale": [
             [
              0,
              "#0d0887"
             ],
             [
              0.1111111111111111,
              "#46039f"
             ],
             [
              0.2222222222222222,
              "#7201a8"
             ],
             [
              0.3333333333333333,
              "#9c179e"
             ],
             [
              0.4444444444444444,
              "#bd3786"
             ],
             [
              0.5555555555555556,
              "#d8576b"
             ],
             [
              0.6666666666666666,
              "#ed7953"
             ],
             [
              0.7777777777777778,
              "#fb9f3a"
             ],
             [
              0.8888888888888888,
              "#fdca26"
             ],
             [
              1,
              "#f0f921"
             ]
            ],
            "type": "contour"
           }
          ],
          "contourcarpet": [
           {
            "colorbar": {
             "outlinewidth": 0,
             "ticks": ""
            },
            "type": "contourcarpet"
           }
          ],
          "heatmap": [
           {
            "colorbar": {
             "outlinewidth": 0,
             "ticks": ""
            },
            "colorscale": [
             [
              0,
              "#0d0887"
             ],
             [
              0.1111111111111111,
              "#46039f"
             ],
             [
              0.2222222222222222,
              "#7201a8"
             ],
             [
              0.3333333333333333,
              "#9c179e"
             ],
             [
              0.4444444444444444,
              "#bd3786"
             ],
             [
              0.5555555555555556,
              "#d8576b"
             ],
             [
              0.6666666666666666,
              "#ed7953"
             ],
             [
              0.7777777777777778,
              "#fb9f3a"
             ],
             [
              0.8888888888888888,
              "#fdca26"
             ],
             [
              1,
              "#f0f921"
             ]
            ],
            "type": "heatmap"
           }
          ],
          "histogram": [
           {
            "marker": {
             "pattern": {
              "fillmode": "overlay",
              "size": 10,
              "solidity": 0.2
             }
            },
            "type": "histogram"
           }
          ],
          "histogram2d": [
           {
            "colorbar": {
             "outlinewidth": 0,
             "ticks": ""
            },
            "colorscale": [
             [
              0,
              "#0d0887"
             ],
             [
              0.1111111111111111,
              "#46039f"
             ],
             [
              0.2222222222222222,
              "#7201a8"
             ],
             [
              0.3333333333333333,
              "#9c179e"
             ],
             [
              0.4444444444444444,
              "#bd3786"
             ],
             [
              0.5555555555555556,
              "#d8576b"
             ],
             [
              0.6666666666666666,
              "#ed7953"
             ],
             [
              0.7777777777777778,
              "#fb9f3a"
             ],
             [
              0.8888888888888888,
              "#fdca26"
             ],
             [
              1,
              "#f0f921"
             ]
            ],
            "type": "histogram2d"
           }
          ],
          "histogram2dcontour": [
           {
            "colorbar": {
             "outlinewidth": 0,
             "ticks": ""
            },
            "colorscale": [
             [
              0,
              "#0d0887"
             ],
             [
              0.1111111111111111,
              "#46039f"
             ],
             [
              0.2222222222222222,
              "#7201a8"
             ],
             [
              0.3333333333333333,
              "#9c179e"
             ],
             [
              0.4444444444444444,
              "#bd3786"
             ],
             [
              0.5555555555555556,
              "#d8576b"
             ],
             [
              0.6666666666666666,
              "#ed7953"
             ],
             [
              0.7777777777777778,
              "#fb9f3a"
             ],
             [
              0.8888888888888888,
              "#fdca26"
             ],
             [
              1,
              "#f0f921"
             ]
            ],
            "type": "histogram2dcontour"
           }
          ],
          "mesh3d": [
           {
            "colorbar": {
             "outlinewidth": 0,
             "ticks": ""
            },
            "type": "mesh3d"
           }
          ],
          "parcoords": [
           {
            "line": {
             "colorbar": {
              "outlinewidth": 0,
              "ticks": ""
             }
            },
            "type": "parcoords"
           }
          ],
          "pie": [
           {
            "automargin": true,
            "type": "pie"
           }
          ],
          "scatter": [
           {
            "fillpattern": {
             "fillmode": "overlay",
             "size": 10,
             "solidity": 0.2
            },
            "type": "scatter"
           }
          ],
          "scatter3d": [
           {
            "line": {
             "colorbar": {
              "outlinewidth": 0,
              "ticks": ""
             }
            },
            "marker": {
             "colorbar": {
              "outlinewidth": 0,
              "ticks": ""
             }
            },
            "type": "scatter3d"
           }
          ],
          "scattercarpet": [
           {
            "marker": {
             "colorbar": {
              "outlinewidth": 0,
              "ticks": ""
             }
            },
            "type": "scattercarpet"
           }
          ],
          "scattergeo": [
           {
            "marker": {
             "colorbar": {
              "outlinewidth": 0,
              "ticks": ""
             }
            },
            "type": "scattergeo"
           }
          ],
          "scattergl": [
           {
            "marker": {
             "colorbar": {
              "outlinewidth": 0,
              "ticks": ""
             }
            },
            "type": "scattergl"
           }
          ],
          "scattermap": [
           {
            "marker": {
             "colorbar": {
              "outlinewidth": 0,
              "ticks": ""
             }
            },
            "type": "scattermap"
           }
          ],
          "scattermapbox": [
           {
            "marker": {
             "colorbar": {
              "outlinewidth": 0,
              "ticks": ""
             }
            },
            "type": "scattermapbox"
           }
          ],
          "scatterpolar": [
           {
            "marker": {
             "colorbar": {
              "outlinewidth": 0,
              "ticks": ""
             }
            },
            "type": "scatterpolar"
           }
          ],
          "scatterpolargl": [
           {
            "marker": {
             "colorbar": {
              "outlinewidth": 0,
              "ticks": ""
             }
            },
            "type": "scatterpolargl"
           }
          ],
          "scatterternary": [
           {
            "marker": {
             "colorbar": {
              "outlinewidth": 0,
              "ticks": ""
             }
            },
            "type": "scatterternary"
           }
          ],
          "surface": [
           {
            "colorbar": {
             "outlinewidth": 0,
             "ticks": ""
            },
            "colorscale": [
             [
              0,
              "#0d0887"
             ],
             [
              0.1111111111111111,
              "#46039f"
             ],
             [
              0.2222222222222222,
              "#7201a8"
             ],
             [
              0.3333333333333333,
              "#9c179e"
             ],
             [
              0.4444444444444444,
              "#bd3786"
             ],
             [
              0.5555555555555556,
              "#d8576b"
             ],
             [
              0.6666666666666666,
              "#ed7953"
             ],
             [
              0.7777777777777778,
              "#fb9f3a"
             ],
             [
              0.8888888888888888,
              "#fdca26"
             ],
             [
              1,
              "#f0f921"
             ]
            ],
            "type": "surface"
           }
          ],
          "table": [
           {
            "cells": {
             "fill": {
              "color": "#EBF0F8"
             },
             "line": {
              "color": "white"
             }
            },
            "header": {
             "fill": {
              "color": "#C8D4E3"
             },
             "line": {
              "color": "white"
             }
            },
            "type": "table"
           }
          ]
         },
         "layout": {
          "annotationdefaults": {
           "arrowcolor": "#2a3f5f",
           "arrowhead": 0,
           "arrowwidth": 1
          },
          "autotypenumbers": "strict",
          "coloraxis": {
           "colorbar": {
            "outlinewidth": 0,
            "ticks": ""
           }
          },
          "colorscale": {
           "diverging": [
            [
             0,
             "#8e0152"
            ],
            [
             0.1,
             "#c51b7d"
            ],
            [
             0.2,
             "#de77ae"
            ],
            [
             0.3,
             "#f1b6da"
            ],
            [
             0.4,
             "#fde0ef"
            ],
            [
             0.5,
             "#f7f7f7"
            ],
            [
             0.6,
             "#e6f5d0"
            ],
            [
             0.7,
             "#b8e186"
            ],
            [
             0.8,
             "#7fbc41"
            ],
            [
             0.9,
             "#4d9221"
            ],
            [
             1,
             "#276419"
            ]
           ],
           "sequential": [
            [
             0,
             "#0d0887"
            ],
            [
             0.1111111111111111,
             "#46039f"
            ],
            [
             0.2222222222222222,
             "#7201a8"
            ],
            [
             0.3333333333333333,
             "#9c179e"
            ],
            [
             0.4444444444444444,
             "#bd3786"
            ],
            [
             0.5555555555555556,
             "#d8576b"
            ],
            [
             0.6666666666666666,
             "#ed7953"
            ],
            [
             0.7777777777777778,
             "#fb9f3a"
            ],
            [
             0.8888888888888888,
             "#fdca26"
            ],
            [
             1,
             "#f0f921"
            ]
           ],
           "sequentialminus": [
            [
             0,
             "#0d0887"
            ],
            [
             0.1111111111111111,
             "#46039f"
            ],
            [
             0.2222222222222222,
             "#7201a8"
            ],
            [
             0.3333333333333333,
             "#9c179e"
            ],
            [
             0.4444444444444444,
             "#bd3786"
            ],
            [
             0.5555555555555556,
             "#d8576b"
            ],
            [
             0.6666666666666666,
             "#ed7953"
            ],
            [
             0.7777777777777778,
             "#fb9f3a"
            ],
            [
             0.8888888888888888,
             "#fdca26"
            ],
            [
             1,
             "#f0f921"
            ]
           ]
          },
          "colorway": [
           "#636efa",
           "#EF553B",
           "#00cc96",
           "#ab63fa",
           "#FFA15A",
           "#19d3f3",
           "#FF6692",
           "#B6E880",
           "#FF97FF",
           "#FECB52"
          ],
          "font": {
           "color": "#2a3f5f"
          },
          "geo": {
           "bgcolor": "white",
           "lakecolor": "white",
           "landcolor": "#E5ECF6",
           "showlakes": true,
           "showland": true,
           "subunitcolor": "white"
          },
          "hoverlabel": {
           "align": "left"
          },
          "hovermode": "closest",
          "mapbox": {
           "style": "light"
          },
          "paper_bgcolor": "white",
          "plot_bgcolor": "#E5ECF6",
          "polar": {
           "angularaxis": {
            "gridcolor": "white",
            "linecolor": "white",
            "ticks": ""
           },
           "bgcolor": "#E5ECF6",
           "radialaxis": {
            "gridcolor": "white",
            "linecolor": "white",
            "ticks": ""
           }
          },
          "scene": {
           "xaxis": {
            "backgroundcolor": "#E5ECF6",
            "gridcolor": "white",
            "gridwidth": 2,
            "linecolor": "white",
            "showbackground": true,
            "ticks": "",
            "zerolinecolor": "white"
           },
           "yaxis": {
            "backgroundcolor": "#E5ECF6",
            "gridcolor": "white",
            "gridwidth": 2,
            "linecolor": "white",
            "showbackground": true,
            "ticks": "",
            "zerolinecolor": "white"
           },
           "zaxis": {
            "backgroundcolor": "#E5ECF6",
            "gridcolor": "white",
            "gridwidth": 2,
            "linecolor": "white",
            "showbackground": true,
            "ticks": "",
            "zerolinecolor": "white"
           }
          },
          "shapedefaults": {
           "line": {
            "color": "#2a3f5f"
           }
          },
          "ternary": {
           "aaxis": {
            "gridcolor": "white",
            "linecolor": "white",
            "ticks": ""
           },
           "baxis": {
            "gridcolor": "white",
            "linecolor": "white",
            "ticks": ""
           },
           "bgcolor": "#E5ECF6",
           "caxis": {
            "gridcolor": "white",
            "linecolor": "white",
            "ticks": ""
           }
          },
          "title": {
           "x": 0.05
          },
          "xaxis": {
           "automargin": true,
           "gridcolor": "white",
           "linecolor": "white",
           "ticks": "",
           "title": {
            "standoff": 15
           },
           "zerolinecolor": "white",
           "zerolinewidth": 2
          },
          "yaxis": {
           "automargin": true,
           "gridcolor": "white",
           "linecolor": "white",
           "ticks": "",
           "title": {
            "standoff": 15
           },
           "zerolinecolor": "white",
           "zerolinewidth": 2
          }
         }
        },
        "title": {
         "text": "Hyperparameter Importances"
        },
        "width": 800,
        "xaxis": {
         "title": {
          "text": "Hyperparameter Importance"
         }
        },
        "yaxis": {
         "title": {
          "text": "Hyperparameter"
         }
        }
       }
      }
     },
     "metadata": {},
     "output_type": "display_data"
    },
    {
     "data": {
      "application/vnd.plotly.v1+json": {
       "config": {
        "plotlyServerURL": "https://plot.ly"
       },
       "data": [
        {
         "legendgroup": "0",
         "legendgrouptitle": {
          "text": "PassiveAggressiveClassifier+Bert"
         },
         "marker": {
          "color": "#FF6692",
          "opacity": 0.5,
          "size": 10
         },
         "mode": "markers",
         "name": "PassiveAggressiveClassifier+Bert",
         "type": "scatter",
         "x": {
          "bdata": "/dzQlJ2OJEBw6ZjzjE0lQEONQpJZTSZAOq5GdqWVKkBZwtoYO1krQEj6tIr+YCtAdt8xPPajLEAS2nIuxQUuQMKGp1fKWi9AUrmJWppXMEB0stR6v50xQJHRAUnY+zFA7IfYYOGAMkBaZDvfT6EyQLIv2Xiw+TJAO4kI/yJkM0C4PxcNGes0QDY9KChFCzVApYXLKmxqNUCXjGMke/w3QJepSfCGMDhABhGpaRcXOkCu2F92T/I7QJPEknL3ATxAn1bRH5p5PEAbuW5KeYU8QO4HPDCAJD1Aa2EW2jllPUDcErngDGY+QA8pBkg0hT5AGD+Ne/PHPkAiiPNwAgs/QPT+P06YdD9AI4JxcOmAP0D2CDVDqsg/QIUJo1nZ0j9AJ0pCIm0JQEDd0f9yLQxAQEK0VrQ5LkBAdELooEuAQEAn3gGetMhAQARWDi2y2UBAXOhKBKr/QEDwF7Mlqx5BQKN5AIv8bkFABtodUgy4QUBXe9gLBS5CQP2C3bBtI0NA5pSAmISNQ0CBXOLIA59DQO/GgsKgqkNAQbYsX5drREDtEP+wpSNGQFovhnKiF0dAlMFR8uqISUB4eqUsQxxKQI+pu7ILVEpAgxQ8hVy/SkAST3Yzo91KQIicvp6vi0tAyhmKO966S0AbvK/KhexLQEiJXdvb9UxA0EICRpcbTUBgBfhu86pNQCB8KNGSvU1A8dk6ONixTkCrr64K1LxOQKhzRSkh6k5APDJWm//3TkAzGCMShTJPQFVntcAeAlBAtrsH6L4tUECH26FhMT1QQBfxnZj1V1BA/Io1XOS9UEA90XXhBwxRQKTfvg6cGlFAMepae58gUUAqN1FLcyhRQEW3XtODVlFAnRA66BK7UUBuwOeHESFSQEoLl1XYU1JACVBTy9Z0UkCd2hmmtqBSQKoLeJlhyFJAbeS6KeUuU0C/0vnwLKxUQOzBpPj4J1VAxhnDnKCCVUCyDdyBOqdVQLa8cr1tZlZALCtNSkGSVkALs9DOaXlYQFRx4xZzn2BApwNZTy3WY0CM9nghnTNoQEIHXcKhu5FANq0UAtkElkA=",
          "dtype": "f8"
         },
         "y": {
          "bdata": "aV/al/al7T9pX9qX9qXtP8hCFrKQhew/InbVaSVi5z9pX9qX9qXtP2lf2pf2pe0/wNm1BgSc7T9pX9qX9qXtP8DZtQYEnO0/wNm1BgSc7T9pX9qX9qXtP2lf2pf2pe0/aV/al/al7T9pX9qX9qXtP5dzbNEYJ+0/5ApicgUx7T/AzPXUiJLnP5ktajW+/Ow/CFgdX8qY7T+ljXdUs/7sP7hwqu0yHe0/A869hY537T+CCtseByntP2lf2pf2pe0/nh/Tw8BZ6D9pX9qX9qXtP8DZtQYEnO0/aV/al/al7T9pX9qX9qXtP2lf2pf2pe0/0V5Cewnt6z8IWB1fypjtP2lf2pf2pe0/wNm1BgSc7T9kB9lBdpDtP2lf2pf2pe0/wNm1BgSc7T/A2bUGBJztP5XXUF5Dee0/hK91lIWB7T8IWB1fypjtPwrQ71Br5+o/CFgdX8qY7T/a4yogGJLtP2lf2pf2pe0/hK91lIWB7T/A2bUGBJztP4vpLKazmOo/pkRB4+Br7T+326g6IWrtP9rjKiAYku0/CFgdX8qY7T9L8UeyV67oP5XXUF5Dee0/aV/al/al7T9pX9qX9qXtP2lf2pf2pe0/TtM0TdM07T9pX9qX9qXtP2lf2pf2pe0/aV/al/al7T+E+oGtlonsP2lf2pf2pe0/aV/al/al7T9pX9qX9qXtP2lf2pf2pe0/aV/al/al7T9pX9qX9qXtP8DZtQYEnO0/aV/al/al7T9pX9qX9qXtP7hwqu0yHe0/wNm1BgSc7T/A2bUGBJztP9rjKiAYku0/wFbLRC4o7D9pX9qX9qXtP9rjKiAYku0/OlYgjLRj7T/A2bUGBJztP2lf2pf2pe0/aV/al/al7T9i1OWJH0btP2lf2pf2pe0/adiB54qG7T/A2bUGBJztP9KhBrszGe0/aV/al/al7T+mREHj4GvtP8DZtQYEnO0/ZAfZQXaQ7T8eVgC34ITtP2QH2UF2kO0/HlYAt+CE7T/I2QwyPFbtP4T6ga2Wiew/E6pA120E6z84DCkNtqvsP90i3SLdIu0/fiM8ezvB7D8=",
          "dtype": "f8"
         }
        },
        {
         "legendgroup": "0",
         "marker": {
          "color": "#FF6692",
          "line": {
           "color": "black",
           "width": 2
          },
          "size": 10
         },
         "mode": "markers",
         "name": "Лучшее: PassiveAggressiveClassifier+Bert",
         "showlegend": false,
         "type": "scatter",
         "x": [
          10.278546
         ],
         "y": [
          0.926509186351706
         ]
        }
       ],
       "layout": {
        "height": 500,
        "showlegend": true,
        "template": {
         "data": {
          "bar": [
           {
            "error_x": {
             "color": "#2a3f5f"
            },
            "error_y": {
             "color": "#2a3f5f"
            },
            "marker": {
             "line": {
              "color": "white",
              "width": 0.5
             },
             "pattern": {
              "fillmode": "overlay",
              "size": 10,
              "solidity": 0.2
             }
            },
            "type": "bar"
           }
          ],
          "barpolar": [
           {
            "marker": {
             "line": {
              "color": "white",
              "width": 0.5
             },
             "pattern": {
              "fillmode": "overlay",
              "size": 10,
              "solidity": 0.2
             }
            },
            "type": "barpolar"
           }
          ],
          "carpet": [
           {
            "aaxis": {
             "endlinecolor": "#2a3f5f",
             "gridcolor": "#C8D4E3",
             "linecolor": "#C8D4E3",
             "minorgridcolor": "#C8D4E3",
             "startlinecolor": "#2a3f5f"
            },
            "baxis": {
             "endlinecolor": "#2a3f5f",
             "gridcolor": "#C8D4E3",
             "linecolor": "#C8D4E3",
             "minorgridcolor": "#C8D4E3",
             "startlinecolor": "#2a3f5f"
            },
            "type": "carpet"
           }
          ],
          "choropleth": [
           {
            "colorbar": {
             "outlinewidth": 0,
             "ticks": ""
            },
            "type": "choropleth"
           }
          ],
          "contour": [
           {
            "colorbar": {
             "outlinewidth": 0,
             "ticks": ""
            },
            "colorscale": [
             [
              0,
              "#0d0887"
             ],
             [
              0.1111111111111111,
              "#46039f"
             ],
             [
              0.2222222222222222,
              "#7201a8"
             ],
             [
              0.3333333333333333,
              "#9c179e"
             ],
             [
              0.4444444444444444,
              "#bd3786"
             ],
             [
              0.5555555555555556,
              "#d8576b"
             ],
             [
              0.6666666666666666,
              "#ed7953"
             ],
             [
              0.7777777777777778,
              "#fb9f3a"
             ],
             [
              0.8888888888888888,
              "#fdca26"
             ],
             [
              1,
              "#f0f921"
             ]
            ],
            "type": "contour"
           }
          ],
          "contourcarpet": [
           {
            "colorbar": {
             "outlinewidth": 0,
             "ticks": ""
            },
            "type": "contourcarpet"
           }
          ],
          "heatmap": [
           {
            "colorbar": {
             "outlinewidth": 0,
             "ticks": ""
            },
            "colorscale": [
             [
              0,
              "#0d0887"
             ],
             [
              0.1111111111111111,
              "#46039f"
             ],
             [
              0.2222222222222222,
              "#7201a8"
             ],
             [
              0.3333333333333333,
              "#9c179e"
             ],
             [
              0.4444444444444444,
              "#bd3786"
             ],
             [
              0.5555555555555556,
              "#d8576b"
             ],
             [
              0.6666666666666666,
              "#ed7953"
             ],
             [
              0.7777777777777778,
              "#fb9f3a"
             ],
             [
              0.8888888888888888,
              "#fdca26"
             ],
             [
              1,
              "#f0f921"
             ]
            ],
            "type": "heatmap"
           }
          ],
          "histogram": [
           {
            "marker": {
             "pattern": {
              "fillmode": "overlay",
              "size": 10,
              "solidity": 0.2
             }
            },
            "type": "histogram"
           }
          ],
          "histogram2d": [
           {
            "colorbar": {
             "outlinewidth": 0,
             "ticks": ""
            },
            "colorscale": [
             [
              0,
              "#0d0887"
             ],
             [
              0.1111111111111111,
              "#46039f"
             ],
             [
              0.2222222222222222,
              "#7201a8"
             ],
             [
              0.3333333333333333,
              "#9c179e"
             ],
             [
              0.4444444444444444,
              "#bd3786"
             ],
             [
              0.5555555555555556,
              "#d8576b"
             ],
             [
              0.6666666666666666,
              "#ed7953"
             ],
             [
              0.7777777777777778,
              "#fb9f3a"
             ],
             [
              0.8888888888888888,
              "#fdca26"
             ],
             [
              1,
              "#f0f921"
             ]
            ],
            "type": "histogram2d"
           }
          ],
          "histogram2dcontour": [
           {
            "colorbar": {
             "outlinewidth": 0,
             "ticks": ""
            },
            "colorscale": [
             [
              0,
              "#0d0887"
             ],
             [
              0.1111111111111111,
              "#46039f"
             ],
             [
              0.2222222222222222,
              "#7201a8"
             ],
             [
              0.3333333333333333,
              "#9c179e"
             ],
             [
              0.4444444444444444,
              "#bd3786"
             ],
             [
              0.5555555555555556,
              "#d8576b"
             ],
             [
              0.6666666666666666,
              "#ed7953"
             ],
             [
              0.7777777777777778,
              "#fb9f3a"
             ],
             [
              0.8888888888888888,
              "#fdca26"
             ],
             [
              1,
              "#f0f921"
             ]
            ],
            "type": "histogram2dcontour"
           }
          ],
          "mesh3d": [
           {
            "colorbar": {
             "outlinewidth": 0,
             "ticks": ""
            },
            "type": "mesh3d"
           }
          ],
          "parcoords": [
           {
            "line": {
             "colorbar": {
              "outlinewidth": 0,
              "ticks": ""
             }
            },
            "type": "parcoords"
           }
          ],
          "pie": [
           {
            "automargin": true,
            "type": "pie"
           }
          ],
          "scatter": [
           {
            "fillpattern": {
             "fillmode": "overlay",
             "size": 10,
             "solidity": 0.2
            },
            "type": "scatter"
           }
          ],
          "scatter3d": [
           {
            "line": {
             "colorbar": {
              "outlinewidth": 0,
              "ticks": ""
             }
            },
            "marker": {
             "colorbar": {
              "outlinewidth": 0,
              "ticks": ""
             }
            },
            "type": "scatter3d"
           }
          ],
          "scattercarpet": [
           {
            "marker": {
             "colorbar": {
              "outlinewidth": 0,
              "ticks": ""
             }
            },
            "type": "scattercarpet"
           }
          ],
          "scattergeo": [
           {
            "marker": {
             "colorbar": {
              "outlinewidth": 0,
              "ticks": ""
             }
            },
            "type": "scattergeo"
           }
          ],
          "scattergl": [
           {
            "marker": {
             "colorbar": {
              "outlinewidth": 0,
              "ticks": ""
             }
            },
            "type": "scattergl"
           }
          ],
          "scattermap": [
           {
            "marker": {
             "colorbar": {
              "outlinewidth": 0,
              "ticks": ""
             }
            },
            "type": "scattermap"
           }
          ],
          "scattermapbox": [
           {
            "marker": {
             "colorbar": {
              "outlinewidth": 0,
              "ticks": ""
             }
            },
            "type": "scattermapbox"
           }
          ],
          "scatterpolar": [
           {
            "marker": {
             "colorbar": {
              "outlinewidth": 0,
              "ticks": ""
             }
            },
            "type": "scatterpolar"
           }
          ],
          "scatterpolargl": [
           {
            "marker": {
             "colorbar": {
              "outlinewidth": 0,
              "ticks": ""
             }
            },
            "type": "scatterpolargl"
           }
          ],
          "scatterternary": [
           {
            "marker": {
             "colorbar": {
              "outlinewidth": 0,
              "ticks": ""
             }
            },
            "type": "scatterternary"
           }
          ],
          "surface": [
           {
            "colorbar": {
             "outlinewidth": 0,
             "ticks": ""
            },
            "colorscale": [
             [
              0,
              "#0d0887"
             ],
             [
              0.1111111111111111,
              "#46039f"
             ],
             [
              0.2222222222222222,
              "#7201a8"
             ],
             [
              0.3333333333333333,
              "#9c179e"
             ],
             [
              0.4444444444444444,
              "#bd3786"
             ],
             [
              0.5555555555555556,
              "#d8576b"
             ],
             [
              0.6666666666666666,
              "#ed7953"
             ],
             [
              0.7777777777777778,
              "#fb9f3a"
             ],
             [
              0.8888888888888888,
              "#fdca26"
             ],
             [
              1,
              "#f0f921"
             ]
            ],
            "type": "surface"
           }
          ],
          "table": [
           {
            "cells": {
             "fill": {
              "color": "#EBF0F8"
             },
             "line": {
              "color": "white"
             }
            },
            "header": {
             "fill": {
              "color": "#C8D4E3"
             },
             "line": {
              "color": "white"
             }
            },
            "type": "table"
           }
          ]
         },
         "layout": {
          "annotationdefaults": {
           "arrowcolor": "#2a3f5f",
           "arrowhead": 0,
           "arrowwidth": 1
          },
          "autotypenumbers": "strict",
          "coloraxis": {
           "colorbar": {
            "outlinewidth": 0,
            "ticks": ""
           }
          },
          "colorscale": {
           "diverging": [
            [
             0,
             "#8e0152"
            ],
            [
             0.1,
             "#c51b7d"
            ],
            [
             0.2,
             "#de77ae"
            ],
            [
             0.3,
             "#f1b6da"
            ],
            [
             0.4,
             "#fde0ef"
            ],
            [
             0.5,
             "#f7f7f7"
            ],
            [
             0.6,
             "#e6f5d0"
            ],
            [
             0.7,
             "#b8e186"
            ],
            [
             0.8,
             "#7fbc41"
            ],
            [
             0.9,
             "#4d9221"
            ],
            [
             1,
             "#276419"
            ]
           ],
           "sequential": [
            [
             0,
             "#0d0887"
            ],
            [
             0.1111111111111111,
             "#46039f"
            ],
            [
             0.2222222222222222,
             "#7201a8"
            ],
            [
             0.3333333333333333,
             "#9c179e"
            ],
            [
             0.4444444444444444,
             "#bd3786"
            ],
            [
             0.5555555555555556,
             "#d8576b"
            ],
            [
             0.6666666666666666,
             "#ed7953"
            ],
            [
             0.7777777777777778,
             "#fb9f3a"
            ],
            [
             0.8888888888888888,
             "#fdca26"
            ],
            [
             1,
             "#f0f921"
            ]
           ],
           "sequentialminus": [
            [
             0,
             "#0d0887"
            ],
            [
             0.1111111111111111,
             "#46039f"
            ],
            [
             0.2222222222222222,
             "#7201a8"
            ],
            [
             0.3333333333333333,
             "#9c179e"
            ],
            [
             0.4444444444444444,
             "#bd3786"
            ],
            [
             0.5555555555555556,
             "#d8576b"
            ],
            [
             0.6666666666666666,
             "#ed7953"
            ],
            [
             0.7777777777777778,
             "#fb9f3a"
            ],
            [
             0.8888888888888888,
             "#fdca26"
            ],
            [
             1,
             "#f0f921"
            ]
           ]
          },
          "colorway": [
           "#636efa",
           "#EF553B",
           "#00cc96",
           "#ab63fa",
           "#FFA15A",
           "#19d3f3",
           "#FF6692",
           "#B6E880",
           "#FF97FF",
           "#FECB52"
          ],
          "font": {
           "color": "#2a3f5f"
          },
          "geo": {
           "bgcolor": "white",
           "lakecolor": "white",
           "landcolor": "white",
           "showlakes": true,
           "showland": true,
           "subunitcolor": "#C8D4E3"
          },
          "hoverlabel": {
           "align": "left"
          },
          "hovermode": "closest",
          "mapbox": {
           "style": "light"
          },
          "paper_bgcolor": "white",
          "plot_bgcolor": "white",
          "polar": {
           "angularaxis": {
            "gridcolor": "#EBF0F8",
            "linecolor": "#EBF0F8",
            "ticks": ""
           },
           "bgcolor": "white",
           "radialaxis": {
            "gridcolor": "#EBF0F8",
            "linecolor": "#EBF0F8",
            "ticks": ""
           }
          },
          "scene": {
           "xaxis": {
            "backgroundcolor": "white",
            "gridcolor": "#DFE8F3",
            "gridwidth": 2,
            "linecolor": "#EBF0F8",
            "showbackground": true,
            "ticks": "",
            "zerolinecolor": "#EBF0F8"
           },
           "yaxis": {
            "backgroundcolor": "white",
            "gridcolor": "#DFE8F3",
            "gridwidth": 2,
            "linecolor": "#EBF0F8",
            "showbackground": true,
            "ticks": "",
            "zerolinecolor": "#EBF0F8"
           },
           "zaxis": {
            "backgroundcolor": "white",
            "gridcolor": "#DFE8F3",
            "gridwidth": 2,
            "linecolor": "#EBF0F8",
            "showbackground": true,
            "ticks": "",
            "zerolinecolor": "#EBF0F8"
           }
          },
          "shapedefaults": {
           "line": {
            "color": "#2a3f5f"
           }
          },
          "ternary": {
           "aaxis": {
            "gridcolor": "#DFE8F3",
            "linecolor": "#A2B1C6",
            "ticks": ""
           },
           "baxis": {
            "gridcolor": "#DFE8F3",
            "linecolor": "#A2B1C6",
            "ticks": ""
           },
           "bgcolor": "white",
           "caxis": {
            "gridcolor": "#DFE8F3",
            "linecolor": "#A2B1C6",
            "ticks": ""
           }
          },
          "title": {
           "x": 0.05
          },
          "xaxis": {
           "automargin": true,
           "gridcolor": "#EBF0F8",
           "linecolor": "#EBF0F8",
           "ticks": "",
           "title": {
            "standoff": 15
           },
           "zerolinecolor": "#EBF0F8",
           "zerolinewidth": 2
          },
          "yaxis": {
           "automargin": true,
           "gridcolor": "#EBF0F8",
           "linecolor": "#EBF0F8",
           "ticks": "",
           "title": {
            "standoff": 15
           },
           "zerolinecolor": "#EBF0F8",
           "zerolinewidth": 2
          }
         }
        },
        "title": {
         "text": "F1 в зависимости от времени трейла"
        },
        "width": 800,
        "xaxis": {
         "title": {
          "text": "Время выполнения трейла (сек)"
         }
        },
        "yaxis": {
         "title": {
          "text": "F1"
         }
        }
       }
      }
     },
     "metadata": {},
     "output_type": "display_data"
    },
    {
     "data": {
      "application/vnd.plotly.v1+json": {
       "config": {
        "plotlyServerURL": "https://plot.ly"
       },
       "data": [
        {
         "legendgroup": "0",
         "legendgrouptitle": {
          "text": "PassiveAggressiveClassifier+Bert"
         },
         "marker": {
          "color": "#B6E880"
         },
         "name": "PassiveAggressiveClassifier+Bert",
         "nbinsx": 50,
         "opacity": 0.6,
         "type": "histogram",
         "x": {
          "bdata": "nh/Tw8BZ6D8idtVpJWLnPwrQ71Br5+o/yNkMMjxW7T9i1OWJH0btP4vpLKazmOo/pY13VLP+7D+mREHj4GvtP5ktajW+/Ow/aV/al/al7T8eVgC34ITtP2QH2UF2kO0/aV/al/al7T9pX9qX9qXtP34jPHs7wew/wNm1BgSc7T9pX9qX9qXtP2lf2pf2pe0/OlYgjLRj7T/A2bUGBJztP2lf2pf2pe0/aV/al/al7T/A2bUGBJztP8DZtQYEnO0/aV/al/al7T9pX9qX9qXtP4T6ga2Wiew/aV/al/al7T/A2bUGBJztP8DM9dSIkuc/adiB54qG7T9pX9qX9qXtP8DZtQYEnO0/ZAfZQXaQ7T9L8UeyV67oP2lf2pf2pe0/lddQXkN57T8TqkDXbQTrP4SvdZSFge0/uHCq7TId7T/IQhaykIXsP2lf2pf2pe0/wNm1BgSc7T9pX9qX9qXtP9rjKiAYku0/2uMqIBiS7T+Er3WUhYHtP07TNE3TNO0/CFgdX8qY7T/SoQa7MxntP2QH2UF2kO0/aV/al/al7T/A2bUGBJztP2lf2pf2pe0/wNm1BgSc7T9pX9qX9qXtPwhYHV/KmO0/0V5Cewnt6z9pX9qX9qXtP2lf2pf2pe0/5ApicgUx7T/A2bUGBJztP9rjKiAYku0/lddQXkN57T9pX9qX9qXtP6ZEQePga+0/CFgdX8qY7T/AVstELijsP2lf2pf2pe0/wNm1BgSc7T+Xc2zRGCftP8DZtQYEnO0/aV/al/al7T9pX9qX9qXtP2lf2pf2pe0/CFgdX8qY7T84DCkNtqvsPwhYHV/KmO0/3SLdIt0i7T/a4yogGJLtP7hwqu0yHe0/aV/al/al7T9pX9qX9qXtP2lf2pf2pe0/aV/al/al7T9pX9qX9qXtP7fbqDohau0/wNm1BgSc7T+E+oGtlonsP2lf2pf2pe0/aV/al/al7T9pX9qX9qXtP2lf2pf2pe0/aV/al/al7T/A2bUGBJztP2lf2pf2pe0/aV/al/al7T+CCtseByntPwPOvYWOd+0/HlYAt+CE7T8=",
          "dtype": "f8"
         }
        }
       ],
       "layout": {
        "barmode": "overlay",
        "height": 500,
        "showlegend": true,
        "template": {
         "data": {
          "bar": [
           {
            "error_x": {
             "color": "#2a3f5f"
            },
            "error_y": {
             "color": "#2a3f5f"
            },
            "marker": {
             "line": {
              "color": "white",
              "width": 0.5
             },
             "pattern": {
              "fillmode": "overlay",
              "size": 10,
              "solidity": 0.2
             }
            },
            "type": "bar"
           }
          ],
          "barpolar": [
           {
            "marker": {
             "line": {
              "color": "white",
              "width": 0.5
             },
             "pattern": {
              "fillmode": "overlay",
              "size": 10,
              "solidity": 0.2
             }
            },
            "type": "barpolar"
           }
          ],
          "carpet": [
           {
            "aaxis": {
             "endlinecolor": "#2a3f5f",
             "gridcolor": "#C8D4E3",
             "linecolor": "#C8D4E3",
             "minorgridcolor": "#C8D4E3",
             "startlinecolor": "#2a3f5f"
            },
            "baxis": {
             "endlinecolor": "#2a3f5f",
             "gridcolor": "#C8D4E3",
             "linecolor": "#C8D4E3",
             "minorgridcolor": "#C8D4E3",
             "startlinecolor": "#2a3f5f"
            },
            "type": "carpet"
           }
          ],
          "choropleth": [
           {
            "colorbar": {
             "outlinewidth": 0,
             "ticks": ""
            },
            "type": "choropleth"
           }
          ],
          "contour": [
           {
            "colorbar": {
             "outlinewidth": 0,
             "ticks": ""
            },
            "colorscale": [
             [
              0,
              "#0d0887"
             ],
             [
              0.1111111111111111,
              "#46039f"
             ],
             [
              0.2222222222222222,
              "#7201a8"
             ],
             [
              0.3333333333333333,
              "#9c179e"
             ],
             [
              0.4444444444444444,
              "#bd3786"
             ],
             [
              0.5555555555555556,
              "#d8576b"
             ],
             [
              0.6666666666666666,
              "#ed7953"
             ],
             [
              0.7777777777777778,
              "#fb9f3a"
             ],
             [
              0.8888888888888888,
              "#fdca26"
             ],
             [
              1,
              "#f0f921"
             ]
            ],
            "type": "contour"
           }
          ],
          "contourcarpet": [
           {
            "colorbar": {
             "outlinewidth": 0,
             "ticks": ""
            },
            "type": "contourcarpet"
           }
          ],
          "heatmap": [
           {
            "colorbar": {
             "outlinewidth": 0,
             "ticks": ""
            },
            "colorscale": [
             [
              0,
              "#0d0887"
             ],
             [
              0.1111111111111111,
              "#46039f"
             ],
             [
              0.2222222222222222,
              "#7201a8"
             ],
             [
              0.3333333333333333,
              "#9c179e"
             ],
             [
              0.4444444444444444,
              "#bd3786"
             ],
             [
              0.5555555555555556,
              "#d8576b"
             ],
             [
              0.6666666666666666,
              "#ed7953"
             ],
             [
              0.7777777777777778,
              "#fb9f3a"
             ],
             [
              0.8888888888888888,
              "#fdca26"
             ],
             [
              1,
              "#f0f921"
             ]
            ],
            "type": "heatmap"
           }
          ],
          "histogram": [
           {
            "marker": {
             "pattern": {
              "fillmode": "overlay",
              "size": 10,
              "solidity": 0.2
             }
            },
            "type": "histogram"
           }
          ],
          "histogram2d": [
           {
            "colorbar": {
             "outlinewidth": 0,
             "ticks": ""
            },
            "colorscale": [
             [
              0,
              "#0d0887"
             ],
             [
              0.1111111111111111,
              "#46039f"
             ],
             [
              0.2222222222222222,
              "#7201a8"
             ],
             [
              0.3333333333333333,
              "#9c179e"
             ],
             [
              0.4444444444444444,
              "#bd3786"
             ],
             [
              0.5555555555555556,
              "#d8576b"
             ],
             [
              0.6666666666666666,
              "#ed7953"
             ],
             [
              0.7777777777777778,
              "#fb9f3a"
             ],
             [
              0.8888888888888888,
              "#fdca26"
             ],
             [
              1,
              "#f0f921"
             ]
            ],
            "type": "histogram2d"
           }
          ],
          "histogram2dcontour": [
           {
            "colorbar": {
             "outlinewidth": 0,
             "ticks": ""
            },
            "colorscale": [
             [
              0,
              "#0d0887"
             ],
             [
              0.1111111111111111,
              "#46039f"
             ],
             [
              0.2222222222222222,
              "#7201a8"
             ],
             [
              0.3333333333333333,
              "#9c179e"
             ],
             [
              0.4444444444444444,
              "#bd3786"
             ],
             [
              0.5555555555555556,
              "#d8576b"
             ],
             [
              0.6666666666666666,
              "#ed7953"
             ],
             [
              0.7777777777777778,
              "#fb9f3a"
             ],
             [
              0.8888888888888888,
              "#fdca26"
             ],
             [
              1,
              "#f0f921"
             ]
            ],
            "type": "histogram2dcontour"
           }
          ],
          "mesh3d": [
           {
            "colorbar": {
             "outlinewidth": 0,
             "ticks": ""
            },
            "type": "mesh3d"
           }
          ],
          "parcoords": [
           {
            "line": {
             "colorbar": {
              "outlinewidth": 0,
              "ticks": ""
             }
            },
            "type": "parcoords"
           }
          ],
          "pie": [
           {
            "automargin": true,
            "type": "pie"
           }
          ],
          "scatter": [
           {
            "fillpattern": {
             "fillmode": "overlay",
             "size": 10,
             "solidity": 0.2
            },
            "type": "scatter"
           }
          ],
          "scatter3d": [
           {
            "line": {
             "colorbar": {
              "outlinewidth": 0,
              "ticks": ""
             }
            },
            "marker": {
             "colorbar": {
              "outlinewidth": 0,
              "ticks": ""
             }
            },
            "type": "scatter3d"
           }
          ],
          "scattercarpet": [
           {
            "marker": {
             "colorbar": {
              "outlinewidth": 0,
              "ticks": ""
             }
            },
            "type": "scattercarpet"
           }
          ],
          "scattergeo": [
           {
            "marker": {
             "colorbar": {
              "outlinewidth": 0,
              "ticks": ""
             }
            },
            "type": "scattergeo"
           }
          ],
          "scattergl": [
           {
            "marker": {
             "colorbar": {
              "outlinewidth": 0,
              "ticks": ""
             }
            },
            "type": "scattergl"
           }
          ],
          "scattermap": [
           {
            "marker": {
             "colorbar": {
              "outlinewidth": 0,
              "ticks": ""
             }
            },
            "type": "scattermap"
           }
          ],
          "scattermapbox": [
           {
            "marker": {
             "colorbar": {
              "outlinewidth": 0,
              "ticks": ""
             }
            },
            "type": "scattermapbox"
           }
          ],
          "scatterpolar": [
           {
            "marker": {
             "colorbar": {
              "outlinewidth": 0,
              "ticks": ""
             }
            },
            "type": "scatterpolar"
           }
          ],
          "scatterpolargl": [
           {
            "marker": {
             "colorbar": {
              "outlinewidth": 0,
              "ticks": ""
             }
            },
            "type": "scatterpolargl"
           }
          ],
          "scatterternary": [
           {
            "marker": {
             "colorbar": {
              "outlinewidth": 0,
              "ticks": ""
             }
            },
            "type": "scatterternary"
           }
          ],
          "surface": [
           {
            "colorbar": {
             "outlinewidth": 0,
             "ticks": ""
            },
            "colorscale": [
             [
              0,
              "#0d0887"
             ],
             [
              0.1111111111111111,
              "#46039f"
             ],
             [
              0.2222222222222222,
              "#7201a8"
             ],
             [
              0.3333333333333333,
              "#9c179e"
             ],
             [
              0.4444444444444444,
              "#bd3786"
             ],
             [
              0.5555555555555556,
              "#d8576b"
             ],
             [
              0.6666666666666666,
              "#ed7953"
             ],
             [
              0.7777777777777778,
              "#fb9f3a"
             ],
             [
              0.8888888888888888,
              "#fdca26"
             ],
             [
              1,
              "#f0f921"
             ]
            ],
            "type": "surface"
           }
          ],
          "table": [
           {
            "cells": {
             "fill": {
              "color": "#EBF0F8"
             },
             "line": {
              "color": "white"
             }
            },
            "header": {
             "fill": {
              "color": "#C8D4E3"
             },
             "line": {
              "color": "white"
             }
            },
            "type": "table"
           }
          ]
         },
         "layout": {
          "annotationdefaults": {
           "arrowcolor": "#2a3f5f",
           "arrowhead": 0,
           "arrowwidth": 1
          },
          "autotypenumbers": "strict",
          "coloraxis": {
           "colorbar": {
            "outlinewidth": 0,
            "ticks": ""
           }
          },
          "colorscale": {
           "diverging": [
            [
             0,
             "#8e0152"
            ],
            [
             0.1,
             "#c51b7d"
            ],
            [
             0.2,
             "#de77ae"
            ],
            [
             0.3,
             "#f1b6da"
            ],
            [
             0.4,
             "#fde0ef"
            ],
            [
             0.5,
             "#f7f7f7"
            ],
            [
             0.6,
             "#e6f5d0"
            ],
            [
             0.7,
             "#b8e186"
            ],
            [
             0.8,
             "#7fbc41"
            ],
            [
             0.9,
             "#4d9221"
            ],
            [
             1,
             "#276419"
            ]
           ],
           "sequential": [
            [
             0,
             "#0d0887"
            ],
            [
             0.1111111111111111,
             "#46039f"
            ],
            [
             0.2222222222222222,
             "#7201a8"
            ],
            [
             0.3333333333333333,
             "#9c179e"
            ],
            [
             0.4444444444444444,
             "#bd3786"
            ],
            [
             0.5555555555555556,
             "#d8576b"
            ],
            [
             0.6666666666666666,
             "#ed7953"
            ],
            [
             0.7777777777777778,
             "#fb9f3a"
            ],
            [
             0.8888888888888888,
             "#fdca26"
            ],
            [
             1,
             "#f0f921"
            ]
           ],
           "sequentialminus": [
            [
             0,
             "#0d0887"
            ],
            [
             0.1111111111111111,
             "#46039f"
            ],
            [
             0.2222222222222222,
             "#7201a8"
            ],
            [
             0.3333333333333333,
             "#9c179e"
            ],
            [
             0.4444444444444444,
             "#bd3786"
            ],
            [
             0.5555555555555556,
             "#d8576b"
            ],
            [
             0.6666666666666666,
             "#ed7953"
            ],
            [
             0.7777777777777778,
             "#fb9f3a"
            ],
            [
             0.8888888888888888,
             "#fdca26"
            ],
            [
             1,
             "#f0f921"
            ]
           ]
          },
          "colorway": [
           "#636efa",
           "#EF553B",
           "#00cc96",
           "#ab63fa",
           "#FFA15A",
           "#19d3f3",
           "#FF6692",
           "#B6E880",
           "#FF97FF",
           "#FECB52"
          ],
          "font": {
           "color": "#2a3f5f"
          },
          "geo": {
           "bgcolor": "white",
           "lakecolor": "white",
           "landcolor": "white",
           "showlakes": true,
           "showland": true,
           "subunitcolor": "#C8D4E3"
          },
          "hoverlabel": {
           "align": "left"
          },
          "hovermode": "closest",
          "mapbox": {
           "style": "light"
          },
          "paper_bgcolor": "white",
          "plot_bgcolor": "white",
          "polar": {
           "angularaxis": {
            "gridcolor": "#EBF0F8",
            "linecolor": "#EBF0F8",
            "ticks": ""
           },
           "bgcolor": "white",
           "radialaxis": {
            "gridcolor": "#EBF0F8",
            "linecolor": "#EBF0F8",
            "ticks": ""
           }
          },
          "scene": {
           "xaxis": {
            "backgroundcolor": "white",
            "gridcolor": "#DFE8F3",
            "gridwidth": 2,
            "linecolor": "#EBF0F8",
            "showbackground": true,
            "ticks": "",
            "zerolinecolor": "#EBF0F8"
           },
           "yaxis": {
            "backgroundcolor": "white",
            "gridcolor": "#DFE8F3",
            "gridwidth": 2,
            "linecolor": "#EBF0F8",
            "showbackground": true,
            "ticks": "",
            "zerolinecolor": "#EBF0F8"
           },
           "zaxis": {
            "backgroundcolor": "white",
            "gridcolor": "#DFE8F3",
            "gridwidth": 2,
            "linecolor": "#EBF0F8",
            "showbackground": true,
            "ticks": "",
            "zerolinecolor": "#EBF0F8"
           }
          },
          "shapedefaults": {
           "line": {
            "color": "#2a3f5f"
           }
          },
          "ternary": {
           "aaxis": {
            "gridcolor": "#DFE8F3",
            "linecolor": "#A2B1C6",
            "ticks": ""
           },
           "baxis": {
            "gridcolor": "#DFE8F3",
            "linecolor": "#A2B1C6",
            "ticks": ""
           },
           "bgcolor": "white",
           "caxis": {
            "gridcolor": "#DFE8F3",
            "linecolor": "#A2B1C6",
            "ticks": ""
           }
          },
          "title": {
           "x": 0.05
          },
          "xaxis": {
           "automargin": true,
           "gridcolor": "#EBF0F8",
           "linecolor": "#EBF0F8",
           "ticks": "",
           "title": {
            "standoff": 15
           },
           "zerolinecolor": "#EBF0F8",
           "zerolinewidth": 2
          },
          "yaxis": {
           "automargin": true,
           "gridcolor": "#EBF0F8",
           "linecolor": "#EBF0F8",
           "ticks": "",
           "title": {
            "standoff": 15
           },
           "zerolinecolor": "#EBF0F8",
           "zerolinewidth": 2
          }
         }
        },
        "title": {
         "text": "Распределение значений метрики F1"
        },
        "width": 800,
        "xaxis": {
         "range": [
          0.84,
          0.93
         ],
         "title": {
          "text": "F1"
         }
        },
        "yaxis": {
         "title": {
          "text": "Количество трейлов"
         }
        }
       }
      }
     },
     "metadata": {},
     "output_type": "display_data"
    },
    {
     "data": {
      "application/vnd.plotly.v1+json": {
       "config": {
        "plotlyServerURL": "https://plot.ly"
       },
       "data": [
        {
         "legendgroup": "1",
         "legendgrouptitle": {
          "text": "PassiveAggressiveClassifier+Bert"
         },
         "mode": "lines+markers",
         "name": "PassiveAggressiveClassifier+Bert",
         "type": "scatter",
         "x": {
          "bdata": "AQEDAQsBHAE1AToBSgFVAVoBZQFtAXYBfAGCAYMBiwGMAY0BkwGUAZcBmQGcAZ4BnwGhAaQBpQGnAagBqQGqAasBrQGvAbABsQGzAbQBtgG4AbkBugG8Ab0BvgG/AcABwQHEAcUBxwHIAcoBywHNAdEB0gHTAdQB1gHYAdkB2wHcAd0B3wHhAeMB5AHlAegB6QHsAe0B7gHwAfEB8wH0AfcB+QH9Af8B",
          "dtype": "i2"
         },
         "y": {
          "bdata": "HlYAt+CE7T9kB9lBdpDtP5XXUF5Dee0/HlYAt+CE7T+ljXdUs/7sP2nYgeeKhu0/nh/Tw8BZ6D9kB9lBdpDtP5ktajW+/Ow/i+ksprOY6j/a4yogGJLtP8DM9dSIkuc/pkRB4+Br7T+4cKrtMh3tP9rjKiAYku0/CFgdX8qY7T/a4yogGJLtP8DZtQYEnO0/wNm1BgSc7T/AVstELijsP4SvdZSFge0/t9uoOiFq7T/A2bUGBJztP8DZtQYEnO0/wNm1BgSc7T/A2bUGBJztP8DZtQYEnO0/aV/al/al7T9+Izx7O8HsPwPOvYWOd+0/aV/al/al7T9pX9qX9qXtP2lf2pf2pe0/CFgdX8qY7T9pX9qX9qXtP2lf2pf2pe0/E6pA120E6z9pX9qX9qXtP5dzbNEYJ+0/aV/al/al7T8IWB1fypjtP2lf2pf2pe0/TtM0TdM07T9pX9qX9qXtP90i3SLdIu0/aV/al/al7T/A2bUGBJztP8DZtQYEnO0/wNm1BgSc7T/A2bUGBJztP2lf2pf2pe0/hK91lIWB7T+4cKrtMh3tP8DZtQYEnO0/aV/al/al7T/a4yogGJLtP2lf2pf2pe0/aV/al/al7T9pX9qX9qXtP2lf2pf2pe0/CFgdX8qY7T+CCtseByntPwhYHV/KmO0/0qEGuzMZ7T9pX9qX9qXtP2lf2pf2pe0/aV/al/al7T9pX9qX9qXtP2lf2pf2pe0/aV/al/al7T9pX9qX9qXtP2lf2pf2pe0/aV/al/al7T9pX9qX9qXtP2lf2pf2pe0/OAwpDbar7D9pX9qX9qXtPwrQ71Br5+o/aV/al/al7T9pX9qX9qXtPyJ21WklYuc/aV/al/al7T9pX9qX9qXtP0vxR7JXrug/",
          "dtype": "f8"
         }
        },
        {
         "legendgroup": "1",
         "legendgrouptitle": {
          "text": "PassiveAggressiveClassifier+Bert"
         },
         "marker": {
          "color": "red",
          "size": 10
         },
         "mode": "markers",
         "name": "PassiveAggressiveClassifier+Bert",
         "showlegend": false,
         "type": "scatter",
         "x": [
          421
         ],
         "y": [
          0.926509186351706
         ]
        }
       ],
       "layout": {
        "showlegend": true,
        "template": {
         "data": {
          "bar": [
           {
            "error_x": {
             "color": "#2a3f5f"
            },
            "error_y": {
             "color": "#2a3f5f"
            },
            "marker": {
             "line": {
              "color": "#E5ECF6",
              "width": 0.5
             },
             "pattern": {
              "fillmode": "overlay",
              "size": 10,
              "solidity": 0.2
             }
            },
            "type": "bar"
           }
          ],
          "barpolar": [
           {
            "marker": {
             "line": {
              "color": "#E5ECF6",
              "width": 0.5
             },
             "pattern": {
              "fillmode": "overlay",
              "size": 10,
              "solidity": 0.2
             }
            },
            "type": "barpolar"
           }
          ],
          "carpet": [
           {
            "aaxis": {
             "endlinecolor": "#2a3f5f",
             "gridcolor": "white",
             "linecolor": "white",
             "minorgridcolor": "white",
             "startlinecolor": "#2a3f5f"
            },
            "baxis": {
             "endlinecolor": "#2a3f5f",
             "gridcolor": "white",
             "linecolor": "white",
             "minorgridcolor": "white",
             "startlinecolor": "#2a3f5f"
            },
            "type": "carpet"
           }
          ],
          "choropleth": [
           {
            "colorbar": {
             "outlinewidth": 0,
             "ticks": ""
            },
            "type": "choropleth"
           }
          ],
          "contour": [
           {
            "colorbar": {
             "outlinewidth": 0,
             "ticks": ""
            },
            "colorscale": [
             [
              0,
              "#0d0887"
             ],
             [
              0.1111111111111111,
              "#46039f"
             ],
             [
              0.2222222222222222,
              "#7201a8"
             ],
             [
              0.3333333333333333,
              "#9c179e"
             ],
             [
              0.4444444444444444,
              "#bd3786"
             ],
             [
              0.5555555555555556,
              "#d8576b"
             ],
             [
              0.6666666666666666,
              "#ed7953"
             ],
             [
              0.7777777777777778,
              "#fb9f3a"
             ],
             [
              0.8888888888888888,
              "#fdca26"
             ],
             [
              1,
              "#f0f921"
             ]
            ],
            "type": "contour"
           }
          ],
          "contourcarpet": [
           {
            "colorbar": {
             "outlinewidth": 0,
             "ticks": ""
            },
            "type": "contourcarpet"
           }
          ],
          "heatmap": [
           {
            "colorbar": {
             "outlinewidth": 0,
             "ticks": ""
            },
            "colorscale": [
             [
              0,
              "#0d0887"
             ],
             [
              0.1111111111111111,
              "#46039f"
             ],
             [
              0.2222222222222222,
              "#7201a8"
             ],
             [
              0.3333333333333333,
              "#9c179e"
             ],
             [
              0.4444444444444444,
              "#bd3786"
             ],
             [
              0.5555555555555556,
              "#d8576b"
             ],
             [
              0.6666666666666666,
              "#ed7953"
             ],
             [
              0.7777777777777778,
              "#fb9f3a"
             ],
             [
              0.8888888888888888,
              "#fdca26"
             ],
             [
              1,
              "#f0f921"
             ]
            ],
            "type": "heatmap"
           }
          ],
          "histogram": [
           {
            "marker": {
             "pattern": {
              "fillmode": "overlay",
              "size": 10,
              "solidity": 0.2
             }
            },
            "type": "histogram"
           }
          ],
          "histogram2d": [
           {
            "colorbar": {
             "outlinewidth": 0,
             "ticks": ""
            },
            "colorscale": [
             [
              0,
              "#0d0887"
             ],
             [
              0.1111111111111111,
              "#46039f"
             ],
             [
              0.2222222222222222,
              "#7201a8"
             ],
             [
              0.3333333333333333,
              "#9c179e"
             ],
             [
              0.4444444444444444,
              "#bd3786"
             ],
             [
              0.5555555555555556,
              "#d8576b"
             ],
             [
              0.6666666666666666,
              "#ed7953"
             ],
             [
              0.7777777777777778,
              "#fb9f3a"
             ],
             [
              0.8888888888888888,
              "#fdca26"
             ],
             [
              1,
              "#f0f921"
             ]
            ],
            "type": "histogram2d"
           }
          ],
          "histogram2dcontour": [
           {
            "colorbar": {
             "outlinewidth": 0,
             "ticks": ""
            },
            "colorscale": [
             [
              0,
              "#0d0887"
             ],
             [
              0.1111111111111111,
              "#46039f"
             ],
             [
              0.2222222222222222,
              "#7201a8"
             ],
             [
              0.3333333333333333,
              "#9c179e"
             ],
             [
              0.4444444444444444,
              "#bd3786"
             ],
             [
              0.5555555555555556,
              "#d8576b"
             ],
             [
              0.6666666666666666,
              "#ed7953"
             ],
             [
              0.7777777777777778,
              "#fb9f3a"
             ],
             [
              0.8888888888888888,
              "#fdca26"
             ],
             [
              1,
              "#f0f921"
             ]
            ],
            "type": "histogram2dcontour"
           }
          ],
          "mesh3d": [
           {
            "colorbar": {
             "outlinewidth": 0,
             "ticks": ""
            },
            "type": "mesh3d"
           }
          ],
          "parcoords": [
           {
            "line": {
             "colorbar": {
              "outlinewidth": 0,
              "ticks": ""
             }
            },
            "type": "parcoords"
           }
          ],
          "pie": [
           {
            "automargin": true,
            "type": "pie"
           }
          ],
          "scatter": [
           {
            "fillpattern": {
             "fillmode": "overlay",
             "size": 10,
             "solidity": 0.2
            },
            "type": "scatter"
           }
          ],
          "scatter3d": [
           {
            "line": {
             "colorbar": {
              "outlinewidth": 0,
              "ticks": ""
             }
            },
            "marker": {
             "colorbar": {
              "outlinewidth": 0,
              "ticks": ""
             }
            },
            "type": "scatter3d"
           }
          ],
          "scattercarpet": [
           {
            "marker": {
             "colorbar": {
              "outlinewidth": 0,
              "ticks": ""
             }
            },
            "type": "scattercarpet"
           }
          ],
          "scattergeo": [
           {
            "marker": {
             "colorbar": {
              "outlinewidth": 0,
              "ticks": ""
             }
            },
            "type": "scattergeo"
           }
          ],
          "scattergl": [
           {
            "marker": {
             "colorbar": {
              "outlinewidth": 0,
              "ticks": ""
             }
            },
            "type": "scattergl"
           }
          ],
          "scattermap": [
           {
            "marker": {
             "colorbar": {
              "outlinewidth": 0,
              "ticks": ""
             }
            },
            "type": "scattermap"
           }
          ],
          "scattermapbox": [
           {
            "marker": {
             "colorbar": {
              "outlinewidth": 0,
              "ticks": ""
             }
            },
            "type": "scattermapbox"
           }
          ],
          "scatterpolar": [
           {
            "marker": {
             "colorbar": {
              "outlinewidth": 0,
              "ticks": ""
             }
            },
            "type": "scatterpolar"
           }
          ],
          "scatterpolargl": [
           {
            "marker": {
             "colorbar": {
              "outlinewidth": 0,
              "ticks": ""
             }
            },
            "type": "scatterpolargl"
           }
          ],
          "scatterternary": [
           {
            "marker": {
             "colorbar": {
              "outlinewidth": 0,
              "ticks": ""
             }
            },
            "type": "scatterternary"
           }
          ],
          "surface": [
           {
            "colorbar": {
             "outlinewidth": 0,
             "ticks": ""
            },
            "colorscale": [
             [
              0,
              "#0d0887"
             ],
             [
              0.1111111111111111,
              "#46039f"
             ],
             [
              0.2222222222222222,
              "#7201a8"
             ],
             [
              0.3333333333333333,
              "#9c179e"
             ],
             [
              0.4444444444444444,
              "#bd3786"
             ],
             [
              0.5555555555555556,
              "#d8576b"
             ],
             [
              0.6666666666666666,
              "#ed7953"
             ],
             [
              0.7777777777777778,
              "#fb9f3a"
             ],
             [
              0.8888888888888888,
              "#fdca26"
             ],
             [
              1,
              "#f0f921"
             ]
            ],
            "type": "surface"
           }
          ],
          "table": [
           {
            "cells": {
             "fill": {
              "color": "#EBF0F8"
             },
             "line": {
              "color": "white"
             }
            },
            "header": {
             "fill": {
              "color": "#C8D4E3"
             },
             "line": {
              "color": "white"
             }
            },
            "type": "table"
           }
          ]
         },
         "layout": {
          "annotationdefaults": {
           "arrowcolor": "#2a3f5f",
           "arrowhead": 0,
           "arrowwidth": 1
          },
          "autotypenumbers": "strict",
          "coloraxis": {
           "colorbar": {
            "outlinewidth": 0,
            "ticks": ""
           }
          },
          "colorscale": {
           "diverging": [
            [
             0,
             "#8e0152"
            ],
            [
             0.1,
             "#c51b7d"
            ],
            [
             0.2,
             "#de77ae"
            ],
            [
             0.3,
             "#f1b6da"
            ],
            [
             0.4,
             "#fde0ef"
            ],
            [
             0.5,
             "#f7f7f7"
            ],
            [
             0.6,
             "#e6f5d0"
            ],
            [
             0.7,
             "#b8e186"
            ],
            [
             0.8,
             "#7fbc41"
            ],
            [
             0.9,
             "#4d9221"
            ],
            [
             1,
             "#276419"
            ]
           ],
           "sequential": [
            [
             0,
             "#0d0887"
            ],
            [
             0.1111111111111111,
             "#46039f"
            ],
            [
             0.2222222222222222,
             "#7201a8"
            ],
            [
             0.3333333333333333,
             "#9c179e"
            ],
            [
             0.4444444444444444,
             "#bd3786"
            ],
            [
             0.5555555555555556,
             "#d8576b"
            ],
            [
             0.6666666666666666,
             "#ed7953"
            ],
            [
             0.7777777777777778,
             "#fb9f3a"
            ],
            [
             0.8888888888888888,
             "#fdca26"
            ],
            [
             1,
             "#f0f921"
            ]
           ],
           "sequentialminus": [
            [
             0,
             "#0d0887"
            ],
            [
             0.1111111111111111,
             "#46039f"
            ],
            [
             0.2222222222222222,
             "#7201a8"
            ],
            [
             0.3333333333333333,
             "#9c179e"
            ],
            [
             0.4444444444444444,
             "#bd3786"
            ],
            [
             0.5555555555555556,
             "#d8576b"
            ],
            [
             0.6666666666666666,
             "#ed7953"
            ],
            [
             0.7777777777777778,
             "#fb9f3a"
            ],
            [
             0.8888888888888888,
             "#fdca26"
            ],
            [
             1,
             "#f0f921"
            ]
           ]
          },
          "colorway": [
           "#636efa",
           "#EF553B",
           "#00cc96",
           "#ab63fa",
           "#FFA15A",
           "#19d3f3",
           "#FF6692",
           "#B6E880",
           "#FF97FF",
           "#FECB52"
          ],
          "font": {
           "color": "#2a3f5f"
          },
          "geo": {
           "bgcolor": "white",
           "lakecolor": "white",
           "landcolor": "#E5ECF6",
           "showlakes": true,
           "showland": true,
           "subunitcolor": "white"
          },
          "hoverlabel": {
           "align": "left"
          },
          "hovermode": "closest",
          "mapbox": {
           "style": "light"
          },
          "paper_bgcolor": "white",
          "plot_bgcolor": "#E5ECF6",
          "polar": {
           "angularaxis": {
            "gridcolor": "white",
            "linecolor": "white",
            "ticks": ""
           },
           "bgcolor": "#E5ECF6",
           "radialaxis": {
            "gridcolor": "white",
            "linecolor": "white",
            "ticks": ""
           }
          },
          "scene": {
           "xaxis": {
            "backgroundcolor": "#E5ECF6",
            "gridcolor": "white",
            "gridwidth": 2,
            "linecolor": "white",
            "showbackground": true,
            "ticks": "",
            "zerolinecolor": "white"
           },
           "yaxis": {
            "backgroundcolor": "#E5ECF6",
            "gridcolor": "white",
            "gridwidth": 2,
            "linecolor": "white",
            "showbackground": true,
            "ticks": "",
            "zerolinecolor": "white"
           },
           "zaxis": {
            "backgroundcolor": "#E5ECF6",
            "gridcolor": "white",
            "gridwidth": 2,
            "linecolor": "white",
            "showbackground": true,
            "ticks": "",
            "zerolinecolor": "white"
           }
          },
          "shapedefaults": {
           "line": {
            "color": "#2a3f5f"
           }
          },
          "ternary": {
           "aaxis": {
            "gridcolor": "white",
            "linecolor": "white",
            "ticks": ""
           },
           "baxis": {
            "gridcolor": "white",
            "linecolor": "white",
            "ticks": ""
           },
           "bgcolor": "#E5ECF6",
           "caxis": {
            "gridcolor": "white",
            "linecolor": "white",
            "ticks": ""
           }
          },
          "title": {
           "x": 0.05
          },
          "xaxis": {
           "automargin": true,
           "gridcolor": "white",
           "linecolor": "white",
           "ticks": "",
           "title": {
            "standoff": 15
           },
           "zerolinecolor": "white",
           "zerolinewidth": 2
          },
          "yaxis": {
           "automargin": true,
           "gridcolor": "white",
           "linecolor": "white",
           "ticks": "",
           "title": {
            "standoff": 15
           },
           "zerolinecolor": "white",
           "zerolinewidth": 2
          }
         }
        },
        "title": {
         "text": "F1 моделей в зависимости от числа признаков"
        },
        "xaxis": {
         "title": {
          "text": "Число признаков"
         }
        },
        "yaxis": {
         "title": {
          "text": "F1"
         }
        }
       }
      }
     },
     "metadata": {},
     "output_type": "display_data"
    }
   ],
   "source": [
    "plot_param_importances(study_palogreg_bert).update_layout(width=800, height=500).show()\n",
    "trial_duration_performance(study_palogreg_bert, model_names=['PassiveAggressiveClassifier+Bert'])\n",
    "trial_score_distribution(study_palogreg_bert,\n",
    "                         model_names=['PassiveAggressiveClassifier+Bert'],\n",
    "                         nbinsx={'PassiveAggressiveClassifier+Bert': 50},\n",
    "                         xrange=(0.84, 0.93))\n",
    "feature_selection_perfomance(study_palogreg_bert.trials_dataframe().groupby('params_model__n_features_to_select')['value'].max(),\n",
    "                             model_names=['PassiveAggressiveClassifier+Bert'],\n",
    "                             score_name='F1',\n",
    "                             greater_is_better=True)"
   ]
  },
  {
   "cell_type": "markdown",
   "metadata": {},
   "source": [
    "- Важность гиперпараметров\n",
    "    - Наибольшее влияние оказывает параметр model__estimator__class_weight (важность 0.63), что говорит о чувствительности модели к дисбалансу классов.\n",
    "    - Второй по значимости — model__estimator__average (0.15), который влияет на способ усреднения градиентов.\n",
    "    - Остальные гиперпараметры (например, early_stopping, C, fit_intercept) оказывают сравнительно небольшое влияние (≤ 0.08).\n",
    "    - Это говорит о том, что после добавления BERT важнейшими становятся весовые и структурные параметры, а не числовые тонкие настройки.\n",
    "- Зависимость F1 от времени выполнения трейла\n",
    "    - Наилучшее значение F1 превышает 0.93, что существенно лучше, чем без BERT.\n",
    "    - Время трейла сильно варьируется — от единиц до 1500 секунд, что связано с затратами на обработку эмбеддингов и обучением на более сложных признаках.\n",
    "    - Несмотря на разброс по времени, большинство хороших трейлов укладываются в диапазон до 300–400 секунд.\n",
    "- Распределение значений метрики F1\n",
    "    - Распределение имеет резкий пик в районе 0.92–0.93, что говорит о высокой стабильности модели после подключения эмбеддингов BERT.\n",
    "    - Несколько трейлов показали слабые значения (0.84–0.89), что может быть связано с неудачными гиперпараметрами.\n",
    "    - Однако большая часть конфигураций демонстрирует высокое и устойчивое качество, близкое к верхнему пределу.\n",
    "- Зависимость F1 от кол-ва обучаемых признаков\n",
    "    - При малом числе признаков (до ~250–300) наблюдается устойчиво качество модели (F1 > 0.91).\n",
    "    - При дальнейшем увеличении числа признаков (от 300 до 520) появляются всплески нестабильности, с резкими падениями F1 до значений 0.74–0.76.\n",
    "    - Однако большинство точек остаются в диапазоне 0.90–0.93, особенно при числе признаков от 400 до 490, что указывает на рабочую зону признакового пространства."
   ]
  },
  {
   "cell_type": "markdown",
   "metadata": {},
   "source": [
    "_____\n",
    "### <a id='toc1_6_10_'></a>[Результат](#toc0_)"
   ]
  },
  {
   "cell_type": "code",
   "execution_count": 47,
   "metadata": {},
   "outputs": [
    {
     "data": {
      "application/vnd.plotly.v1+json": {
       "config": {
        "plotlyServerURL": "https://plot.ly"
       },
       "data": [
        {
         "legendgroup": "0",
         "legendgrouptitle": {
          "text": "LogisticRegression"
         },
         "marker": {
          "color": "#FF97FF",
          "opacity": 0.5,
          "size": 10
         },
         "mode": "markers",
         "name": "LogisticRegression",
         "type": "scatter",
         "x": {
          "bdata": "BRVVv9JxIkC8ICI17dokQLzLRXwn/iZAhxVu+UhCJ0BVTKWfcPYqQOVeYFYo8itAZfz7jAv3K0AZdELooBMsQI4j1uJTEC1AWTZzSGoxLUCb/uxHiqgvQLb3qSo0LDBAZcix9QypM0B7E0NyMk1DQMQKt3wky0RA8bioFhHdRECgMv59xltJQA/yejApVVBATaJe8GkrUkCb/uxHilhSQKZjzjP2M1dAVgvsMZF6WEDUCz7NySxZQIvDmV/NUVlAYB3HD5V5WUBevYqMDoBZQMZSJF8JqllA96sA322uWUC1+uqqQOZZQPlNYaWCHVpAMjogCftlW0AgJXZtb8RdQNi7P96rgV5ATdu/stInX0CHb2HdeJZfQKn4vyMqo19AxXb3AN25X0D5wI7/As5fQLCryVNW6V9ATTCca5jpX0CFCg4viOpfQK+ZfLPN9l9Aw9hCkIP4X0Bz9zk+2gBgQBeBsb6BBWBAtDo5Q3EGYECCyCJNPAhgQPGhREueDGBA4j0HliMVYECsONVamBpgQOyFArYDIGBAIXNlUO0lYEDzyB8MPCZgQEqWk1B6JmBAGF3eHK4mYEDUf9b8eCtgQNzUQPO5LGBAEF1Q37IwYEA9QzhmWUFgQDVDqiheRWBA4BRWKqhFYEBSLLe0GklgQLovZ7arSWBA2qm53GBUYEDRsBh1rVdgQCS2uwfoV2BA2nQEcLNiYEDuzATDuWVgQCeIug9AiWBAdvusMlPUYkBXs874PtViQLb3qSq0CWNALNZwkfsVY0APuK6YkTJjQDzbozdcO2NAKNcUyGxCY0A8aHbdW0djQBNGs7J9U2NAXHfzVAdUY0C+Ed2zLmxjQPMBgc4kemNAAvVm1Px6Y0DM8J9uIIJjQEj5SbVPimNARbjJqLKNY0A0go3rX6NjQMAJhQi4p2NA88ZJYd6nY0DL9baZisFjQIl9AijGwmNAE4JV9XIHZEB6Oey+Y0BkQCpxHeOKBmVA/89hvjwmZUCEtwchoCdmQDwUBfrENGZAOgK4WbxkZkBA3xYsVbZmQFG9NbBVv2ZAHlN3ZZcFaEA=",
          "dtype": "f8"
         },
         "y": {
          "bdata": "syJxhbtP4z9O+7HTvYfoP0PgaQan5ec/5JQSNiVq6D/4OdSS1UrnP3JRCW9Nj+g/PgkC8Z6j6D/2OaoVNaToP9b5anrBv+g/bXMTTqug6D9+kMqjsKjoPy5P3AtnrOg/ilBQTCah6D9mtvF2ma/XP3bZSAn+GNc/57tyaiEt2T/JjQaJ94jjP+6ze3YZN+c/2p/YDO3D6D96G/3QKNnoP8Fy42TXqug/pQ27uj6h6D8U+z9R0tPoP2WjJWyrdeg/k3InUczf6D/Y8BN96+XnP55BdiiO3eg/ygn19HOr6D9Y534/PtboP1dBbd9LVec/U9GGPnWH6D+93dYbOwHoP3oTMd1xAuc/KqgWqYwX6D/H8VT5PuToP3SuDTVsheg/pLyBScra6D83zrKtlr/oP4ZiBdFI5+g/3q7kB+5T6D+4PTBSRt/oPx7X6YEd5Og/9bDIstfW6D+UNhw9UevoP4okMG9w5ug/j5HXpl3h6D/wXYdlpe3oP+XgiC0u4ug/Leh5DhHe6D9eF80r1eXoP9aaQgfO2Og/vidwXtLg6D/ScA5UPe3oPzlz0wfX6eg/KIf8uH3f6D9RU8Nu+NroP1lRIxDL5+g/mpjaFvbZ6D/lkTny9dvoPzr2RjLf4Og/Tj/PDYvY6D+2mGBMT+DoP04SU6z+2Og/KphDE8vc6D9ahgEMwczoPx4Ol31k2+g/bar62szb6D+zv8athOLoPwXJLRBMzug/YYJMRDi56D8W+XnQ5NjoP+Os6T0U3Og/HRjufEHU5z8Yz4hDctXoP0JcopKj5eg/ueXOtrbi6D93HQMCPN/oPzMOPw16x+g/AhAfIzzN6D/7VfjZiM/oP87UD5xt1eg/2ByxFU2I6D/ocO85qeToP8mag/7I1+g/j+gR05O+6D+SYJWR4tnoP6LOBhJS5Og/Z0o66Rri6D/I6KHMadroP2NROdsG0Og/rS8dUHzU6D9W/uJS1szoP3NTeurP1Og/Se2JtSRM6D+lraQ5oKToP9L/nN0HyOg/MW44b77E6D924HgQJ8LoP8cuA2ay1eg/15FYV1Hc6D8=",
          "dtype": "f8"
         }
        },
        {
         "legendgroup": "0",
         "marker": {
          "color": "#FF97FF",
          "line": {
           "color": "black",
           "width": 2
          },
          "size": 10
         },
         "mode": "markers",
         "name": "Лучшее: LogisticRegression",
         "showlegend": false,
         "type": "scatter",
         "x": [
          128.257361
         ],
         "y": [
          0.7790095313056877
         ]
        },
        {
         "legendgroup": "1",
         "legendgrouptitle": {
          "text": "PassiveAggressiveClassifier"
         },
         "marker": {
          "color": "#FECB52",
          "opacity": 0.5,
          "size": 10
         },
         "mode": "markers",
         "name": "PassiveAggressiveClassifier",
         "type": "scatter",
         "x": {
          "bdata": "sARSYteWG0B5kJ4ih5gbQN2ZCYZzvRtAsMdESrOpHECr6A/NPLkcQIwwRbk03hxAm42VmGf1HEAoDTUKSSYdQFD8GHPXkh1A/b/qyJHOHUBEpnwIqhYeQJp63SIwth5AkdWtnpMOH0ByqN+FrZkwQDqwHCEDnTBASdV2E3zvMEAe/pqsUf8wQHrkDwaeGzFAjJ5b6EokMUBQb0bNV00xQOY7+IkDYDFAGaw41VpoMUADWyVYHGoxQHv5nSYzcjFAtmgB2laDMUCSBre1hY8xQJ+tg4O9kTFAKhprf2eTMUCJ7e4BupMxQMWNW8zPmTFAMxtkkpGfMUCyg0pcx6wxQD+O5sjKszFAI9qOqbu2MUDAB69d2sQxQPG6fsFu2DFAAmTo2EHdMUDtf4C1auMxQFfQtMTK7DFA6Q/NPLnyMUACLV3BNvYxQNyEe2Xe+jFAb2WJzjILMkC+2HvxRRcyQANgPIOGGjJADcfzGVAvMkBMVdriGjMyQLMKmwEuNDJAzJcXYB9JMkBvZB75g00yQBR5knTNVDJApivYRjxVMkAqGmt/Z1cyQEfjUL8LWzJAeo7IdyldMkD27SQi/F8yQCC0Hr5MYDJA+5P43Al6MkB2MjhKXoEyQAIoRpbMgTJAnBcnvtqBMkCmKm1xjYMyQO3xQjo8iDJAMxXikXiJMkAdPulEgo0yQGEYsOQqjjJAT3gJTn2QMkDylUBK7JYyQAiqRq8GmDJASZ9W0R+aMkBxr8xbdZ0yQIi5pGq7nTJAq6+uCtSiMkCSI52Bka8yQOGYZU8CszJAzQNY5Ne3MkAj100pr70yQLZN8biowjJA2UC62LTCMkCInL6er8UyQPUrnQ/PxjJANKDejJrHMkDIDFTGv8cyQMMMjSeCzDJAaHqJsUzTMkDwGB77WdQyQCGvB5Pi1zJAyhgfZi/bMkCx+iMMA94yQPG3PUFi3zJAMbH5uDbsMkBU5XtGIvAyQNCzWfW58jJA16NwPQr3MkDarWUyHPsyQClf0EICBjNARRFSt7MXM0BSDmYTYBgzQFA1ejVAHTNADqFKzR40M0A=",
          "dtype": "f8"
         },
         "y": {
          "bdata": "eb5bZOML6D9VVWB8LmboP8/EEnpY1+c/tV8pvZ0G6T9rVMrJryLoP05faXi5oOg/jRaCZ+Y56D+tzCCz4dvoP+6rL7cMgOc/9N/42Z0S6D/r20dg4L/oP6dDE8e32uc/6o1BKFKv5z8+31QVda3oPygXTUFq2ug/vyXNRQjN6D+wGhfCFtDoP8PcjySEjug/uFxw8/XB6D9eMlfadNjoP7LTbm2bJek/5m0fmj4r6T++zvCsqjbpP+rh8hUzLuk/TP7Nh80n6T+T6IyBbDPpP5WNYkM0FOk/ZRGwpiPL6D9l8ayGqCDpP6invcbZxeg/Sqfvw5Yg6T8VleiBwCfpPzmvZxSOJOk/yp9vKaRD6T9ycB7cIDTpP9+46lZST+k/wXhKl2cv6T8XOOdbjTDpPyWhyVG4Tek//5ImbEk36T9wV5oe+VPpP/x9h/OIUek/u5JjWFhX6T+Ek2oNpVPpP4rz3HeQWOk/xIxI22hY6T8AxhyL62HpP49QX+YfV+k/ngg338pi6T/nEyNtI1bpPyiYitmVOek/ro1btPBh6T+W80z0+mPpP3Lmz5HhWek/mvyNvUpY6T8tqOs7Cl7pPxv6XSc3Yek/UHL6CHJf6T9Jy75oxGPpPyG+esxeX+k/cu1o8E9m6T/s/pVLv1rpP71x5kC3Zek/ki+/1YJo6T8yaSQJ6GTpP+wZ9MgTXuk/mOiOUzNc6T9CXPPkx2npP7rYi1DDaOk/mX2Zk8dj6T81DWME/17pPwsU1lz9W+k/RoaVbHRl6T9JuFTunGLpP6M5KTYbY+k/E9P8WSlk6T95kdy7vWPpP+GED5nuZOk/MOiqdzRh6T96/mXvCGbpP89u/96NZuk/nqYWItdi6T84O9ipB2PpP00o1waNZuk/FcnKbTBn6T+yKtf0/2TpP4bkcjlbZuk/uSA6gupj6T/I5U6MV2TpP5ELYuY7Zek/9Fmq9Ehg6T/4abR26WXpP/ie+9WZZ+k/ePoRYPxn6T8AR5GJ62jpP1pTijIEZ+k/sqF42pdk6T/+A87eB2XpP5J+QDIYY+k/2M1pcJRl6T8=",
          "dtype": "f8"
         }
        },
        {
         "legendgroup": "1",
         "marker": {
          "color": "#FECB52",
          "line": {
           "color": "black",
           "width": 2
          },
          "size": 10
         },
         "mode": "markers",
         "name": "Лучшее: PassiveAggressiveClassifier",
         "showlegend": false,
         "type": "scatter",
         "x": [
          18.589543
         ],
         "y": [
          0.7941626998607563
         ]
        },
        {
         "legendgroup": "2",
         "legendgrouptitle": {
          "text": "LGBMClassifier"
         },
         "marker": {
          "color": "#636EFA",
          "opacity": 0.5,
          "size": 10
         },
         "mode": "markers",
         "name": "LGBMClassifier",
         "type": "scatter",
         "x": {
          "bdata": "pyIVxhYCNUC4XP3YJDFEQM3qHW6HSkdAxa2CGOgwSUAa/Wg4ZbpKQKBQTx+BD1JAkdRCyeQRUkC94T5yaxVSQIvFbworKFJAZCR7hJouUkDiAtAoXV1SQHTwTGiSeVJApTLFHASaUkD7A+W2fb1SQDKP/MHA51JAe7/RjhvqUkDHoX4XtvRSQF5kAn6NUlNANbIrLSNyU0CNfjScMpBTQKwahLndDFRAa7bykv9EVEBSCrq9pI5UQF+VC5V/r1RAgXhdv2C9VECvWwTG+tFUQJS9pZwvGFVAoBhZMscyVUAnSkIibUdVQLsKKT+pWFVALgJjfQN2VUC9GwsKg8BVQCE/G7lu91VAA+yjU1f8VUCqCg3EsgFWQOAu+3WnCVdAet6NBYXlV0Bi9NxCVzFYQE1qaAOwQlhAsdtnlZlKWEDZ7h6g+1JYQHUg66nVdlhAaoZUUbyQWEDtKM5RRy5ZQDS6g9iZQ1lAjxt+N91uWUAIyJdQwZRZQDHvcaYJpVlAZMkcy7vGWUAF3smnx9FZQLPsSWBz2llAjUephCewWkAIILWJkyhbQHu7JTlgNVtAqMgh4uZiW0BFEyhiEZVbQHXlszwPKFxA+RBUjV4tXEAXmus00kJcQA5JLZRMY1xAH5268llyXEAVrHE2HaxcQERrRZvjMl1ApDmy8ss0XUCFtTF2wqldQKJjB5W4EF5ALzIBv0ZIXkBgHjLlQ0xeQIp1qnzPhl5ANExtqYOwXkDe5SK+E2ZfQPxuumWHaV9A3zKny2KlX0BrKLUX0atfQDYdAdws9F9APBVwz3McYEBbI4Jx8EVgQKuvrgrUH2FAcM0d/S82YUCuY1xxcfNhQJ1M3CoIEWJA0v9yLVodYkBB2ClWjSpiQDvkZrgBcWJA6xnCMUuKYkArhqsDINdiQNrlWx/WK2NAlxsMdVg6Y0C8s3bbhUtjQL4ViQlqbGNASBlxAWhvY0CXHeIfNqtjQIGU2LU9f2RAsTOFzmv5ZEDQfM7dLrFlQPol4q3zomZAmZoEb0jTZ0ClZg+0AsBoQA4tsp3v+mtAC0W6n1O3bEA=",
          "dtype": "f8"
         },
         "y": {
          "bdata": "lotcVfoh5j+CqnnDZ1nlP4NT8VtFGOg/nSCdVfrO5T9zD1K3tN/nP9/TOeif0ec/6Y7/GjPm5j922A8iTEHlP73Z3sSt0eU/40u03QCt4z/l41SlX/LnP9fdb4tmCug/9O3YFygO6D9MCIl84ijoPwAtZlTeJOg/z3S0PqAG6D/0BBSyCBDoP2Cw894jM+g/fXN0jdu95z8QvF4BD27nPzE8XdC0gec/yj0EE9+N5z+HhmZ8jxXoP0jyRUoBLOg/NJjG91Qh5j9u2xPbhUfoPzspB1HagOc/M///vzfE5z+Oybs9ykroP6WMPuhDGOg/kx0H2rMU6D/aaXX8sV/oPzcy0InhWeg/ziansQc75z8ay/l06xXoPzoA2WFb/uQ/YyH6HlWi5j88hLs6k6rlP1c5KaEPWeg/Tuv55O+T6D/HRt9Nf5voP1ae+x4UlOg/RYeo/Iln5z+npECLuBboP3y0AJc0U+g/bpFL/7kT5D+hlUo8/kjoP1VLjFSMreg/RZx+hF1U6D9TwstmRZLoPwXrICSxJeg/4+KIedGa6D8mLh5MrY7oP2JxIf5ymOg/agO7MVKe6D+Y80hJ/KLoP1OpvbOrQeU/RANUHNGU6D9G9am6R63oP7glv4D2leg/XBr3lsMp6D8GJgwXypPoPwJIJDUrqug/QMVnKe9/6D9j+mRX/5voPzmm5BeVXOc/Dos9M4OH6D8Wf1f+ntflP7MKJV+dq+g/Mtho1z9W6D9LsYK2r5XoP0Np25AJnug/tka9zZR36D9SsJ2A2IjoP97b/8zFoeg/EDDmLv/45j/qH8AbOJnoP/10arLBOOU/RYrTVbwi6D9ChMgse6noP5nI4BbmQOg/OUbTi28P5j/tE6Cf2hfoP1kigSsNoeg/OvLQINJG6D+6biJUljfoP4dHaoDCPeg/enKZD/Xy5z9Gyd8J0kjoP9jBtt+uOug/mrVdFZqV6D/tSAqn+0noP2qo2evvOug/E9wjUakr6D9+G72Jm8jnPzfJ/QNnO+c/SeRnBwT35j9Mix+WDvvnP4442JUDOOc/EpfO/sP65z8=",
          "dtype": "f8"
         }
        },
        {
         "legendgroup": "2",
         "marker": {
          "color": "#636EFA",
          "line": {
           "color": "black",
           "width": 2
          },
          "size": 10
         },
         "mode": "markers",
         "name": "Лучшее: LGBMClassifier",
         "showlegend": false,
         "type": "scatter",
         "x": [
          102.578714
         ],
         "y": [
          0.7711850787476161
         ]
        },
        {
         "legendgroup": "3",
         "legendgrouptitle": {
          "text": "PassiveAggressiveClassifier+Bert"
         },
         "marker": {
          "color": "#EF553B",
          "opacity": 0.5,
          "size": 10
         },
         "mode": "markers",
         "name": "PassiveAggressiveClassifier+Bert",
         "type": "scatter",
         "x": {
          "bdata": "/dzQlJ2OJEBw6ZjzjE0lQEONQpJZTSZAOq5GdqWVKkBZwtoYO1krQEj6tIr+YCtAdt8xPPajLEAS2nIuxQUuQMKGp1fKWi9AUrmJWppXMEB0stR6v50xQJHRAUnY+zFA7IfYYOGAMkBaZDvfT6EyQLIv2Xiw+TJAO4kI/yJkM0C4PxcNGes0QDY9KChFCzVApYXLKmxqNUCXjGMke/w3QJepSfCGMDhABhGpaRcXOkCu2F92T/I7QJPEknL3ATxAn1bRH5p5PEAbuW5KeYU8QO4HPDCAJD1Aa2EW2jllPUDcErngDGY+QA8pBkg0hT5AGD+Ne/PHPkAiiPNwAgs/QPT+P06YdD9AI4JxcOmAP0D2CDVDqsg/QIUJo1nZ0j9AJ0pCIm0JQEDd0f9yLQxAQEK0VrQ5LkBAdELooEuAQEAn3gGetMhAQARWDi2y2UBAXOhKBKr/QEDwF7Mlqx5BQKN5AIv8bkFABtodUgy4QUBXe9gLBS5CQP2C3bBtI0NA5pSAmISNQ0CBXOLIA59DQO/GgsKgqkNAQbYsX5drREDtEP+wpSNGQFovhnKiF0dAlMFR8uqISUB4eqUsQxxKQI+pu7ILVEpAgxQ8hVy/SkAST3Yzo91KQIicvp6vi0tAyhmKO966S0AbvK/KhexLQEiJXdvb9UxA0EICRpcbTUBgBfhu86pNQCB8KNGSvU1A8dk6ONixTkCrr64K1LxOQKhzRSkh6k5APDJWm//3TkAzGCMShTJPQFVntcAeAlBAtrsH6L4tUECH26FhMT1QQBfxnZj1V1BA/Io1XOS9UEA90XXhBwxRQKTfvg6cGlFAMepae58gUUAqN1FLcyhRQEW3XtODVlFAnRA66BK7UUBuwOeHESFSQEoLl1XYU1JACVBTy9Z0UkCd2hmmtqBSQKoLeJlhyFJAbeS6KeUuU0C/0vnwLKxUQOzBpPj4J1VAxhnDnKCCVUCyDdyBOqdVQLa8cr1tZlZALCtNSkGSVkALs9DOaXlYQFRx4xZzn2BApwNZTy3WY0CM9nghnTNoQEIHXcKhu5FANq0UAtkElkA=",
          "dtype": "f8"
         },
         "y": {
          "bdata": "aV/al/al7T9pX9qX9qXtP8hCFrKQhew/InbVaSVi5z9pX9qX9qXtP2lf2pf2pe0/wNm1BgSc7T9pX9qX9qXtP8DZtQYEnO0/wNm1BgSc7T9pX9qX9qXtP2lf2pf2pe0/aV/al/al7T9pX9qX9qXtP5dzbNEYJ+0/5ApicgUx7T/AzPXUiJLnP5ktajW+/Ow/CFgdX8qY7T+ljXdUs/7sP7hwqu0yHe0/A869hY537T+CCtseByntP2lf2pf2pe0/nh/Tw8BZ6D9pX9qX9qXtP8DZtQYEnO0/aV/al/al7T9pX9qX9qXtP2lf2pf2pe0/0V5Cewnt6z8IWB1fypjtP2lf2pf2pe0/wNm1BgSc7T9kB9lBdpDtP2lf2pf2pe0/wNm1BgSc7T/A2bUGBJztP5XXUF5Dee0/hK91lIWB7T8IWB1fypjtPwrQ71Br5+o/CFgdX8qY7T/a4yogGJLtP2lf2pf2pe0/hK91lIWB7T/A2bUGBJztP4vpLKazmOo/pkRB4+Br7T+326g6IWrtP9rjKiAYku0/CFgdX8qY7T9L8UeyV67oP5XXUF5Dee0/aV/al/al7T9pX9qX9qXtP2lf2pf2pe0/TtM0TdM07T9pX9qX9qXtP2lf2pf2pe0/aV/al/al7T+E+oGtlonsP2lf2pf2pe0/aV/al/al7T9pX9qX9qXtP2lf2pf2pe0/aV/al/al7T9pX9qX9qXtP8DZtQYEnO0/aV/al/al7T9pX9qX9qXtP7hwqu0yHe0/wNm1BgSc7T/A2bUGBJztP9rjKiAYku0/wFbLRC4o7D9pX9qX9qXtP9rjKiAYku0/OlYgjLRj7T/A2bUGBJztP2lf2pf2pe0/aV/al/al7T9i1OWJH0btP2lf2pf2pe0/adiB54qG7T/A2bUGBJztP9KhBrszGe0/aV/al/al7T+mREHj4GvtP8DZtQYEnO0/ZAfZQXaQ7T8eVgC34ITtP2QH2UF2kO0/HlYAt+CE7T/I2QwyPFbtP4T6ga2Wiew/E6pA120E6z84DCkNtqvsP90i3SLdIu0/fiM8ezvB7D8=",
          "dtype": "f8"
         }
        },
        {
         "legendgroup": "3",
         "marker": {
          "color": "#EF553B",
          "line": {
           "color": "black",
           "width": 2
          },
          "size": 10
         },
         "mode": "markers",
         "name": "Лучшее: PassiveAggressiveClassifier+Bert",
         "showlegend": false,
         "type": "scatter",
         "x": [
          10.278546
         ],
         "y": [
          0.926509186351706
         ]
        }
       ],
       "layout": {
        "height": 500,
        "showlegend": true,
        "template": {
         "data": {
          "bar": [
           {
            "error_x": {
             "color": "#2a3f5f"
            },
            "error_y": {
             "color": "#2a3f5f"
            },
            "marker": {
             "line": {
              "color": "white",
              "width": 0.5
             },
             "pattern": {
              "fillmode": "overlay",
              "size": 10,
              "solidity": 0.2
             }
            },
            "type": "bar"
           }
          ],
          "barpolar": [
           {
            "marker": {
             "line": {
              "color": "white",
              "width": 0.5
             },
             "pattern": {
              "fillmode": "overlay",
              "size": 10,
              "solidity": 0.2
             }
            },
            "type": "barpolar"
           }
          ],
          "carpet": [
           {
            "aaxis": {
             "endlinecolor": "#2a3f5f",
             "gridcolor": "#C8D4E3",
             "linecolor": "#C8D4E3",
             "minorgridcolor": "#C8D4E3",
             "startlinecolor": "#2a3f5f"
            },
            "baxis": {
             "endlinecolor": "#2a3f5f",
             "gridcolor": "#C8D4E3",
             "linecolor": "#C8D4E3",
             "minorgridcolor": "#C8D4E3",
             "startlinecolor": "#2a3f5f"
            },
            "type": "carpet"
           }
          ],
          "choropleth": [
           {
            "colorbar": {
             "outlinewidth": 0,
             "ticks": ""
            },
            "type": "choropleth"
           }
          ],
          "contour": [
           {
            "colorbar": {
             "outlinewidth": 0,
             "ticks": ""
            },
            "colorscale": [
             [
              0,
              "#0d0887"
             ],
             [
              0.1111111111111111,
              "#46039f"
             ],
             [
              0.2222222222222222,
              "#7201a8"
             ],
             [
              0.3333333333333333,
              "#9c179e"
             ],
             [
              0.4444444444444444,
              "#bd3786"
             ],
             [
              0.5555555555555556,
              "#d8576b"
             ],
             [
              0.6666666666666666,
              "#ed7953"
             ],
             [
              0.7777777777777778,
              "#fb9f3a"
             ],
             [
              0.8888888888888888,
              "#fdca26"
             ],
             [
              1,
              "#f0f921"
             ]
            ],
            "type": "contour"
           }
          ],
          "contourcarpet": [
           {
            "colorbar": {
             "outlinewidth": 0,
             "ticks": ""
            },
            "type": "contourcarpet"
           }
          ],
          "heatmap": [
           {
            "colorbar": {
             "outlinewidth": 0,
             "ticks": ""
            },
            "colorscale": [
             [
              0,
              "#0d0887"
             ],
             [
              0.1111111111111111,
              "#46039f"
             ],
             [
              0.2222222222222222,
              "#7201a8"
             ],
             [
              0.3333333333333333,
              "#9c179e"
             ],
             [
              0.4444444444444444,
              "#bd3786"
             ],
             [
              0.5555555555555556,
              "#d8576b"
             ],
             [
              0.6666666666666666,
              "#ed7953"
             ],
             [
              0.7777777777777778,
              "#fb9f3a"
             ],
             [
              0.8888888888888888,
              "#fdca26"
             ],
             [
              1,
              "#f0f921"
             ]
            ],
            "type": "heatmap"
           }
          ],
          "histogram": [
           {
            "marker": {
             "pattern": {
              "fillmode": "overlay",
              "size": 10,
              "solidity": 0.2
             }
            },
            "type": "histogram"
           }
          ],
          "histogram2d": [
           {
            "colorbar": {
             "outlinewidth": 0,
             "ticks": ""
            },
            "colorscale": [
             [
              0,
              "#0d0887"
             ],
             [
              0.1111111111111111,
              "#46039f"
             ],
             [
              0.2222222222222222,
              "#7201a8"
             ],
             [
              0.3333333333333333,
              "#9c179e"
             ],
             [
              0.4444444444444444,
              "#bd3786"
             ],
             [
              0.5555555555555556,
              "#d8576b"
             ],
             [
              0.6666666666666666,
              "#ed7953"
             ],
             [
              0.7777777777777778,
              "#fb9f3a"
             ],
             [
              0.8888888888888888,
              "#fdca26"
             ],
             [
              1,
              "#f0f921"
             ]
            ],
            "type": "histogram2d"
           }
          ],
          "histogram2dcontour": [
           {
            "colorbar": {
             "outlinewidth": 0,
             "ticks": ""
            },
            "colorscale": [
             [
              0,
              "#0d0887"
             ],
             [
              0.1111111111111111,
              "#46039f"
             ],
             [
              0.2222222222222222,
              "#7201a8"
             ],
             [
              0.3333333333333333,
              "#9c179e"
             ],
             [
              0.4444444444444444,
              "#bd3786"
             ],
             [
              0.5555555555555556,
              "#d8576b"
             ],
             [
              0.6666666666666666,
              "#ed7953"
             ],
             [
              0.7777777777777778,
              "#fb9f3a"
             ],
             [
              0.8888888888888888,
              "#fdca26"
             ],
             [
              1,
              "#f0f921"
             ]
            ],
            "type": "histogram2dcontour"
           }
          ],
          "mesh3d": [
           {
            "colorbar": {
             "outlinewidth": 0,
             "ticks": ""
            },
            "type": "mesh3d"
           }
          ],
          "parcoords": [
           {
            "line": {
             "colorbar": {
              "outlinewidth": 0,
              "ticks": ""
             }
            },
            "type": "parcoords"
           }
          ],
          "pie": [
           {
            "automargin": true,
            "type": "pie"
           }
          ],
          "scatter": [
           {
            "fillpattern": {
             "fillmode": "overlay",
             "size": 10,
             "solidity": 0.2
            },
            "type": "scatter"
           }
          ],
          "scatter3d": [
           {
            "line": {
             "colorbar": {
              "outlinewidth": 0,
              "ticks": ""
             }
            },
            "marker": {
             "colorbar": {
              "outlinewidth": 0,
              "ticks": ""
             }
            },
            "type": "scatter3d"
           }
          ],
          "scattercarpet": [
           {
            "marker": {
             "colorbar": {
              "outlinewidth": 0,
              "ticks": ""
             }
            },
            "type": "scattercarpet"
           }
          ],
          "scattergeo": [
           {
            "marker": {
             "colorbar": {
              "outlinewidth": 0,
              "ticks": ""
             }
            },
            "type": "scattergeo"
           }
          ],
          "scattergl": [
           {
            "marker": {
             "colorbar": {
              "outlinewidth": 0,
              "ticks": ""
             }
            },
            "type": "scattergl"
           }
          ],
          "scattermap": [
           {
            "marker": {
             "colorbar": {
              "outlinewidth": 0,
              "ticks": ""
             }
            },
            "type": "scattermap"
           }
          ],
          "scattermapbox": [
           {
            "marker": {
             "colorbar": {
              "outlinewidth": 0,
              "ticks": ""
             }
            },
            "type": "scattermapbox"
           }
          ],
          "scatterpolar": [
           {
            "marker": {
             "colorbar": {
              "outlinewidth": 0,
              "ticks": ""
             }
            },
            "type": "scatterpolar"
           }
          ],
          "scatterpolargl": [
           {
            "marker": {
             "colorbar": {
              "outlinewidth": 0,
              "ticks": ""
             }
            },
            "type": "scatterpolargl"
           }
          ],
          "scatterternary": [
           {
            "marker": {
             "colorbar": {
              "outlinewidth": 0,
              "ticks": ""
             }
            },
            "type": "scatterternary"
           }
          ],
          "surface": [
           {
            "colorbar": {
             "outlinewidth": 0,
             "ticks": ""
            },
            "colorscale": [
             [
              0,
              "#0d0887"
             ],
             [
              0.1111111111111111,
              "#46039f"
             ],
             [
              0.2222222222222222,
              "#7201a8"
             ],
             [
              0.3333333333333333,
              "#9c179e"
             ],
             [
              0.4444444444444444,
              "#bd3786"
             ],
             [
              0.5555555555555556,
              "#d8576b"
             ],
             [
              0.6666666666666666,
              "#ed7953"
             ],
             [
              0.7777777777777778,
              "#fb9f3a"
             ],
             [
              0.8888888888888888,
              "#fdca26"
             ],
             [
              1,
              "#f0f921"
             ]
            ],
            "type": "surface"
           }
          ],
          "table": [
           {
            "cells": {
             "fill": {
              "color": "#EBF0F8"
             },
             "line": {
              "color": "white"
             }
            },
            "header": {
             "fill": {
              "color": "#C8D4E3"
             },
             "line": {
              "color": "white"
             }
            },
            "type": "table"
           }
          ]
         },
         "layout": {
          "annotationdefaults": {
           "arrowcolor": "#2a3f5f",
           "arrowhead": 0,
           "arrowwidth": 1
          },
          "autotypenumbers": "strict",
          "coloraxis": {
           "colorbar": {
            "outlinewidth": 0,
            "ticks": ""
           }
          },
          "colorscale": {
           "diverging": [
            [
             0,
             "#8e0152"
            ],
            [
             0.1,
             "#c51b7d"
            ],
            [
             0.2,
             "#de77ae"
            ],
            [
             0.3,
             "#f1b6da"
            ],
            [
             0.4,
             "#fde0ef"
            ],
            [
             0.5,
             "#f7f7f7"
            ],
            [
             0.6,
             "#e6f5d0"
            ],
            [
             0.7,
             "#b8e186"
            ],
            [
             0.8,
             "#7fbc41"
            ],
            [
             0.9,
             "#4d9221"
            ],
            [
             1,
             "#276419"
            ]
           ],
           "sequential": [
            [
             0,
             "#0d0887"
            ],
            [
             0.1111111111111111,
             "#46039f"
            ],
            [
             0.2222222222222222,
             "#7201a8"
            ],
            [
             0.3333333333333333,
             "#9c179e"
            ],
            [
             0.4444444444444444,
             "#bd3786"
            ],
            [
             0.5555555555555556,
             "#d8576b"
            ],
            [
             0.6666666666666666,
             "#ed7953"
            ],
            [
             0.7777777777777778,
             "#fb9f3a"
            ],
            [
             0.8888888888888888,
             "#fdca26"
            ],
            [
             1,
             "#f0f921"
            ]
           ],
           "sequentialminus": [
            [
             0,
             "#0d0887"
            ],
            [
             0.1111111111111111,
             "#46039f"
            ],
            [
             0.2222222222222222,
             "#7201a8"
            ],
            [
             0.3333333333333333,
             "#9c179e"
            ],
            [
             0.4444444444444444,
             "#bd3786"
            ],
            [
             0.5555555555555556,
             "#d8576b"
            ],
            [
             0.6666666666666666,
             "#ed7953"
            ],
            [
             0.7777777777777778,
             "#fb9f3a"
            ],
            [
             0.8888888888888888,
             "#fdca26"
            ],
            [
             1,
             "#f0f921"
            ]
           ]
          },
          "colorway": [
           "#636efa",
           "#EF553B",
           "#00cc96",
           "#ab63fa",
           "#FFA15A",
           "#19d3f3",
           "#FF6692",
           "#B6E880",
           "#FF97FF",
           "#FECB52"
          ],
          "font": {
           "color": "#2a3f5f"
          },
          "geo": {
           "bgcolor": "white",
           "lakecolor": "white",
           "landcolor": "white",
           "showlakes": true,
           "showland": true,
           "subunitcolor": "#C8D4E3"
          },
          "hoverlabel": {
           "align": "left"
          },
          "hovermode": "closest",
          "mapbox": {
           "style": "light"
          },
          "paper_bgcolor": "white",
          "plot_bgcolor": "white",
          "polar": {
           "angularaxis": {
            "gridcolor": "#EBF0F8",
            "linecolor": "#EBF0F8",
            "ticks": ""
           },
           "bgcolor": "white",
           "radialaxis": {
            "gridcolor": "#EBF0F8",
            "linecolor": "#EBF0F8",
            "ticks": ""
           }
          },
          "scene": {
           "xaxis": {
            "backgroundcolor": "white",
            "gridcolor": "#DFE8F3",
            "gridwidth": 2,
            "linecolor": "#EBF0F8",
            "showbackground": true,
            "ticks": "",
            "zerolinecolor": "#EBF0F8"
           },
           "yaxis": {
            "backgroundcolor": "white",
            "gridcolor": "#DFE8F3",
            "gridwidth": 2,
            "linecolor": "#EBF0F8",
            "showbackground": true,
            "ticks": "",
            "zerolinecolor": "#EBF0F8"
           },
           "zaxis": {
            "backgroundcolor": "white",
            "gridcolor": "#DFE8F3",
            "gridwidth": 2,
            "linecolor": "#EBF0F8",
            "showbackground": true,
            "ticks": "",
            "zerolinecolor": "#EBF0F8"
           }
          },
          "shapedefaults": {
           "line": {
            "color": "#2a3f5f"
           }
          },
          "ternary": {
           "aaxis": {
            "gridcolor": "#DFE8F3",
            "linecolor": "#A2B1C6",
            "ticks": ""
           },
           "baxis": {
            "gridcolor": "#DFE8F3",
            "linecolor": "#A2B1C6",
            "ticks": ""
           },
           "bgcolor": "white",
           "caxis": {
            "gridcolor": "#DFE8F3",
            "linecolor": "#A2B1C6",
            "ticks": ""
           }
          },
          "title": {
           "x": 0.05
          },
          "xaxis": {
           "automargin": true,
           "gridcolor": "#EBF0F8",
           "linecolor": "#EBF0F8",
           "ticks": "",
           "title": {
            "standoff": 15
           },
           "zerolinecolor": "#EBF0F8",
           "zerolinewidth": 2
          },
          "yaxis": {
           "automargin": true,
           "gridcolor": "#EBF0F8",
           "linecolor": "#EBF0F8",
           "ticks": "",
           "title": {
            "standoff": 15
           },
           "zerolinecolor": "#EBF0F8",
           "zerolinewidth": 2
          }
         }
        },
        "title": {
         "text": "F1 в зависимости от времени трейла"
        },
        "width": 800,
        "xaxis": {
         "title": {
          "text": "Время выполнения трейла (сек)"
         }
        },
        "yaxis": {
         "title": {
          "text": "F1"
         }
        }
       }
      }
     },
     "metadata": {},
     "output_type": "display_data"
    },
    {
     "data": {
      "application/vnd.plotly.v1+json": {
       "config": {
        "plotlyServerURL": "https://plot.ly"
       },
       "data": [
        {
         "legendgroup": "0",
         "legendgrouptitle": {
          "text": "LogisticRegression"
         },
         "marker": {
          "color": "#00CC96"
         },
         "name": "LogisticRegression",
         "nbinsx": 300,
         "opacity": 0.6,
         "type": "histogram",
         "x": {
          "bdata": "syJxhbtP4z9mtvF2ma/XP73d1hs7Aeg/Q+BpBqfl5z/us3t2GTfnP8cuA2ay1eg/+DnUktVK5z/JjQaJ94jjP4pQUEwmoeg/57tyaiEt2T8W+XnQ5NjoP7nlzra24ug/j+gR05O+6D9hgkxEOLnoPzMOPw16x+g/2ByxFU2I6D+SYJWR4tnoPxT7P1HS0+g/clEJb02P6D9J7Ym1JEzoP/tV+NmIz+g/Z0o66Rri6D/jrOk9FNzoPzfOsq2Wv+g/pa2kOaCk6D8CEB8jPM3oP+SUEjYlaug/dx0DAjzf6D/S/5zdB8joP9b5anrBv+g/3q7kB+5T6D+izgYSUuToP3NTeurP1Og/15FYV1Hc6D9W/uJS1szoP8oJ9fRzq+g/duB4ECfC6D8uT9wLZ6zoP7aYYExP4Og/pQ27uj6h6D9O+7HTvYfoP04/zw2L2Og/KIf8uH3f6D+TcidRzN/oP9jwE33r5ec/ehv90CjZ6D9Y534/PtboP8Fy42TXqug/2p/YDO3D6D90rg01bIXoP55BdiiO3eg/5ZE58vXb6D/1sMiy19boP4ZiBdFI5+g/WoYBDMHM6D8Yz4hDctXoPx0Y7nxB1Oc/bXMTTqug6D+tLx1QfNToP1dBbd9LVec/ZaMlbKt16D9ZUSMQy+foP4+R16Zd4eg/5eCILS7i6D+KJDBvcOboPzlz0wfX6eg/ThJTrP7Y6D8qqBapjBfoP/Y5qhU1pOg/Hg6XfWTb6D8FyS0QTM7oP0JcopKj5eg/uD0wUkbf6D/ocO85qeToP8joocxp2ug/yZqD/sjX6D922UgJ/hjXP2NROdsG0Og/MW44b77E6D9+kMqjsKjoP87UD5xt1eg/HtfpgR3k6D/wXYdlpe3oP8fxVPk+5Og/s7/GrYTi6D8qmEMTy9zoP74ncF7S4Og/OvZGMt/g6D8t6HkOEd7oP1PRhj51h+g/UVPDbvja6D/ScA5UPe3oP14XzSvV5eg/lDYcPVHr6D96EzHdcQLnP9aaQgfO2Og/pLyBScra6D9tqvrazNvoPz4JAvGeo+g/mpjaFvbZ6D8=",
          "dtype": "f8"
         }
        },
        {
         "legendgroup": "1",
         "legendgrouptitle": {
          "text": "PassiveAggressiveClassifier"
         },
         "marker": {
          "color": "#AB63FA"
         },
         "name": "PassiveAggressiveClassifier",
         "nbinsx": 25,
         "opacity": 0.6,
         "type": "histogram",
         "x": {
          "bdata": "uFxw8/XB6D9l8ayGqCDpP+qNQShSr+c/rcwgs+Hb6D/03/jZnRLoP8/EEnpY1+c/7qsvtwyA5z8+31QVda3oP8F4SpdnL+k/yp9vKaRD6T+VjWJDNBTpP77O8KyqNuk/cnAe3CA06T9Kp+/DliDpP0z+zYfNJ+k/FZXogcAn6T/mbR+aPivpP4STag2lU+k//H2H84hR6T+7kmNYWFfpPyWhyVG4Tek/5xMjbSNW6T/YzWlwlGXpP0m4VO6cYuk/+Gm0dull6T+jOSk2G2PpP6dDE8e32uc/AMYci+th6T+5IDqC6mPpP7AaF8IW0Og/xIxI22hY6T9NKNcGjWbpP5J+QDIYY+k/MOiqdzRh6T8hvnrMXl/pP+vbR2Dgv+g/KBdNQWra6D9VVWB8LmboP6invcbZxeg/eb5bZOML6D96/mXvCGbpP+GED5nuZOk/RoaVbHRl6T9y5s+R4VnpP4bkcjlbZuk/j1Bf5h9X6T9lEbCmI8voP7VfKb2dBuk/stNubZsl6T/fuOpWUk/pPxc451uNMOk/sirX9P9k6T/s/pVLv1rpP66NW7TwYek/vXHmQLdl6T/4nvvVmWfpP/+SJmxJN+k/mvyNvUpY6T8LFNZc/VvpP14yV9p02Og/Tl9peLmg6D9Jy75oxGPpP7rYi1DDaOk/7Bn0yBNe6T95kdy7vWPpPzmvZxSOJOk/ivPcd5BY6T+ephYi12LpPzUNYwT/Xuk/ODvYqQdj6T9wV5oe+VPpP5l9mZPHY+k/UHL6CHJf6T+yoXjal2TpPy2o6zsKXuk/WlOKMgRn6T+/Jc1FCM3oP40WgmfmOeg/ki+/1YJo6T94+hFg/GfpPzJpJAnoZOk/kQti5jtl6T/0War0SGDpP5bzTPT6Y+k/cu1o8E9m6T/q4fIVMy7pPxv6XSc3Yek/z27/3o1m6T/D3I8khI7oP5PojIFsM+k/a1TKya8i6D8AR5GJ62jpP0Jc8+THaek/E9P8WSlk6T+eCDffymLpPxXJym0wZ+k/KJiK2ZU56T/I5U6MV2TpP5jojlMzXOk//gPO3gdl6T8=",
          "dtype": "f8"
         }
        },
        {
         "legendgroup": "2",
         "legendgrouptitle": {
          "text": "LGBMClassifier"
         },
         "marker": {
          "color": "#FFA15A"
         },
         "name": "LGBMClassifier",
         "nbinsx": 30,
         "opacity": 0.6,
         "type": "histogram",
         "x": {
          "bdata": "jjjYlQM45z/jS7TdAK3jPzfJ/QNnO+c/6Y7/GjPm5j+Wi1xV+iHmPzlG04tvD+Y/dtgPIkxB5T+92d7ErdHlPzoA2WFb/uQ/SeRnBwT35j99c3SN273nPzP//783xOc/39M56J/R5z/l41SlX/LnP/Tt2BcoDug/TAiJfOIo6D9gsPPeIzPoP3MPUre03+c/NJjG91Qh5j/0BBSyCBDoP4KqecNnWeU/AC1mVN4k6D/PdLQ+oAboPwXrICSxJeg/p6RAi7gW6D+ljD7oQxjoP84mp7EHO+c/kx0H2rMU6D+dIJ1V+s7lPzmm5BeVXOc/g1PxW0UY6D/X3W+LZgroP4eGZnyPFeg/Gsv5dOsV6D87KQdR2oDnPxC8XgEPbuc/XBr3lsMp6D8Wf1f+ntflP0yLH5YO++c/E9wjUakr6D9jIfoeVaLmPxKXzv7D+uc/fhu9iZvI5z/tSAqn+0noP9jBtt+uOug/RsnfCdJI6D+6biJUljfoP+0ToJ/aF+g/EDDmLv/45j9qqNnr7zroP0jyRUoBLOg/enKZD/Xy5z+HR2qAwj3oP5nI4BbmQOg/OvLQINJG6D9FitNVvCLoP3y0AJc0U+g/oZVKPP5I6D9FnH6EXVToP26RS/+5E+Q/VzkpoQ9Z6D+Oybs9ykroP27bE9uFR+g/Mtho1z9W6D/aaXX8sV/oPyYuHkytjug/tka9zZR36D9Tqb2zq0HlP0uxgravleg/3tv/zMWh6D/KPQQT343nP0DFZynvf+g/UrCdgNiI6D8Oiz0zg4foPwYmDBfKk+g/YnEh/nKY6D+Y80hJ/KLoP/10arLBOOU/6h/AGziZ6D9ChMgse6noP0WHqPyJZ+c/mrVdFZqV6D9ZIoErDaHoP0Np25AJnug/Y/pkV/+b6D+4Jb+A9pXoP2oDuzFSnug/4+KIedGa6D/HRt9Nf5voPzcy0InhWeg/PIS7OpOq5T9TwstmRZLoP1ae+x4UlOg/VUuMVIyt6D9O6/nk75PoP0b1qbpHreg/AkgkNSuq6D+zCiVfnavoPzE8XdC0gec/RANUHNGU6D8=",
          "dtype": "f8"
         }
        },
        {
         "legendgroup": "3",
         "legendgrouptitle": {
          "text": "PassiveAggressiveClassifier+Bert"
         },
         "marker": {
          "color": "#19D3F3"
         },
         "name": "PassiveAggressiveClassifier+Bert",
         "nbinsx": 50,
         "opacity": 0.6,
         "type": "histogram",
         "x": {
          "bdata": "nh/Tw8BZ6D8idtVpJWLnPwrQ71Br5+o/yNkMMjxW7T9i1OWJH0btP4vpLKazmOo/pY13VLP+7D+mREHj4GvtP5ktajW+/Ow/aV/al/al7T8eVgC34ITtP2QH2UF2kO0/aV/al/al7T9pX9qX9qXtP34jPHs7wew/wNm1BgSc7T9pX9qX9qXtP2lf2pf2pe0/OlYgjLRj7T/A2bUGBJztP2lf2pf2pe0/aV/al/al7T/A2bUGBJztP8DZtQYEnO0/aV/al/al7T9pX9qX9qXtP4T6ga2Wiew/aV/al/al7T/A2bUGBJztP8DM9dSIkuc/adiB54qG7T9pX9qX9qXtP8DZtQYEnO0/ZAfZQXaQ7T9L8UeyV67oP2lf2pf2pe0/lddQXkN57T8TqkDXbQTrP4SvdZSFge0/uHCq7TId7T/IQhaykIXsP2lf2pf2pe0/wNm1BgSc7T9pX9qX9qXtP9rjKiAYku0/2uMqIBiS7T+Er3WUhYHtP07TNE3TNO0/CFgdX8qY7T/SoQa7MxntP2QH2UF2kO0/aV/al/al7T/A2bUGBJztP2lf2pf2pe0/wNm1BgSc7T9pX9qX9qXtPwhYHV/KmO0/0V5Cewnt6z9pX9qX9qXtP2lf2pf2pe0/5ApicgUx7T/A2bUGBJztP9rjKiAYku0/lddQXkN57T9pX9qX9qXtP6ZEQePga+0/CFgdX8qY7T/AVstELijsP2lf2pf2pe0/wNm1BgSc7T+Xc2zRGCftP8DZtQYEnO0/aV/al/al7T9pX9qX9qXtP2lf2pf2pe0/CFgdX8qY7T84DCkNtqvsPwhYHV/KmO0/3SLdIt0i7T/a4yogGJLtP7hwqu0yHe0/aV/al/al7T9pX9qX9qXtP2lf2pf2pe0/aV/al/al7T9pX9qX9qXtP7fbqDohau0/wNm1BgSc7T+E+oGtlonsP2lf2pf2pe0/aV/al/al7T9pX9qX9qXtP2lf2pf2pe0/aV/al/al7T/A2bUGBJztP2lf2pf2pe0/aV/al/al7T+CCtseByntPwPOvYWOd+0/HlYAt+CE7T8=",
          "dtype": "f8"
         }
        }
       ],
       "layout": {
        "barmode": "overlay",
        "height": 500,
        "showlegend": true,
        "template": {
         "data": {
          "bar": [
           {
            "error_x": {
             "color": "#2a3f5f"
            },
            "error_y": {
             "color": "#2a3f5f"
            },
            "marker": {
             "line": {
              "color": "white",
              "width": 0.5
             },
             "pattern": {
              "fillmode": "overlay",
              "size": 10,
              "solidity": 0.2
             }
            },
            "type": "bar"
           }
          ],
          "barpolar": [
           {
            "marker": {
             "line": {
              "color": "white",
              "width": 0.5
             },
             "pattern": {
              "fillmode": "overlay",
              "size": 10,
              "solidity": 0.2
             }
            },
            "type": "barpolar"
           }
          ],
          "carpet": [
           {
            "aaxis": {
             "endlinecolor": "#2a3f5f",
             "gridcolor": "#C8D4E3",
             "linecolor": "#C8D4E3",
             "minorgridcolor": "#C8D4E3",
             "startlinecolor": "#2a3f5f"
            },
            "baxis": {
             "endlinecolor": "#2a3f5f",
             "gridcolor": "#C8D4E3",
             "linecolor": "#C8D4E3",
             "minorgridcolor": "#C8D4E3",
             "startlinecolor": "#2a3f5f"
            },
            "type": "carpet"
           }
          ],
          "choropleth": [
           {
            "colorbar": {
             "outlinewidth": 0,
             "ticks": ""
            },
            "type": "choropleth"
           }
          ],
          "contour": [
           {
            "colorbar": {
             "outlinewidth": 0,
             "ticks": ""
            },
            "colorscale": [
             [
              0,
              "#0d0887"
             ],
             [
              0.1111111111111111,
              "#46039f"
             ],
             [
              0.2222222222222222,
              "#7201a8"
             ],
             [
              0.3333333333333333,
              "#9c179e"
             ],
             [
              0.4444444444444444,
              "#bd3786"
             ],
             [
              0.5555555555555556,
              "#d8576b"
             ],
             [
              0.6666666666666666,
              "#ed7953"
             ],
             [
              0.7777777777777778,
              "#fb9f3a"
             ],
             [
              0.8888888888888888,
              "#fdca26"
             ],
             [
              1,
              "#f0f921"
             ]
            ],
            "type": "contour"
           }
          ],
          "contourcarpet": [
           {
            "colorbar": {
             "outlinewidth": 0,
             "ticks": ""
            },
            "type": "contourcarpet"
           }
          ],
          "heatmap": [
           {
            "colorbar": {
             "outlinewidth": 0,
             "ticks": ""
            },
            "colorscale": [
             [
              0,
              "#0d0887"
             ],
             [
              0.1111111111111111,
              "#46039f"
             ],
             [
              0.2222222222222222,
              "#7201a8"
             ],
             [
              0.3333333333333333,
              "#9c179e"
             ],
             [
              0.4444444444444444,
              "#bd3786"
             ],
             [
              0.5555555555555556,
              "#d8576b"
             ],
             [
              0.6666666666666666,
              "#ed7953"
             ],
             [
              0.7777777777777778,
              "#fb9f3a"
             ],
             [
              0.8888888888888888,
              "#fdca26"
             ],
             [
              1,
              "#f0f921"
             ]
            ],
            "type": "heatmap"
           }
          ],
          "histogram": [
           {
            "marker": {
             "pattern": {
              "fillmode": "overlay",
              "size": 10,
              "solidity": 0.2
             }
            },
            "type": "histogram"
           }
          ],
          "histogram2d": [
           {
            "colorbar": {
             "outlinewidth": 0,
             "ticks": ""
            },
            "colorscale": [
             [
              0,
              "#0d0887"
             ],
             [
              0.1111111111111111,
              "#46039f"
             ],
             [
              0.2222222222222222,
              "#7201a8"
             ],
             [
              0.3333333333333333,
              "#9c179e"
             ],
             [
              0.4444444444444444,
              "#bd3786"
             ],
             [
              0.5555555555555556,
              "#d8576b"
             ],
             [
              0.6666666666666666,
              "#ed7953"
             ],
             [
              0.7777777777777778,
              "#fb9f3a"
             ],
             [
              0.8888888888888888,
              "#fdca26"
             ],
             [
              1,
              "#f0f921"
             ]
            ],
            "type": "histogram2d"
           }
          ],
          "histogram2dcontour": [
           {
            "colorbar": {
             "outlinewidth": 0,
             "ticks": ""
            },
            "colorscale": [
             [
              0,
              "#0d0887"
             ],
             [
              0.1111111111111111,
              "#46039f"
             ],
             [
              0.2222222222222222,
              "#7201a8"
             ],
             [
              0.3333333333333333,
              "#9c179e"
             ],
             [
              0.4444444444444444,
              "#bd3786"
             ],
             [
              0.5555555555555556,
              "#d8576b"
             ],
             [
              0.6666666666666666,
              "#ed7953"
             ],
             [
              0.7777777777777778,
              "#fb9f3a"
             ],
             [
              0.8888888888888888,
              "#fdca26"
             ],
             [
              1,
              "#f0f921"
             ]
            ],
            "type": "histogram2dcontour"
           }
          ],
          "mesh3d": [
           {
            "colorbar": {
             "outlinewidth": 0,
             "ticks": ""
            },
            "type": "mesh3d"
           }
          ],
          "parcoords": [
           {
            "line": {
             "colorbar": {
              "outlinewidth": 0,
              "ticks": ""
             }
            },
            "type": "parcoords"
           }
          ],
          "pie": [
           {
            "automargin": true,
            "type": "pie"
           }
          ],
          "scatter": [
           {
            "fillpattern": {
             "fillmode": "overlay",
             "size": 10,
             "solidity": 0.2
            },
            "type": "scatter"
           }
          ],
          "scatter3d": [
           {
            "line": {
             "colorbar": {
              "outlinewidth": 0,
              "ticks": ""
             }
            },
            "marker": {
             "colorbar": {
              "outlinewidth": 0,
              "ticks": ""
             }
            },
            "type": "scatter3d"
           }
          ],
          "scattercarpet": [
           {
            "marker": {
             "colorbar": {
              "outlinewidth": 0,
              "ticks": ""
             }
            },
            "type": "scattercarpet"
           }
          ],
          "scattergeo": [
           {
            "marker": {
             "colorbar": {
              "outlinewidth": 0,
              "ticks": ""
             }
            },
            "type": "scattergeo"
           }
          ],
          "scattergl": [
           {
            "marker": {
             "colorbar": {
              "outlinewidth": 0,
              "ticks": ""
             }
            },
            "type": "scattergl"
           }
          ],
          "scattermap": [
           {
            "marker": {
             "colorbar": {
              "outlinewidth": 0,
              "ticks": ""
             }
            },
            "type": "scattermap"
           }
          ],
          "scattermapbox": [
           {
            "marker": {
             "colorbar": {
              "outlinewidth": 0,
              "ticks": ""
             }
            },
            "type": "scattermapbox"
           }
          ],
          "scatterpolar": [
           {
            "marker": {
             "colorbar": {
              "outlinewidth": 0,
              "ticks": ""
             }
            },
            "type": "scatterpolar"
           }
          ],
          "scatterpolargl": [
           {
            "marker": {
             "colorbar": {
              "outlinewidth": 0,
              "ticks": ""
             }
            },
            "type": "scatterpolargl"
           }
          ],
          "scatterternary": [
           {
            "marker": {
             "colorbar": {
              "outlinewidth": 0,
              "ticks": ""
             }
            },
            "type": "scatterternary"
           }
          ],
          "surface": [
           {
            "colorbar": {
             "outlinewidth": 0,
             "ticks": ""
            },
            "colorscale": [
             [
              0,
              "#0d0887"
             ],
             [
              0.1111111111111111,
              "#46039f"
             ],
             [
              0.2222222222222222,
              "#7201a8"
             ],
             [
              0.3333333333333333,
              "#9c179e"
             ],
             [
              0.4444444444444444,
              "#bd3786"
             ],
             [
              0.5555555555555556,
              "#d8576b"
             ],
             [
              0.6666666666666666,
              "#ed7953"
             ],
             [
              0.7777777777777778,
              "#fb9f3a"
             ],
             [
              0.8888888888888888,
              "#fdca26"
             ],
             [
              1,
              "#f0f921"
             ]
            ],
            "type": "surface"
           }
          ],
          "table": [
           {
            "cells": {
             "fill": {
              "color": "#EBF0F8"
             },
             "line": {
              "color": "white"
             }
            },
            "header": {
             "fill": {
              "color": "#C8D4E3"
             },
             "line": {
              "color": "white"
             }
            },
            "type": "table"
           }
          ]
         },
         "layout": {
          "annotationdefaults": {
           "arrowcolor": "#2a3f5f",
           "arrowhead": 0,
           "arrowwidth": 1
          },
          "autotypenumbers": "strict",
          "coloraxis": {
           "colorbar": {
            "outlinewidth": 0,
            "ticks": ""
           }
          },
          "colorscale": {
           "diverging": [
            [
             0,
             "#8e0152"
            ],
            [
             0.1,
             "#c51b7d"
            ],
            [
             0.2,
             "#de77ae"
            ],
            [
             0.3,
             "#f1b6da"
            ],
            [
             0.4,
             "#fde0ef"
            ],
            [
             0.5,
             "#f7f7f7"
            ],
            [
             0.6,
             "#e6f5d0"
            ],
            [
             0.7,
             "#b8e186"
            ],
            [
             0.8,
             "#7fbc41"
            ],
            [
             0.9,
             "#4d9221"
            ],
            [
             1,
             "#276419"
            ]
           ],
           "sequential": [
            [
             0,
             "#0d0887"
            ],
            [
             0.1111111111111111,
             "#46039f"
            ],
            [
             0.2222222222222222,
             "#7201a8"
            ],
            [
             0.3333333333333333,
             "#9c179e"
            ],
            [
             0.4444444444444444,
             "#bd3786"
            ],
            [
             0.5555555555555556,
             "#d8576b"
            ],
            [
             0.6666666666666666,
             "#ed7953"
            ],
            [
             0.7777777777777778,
             "#fb9f3a"
            ],
            [
             0.8888888888888888,
             "#fdca26"
            ],
            [
             1,
             "#f0f921"
            ]
           ],
           "sequentialminus": [
            [
             0,
             "#0d0887"
            ],
            [
             0.1111111111111111,
             "#46039f"
            ],
            [
             0.2222222222222222,
             "#7201a8"
            ],
            [
             0.3333333333333333,
             "#9c179e"
            ],
            [
             0.4444444444444444,
             "#bd3786"
            ],
            [
             0.5555555555555556,
             "#d8576b"
            ],
            [
             0.6666666666666666,
             "#ed7953"
            ],
            [
             0.7777777777777778,
             "#fb9f3a"
            ],
            [
             0.8888888888888888,
             "#fdca26"
            ],
            [
             1,
             "#f0f921"
            ]
           ]
          },
          "colorway": [
           "#636efa",
           "#EF553B",
           "#00cc96",
           "#ab63fa",
           "#FFA15A",
           "#19d3f3",
           "#FF6692",
           "#B6E880",
           "#FF97FF",
           "#FECB52"
          ],
          "font": {
           "color": "#2a3f5f"
          },
          "geo": {
           "bgcolor": "white",
           "lakecolor": "white",
           "landcolor": "white",
           "showlakes": true,
           "showland": true,
           "subunitcolor": "#C8D4E3"
          },
          "hoverlabel": {
           "align": "left"
          },
          "hovermode": "closest",
          "mapbox": {
           "style": "light"
          },
          "paper_bgcolor": "white",
          "plot_bgcolor": "white",
          "polar": {
           "angularaxis": {
            "gridcolor": "#EBF0F8",
            "linecolor": "#EBF0F8",
            "ticks": ""
           },
           "bgcolor": "white",
           "radialaxis": {
            "gridcolor": "#EBF0F8",
            "linecolor": "#EBF0F8",
            "ticks": ""
           }
          },
          "scene": {
           "xaxis": {
            "backgroundcolor": "white",
            "gridcolor": "#DFE8F3",
            "gridwidth": 2,
            "linecolor": "#EBF0F8",
            "showbackground": true,
            "ticks": "",
            "zerolinecolor": "#EBF0F8"
           },
           "yaxis": {
            "backgroundcolor": "white",
            "gridcolor": "#DFE8F3",
            "gridwidth": 2,
            "linecolor": "#EBF0F8",
            "showbackground": true,
            "ticks": "",
            "zerolinecolor": "#EBF0F8"
           },
           "zaxis": {
            "backgroundcolor": "white",
            "gridcolor": "#DFE8F3",
            "gridwidth": 2,
            "linecolor": "#EBF0F8",
            "showbackground": true,
            "ticks": "",
            "zerolinecolor": "#EBF0F8"
           }
          },
          "shapedefaults": {
           "line": {
            "color": "#2a3f5f"
           }
          },
          "ternary": {
           "aaxis": {
            "gridcolor": "#DFE8F3",
            "linecolor": "#A2B1C6",
            "ticks": ""
           },
           "baxis": {
            "gridcolor": "#DFE8F3",
            "linecolor": "#A2B1C6",
            "ticks": ""
           },
           "bgcolor": "white",
           "caxis": {
            "gridcolor": "#DFE8F3",
            "linecolor": "#A2B1C6",
            "ticks": ""
           }
          },
          "title": {
           "x": 0.05
          },
          "xaxis": {
           "automargin": true,
           "gridcolor": "#EBF0F8",
           "linecolor": "#EBF0F8",
           "ticks": "",
           "title": {
            "standoff": 15
           },
           "zerolinecolor": "#EBF0F8",
           "zerolinewidth": 2
          },
          "yaxis": {
           "automargin": true,
           "gridcolor": "#EBF0F8",
           "linecolor": "#EBF0F8",
           "ticks": "",
           "title": {
            "standoff": 15
           },
           "zerolinecolor": "#EBF0F8",
           "zerolinewidth": 2
          }
         }
        },
        "title": {
         "text": "Распределение значений метрики F1"
        },
        "width": 800,
        "xaxis": {
         "range": [
          0.71,
          0.93
         ],
         "title": {
          "text": "F1"
         }
        },
        "yaxis": {
         "title": {
          "text": "Количество трейлов"
         }
        }
       }
      }
     },
     "metadata": {},
     "output_type": "display_data"
    }
   ],
   "source": [
    "trial_duration_performance(\n",
    "    study_logreg, study_palogreg, study_lgbm, study_palogreg_bert,\n",
    "    model_names=['LogisticRegression',\n",
    "                 'PassiveAggressiveClassifier',\n",
    "                 'LGBMClassifier',\n",
    "                 'PassiveAggressiveClassifier+Bert']\n",
    ")\n",
    "trial_score_distribution(\n",
    "    study_logreg, study_palogreg, study_lgbm, study_palogreg_bert,\n",
    "    model_names=['LogisticRegression',\n",
    "                 'PassiveAggressiveClassifier',\n",
    "                 'LGBMClassifier',\n",
    "                 'PassiveAggressiveClassifier+Bert'],\n",
    "    nbinsx={'LogisticRegression': 300,\n",
    "            'PassiveAggressiveClassifier': 25,\n",
    "            'LGBMClassifier': 30,\n",
    "            'PassiveAggressiveClassifier+Bert': 50},\n",
    "    xrange=(0.71, 0.93)\n",
    ")"
   ]
  },
  {
   "cell_type": "code",
   "execution_count": 48,
   "metadata": {},
   "outputs": [
    {
     "name": "stdout",
     "output_type": "stream",
     "text": [
      "[LightGBM] [Info] Auto-choosing row-wise multi-threading, the overhead of testing was 6.888739 seconds.\n",
      "You can set `force_row_wise=true` to remove the overhead.\n",
      "And if memory is not enough, you can set `force_col_wise=true`.\n",
      "[LightGBM] [Info] Total Bins 862219\n",
      "[LightGBM] [Info] Number of data points in the train set: 119460, number of used features: 30096\n",
      "[LightGBM] [Info] Start training from score 0.101616\n"
     ]
    },
    {
     "data": {
      "text/html": [
       "<style type=\"text/css\">\n",
       "#T_0fee1_row0_col0, #T_0fee1_row2_col2, #T_0fee1_row3_col1 {\n",
       "  background-color: #7f2704;\n",
       "  color: #f1f1f1;\n",
       "}\n",
       "#T_0fee1_row0_col1 {\n",
       "  background-color: #942f03;\n",
       "  color: #f1f1f1;\n",
       "}\n",
       "#T_0fee1_row0_col2, #T_0fee1_row1_col1, #T_0fee1_row3_col0 {\n",
       "  background-color: #fff5eb;\n",
       "  color: #000000;\n",
       "}\n",
       "#T_0fee1_row1_col0 {\n",
       "  background-color: #fee4ca;\n",
       "  color: #000000;\n",
       "}\n",
       "#T_0fee1_row1_col2 {\n",
       "  background-color: #de5005;\n",
       "  color: #f1f1f1;\n",
       "}\n",
       "#T_0fee1_row2_col0 {\n",
       "  background-color: #fff3e6;\n",
       "  color: #000000;\n",
       "}\n",
       "#T_0fee1_row2_col1 {\n",
       "  background-color: #e85d0c;\n",
       "  color: #f1f1f1;\n",
       "}\n",
       "#T_0fee1_row3_col2 {\n",
       "  background-color: #d64701;\n",
       "  color: #f1f1f1;\n",
       "}\n",
       "</style>\n",
       "<table id=\"T_0fee1\">\n",
       "  <thead>\n",
       "    <tr>\n",
       "      <th class=\"blank level0\" >&nbsp;</th>\n",
       "      <th id=\"T_0fee1_level0_col0\" class=\"col_heading level0 col0\" >F1-score</th>\n",
       "      <th id=\"T_0fee1_level0_col1\" class=\"col_heading level0 col1\" >Время обучения (с)</th>\n",
       "      <th id=\"T_0fee1_level0_col2\" class=\"col_heading level0 col2\" >Время предсказания (мс)</th>\n",
       "    </tr>\n",
       "    <tr>\n",
       "      <th class=\"index_name level0\" >Модель</th>\n",
       "      <th class=\"blank col0\" >&nbsp;</th>\n",
       "      <th class=\"blank col1\" >&nbsp;</th>\n",
       "      <th class=\"blank col2\" >&nbsp;</th>\n",
       "    </tr>\n",
       "  </thead>\n",
       "  <tbody>\n",
       "    <tr>\n",
       "      <th id=\"T_0fee1_level0_row0\" class=\"row_heading level0 row0\" >PassiveAggressiveClassifier+Bert</th>\n",
       "      <td id=\"T_0fee1_row0_col0\" class=\"data row0 col0\" >0.903</td>\n",
       "      <td id=\"T_0fee1_row0_col1\" class=\"data row0 col1\" >75.149</td>\n",
       "      <td id=\"T_0fee1_row0_col2\" class=\"data row0 col2\" >0.017</td>\n",
       "    </tr>\n",
       "    <tr>\n",
       "      <th id=\"T_0fee1_level0_row1\" class=\"row_heading level0 row1\" >PassiveAggressiveClassifier</th>\n",
       "      <td id=\"T_0fee1_row1_col0\" class=\"data row1 col0\" >0.785</td>\n",
       "      <td id=\"T_0fee1_row1_col1\" class=\"data row1 col1\" >13.280</td>\n",
       "      <td id=\"T_0fee1_row1_col2\" class=\"data row1 col2\" >0.078</td>\n",
       "    </tr>\n",
       "    <tr>\n",
       "      <th id=\"T_0fee1_level0_row2\" class=\"row_heading level0 row2\" >LGBMClassifier</th>\n",
       "      <td id=\"T_0fee1_row2_col0\" class=\"data row2 col0\" >0.768</td>\n",
       "      <td id=\"T_0fee1_row2_col1\" class=\"data row2 col1\" >57.665</td>\n",
       "      <td id=\"T_0fee1_row2_col2\" class=\"data row2 col2\" >0.101</td>\n",
       "    </tr>\n",
       "    <tr>\n",
       "      <th id=\"T_0fee1_level0_row3\" class=\"row_heading level0 row3\" >LogisticRegression</th>\n",
       "      <td id=\"T_0fee1_row3_col0\" class=\"data row3 col0\" >0.765</td>\n",
       "      <td id=\"T_0fee1_row3_col1\" class=\"data row3 col1\" >79.565</td>\n",
       "      <td id=\"T_0fee1_row3_col2\" class=\"data row3 col2\" >0.081</td>\n",
       "    </tr>\n",
       "  </tbody>\n",
       "</table>\n"
      ],
      "text/plain": [
       "<pandas.io.formats.style.Styler at 0x2b576ac8690>"
      ]
     },
     "execution_count": 48,
     "metadata": {},
     "output_type": "execute_result"
    }
   ],
   "source": [
    "analys = pd.DataFrame(columns=['Модель', 'F1-score', 'Время обучения (с)', 'Время предсказания (мс)']).set_index('Модель', drop=True)\n",
    "for model_name, model, dataset in [('LogisticRegression', logreg, dataset_logreg),\n",
    "                           ('PassiveAggressiveClassifier', palogreg, dataset_palogreg),\n",
    "                           ('LGBMClassifier', lgbm, dataset_lgbm),\n",
    "                           ('PassiveAggressiveClassifier+Bert', palogreg_bert, dataset_palogreg_bert)]:\n",
    "    X_train, y_train, X_val, y_val, *_ = dataset\n",
    "    model = clone(model)\n",
    "    point_0 = time.time()\n",
    "    model.fit(X_train, y_train)\n",
    "    point_1 = time.time()\n",
    "    y_pred = model.predict(X_val)\n",
    "    point_2 = time.time()\n",
    "    analys.loc[model_name] = [f1_score(y_val, y_pred), point_1 - point_0, (point_2 - point_1) / X_val.shape[0] * 1000]\n",
    "analys.sort_values(by=['F1-score'], ascending=False).style.background_gradient(\n",
    "    'Oranges', subset=['F1-score', 'Время обучения (с)', 'Время предсказания (мс)']\n",
    ").format(precision=3)"
   ]
  },
  {
   "cell_type": "markdown",
   "metadata": {},
   "source": [
    "1. PassiveAggressiveClassifier + BERT\n",
    "    - Самая высокая точность.\n",
    "    - Очень быстрое предсказание (хоть и не взято в рассчет время токенизация через Bert + ≈0.3).\n",
    "    - Самое долгое обучение.\n",
    "2. PassiveAggressiveClassifier\n",
    "    - Отличное соотношение качество/время.\n",
    "    - Очень быстрое обучение.\n",
    "    - Устойчивая модель — большинство трейлов с F1 > 0.78.\n",
    "    - Проигрывает по точности модели с BERT.\n",
    "3. LGBMClassifier\n",
    "    - Гибкость за счёт большого количества гиперпараметров.\n",
    "    - Неплохое качество при хороших конфигурациях.\n",
    "    - Нестабильность: разброс F1 от 0.64 до 0.76.\n",
    "    - Долгое обучение.\n",
    "    - Чувствителен к гиперпараметрам.\n",
    "4. LogisticRegression\n",
    "    - Простота и интерпретируемость.\n",
    "    - Высокая устойчивость: F1 в диапазоне 0.77–0.78 почти для всех трейлов.\n",
    "    - Не самое высокое качество.\n",
    "    - Обучение медленнее, чем у PassiveAggressiveClassifier.\n",
    "\n",
    "- Выбор лучшей модели\n",
    "    - Самое лучшее качество и быстрое предсказание у PassiveAggressiveClassifier + BERT, ее и возьмем"
   ]
  },
  {
   "cell_type": "code",
   "execution_count": 49,
   "metadata": {},
   "outputs": [
    {
     "data": {
      "text/html": [
       "<style>#sk-container-id-5 {color: black;background-color: white;}#sk-container-id-5 pre{padding: 0;}#sk-container-id-5 div.sk-toggleable {background-color: white;}#sk-container-id-5 label.sk-toggleable__label {cursor: pointer;display: block;width: 100%;margin-bottom: 0;padding: 0.3em;box-sizing: border-box;text-align: center;}#sk-container-id-5 label.sk-toggleable__label-arrow:before {content: \"▸\";float: left;margin-right: 0.25em;color: #696969;}#sk-container-id-5 label.sk-toggleable__label-arrow:hover:before {color: black;}#sk-container-id-5 div.sk-estimator:hover label.sk-toggleable__label-arrow:before {color: black;}#sk-container-id-5 div.sk-toggleable__content {max-height: 0;max-width: 0;overflow: hidden;text-align: left;background-color: #f0f8ff;}#sk-container-id-5 div.sk-toggleable__content pre {margin: 0.2em;color: black;border-radius: 0.25em;background-color: #f0f8ff;}#sk-container-id-5 input.sk-toggleable__control:checked~div.sk-toggleable__content {max-height: 200px;max-width: 100%;overflow: auto;}#sk-container-id-5 input.sk-toggleable__control:checked~label.sk-toggleable__label-arrow:before {content: \"▾\";}#sk-container-id-5 div.sk-estimator input.sk-toggleable__control:checked~label.sk-toggleable__label {background-color: #d4ebff;}#sk-container-id-5 div.sk-label input.sk-toggleable__control:checked~label.sk-toggleable__label {background-color: #d4ebff;}#sk-container-id-5 input.sk-hidden--visually {border: 0;clip: rect(1px 1px 1px 1px);clip: rect(1px, 1px, 1px, 1px);height: 1px;margin: -1px;overflow: hidden;padding: 0;position: absolute;width: 1px;}#sk-container-id-5 div.sk-estimator {font-family: monospace;background-color: #f0f8ff;border: 1px dotted black;border-radius: 0.25em;box-sizing: border-box;margin-bottom: 0.5em;}#sk-container-id-5 div.sk-estimator:hover {background-color: #d4ebff;}#sk-container-id-5 div.sk-parallel-item::after {content: \"\";width: 100%;border-bottom: 1px solid gray;flex-grow: 1;}#sk-container-id-5 div.sk-label:hover label.sk-toggleable__label {background-color: #d4ebff;}#sk-container-id-5 div.sk-serial::before {content: \"\";position: absolute;border-left: 1px solid gray;box-sizing: border-box;top: 0;bottom: 0;left: 50%;z-index: 0;}#sk-container-id-5 div.sk-serial {display: flex;flex-direction: column;align-items: center;background-color: white;padding-right: 0.2em;padding-left: 0.2em;position: relative;}#sk-container-id-5 div.sk-item {position: relative;z-index: 1;}#sk-container-id-5 div.sk-parallel {display: flex;align-items: stretch;justify-content: center;background-color: white;position: relative;}#sk-container-id-5 div.sk-item::before, #sk-container-id-5 div.sk-parallel-item::before {content: \"\";position: absolute;border-left: 1px solid gray;box-sizing: border-box;top: 0;bottom: 0;left: 50%;z-index: -1;}#sk-container-id-5 div.sk-parallel-item {display: flex;flex-direction: column;z-index: 1;position: relative;background-color: white;}#sk-container-id-5 div.sk-parallel-item:first-child::after {align-self: flex-end;width: 50%;}#sk-container-id-5 div.sk-parallel-item:last-child::after {align-self: flex-start;width: 50%;}#sk-container-id-5 div.sk-parallel-item:only-child::after {width: 0;}#sk-container-id-5 div.sk-dashed-wrapped {border: 1px dashed gray;margin: 0 0.4em 0.5em 0.4em;box-sizing: border-box;padding-bottom: 0.4em;background-color: white;}#sk-container-id-5 div.sk-label label {font-family: monospace;font-weight: bold;display: inline-block;line-height: 1.2em;}#sk-container-id-5 div.sk-label-container {text-align: center;}#sk-container-id-5 div.sk-container {/* jupyter's `normalize.less` sets `[hidden] { display: none; }` but bootstrap.min.css set `[hidden] { display: none !important; }` so we also need the `!important` here to be able to override the default hidden behavior on the sphinx rendered scikit-learn.org. See: https://github.com/scikit-learn/scikit-learn/issues/21755 */display: inline-block !important;position: relative;}#sk-container-id-5 div.sk-text-repr-fallback {display: none;}</style><div id=\"sk-container-id-5\" class=\"sk-top-container\"><div class=\"sk-text-repr-fallback\"><pre>Pipeline(steps=[(&#x27;model&#x27;,\n",
       "                 RFE(estimator=PassiveAggressiveClassifier(C=1.117820920069873,\n",
       "                                                           average=True,\n",
       "                                                           n_jobs=12,\n",
       "                                                           random_state=42,\n",
       "                                                           shuffle=False,\n",
       "                                                           tol=0.0038079493367685594,\n",
       "                                                           validation_fraction=0.22403090583524182),\n",
       "                     n_features_to_select=496))])</pre><b>In a Jupyter environment, please rerun this cell to show the HTML representation or trust the notebook. <br />On GitHub, the HTML representation is unable to render, please try loading this page with nbviewer.org.</b></div><div class=\"sk-container\" hidden><div class=\"sk-item sk-dashed-wrapped\"><div class=\"sk-label-container\"><div class=\"sk-label sk-toggleable\"><input class=\"sk-toggleable__control sk-hidden--visually\" id=\"sk-estimator-id-20\" type=\"checkbox\" ><label for=\"sk-estimator-id-20\" class=\"sk-toggleable__label sk-toggleable__label-arrow\">Pipeline</label><div class=\"sk-toggleable__content\"><pre>Pipeline(steps=[(&#x27;model&#x27;,\n",
       "                 RFE(estimator=PassiveAggressiveClassifier(C=1.117820920069873,\n",
       "                                                           average=True,\n",
       "                                                           n_jobs=12,\n",
       "                                                           random_state=42,\n",
       "                                                           shuffle=False,\n",
       "                                                           tol=0.0038079493367685594,\n",
       "                                                           validation_fraction=0.22403090583524182),\n",
       "                     n_features_to_select=496))])</pre></div></div></div><div class=\"sk-serial\"><div class=\"sk-item sk-dashed-wrapped\"><div class=\"sk-label-container\"><div class=\"sk-label sk-toggleable\"><input class=\"sk-toggleable__control sk-hidden--visually\" id=\"sk-estimator-id-21\" type=\"checkbox\" ><label for=\"sk-estimator-id-21\" class=\"sk-toggleable__label sk-toggleable__label-arrow\">model: RFE</label><div class=\"sk-toggleable__content\"><pre>RFE(estimator=PassiveAggressiveClassifier(C=1.117820920069873, average=True,\n",
       "                                          n_jobs=12, random_state=42,\n",
       "                                          shuffle=False,\n",
       "                                          tol=0.0038079493367685594,\n",
       "                                          validation_fraction=0.22403090583524182),\n",
       "    n_features_to_select=496)</pre></div></div></div><div class=\"sk-parallel\"><div class=\"sk-parallel-item\"><div class=\"sk-item\"><div class=\"sk-label-container\"><div class=\"sk-label sk-toggleable\"><input class=\"sk-toggleable__control sk-hidden--visually\" id=\"sk-estimator-id-22\" type=\"checkbox\" ><label for=\"sk-estimator-id-22\" class=\"sk-toggleable__label sk-toggleable__label-arrow\">estimator: PassiveAggressiveClassifier</label><div class=\"sk-toggleable__content\"><pre>PassiveAggressiveClassifier(C=1.117820920069873, average=True, n_jobs=12,\n",
       "                            random_state=42, shuffle=False,\n",
       "                            tol=0.0038079493367685594,\n",
       "                            validation_fraction=0.22403090583524182)</pre></div></div></div><div class=\"sk-serial\"><div class=\"sk-item\"><div class=\"sk-estimator sk-toggleable\"><input class=\"sk-toggleable__control sk-hidden--visually\" id=\"sk-estimator-id-23\" type=\"checkbox\" ><label for=\"sk-estimator-id-23\" class=\"sk-toggleable__label sk-toggleable__label-arrow\">PassiveAggressiveClassifier</label><div class=\"sk-toggleable__content\"><pre>PassiveAggressiveClassifier(C=1.117820920069873, average=True, n_jobs=12,\n",
       "                            random_state=42, shuffle=False,\n",
       "                            tol=0.0038079493367685594,\n",
       "                            validation_fraction=0.22403090583524182)</pre></div></div></div></div></div></div></div></div></div></div></div></div>"
      ],
      "text/plain": [
       "Pipeline(steps=[('model',\n",
       "                 RFE(estimator=PassiveAggressiveClassifier(C=1.117820920069873,\n",
       "                                                           average=True,\n",
       "                                                           n_jobs=12,\n",
       "                                                           random_state=42,\n",
       "                                                           shuffle=False,\n",
       "                                                           tol=0.0038079493367685594,\n",
       "                                                           validation_fraction=0.22403090583524182),\n",
       "                     n_features_to_select=496))])"
      ]
     },
     "execution_count": 49,
     "metadata": {},
     "output_type": "execute_result"
    }
   ],
   "source": [
    "model = clone(palogreg_bert)\n",
    "X_train, y_train, X_val, y_val, X_test, y_test = dataset_palogreg_bert\n",
    "model.fit(pd.concat([X_train, X_val], axis=0), pd.concat([y_train, y_val], axis=0))"
   ]
  },
  {
   "cell_type": "code",
   "execution_count": 50,
   "metadata": {},
   "outputs": [
    {
     "name": "stdout",
     "output_type": "stream",
     "text": [
      "f1 = 0.920\n"
     ]
    }
   ],
   "source": [
    "print(f'f1 = {f1_score(y_test, model.predict(X_test)):.3f}')"
   ]
  },
  {
   "cell_type": "markdown",
   "metadata": {},
   "source": [
    "- Модель показал прекрасное качество и на тестовой выборке, поэтому возьмем ее как итоговую."
   ]
  },
  {
   "cell_type": "markdown",
   "metadata": {},
   "source": [
    "_____\n",
    "### <a id='toc1_6_11_'></a>[Вывод](#toc0_)"
   ]
  },
  {
   "cell_type": "markdown",
   "metadata": {},
   "source": [
    "В ходе исследования были протестированы несколько моделей машинного обучения для задачи классификации токсичных комментариев, включая `LogisticRegression`, `PassiveAggressiveClassifier`, `LGBMClassifier` и `PassiveAggressiveClassifier + BERT`.  \n",
    "\n",
    "Оптимизация гиперпараметров проводилась с помощью **Optuna**, а оценка моделей осуществлялась по следующим критериям:\n",
    "1. **Качество классификации (F1-score)**\n",
    "2. **Время обучения**\n",
    "3. **Время предсказания**\n",
    "\n",
    "- **Лучшая модель – PassiveAggressiveClassifier + BERT**  \n",
    "    Модель показала наилучшее качество и стабильность:\n",
    "    - **F1-score = 0.920** на тестовой выборке  \n",
    "    - **Время обучения: 74.2 сек**  \n",
    "    - **Время предсказания: 0.005 мс/объект**  \n",
    "    - Модель устойчива к гиперпараметрам: большинство конфигураций дают F1 > 0.91  \n",
    "\n",
    "- **PassiveAggressiveClassifier**  \n",
    "    Отличный выбор при ограниченных ресурсах:\n",
    "    - **F1-score = 0.785**\n",
    "    - **Самое быстрое обучение (13.2 сек)** и высокое качество  \n",
    "    - **Очень быстрое предсказание (0.062 мс)**  \n",
    "    - Устойчивая модель, большинство трейлов дают F1 > 0.78\n",
    "\n",
    "- **LGBMClassifier**  \n",
    "    Гибкая, но чувствительная к настройке модель:\n",
    "    - **F1-score = 0.768**  \n",
    "    - **Долгое обучение (53.3 сек)**  \n",
    "    - **Разброс F1 от 0.64 до 0.76**  \n",
    "    - Подходит при правильной настройке гиперпараметров\n",
    "\n",
    "- **LogisticRegression**  \n",
    "    Простая и интерпретируемая модель:\n",
    "    - **F1-score = 0.765**\n",
    "    - **Обучение медленнее, чем у PassiveAggressiveClassifier (66.5 сек)**  \n",
    "    - Хорошая устойчивость (F1 в пределах 0.77–0.78)\n",
    "\n",
    "**Финальной моделью выбрана `PassiveAggressiveClassifier + BERT`** благодаря её:\n",
    "- Высокому качеству классификации\n",
    "- Стабильности к гиперпараметрам\n",
    "- Быстроте предсказания\n",
    "\n",
    "Эта модель особенно подходит для задач, где критично точное определение токсичности, например, для автоматической модерации пользовательского контента.\n"
   ]
  },
  {
   "cell_type": "markdown",
   "metadata": {},
   "source": [
    "_____\n",
    "_____\n",
    "## <a id='toc1_7_'></a>[Общий вывод](#toc0_)"
   ]
  },
  {
   "cell_type": "markdown",
   "metadata": {},
   "source": [
    "- Основные этапы работы:\n",
    "    1. Сбор и предобработка данных:\n",
    "        - Загружены данные с 159 292 пользовательскими комментариями.\n",
    "        - Удалены неинформативные столбцы и дубликаты.\n",
    "        - Выполнена очистка текста от спецсимволов, приведение к нижнему регистру и удаление лишних пробелов.\n",
    "        - Проведена лемматизация текста с помощью spaCy.\n",
    "        - Обнаружены пропуски после предобработки — удалены.\n",
    "        - Добавлены признаки: очищенный и лемматизированный текст.\n",
    "    2. Исследовательский анализ данных:\n",
    "        - Целевая переменная (toxic) дисбалансирована: токсичных комментариев значительно меньше.\n",
    "        - Распределение длины комментариев имеет сильную асимметрию — присутствуют выбросы (до 1000+ слов).\n",
    "        - Выявлены особенности текста, важные для токенизации и построения эмбеддингов.\n",
    "    3. Построение и оптимизация моделей:\n",
    "        - Протестированы модели: LogisticRegression, PassiveAggressiveClassifier, LGBMClassifier, PassiveAggressiveClassifier + BERT.\n",
    "        - Подбор гиперпараметров осуществлялся через Optuna с кросс-валидацией по метрике F1.\n",
    "        - RandomForestClassifier показал крайне низкое качество и был исключён.\n",
    "        - LGBMClassifier оказался чувствителен к гиперпараметрам и нестабилен.\n",
    "        - PassiveAggressiveClassifier дал отличное соотношение качества и скорости.\n",
    "        - Модель на основе BERT-эмбеддингов и PassiveAggressiveClassifier продемонстрировала наилучшие результаты.\n",
    "- PassiveAggressiveClassifier + BERT – оптимальный выбор\n",
    "    - Лучшая точность: F1 = 0.920 на тестовой выборке.\n",
    "    - Высокая стабильность: большинство трейлов дают F1 > 0.91.\n",
    "    - Быстрое предсказание: менее 0.01 мс на объект (без учёта времени токенизации).\n",
    "    - Подходит для реального использования: особенно в системах автоматической модерации пользовательского контента."
   ]
  }
 ],
 "metadata": {
  "kernelspec": {
   "display_name": ".venv",
   "language": "python",
   "name": "python3"
  },
  "language_info": {
   "codemirror_mode": {
    "name": "ipython",
    "version": 3
   },
   "file_extension": ".py",
   "mimetype": "text/x-python",
   "name": "python",
   "nbconvert_exporter": "python",
   "pygments_lexer": "ipython3",
   "version": "3.11.9"
  }
 },
 "nbformat": 4,
 "nbformat_minor": 4
}
