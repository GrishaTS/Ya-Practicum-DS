{
 "cells": [
  {
   "cell_type": "markdown",
   "metadata": {},
   "source": [
    "_____\n",
    "_____\n",
    "## Описание проекта"
   ]
  },
  {
   "cell_type": "markdown",
   "metadata": {},
   "source": [
    "_____\n",
    "_____\n",
    "## Импорт и подготовка к работе"
   ]
  },
  {
   "cell_type": "markdown",
   "metadata": {},
   "source": [
    "_____\n",
    "_____\n",
    "## Загрузка данных, общая информация и первичная обработка"
   ]
  },
  {
   "cell_type": "markdown",
   "metadata": {},
   "source": [
    "_____\n",
    "### Скачивание датасетов и общая информация"
   ]
  },
  {
   "cell_type": "markdown",
   "metadata": {},
   "source": [
    "_____\n",
    "### Вывод:"
   ]
  },
  {
   "cell_type": "markdown",
   "metadata": {},
   "source": [
    "_____\n",
    "_____\n",
    "## Предобработка данных"
   ]
  },
  {
   "cell_type": "markdown",
   "metadata": {},
   "source": [
    "_____\n",
    "### Переименовывание столбцов датафреймов"
   ]
  },
  {
   "cell_type": "markdown",
   "metadata": {},
   "source": [
    "_____\n",
    "### Обработка дубликатов и опечаток"
   ]
  },
  {
   "cell_type": "markdown",
   "metadata": {},
   "source": [
    "_____\n",
    "### Обработка аномальных значений и выбросов"
   ]
  },
  {
   "cell_type": "markdown",
   "metadata": {},
   "source": [
    "_____\n",
    "### Обработка пропущенных значений"
   ]
  },
  {
   "cell_type": "markdown",
   "metadata": {},
   "source": [
    "_____\n",
    "### Смена индекса датафреймов"
   ]
  },
  {
   "cell_type": "markdown",
   "metadata": {},
   "source": [
    "_____\n",
    "### Приведение типов данных"
   ]
  },
  {
   "cell_type": "markdown",
   "metadata": {},
   "source": [
    "_____\n",
    "### Вывод:"
   ]
  },
  {
   "cell_type": "markdown",
   "metadata": {},
   "source": [
    "_____\n",
    "_____\n",
    "## Анализ данных"
   ]
  },
  {
   "cell_type": "markdown",
   "metadata": {},
   "source": [
    "_____\n",
    "### Функции отрисовок данных"
   ]
  },
  {
   "cell_type": "markdown",
   "metadata": {},
   "source": [
    "_____\n",
    "### Вывод:"
   ]
  },
  {
   "cell_type": "markdown",
   "metadata": {},
   "source": [
    "_____\n",
    "_____\n",
    "## Корреляционный анализ"
   ]
  },
  {
   "cell_type": "markdown",
   "metadata": {},
   "source": [
    "_____\n",
    "### Матрица корреляции"
   ]
  },
  {
   "cell_type": "markdown",
   "metadata": {},
   "source": [
    "_____\n",
    "### Проверка на мультиколлинеарность"
   ]
  },
  {
   "cell_type": "markdown",
   "metadata": {},
   "source": [
    "_____\n",
    "### Матрица значимости"
   ]
  },
  {
   "cell_type": "markdown",
   "metadata": {},
   "source": [
    "_____\n",
    "### Вывод:"
   ]
  },
  {
   "cell_type": "markdown",
   "metadata": {},
   "source": [
    "_____\n",
    "_____\n",
    "## Модели"
   ]
  },
  {
   "cell_type": "markdown",
   "metadata": {},
   "source": [
    "_____\n",
    "### Вывод"
   ]
  },
  {
   "cell_type": "markdown",
   "metadata": {},
   "source": [
    "_____\n",
    "_____\n",
    "## Общий вывод"
   ]
  }
 ],
 "metadata": {
  "ExecuteTimeLog": [
   {
    "duration": 4,
    "start_time": "2024-12-12T10:35:23.200Z"
   },
   {
    "duration": 327,
    "start_time": "2024-12-12T10:35:23.208Z"
   },
   {
    "duration": 0,
    "start_time": "2024-12-12T10:35:23.538Z"
   },
   {
    "duration": 0,
    "start_time": "2024-12-12T10:35:23.539Z"
   },
   {
    "duration": 0,
    "start_time": "2024-12-12T10:35:23.540Z"
   },
   {
    "duration": 0,
    "start_time": "2024-12-12T10:35:23.541Z"
   },
   {
    "duration": 0,
    "start_time": "2024-12-12T10:35:23.542Z"
   },
   {
    "duration": 0,
    "start_time": "2024-12-12T10:35:23.543Z"
   },
   {
    "duration": 0,
    "start_time": "2024-12-12T10:35:23.544Z"
   },
   {
    "duration": 0,
    "start_time": "2024-12-12T10:35:23.545Z"
   },
   {
    "duration": 0,
    "start_time": "2024-12-12T10:35:23.546Z"
   },
   {
    "duration": 0,
    "start_time": "2024-12-12T10:35:23.547Z"
   },
   {
    "duration": 0,
    "start_time": "2024-12-12T10:35:23.548Z"
   },
   {
    "duration": 0,
    "start_time": "2024-12-12T10:35:23.549Z"
   },
   {
    "duration": 0,
    "start_time": "2024-12-12T10:35:23.550Z"
   },
   {
    "duration": 0,
    "start_time": "2024-12-12T10:35:23.551Z"
   },
   {
    "duration": 0,
    "start_time": "2024-12-12T10:35:23.552Z"
   },
   {
    "duration": 0,
    "start_time": "2024-12-12T10:35:23.553Z"
   },
   {
    "duration": 0,
    "start_time": "2024-12-12T10:35:23.554Z"
   },
   {
    "duration": 0,
    "start_time": "2024-12-12T10:35:23.555Z"
   },
   {
    "duration": 0,
    "start_time": "2024-12-12T10:35:23.556Z"
   },
   {
    "duration": 0,
    "start_time": "2024-12-12T10:35:23.557Z"
   },
   {
    "duration": 0,
    "start_time": "2024-12-12T10:35:23.558Z"
   },
   {
    "duration": 0,
    "start_time": "2024-12-12T10:35:23.559Z"
   },
   {
    "duration": 0,
    "start_time": "2024-12-12T10:35:23.559Z"
   },
   {
    "duration": 0,
    "start_time": "2024-12-12T10:35:23.561Z"
   },
   {
    "duration": 0,
    "start_time": "2024-12-12T10:35:23.561Z"
   },
   {
    "duration": 0,
    "start_time": "2024-12-12T10:35:23.562Z"
   },
   {
    "duration": 0,
    "start_time": "2024-12-12T10:35:23.564Z"
   },
   {
    "duration": 0,
    "start_time": "2024-12-12T10:35:23.565Z"
   },
   {
    "duration": 0,
    "start_time": "2024-12-12T10:35:23.567Z"
   },
   {
    "duration": 0,
    "start_time": "2024-12-12T10:35:23.568Z"
   },
   {
    "duration": 0,
    "start_time": "2024-12-12T10:35:23.569Z"
   },
   {
    "duration": 0,
    "start_time": "2024-12-12T10:35:23.570Z"
   },
   {
    "duration": 110712,
    "start_time": "2024-12-12T10:36:00.504Z"
   },
   {
    "duration": 5289,
    "start_time": "2024-12-12T10:37:51.219Z"
   },
   {
    "duration": 3,
    "start_time": "2024-12-12T10:37:56.510Z"
   },
   {
    "duration": 160,
    "start_time": "2024-12-12T10:37:56.515Z"
   },
   {
    "duration": 114,
    "start_time": "2024-12-12T10:37:56.677Z"
   },
   {
    "duration": 113,
    "start_time": "2024-12-12T10:37:56.793Z"
   },
   {
    "duration": 122,
    "start_time": "2024-12-12T10:37:56.908Z"
   },
   {
    "duration": 15,
    "start_time": "2024-12-12T10:37:57.032Z"
   },
   {
    "duration": 171,
    "start_time": "2024-12-12T10:37:57.048Z"
   },
   {
    "duration": 43,
    "start_time": "2024-12-12T10:37:57.222Z"
   },
   {
    "duration": 17,
    "start_time": "2024-12-12T10:37:57.266Z"
   },
   {
    "duration": 11,
    "start_time": "2024-12-12T10:37:57.284Z"
   },
   {
    "duration": 5,
    "start_time": "2024-12-12T10:37:57.297Z"
   },
   {
    "duration": 10,
    "start_time": "2024-12-12T10:37:57.303Z"
   },
   {
    "duration": 20,
    "start_time": "2024-12-12T10:37:57.314Z"
   },
   {
    "duration": 15,
    "start_time": "2024-12-12T10:37:57.336Z"
   },
   {
    "duration": 5,
    "start_time": "2024-12-12T10:37:57.353Z"
   },
   {
    "duration": 3,
    "start_time": "2024-12-12T10:37:57.359Z"
   },
   {
    "duration": 670,
    "start_time": "2024-12-12T10:37:57.364Z"
   },
   {
    "duration": 39,
    "start_time": "2024-12-12T10:37:58.035Z"
   },
   {
    "duration": 64,
    "start_time": "2024-12-12T10:37:58.075Z"
   },
   {
    "duration": 94,
    "start_time": "2024-12-12T10:37:58.141Z"
   },
   {
    "duration": 30,
    "start_time": "2024-12-12T10:37:58.237Z"
   },
   {
    "duration": 8,
    "start_time": "2024-12-12T10:37:58.269Z"
   },
   {
    "duration": 17,
    "start_time": "2024-12-12T10:37:58.278Z"
   },
   {
    "duration": 6,
    "start_time": "2024-12-12T10:37:58.330Z"
   },
   {
    "duration": 24,
    "start_time": "2024-12-12T10:37:58.338Z"
   },
   {
    "duration": 465,
    "start_time": "2024-12-12T10:37:58.365Z"
   },
   {
    "duration": 40,
    "start_time": "2024-12-12T10:37:58.833Z"
   },
   {
    "duration": 75,
    "start_time": "2024-12-12T10:37:58.875Z"
   },
   {
    "duration": 26,
    "start_time": "2024-12-12T10:37:58.951Z"
   },
   {
    "duration": 59,
    "start_time": "2024-12-12T10:37:58.979Z"
   },
   {
    "duration": 26,
    "start_time": "2024-12-12T10:37:59.040Z"
   },
   {
    "duration": 183,
    "start_time": "2024-12-12T10:37:59.068Z"
   },
   {
    "duration": 17,
    "start_time": "2024-12-12T10:39:42.604Z"
   },
   {
    "duration": 6,
    "start_time": "2024-12-12T10:39:43.624Z"
   },
   {
    "duration": 2,
    "start_time": "2024-12-12T10:39:44.123Z"
   },
   {
    "duration": 17,
    "start_time": "2024-12-12T10:39:45.353Z"
   },
   {
    "duration": 7,
    "start_time": "2024-12-12T10:39:46.188Z"
   },
   {
    "duration": 3,
    "start_time": "2024-12-12T10:39:46.575Z"
   },
   {
    "duration": 13,
    "start_time": "2024-12-12T10:39:47.564Z"
   },
   {
    "duration": 1118,
    "start_time": "2024-12-12T10:40:07.204Z"
   },
   {
    "duration": 53809,
    "start_time": "2024-12-12T10:40:08.835Z"
   },
   {
    "duration": 10,
    "start_time": "2024-12-12T11:06:55.842Z"
   },
   {
    "duration": 7,
    "start_time": "2024-12-12T11:06:57.848Z"
   },
   {
    "duration": 11,
    "start_time": "2024-12-12T11:06:59.431Z"
   },
   {
    "duration": 8,
    "start_time": "2024-12-12T11:07:04.183Z"
   },
   {
    "duration": 6,
    "start_time": "2024-12-12T11:07:07.175Z"
   },
   {
    "duration": 350136,
    "start_time": "2024-12-12T11:07:21.294Z"
   },
   {
    "duration": 4,
    "start_time": "2024-12-12T11:13:36.130Z"
   },
   {
    "duration": 110,
    "start_time": "2024-12-12T11:13:53.801Z"
   },
   {
    "duration": 210,
    "start_time": "2024-12-12T11:14:09.379Z"
   },
   {
    "duration": 1296,
    "start_time": "2024-12-12T11:14:21.898Z"
   },
   {
    "duration": 1132,
    "start_time": "2024-12-12T11:14:34.586Z"
   },
   {
    "duration": 1114,
    "start_time": "2024-12-12T11:14:43.172Z"
   },
   {
    "duration": 33,
    "start_time": "2024-12-12T11:17:18.507Z"
   },
   {
    "duration": 23,
    "start_time": "2024-12-12T11:17:28.806Z"
   },
   {
    "duration": 23,
    "start_time": "2024-12-12T11:18:01.031Z"
   },
   {
    "duration": 53084,
    "start_time": "2024-12-12T11:22:25.016Z"
   },
   {
    "duration": 7,
    "start_time": "2024-12-12T11:23:18.102Z"
   },
   {
    "duration": 59,
    "start_time": "2024-12-12T11:23:18.110Z"
   },
   {
    "duration": 135,
    "start_time": "2024-12-12T11:23:18.171Z"
   },
   {
    "duration": 70,
    "start_time": "2024-12-12T11:23:18.307Z"
   },
   {
    "duration": 79,
    "start_time": "2024-12-12T11:23:18.378Z"
   },
   {
    "duration": 79,
    "start_time": "2024-12-12T11:23:18.459Z"
   },
   {
    "duration": 14,
    "start_time": "2024-12-12T11:23:18.540Z"
   },
   {
    "duration": 15,
    "start_time": "2024-12-12T11:23:18.556Z"
   },
   {
    "duration": 25,
    "start_time": "2024-12-12T11:23:18.574Z"
   },
   {
    "duration": 16,
    "start_time": "2024-12-12T11:23:18.601Z"
   },
   {
    "duration": 9,
    "start_time": "2024-12-12T11:23:18.619Z"
   },
   {
    "duration": 5,
    "start_time": "2024-12-12T11:23:18.630Z"
   },
   {
    "duration": 5,
    "start_time": "2024-12-12T11:23:18.636Z"
   },
   {
    "duration": 4,
    "start_time": "2024-12-12T11:23:18.642Z"
   },
   {
    "duration": 5,
    "start_time": "2024-12-12T11:23:18.648Z"
   },
   {
    "duration": 22,
    "start_time": "2024-12-12T11:23:18.654Z"
   },
   {
    "duration": 5,
    "start_time": "2024-12-12T11:23:18.678Z"
   },
   {
    "duration": 85,
    "start_time": "2024-12-12T11:23:18.685Z"
   },
   {
    "duration": 64,
    "start_time": "2024-12-12T11:23:18.772Z"
   },
   {
    "duration": 45,
    "start_time": "2024-12-12T11:23:18.838Z"
   },
   {
    "duration": 35,
    "start_time": "2024-12-12T11:23:18.884Z"
   },
   {
    "duration": 28,
    "start_time": "2024-12-12T11:23:18.920Z"
   },
   {
    "duration": 7,
    "start_time": "2024-12-12T11:23:18.949Z"
   },
   {
    "duration": 5,
    "start_time": "2024-12-12T11:23:18.958Z"
   },
   {
    "duration": 6,
    "start_time": "2024-12-12T11:23:18.965Z"
   },
   {
    "duration": 11,
    "start_time": "2024-12-12T11:23:18.972Z"
   },
   {
    "duration": 277,
    "start_time": "2024-12-12T11:23:18.987Z"
   },
   {
    "duration": 26,
    "start_time": "2024-12-12T11:23:19.266Z"
   },
   {
    "duration": 132,
    "start_time": "2024-12-12T11:23:19.293Z"
   },
   {
    "duration": 53,
    "start_time": "2024-12-12T11:23:19.426Z"
   },
   {
    "duration": 33,
    "start_time": "2024-12-12T11:23:19.480Z"
   },
   {
    "duration": 31,
    "start_time": "2024-12-12T11:23:19.514Z"
   },
   {
    "duration": 31,
    "start_time": "2024-12-12T11:23:19.546Z"
   },
   {
    "duration": 17,
    "start_time": "2024-12-12T11:23:19.579Z"
   },
   {
    "duration": 32,
    "start_time": "2024-12-12T11:23:19.598Z"
   },
   {
    "duration": 3,
    "start_time": "2024-12-12T11:23:19.632Z"
   },
   {
    "duration": 15,
    "start_time": "2024-12-12T11:23:19.636Z"
   },
   {
    "duration": 5,
    "start_time": "2024-12-12T11:23:19.652Z"
   },
   {
    "duration": 9,
    "start_time": "2024-12-12T11:23:19.659Z"
   },
   {
    "duration": 18,
    "start_time": "2024-12-12T11:23:19.670Z"
   },
   {
    "duration": 976,
    "start_time": "2024-12-12T11:23:19.690Z"
   },
   {
    "duration": 54267,
    "start_time": "2024-12-12T11:23:20.667Z"
   },
   {
    "duration": 10,
    "start_time": "2024-12-12T11:24:14.936Z"
   },
   {
    "duration": 12,
    "start_time": "2024-12-12T11:24:14.948Z"
   },
   {
    "duration": 28,
    "start_time": "2024-12-12T11:24:14.961Z"
   },
   {
    "duration": 7,
    "start_time": "2024-12-12T11:24:14.991Z"
   },
   {
    "duration": 16,
    "start_time": "2024-12-12T11:24:14.999Z"
   },
   {
    "duration": 44,
    "start_time": "2024-12-12T11:24:15.016Z"
   },
   {
    "duration": 272817,
    "start_time": "2024-12-12T11:24:15.063Z"
   },
   {
    "duration": 2538,
    "start_time": "2024-12-12T11:28:47.881Z"
   },
   {
    "duration": 1328,
    "start_time": "2024-12-12T11:28:50.421Z"
   },
   {
    "duration": 18,
    "start_time": "2024-12-12T11:28:51.751Z"
   },
   {
    "duration": 805,
    "start_time": "2024-12-12T11:28:51.771Z"
   },
   {
    "duration": 131390,
    "start_time": "2024-12-12T11:28:52.578Z"
   },
   {
    "duration": 4637,
    "start_time": "2024-12-12T11:31:03.970Z"
   },
   {
    "duration": 542,
    "start_time": "2024-12-12T11:31:08.609Z"
   },
   {
    "duration": 15,
    "start_time": "2024-12-12T11:31:09.153Z"
   },
   {
    "duration": 66,
    "start_time": "2024-12-12T11:31:09.169Z"
   },
   {
    "duration": 962,
    "start_time": "2024-12-12T11:31:09.237Z"
   },
   {
    "duration": 49164,
    "start_time": "2024-12-12T11:31:10.201Z"
   },
   {
    "duration": 3498,
    "start_time": "2024-12-12T11:31:59.367Z"
   },
   {
    "duration": 259,
    "start_time": "2024-12-12T11:32:02.867Z"
   },
   {
    "duration": 28,
    "start_time": "2024-12-12T11:32:03.130Z"
   },
   {
    "duration": 49813,
    "start_time": "2024-12-12T11:32:03.159Z"
   },
   {
    "duration": 6439,
    "start_time": "2024-12-12T11:32:52.973Z"
   },
   {
    "duration": 186,
    "start_time": "2024-12-12T11:32:59.413Z"
   },
   {
    "duration": 49,
    "start_time": "2024-12-12T11:32:59.601Z"
   },
   {
    "duration": 37,
    "start_time": "2024-12-12T11:32:59.651Z"
   },
   {
    "duration": 8,
    "start_time": "2024-12-12T11:32:59.690Z"
   },
   {
    "duration": 68,
    "start_time": "2024-12-12T11:32:59.699Z"
   },
   {
    "duration": 31,
    "start_time": "2024-12-12T11:32:59.770Z"
   },
   {
    "duration": 36,
    "start_time": "2024-12-12T11:32:59.803Z"
   },
   {
    "duration": 48,
    "start_time": "2024-12-12T11:32:59.841Z"
   },
   {
    "duration": 68,
    "start_time": "2024-12-12T11:32:59.891Z"
   },
   {
    "duration": 209,
    "start_time": "2024-12-12T11:32:59.961Z"
   },
   {
    "duration": 11,
    "start_time": "2024-12-12T11:33:00.172Z"
   },
   {
    "duration": 118,
    "start_time": "2024-12-12T11:33:00.184Z"
   },
   {
    "duration": 111,
    "start_time": "2024-12-12T11:33:00.303Z"
   },
   {
    "duration": 17,
    "start_time": "2024-12-12T11:33:00.429Z"
   },
   {
    "duration": 232,
    "start_time": "2024-12-12T11:33:00.447Z"
   },
   {
    "duration": 12,
    "start_time": "2024-12-12T11:33:00.687Z"
   },
   {
    "duration": 13,
    "start_time": "2024-12-12T11:33:00.730Z"
   },
   {
    "duration": 153,
    "start_time": "2024-12-12T11:33:00.745Z"
   }
  ],
  "kernelspec": {
   "display_name": ".venv",
   "language": "python",
   "name": "python3"
  },
  "language_info": {
   "codemirror_mode": {
    "name": "ipython",
    "version": 3
   },
   "file_extension": ".py",
   "mimetype": "text/x-python",
   "name": "python",
   "nbconvert_exporter": "python",
   "pygments_lexer": "ipython3",
   "version": "3.11.9"
  },
  "toc": {
   "base_numbering": 1,
   "nav_menu": {},
   "number_sections": true,
   "sideBar": true,
   "skip_h1_title": true,
   "title_cell": "Table of Contents",
   "title_sidebar": "Contents",
   "toc_cell": false,
   "toc_position": {
    "height": "calc(100% - 180px)",
    "left": "10px",
    "top": "150px",
    "width": "313.594px"
   },
   "toc_section_display": true,
   "toc_window_display": true
  }
 },
 "nbformat": 4,
 "nbformat_minor": 2
}
