{
 "cells": [
  {
   "cell_type": "markdown",
   "id": "81c1f8c2",
   "metadata": {
    "deletable": false,
    "editable": false,
    "id": "c81daeeb"
   },
   "source": [
    "# Исследование надежности заемщиков\n"
   ]
  },
  {
   "cell_type": "markdown",
   "id": "25d6206e",
   "metadata": {
    "deletable": false,
    "editable": false,
    "id": "827c20bf"
   },
   "source": [
    "Во второй части проекта вы выполните шаги 3 и 4. Их вручную проверит ревьюер.\n",
    "Чтобы вам не пришлось писать код заново для шагов 1 и 2, мы добавили авторские решения в ячейки с кодом. \n",
    "\n"
   ]
  },
  {
   "cell_type": "markdown",
   "id": "eb08b948",
   "metadata": {
    "deletable": false,
    "editable": false,
    "id": "744d7639"
   },
   "source": [
    "## Откройте таблицу и изучите общую информацию о данных"
   ]
  },
  {
   "cell_type": "markdown",
   "id": "593bee92",
   "metadata": {
    "deletable": false,
    "editable": false,
    "id": "e7a14c31"
   },
   "source": [
    "**Задание 1. Импортируйте библиотеку pandas. Считайте данные из csv-файла в датафрейм и сохраните в переменную `data`. Путь к файлу:**"
   ]
  },
  {
   "cell_type": "code",
   "execution_count": 1,
   "id": "5a6a5028",
   "metadata": {
    "ExecuteTime": {
     "end_time": "2024-09-30T00:12:51.793980Z",
     "start_time": "2024-09-30T00:12:51.360054Z"
    },
    "deletable": false,
    "id": "7bcf75c9"
   },
   "outputs": [],
   "source": [
    "import pandas as pd\n",
    "\n",
    "try:\n",
    "    data = pd.read_csv('/datasets/data.csv')\n",
    "except:\n",
    "    data = pd.read_csv('https://code.s3.yandex.net/datasets/data.csv')"
   ]
  },
  {
   "cell_type": "markdown",
   "id": "5d44ba84",
   "metadata": {
    "deletable": false,
    "editable": false,
    "id": "b8038fe3"
   },
   "source": [
    "**Задание 2. Выведите первые 20 строчек датафрейма `data` на экран.**"
   ]
  },
  {
   "cell_type": "code",
   "execution_count": 2,
   "id": "ba88ee80",
   "metadata": {
    "ExecuteTime": {
     "end_time": "2024-09-30T00:12:51.872121Z",
     "start_time": "2024-09-30T00:12:51.828153Z"
    },
    "deletable": false,
    "id": "2a7cab99",
    "outputId": "1a8f3ef2-d323-4ec2-ddf7-89670b5944c4"
   },
   "outputs": [
    {
     "data": {
      "text/html": [
       "<div>\n",
       "<style scoped>\n",
       "    .dataframe tbody tr th:only-of-type {\n",
       "        vertical-align: middle;\n",
       "    }\n",
       "\n",
       "    .dataframe tbody tr th {\n",
       "        vertical-align: top;\n",
       "    }\n",
       "\n",
       "    .dataframe thead th {\n",
       "        text-align: right;\n",
       "    }\n",
       "</style>\n",
       "<table border=\"1\" class=\"dataframe\">\n",
       "  <thead>\n",
       "    <tr style=\"text-align: right;\">\n",
       "      <th></th>\n",
       "      <th>children</th>\n",
       "      <th>days_employed</th>\n",
       "      <th>dob_years</th>\n",
       "      <th>education</th>\n",
       "      <th>education_id</th>\n",
       "      <th>family_status</th>\n",
       "      <th>family_status_id</th>\n",
       "      <th>gender</th>\n",
       "      <th>income_type</th>\n",
       "      <th>debt</th>\n",
       "      <th>total_income</th>\n",
       "      <th>purpose</th>\n",
       "    </tr>\n",
       "  </thead>\n",
       "  <tbody>\n",
       "    <tr>\n",
       "      <th>0</th>\n",
       "      <td>1</td>\n",
       "      <td>-8437.673028</td>\n",
       "      <td>42</td>\n",
       "      <td>высшее</td>\n",
       "      <td>0</td>\n",
       "      <td>женат / замужем</td>\n",
       "      <td>0</td>\n",
       "      <td>F</td>\n",
       "      <td>сотрудник</td>\n",
       "      <td>0</td>\n",
       "      <td>253875.639453</td>\n",
       "      <td>покупка жилья</td>\n",
       "    </tr>\n",
       "    <tr>\n",
       "      <th>1</th>\n",
       "      <td>1</td>\n",
       "      <td>-4024.803754</td>\n",
       "      <td>36</td>\n",
       "      <td>среднее</td>\n",
       "      <td>1</td>\n",
       "      <td>женат / замужем</td>\n",
       "      <td>0</td>\n",
       "      <td>F</td>\n",
       "      <td>сотрудник</td>\n",
       "      <td>0</td>\n",
       "      <td>112080.014102</td>\n",
       "      <td>приобретение автомобиля</td>\n",
       "    </tr>\n",
       "    <tr>\n",
       "      <th>2</th>\n",
       "      <td>0</td>\n",
       "      <td>-5623.422610</td>\n",
       "      <td>33</td>\n",
       "      <td>Среднее</td>\n",
       "      <td>1</td>\n",
       "      <td>женат / замужем</td>\n",
       "      <td>0</td>\n",
       "      <td>M</td>\n",
       "      <td>сотрудник</td>\n",
       "      <td>0</td>\n",
       "      <td>145885.952297</td>\n",
       "      <td>покупка жилья</td>\n",
       "    </tr>\n",
       "    <tr>\n",
       "      <th>3</th>\n",
       "      <td>3</td>\n",
       "      <td>-4124.747207</td>\n",
       "      <td>32</td>\n",
       "      <td>среднее</td>\n",
       "      <td>1</td>\n",
       "      <td>женат / замужем</td>\n",
       "      <td>0</td>\n",
       "      <td>M</td>\n",
       "      <td>сотрудник</td>\n",
       "      <td>0</td>\n",
       "      <td>267628.550329</td>\n",
       "      <td>дополнительное образование</td>\n",
       "    </tr>\n",
       "    <tr>\n",
       "      <th>4</th>\n",
       "      <td>0</td>\n",
       "      <td>340266.072047</td>\n",
       "      <td>53</td>\n",
       "      <td>среднее</td>\n",
       "      <td>1</td>\n",
       "      <td>гражданский брак</td>\n",
       "      <td>1</td>\n",
       "      <td>F</td>\n",
       "      <td>пенсионер</td>\n",
       "      <td>0</td>\n",
       "      <td>158616.077870</td>\n",
       "      <td>сыграть свадьбу</td>\n",
       "    </tr>\n",
       "    <tr>\n",
       "      <th>5</th>\n",
       "      <td>0</td>\n",
       "      <td>-926.185831</td>\n",
       "      <td>27</td>\n",
       "      <td>высшее</td>\n",
       "      <td>0</td>\n",
       "      <td>гражданский брак</td>\n",
       "      <td>1</td>\n",
       "      <td>M</td>\n",
       "      <td>компаньон</td>\n",
       "      <td>0</td>\n",
       "      <td>255763.565419</td>\n",
       "      <td>покупка жилья</td>\n",
       "    </tr>\n",
       "    <tr>\n",
       "      <th>6</th>\n",
       "      <td>0</td>\n",
       "      <td>-2879.202052</td>\n",
       "      <td>43</td>\n",
       "      <td>высшее</td>\n",
       "      <td>0</td>\n",
       "      <td>женат / замужем</td>\n",
       "      <td>0</td>\n",
       "      <td>F</td>\n",
       "      <td>компаньон</td>\n",
       "      <td>0</td>\n",
       "      <td>240525.971920</td>\n",
       "      <td>операции с жильем</td>\n",
       "    </tr>\n",
       "    <tr>\n",
       "      <th>7</th>\n",
       "      <td>0</td>\n",
       "      <td>-152.779569</td>\n",
       "      <td>50</td>\n",
       "      <td>СРЕДНЕЕ</td>\n",
       "      <td>1</td>\n",
       "      <td>женат / замужем</td>\n",
       "      <td>0</td>\n",
       "      <td>M</td>\n",
       "      <td>сотрудник</td>\n",
       "      <td>0</td>\n",
       "      <td>135823.934197</td>\n",
       "      <td>образование</td>\n",
       "    </tr>\n",
       "    <tr>\n",
       "      <th>8</th>\n",
       "      <td>2</td>\n",
       "      <td>-6929.865299</td>\n",
       "      <td>35</td>\n",
       "      <td>ВЫСШЕЕ</td>\n",
       "      <td>0</td>\n",
       "      <td>гражданский брак</td>\n",
       "      <td>1</td>\n",
       "      <td>F</td>\n",
       "      <td>сотрудник</td>\n",
       "      <td>0</td>\n",
       "      <td>95856.832424</td>\n",
       "      <td>на проведение свадьбы</td>\n",
       "    </tr>\n",
       "    <tr>\n",
       "      <th>9</th>\n",
       "      <td>0</td>\n",
       "      <td>-2188.756445</td>\n",
       "      <td>41</td>\n",
       "      <td>среднее</td>\n",
       "      <td>1</td>\n",
       "      <td>женат / замужем</td>\n",
       "      <td>0</td>\n",
       "      <td>M</td>\n",
       "      <td>сотрудник</td>\n",
       "      <td>0</td>\n",
       "      <td>144425.938277</td>\n",
       "      <td>покупка жилья для семьи</td>\n",
       "    </tr>\n",
       "    <tr>\n",
       "      <th>10</th>\n",
       "      <td>2</td>\n",
       "      <td>-4171.483647</td>\n",
       "      <td>36</td>\n",
       "      <td>высшее</td>\n",
       "      <td>0</td>\n",
       "      <td>женат / замужем</td>\n",
       "      <td>0</td>\n",
       "      <td>M</td>\n",
       "      <td>компаньон</td>\n",
       "      <td>0</td>\n",
       "      <td>113943.491460</td>\n",
       "      <td>покупка недвижимости</td>\n",
       "    </tr>\n",
       "    <tr>\n",
       "      <th>11</th>\n",
       "      <td>0</td>\n",
       "      <td>-792.701887</td>\n",
       "      <td>40</td>\n",
       "      <td>среднее</td>\n",
       "      <td>1</td>\n",
       "      <td>женат / замужем</td>\n",
       "      <td>0</td>\n",
       "      <td>F</td>\n",
       "      <td>сотрудник</td>\n",
       "      <td>0</td>\n",
       "      <td>77069.234271</td>\n",
       "      <td>покупка коммерческой недвижимости</td>\n",
       "    </tr>\n",
       "    <tr>\n",
       "      <th>12</th>\n",
       "      <td>0</td>\n",
       "      <td>NaN</td>\n",
       "      <td>65</td>\n",
       "      <td>среднее</td>\n",
       "      <td>1</td>\n",
       "      <td>гражданский брак</td>\n",
       "      <td>1</td>\n",
       "      <td>M</td>\n",
       "      <td>пенсионер</td>\n",
       "      <td>0</td>\n",
       "      <td>NaN</td>\n",
       "      <td>сыграть свадьбу</td>\n",
       "    </tr>\n",
       "    <tr>\n",
       "      <th>13</th>\n",
       "      <td>0</td>\n",
       "      <td>-1846.641941</td>\n",
       "      <td>54</td>\n",
       "      <td>неоконченное высшее</td>\n",
       "      <td>2</td>\n",
       "      <td>женат / замужем</td>\n",
       "      <td>0</td>\n",
       "      <td>F</td>\n",
       "      <td>сотрудник</td>\n",
       "      <td>0</td>\n",
       "      <td>130458.228857</td>\n",
       "      <td>приобретение автомобиля</td>\n",
       "    </tr>\n",
       "    <tr>\n",
       "      <th>14</th>\n",
       "      <td>0</td>\n",
       "      <td>-1844.956182</td>\n",
       "      <td>56</td>\n",
       "      <td>высшее</td>\n",
       "      <td>0</td>\n",
       "      <td>гражданский брак</td>\n",
       "      <td>1</td>\n",
       "      <td>F</td>\n",
       "      <td>компаньон</td>\n",
       "      <td>1</td>\n",
       "      <td>165127.911772</td>\n",
       "      <td>покупка жилой недвижимости</td>\n",
       "    </tr>\n",
       "    <tr>\n",
       "      <th>15</th>\n",
       "      <td>1</td>\n",
       "      <td>-972.364419</td>\n",
       "      <td>26</td>\n",
       "      <td>среднее</td>\n",
       "      <td>1</td>\n",
       "      <td>женат / замужем</td>\n",
       "      <td>0</td>\n",
       "      <td>F</td>\n",
       "      <td>сотрудник</td>\n",
       "      <td>0</td>\n",
       "      <td>116820.904450</td>\n",
       "      <td>строительство собственной недвижимости</td>\n",
       "    </tr>\n",
       "    <tr>\n",
       "      <th>16</th>\n",
       "      <td>0</td>\n",
       "      <td>-1719.934226</td>\n",
       "      <td>35</td>\n",
       "      <td>среднее</td>\n",
       "      <td>1</td>\n",
       "      <td>женат / замужем</td>\n",
       "      <td>0</td>\n",
       "      <td>F</td>\n",
       "      <td>сотрудник</td>\n",
       "      <td>0</td>\n",
       "      <td>289202.704229</td>\n",
       "      <td>недвижимость</td>\n",
       "    </tr>\n",
       "    <tr>\n",
       "      <th>17</th>\n",
       "      <td>0</td>\n",
       "      <td>-2369.999720</td>\n",
       "      <td>33</td>\n",
       "      <td>высшее</td>\n",
       "      <td>0</td>\n",
       "      <td>гражданский брак</td>\n",
       "      <td>1</td>\n",
       "      <td>M</td>\n",
       "      <td>сотрудник</td>\n",
       "      <td>0</td>\n",
       "      <td>90410.586745</td>\n",
       "      <td>строительство недвижимости</td>\n",
       "    </tr>\n",
       "    <tr>\n",
       "      <th>18</th>\n",
       "      <td>0</td>\n",
       "      <td>400281.136913</td>\n",
       "      <td>53</td>\n",
       "      <td>среднее</td>\n",
       "      <td>1</td>\n",
       "      <td>вдовец / вдова</td>\n",
       "      <td>2</td>\n",
       "      <td>F</td>\n",
       "      <td>пенсионер</td>\n",
       "      <td>0</td>\n",
       "      <td>56823.777243</td>\n",
       "      <td>на покупку подержанного автомобиля</td>\n",
       "    </tr>\n",
       "    <tr>\n",
       "      <th>19</th>\n",
       "      <td>0</td>\n",
       "      <td>-10038.818549</td>\n",
       "      <td>48</td>\n",
       "      <td>СРЕДНЕЕ</td>\n",
       "      <td>1</td>\n",
       "      <td>в разводе</td>\n",
       "      <td>3</td>\n",
       "      <td>F</td>\n",
       "      <td>сотрудник</td>\n",
       "      <td>0</td>\n",
       "      <td>242831.107982</td>\n",
       "      <td>на покупку своего автомобиля</td>\n",
       "    </tr>\n",
       "  </tbody>\n",
       "</table>\n",
       "</div>"
      ],
      "text/plain": [
       "    children  days_employed  dob_years            education  education_id  \\\n",
       "0          1   -8437.673028         42               высшее             0   \n",
       "1          1   -4024.803754         36              среднее             1   \n",
       "2          0   -5623.422610         33              Среднее             1   \n",
       "3          3   -4124.747207         32              среднее             1   \n",
       "4          0  340266.072047         53              среднее             1   \n",
       "5          0    -926.185831         27               высшее             0   \n",
       "6          0   -2879.202052         43               высшее             0   \n",
       "7          0    -152.779569         50              СРЕДНЕЕ             1   \n",
       "8          2   -6929.865299         35               ВЫСШЕЕ             0   \n",
       "9          0   -2188.756445         41              среднее             1   \n",
       "10         2   -4171.483647         36               высшее             0   \n",
       "11         0    -792.701887         40              среднее             1   \n",
       "12         0            NaN         65              среднее             1   \n",
       "13         0   -1846.641941         54  неоконченное высшее             2   \n",
       "14         0   -1844.956182         56               высшее             0   \n",
       "15         1    -972.364419         26              среднее             1   \n",
       "16         0   -1719.934226         35              среднее             1   \n",
       "17         0   -2369.999720         33               высшее             0   \n",
       "18         0  400281.136913         53              среднее             1   \n",
       "19         0  -10038.818549         48              СРЕДНЕЕ             1   \n",
       "\n",
       "       family_status  family_status_id gender income_type  debt  \\\n",
       "0    женат / замужем                 0      F   сотрудник     0   \n",
       "1    женат / замужем                 0      F   сотрудник     0   \n",
       "2    женат / замужем                 0      M   сотрудник     0   \n",
       "3    женат / замужем                 0      M   сотрудник     0   \n",
       "4   гражданский брак                 1      F   пенсионер     0   \n",
       "5   гражданский брак                 1      M   компаньон     0   \n",
       "6    женат / замужем                 0      F   компаньон     0   \n",
       "7    женат / замужем                 0      M   сотрудник     0   \n",
       "8   гражданский брак                 1      F   сотрудник     0   \n",
       "9    женат / замужем                 0      M   сотрудник     0   \n",
       "10   женат / замужем                 0      M   компаньон     0   \n",
       "11   женат / замужем                 0      F   сотрудник     0   \n",
       "12  гражданский брак                 1      M   пенсионер     0   \n",
       "13   женат / замужем                 0      F   сотрудник     0   \n",
       "14  гражданский брак                 1      F   компаньон     1   \n",
       "15   женат / замужем                 0      F   сотрудник     0   \n",
       "16   женат / замужем                 0      F   сотрудник     0   \n",
       "17  гражданский брак                 1      M   сотрудник     0   \n",
       "18    вдовец / вдова                 2      F   пенсионер     0   \n",
       "19         в разводе                 3      F   сотрудник     0   \n",
       "\n",
       "     total_income                                 purpose  \n",
       "0   253875.639453                           покупка жилья  \n",
       "1   112080.014102                 приобретение автомобиля  \n",
       "2   145885.952297                           покупка жилья  \n",
       "3   267628.550329              дополнительное образование  \n",
       "4   158616.077870                         сыграть свадьбу  \n",
       "5   255763.565419                           покупка жилья  \n",
       "6   240525.971920                       операции с жильем  \n",
       "7   135823.934197                             образование  \n",
       "8    95856.832424                   на проведение свадьбы  \n",
       "9   144425.938277                 покупка жилья для семьи  \n",
       "10  113943.491460                    покупка недвижимости  \n",
       "11   77069.234271       покупка коммерческой недвижимости  \n",
       "12            NaN                         сыграть свадьбу  \n",
       "13  130458.228857                 приобретение автомобиля  \n",
       "14  165127.911772              покупка жилой недвижимости  \n",
       "15  116820.904450  строительство собственной недвижимости  \n",
       "16  289202.704229                            недвижимость  \n",
       "17   90410.586745              строительство недвижимости  \n",
       "18   56823.777243      на покупку подержанного автомобиля  \n",
       "19  242831.107982            на покупку своего автомобиля  "
      ]
     },
     "execution_count": 2,
     "metadata": {},
     "output_type": "execute_result"
    }
   ],
   "source": [
    "data.head(20)"
   ]
  },
  {
   "cell_type": "markdown",
   "id": "b11cf5ea",
   "metadata": {
    "deletable": false,
    "editable": false,
    "id": "1c12e233"
   },
   "source": [
    "**Задание 3. Выведите основную информацию о датафрейме с помощью метода `info()`.**"
   ]
  },
  {
   "cell_type": "code",
   "execution_count": 3,
   "id": "2af5d8bf",
   "metadata": {
    "ExecuteTime": {
     "end_time": "2024-09-30T00:12:53.031467Z",
     "start_time": "2024-09-30T00:12:52.995420Z"
    },
    "deletable": false,
    "id": "2b757bca",
    "outputId": "15376089-8dad-46c9-b520-c05248d43158"
   },
   "outputs": [
    {
     "name": "stdout",
     "output_type": "stream",
     "text": [
      "<class 'pandas.core.frame.DataFrame'>\n",
      "RangeIndex: 21525 entries, 0 to 21524\n",
      "Data columns (total 12 columns):\n",
      " #   Column            Non-Null Count  Dtype  \n",
      "---  ------            --------------  -----  \n",
      " 0   children          21525 non-null  int64  \n",
      " 1   days_employed     19351 non-null  float64\n",
      " 2   dob_years         21525 non-null  int64  \n",
      " 3   education         21525 non-null  object \n",
      " 4   education_id      21525 non-null  int64  \n",
      " 5   family_status     21525 non-null  object \n",
      " 6   family_status_id  21525 non-null  int64  \n",
      " 7   gender            21525 non-null  object \n",
      " 8   income_type       21525 non-null  object \n",
      " 9   debt              21525 non-null  int64  \n",
      " 10  total_income      19351 non-null  float64\n",
      " 11  purpose           21525 non-null  object \n",
      "dtypes: float64(2), int64(5), object(5)\n",
      "memory usage: 2.0+ MB\n"
     ]
    }
   ],
   "source": [
    "data.info()"
   ]
  },
  {
   "cell_type": "markdown",
   "id": "f6506edd",
   "metadata": {
    "deletable": false,
    "editable": false,
    "id": "333ec665"
   },
   "source": [
    "## Предобработка данных"
   ]
  },
  {
   "cell_type": "markdown",
   "id": "aac3d925",
   "metadata": {
    "deletable": false,
    "editable": false,
    "id": "02d92d53"
   },
   "source": [
    "### Удаление пропусков"
   ]
  },
  {
   "cell_type": "markdown",
   "id": "462a6c53",
   "metadata": {
    "deletable": false,
    "editable": false,
    "id": "cd84967c"
   },
   "source": [
    "**Задание 4. Выведите количество пропущенных значений для каждого столбца. Используйте комбинацию двух методов.**"
   ]
  },
  {
   "cell_type": "code",
   "execution_count": 4,
   "id": "1f2095ba",
   "metadata": {
    "ExecuteTime": {
     "end_time": "2024-09-30T00:12:53.142606Z",
     "start_time": "2024-09-30T00:12:53.124168Z"
    },
    "deletable": false,
    "id": "7f9b2309",
    "outputId": "81f4d817-781c-465c-ed15-91ce4446810d"
   },
   "outputs": [
    {
     "data": {
      "text/plain": [
       "children               0\n",
       "days_employed       2174\n",
       "dob_years              0\n",
       "education              0\n",
       "education_id           0\n",
       "family_status          0\n",
       "family_status_id       0\n",
       "gender                 0\n",
       "income_type            0\n",
       "debt                   0\n",
       "total_income        2174\n",
       "purpose                0\n",
       "dtype: int64"
      ]
     },
     "execution_count": 4,
     "metadata": {},
     "output_type": "execute_result"
    }
   ],
   "source": [
    "data.isna().sum()"
   ]
  },
  {
   "cell_type": "markdown",
   "id": "a5c02094",
   "metadata": {
    "deletable": false,
    "editable": false,
    "id": "db86e27b"
   },
   "source": [
    "**Задание 5. В двух столбцах есть пропущенные значения. Один из них — `days_employed`. Пропуски в этом столбце вы обработаете на следующем этапе. Другой столбец с пропущенными значениями — `total_income` — хранит данные о доходах. На сумму дохода сильнее всего влияет тип занятости, поэтому заполнить пропуски в этом столбце нужно медианным значением по каждому типу из столбца `income_type`. Например, у человека с типом занятости `сотрудник` пропуск в столбце `total_income` должен быть заполнен медианным доходом среди всех записей с тем же типом.**"
   ]
  },
  {
   "cell_type": "code",
   "execution_count": 5,
   "id": "00138ac9",
   "metadata": {
    "ExecuteTime": {
     "end_time": "2024-09-30T00:12:54.022096Z",
     "start_time": "2024-09-30T00:12:53.979616Z"
    },
    "deletable": false,
    "id": "42006a93"
   },
   "outputs": [],
   "source": [
    "for t in data['income_type'].unique():\n",
    "    data.loc[(data['income_type'] == t) & (data['total_income'].isna()), 'total_income'] = \\\n",
    "    data.loc[(data['income_type'] == t), 'total_income'].median()"
   ]
  },
  {
   "cell_type": "markdown",
   "id": "5fd938f8",
   "metadata": {
    "deletable": false,
    "editable": false,
    "id": "89da5ece"
   },
   "source": [
    "### Обработка аномальных значений"
   ]
  },
  {
   "cell_type": "markdown",
   "id": "56c1cefa",
   "metadata": {
    "deletable": false,
    "editable": false,
    "id": "57964554"
   },
   "source": [
    "**Задание 6. В данных могут встречаться артефакты (аномалии) — значения, которые не отражают действительность и появились по какой-то ошибке. таким артефактом будет отрицательное количество дней трудового стажа в столбце `days_employed`. Для реальных данных это нормально. Обработайте значения в этом столбце: замените все отрицательные значения положительными с помощью метода `abs()`.**"
   ]
  },
  {
   "cell_type": "code",
   "execution_count": 6,
   "id": "c00e6a07",
   "metadata": {
    "ExecuteTime": {
     "end_time": "2024-09-30T00:12:54.739415Z",
     "start_time": "2024-09-30T00:12:54.730650Z"
    },
    "deletable": false,
    "id": "f6f055bf"
   },
   "outputs": [],
   "source": [
    "data['days_employed'] = data['days_employed'].abs()"
   ]
  },
  {
   "cell_type": "markdown",
   "id": "44652428",
   "metadata": {
    "deletable": false,
    "editable": false,
    "id": "6107dd2f"
   },
   "source": [
    "**Задание 7. Для каждого типа занятости выведите медианное значение трудового стажа `days_employed` в днях.**"
   ]
  },
  {
   "cell_type": "code",
   "execution_count": 7,
   "id": "92989dc4",
   "metadata": {
    "ExecuteTime": {
     "end_time": "2024-09-30T00:12:55.177682Z",
     "start_time": "2024-09-30T00:12:55.159320Z"
    },
    "deletable": false,
    "id": "85a5faf6",
    "outputId": "801ef80e-522b-4668-f34e-565af7432bcf"
   },
   "outputs": [
    {
     "data": {
      "text/plain": [
       "income_type\n",
       "безработный        366413.652744\n",
       "в декрете            3296.759962\n",
       "госслужащий          2689.368353\n",
       "компаньон            1547.382223\n",
       "пенсионер          365213.306266\n",
       "предприниматель       520.848083\n",
       "сотрудник            1574.202821\n",
       "студент               578.751554\n",
       "Name: days_employed, dtype: float64"
      ]
     },
     "execution_count": 7,
     "metadata": {},
     "output_type": "execute_result"
    }
   ],
   "source": [
    "data.groupby('income_type')['days_employed'].agg('median')"
   ]
  },
  {
   "cell_type": "markdown",
   "id": "8dbfd4d4",
   "metadata": {
    "deletable": false,
    "editable": false,
    "id": "38d1a030"
   },
   "source": [
    "У двух типов (безработные и пенсионеры) получатся аномально большие значения. Исправить такие значения сложно, поэтому оставьте их как есть. Тем более этот столбец не понадобится вам для исследования."
   ]
  },
  {
   "cell_type": "markdown",
   "id": "42cfff60",
   "metadata": {
    "deletable": false,
    "editable": false,
    "id": "d8a9f147"
   },
   "source": [
    "**Задание 8. Выведите перечень уникальных значений столбца `children`.**"
   ]
  },
  {
   "cell_type": "code",
   "execution_count": 8,
   "id": "a7e8d622",
   "metadata": {
    "ExecuteTime": {
     "end_time": "2024-09-30T00:12:55.869648Z",
     "start_time": "2024-09-30T00:12:55.854138Z"
    },
    "deletable": false,
    "id": "ef5056eb",
    "outputId": "6975b15c-7f95-4697-d16d-a0c79b657b03"
   },
   "outputs": [
    {
     "data": {
      "text/plain": [
       "array([ 1,  0,  3,  2, -1,  4, 20,  5])"
      ]
     },
     "execution_count": 8,
     "metadata": {},
     "output_type": "execute_result"
    }
   ],
   "source": [
    "data['children'].unique()"
   ]
  },
  {
   "cell_type": "markdown",
   "id": "b1a65e88",
   "metadata": {
    "deletable": false,
    "editable": false,
    "id": "40b9ebf2"
   },
   "source": [
    "**Задание 9. В столбце `children` есть два аномальных значения. Удалите строки, в которых встречаются такие аномальные значения из датафрейма `data`.**"
   ]
  },
  {
   "cell_type": "code",
   "execution_count": 9,
   "id": "0b32f348",
   "metadata": {
    "ExecuteTime": {
     "end_time": "2024-09-30T00:12:56.203471Z",
     "start_time": "2024-09-30T00:12:56.192959Z"
    },
    "deletable": false,
    "id": "3ff9801d"
   },
   "outputs": [],
   "source": [
    "data = data[(data['children'] != -1) & (data['children'] != 20)]"
   ]
  },
  {
   "cell_type": "markdown",
   "id": "9e7ebe9b",
   "metadata": {
    "deletable": false,
    "editable": false,
    "id": "bbc4d0ce"
   },
   "source": [
    "**Задание 10. Ещё раз выведите перечень уникальных значений столбца `children`, чтобы убедиться, что артефакты удалены.**"
   ]
  },
  {
   "cell_type": "code",
   "execution_count": 10,
   "id": "e78cb2ae",
   "metadata": {
    "ExecuteTime": {
     "end_time": "2024-09-30T00:12:56.969776Z",
     "start_time": "2024-09-30T00:12:56.961412Z"
    },
    "deletable": false,
    "id": "ad4fa8b7",
    "outputId": "b2097101-d49d-44d9-901b-32a65c9463d1"
   },
   "outputs": [
    {
     "data": {
      "text/plain": [
       "array([1, 0, 3, 2, 4, 5])"
      ]
     },
     "execution_count": 10,
     "metadata": {},
     "output_type": "execute_result"
    }
   ],
   "source": [
    "data['children'].unique()"
   ]
  },
  {
   "cell_type": "markdown",
   "id": "dc6370c0",
   "metadata": {
    "deletable": false,
    "editable": false,
    "id": "75440b63"
   },
   "source": [
    "### Удаление пропусков (продолжение)"
   ]
  },
  {
   "cell_type": "markdown",
   "id": "66ea49f4",
   "metadata": {
    "deletable": false,
    "editable": false,
    "id": "f4ea573f"
   },
   "source": [
    "**Задание 11. Заполните пропуски в столбце `days_employed` медианными значениями по каждого типа занятости `income_type`.**"
   ]
  },
  {
   "cell_type": "code",
   "execution_count": 11,
   "id": "a9c9bf1d",
   "metadata": {
    "ExecuteTime": {
     "end_time": "2024-09-30T00:12:57.072734Z",
     "start_time": "2024-09-30T00:12:57.042603Z"
    },
    "deletable": false,
    "id": "af6b1a7e"
   },
   "outputs": [],
   "source": [
    "for t in data['income_type'].unique():\n",
    "    data.loc[(data['income_type'] == t) & (data['days_employed'].isna()), 'days_employed'] = \\\n",
    "    data.loc[(data['income_type'] == t), 'days_employed'].median()"
   ]
  },
  {
   "cell_type": "markdown",
   "id": "cad73e32",
   "metadata": {
    "deletable": false,
    "editable": false,
    "id": "2753f40d"
   },
   "source": [
    "**Задание 12. Убедитесь, что все пропуски заполнены. Проверьте себя и ещё раз выведите количество пропущенных значений для каждого столбца с помощью двух методов.**"
   ]
  },
  {
   "cell_type": "code",
   "execution_count": 12,
   "id": "a0cb5ab8",
   "metadata": {
    "ExecuteTime": {
     "end_time": "2024-09-30T00:12:57.119534Z",
     "start_time": "2024-09-30T00:12:57.105952Z"
    },
    "deletable": false,
    "id": "55f78bc2",
    "outputId": "8da1e4e1-358e-4e87-98c9-f261bce0a7b2"
   },
   "outputs": [
    {
     "data": {
      "text/plain": [
       "children            0\n",
       "days_employed       0\n",
       "dob_years           0\n",
       "education           0\n",
       "education_id        0\n",
       "family_status       0\n",
       "family_status_id    0\n",
       "gender              0\n",
       "income_type         0\n",
       "debt                0\n",
       "total_income        0\n",
       "purpose             0\n",
       "dtype: int64"
      ]
     },
     "execution_count": 12,
     "metadata": {},
     "output_type": "execute_result"
    }
   ],
   "source": [
    "data.isna().sum()"
   ]
  },
  {
   "cell_type": "markdown",
   "id": "60124c0a",
   "metadata": {
    "deletable": false,
    "editable": false,
    "id": "ddc81e43"
   },
   "source": [
    "### Изменение типов данных"
   ]
  },
  {
   "cell_type": "markdown",
   "id": "24146c30",
   "metadata": {
    "deletable": false,
    "editable": false,
    "id": "42d19d24"
   },
   "source": [
    "**Задание 13. Замените вещественный тип данных в столбце `total_income` на целочисленный с помощью метода `astype()`.**"
   ]
  },
  {
   "cell_type": "code",
   "execution_count": 13,
   "id": "47f10cd6",
   "metadata": {
    "ExecuteTime": {
     "end_time": "2024-09-30T00:12:57.194854Z",
     "start_time": "2024-09-30T00:12:57.188348Z"
    },
    "deletable": false,
    "id": "920b65ad"
   },
   "outputs": [],
   "source": [
    "data['total_income'] = data['total_income'].astype(int)"
   ]
  },
  {
   "cell_type": "markdown",
   "id": "b1fd1692",
   "metadata": {
    "deletable": false,
    "editable": false,
    "id": "80c420ba"
   },
   "source": [
    "### Обработка дубликатов"
   ]
  },
  {
   "cell_type": "markdown",
   "id": "18f781ea",
   "metadata": {
    "deletable": false,
    "editable": false
   },
   "source": [
    "**Задание 14. Обработайте неявные дубликаты в столбце `education`. В этом столбце есть одни и те же значения, но записанные по-разному: с использованием заглавных и строчных букв. Приведите их к нижнему регистру. Проверьте остальные столбцы.**"
   ]
  },
  {
   "cell_type": "code",
   "execution_count": 14,
   "id": "3fa50a85",
   "metadata": {
    "ExecuteTime": {
     "end_time": "2024-09-30T00:12:57.271889Z",
     "start_time": "2024-09-30T00:12:57.251034Z"
    },
    "deletable": false
   },
   "outputs": [],
   "source": [
    "data['education'] = data['education'].str.lower()"
   ]
  },
  {
   "cell_type": "markdown",
   "id": "e1ab1b33",
   "metadata": {
    "deletable": false,
    "editable": false,
    "id": "dc587695"
   },
   "source": [
    "**Задание 15. Выведите на экран количество строк-дубликатов в данных. Если такие строки присутствуют, удалите их.**"
   ]
  },
  {
   "cell_type": "code",
   "execution_count": 15,
   "id": "89f4a425",
   "metadata": {
    "ExecuteTime": {
     "end_time": "2024-09-30T00:12:57.591500Z",
     "start_time": "2024-09-30T00:12:57.569897Z"
    },
    "deletable": false,
    "id": "3ee445e4",
    "outputId": "9684deba-1934-42d1-99e1-cda61740f822"
   },
   "outputs": [
    {
     "data": {
      "text/plain": [
       "np.int64(71)"
      ]
     },
     "execution_count": 15,
     "metadata": {},
     "output_type": "execute_result"
    }
   ],
   "source": [
    "data.duplicated().sum()"
   ]
  },
  {
   "cell_type": "code",
   "execution_count": 16,
   "id": "e2da99a7",
   "metadata": {
    "ExecuteTime": {
     "end_time": "2024-09-30T00:12:57.758694Z",
     "start_time": "2024-09-30T00:12:57.727614Z"
    },
    "deletable": false,
    "id": "8575fe05"
   },
   "outputs": [],
   "source": [
    "data = data.drop_duplicates()"
   ]
  },
  {
   "cell_type": "markdown",
   "id": "d7e07fa6",
   "metadata": {
    "deletable": false,
    "editable": false,
    "id": "9904cf55"
   },
   "source": [
    "### Категоризация данных"
   ]
  },
  {
   "cell_type": "markdown",
   "id": "012d4933",
   "metadata": {
    "deletable": false,
    "editable": false,
    "id": "72fcc8a2"
   },
   "source": [
    "**Задание 16. На основании диапазонов, указанных ниже, создайте в датафрейме `data` столбец `total_income_category` с категориями:**\n",
    "\n",
    "- 0–30000 — `'E'`;\n",
    "- 30001–50000 — `'D'`;\n",
    "- 50001–200000 — `'C'`;\n",
    "- 200001–1000000 — `'B'`;\n",
    "- 1000001 и выше — `'A'`.\n",
    "\n",
    "\n",
    "**Например, кредитополучателю с доходом 25000 нужно назначить категорию `'E'`, а клиенту, получающему 235000, — `'B'`. Используйте собственную функцию с именем `categorize_income()` и метод `apply()`.**"
   ]
  },
  {
   "cell_type": "code",
   "execution_count": 17,
   "id": "9ebefe53",
   "metadata": {
    "ExecuteTime": {
     "end_time": "2024-09-30T00:12:57.820197Z",
     "start_time": "2024-09-30T00:12:57.810931Z"
    },
    "deletable": false,
    "id": "e1771346"
   },
   "outputs": [],
   "source": [
    "def categorize_income(income):\n",
    "    try:\n",
    "        if 0 <= income <= 30000:\n",
    "            return 'E'\n",
    "        elif 30001 <= income <= 50000:\n",
    "            return 'D'\n",
    "        elif 50001 <= income <= 200000:\n",
    "            return 'C'\n",
    "        elif 200001 <= income <= 1000000:\n",
    "            return 'B'\n",
    "        elif income >= 1000001:\n",
    "            return 'A'\n",
    "    except:\n",
    "        pass"
   ]
  },
  {
   "cell_type": "code",
   "execution_count": 18,
   "id": "861062de",
   "metadata": {
    "ExecuteTime": {
     "end_time": "2024-09-30T00:12:57.860968Z",
     "start_time": "2024-09-30T00:12:57.841846Z"
    },
    "deletable": false,
    "id": "d5f3586d"
   },
   "outputs": [],
   "source": [
    "data['total_income_category'] = data['total_income'].apply(categorize_income)"
   ]
  },
  {
   "cell_type": "markdown",
   "id": "876d6fd6",
   "metadata": {
    "deletable": false,
    "editable": false,
    "id": "dde49b5c"
   },
   "source": [
    "**Задание 17. Выведите на экран перечень уникальных целей взятия кредита из столбца `purpose`.**"
   ]
  },
  {
   "cell_type": "code",
   "execution_count": 19,
   "id": "5f25c45d",
   "metadata": {
    "ExecuteTime": {
     "end_time": "2024-09-30T00:12:57.895886Z",
     "start_time": "2024-09-30T00:12:57.879726Z"
    },
    "deletable": false,
    "id": "f67ce9b3",
    "outputId": "673c12d9-7d7e-4ae0-9812-c622c89dd244"
   },
   "outputs": [
    {
     "data": {
      "text/plain": [
       "array(['покупка жилья', 'приобретение автомобиля',\n",
       "       'дополнительное образование', 'сыграть свадьбу',\n",
       "       'операции с жильем', 'образование', 'на проведение свадьбы',\n",
       "       'покупка жилья для семьи', 'покупка недвижимости',\n",
       "       'покупка коммерческой недвижимости', 'покупка жилой недвижимости',\n",
       "       'строительство собственной недвижимости', 'недвижимость',\n",
       "       'строительство недвижимости', 'на покупку подержанного автомобиля',\n",
       "       'на покупку своего автомобиля',\n",
       "       'операции с коммерческой недвижимостью',\n",
       "       'строительство жилой недвижимости', 'жилье',\n",
       "       'операции со своей недвижимостью', 'автомобили',\n",
       "       'заняться образованием', 'сделка с подержанным автомобилем',\n",
       "       'получение образования', 'автомобиль', 'свадьба',\n",
       "       'получение дополнительного образования', 'покупка своего жилья',\n",
       "       'операции с недвижимостью', 'получение высшего образования',\n",
       "       'свой автомобиль', 'сделка с автомобилем',\n",
       "       'профильное образование', 'высшее образование',\n",
       "       'покупка жилья для сдачи', 'на покупку автомобиля', 'ремонт жилью',\n",
       "       'заняться высшим образованием'], dtype=object)"
      ]
     },
     "execution_count": 19,
     "metadata": {},
     "output_type": "execute_result"
    }
   ],
   "source": [
    "data['purpose'].unique()"
   ]
  },
  {
   "cell_type": "markdown",
   "id": "3a7d3982",
   "metadata": {
    "deletable": false,
    "editable": false,
    "id": "85d0aef0"
   },
   "source": [
    "**Задание 18. Создайте функцию, которая на основании данных из столбца `purpose` сформирует новый столбец `purpose_category`, в который войдут следующие категории:**\n",
    "\n",
    "- `'операции с автомобилем'`,\n",
    "- `'операции с недвижимостью'`,\n",
    "- `'проведение свадьбы'`,\n",
    "- `'получение образования'`.\n",
    "\n",
    "**Например, если в столбце `purpose` находится подстрока `'на покупку автомобиля'`, то в столбце `purpose_category` должна появиться строка `'операции с автомобилем'`.**\n",
    "\n",
    "**Используйте собственную функцию с именем `categorize_purpose()` и метод `apply()`. Изучите данные в столбце `purpose` и определите, какие подстроки помогут вам правильно определить категорию.**"
   ]
  },
  {
   "cell_type": "code",
   "execution_count": 20,
   "id": "64e5a045",
   "metadata": {
    "ExecuteTime": {
     "end_time": "2024-09-30T00:12:57.970182Z",
     "start_time": "2024-09-30T00:12:57.963916Z"
    },
    "deletable": false,
    "id": "e149fab4"
   },
   "outputs": [],
   "source": [
    "def categorize_purpose(row):\n",
    "    try:\n",
    "        if 'автом' in row:\n",
    "            return 'операции с автомобилем'\n",
    "        elif 'жил' in row or 'недвиж' in row:\n",
    "            return 'операции с недвижимостью'\n",
    "        elif 'свад' in row:\n",
    "            return 'проведение свадьбы'\n",
    "        elif 'образов' in row:\n",
    "            return 'получение образования'\n",
    "    except:\n",
    "        return 'нет категории'"
   ]
  },
  {
   "cell_type": "code",
   "execution_count": 21,
   "id": "841cfc3a",
   "metadata": {
    "ExecuteTime": {
     "end_time": "2024-09-30T00:12:58.039861Z",
     "start_time": "2024-09-30T00:12:58.021734Z"
    },
    "deletable": false,
    "id": "bf36e69b"
   },
   "outputs": [],
   "source": [
    "data['purpose_category'] = data['purpose'].apply(categorize_purpose)"
   ]
  },
  {
   "cell_type": "markdown",
   "id": "64ea2593",
   "metadata": {
    "deletable": false,
    "editable": false,
    "id": "09b242bf"
   },
   "source": [
    "### Шаг 3. Исследуйте данные и ответьте на вопросы"
   ]
  },
  {
   "cell_type": "markdown",
   "id": "ea4ca492",
   "metadata": {
    "deletable": false,
    "editable": false,
    "id": "c5d66278"
   },
   "source": [
    "#### 3.1 Есть ли зависимость между количеством детей и возвратом кредита в срок?"
   ]
  },
  {
   "cell_type": "code",
   "execution_count": 22,
   "id": "ae8fb333",
   "metadata": {
    "ExecuteTime": {
     "end_time": "2024-09-30T00:12:58.108326Z",
     "start_time": "2024-09-30T00:12:58.088886Z"
    },
    "deletable": false,
    "id": "2cacfc4a"
   },
   "outputs": [
    {
     "name": "stdout",
     "output_type": "stream",
     "text": [
      "Корреляция между children и debt: 0.024643415439591473\n"
     ]
    },
    {
     "data": {
      "text/html": [
       "<div>\n",
       "<style scoped>\n",
       "    .dataframe tbody tr th:only-of-type {\n",
       "        vertical-align: middle;\n",
       "    }\n",
       "\n",
       "    .dataframe tbody tr th {\n",
       "        vertical-align: top;\n",
       "    }\n",
       "\n",
       "    .dataframe thead th {\n",
       "        text-align: right;\n",
       "    }\n",
       "</style>\n",
       "<table border=\"1\" class=\"dataframe\">\n",
       "  <thead>\n",
       "    <tr style=\"text-align: right;\">\n",
       "      <th></th>\n",
       "      <th>Кол-во заемщиков</th>\n",
       "      <th>Кол-во должников</th>\n",
       "      <th>Процент должников</th>\n",
       "    </tr>\n",
       "    <tr>\n",
       "      <th>children</th>\n",
       "      <th></th>\n",
       "      <th></th>\n",
       "      <th></th>\n",
       "    </tr>\n",
       "  </thead>\n",
       "  <tbody>\n",
       "    <tr>\n",
       "      <th>0</th>\n",
       "      <td>14091</td>\n",
       "      <td>1063</td>\n",
       "      <td>7.543822</td>\n",
       "    </tr>\n",
       "    <tr>\n",
       "      <th>1</th>\n",
       "      <td>4808</td>\n",
       "      <td>444</td>\n",
       "      <td>9.234609</td>\n",
       "    </tr>\n",
       "    <tr>\n",
       "      <th>2</th>\n",
       "      <td>2052</td>\n",
       "      <td>194</td>\n",
       "      <td>9.454191</td>\n",
       "    </tr>\n",
       "    <tr>\n",
       "      <th>3</th>\n",
       "      <td>330</td>\n",
       "      <td>27</td>\n",
       "      <td>8.181818</td>\n",
       "    </tr>\n",
       "    <tr>\n",
       "      <th>4</th>\n",
       "      <td>41</td>\n",
       "      <td>4</td>\n",
       "      <td>9.756098</td>\n",
       "    </tr>\n",
       "    <tr>\n",
       "      <th>5</th>\n",
       "      <td>9</td>\n",
       "      <td>0</td>\n",
       "      <td>0.000000</td>\n",
       "    </tr>\n",
       "  </tbody>\n",
       "</table>\n",
       "</div>"
      ],
      "text/plain": [
       "          Кол-во заемщиков  Кол-во должников  Процент должников\n",
       "children                                                       \n",
       "0                    14091              1063           7.543822\n",
       "1                     4808               444           9.234609\n",
       "2                     2052               194           9.454191\n",
       "3                      330                27           8.181818\n",
       "4                       41                 4           9.756098\n",
       "5                        9                 0           0.000000"
      ]
     },
     "execution_count": 22,
     "metadata": {},
     "output_type": "execute_result"
    }
   ],
   "source": [
    "print('Корреляция между children и debt:', data[['children', 'debt']].corr().loc['children', 'debt'])\n",
    "\n",
    "pivot_table = data.groupby('children')['debt'].agg(['count', 'sum', 'mean']).rename(columns={\n",
    "    'count': 'Кол-во заемщиков',\n",
    "    'sum': 'Кол-во должников',\n",
    "    'mean': 'Процент должников'\n",
    "})\n",
    "pivot_table['Процент должников'] = pivot_table['Процент должников'] * 100\n",
    "pivot_table"
   ]
  },
  {
   "cell_type": "markdown",
   "id": "ce4308d1",
   "metadata": {
    "deletable": false,
    "id": "3a6b99ec"
   },
   "source": [
    "**Вывод: Можно заметить, что корреляция между children и debt крайне мала. Однако видно, что процент должников с `одним` или `двумя` детьми немного больше (должников с `четырмя` или `пятью` детьми сравнивать некорректно, потому что выборка сильно меньше).** "
   ]
  },
  {
   "cell_type": "markdown",
   "id": "7b3dbd12",
   "metadata": {
    "deletable": false,
    "editable": false,
    "id": "97be82ca"
   },
   "source": [
    "#### 3.2 Есть ли зависимость между семейным положением и возвратом кредита в срок?"
   ]
  },
  {
   "cell_type": "code",
   "execution_count": 23,
   "id": "dd4b9deb",
   "metadata": {
    "ExecuteTime": {
     "end_time": "2024-09-30T00:12:58.215541Z",
     "start_time": "2024-09-30T00:12:58.195655Z"
    },
    "deletable": false,
    "id": "dc3f7ee8"
   },
   "outputs": [
    {
     "data": {
      "text/html": [
       "<div>\n",
       "<style scoped>\n",
       "    .dataframe tbody tr th:only-of-type {\n",
       "        vertical-align: middle;\n",
       "    }\n",
       "\n",
       "    .dataframe tbody tr th {\n",
       "        vertical-align: top;\n",
       "    }\n",
       "\n",
       "    .dataframe thead th {\n",
       "        text-align: right;\n",
       "    }\n",
       "</style>\n",
       "<table border=\"1\" class=\"dataframe\">\n",
       "  <thead>\n",
       "    <tr style=\"text-align: right;\">\n",
       "      <th></th>\n",
       "      <th>Кол-во заемщиков</th>\n",
       "      <th>Кол-во должников</th>\n",
       "      <th>Процент должников</th>\n",
       "    </tr>\n",
       "    <tr>\n",
       "      <th>family_status</th>\n",
       "      <th></th>\n",
       "      <th></th>\n",
       "      <th></th>\n",
       "    </tr>\n",
       "  </thead>\n",
       "  <tbody>\n",
       "    <tr>\n",
       "      <th>вдовец / вдова</th>\n",
       "      <td>951</td>\n",
       "      <td>63</td>\n",
       "      <td>6.624606</td>\n",
       "    </tr>\n",
       "    <tr>\n",
       "      <th>в разводе</th>\n",
       "      <td>1189</td>\n",
       "      <td>84</td>\n",
       "      <td>7.064760</td>\n",
       "    </tr>\n",
       "    <tr>\n",
       "      <th>женат / замужем</th>\n",
       "      <td>12261</td>\n",
       "      <td>927</td>\n",
       "      <td>7.560558</td>\n",
       "    </tr>\n",
       "    <tr>\n",
       "      <th>гражданский брак</th>\n",
       "      <td>4134</td>\n",
       "      <td>385</td>\n",
       "      <td>9.313014</td>\n",
       "    </tr>\n",
       "    <tr>\n",
       "      <th>Не женат / не замужем</th>\n",
       "      <td>2796</td>\n",
       "      <td>273</td>\n",
       "      <td>9.763948</td>\n",
       "    </tr>\n",
       "  </tbody>\n",
       "</table>\n",
       "</div>"
      ],
      "text/plain": [
       "                       Кол-во заемщиков  Кол-во должников  Процент должников\n",
       "family_status                                                               \n",
       "вдовец / вдова                      951                63           6.624606\n",
       "в разводе                          1189                84           7.064760\n",
       "женат / замужем                   12261               927           7.560558\n",
       "гражданский брак                   4134               385           9.313014\n",
       "Не женат / не замужем              2796               273           9.763948"
      ]
     },
     "execution_count": 23,
     "metadata": {},
     "output_type": "execute_result"
    }
   ],
   "source": [
    "pivot_table = data.groupby('family_status')['debt'].agg(['count', 'sum', 'mean']).rename(columns={\n",
    "    'count': 'Кол-во заемщиков',\n",
    "    'sum': 'Кол-во должников',\n",
    "    'mean': 'Процент должников'\n",
    "})\n",
    "pivot_table['Процент должников'] = pivot_table['Процент должников'] * 100\n",
    "pivot_table.sort_values(by='Процент должников')"
   ]
  },
  {
   "cell_type": "markdown",
   "id": "b6760adc",
   "metadata": {
    "deletable": false,
    "id": "1cef7837"
   },
   "source": [
    "**Вывод: Клинеты, находящиеся в `гражданском браке`и `не женатые` имеют наибольший процент должников. С другой стороны `вдовцы и вдовы` имеют нименьший процент должников. `В развоте` и  `женатые` показывают средние показатели.** "
   ]
  },
  {
   "cell_type": "markdown",
   "id": "df2f2bcb",
   "metadata": {
    "deletable": false,
    "editable": false,
    "id": "1e8b2fca"
   },
   "source": [
    "#### 3.3 Есть ли зависимость между уровнем дохода и возвратом кредита в срок?"
   ]
  },
  {
   "cell_type": "code",
   "execution_count": 24,
   "id": "5bd87b0e",
   "metadata": {
    "ExecuteTime": {
     "end_time": "2024-09-30T00:12:58.327229Z",
     "start_time": "2024-09-30T00:12:58.306750Z"
    },
    "deletable": false,
    "id": "cd7e3720"
   },
   "outputs": [
    {
     "name": "stdout",
     "output_type": "stream",
     "text": [
      "Корреляция между total_income и debt: -0.012671098818190087\n"
     ]
    },
    {
     "data": {
      "text/html": [
       "<div>\n",
       "<style scoped>\n",
       "    .dataframe tbody tr th:only-of-type {\n",
       "        vertical-align: middle;\n",
       "    }\n",
       "\n",
       "    .dataframe tbody tr th {\n",
       "        vertical-align: top;\n",
       "    }\n",
       "\n",
       "    .dataframe thead th {\n",
       "        text-align: right;\n",
       "    }\n",
       "</style>\n",
       "<table border=\"1\" class=\"dataframe\">\n",
       "  <thead>\n",
       "    <tr style=\"text-align: right;\">\n",
       "      <th></th>\n",
       "      <th>Кол-во заемщиков</th>\n",
       "      <th>Кол-во должников</th>\n",
       "      <th>Процент должников</th>\n",
       "    </tr>\n",
       "    <tr>\n",
       "      <th>total_income_category</th>\n",
       "      <th></th>\n",
       "      <th></th>\n",
       "      <th></th>\n",
       "    </tr>\n",
       "  </thead>\n",
       "  <tbody>\n",
       "    <tr>\n",
       "      <th>A</th>\n",
       "      <td>25</td>\n",
       "      <td>2</td>\n",
       "      <td>8.000000</td>\n",
       "    </tr>\n",
       "    <tr>\n",
       "      <th>B</th>\n",
       "      <td>5014</td>\n",
       "      <td>354</td>\n",
       "      <td>7.060231</td>\n",
       "    </tr>\n",
       "    <tr>\n",
       "      <th>C</th>\n",
       "      <td>15921</td>\n",
       "      <td>1353</td>\n",
       "      <td>8.498210</td>\n",
       "    </tr>\n",
       "    <tr>\n",
       "      <th>D</th>\n",
       "      <td>349</td>\n",
       "      <td>21</td>\n",
       "      <td>6.017192</td>\n",
       "    </tr>\n",
       "    <tr>\n",
       "      <th>E</th>\n",
       "      <td>22</td>\n",
       "      <td>2</td>\n",
       "      <td>9.090909</td>\n",
       "    </tr>\n",
       "  </tbody>\n",
       "</table>\n",
       "</div>"
      ],
      "text/plain": [
       "                       Кол-во заемщиков  Кол-во должников  Процент должников\n",
       "total_income_category                                                       \n",
       "A                                    25                 2           8.000000\n",
       "B                                  5014               354           7.060231\n",
       "C                                 15921              1353           8.498210\n",
       "D                                   349                21           6.017192\n",
       "E                                    22                 2           9.090909"
      ]
     },
     "execution_count": 24,
     "metadata": {},
     "output_type": "execute_result"
    }
   ],
   "source": [
    "print('Корреляция между total_income и debt:', data[['total_income', 'debt']].corr().loc['total_income', 'debt'])\n",
    "\n",
    "pivot_table = data.groupby('total_income_category')['debt'].agg(['count', 'sum', 'mean']).rename(columns={\n",
    "    'count': 'Кол-во заемщиков',\n",
    "    'sum': 'Кол-во должников',\n",
    "    'mean': 'Процент должников'\n",
    "})\n",
    "pivot_table['Процент должников'] = pivot_table['Процент должников'] * 100\n",
    "pivot_table"
   ]
  },
  {
   "cell_type": "markdown",
   "id": "8a54fd8a",
   "metadata": {
    "deletable": false,
    "id": "e8593def"
   },
   "source": [
    "**Вывод: `D`-Категория клиентов имеет низкий процент должников, это может быть связано с тем, что им проще закрыть долги, учитывая их заработную плату. И самый высокий показатель процентов должников показывают люди из `С` категории, что может быть вызвано их склонностью брать на себя большие финансовые обязанности. Причиной того, что у клиентов из категории `B`, процент должников меньше, чем у людей из `C` категории, может быть более бдительное внимание работников банка к людям с низкой заработной платой. Категории `A` и `E` не рассматриваются в выводе из-за того что их выборка нерепрезентативная.**"
   ]
  },
  {
   "cell_type": "markdown",
   "id": "29c02783",
   "metadata": {
    "deletable": false,
    "id": "b4bb2ce6"
   },
   "source": [
    "**Вывод: Цели долга, связанная с `автомобилем` и `образованием`, являются самыми рисковыми для банка, ведь процент должников в этих категориях больше, чем у клиентов, взявших долг для `недвижимости` или `свадьбы`** "
   ]
  },
  {
   "cell_type": "markdown",
   "id": "330fb194",
   "metadata": {
    "deletable": false,
    "editable": false,
    "id": "09c3ac4c"
   },
   "source": [
    "#### 3.5 Приведите возможные причины появления пропусков в исходных данных."
   ]
  },
  {
   "cell_type": "markdown",
   "id": "97ce178c",
   "metadata": {
    "deletable": false,
    "id": "9da2ceda"
   },
   "source": [
    "**Возможные причины (в скобках примеры):**\n",
    "- Ошибки при сборе данных (ошибка data engineer)\n",
    "- Проблемы с форматом и типом данных (база данных не принила неверный формат даты)\n",
    "- Пропуски при ручном вводе (со стороны колл-центра)\n",
    "- Неккоторые данные вводятся опционально (необязательные поля ввода данных в форме)\n",
    "- Некоторые данные могли быть удалены (Клиент отказался от рассыллки и удалил почту)"
   ]
  },
  {
   "cell_type": "markdown",
   "id": "6dca03a4",
   "metadata": {
    "deletable": false,
    "editable": false,
    "id": "7b0487d6"
   },
   "source": [
    "#### 3.6 Объясните, почему заполнить пропуски медианным значением — лучшее решение для количественных переменных."
   ]
  },
  {
   "cell_type": "markdown",
   "id": "bc8dcd08",
   "metadata": {
    "deletable": false,
    "id": "7ecf2b8e"
   },
   "source": [
    "**Медианное заполнение пропусков устойчивый к выбросам способ, в отличии от среднего (потому что аномальное значение может сильно искозить результат). Также это простой и эффективный метод, сохраняющий структуру и сильно не искожая средние показатели.**"
   ]
  },
  {
   "cell_type": "markdown",
   "id": "69f998d6",
   "metadata": {
    "deletable": false,
    "editable": false,
    "id": "6db5255a"
   },
   "source": [
    "### Шаг 4: общий вывод."
   ]
  },
  {
   "cell_type": "markdown",
   "id": "53d4e0d1",
   "metadata": {
    "deletable": false,
    "id": "bad65432"
   },
   "source": [
    "**В ходе исследования был произведен анализ данных о заемщиках и выявлены следующие закономерности:**\n",
    "- Заемщики с 1-2 детьми чаще имеют задолжнности, по сравнению с заемщиками без детей.\n",
    "- Клиенты, состоящие или состоявшие в браке, реже допускают просрочки.\n",
    "- Люди со средним уровнем дохода имеют склонность к задолжнностям больше, чем остальные.\n",
    "- Кредиты, выданные на автомобиль или образования, являются самыми рисковыми для банка, а кредиты, взятые на недвижимость или свадьбу, имеют меньший процент должников. "
   ]
  }
 ],
 "metadata": {
  "ExecuteTimeLog": [
   {
    "duration": 47,
    "start_time": "2024-09-06T03:20:11.277Z"
   },
   {
    "duration": 567,
    "start_time": "2024-09-06T03:20:18.711Z"
   },
   {
    "duration": 22,
    "start_time": "2024-09-06T03:20:19.280Z"
   },
   {
    "duration": 18,
    "start_time": "2024-09-06T03:20:19.303Z"
   },
   {
    "duration": 11,
    "start_time": "2024-09-06T03:20:19.323Z"
   },
   {
    "duration": 44,
    "start_time": "2024-09-06T03:20:19.335Z"
   },
   {
    "duration": 3,
    "start_time": "2024-09-06T03:20:19.381Z"
   },
   {
    "duration": 15,
    "start_time": "2024-09-06T03:20:19.385Z"
   },
   {
    "duration": 4,
    "start_time": "2024-09-06T03:20:19.401Z"
   },
   {
    "duration": 31,
    "start_time": "2024-09-06T03:20:19.407Z"
   },
   {
    "duration": 5,
    "start_time": "2024-09-06T03:20:19.440Z"
   },
   {
    "duration": 45,
    "start_time": "2024-09-06T03:20:19.446Z"
   },
   {
    "duration": 10,
    "start_time": "2024-09-06T03:20:19.492Z"
   },
   {
    "duration": 4,
    "start_time": "2024-09-06T03:20:19.503Z"
   },
   {
    "duration": 13,
    "start_time": "2024-09-06T03:20:19.509Z"
   },
   {
    "duration": 31,
    "start_time": "2024-09-06T03:20:19.523Z"
   },
   {
    "duration": 17,
    "start_time": "2024-09-06T03:20:19.556Z"
   },
   {
    "duration": 47,
    "start_time": "2024-09-06T03:20:19.574Z"
   },
   {
    "duration": 12,
    "start_time": "2024-09-06T03:20:19.622Z"
   },
   {
    "duration": 16,
    "start_time": "2024-09-06T03:20:19.635Z"
   },
   {
    "duration": 3,
    "start_time": "2024-09-06T03:20:19.653Z"
   },
   {
    "duration": 15,
    "start_time": "2024-09-06T03:20:19.658Z"
   },
   {
    "duration": 16,
    "start_time": "2024-09-06T03:20:19.675Z"
   },
   {
    "duration": 3,
    "start_time": "2024-09-06T03:20:19.693Z"
   },
   {
    "duration": 10,
    "start_time": "2024-09-06T03:20:19.697Z"
   },
   {
    "duration": 3,
    "start_time": "2024-09-06T03:20:19.709Z"
   },
   {
    "duration": 7,
    "start_time": "2024-09-06T03:21:06.143Z"
   },
   {
    "duration": 6,
    "start_time": "2024-09-06T03:21:53.205Z"
   },
   {
    "duration": 10,
    "start_time": "2024-09-06T03:22:25.618Z"
   },
   {
    "duration": 6,
    "start_time": "2024-09-06T03:22:36.372Z"
   },
   {
    "duration": 7,
    "start_time": "2024-09-06T03:22:42.826Z"
   },
   {
    "duration": 6,
    "start_time": "2024-09-06T03:22:50.614Z"
   },
   {
    "duration": 4,
    "start_time": "2024-09-06T03:22:57.072Z"
   },
   {
    "duration": 6,
    "start_time": "2024-09-06T03:23:02.483Z"
   },
   {
    "duration": 8,
    "start_time": "2024-09-06T03:23:11.492Z"
   },
   {
    "duration": 6,
    "start_time": "2024-09-06T03:23:17.838Z"
   },
   {
    "duration": 6,
    "start_time": "2024-09-06T03:23:30.976Z"
   },
   {
    "duration": 48,
    "start_time": "2024-09-07T00:28:38.956Z"
   },
   {
    "duration": 743,
    "start_time": "2024-09-07T00:28:44.395Z"
   },
   {
    "duration": 23,
    "start_time": "2024-09-07T00:28:45.140Z"
   },
   {
    "duration": 55,
    "start_time": "2024-09-07T00:28:45.164Z"
   },
   {
    "duration": 11,
    "start_time": "2024-09-07T00:28:45.221Z"
   },
   {
    "duration": 37,
    "start_time": "2024-09-07T00:28:45.233Z"
   },
   {
    "duration": 4,
    "start_time": "2024-09-07T00:28:45.277Z"
   },
   {
    "duration": 9,
    "start_time": "2024-09-07T00:28:45.339Z"
   },
   {
    "duration": 7,
    "start_time": "2024-09-07T00:28:45.441Z"
   },
   {
    "duration": 7,
    "start_time": "2024-09-07T00:28:45.497Z"
   },
   {
    "duration": 4,
    "start_time": "2024-09-07T00:28:45.567Z"
   },
   {
    "duration": 36,
    "start_time": "2024-09-07T00:28:45.654Z"
   },
   {
    "duration": 11,
    "start_time": "2024-09-07T00:28:45.716Z"
   },
   {
    "duration": 3,
    "start_time": "2024-09-07T00:28:45.812Z"
   },
   {
    "duration": 12,
    "start_time": "2024-09-07T00:28:47.632Z"
   },
   {
    "duration": 20,
    "start_time": "2024-09-07T00:28:48.139Z"
   },
   {
    "duration": 18,
    "start_time": "2024-09-07T00:28:48.339Z"
   },
   {
    "duration": 4,
    "start_time": "2024-09-07T00:28:48.974Z"
   },
   {
    "duration": 11,
    "start_time": "2024-09-07T00:28:49.254Z"
   },
   {
    "duration": 5,
    "start_time": "2024-09-07T00:28:51.054Z"
   },
   {
    "duration": 4,
    "start_time": "2024-09-07T00:28:52.089Z"
   },
   {
    "duration": 9,
    "start_time": "2024-09-07T00:28:52.331Z"
   },
   {
    "duration": 36,
    "start_time": "2024-09-07T00:28:53.649Z"
   },
   {
    "duration": 12,
    "start_time": "2024-09-07T00:29:19.449Z"
   },
   {
    "duration": 6,
    "start_time": "2024-09-07T00:29:35.397Z"
   },
   {
    "duration": 65,
    "start_time": "2024-09-07T00:29:45.807Z"
   },
   {
    "duration": 7,
    "start_time": "2024-09-07T00:29:49.602Z"
   },
   {
    "duration": 12,
    "start_time": "2024-09-07T00:30:32.156Z"
   },
   {
    "duration": 8,
    "start_time": "2024-09-07T00:30:49.145Z"
   },
   {
    "duration": 77,
    "start_time": "2024-09-07T00:31:22.146Z"
   },
   {
    "duration": 66,
    "start_time": "2024-09-07T00:31:24.537Z"
   },
   {
    "duration": 8,
    "start_time": "2024-09-07T00:31:44.423Z"
   },
   {
    "duration": 5,
    "start_time": "2024-09-07T00:35:21.582Z"
   },
   {
    "duration": 7,
    "start_time": "2024-09-07T00:35:28.589Z"
   },
   {
    "duration": 549,
    "start_time": "2024-09-07T00:35:35.203Z"
   },
   {
    "duration": 10,
    "start_time": "2024-09-07T00:35:54.391Z"
   },
   {
    "duration": 6,
    "start_time": "2024-09-07T00:35:59.898Z"
   },
   {
    "duration": 6,
    "start_time": "2024-09-07T00:36:10.246Z"
   },
   {
    "duration": 8,
    "start_time": "2024-09-07T00:38:04.840Z"
   },
   {
    "duration": 6,
    "start_time": "2024-09-07T00:38:14.123Z"
   },
   {
    "duration": 5,
    "start_time": "2024-09-07T00:38:18.572Z"
   },
   {
    "duration": 11,
    "start_time": "2024-09-07T00:39:06.946Z"
   },
   {
    "duration": 5,
    "start_time": "2024-09-07T00:39:29.185Z"
   },
   {
    "duration": 12,
    "start_time": "2024-09-07T00:41:29.131Z"
   },
   {
    "duration": 13,
    "start_time": "2024-09-07T00:41:37.013Z"
   },
   {
    "duration": 12,
    "start_time": "2024-09-07T00:43:10.987Z"
   },
   {
    "duration": 12,
    "start_time": "2024-09-07T00:43:44.512Z"
   },
   {
    "duration": 13,
    "start_time": "2024-09-07T00:44:26.687Z"
   },
   {
    "duration": 12,
    "start_time": "2024-09-07T00:45:08.995Z"
   },
   {
    "duration": 14,
    "start_time": "2024-09-07T00:45:44.538Z"
   },
   {
    "duration": 80,
    "start_time": "2024-09-07T00:46:03.066Z"
   },
   {
    "duration": 12,
    "start_time": "2024-09-07T00:46:32.944Z"
   },
   {
    "duration": 19,
    "start_time": "2024-09-07T00:49:04.830Z"
   },
   {
    "duration": 15,
    "start_time": "2024-09-07T00:50:59.814Z"
   },
   {
    "duration": 756,
    "start_time": "2024-09-07T00:51:26.074Z"
   },
   {
    "duration": 672,
    "start_time": "2024-09-07T00:51:43.371Z"
   },
   {
    "duration": 743,
    "start_time": "2024-09-07T00:51:59.831Z"
   },
   {
    "duration": 75,
    "start_time": "2024-09-07T00:52:27.735Z"
   },
   {
    "duration": 16,
    "start_time": "2024-09-07T00:52:27.812Z"
   },
   {
    "duration": 27,
    "start_time": "2024-09-07T00:52:27.829Z"
   },
   {
    "duration": 15,
    "start_time": "2024-09-07T00:52:27.858Z"
   },
   {
    "duration": 43,
    "start_time": "2024-09-07T00:52:27.876Z"
   },
   {
    "duration": 4,
    "start_time": "2024-09-07T00:52:27.920Z"
   },
   {
    "duration": 20,
    "start_time": "2024-09-07T00:52:27.926Z"
   },
   {
    "duration": 13,
    "start_time": "2024-09-07T00:52:27.947Z"
   },
   {
    "duration": 8,
    "start_time": "2024-09-07T00:52:27.962Z"
   },
   {
    "duration": 5,
    "start_time": "2024-09-07T00:52:27.972Z"
   },
   {
    "duration": 161,
    "start_time": "2024-09-07T00:52:27.978Z"
   },
   {
    "duration": 12,
    "start_time": "2024-09-07T00:52:28.141Z"
   },
   {
    "duration": 76,
    "start_time": "2024-09-07T00:52:28.154Z"
   },
   {
    "duration": 16,
    "start_time": "2024-09-07T00:52:28.235Z"
   },
   {
    "duration": 24,
    "start_time": "2024-09-07T00:52:28.253Z"
   },
   {
    "duration": 18,
    "start_time": "2024-09-07T00:52:28.279Z"
   },
   {
    "duration": 5,
    "start_time": "2024-09-07T00:52:28.299Z"
   },
   {
    "duration": 18,
    "start_time": "2024-09-07T00:52:28.305Z"
   },
   {
    "duration": 14,
    "start_time": "2024-09-07T00:52:28.325Z"
   },
   {
    "duration": 13,
    "start_time": "2024-09-07T00:52:28.341Z"
   },
   {
    "duration": 14,
    "start_time": "2024-09-07T00:52:28.355Z"
   },
   {
    "duration": 23,
    "start_time": "2024-09-07T00:52:28.371Z"
   },
   {
    "duration": 486,
    "start_time": "2024-09-07T00:52:57.817Z"
   },
   {
    "duration": 22,
    "start_time": "2024-09-07T00:52:59.325Z"
   },
   {
    "duration": 15,
    "start_time": "2024-09-07T00:52:59.866Z"
   },
   {
    "duration": 11,
    "start_time": "2024-09-07T00:52:59.995Z"
   },
   {
    "duration": 120,
    "start_time": "2024-09-07T00:53:00.049Z"
   },
   {
    "duration": 57,
    "start_time": "2024-09-07T00:53:00.171Z"
   },
   {
    "duration": 38,
    "start_time": "2024-09-07T00:53:00.230Z"
   },
   {
    "duration": 4,
    "start_time": "2024-09-07T00:53:01.176Z"
   },
   {
    "duration": 6,
    "start_time": "2024-09-07T00:53:01.754Z"
   },
   {
    "duration": 5,
    "start_time": "2024-09-07T00:53:02.502Z"
   },
   {
    "duration": 37,
    "start_time": "2024-09-07T00:53:02.594Z"
   },
   {
    "duration": 10,
    "start_time": "2024-09-07T00:53:03.962Z"
   },
   {
    "duration": 4,
    "start_time": "2024-09-07T00:53:04.659Z"
   },
   {
    "duration": 16,
    "start_time": "2024-09-07T00:53:05.330Z"
   },
   {
    "duration": 22,
    "start_time": "2024-09-07T00:53:05.756Z"
   },
   {
    "duration": 17,
    "start_time": "2024-09-07T00:53:05.992Z"
   },
   {
    "duration": 4,
    "start_time": "2024-09-07T00:53:06.654Z"
   },
   {
    "duration": 11,
    "start_time": "2024-09-07T00:53:06.851Z"
   },
   {
    "duration": 6,
    "start_time": "2024-09-07T00:53:07.285Z"
   },
   {
    "duration": 5,
    "start_time": "2024-09-07T00:53:07.729Z"
   },
   {
    "duration": 9,
    "start_time": "2024-09-07T00:53:07.937Z"
   },
   {
    "duration": 19,
    "start_time": "2024-09-07T00:53:10.193Z"
   },
   {
    "duration": 754,
    "start_time": "2024-09-07T00:53:12.873Z"
   },
   {
    "duration": 716,
    "start_time": "2024-09-07T00:53:47.575Z"
   },
   {
    "duration": 18,
    "start_time": "2024-09-07T00:54:05.279Z"
   },
   {
    "duration": 5,
    "start_time": "2024-09-07T00:54:56.085Z"
   },
   {
    "duration": 8,
    "start_time": "2024-09-07T00:55:04.421Z"
   },
   {
    "duration": 17,
    "start_time": "2024-09-07T01:00:09.210Z"
   },
   {
    "duration": 18,
    "start_time": "2024-09-07T01:02:47.668Z"
   },
   {
    "duration": 44,
    "start_time": "2024-09-07T01:02:51.617Z"
   },
   {
    "duration": 22,
    "start_time": "2024-09-07T01:03:38.607Z"
   },
   {
    "duration": 25,
    "start_time": "2024-09-07T01:05:43.714Z"
   },
   {
    "duration": 25,
    "start_time": "2024-09-07T01:06:26.533Z"
   },
   {
    "duration": 26,
    "start_time": "2024-09-07T01:08:04.319Z"
   },
   {
    "duration": 17,
    "start_time": "2024-09-07T01:09:06.417Z"
   },
   {
    "duration": 13,
    "start_time": "2024-09-07T01:09:34.574Z"
   },
   {
    "duration": 25,
    "start_time": "2024-09-07T01:10:19.567Z"
   },
   {
    "duration": 15,
    "start_time": "2024-09-07T01:11:10.743Z"
   },
   {
    "duration": 502,
    "start_time": "2024-09-07T01:11:21.394Z"
   },
   {
    "duration": 27,
    "start_time": "2024-09-07T01:11:21.898Z"
   },
   {
    "duration": 16,
    "start_time": "2024-09-07T01:11:21.927Z"
   },
   {
    "duration": 18,
    "start_time": "2024-09-07T01:11:21.945Z"
   },
   {
    "duration": 49,
    "start_time": "2024-09-07T01:11:21.965Z"
   },
   {
    "duration": 3,
    "start_time": "2024-09-07T01:11:22.016Z"
   },
   {
    "duration": 12,
    "start_time": "2024-09-07T01:11:22.021Z"
   },
   {
    "duration": 4,
    "start_time": "2024-09-07T01:11:22.034Z"
   },
   {
    "duration": 9,
    "start_time": "2024-09-07T01:11:22.040Z"
   },
   {
    "duration": 4,
    "start_time": "2024-09-07T01:11:22.051Z"
   },
   {
    "duration": 63,
    "start_time": "2024-09-07T01:11:22.057Z"
   },
   {
    "duration": 20,
    "start_time": "2024-09-07T01:11:22.122Z"
   },
   {
    "duration": 65,
    "start_time": "2024-09-07T01:11:22.144Z"
   },
   {
    "duration": 15,
    "start_time": "2024-09-07T01:11:22.212Z"
   },
   {
    "duration": 20,
    "start_time": "2024-09-07T01:11:22.228Z"
   },
   {
    "duration": 16,
    "start_time": "2024-09-07T01:11:22.250Z"
   },
   {
    "duration": 60,
    "start_time": "2024-09-07T01:11:22.268Z"
   },
   {
    "duration": 18,
    "start_time": "2024-09-07T01:11:22.329Z"
   },
   {
    "duration": 21,
    "start_time": "2024-09-07T01:11:22.348Z"
   },
   {
    "duration": 4,
    "start_time": "2024-09-07T01:11:22.370Z"
   },
   {
    "duration": 11,
    "start_time": "2024-09-07T01:11:22.375Z"
   },
   {
    "duration": 20,
    "start_time": "2024-09-07T01:11:22.388Z"
   },
   {
    "duration": 13,
    "start_time": "2024-09-07T01:11:22.410Z"
   },
   {
    "duration": 25,
    "start_time": "2024-09-07T01:11:22.425Z"
   },
   {
    "duration": 14,
    "start_time": "2024-09-07T01:11:22.452Z"
   },
   {
    "duration": 14,
    "start_time": "2024-09-07T01:26:20.165Z"
   },
   {
    "duration": 15,
    "start_time": "2024-09-07T01:26:34.276Z"
   },
   {
    "duration": 25,
    "start_time": "2024-09-07T01:33:50.669Z"
   },
   {
    "duration": 28,
    "start_time": "2024-09-07T01:34:09.160Z"
   },
   {
    "duration": 38,
    "start_time": "2024-09-07T01:34:15.347Z"
   },
   {
    "duration": 24,
    "start_time": "2024-09-07T01:34:47.632Z"
   },
   {
    "duration": 25,
    "start_time": "2024-09-07T01:34:52.804Z"
   },
   {
    "duration": 25,
    "start_time": "2024-09-07T01:35:11.643Z"
   },
   {
    "duration": 24,
    "start_time": "2024-09-07T01:35:17.823Z"
   },
   {
    "duration": 26,
    "start_time": "2024-09-07T01:35:31.963Z"
   },
   {
    "duration": 25,
    "start_time": "2024-09-07T01:35:49.079Z"
   },
   {
    "duration": 25,
    "start_time": "2024-09-07T01:35:54.586Z"
   },
   {
    "duration": 25,
    "start_time": "2024-09-07T01:36:03.161Z"
   },
   {
    "duration": 26,
    "start_time": "2024-09-07T01:36:21.325Z"
   },
   {
    "duration": 25,
    "start_time": "2024-09-07T01:36:40.458Z"
   },
   {
    "duration": 26,
    "start_time": "2024-09-07T01:36:47.484Z"
   },
   {
    "duration": 26,
    "start_time": "2024-09-07T01:36:52.072Z"
   },
   {
    "duration": 26,
    "start_time": "2024-09-07T01:36:56.226Z"
   },
   {
    "duration": 28,
    "start_time": "2024-09-07T01:37:01.675Z"
   },
   {
    "duration": 26,
    "start_time": "2024-09-07T01:37:08.730Z"
   },
   {
    "duration": 26,
    "start_time": "2024-09-07T01:37:14.912Z"
   },
   {
    "duration": 36,
    "start_time": "2024-09-07T01:37:25.445Z"
   },
   {
    "duration": 25,
    "start_time": "2024-09-07T01:40:11.487Z"
   },
   {
    "duration": 24,
    "start_time": "2024-09-07T01:47:18.417Z"
   },
   {
    "duration": 25,
    "start_time": "2024-09-07T01:47:24.279Z"
   },
   {
    "duration": 25,
    "start_time": "2024-09-07T01:47:28.280Z"
   },
   {
    "duration": 26,
    "start_time": "2024-09-07T01:47:31.228Z"
   },
   {
    "duration": 25,
    "start_time": "2024-09-07T01:47:36.464Z"
   },
   {
    "duration": 25,
    "start_time": "2024-09-07T01:47:39.849Z"
   },
   {
    "duration": 27,
    "start_time": "2024-09-07T01:47:45.090Z"
   },
   {
    "duration": 24,
    "start_time": "2024-09-07T01:47:59.468Z"
   },
   {
    "duration": 538,
    "start_time": "2024-09-07T05:38:29.092Z"
   },
   {
    "duration": 23,
    "start_time": "2024-09-07T05:38:29.632Z"
   },
   {
    "duration": 21,
    "start_time": "2024-09-07T05:38:29.659Z"
   },
   {
    "duration": 12,
    "start_time": "2024-09-07T05:38:29.682Z"
   },
   {
    "duration": 38,
    "start_time": "2024-09-07T05:38:29.696Z"
   },
   {
    "duration": 4,
    "start_time": "2024-09-07T05:38:29.736Z"
   },
   {
    "duration": 48,
    "start_time": "2024-09-07T05:38:29.742Z"
   },
   {
    "duration": 7,
    "start_time": "2024-09-07T05:38:29.793Z"
   },
   {
    "duration": 18,
    "start_time": "2024-09-07T05:38:29.802Z"
   },
   {
    "duration": 28,
    "start_time": "2024-09-07T05:38:29.821Z"
   },
   {
    "duration": 70,
    "start_time": "2024-09-07T05:38:29.851Z"
   },
   {
    "duration": 11,
    "start_time": "2024-09-07T05:38:29.922Z"
   },
   {
    "duration": 5,
    "start_time": "2024-09-07T05:38:29.935Z"
   },
   {
    "duration": 23,
    "start_time": "2024-09-07T05:38:29.942Z"
   },
   {
    "duration": 34,
    "start_time": "2024-09-07T05:38:29.970Z"
   },
   {
    "duration": 25,
    "start_time": "2024-09-07T05:38:30.006Z"
   },
   {
    "duration": 16,
    "start_time": "2024-09-07T05:38:30.033Z"
   },
   {
    "duration": 40,
    "start_time": "2024-09-07T05:38:30.051Z"
   },
   {
    "duration": 19,
    "start_time": "2024-09-07T05:38:30.093Z"
   },
   {
    "duration": 11,
    "start_time": "2024-09-07T05:38:30.114Z"
   },
   {
    "duration": 51,
    "start_time": "2024-09-07T05:38:30.127Z"
   },
   {
    "duration": 33,
    "start_time": "2024-09-07T05:38:30.182Z"
   },
   {
    "duration": 63,
    "start_time": "2024-09-07T05:38:30.216Z"
   },
   {
    "duration": 26,
    "start_time": "2024-09-07T05:38:30.283Z"
   },
   {
    "duration": 32,
    "start_time": "2024-09-07T05:38:30.311Z"
   },
   {
    "duration": 12,
    "start_time": "2024-09-07T05:40:30.500Z"
   },
   {
    "duration": 709,
    "start_time": "2024-09-07T08:21:30.961Z"
   },
   {
    "duration": 20,
    "start_time": "2024-09-07T08:21:31.672Z"
   },
   {
    "duration": 14,
    "start_time": "2024-09-07T08:21:31.694Z"
   },
   {
    "duration": 21,
    "start_time": "2024-09-07T08:21:31.709Z"
   },
   {
    "duration": 35,
    "start_time": "2024-09-07T08:21:31.732Z"
   },
   {
    "duration": 3,
    "start_time": "2024-09-07T08:21:31.769Z"
   },
   {
    "duration": 17,
    "start_time": "2024-09-07T08:21:31.773Z"
   },
   {
    "duration": 23,
    "start_time": "2024-09-07T08:21:31.792Z"
   },
   {
    "duration": 31,
    "start_time": "2024-09-07T08:21:31.816Z"
   },
   {
    "duration": 23,
    "start_time": "2024-09-07T08:21:31.848Z"
   },
   {
    "duration": 35,
    "start_time": "2024-09-07T08:21:31.872Z"
   },
   {
    "duration": 9,
    "start_time": "2024-09-07T08:21:31.908Z"
   },
   {
    "duration": 13,
    "start_time": "2024-09-07T08:21:31.918Z"
   },
   {
    "duration": 18,
    "start_time": "2024-09-07T08:21:31.933Z"
   },
   {
    "duration": 69,
    "start_time": "2024-09-07T08:21:31.952Z"
   },
   {
    "duration": 14,
    "start_time": "2024-09-07T08:21:32.023Z"
   },
   {
    "duration": 3,
    "start_time": "2024-09-07T08:21:32.038Z"
   },
   {
    "duration": 11,
    "start_time": "2024-09-07T08:21:32.042Z"
   },
   {
    "duration": 30,
    "start_time": "2024-09-07T08:21:32.054Z"
   },
   {
    "duration": 18,
    "start_time": "2024-09-07T08:21:32.085Z"
   },
   {
    "duration": 11,
    "start_time": "2024-09-07T08:21:32.105Z"
   },
   {
    "duration": 21,
    "start_time": "2024-09-07T08:21:32.118Z"
   },
   {
    "duration": 10,
    "start_time": "2024-09-07T08:21:32.141Z"
   },
   {
    "duration": 14,
    "start_time": "2024-09-07T08:21:32.152Z"
   },
   {
    "duration": 31,
    "start_time": "2024-09-07T08:21:32.167Z"
   },
   {
    "duration": 12,
    "start_time": "2024-09-07T08:21:32.199Z"
   },
   {
    "duration": 459,
    "start_time": "2024-09-07T08:22:04.797Z"
   },
   {
    "duration": 19,
    "start_time": "2024-09-07T08:22:05.258Z"
   },
   {
    "duration": 27,
    "start_time": "2024-09-07T08:22:05.278Z"
   },
   {
    "duration": 26,
    "start_time": "2024-09-07T08:22:05.306Z"
   },
   {
    "duration": 33,
    "start_time": "2024-09-07T08:22:05.333Z"
   },
   {
    "duration": 3,
    "start_time": "2024-09-07T08:22:05.367Z"
   },
   {
    "duration": 14,
    "start_time": "2024-09-07T08:22:05.372Z"
   },
   {
    "duration": 8,
    "start_time": "2024-09-07T08:22:05.387Z"
   },
   {
    "duration": 9,
    "start_time": "2024-09-07T08:22:05.396Z"
   },
   {
    "duration": 5,
    "start_time": "2024-09-07T08:22:05.407Z"
   },
   {
    "duration": 33,
    "start_time": "2024-09-07T08:22:05.413Z"
   },
   {
    "duration": 9,
    "start_time": "2024-09-07T08:22:05.448Z"
   },
   {
    "duration": 30,
    "start_time": "2024-09-07T08:22:05.459Z"
   },
   {
    "duration": 25,
    "start_time": "2024-09-07T08:22:05.491Z"
   },
   {
    "duration": 38,
    "start_time": "2024-09-07T08:22:05.517Z"
   },
   {
    "duration": 15,
    "start_time": "2024-09-07T08:22:05.556Z"
   },
   {
    "duration": 3,
    "start_time": "2024-09-07T08:22:05.573Z"
   },
   {
    "duration": 17,
    "start_time": "2024-09-07T08:22:05.577Z"
   },
   {
    "duration": 5,
    "start_time": "2024-09-07T08:22:05.595Z"
   },
   {
    "duration": 3,
    "start_time": "2024-09-07T08:22:05.602Z"
   },
   {
    "duration": 11,
    "start_time": "2024-09-07T08:22:05.606Z"
   },
   {
    "duration": 22,
    "start_time": "2024-09-07T08:22:05.618Z"
   },
   {
    "duration": 12,
    "start_time": "2024-09-07T08:22:05.642Z"
   },
   {
    "duration": 38,
    "start_time": "2024-09-07T08:22:05.656Z"
   },
   {
    "duration": 22,
    "start_time": "2024-09-07T08:22:05.695Z"
   },
   {
    "duration": 12,
    "start_time": "2024-09-07T08:22:05.719Z"
   },
   {
    "duration": 13,
    "start_time": "2024-09-07T08:27:25.281Z"
   },
   {
    "duration": 13,
    "start_time": "2024-09-07T08:29:16.573Z"
   },
   {
    "duration": 14,
    "start_time": "2024-09-07T08:29:24.448Z"
   },
   {
    "duration": 14,
    "start_time": "2024-09-07T08:30:27.832Z"
   },
   {
    "duration": 13,
    "start_time": "2024-09-07T08:30:47.269Z"
   },
   {
    "duration": 723,
    "start_time": "2024-09-07T08:31:37.333Z"
   },
   {
    "duration": 652,
    "start_time": "2024-09-07T08:32:00.142Z"
   },
   {
    "duration": 643,
    "start_time": "2024-09-07T08:32:10.094Z"
   },
   {
    "duration": 13,
    "start_time": "2024-09-07T08:32:15.594Z"
   },
   {
    "duration": 13,
    "start_time": "2024-09-07T08:32:24.063Z"
   },
   {
    "duration": 12,
    "start_time": "2024-09-07T08:34:06.956Z"
   },
   {
    "duration": 16,
    "start_time": "2024-09-07T08:34:20.038Z"
   },
   {
    "duration": 73,
    "start_time": "2024-09-07T08:34:41.861Z"
   },
   {
    "duration": 15,
    "start_time": "2024-09-07T08:34:41.935Z"
   },
   {
    "duration": 14,
    "start_time": "2024-09-07T08:34:41.951Z"
   },
   {
    "duration": 26,
    "start_time": "2024-09-07T08:34:41.967Z"
   },
   {
    "duration": 54,
    "start_time": "2024-09-07T08:34:41.995Z"
   },
   {
    "duration": 4,
    "start_time": "2024-09-07T08:34:42.050Z"
   },
   {
    "duration": 7,
    "start_time": "2024-09-07T08:34:42.056Z"
   },
   {
    "duration": 4,
    "start_time": "2024-09-07T08:34:42.065Z"
   },
   {
    "duration": 28,
    "start_time": "2024-09-07T08:34:42.071Z"
   },
   {
    "duration": 15,
    "start_time": "2024-09-07T08:34:42.101Z"
   },
   {
    "duration": 44,
    "start_time": "2024-09-07T08:34:42.119Z"
   },
   {
    "duration": 9,
    "start_time": "2024-09-07T08:34:42.165Z"
   },
   {
    "duration": 3,
    "start_time": "2024-09-07T08:34:42.175Z"
   },
   {
    "duration": 15,
    "start_time": "2024-09-07T08:34:42.179Z"
   },
   {
    "duration": 33,
    "start_time": "2024-09-07T08:34:42.195Z"
   },
   {
    "duration": 16,
    "start_time": "2024-09-07T08:34:42.230Z"
   },
   {
    "duration": 3,
    "start_time": "2024-09-07T08:34:42.247Z"
   },
   {
    "duration": 22,
    "start_time": "2024-09-07T08:34:42.252Z"
   },
   {
    "duration": 9,
    "start_time": "2024-09-07T08:34:42.275Z"
   },
   {
    "duration": 7,
    "start_time": "2024-09-07T08:34:42.285Z"
   },
   {
    "duration": 45,
    "start_time": "2024-09-07T08:34:42.294Z"
   },
   {
    "duration": 19,
    "start_time": "2024-09-07T08:34:42.341Z"
   },
   {
    "duration": 9,
    "start_time": "2024-09-07T08:34:42.362Z"
   },
   {
    "duration": 13,
    "start_time": "2024-09-07T08:34:42.372Z"
   },
   {
    "duration": 16,
    "start_time": "2024-09-07T08:34:45.801Z"
   },
   {
    "duration": 50,
    "start_time": "2024-09-07T08:37:18.872Z"
   },
   {
    "duration": 56,
    "start_time": "2024-09-07T08:37:21.117Z"
   },
   {
    "duration": 62,
    "start_time": "2024-09-07T08:38:15.151Z"
   },
   {
    "duration": 47,
    "start_time": "2024-09-07T08:38:22.631Z"
   },
   {
    "duration": 15,
    "start_time": "2024-09-07T08:40:49.735Z"
   },
   {
    "duration": 15,
    "start_time": "2024-09-07T08:41:05.702Z"
   },
   {
    "duration": 16,
    "start_time": "2024-09-07T08:41:20.546Z"
   },
   {
    "duration": 14,
    "start_time": "2024-09-07T08:41:24.735Z"
   },
   {
    "duration": 12,
    "start_time": "2024-09-07T08:59:34.212Z"
   },
   {
    "duration": 13,
    "start_time": "2024-09-07T08:59:53.001Z"
   },
   {
    "duration": 12,
    "start_time": "2024-09-07T08:59:59.185Z"
   },
   {
    "duration": 12,
    "start_time": "2024-09-07T09:00:21.749Z"
   },
   {
    "duration": 15,
    "start_time": "2024-09-07T09:00:46.754Z"
   },
   {
    "duration": 14,
    "start_time": "2024-09-07T09:00:57.436Z"
   },
   {
    "duration": 13,
    "start_time": "2024-09-07T09:01:25.604Z"
   },
   {
    "duration": 587,
    "start_time": "2024-09-08T05:12:00.119Z"
   },
   {
    "duration": 22,
    "start_time": "2024-09-08T05:12:00.708Z"
   },
   {
    "duration": 32,
    "start_time": "2024-09-08T05:12:00.731Z"
   },
   {
    "duration": 45,
    "start_time": "2024-09-08T05:12:00.766Z"
   },
   {
    "duration": 49,
    "start_time": "2024-09-08T05:12:00.813Z"
   },
   {
    "duration": 4,
    "start_time": "2024-09-08T05:12:00.864Z"
   },
   {
    "duration": 27,
    "start_time": "2024-09-08T05:12:00.869Z"
   },
   {
    "duration": 6,
    "start_time": "2024-09-08T05:12:00.898Z"
   },
   {
    "duration": 8,
    "start_time": "2024-09-08T05:12:00.905Z"
   },
   {
    "duration": 5,
    "start_time": "2024-09-08T05:12:00.917Z"
   },
   {
    "duration": 39,
    "start_time": "2024-09-08T05:12:00.923Z"
   },
   {
    "duration": 12,
    "start_time": "2024-09-08T05:12:00.964Z"
   },
   {
    "duration": 11,
    "start_time": "2024-09-08T05:12:00.978Z"
   },
   {
    "duration": 29,
    "start_time": "2024-09-08T05:12:00.991Z"
   },
   {
    "duration": 30,
    "start_time": "2024-09-08T05:12:01.022Z"
   },
   {
    "duration": 17,
    "start_time": "2024-09-08T05:12:01.055Z"
   },
   {
    "duration": 4,
    "start_time": "2024-09-08T05:12:01.074Z"
   },
   {
    "duration": 16,
    "start_time": "2024-09-08T05:12:01.079Z"
   },
   {
    "duration": 9,
    "start_time": "2024-09-08T05:12:01.096Z"
   },
   {
    "duration": 16,
    "start_time": "2024-09-08T05:12:01.106Z"
   },
   {
    "duration": 42,
    "start_time": "2024-09-08T05:12:01.123Z"
   },
   {
    "duration": 27,
    "start_time": "2024-09-08T05:12:01.167Z"
   },
   {
    "duration": 10,
    "start_time": "2024-09-08T05:12:01.195Z"
   },
   {
    "duration": 15,
    "start_time": "2024-09-08T05:12:01.206Z"
   },
   {
    "duration": 15,
    "start_time": "2024-09-08T05:12:01.223Z"
   },
   {
    "duration": 46,
    "start_time": "2024-09-08T05:12:01.239Z"
   },
   {
    "duration": 75,
    "start_time": "2024-09-17T22:50:02.160Z"
   },
   {
    "duration": 63,
    "start_time": "2024-09-17T22:50:07.638Z"
   },
   {
    "duration": 75,
    "start_time": "2024-09-17T22:50:20.108Z"
   },
   {
    "duration": 74,
    "start_time": "2024-09-17T22:50:26.550Z"
   },
   {
    "duration": 67,
    "start_time": "2024-09-17T22:50:32.808Z"
   },
   {
    "duration": 65,
    "start_time": "2024-09-17T22:51:02.490Z"
   },
   {
    "duration": 59,
    "start_time": "2024-09-17T22:51:35.043Z"
   }
  ],
  "colab": {
   "name": "dpp_template_part2.ipynb",
   "provenance": []
  },
  "kernelspec": {
   "display_name": ".venv",
   "language": "python",
   "name": "python3"
  },
  "language_info": {
   "codemirror_mode": {
    "name": "ipython",
    "version": 3
   },
   "file_extension": ".py",
   "mimetype": "text/x-python",
   "name": "python",
   "nbconvert_exporter": "python",
   "pygments_lexer": "ipython3",
   "version": "3.11.9"
  },
  "toc": {
   "base_numbering": 1,
   "nav_menu": {},
   "number_sections": true,
   "sideBar": true,
   "skip_h1_title": true,
   "title_cell": "Table of Contents",
   "title_sidebar": "Contents",
   "toc_cell": false,
   "toc_position": {},
   "toc_section_display": true,
   "toc_window_display": true
  }
 },
 "nbformat": 4,
 "nbformat_minor": 5
}
