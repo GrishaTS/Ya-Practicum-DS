{
 "cells": [
  {
   "cell_type": "code",
   "execution_count": 3,
   "metadata": {},
   "outputs": [
    {
     "name": "stdout",
     "output_type": "stream",
     "text": [
      "✅ Файлы переименованы: '.jpg_face' удалено из имён.\n"
     ]
    }
   ],
   "source": [
    "import os\n",
    "\n",
    "# Папка с файлами\n",
    "folder = 'faces/final_files'\n",
    "\n",
    "# Проходим по всем файлам в папке\n",
    "for filename in os.listdir(folder):\n",
    "    if '.jpg_face' in filename:\n",
    "        new_name = filename.replace('.jpg_face', '')\n",
    "        src = os.path.join(folder, filename)\n",
    "        dst = os.path.join(folder, new_name)\n",
    "        os.rename(src, dst)\n",
    "\n",
    "print(\"✅ Файлы переименованы: '.jpg_face' удалено из имён.\")\n"
   ]
  },
  {
   "cell_type": "code",
   "execution_count": null,
   "metadata": {},
   "outputs": [],
   "source": []
  }
 ],
 "metadata": {
  "kernelspec": {
   "display_name": ".venv",
   "language": "python",
   "name": "python3"
  },
  "language_info": {
   "codemirror_mode": {
    "name": "ipython",
    "version": 3
   },
   "file_extension": ".py",
   "mimetype": "text/x-python",
   "name": "python",
   "nbconvert_exporter": "python",
   "pygments_lexer": "ipython3",
   "version": "3.11.9"
  }
 },
 "nbformat": 4,
 "nbformat_minor": 2
}
